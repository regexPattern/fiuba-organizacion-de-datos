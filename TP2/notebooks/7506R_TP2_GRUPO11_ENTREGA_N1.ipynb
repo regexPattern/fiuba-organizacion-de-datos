{
 "cells": [
  {
   "cell_type": "markdown",
   "metadata": {
    "id": "KhFI1FVE8QYM"
   },
   "source": [
    "# Trabajo Práctico 2: Reseñas de Películas - Análisis Exploratorio\n",
    "\n",
    "## Grupo 11 - \"Los Outliers\"\n",
    "\n",
    "- Castillo, Carlos\n",
    "- Destefanis, Juan Pablo\n",
    "- Gómez, Celeste"
   ]
  },
  {
   "cell_type": "markdown",
   "metadata": {
    "id": "f01cb121k1Bc"
   },
   "source": [
    "# Setup"
   ]
  },
  {
   "cell_type": "code",
   "execution_count": 2,
   "metadata": {
    "colab": {
     "base_uri": "https://localhost:8080/"
    },
    "id": "qWPTuD2VRAO_",
    "outputId": "631439c1-04a8-4a77-96ce-23fcc2637c02"
   },
   "outputs": [
    {
     "name": "stdout",
     "output_type": "stream",
     "text": [
      "Collecting lingua-language-detector\n",
      "  Downloading lingua_language_detector-2.0.2-cp311-cp311-manylinux_2_17_aarch64.manylinux2014_aarch64.whl.metadata (349 kB)\n",
      "\u001b[2K     \u001b[90m━━━━━━━━━━━━━━━━━━━━━━━━━━━━━━━━━━━━━━━\u001b[0m \u001b[32m349.2/349.2 kB\u001b[0m \u001b[31m4.1 MB/s\u001b[0m eta \u001b[36m0:00:00\u001b[0m00:01\u001b[0m00:01\u001b[0m\n",
      "\u001b[?25hCollecting stop-words\n",
      "  Downloading stop-words-2018.7.23.tar.gz (31 kB)\n",
      "  Preparing metadata (setup.py) ... \u001b[?25ldone\n",
      "\u001b[?25hDownloading lingua_language_detector-2.0.2-cp311-cp311-manylinux_2_17_aarch64.manylinux2014_aarch64.whl (74.7 MB)\n",
      "\u001b[2K   \u001b[90m━━━━━━━━━━━━━━━━━━━━━━━━━━━━━━━━━━━━━━━━\u001b[0m \u001b[32m74.7/74.7 MB\u001b[0m \u001b[31m3.4 MB/s\u001b[0m eta \u001b[36m0:00:00\u001b[0m00:01\u001b[0m00:01\u001b[0m\n",
      "\u001b[?25hBuilding wheels for collected packages: stop-words\n",
      "  Building wheel for stop-words (setup.py) ... \u001b[?25ldone\n",
      "\u001b[?25h  Created wheel for stop-words: filename=stop_words-2018.7.23-py3-none-any.whl size=32895 sha256=07a41671c378cb8d2aec701ec7a3db4ee2b82e557e26a152c90d2c872a77e145\n",
      "  Stored in directory: /home/jovyan/.cache/pip/wheels/8f/a5/51/a5405e1da5d178491b79d12cc81b6cb9bb14fe2c8c632eba70\n",
      "Successfully built stop-words\n",
      "Installing collected packages: stop-words, lingua-language-detector\n",
      "Successfully installed lingua-language-detector-2.0.2 stop-words-2018.7.23\n"
     ]
    }
   ],
   "source": [
    "!pip install lingua-language-detector stop-words"
   ]
  },
  {
   "cell_type": "code",
   "execution_count": 11,
   "metadata": {
    "id": "XmMaX4v9qurQ"
   },
   "outputs": [],
   "source": [
    "import pandas as pd\n",
    "import numpy as np\n",
    "import matplotlib.pyplot as plt\n",
    "import seaborn as sns\n",
    "import nltk"
   ]
  },
  {
   "cell_type": "code",
   "execution_count": null,
   "metadata": {
    "id": "8TbB99Gv3iMF"
   },
   "outputs": [],
   "source": [
    "nltk.download(\"punkt\")"
   ]
  },
  {
   "cell_type": "code",
   "execution_count": null,
   "metadata": {
    "id": "VEcuBoL8v9-_"
   },
   "outputs": [],
   "source": [
    "sns.set_theme()\n",
    "sns.set_palette(\"colorblind\")"
   ]
  },
  {
   "cell_type": "code",
   "execution_count": 14,
   "metadata": {
    "colab": {
     "base_uri": "https://localhost:8080/",
     "height": 238
    },
    "id": "Nfc-SusWsO4X",
    "outputId": "49555888-b32f-4a7f-8c28-4c01dead2bef"
   },
   "outputs": [
    {
     "data": {
      "text/html": [
       "<div>\n",
       "<style scoped>\n",
       "    .dataframe tbody tr th:only-of-type {\n",
       "        vertical-align: middle;\n",
       "    }\n",
       "\n",
       "    .dataframe tbody tr th {\n",
       "        vertical-align: top;\n",
       "    }\n",
       "\n",
       "    .dataframe thead th {\n",
       "        text-align: right;\n",
       "    }\n",
       "</style>\n",
       "<table border=\"1\" class=\"dataframe\">\n",
       "  <thead>\n",
       "    <tr style=\"text-align: right;\">\n",
       "      <th></th>\n",
       "      <th>review_es</th>\n",
       "      <th>sentimiento</th>\n",
       "    </tr>\n",
       "    <tr>\n",
       "      <th>ID</th>\n",
       "      <th></th>\n",
       "      <th></th>\n",
       "    </tr>\n",
       "  </thead>\n",
       "  <tbody>\n",
       "    <tr>\n",
       "      <th>0</th>\n",
       "      <td>Uno de los otros críticos ha mencionado que de...</td>\n",
       "      <td>positivo</td>\n",
       "    </tr>\n",
       "    <tr>\n",
       "      <th>1</th>\n",
       "      <td>Una pequeña pequeña producción.La técnica de f...</td>\n",
       "      <td>positivo</td>\n",
       "    </tr>\n",
       "    <tr>\n",
       "      <th>2</th>\n",
       "      <td>Pensé que esta era una manera maravillosa de p...</td>\n",
       "      <td>positivo</td>\n",
       "    </tr>\n",
       "    <tr>\n",
       "      <th>3</th>\n",
       "      <td>Básicamente, hay una familia donde un niño peq...</td>\n",
       "      <td>negativo</td>\n",
       "    </tr>\n",
       "    <tr>\n",
       "      <th>4</th>\n",
       "      <td>El \"amor en el tiempo\" de Petter Mattei es una...</td>\n",
       "      <td>positivo</td>\n",
       "    </tr>\n",
       "  </tbody>\n",
       "</table>\n",
       "</div>"
      ],
      "text/plain": [
       "                                            review_es sentimiento\n",
       "ID                                                               \n",
       "0   Uno de los otros críticos ha mencionado que de...    positivo\n",
       "1   Una pequeña pequeña producción.La técnica de f...    positivo\n",
       "2   Pensé que esta era una manera maravillosa de p...    positivo\n",
       "3   Básicamente, hay una familia donde un niño peq...    negativo\n",
       "4   El \"amor en el tiempo\" de Petter Mattei es una...    positivo"
      ]
     },
     "execution_count": 14,
     "metadata": {},
     "output_type": "execute_result"
    }
   ],
   "source": [
    "df = pd.read_csv(\"../datasets/train-original.csv\", index_col=\"ID\")\n",
    "df.head()"
   ]
  },
  {
   "cell_type": "code",
   "execution_count": null,
   "metadata": {
    "colab": {
     "base_uri": "https://localhost:8080/"
    },
    "id": "AjUjTHOD3Zdy",
    "outputId": "49eeb853-0ed4-43bc-a25e-52c6e44f6da1"
   },
   "outputs": [
    {
     "data": {
      "text/plain": [
       "50000"
      ]
     },
     "execution_count": 5,
     "metadata": {},
     "output_type": "execute_result"
    }
   ],
   "source": [
    "len(df)"
   ]
  },
  {
   "cell_type": "markdown",
   "metadata": {
    "id": "cpPFv6o2k7V8"
   },
   "source": [
    "# Análisis Exploratorio"
   ]
  },
  {
   "cell_type": "markdown",
   "metadata": {
    "id": "EVnreSr9k3_M"
   },
   "source": [
    "## Cantidad de Caracteres"
   ]
  },
  {
   "cell_type": "markdown",
   "metadata": {
    "id": "JlBttjycwMv8"
   },
   "source": [
    "Para analizar el texto podemos iniciar por ver qué longitudes tienen las críticas (contando la cantidad de caracteres por ejemplo), por lo que nos ayudamos de un histograma para ver cómo se distribuyen estas longitudes."
   ]
  },
  {
   "cell_type": "code",
   "execution_count": null,
   "metadata": {
    "colab": {
     "base_uri": "https://localhost:8080/",
     "height": 523
    },
    "id": "Qtce7dq3vzyD",
    "outputId": "8346a938-47b2-4987-d3a8-472c2919980f"
   },
   "outputs": [
    {
     "data": {
      "image/png": "[encoded data removed]",
      "text/plain": [
       "<Figure size 500x500 with 1 Axes>"
      ]
     },
     "metadata": {},
     "output_type": "display_data"
    }
   ],
   "source": [
    "longs = df[\"review_es\"].str.len()\n",
    "sns.displot(data=longs, kind=\"hist\").set(title=\"Distribución cantidad de caracteres de las críticas\")\n",
    "plt.xlabel(\"Cantidad de caracteres\")\n",
    "plt.ylabel(\"Cantidad críticas\")\n",
    "plt.show()"
   ]
  },
  {
   "cell_type": "code",
   "execution_count": null,
   "metadata": {
    "colab": {
     "base_uri": "https://localhost:8080/"
    },
    "id": "Zjf3nUolwkMf",
    "outputId": "8fb2cf62-54c2-42a6-e352-0cff45331edf"
   },
   "outputs": [
    {
     "data": {
      "text/plain": [
       "count    50000.000000\n",
       "mean      1398.058240\n",
       "std       1037.688582\n",
       "min         39.000000\n",
       "25%        747.000000\n",
       "50%       1037.000000\n",
       "75%       1711.000000\n",
       "max      13465.000000\n",
       "Name: review_es, dtype: float64"
      ]
     },
     "execution_count": 7,
     "metadata": {},
     "output_type": "execute_result"
    }
   ],
   "source": [
    "longs.describe()"
   ]
  },
  {
   "cell_type": "markdown",
   "metadata": {
    "id": "JvbBEeCvQppx"
   },
   "source": [
    "Notamos que esta distribución pareciera ser \"tail-heavy\", lo que podría indicar la presencia de outliers.\n",
    "\n",
    "Utilizamos un boxplot para visualizar más facilmente la distribución de los outliers de los textos en base a su cantidad de caracteres."
   ]
  },
  {
   "cell_type": "code",
   "execution_count": null,
   "metadata": {
    "colab": {
     "base_uri": "https://localhost:8080/",
     "height": 521
    },
    "id": "L3YXjYdn9FFq",
    "outputId": "17ace25d-084e-41cf-d7e0-be5bbaa5b3cf"
   },
   "outputs": [
    {
     "data": {
      "image/png": "[encoded data removed]",
      "text/plain": [
       "<Figure size 500x500 with 1 Axes>"
      ]
     },
     "metadata": {},
     "output_type": "display_data"
    }
   ],
   "source": [
    "sns.catplot(data=longs, kind=\"box\", whis=1.5).set(title=\"Boxplot cantidad de caracteres de las críticas\")\n",
    "plt.ylabel(\"Cantidad caracteres\")\n",
    "plt.show()"
   ]
  },
  {
   "cell_type": "markdown",
   "metadata": {
    "id": "8WVsVeQbZ7Hs"
   },
   "source": [
    "Podemos inspeccionar algunas de las críticas que se encuentran en los extremos superiores en cuanto a sus cantidades de caracteres, por ejemplo, al ver el boxplot anterior se nos ocurre echar un vistazo a las que tienen más de 8000 caracteres, rango en donde la densidad de críticas parace disminuir signficativamente."
   ]
  },
  {
   "cell_type": "code",
   "execution_count": null,
   "metadata": {
    "colab": {
     "base_uri": "https://localhost:8080/",
     "height": 426
    },
    "id": "gbfj5GT83l9l",
    "outputId": "9b308b6c-7e02-4317-811a-490c0e2c6b52"
   },
   "outputs": [
    {
     "data": {
      "application/vnd.google.colaboratory.intrinsic+json": {
       "summary": "{\n  \"name\": \"df[df[\\\"review_es\\\"]\",\n  \"rows\": 11,\n  \"fields\": [\n    {\n      \"column\": \"ID\",\n      \"properties\": {\n        \"dtype\": \"number\",\n        \"std\": 15827,\n        \"min\": 3024,\n        \"max\": 43821,\n        \"num_unique_values\": 11,\n        \"samples\": [\n          31240,\n          3024,\n          42946\n        ],\n        \"semantic_type\": \"\",\n        \"description\": \"\"\n      }\n    },\n    {\n      \"column\": \"review_es\",\n      \"properties\": {\n        \"dtype\": \"string\",\n        \"num_unique_values\": 11,\n        \"samples\": [\n          \"(Some spoilers included:)Although, many commentators have called this film surreal, the term fits poorly here To quote from Encyclopedia Britannica's, surreal means:\\\"Fantastic or incongruous imagery\\\": One needn't explain to the unimaginative how many ways a plucky ten-year-old boy at large and seeking his fortune in the driver's seat of a red Mustang could be fantastic: those curious might read James Kincaid; but if you asked said lad how he were incongruous behind the wheel of a sports car, he'd surely protest, \\\"NO way!\\\" What fantasies and incongruities the film offers mostly appear within the first fifteen minutes Thereafter we get more iterations of the same, in an ever-cruder and more squalid progression that, far from incongruous, soon proves predictable Not that it were, on the other hand, literally believable-- but it were unfair to tax Motorama in particular with this flaw, any plausible suspension of disbelief having fallen precipitously on the typical film-maker's and viewer's scale of values ever since \\\"Raiders of the Lost Ark\\\" became a blockbuster\\\"Hallucinatory\\\": How do we know what a hallucination is if part of having one is not knowing that we are having one? At any rate, some people know that they enjoy \\\"hallucinogenic drugs\\\"-- but if Motorama typifies the result of doing so, then I'm at a loss as to why anyone would take them more than once There is, of course, the occasional bad trip The movie must be one of those, pun and all\\\"Juxtaposition of words that was startling\\\": How many times can a ten-year-old startle you by uttering \\\"Oh, my God!\\\" when he likes something, or \\\"Damn!\\\" when he doesn't? These two interjections are about par for the course with this script Sadly, any sense of the surreal in what passes for dialogue could only reveal, in direct proportion, one's naivete regarding the speech patterns of the rising American generation\\\"A world completely defined and minutely depicted but that makes no rational sense:\\\" Motorama's world indeed makes no sense, but it is about as completely defined as a cartoon in an elementary school newspaper The numerous guest stars in the cast all have cameo roles even less intelligent than our little hero who exclaims \\\"Damn!\\\" in the blink of an eyelash but needs several seconds to concoct the lamest lie And even *his* character, despite appearing in nearly every scene, gets no significant development Here's scant reward for any viewer who sympathizes, as I must, enough to wish to know him better and understand 'where he's coming from' One vaguely senses a far better story and protagonist struggling to get out\\\"Fully recognizable, realistically painted images are removed from their normal contexts and reassembled within an ambiguous, paradoxical, or shocking framework\\\" No, we see a succession of stereotypical and ever more dilapidated billboards, filling stations, greasy-spoon eateries, cheap hotels, and their lowlife habitues along country highways, exactly where they stereotypically belong\\\"Largely responsible for perpetuating the traditional emphasis on content\\\" There is little content, moment-to-moment, in MotoramaTo sum up: Picture British millionaires dressed as clowns or pirates on the way to a posh costume party, sitting serene and mute as cautious chauffeurs inch their Rolls-Royces like fragile skiffs through a roiling sea of desperate humanity, Chinese who implore them through the windows and smear the glass with blood Or imagine a stadium full of abandoned antiques, limousines like those above now rusting, and white pianos tinkled by ghosts Into this detritus wander an exhausted boy and an ailing woman to whom he clings as mother-figure becoming girl-friend, who fall asleep side by side on the grass He is awakened-- on the Feast of the Transfiguration, \\\"white and glistering\\\" day 1945-- by a brilliant flash on the horizon that is not the rising sun Finding that his consort has become a corpse, he first believes that he has witnessed her soul going up to heaven Later he explains only a little less innocently, 'I learned a new word today: atom-bomb It's like God taking a photograph' Now, *there* are just two samples of cinematic surrealism, surrealism whose ironies ripple out far enough to invade its film's very title: Empire of the Sun If you seek surreal, *please* don't miss it Alas, however hard he treads on the accelerator to race his chariot through and beyond the desert, no scenes so exquisitely strange, rich, subtle, or gorgeous await Motorama's poor little Gus in his questNone of the above necessarily constitutes a thumbs-down on this film Though somewhat disappointed, I can't dismiss it, in view of the respectability of another genre that it does exemplify-- one influenced, to be sure, by surrealism, but also by expressionism, existentialism, and Franz Kafka's pessimism amidst omnipotent power structures Let's try on for size: Theater of the AbsurdTurning to EB's article on this style, I am amazed by how, to the extent that Theater of the Absurd is a valid artistic style, the above objections to Motorama vanish like a puff of smoke I'm tempted to quote the entire text as support of the identificationTheater of the Absurd attempts to show \\\"that the human situation is essentially absurd, devoid of purpose humankind is left feeling hopeless, bewildered, and anxious\\\": Having instantaneously achieved his purpose of getting away from a depressing home life among bickering parents, Gus finds himself purposeless until he drives past a glittering billboard reading \\\"Motorama\\\" and decides to win the lottery that it promises As others have already revealed, this ambition proves illusory: although the game \\\"never expires\\\", the sponsoring corporation has no intention that anyone should ever win, and has ways to trick, confuse, and leave crestfallen any aspirant to the reward He, like others, is ultimately disappointed in his dream\\\"Absurdist playwrights, therefore, did away with most of the logical structure of traditional theatre There is little dramatic action as conventionally understood; however frantically the characters perform, their busyness serves to underscore the fact that nothing happens to change their existence a timeless, circular quality emerges\\\" \\\"Language in an absurdist play is full of repetitions repeating the obvious until it sounds like nonsense\\\" Underneath a sometimes \\\"dazzling comic surface,\\\" we find \\\"an underlying message of metaphysical distress\\\" Gus's obsession with a silly game, his inane language, the plot device wherein he divines a bleak future and/or returns to an earlier moment and takes a different but still bleak turn-- so much fits now While an admirer of the surreal would do better with some films, anyway, of Spielberg, admirers of Motorama as it really is should find fellow-travelers-- not instead but addition-- in the works of Beckett, Ionesco, and GenetBut one can't quite stop here After his disillusionment with the game, Gus returns to \\\"Phil\\\" (ie, Love), the first attendant he had met and the one person who had treated him decently, although he had also scolded him-- at a service station advertising \\\"Be full-filled!\\\" Under Phil's tutelage he learns a life of waiting for cars We might note here that the absurdist playwright Beckett had entitled his most famous play \\\"Waiting for Godot,\\\" and that for Godot we should read \\\"God\\\" God is one of Phil's preoccupations, too Furthermore, as the indirect result of his previous encounter with Gus, Phil is badly maimed and goes about in a cast with his arms straight out horizontally In the last scene, Gus, now Phil's protege, says that he wants to hear music We hear none, but we see Phil wiggling his fingers at the end of his outstretched arm, beckoning Gus closer, and Gus responds The EndFinally, on to an author whom I happen to be reading currently, the Anglican theologian William Stringfellow If this rebel-lawyer is not acknowledged as an architect or undergirder of Liberation Theology, which is more a Roman Catholic than an Anglican movement, perhaps he should be Police brutality and corporate greed are a cliche in cinema and literature, including Motorama, but Stringfellow supports and illuminates such sentiments with impressive warrants from scripture, tradition, and reasonHis most significant work is an expose of the earthly activities of those fallen angels whom the Bible refers to as principalities and powers Principalities, wrote Stringfellow, are behind all of our popular three I's: Images, Institutions, and Ideologies All of these commend themselves to our worship by making false promises The more deeply involved with an image, an institution, or an ideology any person becomes, the more his own personhood becomes \\\"depleted\\\" and be becomes a slave to them Promising power, control, and immortality, they inexorably deliver helplessness, chaos, and death As essentially fallen, defeated powers, they can do no more than that Yet they beguile humans with that \\\"dominion over the earth\\\" promised by God in the book of Genesis, while in fact no one of us controls an image, an institution, or an ideology bent inevitably on its own hegemony and self-preservation They take on lives of their own \\\"Dominion\\\" happens to be a mistranslation: a more accurate rendering of the Hebrew would be \\\"stewardship\\\" But this is a quibble beside a more fundamental problem: Most of us neglect to notice that God had delegated this power to Adam *before* the fall We have no reason to assume that we, his descendents, still exercise it now: on the contrary, it should be obvious that demonic forces have stolen it from usOne might add two observations of CS Lewis: First, that \\\"man's conquest of nature\\\" is a mere illusion, and a ruse to cover the fact that one is really talking about the conquest of some men by other men with nature as the instrument; and secondly, contrary to popular belief, Satan is no kind of good-time Charlie He may dangle out pleasures at first, but he is very niggardly with them and will withdraw them from any human firmly in his thrall, perhaps leaving his prey sitting in front of the fire feeling miserably sorry for himself and seething with resentmentNow, applying these insights to Motorama, we seem them mirrored remarkably in Gus's experience He is, if not nice, at least a pretty little boy prior to falling victim to the Motorama game The first signs advertising it glisten glamorously The longer he continues, however, and the deeper he journeys towards the sponsoring corporation's headquarters, the more shabby they become He's lonely, meeting no one else who plays the game The stations giving out the cards have either fallen into ruins or are staffed by zombies The people he does meet along the way are more and more ugly, deceitful, and hostile (The fact that the principalities answer to a common dictator does not mean that they can abide one another) Gus's humanity is leached out of him as he becomes not only totally self-centered and oblivious to the needs of others but partially blinded disfigured prematurely aged while infantile in the literal sense of linguistically challenged Eventually even his precious Mustang is taken from him in a crash, and he must continue in a dead man's wreck Yet at long last, having done everything he thought was expected, he presents himself to the principality in its proud tower to receive his prize Using the biblical power to confuse wielded by those who have built such monuments to their own vanity, its agents evade him, disappoint, insult, and finally throw him from the top floor He FALLS long and hard, landing, finally in a body of water In other words, in classic symbolism, he DIES He has met the inevitable bad end of anyone who has put his faith in such a deceiverBut this fate proves to be only a warning look into a mutable future He repents and returns to Phil, and upon seeing him performs the very first generous, selfless act we have seen from him for almost an hour and a half: noting that Phil is now handicapped and hardly able to insert a hose into a gas tank, he asks, \\\"Can I help you with that?\\\" Then, seeing the \\\"help wanted\\\" sign, he decides to apply for the job, explaining to the motorist with whom he was hitch-hiking that he reckons he'll get out here, because it doesn't look like too bad a place to workThis interpretation is conjectural, of course, and it may surprise or even outrage the film's \\\"cult classic\\\" aficionados who see quite different points in itIf Motorama isn't quite my cup of tea, I'm at least convinced now that it's hardly the worst film ever made\",\n          \"If anyone ever assembles a compendium on modern American horror that is truly worth it's salt, there will *have* to be an entry for SF Brownrigg's ubiquetous exercize in Asylum Horror Every time I watch this movie I am impressed by the complete economy of the film, from the compact, totally self-contained plot with a puzzling beginning and an all too horrible ending, the engaging performances by what was essentially a group of non-professional actors, and a prevading sense of dread and claustrophobia that effectively consumes the narrarive with a certain inevitability which is all the more terrifying because the viewers know what is going on long before the hero[es], with the only question being when are they going to wake up & smell the coffee?Shot on a dental floss budget in Brownrigg's native Texas at an old palatial manor that nicely serves as the setting for a private sanitorium, DON'T LOOK IN THE BASEMENT is another intriguing twist on the good old Edgar Allan Poe tome about inmates taking over the asylum just before an otherwise \\\"normal\\\" outsider unwittingly joins the ranks without realizing until it is far too late that not all is what it seems, they are totally cut off & beyond any outside help, and inevitably find their own sanity questioned as the madness spins out of control -- The Original STAR TREK TV series had a go at this with their WHOM GODS DESTROY episode from 1968, Juan Moctezuma gave the proceedings a peyote fueled Mexican psychedelic trip in DR TARR'S TORTURE DUNGEON in 1972, and tangentially related is Fernando Di Leo's ASYLUM EROTICA/SLAUGHTER HOTEL, which injects the elements of an unknown killer and an ending that can only be defined as \\\"Splatter Cinema\\\" -- Brownrigg may not have seen or been thinking of SLAUGHTER HOTEL, but he sure came up with some similar ideasLegaliciuos former Playboy Playmate Rosie Holotik plays Charlotte Beale, RN in Clinical Psychology, who has just left her nice job as a supervisor at a major hospital to travel way out into the middle of some god forsaken waste right out of a Peckinpah movie to work with a Dr Stevens at his private sanitorium Dr Stevens has pioneered a new form of therapy based upon basically encouraging the emotionally & psychologically scarred to face their inner obsessions, bring them to the surface and hopefully rid the patients of whatever has fried their sense of reasoning Nice idea, but arming a 6ft 250 pound utterly insane man with an axe and telling him to pound out his aggression AND THEN TURNING YOUR BACK ON HIM probably isn't the smartest idea, and Dr Stevens is dispatched before Ms Holotik even appears onscreen with a good whack to the lower portion of his skullThis event leaves the sanitorium effectively in the hands of one Geraldine Masters [actress Annabelle Weenick, who also served as the script supervisor & production manager], a woman of startlingly professional demeanor who quickly defuses the situation with the help of Sam, the film's wonderfully unlikely hero, a lobotomized African American boheomouth played by an actor named Bill McGhee who was sadly robbed of a supporting Oscar nomination for his turn as a mass of muscle with the brain of an 8 year old boy Sam's one wish is to have someone help him put his prized toy boat \\\"in the water\\\", and his continual asking of the various female cast members to do so [and his nonstop consumption of chocolate popsicles] as *SOME* kind of underlying theme, though we will avoid such here because the kids might still be up There is also a quick subplot about a staff member who has decided to leave after being threatened by one of the patients, but I'll leave the details of that to your discoveryMs Holotik arrives just as Dr Stevens has been effectively laid to rest and is quickly won over by the snappy professionalism of Ms Masters, who reluctantly allows the leggy young nurse to stay on in spite of the tragedy that has just happened, oh, TWENTY MINUTES AGO, which you must admit was rather sporting of her Holotik's Nurse Beale begins to demonstrate symptoms of not being the sharpest meat cleaver in the drawer, however, when informed that she shares living quarters with a bunch of maniacs and there are no locks on the doors & doesn't trudge off for the nearest Ace Hardware Store to pick up a hasp and padlock to secure herself, and we are treated to a couple of truly creepy scenes where some of the inmates sneak into her room & do stuff like smell her hair, try to kill her with butcher knives and caress her neck with axe heads But that's all a part of working in such a radical psychiatric health care environment, Ms Master's informs her, and she goes about her oddly defined \\\"rounds\\\" that consist of wearing as leg defining a nurse outfit as you can find in a 42nd Street fetish boutique and getting to know the inmatesAllysson is a obsessive compulsive nymphomaniac with homicidal tendancies who likes to take off her shirt & provide the film with some T & A between fits of histrionics; Harriet is a young former mother who let her child die in a stupid accident and now dotes on a beat-up old doll that she is also homicidally protective of; The Seargant is an actual seargeant [and implied Vietnam vet] who's negligence led to the death of his platoon, and now watches from the window with binoculars for the approach of an unseen enemy; Jennifer is a Phish fan who couldn't score a ticket to the New Year's Eve Show and went insane & likes to scarf down nembutols and other barbituates when nobody is looking, and likewise has hidden homicidal tendancies linked to her inability to find a bra; Judge Cameron is apparently a homicidal pervert who became obsessed with his own sense of power and now likes to chop things up with axes; Ms Callingham is an aged poet who serves as a sort of soothsaying old hag from MACBETH before the cat gets her tongue; and Danny is an insane idiot who was included in the cast as the random element that the plot cannot control, and who's antics serve as the real catalyst for the series of tragedies & murders that ultimately take place in this dark, old, creepy house in the middle of nowhereThe house itself is a wonderful set, with a threadbare early 1970's decor that is remarkable in it's unremarkableness, with a fantastic use of color achieved by subtle ambient lighting The house is a series of hallways and rooms with shiny brown wooden floors, twisting, confined stairways, secreted closets and passageways leading to the different larger areas, and of course the basement mentioned in the title -- visited only once, but boy it sure proves to be a doozy! I love the frosted old freezer where Sam keeps his stash of popsicles, the utterly plain exteriors that remind me of a summer home our family used to visit every year & force us to swelter in the heat: Everyone is covered with beads of persperation and looks exhausted, and even the ever cheerful Sam at one point begins to suspect that bad things are happening, though he cannot understand what it all means and Rosie H is too firm in her belief of her profession to even suspect what has really happened, and while Ms Holotik's limitations of an actress may have diminished the effectiveness of her Big Revelation scene, she's a great screamer when all Hell starts to break loose, and Brownrigg indulged of some nice camera shots of her in various suggestive poses or stages of undress that show off what a pretty lady she is without exposing anything more than her contract stipulated Too bad!The real show stealer is Sam, however, and fans of what I have been taught to refer to as Splatter Cinema will not be disappointed by the rather shocking finale, and there is something moving about how Sam runs to the protection of his friend and brutally kills everyone within arms reach in a matter of seconds that either suggests he was one mean motha before his lobotomy, or the film is CUT In any event you won't be prepared for the ending the first time you see it, even though you as the viewer know what the score is long before anyone else in the film has put it all togetherExcept for one person: Rhea MacAdams' uproariously stereotyped old coot Mrs Callingham [who seems to be inspired by the Donald Sutherland Old Woman character from the Michael Reeves' 1964 Christopher Lee film CASTLE OF THE LIVING DEAD, in addition to a rather nasty death by round spike to the eye], who not only predicts the future, but has the film's most laugh out loud amusing bit of dialogue while on a walk in the garden with Ms Holotik that runs something like this --\\\"It's really beautiful out here Do you get out much, Mrs Callingham?\\\" asks Holotik, to which the old woman replies\\\"It's YOU who needs to get out\\\"Hilarious, and one of those things you gotta kind of see for yourself to \\\"get\\\" DON'T LOOK IN THE BASEMENT is available on at least a half dozen \\\"bargain bin\\\" codefree DVD releases by companies like Brentwood Home Video, Diamond Entertainment, VCI and Platinum Disc Corp's HORROR CLASSICS series; I kind of like Alpha Video's sexily gorgeously decorated $6 release from 2003:Dig through those bargain bins! But make sure you get one with the 89/90 minute print contained therein; an older 83 minute version is downright confusing due to some of the trims, and you really need to see the ending credits as intended to bring this sick, twisted and surprisingly entertaining yarn to it's endMasterpiece? Maybe not compared to THE EXORCIST or ROSEMARY'S BABY, but it is a very uniquely American horror film, and a genuine classic of the drive-in age that deserves to be rediscovered by anyone looking for something made with more than just a little bit of brain juice, and not a penny more than they absolutely needed***1/2 out of ****\",\n          \"By now you've probably heard a bit about the new Disney dub of Miyazaki's classic film, Laputa: Castle In The Sky During late summer of 1998, Disney released \\\"Kiki's Delivery Service\\\" on video which included a preview of the Laputa dub saying it was due out in \\\"1999\\\" It's obviously way past that year now, but the dub has been finally completed And it's not \\\"Laputa: Castle In The Sky\\\", just \\\"Castle In The Sky\\\" for the dub, since Laputa is not such a nice word in Spanish (even though they use the word Laputa many times throughout the dub) You've also probably heard that world renowned composer, Joe Hisaishi, who scored the movie originally, went back to rescore the excellent music with new arrangements Laputa came out before My Neighbor Totoro and after Nausicaa of the Valley of the Wind, which began Studio Ghibli and it's long string of hits And in my opinion, I think it's one of Miyazaki's best films with a powerful lesson tuckered inside this two hour and four minute gem Laputa: Castle in the Sky is a film for all ages and I urge everyone to see itFor those unfamiliar with Castle in the Sky's story, it begins right at the start and doesn't stop for the next two hours The storytelling is so flawless and masterfully crafted, you see Miyazaki's true vision And believe me, it's one fantastic one The film begins with Sheeta, a girl with one helluva past as she is being held captive by the government on an airship Sheeta holds the key to Laputa, the castle in the sky and a long lost civilization The key to Laputa is a sacred pendant she has which is sought by many, namely the government, the military and the air pirate group, the Dola gang (who Sheeta and Pazu later befriend) Soon, the pirates attack the ship and she escapes during the raid She falls a few thousand feet, but the fall is soft and thanks to her pendant As she floats down from the sky, Pazu, an orphan boy who survives by working in the mines, sees Sheeta and catches her The two become fast friends, but thanks to her pendant, the two get caught up in one huge thrill ride as the Dola gang and government try to capture Sheeta One action sequence after another, we learn all of the character's motives and identities as we build to the emotional and action packed climax which will surely please all with it's fantastic animation and wonderful dialogue Plus somewhat twisty surprise I think this film is simply remarkable and does hold for the two hour and four minute run time The story is wonderful, as we peak into Hayao Miyazaki's animation which has no limits The setting of the film is a combo of many time periods It does seem to take place at the end of the 1800s, but it is some alternante universe which has advanced technology and weapons Laputa is also surprisingly a funny film The film has tons of hilarious moments, almost equal to the drama and action the film holds I think the funniest part is a fight scene where Pazu's boss faces off against a pirate, and soon after a riot breaks out It's funny as we see the men compare their strength and the music fits right in with it perfectlyNow let's talk about how the dub rates An excellent cast give some great performances to bring these characters to life Teen heartthrob James Van Der Beek plays the hero Pazu, who has a much more mature voice then in the Japanese version, where in the original he sounded more childlike Either way, I think his voice is a nice fit with Pazu Anna Paquin, the young Oscar winner from \\\"The Piano\\\", plays Sheeta This is also a nice performance, but the voice is a bit uneven, she doesn't stay true to one accent At times she sounds as American as apple pie, but at other times she sounds like someone from New Zealand The performance I most enjoyed however was of Coris Leachman, who played Mama Dola Not only is this an excellent performance, but the voice and emotion she gives the character really brings it to life If there was ever a live action Laputa movie (G-d forbid), she would be the one to play her, you can just imagine her in the role (well, somewhat) Luke Skywalker himself, Mark Hamill is Muska, and this is another top rate Hamill performance You may be familiar with Hamill from a long line of voice work after he did the original Star Wars movies, but he renders Muska to full evil His voice sounds like his regular voice and mix of the Joker, who he played for many episodes on the animated Batman series Rounding out the cast is voice character actor Jim Cummings, who does a great, gruff job as the general and Andy Dick and Mandy Patakin as members of the Dola gangNow let me talk about what really makes this dub special, Joe Hisaishi's newly arranged music! For those who have never heard of him, Mr Hisaishi does the music and like all of Miyazaki's films, the music is very memorable Each of his scores has it's own personas which fits the particular film perfectly Now, these new arrangements he has done are more \\\"American like\\\", which I think was the goal of the new recordings Don't worry, the classic tunes of the Japanese version are still here in great form The score, to me, sounds to be arranged like this is a Hollywood blockbuster It has more power, it has more emphasis, it's clearer and deeper The film's prologue, the first seconds where we are introduced to the airships, has some new music (I am not sure, but I believe when we first saw the ships there was no music at all) But a majority of the music has new backdrops and more background music to enjoy Things seem very enhanced In a powerful scene, the music is more stronger then in the original versions In a calm scene, it's more calmer Overall, I think many of you will be pleased with the new arrangements an mixes, I highly did myself, and personally think it helps improve the film I prefer the new score over the old one, and I hope Disney will release or license the music rights to a full blown soundtrackAnother plus side to the dub is that the story remains faithful, and much of the original Japanese lines are intact In Kiki, I'm sure a few lines where changed, and this is the same way, lines have been changed But a majority are close or exactly the original lines and dialogue Miyazaki has written I was afraid some excellent lines would be butchered, but they were there intact Some new lines have been added as well which help out But I am not sure whether to consider this a good thing or a bad thing, Disney DID NOT translate the ending song, it was in Japanese I was mortified when they did completely new songs for the Kiki dub, but with this version it's the original song in Japanese So I guess it's good it's still the original, but bad since a majority of people seeing this dub speak EnglishThere is a big down side to this dub, and it deals with how the voices match the character's lips Of course in any dub it won't be perfect, but I think in Kiki and Mononoke the dubbing of lines to match were much better executed (and Disney had a little bit more time with this one) Some of the time everything matches perfect, some of the time it doesn't completley match, and in a rare case, someone says something and the lips don't move at all (there's a scene where Sheeta chuckles and her mouth doesn't move one bit)As far as things about the film itself, these are my thoughts I thought the most amazing part of Laputa was the animation From the opening sequence to the ending, the animation is so lush and detailed, you just have to watch in awe You see the true nature of each character, true detail to their face with extreme close ups and action You have to give a ton of credit for the effort that these animators put into this film Everything is so well done and beautifully hand drawn, it's like a moving piece of art And to think, this was done in the mid 1980's The animation is quite different from Disney, Ghibli has it's own distinctive flare which is very different, but very good And after all these years, the colors look as vibrant as ever Laputa also has tons of action sequences, lots of plane dogfights plus a few on ground These sequences are so well done and so intriguing, it's scary that they are comparable to a big budget action film And the finale is just something you MUST see The sound effects are pure and classic and fit explosions, guns firing and everything else well And like all Miyazaki films, each one focuses on a different theme (ig Kiki: Confidence) This one has a great a lesson on greed and power People don't realize how greed can take over you, and how having too much power isn't good People are obsessed with power, and are greedy, and the main villian, Muska, greatly shows thisAll in all, Laputa: Castle In The Sky was a great film to begin with, and is now improved for the most part I am glad a more mainstream audience now have the chance to see this classic animated film in all it's glory With a great voice cast who put a lot into the film with the excellent redone musical score from Joe Hisaishi, Disney has done a nice job on this dub and is quite worthy Though I think the voices matched the mouths better in the Kiki and Princess Mononoke Disney dubs, Castle In The Sky is still a great dub and is worth the long delays because now more can expierence a fantastic film\"\n        ],\n        \"semantic_type\": \"\",\n        \"description\": \"\"\n      }\n    },\n    {\n      \"column\": \"sentimiento\",\n      \"properties\": {\n        \"dtype\": \"category\",\n        \"num_unique_values\": 2,\n        \"samples\": [\n          \"negativo\",\n          \"positivo\"\n        ],\n        \"semantic_type\": \"\",\n        \"description\": \"\"\n      }\n    }\n  ]\n}",
       "type": "dataframe"
      },
      "text/html": [
       "\n",
       "  <div id=\"df-626b3819-b2b1-4037-8ba0-2dd3c53ed129\" class=\"colab-df-container\">\n",
       "    <div>\n",
       "<style scoped>\n",
       "    .dataframe tbody tr th:only-of-type {\n",
       "        vertical-align: middle;\n",
       "    }\n",
       "\n",
       "    .dataframe tbody tr th {\n",
       "        vertical-align: top;\n",
       "    }\n",
       "\n",
       "    .dataframe thead th {\n",
       "        text-align: right;\n",
       "    }\n",
       "</style>\n",
       "<table border=\"1\" class=\"dataframe\">\n",
       "  <thead>\n",
       "    <tr style=\"text-align: right;\">\n",
       "      <th></th>\n",
       "      <th>review_es</th>\n",
       "      <th>sentimiento</th>\n",
       "    </tr>\n",
       "    <tr>\n",
       "      <th>ID</th>\n",
       "      <th></th>\n",
       "      <th></th>\n",
       "    </tr>\n",
       "  </thead>\n",
       "  <tbody>\n",
       "    <tr>\n",
       "      <th>3024</th>\n",
       "      <td>If anyone ever assembles a compendium on moder...</td>\n",
       "      <td>positivo</td>\n",
       "    </tr>\n",
       "    <tr>\n",
       "      <th>3654</th>\n",
       "      <td>*!!- SPOILERS - !!*Before I begin this, let me...</td>\n",
       "      <td>positivo</td>\n",
       "    </tr>\n",
       "    <tr>\n",
       "      <th>5708</th>\n",
       "      <td>**Attention Spoilers**First of all, let me say...</td>\n",
       "      <td>positivo</td>\n",
       "    </tr>\n",
       "    <tr>\n",
       "      <th>12647</th>\n",
       "      <td>Titanic directed by James Cameron presents a f...</td>\n",
       "      <td>positivo</td>\n",
       "    </tr>\n",
       "    <tr>\n",
       "      <th>26582</th>\n",
       "      <td>Some have praised -Atlantis:-The Lost Empire- ...</td>\n",
       "      <td>negativo</td>\n",
       "    </tr>\n",
       "    <tr>\n",
       "      <th>31240</th>\n",
       "      <td>(Some spoilers included:)Although, many commen...</td>\n",
       "      <td>positivo</td>\n",
       "    </tr>\n",
       "    <tr>\n",
       "      <th>31436</th>\n",
       "      <td>Back in the mid/late 80s, an OAV anime by titl...</td>\n",
       "      <td>positivo</td>\n",
       "    </tr>\n",
       "    <tr>\n",
       "      <th>31481</th>\n",
       "      <td>Match 1: Tag Team Table Match Bubba Ray and Sp...</td>\n",
       "      <td>positivo</td>\n",
       "    </tr>\n",
       "    <tr>\n",
       "      <th>40521</th>\n",
       "      <td>There's a sign on The Lost Highway that says:*...</td>\n",
       "      <td>positivo</td>\n",
       "    </tr>\n",
       "    <tr>\n",
       "      <th>42946</th>\n",
       "      <td>By now you've probably heard a bit about the n...</td>\n",
       "      <td>positivo</td>\n",
       "    </tr>\n",
       "    <tr>\n",
       "      <th>43821</th>\n",
       "      <td>Some have praised _Atlantis:_The_Lost_Empire_ ...</td>\n",
       "      <td>negativo</td>\n",
       "    </tr>\n",
       "  </tbody>\n",
       "</table>\n",
       "</div>\n",
       "    <div class=\"colab-df-buttons\">\n",
       "\n",
       "  <div class=\"colab-df-container\">\n",
       "    <button class=\"colab-df-convert\" onclick=\"convertToInteractive('df-626b3819-b2b1-4037-8ba0-2dd3c53ed129')\"\n",
       "            title=\"Convert this dataframe to an interactive table.\"\n",
       "            style=\"display:none;\">\n",
       "\n",
       "  <svg xmlns=\"http://www.w3.org/2000/svg\" height=\"24px\" viewBox=\"0 -960 960 960\">\n",
       "    <path d=\"M120-120v-720h720v720H120Zm60-500h600v-160H180v160Zm220 220h160v-160H400v160Zm0 220h160v-160H400v160ZM180-400h160v-160H180v160Zm440 0h160v-160H620v160ZM180-180h160v-160H180v160Zm440 0h160v-160H620v160Z\"/>\n",
       "  </svg>\n",
       "    </button>\n",
       "\n",
       "  <style>\n",
       "    .colab-df-container {\n",
       "      display:flex;\n",
       "      gap: 12px;\n",
       "    }\n",
       "\n",
       "    .colab-df-convert {\n",
       "      background-color: #E8F0FE;\n",
       "      border: none;\n",
       "      border-radius: 50%;\n",
       "      cursor: pointer;\n",
       "      display: none;\n",
       "      fill: #1967D2;\n",
       "      height: 32px;\n",
       "      padding: 0 0 0 0;\n",
       "      width: 32px;\n",
       "    }\n",
       "\n",
       "    .colab-df-convert:hover {\n",
       "      background-color: #E2EBFA;\n",
       "      box-shadow: 0px 1px 2px rgba(60, 64, 67, 0.3), 0px 1px 3px 1px rgba(60, 64, 67, 0.15);\n",
       "      fill: #174EA6;\n",
       "    }\n",
       "\n",
       "    .colab-df-buttons div {\n",
       "      margin-bottom: 4px;\n",
       "    }\n",
       "\n",
       "    [theme=dark] .colab-df-convert {\n",
       "      background-color: #3B4455;\n",
       "      fill: #D2E3FC;\n",
       "    }\n",
       "\n",
       "    [theme=dark] .colab-df-convert:hover {\n",
       "      background-color: #434B5C;\n",
       "      box-shadow: 0px 1px 3px 1px rgba(0, 0, 0, 0.15);\n",
       "      filter: drop-shadow(0px 1px 2px rgba(0, 0, 0, 0.3));\n",
       "      fill: #FFFFFF;\n",
       "    }\n",
       "  </style>\n",
       "\n",
       "    <script>\n",
       "      const buttonEl =\n",
       "        document.querySelector('#df-626b3819-b2b1-4037-8ba0-2dd3c53ed129 button.colab-df-convert');\n",
       "      buttonEl.style.display =\n",
       "        google.colab.kernel.accessAllowed ? 'block' : 'none';\n",
       "\n",
       "      async function convertToInteractive(key) {\n",
       "        const element = document.querySelector('#df-626b3819-b2b1-4037-8ba0-2dd3c53ed129');\n",
       "        const dataTable =\n",
       "          await google.colab.kernel.invokeFunction('convertToInteractive',\n",
       "                                                    [key], {});\n",
       "        if (!dataTable) return;\n",
       "\n",
       "        const docLinkHtml = 'Like what you see? Visit the ' +\n",
       "          '<a target=\"_blank\" href=https://colab.research.google.com/notebooks/data_table.ipynb>data table notebook</a>'\n",
       "          + ' to learn more about interactive tables.';\n",
       "        element.innerHTML = '';\n",
       "        dataTable['output_type'] = 'display_data';\n",
       "        await google.colab.output.renderOutput(dataTable, element);\n",
       "        const docLink = document.createElement('div');\n",
       "        docLink.innerHTML = docLinkHtml;\n",
       "        element.appendChild(docLink);\n",
       "      }\n",
       "    </script>\n",
       "  </div>\n",
       "\n",
       "\n",
       "<div id=\"df-53695527-2af5-4e49-956f-8617f3eda292\">\n",
       "  <button class=\"colab-df-quickchart\" onclick=\"quickchart('df-53695527-2af5-4e49-956f-8617f3eda292')\"\n",
       "            title=\"Suggest charts\"\n",
       "            style=\"display:none;\">\n",
       "\n",
       "<svg xmlns=\"http://www.w3.org/2000/svg\" height=\"24px\"viewBox=\"0 0 24 24\"\n",
       "     width=\"24px\">\n",
       "    <g>\n",
       "        <path d=\"M19 3H5c-1.1 0-2 .9-2 2v14c0 1.1.9 2 2 2h14c1.1 0 2-.9 2-2V5c0-1.1-.9-2-2-2zM9 17H7v-7h2v7zm4 0h-2V7h2v10zm4 0h-2v-4h2v4z\"/>\n",
       "    </g>\n",
       "</svg>\n",
       "  </button>\n",
       "\n",
       "<style>\n",
       "  .colab-df-quickchart {\n",
       "      --bg-color: #E8F0FE;\n",
       "      --fill-color: #1967D2;\n",
       "      --hover-bg-color: #E2EBFA;\n",
       "      --hover-fill-color: #174EA6;\n",
       "      --disabled-fill-color: #AAA;\n",
       "      --disabled-bg-color: #DDD;\n",
       "  }\n",
       "\n",
       "  [theme=dark] .colab-df-quickchart {\n",
       "      --bg-color: #3B4455;\n",
       "      --fill-color: #D2E3FC;\n",
       "      --hover-bg-color: #434B5C;\n",
       "      --hover-fill-color: #FFFFFF;\n",
       "      --disabled-bg-color: #3B4455;\n",
       "      --disabled-fill-color: #666;\n",
       "  }\n",
       "\n",
       "  .colab-df-quickchart {\n",
       "    background-color: var(--bg-color);\n",
       "    border: none;\n",
       "    border-radius: 50%;\n",
       "    cursor: pointer;\n",
       "    display: none;\n",
       "    fill: var(--fill-color);\n",
       "    height: 32px;\n",
       "    padding: 0;\n",
       "    width: 32px;\n",
       "  }\n",
       "\n",
       "  .colab-df-quickchart:hover {\n",
       "    background-color: var(--hover-bg-color);\n",
       "    box-shadow: 0 1px 2px rgba(60, 64, 67, 0.3), 0 1px 3px 1px rgba(60, 64, 67, 0.15);\n",
       "    fill: var(--button-hover-fill-color);\n",
       "  }\n",
       "\n",
       "  .colab-df-quickchart-complete:disabled,\n",
       "  .colab-df-quickchart-complete:disabled:hover {\n",
       "    background-color: var(--disabled-bg-color);\n",
       "    fill: var(--disabled-fill-color);\n",
       "    box-shadow: none;\n",
       "  }\n",
       "\n",
       "  .colab-df-spinner {\n",
       "    border: 2px solid var(--fill-color);\n",
       "    border-color: transparent;\n",
       "    border-bottom-color: var(--fill-color);\n",
       "    animation:\n",
       "      spin 1s steps(1) infinite;\n",
       "  }\n",
       "\n",
       "  @keyframes spin {\n",
       "    0% {\n",
       "      border-color: transparent;\n",
       "      border-bottom-color: var(--fill-color);\n",
       "      border-left-color: var(--fill-color);\n",
       "    }\n",
       "    20% {\n",
       "      border-color: transparent;\n",
       "      border-left-color: var(--fill-color);\n",
       "      border-top-color: var(--fill-color);\n",
       "    }\n",
       "    30% {\n",
       "      border-color: transparent;\n",
       "      border-left-color: var(--fill-color);\n",
       "      border-top-color: var(--fill-color);\n",
       "      border-right-color: var(--fill-color);\n",
       "    }\n",
       "    40% {\n",
       "      border-color: transparent;\n",
       "      border-right-color: var(--fill-color);\n",
       "      border-top-color: var(--fill-color);\n",
       "    }\n",
       "    60% {\n",
       "      border-color: transparent;\n",
       "      border-right-color: var(--fill-color);\n",
       "    }\n",
       "    80% {\n",
       "      border-color: transparent;\n",
       "      border-right-color: var(--fill-color);\n",
       "      border-bottom-color: var(--fill-color);\n",
       "    }\n",
       "    90% {\n",
       "      border-color: transparent;\n",
       "      border-bottom-color: var(--fill-color);\n",
       "    }\n",
       "  }\n",
       "</style>\n",
       "\n",
       "  <script>\n",
       "    async function quickchart(key) {\n",
       "      const quickchartButtonEl =\n",
       "        document.querySelector('#' + key + ' button');\n",
       "      quickchartButtonEl.disabled = true;  // To prevent multiple clicks.\n",
       "      quickchartButtonEl.classList.add('colab-df-spinner');\n",
       "      try {\n",
       "        const charts = await google.colab.kernel.invokeFunction(\n",
       "            'suggestCharts', [key], {});\n",
       "      } catch (error) {\n",
       "        console.error('Error during call to suggestCharts:', error);\n",
       "      }\n",
       "      quickchartButtonEl.classList.remove('colab-df-spinner');\n",
       "      quickchartButtonEl.classList.add('colab-df-quickchart-complete');\n",
       "    }\n",
       "    (() => {\n",
       "      let quickchartButtonEl =\n",
       "        document.querySelector('#df-53695527-2af5-4e49-956f-8617f3eda292 button');\n",
       "      quickchartButtonEl.style.display =\n",
       "        google.colab.kernel.accessAllowed ? 'block' : 'none';\n",
       "    })();\n",
       "  </script>\n",
       "</div>\n",
       "    </div>\n",
       "  </div>\n"
      ],
      "text/plain": [
       "                                               review_es sentimiento\n",
       "ID                                                                  \n",
       "3024   If anyone ever assembles a compendium on moder...    positivo\n",
       "3654   *!!- SPOILERS - !!*Before I begin this, let me...    positivo\n",
       "5708   **Attention Spoilers**First of all, let me say...    positivo\n",
       "12647  Titanic directed by James Cameron presents a f...    positivo\n",
       "26582  Some have praised -Atlantis:-The Lost Empire- ...    negativo\n",
       "31240  (Some spoilers included:)Although, many commen...    positivo\n",
       "31436  Back in the mid/late 80s, an OAV anime by titl...    positivo\n",
       "31481  Match 1: Tag Team Table Match Bubba Ray and Sp...    positivo\n",
       "40521  There's a sign on The Lost Highway that says:*...    positivo\n",
       "42946  By now you've probably heard a bit about the n...    positivo\n",
       "43821  Some have praised _Atlantis:_The_Lost_Empire_ ...    negativo"
      ]
     },
     "execution_count": 9,
     "metadata": {},
     "output_type": "execute_result"
    }
   ],
   "source": [
    "df[df[\"review_es\"].str.len() > 8000]"
   ]
  },
  {
   "cell_type": "markdown",
   "metadata": {
    "id": "1CcYncKylCAL"
   },
   "source": [
    "## Múltiples Idiomas"
   ]
  },
  {
   "cell_type": "markdown",
   "metadata": {
    "id": "Ron7uY0xaXO9"
   },
   "source": [
    "Viendo estas críticas notamos que todas ella están en inglés, lo que significa que el dataset, que consiste en críticas de películas en español, también contiene críticas en otros idiomas. Podemos analizar un poco más a detalle esta observación y ver qué idiomas existen en el dataset."
   ]
  },
  {
   "cell_type": "code",
   "execution_count": null,
   "metadata": {
    "id": "5KWevzb2Q3ea"
   },
   "outputs": [],
   "source": [
    "from lingua import LanguageDetectorBuilder\n",
    "\n",
    "detector = LanguageDetectorBuilder.from_all_languages().build()\n",
    "langs = df[\"review_es\"].apply(lambda x: detector.detect_language_of(x).iso_code_639_1.name)"
   ]
  },
  {
   "cell_type": "markdown",
   "metadata": {
    "id": "cRXYJcMsaw4J"
   },
   "source": [
    "Observamos los valores de idiomas detectados. Si bien esta librería no cuenta con una precisión del 100%, sus resultados nos sirven para hacernos una idea general del problema."
   ]
  },
  {
   "cell_type": "code",
   "execution_count": null,
   "metadata": {
    "colab": {
     "base_uri": "https://localhost:8080/"
    },
    "id": "NP6a4k8LU_5k",
    "outputId": "3ab78293-2974-47e1-b14c-abda9eb836ef"
   },
   "outputs": [
    {
     "data": {
      "text/plain": [
       "review_es\n",
       "ES    48179\n",
       "EN     1817\n",
       "TL        3\n",
       "PT        1\n",
       "Name: count, dtype: int64"
      ]
     },
     "execution_count": 12,
     "metadata": {},
     "output_type": "execute_result"
    }
   ],
   "source": [
    "langs.value_counts()"
   ]
  },
  {
   "cell_type": "markdown",
   "metadata": {
    "id": "Pt23awVib4X-"
   },
   "source": [
    "Podemos observar que la mayor parte de las críticas están en español y otro pequeño porcentaje en inglés. También hay otros dos idiomas, Tagalog, y Portugues, pero la cantidad de muestras de críticas en estos idiomas es significativamente baja, por lo que pueden deberse a situaciones en las que la librería no pudo determinar con confianza el lenguaje del texto. De hecho, examinando estas críticas nos damos cuenta que realmente están en español (salvo uno que incorpora palabras y nombres portugueses)."
   ]
  },
  {
   "cell_type": "code",
   "execution_count": null,
   "metadata": {
    "colab": {
     "base_uri": "https://localhost:8080/",
     "height": 345
    },
    "id": "aT8JP8ulca_0",
    "outputId": "3203db1b-92ed-4ba7-8e84-7bd04a9637cf"
   },
   "outputs": [
    {
     "data": {
      "application/vnd.google.colaboratory.intrinsic+json": {
       "summary": "{\n  \"name\": \"df\",\n  \"rows\": 4,\n  \"fields\": [\n    {\n      \"column\": \"ID\",\n      \"properties\": {\n        \"dtype\": \"number\",\n        \"std\": 17888,\n        \"min\": 5159,\n        \"max\": 47450,\n        \"num_unique_values\": 4,\n        \"samples\": [\n          22814,\n          47450,\n          5159\n        ],\n        \"semantic_type\": \"\",\n        \"description\": \"\"\n      }\n    },\n    {\n      \"column\": \"review_es\",\n      \"properties\": {\n        \"dtype\": \"string\",\n        \"num_unique_values\": 4,\n        \"samples\": [\n          \"Esta pel\\u00edcula fue tan buena.Leon Phelps es hilarante.Sal\\u00ed despu\\u00e9s y compr\\u00e9 un caso de co\\u00f1ac !!!!!Sal\\u00ed despu\\u00e9s y compr\\u00e9 un caso de co\\u00f1ac !!!!! Sal\\u00ed despu\\u00e9s y compr\\u00e9 un caso de co\\u00f1ac !!!!! Sal\\u00ed despu\\u00e9s y compr\\u00e9 un caso de co\\u00f1ac !!!!! Sal\\u00ed despu\\u00e9s y\\u00a1Compr\\u00e9 un caso de co\\u00f1ac !!!!! \\u00a1Sal\\u00ed despu\\u00e9s y compr\\u00e9 un caso de co\\u00f1ac !!!!! Sal\\u00ed despu\\u00e9s y compr\\u00e9 un caso de co\\u00f1ac !!!!! Sal\\u00ed despu\\u00e9s y compr\\u00e9 un caso de co\\u00f1ac.!!!!! \\u00a1Sal\\u00ed despu\\u00e9s y compr\\u00e9 un caso de co\\u00f1ac !!!!! Sal\\u00ed tras y compr\\u00e9 un caso de co\\u00f1ac !!!!! Sal\\u00ed despu\\u00e9s y compr\\u00e9 un caso de co\\u00f1ac !!!!!Sal\\u00ed despu\\u00e9s y compr\\u00e9 un caso de co\\u00f1ac !!!!!\",\n          \"Pel\\u00edcula excelente: Si a\\u00fan no lo observaste, debes mirar.Geena Davis y Samuel L. Jackson son incre\\u00edbles en esta pel\\u00edcula. Freat Actors + Good Story + incre\\u00edbles escenas de acci\\u00f3n> \\\"The Long Kiss Goingnight\\\", le doy un 10, A +, 4 estrellas.\",\n          \"Junto con Fernando Fragata, Jo\\u00e3o M\\u00e1rio Grilo, Abi Feij\\u00f3, Leonel Vieira, \\u00c9tc ... (Otros directores comerciales), Diamantino Costa es uno de los mejores directores portugueses;\\\"O Lampi\\u00e3o da Estrela\\\" fue su primera pel\\u00edcula (Diamantino Costa), antes de realizar varios anuncios exitosos.Este t\\u00edtulo es protagonizado por uno de los mejores comedios portugueses de todas las horas, Herman Jos\\u00e9 y Jos\\u00e9 Pedro Gomes son excelentes.Es una pel\\u00edcula muy divertida !!(28/07/2000) Boa Clase Diamantino ...\"\n        ],\n        \"semantic_type\": \"\",\n        \"description\": \"\"\n      }\n    },\n    {\n      \"column\": \"sentimiento\",\n      \"properties\": {\n        \"dtype\": \"category\",\n        \"num_unique_values\": 1,\n        \"samples\": [\n          \"positivo\"\n        ],\n        \"semantic_type\": \"\",\n        \"description\": \"\"\n      }\n    }\n  ]\n}",
       "type": "dataframe"
      },
      "text/html": [
       "\n",
       "  <div id=\"df-aec7a217-9406-4b86-af6d-7125ddf91e2e\" class=\"colab-df-container\">\n",
       "    <div>\n",
       "<style scoped>\n",
       "    .dataframe tbody tr th:only-of-type {\n",
       "        vertical-align: middle;\n",
       "    }\n",
       "\n",
       "    .dataframe tbody tr th {\n",
       "        vertical-align: top;\n",
       "    }\n",
       "\n",
       "    .dataframe thead th {\n",
       "        text-align: right;\n",
       "    }\n",
       "</style>\n",
       "<table border=\"1\" class=\"dataframe\">\n",
       "  <thead>\n",
       "    <tr style=\"text-align: right;\">\n",
       "      <th></th>\n",
       "      <th>review_es</th>\n",
       "      <th>sentimiento</th>\n",
       "    </tr>\n",
       "    <tr>\n",
       "      <th>ID</th>\n",
       "      <th></th>\n",
       "      <th></th>\n",
       "    </tr>\n",
       "  </thead>\n",
       "  <tbody>\n",
       "    <tr>\n",
       "      <th>5159</th>\n",
       "      <td>Junto con Fernando Fragata, João Mário Grilo, Abi Feijó, Leonel Vieira, Étc ... (Otros directores comerciales), Diamantino Costa es uno de los mejores directores portugueses;\"O Lampião da Estrela\" fue su primera película (Diamantino Costa), antes de realizar varios anuncios exitosos.Este título es protagonizado por uno de los mejores comedios portugueses de todas las horas, Herman José y José Pedro Gomes son excelentes.Es una película muy divertida !!(28/07/2000) Boa Clase Diamantino ...</td>\n",
       "      <td>positivo</td>\n",
       "    </tr>\n",
       "    <tr>\n",
       "      <th>22814</th>\n",
       "      <td>Esta película fue tan buena.Leon Phelps es hilarante.Salí después y compré un caso de coñac !!!!!Salí después y compré un caso de coñac !!!!! Salí después y compré un caso de coñac !!!!! Salí después y compré un caso de coñac !!!!! Salí después y¡Compré un caso de coñac !!!!! ¡Salí después y compré un caso de coñac !!!!! Salí después y compré un caso de coñac !!!!! Salí después y compré un caso de coñac.!!!!! ¡Salí después y compré un caso de coñac !!!!! Salí tras y compré un caso de coñac !...</td>\n",
       "      <td>positivo</td>\n",
       "    </tr>\n",
       "    <tr>\n",
       "      <th>33906</th>\n",
       "      <td>Hartley en forma de bajo perfil: Martin Donovan, nacido para jugar a Jesús, viene como Mesías a Millenial Manhatten;P.J. Harvey es excelente como Sidekick Magdelena.Una ligera película, pero drily divertida, corta y dulce.</td>\n",
       "      <td>positivo</td>\n",
       "    </tr>\n",
       "    <tr>\n",
       "      <th>47450</th>\n",
       "      <td>Película excelente: Si aún no lo observaste, debes mirar.Geena Davis y Samuel L. Jackson son increíbles en esta película. Freat Actors + Good Story + increíbles escenas de acción&gt; \"The Long Kiss Goingnight\", le doy un 10, A +, 4 estrellas.</td>\n",
       "      <td>positivo</td>\n",
       "    </tr>\n",
       "  </tbody>\n",
       "</table>\n",
       "</div>\n",
       "    <div class=\"colab-df-buttons\">\n",
       "\n",
       "  <div class=\"colab-df-container\">\n",
       "    <button class=\"colab-df-convert\" onclick=\"convertToInteractive('df-aec7a217-9406-4b86-af6d-7125ddf91e2e')\"\n",
       "            title=\"Convert this dataframe to an interactive table.\"\n",
       "            style=\"display:none;\">\n",
       "\n",
       "  <svg xmlns=\"http://www.w3.org/2000/svg\" height=\"24px\" viewBox=\"0 -960 960 960\">\n",
       "    <path d=\"M120-120v-720h720v720H120Zm60-500h600v-160H180v160Zm220 220h160v-160H400v160Zm0 220h160v-160H400v160ZM180-400h160v-160H180v160Zm440 0h160v-160H620v160ZM180-180h160v-160H180v160Zm440 0h160v-160H620v160Z\"/>\n",
       "  </svg>\n",
       "    </button>\n",
       "\n",
       "  <style>\n",
       "    .colab-df-container {\n",
       "      display:flex;\n",
       "      gap: 12px;\n",
       "    }\n",
       "\n",
       "    .colab-df-convert {\n",
       "      background-color: #E8F0FE;\n",
       "      border: none;\n",
       "      border-radius: 50%;\n",
       "      cursor: pointer;\n",
       "      display: none;\n",
       "      fill: #1967D2;\n",
       "      height: 32px;\n",
       "      padding: 0 0 0 0;\n",
       "      width: 32px;\n",
       "    }\n",
       "\n",
       "    .colab-df-convert:hover {\n",
       "      background-color: #E2EBFA;\n",
       "      box-shadow: 0px 1px 2px rgba(60, 64, 67, 0.3), 0px 1px 3px 1px rgba(60, 64, 67, 0.15);\n",
       "      fill: #174EA6;\n",
       "    }\n",
       "\n",
       "    .colab-df-buttons div {\n",
       "      margin-bottom: 4px;\n",
       "    }\n",
       "\n",
       "    [theme=dark] .colab-df-convert {\n",
       "      background-color: #3B4455;\n",
       "      fill: #D2E3FC;\n",
       "    }\n",
       "\n",
       "    [theme=dark] .colab-df-convert:hover {\n",
       "      background-color: #434B5C;\n",
       "      box-shadow: 0px 1px 3px 1px rgba(0, 0, 0, 0.15);\n",
       "      filter: drop-shadow(0px 1px 2px rgba(0, 0, 0, 0.3));\n",
       "      fill: #FFFFFF;\n",
       "    }\n",
       "  </style>\n",
       "\n",
       "    <script>\n",
       "      const buttonEl =\n",
       "        document.querySelector('#df-aec7a217-9406-4b86-af6d-7125ddf91e2e button.colab-df-convert');\n",
       "      buttonEl.style.display =\n",
       "        google.colab.kernel.accessAllowed ? 'block' : 'none';\n",
       "\n",
       "      async function convertToInteractive(key) {\n",
       "        const element = document.querySelector('#df-aec7a217-9406-4b86-af6d-7125ddf91e2e');\n",
       "        const dataTable =\n",
       "          await google.colab.kernel.invokeFunction('convertToInteractive',\n",
       "                                                    [key], {});\n",
       "        if (!dataTable) return;\n",
       "\n",
       "        const docLinkHtml = 'Like what you see? Visit the ' +\n",
       "          '<a target=\"_blank\" href=https://colab.research.google.com/notebooks/data_table.ipynb>data table notebook</a>'\n",
       "          + ' to learn more about interactive tables.';\n",
       "        element.innerHTML = '';\n",
       "        dataTable['output_type'] = 'display_data';\n",
       "        await google.colab.output.renderOutput(dataTable, element);\n",
       "        const docLink = document.createElement('div');\n",
       "        docLink.innerHTML = docLinkHtml;\n",
       "        element.appendChild(docLink);\n",
       "      }\n",
       "    </script>\n",
       "  </div>\n",
       "\n",
       "\n",
       "<div id=\"df-fc664a21-3814-4e9a-a0e9-d8f59bd8b9ee\">\n",
       "  <button class=\"colab-df-quickchart\" onclick=\"quickchart('df-fc664a21-3814-4e9a-a0e9-d8f59bd8b9ee')\"\n",
       "            title=\"Suggest charts\"\n",
       "            style=\"display:none;\">\n",
       "\n",
       "<svg xmlns=\"http://www.w3.org/2000/svg\" height=\"24px\"viewBox=\"0 0 24 24\"\n",
       "     width=\"24px\">\n",
       "    <g>\n",
       "        <path d=\"M19 3H5c-1.1 0-2 .9-2 2v14c0 1.1.9 2 2 2h14c1.1 0 2-.9 2-2V5c0-1.1-.9-2-2-2zM9 17H7v-7h2v7zm4 0h-2V7h2v10zm4 0h-2v-4h2v4z\"/>\n",
       "    </g>\n",
       "</svg>\n",
       "  </button>\n",
       "\n",
       "<style>\n",
       "  .colab-df-quickchart {\n",
       "      --bg-color: #E8F0FE;\n",
       "      --fill-color: #1967D2;\n",
       "      --hover-bg-color: #E2EBFA;\n",
       "      --hover-fill-color: #174EA6;\n",
       "      --disabled-fill-color: #AAA;\n",
       "      --disabled-bg-color: #DDD;\n",
       "  }\n",
       "\n",
       "  [theme=dark] .colab-df-quickchart {\n",
       "      --bg-color: #3B4455;\n",
       "      --fill-color: #D2E3FC;\n",
       "      --hover-bg-color: #434B5C;\n",
       "      --hover-fill-color: #FFFFFF;\n",
       "      --disabled-bg-color: #3B4455;\n",
       "      --disabled-fill-color: #666;\n",
       "  }\n",
       "\n",
       "  .colab-df-quickchart {\n",
       "    background-color: var(--bg-color);\n",
       "    border: none;\n",
       "    border-radius: 50%;\n",
       "    cursor: pointer;\n",
       "    display: none;\n",
       "    fill: var(--fill-color);\n",
       "    height: 32px;\n",
       "    padding: 0;\n",
       "    width: 32px;\n",
       "  }\n",
       "\n",
       "  .colab-df-quickchart:hover {\n",
       "    background-color: var(--hover-bg-color);\n",
       "    box-shadow: 0 1px 2px rgba(60, 64, 67, 0.3), 0 1px 3px 1px rgba(60, 64, 67, 0.15);\n",
       "    fill: var(--button-hover-fill-color);\n",
       "  }\n",
       "\n",
       "  .colab-df-quickchart-complete:disabled,\n",
       "  .colab-df-quickchart-complete:disabled:hover {\n",
       "    background-color: var(--disabled-bg-color);\n",
       "    fill: var(--disabled-fill-color);\n",
       "    box-shadow: none;\n",
       "  }\n",
       "\n",
       "  .colab-df-spinner {\n",
       "    border: 2px solid var(--fill-color);\n",
       "    border-color: transparent;\n",
       "    border-bottom-color: var(--fill-color);\n",
       "    animation:\n",
       "      spin 1s steps(1) infinite;\n",
       "  }\n",
       "\n",
       "  @keyframes spin {\n",
       "    0% {\n",
       "      border-color: transparent;\n",
       "      border-bottom-color: var(--fill-color);\n",
       "      border-left-color: var(--fill-color);\n",
       "    }\n",
       "    20% {\n",
       "      border-color: transparent;\n",
       "      border-left-color: var(--fill-color);\n",
       "      border-top-color: var(--fill-color);\n",
       "    }\n",
       "    30% {\n",
       "      border-color: transparent;\n",
       "      border-left-color: var(--fill-color);\n",
       "      border-top-color: var(--fill-color);\n",
       "      border-right-color: var(--fill-color);\n",
       "    }\n",
       "    40% {\n",
       "      border-color: transparent;\n",
       "      border-right-color: var(--fill-color);\n",
       "      border-top-color: var(--fill-color);\n",
       "    }\n",
       "    60% {\n",
       "      border-color: transparent;\n",
       "      border-right-color: var(--fill-color);\n",
       "    }\n",
       "    80% {\n",
       "      border-color: transparent;\n",
       "      border-right-color: var(--fill-color);\n",
       "      border-bottom-color: var(--fill-color);\n",
       "    }\n",
       "    90% {\n",
       "      border-color: transparent;\n",
       "      border-bottom-color: var(--fill-color);\n",
       "    }\n",
       "  }\n",
       "</style>\n",
       "\n",
       "  <script>\n",
       "    async function quickchart(key) {\n",
       "      const quickchartButtonEl =\n",
       "        document.querySelector('#' + key + ' button');\n",
       "      quickchartButtonEl.disabled = true;  // To prevent multiple clicks.\n",
       "      quickchartButtonEl.classList.add('colab-df-spinner');\n",
       "      try {\n",
       "        const charts = await google.colab.kernel.invokeFunction(\n",
       "            'suggestCharts', [key], {});\n",
       "      } catch (error) {\n",
       "        console.error('Error during call to suggestCharts:', error);\n",
       "      }\n",
       "      quickchartButtonEl.classList.remove('colab-df-spinner');\n",
       "      quickchartButtonEl.classList.add('colab-df-quickchart-complete');\n",
       "    }\n",
       "    (() => {\n",
       "      let quickchartButtonEl =\n",
       "        document.querySelector('#df-fc664a21-3814-4e9a-a0e9-d8f59bd8b9ee button');\n",
       "      quickchartButtonEl.style.display =\n",
       "        google.colab.kernel.accessAllowed ? 'block' : 'none';\n",
       "    })();\n",
       "  </script>\n",
       "</div>\n",
       "\n",
       "    </div>\n",
       "  </div>\n"
      ],
      "text/plain": [
       "                                                                                                                                                                                                                                                                                                                                                                                                                                                                                                                 review_es sentimiento\n",
       "ID                                                                                                                                                                                                                                                                                                                                                                                                                                                                                                                                    \n",
       "5159          Junto con Fernando Fragata, João Mário Grilo, Abi Feijó, Leonel Vieira, Étc ... (Otros directores comerciales), Diamantino Costa es uno de los mejores directores portugueses;\"O Lampião da Estrela\" fue su primera película (Diamantino Costa), antes de realizar varios anuncios exitosos.Este título es protagonizado por uno de los mejores comedios portugueses de todas las horas, Herman José y José Pedro Gomes son excelentes.Es una película muy divertida !!(28/07/2000) Boa Clase Diamantino ...    positivo\n",
       "22814  Esta película fue tan buena.Leon Phelps es hilarante.Salí después y compré un caso de coñac !!!!!Salí después y compré un caso de coñac !!!!! Salí después y compré un caso de coñac !!!!! Salí después y compré un caso de coñac !!!!! Salí después y¡Compré un caso de coñac !!!!! ¡Salí después y compré un caso de coñac !!!!! Salí después y compré un caso de coñac !!!!! Salí después y compré un caso de coñac.!!!!! ¡Salí después y compré un caso de coñac !!!!! Salí tras y compré un caso de coñac !...    positivo\n",
       "33906                                                                                                                                                                                                                                                                                       Hartley en forma de bajo perfil: Martin Donovan, nacido para jugar a Jesús, viene como Mesías a Millenial Manhatten;P.J. Harvey es excelente como Sidekick Magdelena.Una ligera película, pero drily divertida, corta y dulce.    positivo\n",
       "47450                                                                                                                                                                                                                                                                      Película excelente: Si aún no lo observaste, debes mirar.Geena Davis y Samuel L. Jackson son increíbles en esta película. Freat Actors + Good Story + increíbles escenas de acción> \"The Long Kiss Goingnight\", le doy un 10, A +, 4 estrellas.    positivo"
      ]
     },
     "execution_count": 67,
     "metadata": {},
     "output_type": "execute_result"
    }
   ],
   "source": [
    "pd.set_option(\"max_colwidth\", 500)\n",
    "df.loc[langs[(langs == \"TL\") | (langs == \"PT\")].index]"
   ]
  },
  {
   "cell_type": "markdown",
   "metadata": {
    "id": "2o19mxYEdybs"
   },
   "source": [
    "Para visualizar más facilmente la distribución de los idiomas podemos utilizar un pie chart."
   ]
  },
  {
   "cell_type": "code",
   "execution_count": null,
   "metadata": {
    "colab": {
     "base_uri": "https://localhost:8080/",
     "height": 428
    },
    "id": "Jm2D1mtgTsgw",
    "outputId": "8bc714f6-ab5c-4719-aa11-844846d6b08f"
   },
   "outputs": [
    {
     "data": {
      "image/png": "[encoded data removed]",
      "text/plain": [
       "<Figure size 640x480 with 1 Axes>"
      ]
     },
     "metadata": {},
     "output_type": "display_data"
    }
   ],
   "source": [
    "langs_stats = langs.value_counts()\n",
    "\n",
    "labels = [langs_stats.idxmax(), \"Otros\"]\n",
    "max_freq = langs_stats.max()\n",
    "sizes = [max_freq, len(langs) - max_freq]\n",
    "\n",
    "plt.pie(sizes, labels=labels, autopct=\"%1.1f%%\")\n",
    "plt.title(label=\"Idiomas de las críticas\")\n",
    "plt.show()"
   ]
  },
  {
   "cell_type": "markdown",
   "metadata": {
    "id": "X0-uvss6d8Cw"
   },
   "source": [
    "A pesar de que idealmente el dataset debería contener solamente críticas en español, por lo que las críticas en otros idiomas serían consideradas outliers, decidimos no optar por hacer esta distinción por ahora. Al momento de entrenar los modelos se valorará si los resultados mejoran o empeoran entrenando solamente con críticas en español, o si incluir otros idiomas mejora el rendimiento del algoritmo ante eventuales críticas en idiomas que desconoce."
   ]
  },
  {
   "cell_type": "markdown",
   "metadata": {
    "id": "PPMkdB9wlGBG"
   },
   "source": [
    "## Cantidad de Palabras"
   ]
  },
  {
   "cell_type": "markdown",
   "metadata": {
    "id": "ZsxWP5p1ezes"
   },
   "source": [
    "Así a como analizamos la longitud de las críticas en base a la cantidad de caracteres, podemos analizarla en cuanto a la cantidad de palabras. En este caso optamos por simplemente separar las palabras por por los caracteres en blanco (comportamiento por defecto del método `split` en Python)."
   ]
  },
  {
   "cell_type": "code",
   "execution_count": null,
   "metadata": {
    "colab": {
     "base_uri": "https://localhost:8080/",
     "height": 523
    },
    "id": "uIsciDtve68m",
    "outputId": "b916399b-768b-4119-b306-97ddbca32c5d"
   },
   "outputs": [
    {
     "data": {
      "image/png": "[encoded data removed]",
      "text/plain": [
       "<Figure size 500x500 with 1 Axes>"
      ]
     },
     "metadata": {},
     "output_type": "display_data"
    }
   ],
   "source": [
    "words = df[\"review_es\"].apply(lambda x: len(x.split()))\n",
    "sns.displot(data=words, kind=\"hist\").set(title=\"Distribución cantidad de palabras de las críticas\")\n",
    "plt.xlabel(\"Cantidad de palabras\")\n",
    "plt.ylabel(\"Cantidad críticas\")\n",
    "plt.show()"
   ]
  },
  {
   "cell_type": "markdown",
   "metadata": {
    "id": "LQsKG3z1fyjD"
   },
   "source": [
    "Como era de esperarse, observamos una distribución bastante similar a la de la cantidad de caracteres."
   ]
  },
  {
   "cell_type": "markdown",
   "metadata": {
    "id": "9t4aMha8lJZe"
   },
   "source": [
    "## Sentimientos"
   ]
  },
  {
   "cell_type": "markdown",
   "metadata": {
    "id": "gQaKA0Mlh1bD"
   },
   "source": [
    "Movemos nuestra atención hacia las diferentes categorías en las que podemos clasificar a una crítica. En este caso solo tenemos dos: positivo o negativo, con igual cantidad de muestras para ambos grupos."
   ]
  },
  {
   "cell_type": "code",
   "execution_count": null,
   "metadata": {
    "colab": {
     "base_uri": "https://localhost:8080/"
    },
    "id": "lItdL4VliGj7",
    "outputId": "f813818b-f0b7-4e72-c732-61c8bf81da11"
   },
   "outputs": [
    {
     "data": {
      "text/plain": [
       "sentimiento\n",
       "positivo    25000\n",
       "negativo    25000\n",
       "Name: count, dtype: int64"
      ]
     },
     "execution_count": 11,
     "metadata": {},
     "output_type": "execute_result"
    }
   ],
   "source": [
    "df[\"sentimiento\"].value_counts()"
   ]
  },
  {
   "cell_type": "code",
   "execution_count": null,
   "metadata": {
    "colab": {
     "base_uri": "https://localhost:8080/",
     "height": 523
    },
    "id": "kvsjXcFpiQ8n",
    "outputId": "847b8ad8-33d4-4065-b1ef-55efc7e087a0"
   },
   "outputs": [
    {
     "data": {
      "image/png": "[encoded data removed]",
      "text/plain": [
       "<Figure size 512.222x500 with 1 Axes>"
      ]
     },
     "metadata": {},
     "output_type": "display_data"
    }
   ],
   "source": [
    "sns.catplot(data=df, x=\"sentimiento\", kind=\"count\").set(title=\"Distribución sentimientos\")\n",
    "plt.ylabel(\"Cantidad críticas\")\n",
    "plt.show()"
   ]
  },
  {
   "cell_type": "markdown",
   "metadata": {
    "id": "49dX42MFi2Wb"
   },
   "source": [
    "Entre ambos grupos se abarca la totalidad del conjunto de datos, por lo que no tenemos valores faltantes para el campo `sentimiento`. Verificamos que sucede lo mismo para el campo del texto de la crítica."
   ]
  },
  {
   "cell_type": "code",
   "execution_count": null,
   "metadata": {
    "colab": {
     "base_uri": "https://localhost:8080/"
    },
    "id": "9uetfiJxjAy1",
    "outputId": "df822047-fa30-40da-ac4e-e0f38e6ce630"
   },
   "outputs": [
    {
     "data": {
      "text/plain": [
       "True"
      ]
     },
     "execution_count": 13,
     "metadata": {},
     "output_type": "execute_result"
    }
   ],
   "source": [
    "len(df[df[\"review_es\"].isna()]) == 0"
   ]
  }
 ],
 "metadata": {
  "colab": {
   "provenance": []
  },
  "kernelspec": {
   "display_name": "Python 3 (ipykernel)",
   "language": "python",
   "name": "python3"
  },
  "language_info": {
   "codemirror_mode": {
    "name": "ipython",
    "version": 3
   },
   "file_extension": ".py",
   "mimetype": "text/x-python",
   "name": "python",
   "nbconvert_exporter": "python",
   "pygments_lexer": "ipython3",
   "version": "3.11.9"
  }
 },
 "nbformat": 4,
 "nbformat_minor": 4
}
