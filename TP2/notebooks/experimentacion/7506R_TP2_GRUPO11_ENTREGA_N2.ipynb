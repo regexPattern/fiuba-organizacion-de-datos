{
 "cells": [
  {
   "cell_type": "markdown",
   "metadata": {
    "id": "ba9964wxgu7Y"
   },
   "source": [
    "# Trabajo Práctico 2: Reseñas de Películas - XGBoost\n",
    "\n",
    "## Grupo 11 - \"Los Outliers\"\n",
    "\n",
    "- Castillo, Carlos\n",
    "- Destefanis, Juan Pablo\n",
    "- Gómez, Celeste"
   ]
  },
  {
   "cell_type": "markdown",
   "metadata": {
    "id": "1Uf6gZNPG3eo"
   },
   "source": [
    "# Dependencias"
   ]
  },
  {
   "cell_type": "code",
   "execution_count": null,
   "metadata": {
    "colab": {
     "base_uri": "https://localhost:8080/"
    },
    "id": "HyDNJYS9KEvX",
    "outputId": "7d9717e3-1b63-4bad-d63f-7e533fda2c0d"
   },
   "outputs": [
    {
     "name": "stdout",
     "output_type": "stream",
     "text": [
      "Requirement already satisfied: nltk in /usr/local/lib/python3.10/dist-packages (3.8.1)\n",
      "Requirement already satisfied: click in /usr/local/lib/python3.10/dist-packages (from nltk) (8.1.7)\n",
      "Requirement already satisfied: joblib in /usr/local/lib/python3.10/dist-packages (from nltk) (1.4.2)\n",
      "Requirement already satisfied: regex>=2021.8.3 in /usr/local/lib/python3.10/dist-packages (from nltk) (2024.5.15)\n",
      "Requirement already satisfied: tqdm in /usr/local/lib/python3.10/dist-packages (from nltk) (4.66.4)\n",
      "Collecting es-core-news-sm==3.7.0\n",
      "  Downloading https://github.com/explosion/spacy-models/releases/download/es_core_news_sm-3.7.0/es_core_news_sm-3.7.0-py3-none-any.whl (12.9 MB)\n",
      "\u001b[2K     \u001b[90m━━━━━━━━━━━━━━━━━━━━━━━━━━━━━━━━━━━━━━━━\u001b[0m \u001b[32m12.9/12.9 MB\u001b[0m \u001b[31m16.5 MB/s\u001b[0m eta \u001b[36m0:00:00\u001b[0m\n",
      "\u001b[?25hRequirement already satisfied: spacy<3.8.0,>=3.7.0 in /usr/local/lib/python3.10/dist-packages (from es-core-news-sm==3.7.0) (3.7.5)\n",
      "Requirement already satisfied: spacy-legacy<3.1.0,>=3.0.11 in /usr/local/lib/python3.10/dist-packages (from spacy<3.8.0,>=3.7.0->es-core-news-sm==3.7.0) (3.0.12)\n",
      "Requirement already satisfied: spacy-loggers<2.0.0,>=1.0.0 in /usr/local/lib/python3.10/dist-packages (from spacy<3.8.0,>=3.7.0->es-core-news-sm==3.7.0) (1.0.5)\n",
      "Requirement already satisfied: murmurhash<1.1.0,>=0.28.0 in /usr/local/lib/python3.10/dist-packages (from spacy<3.8.0,>=3.7.0->es-core-news-sm==3.7.0) (1.0.10)\n",
      "Requirement already satisfied: cymem<2.1.0,>=2.0.2 in /usr/local/lib/python3.10/dist-packages (from spacy<3.8.0,>=3.7.0->es-core-news-sm==3.7.0) (2.0.8)\n",
      "Requirement already satisfied: preshed<3.1.0,>=3.0.2 in /usr/local/lib/python3.10/dist-packages (from spacy<3.8.0,>=3.7.0->es-core-news-sm==3.7.0) (3.0.9)\n",
      "Requirement already satisfied: thinc<8.3.0,>=8.2.2 in /usr/local/lib/python3.10/dist-packages (from spacy<3.8.0,>=3.7.0->es-core-news-sm==3.7.0) (8.2.4)\n",
      "Requirement already satisfied: wasabi<1.2.0,>=0.9.1 in /usr/local/lib/python3.10/dist-packages (from spacy<3.8.0,>=3.7.0->es-core-news-sm==3.7.0) (1.1.3)\n",
      "Requirement already satisfied: srsly<3.0.0,>=2.4.3 in /usr/local/lib/python3.10/dist-packages (from spacy<3.8.0,>=3.7.0->es-core-news-sm==3.7.0) (2.4.8)\n",
      "Requirement already satisfied: catalogue<2.1.0,>=2.0.6 in /usr/local/lib/python3.10/dist-packages (from spacy<3.8.0,>=3.7.0->es-core-news-sm==3.7.0) (2.0.10)\n",
      "Requirement already satisfied: weasel<0.5.0,>=0.1.0 in /usr/local/lib/python3.10/dist-packages (from spacy<3.8.0,>=3.7.0->es-core-news-sm==3.7.0) (0.4.1)\n",
      "Requirement already satisfied: typer<1.0.0,>=0.3.0 in /usr/local/lib/python3.10/dist-packages (from spacy<3.8.0,>=3.7.0->es-core-news-sm==3.7.0) (0.12.3)\n",
      "Requirement already satisfied: tqdm<5.0.0,>=4.38.0 in /usr/local/lib/python3.10/dist-packages (from spacy<3.8.0,>=3.7.0->es-core-news-sm==3.7.0) (4.66.4)\n",
      "Requirement already satisfied: requests<3.0.0,>=2.13.0 in /usr/local/lib/python3.10/dist-packages (from spacy<3.8.0,>=3.7.0->es-core-news-sm==3.7.0) (2.31.0)\n",
      "Requirement already satisfied: pydantic!=1.8,!=1.8.1,<3.0.0,>=1.7.4 in /usr/local/lib/python3.10/dist-packages (from spacy<3.8.0,>=3.7.0->es-core-news-sm==3.7.0) (2.7.3)\n",
      "Requirement already satisfied: jinja2 in /usr/local/lib/python3.10/dist-packages (from spacy<3.8.0,>=3.7.0->es-core-news-sm==3.7.0) (3.1.4)\n",
      "Requirement already satisfied: setuptools in /usr/local/lib/python3.10/dist-packages (from spacy<3.8.0,>=3.7.0->es-core-news-sm==3.7.0) (67.7.2)\n",
      "Requirement already satisfied: packaging>=20.0 in /usr/local/lib/python3.10/dist-packages (from spacy<3.8.0,>=3.7.0->es-core-news-sm==3.7.0) (24.1)\n",
      "Requirement already satisfied: langcodes<4.0.0,>=3.2.0 in /usr/local/lib/python3.10/dist-packages (from spacy<3.8.0,>=3.7.0->es-core-news-sm==3.7.0) (3.4.0)\n",
      "Requirement already satisfied: numpy>=1.19.0 in /usr/local/lib/python3.10/dist-packages (from spacy<3.8.0,>=3.7.0->es-core-news-sm==3.7.0) (1.25.2)\n",
      "Requirement already satisfied: language-data>=1.2 in /usr/local/lib/python3.10/dist-packages (from langcodes<4.0.0,>=3.2.0->spacy<3.8.0,>=3.7.0->es-core-news-sm==3.7.0) (1.2.0)\n",
      "Requirement already satisfied: annotated-types>=0.4.0 in /usr/local/lib/python3.10/dist-packages (from pydantic!=1.8,!=1.8.1,<3.0.0,>=1.7.4->spacy<3.8.0,>=3.7.0->es-core-news-sm==3.7.0) (0.7.0)\n",
      "Requirement already satisfied: pydantic-core==2.18.4 in /usr/local/lib/python3.10/dist-packages (from pydantic!=1.8,!=1.8.1,<3.0.0,>=1.7.4->spacy<3.8.0,>=3.7.0->es-core-news-sm==3.7.0) (2.18.4)\n",
      "Requirement already satisfied: typing-extensions>=4.6.1 in /usr/local/lib/python3.10/dist-packages (from pydantic!=1.8,!=1.8.1,<3.0.0,>=1.7.4->spacy<3.8.0,>=3.7.0->es-core-news-sm==3.7.0) (4.12.2)\n",
      "Requirement already satisfied: charset-normalizer<4,>=2 in /usr/local/lib/python3.10/dist-packages (from requests<3.0.0,>=2.13.0->spacy<3.8.0,>=3.7.0->es-core-news-sm==3.7.0) (3.3.2)\n",
      "Requirement already satisfied: idna<4,>=2.5 in /usr/local/lib/python3.10/dist-packages (from requests<3.0.0,>=2.13.0->spacy<3.8.0,>=3.7.0->es-core-news-sm==3.7.0) (3.7)\n",
      "Requirement already satisfied: urllib3<3,>=1.21.1 in /usr/local/lib/python3.10/dist-packages (from requests<3.0.0,>=2.13.0->spacy<3.8.0,>=3.7.0->es-core-news-sm==3.7.0) (2.0.7)\n",
      "Requirement already satisfied: certifi>=2017.4.17 in /usr/local/lib/python3.10/dist-packages (from requests<3.0.0,>=2.13.0->spacy<3.8.0,>=3.7.0->es-core-news-sm==3.7.0) (2024.6.2)\n",
      "Requirement already satisfied: blis<0.8.0,>=0.7.8 in /usr/local/lib/python3.10/dist-packages (from thinc<8.3.0,>=8.2.2->spacy<3.8.0,>=3.7.0->es-core-news-sm==3.7.0) (0.7.11)\n",
      "Requirement already satisfied: confection<1.0.0,>=0.0.1 in /usr/local/lib/python3.10/dist-packages (from thinc<8.3.0,>=8.2.2->spacy<3.8.0,>=3.7.0->es-core-news-sm==3.7.0) (0.1.5)\n",
      "Requirement already satisfied: click>=8.0.0 in /usr/local/lib/python3.10/dist-packages (from typer<1.0.0,>=0.3.0->spacy<3.8.0,>=3.7.0->es-core-news-sm==3.7.0) (8.1.7)\n",
      "Requirement already satisfied: shellingham>=1.3.0 in /usr/local/lib/python3.10/dist-packages (from typer<1.0.0,>=0.3.0->spacy<3.8.0,>=3.7.0->es-core-news-sm==3.7.0) (1.5.4)\n",
      "Requirement already satisfied: rich>=10.11.0 in /usr/local/lib/python3.10/dist-packages (from typer<1.0.0,>=0.3.0->spacy<3.8.0,>=3.7.0->es-core-news-sm==3.7.0) (13.7.1)\n",
      "Requirement already satisfied: cloudpathlib<1.0.0,>=0.7.0 in /usr/local/lib/python3.10/dist-packages (from weasel<0.5.0,>=0.1.0->spacy<3.8.0,>=3.7.0->es-core-news-sm==3.7.0) (0.18.1)\n",
      "Requirement already satisfied: smart-open<8.0.0,>=5.2.1 in /usr/local/lib/python3.10/dist-packages (from weasel<0.5.0,>=0.1.0->spacy<3.8.0,>=3.7.0->es-core-news-sm==3.7.0) (7.0.4)\n",
      "Requirement already satisfied: MarkupSafe>=2.0 in /usr/local/lib/python3.10/dist-packages (from jinja2->spacy<3.8.0,>=3.7.0->es-core-news-sm==3.7.0) (2.1.5)\n",
      "Requirement already satisfied: marisa-trie>=0.7.7 in /usr/local/lib/python3.10/dist-packages (from language-data>=1.2->langcodes<4.0.0,>=3.2.0->spacy<3.8.0,>=3.7.0->es-core-news-sm==3.7.0) (1.2.0)\n",
      "Requirement already satisfied: markdown-it-py>=2.2.0 in /usr/local/lib/python3.10/dist-packages (from rich>=10.11.0->typer<1.0.0,>=0.3.0->spacy<3.8.0,>=3.7.0->es-core-news-sm==3.7.0) (3.0.0)\n",
      "Requirement already satisfied: pygments<3.0.0,>=2.13.0 in /usr/local/lib/python3.10/dist-packages (from rich>=10.11.0->typer<1.0.0,>=0.3.0->spacy<3.8.0,>=3.7.0->es-core-news-sm==3.7.0) (2.16.1)\n",
      "Requirement already satisfied: wrapt in /usr/local/lib/python3.10/dist-packages (from smart-open<8.0.0,>=5.2.1->weasel<0.5.0,>=0.1.0->spacy<3.8.0,>=3.7.0->es-core-news-sm==3.7.0) (1.14.1)\n",
      "Requirement already satisfied: mdurl~=0.1 in /usr/local/lib/python3.10/dist-packages (from markdown-it-py>=2.2.0->rich>=10.11.0->typer<1.0.0,>=0.3.0->spacy<3.8.0,>=3.7.0->es-core-news-sm==3.7.0) (0.1.2)\n",
      "Installing collected packages: es-core-news-sm\n",
      "Successfully installed es-core-news-sm-3.7.0\n",
      "\u001b[38;5;2m✔ Download and installation successful\u001b[0m\n",
      "You can now load the package via spacy.load('es_core_news_sm')\n",
      "\u001b[38;5;3m⚠ Restart to reload dependencies\u001b[0m\n",
      "If you are in a Jupyter or Colab notebook, you may need to restart Python in\n",
      "order to load all the package's dependencies. You can do this by selecting the\n",
      "'Restart kernel' or 'Restart runtime' option.\n",
      "\u001b[38;5;3m⚠ As of spaCy v3.0, shortcuts like 'es' are deprecated. Please use the\n",
      "full pipeline package name 'es_core_news_sm' instead.\u001b[0m\n",
      "Collecting es-core-news-sm==3.7.0\n",
      "  Downloading https://github.com/explosion/spacy-models/releases/download/es_core_news_sm-3.7.0/es_core_news_sm-3.7.0-py3-none-any.whl (12.9 MB)\n",
      "\u001b[2K     \u001b[90m━━━━━━━━━━━━━━━━━━━━━━━━━━━━━━━━━━━━━━━━\u001b[0m \u001b[32m12.9/12.9 MB\u001b[0m \u001b[31m24.1 MB/s\u001b[0m eta \u001b[36m0:00:00\u001b[0m\n",
      "\u001b[?25hRequirement already satisfied: spacy<3.8.0,>=3.7.0 in /usr/local/lib/python3.10/dist-packages (from es-core-news-sm==3.7.0) (3.7.5)\n",
      "Requirement already satisfied: spacy-legacy<3.1.0,>=3.0.11 in /usr/local/lib/python3.10/dist-packages (from spacy<3.8.0,>=3.7.0->es-core-news-sm==3.7.0) (3.0.12)\n",
      "Requirement already satisfied: spacy-loggers<2.0.0,>=1.0.0 in /usr/local/lib/python3.10/dist-packages (from spacy<3.8.0,>=3.7.0->es-core-news-sm==3.7.0) (1.0.5)\n",
      "Requirement already satisfied: murmurhash<1.1.0,>=0.28.0 in /usr/local/lib/python3.10/dist-packages (from spacy<3.8.0,>=3.7.0->es-core-news-sm==3.7.0) (1.0.10)\n",
      "Requirement already satisfied: cymem<2.1.0,>=2.0.2 in /usr/local/lib/python3.10/dist-packages (from spacy<3.8.0,>=3.7.0->es-core-news-sm==3.7.0) (2.0.8)\n",
      "Requirement already satisfied: preshed<3.1.0,>=3.0.2 in /usr/local/lib/python3.10/dist-packages (from spacy<3.8.0,>=3.7.0->es-core-news-sm==3.7.0) (3.0.9)\n",
      "Requirement already satisfied: thinc<8.3.0,>=8.2.2 in /usr/local/lib/python3.10/dist-packages (from spacy<3.8.0,>=3.7.0->es-core-news-sm==3.7.0) (8.2.4)\n",
      "Requirement already satisfied: wasabi<1.2.0,>=0.9.1 in /usr/local/lib/python3.10/dist-packages (from spacy<3.8.0,>=3.7.0->es-core-news-sm==3.7.0) (1.1.3)\n",
      "Requirement already satisfied: srsly<3.0.0,>=2.4.3 in /usr/local/lib/python3.10/dist-packages (from spacy<3.8.0,>=3.7.0->es-core-news-sm==3.7.0) (2.4.8)\n",
      "Requirement already satisfied: catalogue<2.1.0,>=2.0.6 in /usr/local/lib/python3.10/dist-packages (from spacy<3.8.0,>=3.7.0->es-core-news-sm==3.7.0) (2.0.10)\n",
      "Requirement already satisfied: weasel<0.5.0,>=0.1.0 in /usr/local/lib/python3.10/dist-packages (from spacy<3.8.0,>=3.7.0->es-core-news-sm==3.7.0) (0.4.1)\n",
      "Requirement already satisfied: typer<1.0.0,>=0.3.0 in /usr/local/lib/python3.10/dist-packages (from spacy<3.8.0,>=3.7.0->es-core-news-sm==3.7.0) (0.12.3)\n",
      "Requirement already satisfied: tqdm<5.0.0,>=4.38.0 in /usr/local/lib/python3.10/dist-packages (from spacy<3.8.0,>=3.7.0->es-core-news-sm==3.7.0) (4.66.4)\n",
      "Requirement already satisfied: requests<3.0.0,>=2.13.0 in /usr/local/lib/python3.10/dist-packages (from spacy<3.8.0,>=3.7.0->es-core-news-sm==3.7.0) (2.31.0)\n",
      "Requirement already satisfied: pydantic!=1.8,!=1.8.1,<3.0.0,>=1.7.4 in /usr/local/lib/python3.10/dist-packages (from spacy<3.8.0,>=3.7.0->es-core-news-sm==3.7.0) (2.7.3)\n",
      "Requirement already satisfied: jinja2 in /usr/local/lib/python3.10/dist-packages (from spacy<3.8.0,>=3.7.0->es-core-news-sm==3.7.0) (3.1.4)\n",
      "Requirement already satisfied: setuptools in /usr/local/lib/python3.10/dist-packages (from spacy<3.8.0,>=3.7.0->es-core-news-sm==3.7.0) (67.7.2)\n",
      "Requirement already satisfied: packaging>=20.0 in /usr/local/lib/python3.10/dist-packages (from spacy<3.8.0,>=3.7.0->es-core-news-sm==3.7.0) (24.1)\n",
      "Requirement already satisfied: langcodes<4.0.0,>=3.2.0 in /usr/local/lib/python3.10/dist-packages (from spacy<3.8.0,>=3.7.0->es-core-news-sm==3.7.0) (3.4.0)\n",
      "Requirement already satisfied: numpy>=1.19.0 in /usr/local/lib/python3.10/dist-packages (from spacy<3.8.0,>=3.7.0->es-core-news-sm==3.7.0) (1.25.2)\n",
      "Requirement already satisfied: language-data>=1.2 in /usr/local/lib/python3.10/dist-packages (from langcodes<4.0.0,>=3.2.0->spacy<3.8.0,>=3.7.0->es-core-news-sm==3.7.0) (1.2.0)\n",
      "Requirement already satisfied: annotated-types>=0.4.0 in /usr/local/lib/python3.10/dist-packages (from pydantic!=1.8,!=1.8.1,<3.0.0,>=1.7.4->spacy<3.8.0,>=3.7.0->es-core-news-sm==3.7.0) (0.7.0)\n",
      "Requirement already satisfied: pydantic-core==2.18.4 in /usr/local/lib/python3.10/dist-packages (from pydantic!=1.8,!=1.8.1,<3.0.0,>=1.7.4->spacy<3.8.0,>=3.7.0->es-core-news-sm==3.7.0) (2.18.4)\n",
      "Requirement already satisfied: typing-extensions>=4.6.1 in /usr/local/lib/python3.10/dist-packages (from pydantic!=1.8,!=1.8.1,<3.0.0,>=1.7.4->spacy<3.8.0,>=3.7.0->es-core-news-sm==3.7.0) (4.12.2)\n",
      "Requirement already satisfied: charset-normalizer<4,>=2 in /usr/local/lib/python3.10/dist-packages (from requests<3.0.0,>=2.13.0->spacy<3.8.0,>=3.7.0->es-core-news-sm==3.7.0) (3.3.2)\n",
      "Requirement already satisfied: idna<4,>=2.5 in /usr/local/lib/python3.10/dist-packages (from requests<3.0.0,>=2.13.0->spacy<3.8.0,>=3.7.0->es-core-news-sm==3.7.0) (3.7)\n",
      "Requirement already satisfied: urllib3<3,>=1.21.1 in /usr/local/lib/python3.10/dist-packages (from requests<3.0.0,>=2.13.0->spacy<3.8.0,>=3.7.0->es-core-news-sm==3.7.0) (2.0.7)\n",
      "Requirement already satisfied: certifi>=2017.4.17 in /usr/local/lib/python3.10/dist-packages (from requests<3.0.0,>=2.13.0->spacy<3.8.0,>=3.7.0->es-core-news-sm==3.7.0) (2024.6.2)\n",
      "Requirement already satisfied: blis<0.8.0,>=0.7.8 in /usr/local/lib/python3.10/dist-packages (from thinc<8.3.0,>=8.2.2->spacy<3.8.0,>=3.7.0->es-core-news-sm==3.7.0) (0.7.11)\n",
      "Requirement already satisfied: confection<1.0.0,>=0.0.1 in /usr/local/lib/python3.10/dist-packages (from thinc<8.3.0,>=8.2.2->spacy<3.8.0,>=3.7.0->es-core-news-sm==3.7.0) (0.1.5)\n",
      "Requirement already satisfied: click>=8.0.0 in /usr/local/lib/python3.10/dist-packages (from typer<1.0.0,>=0.3.0->spacy<3.8.0,>=3.7.0->es-core-news-sm==3.7.0) (8.1.7)\n",
      "Requirement already satisfied: shellingham>=1.3.0 in /usr/local/lib/python3.10/dist-packages (from typer<1.0.0,>=0.3.0->spacy<3.8.0,>=3.7.0->es-core-news-sm==3.7.0) (1.5.4)\n",
      "Requirement already satisfied: rich>=10.11.0 in /usr/local/lib/python3.10/dist-packages (from typer<1.0.0,>=0.3.0->spacy<3.8.0,>=3.7.0->es-core-news-sm==3.7.0) (13.7.1)\n",
      "Requirement already satisfied: cloudpathlib<1.0.0,>=0.7.0 in /usr/local/lib/python3.10/dist-packages (from weasel<0.5.0,>=0.1.0->spacy<3.8.0,>=3.7.0->es-core-news-sm==3.7.0) (0.18.1)\n",
      "Requirement already satisfied: smart-open<8.0.0,>=5.2.1 in /usr/local/lib/python3.10/dist-packages (from weasel<0.5.0,>=0.1.0->spacy<3.8.0,>=3.7.0->es-core-news-sm==3.7.0) (7.0.4)\n",
      "Requirement already satisfied: MarkupSafe>=2.0 in /usr/local/lib/python3.10/dist-packages (from jinja2->spacy<3.8.0,>=3.7.0->es-core-news-sm==3.7.0) (2.1.5)\n",
      "Requirement already satisfied: marisa-trie>=0.7.7 in /usr/local/lib/python3.10/dist-packages (from language-data>=1.2->langcodes<4.0.0,>=3.2.0->spacy<3.8.0,>=3.7.0->es-core-news-sm==3.7.0) (1.2.0)\n",
      "Requirement already satisfied: markdown-it-py>=2.2.0 in /usr/local/lib/python3.10/dist-packages (from rich>=10.11.0->typer<1.0.0,>=0.3.0->spacy<3.8.0,>=3.7.0->es-core-news-sm==3.7.0) (3.0.0)\n",
      "Requirement already satisfied: pygments<3.0.0,>=2.13.0 in /usr/local/lib/python3.10/dist-packages (from rich>=10.11.0->typer<1.0.0,>=0.3.0->spacy<3.8.0,>=3.7.0->es-core-news-sm==3.7.0) (2.16.1)\n",
      "Requirement already satisfied: wrapt in /usr/local/lib/python3.10/dist-packages (from smart-open<8.0.0,>=5.2.1->weasel<0.5.0,>=0.1.0->spacy<3.8.0,>=3.7.0->es-core-news-sm==3.7.0) (1.14.1)\n",
      "Requirement already satisfied: mdurl~=0.1 in /usr/local/lib/python3.10/dist-packages (from markdown-it-py>=2.2.0->rich>=10.11.0->typer<1.0.0,>=0.3.0->spacy<3.8.0,>=3.7.0->es-core-news-sm==3.7.0) (0.1.2)\n",
      "\u001b[38;5;2m✔ Download and installation successful\u001b[0m\n",
      "You can now load the package via spacy.load('es_core_news_sm')\n",
      "\u001b[38;5;3m⚠ Restart to reload dependencies\u001b[0m\n",
      "If you are in a Jupyter or Colab notebook, you may need to restart Python in\n",
      "order to load all the package's dependencies. You can do this by selecting the\n",
      "'Restart kernel' or 'Restart runtime' option.\n"
     ]
    }
   ],
   "source": [
    "!pip install nltk\n",
    "!python -m spacy download es_core_news_sm\n",
    "!python -m spacy download es"
   ]
  },
  {
   "cell_type": "code",
   "execution_count": null,
   "metadata": {
    "colab": {
     "base_uri": "https://localhost:8080/"
    },
    "id": "YFlP9NlBN771",
    "outputId": "daab4f00-7feb-4851-b448-b87c80111d6c"
   },
   "outputs": [
    {
     "name": "stdout",
     "output_type": "stream",
     "text": [
      "Collecting unidecode\n",
      "  Downloading Unidecode-1.3.8-py3-none-any.whl (235 kB)\n",
      "\u001b[2K     \u001b[90m━━━━━━━━━━━━━━━━━━━━━━━━━━━━━━━━━━━━━━━━\u001b[0m \u001b[32m235.5/235.5 kB\u001b[0m \u001b[31m2.2 MB/s\u001b[0m eta \u001b[36m0:00:00\u001b[0m\n",
      "\u001b[?25hInstalling collected packages: unidecode\n",
      "Successfully installed unidecode-1.3.8\n"
     ]
    }
   ],
   "source": [
    "!pip install unidecode"
   ]
  },
  {
   "cell_type": "code",
   "execution_count": null,
   "metadata": {
    "id": "YOGHuDMG3nmA"
   },
   "outputs": [],
   "source": [
    "import pandas as pd\n",
    "import numpy as np\n",
    "\n",
    "from sklearn.model_selection import train_test_split\n",
    "\n",
    "import matplotlib.pyplot as plt\n",
    "import seaborn as sns\n",
    "\n",
    "import nltk\n",
    "import spacy\n",
    "\n",
    "from sklearn.model_selection import cross_val_score, RandomizedSearchCV, GridSearchCV, StratifiedKFold\n",
    "from sklearn.metrics import make_scorer, f1_score\n",
    "import xgboost as xgb\n",
    "\n",
    "import re\n",
    "from nltk.corpus import stopwords\n",
    "from nltk.stem import SnowballStemmer\n",
    "from nltk.tokenize import ToktokTokenizer\n",
    "from nltk.tokenize import word_tokenize\n",
    "from sklearn.pipeline import Pipeline\n",
    "from sklearn.metrics import confusion_matrix, classification_report\n",
    "\n",
    "from sklearn.feature_extraction.text import TfidfVectorizer, CountVectorizer\n",
    "from sklearn.pipeline import make_pipeline\n",
    "\n",
    "from joblib import dump, load\n",
    "from os.path import exists"
   ]
  },
  {
   "cell_type": "code",
   "execution_count": null,
   "metadata": {
    "id": "mPYENhyLN-Zu"
   },
   "outputs": [],
   "source": [
    "from unidecode import unidecode"
   ]
  },
  {
   "cell_type": "code",
   "execution_count": null,
   "metadata": {
    "colab": {
     "base_uri": "https://localhost:8080/"
    },
    "id": "5fRr3-QwQqjd",
    "outputId": "c69c4ba6-529b-4b75-d61e-5fcf755e09cb"
   },
   "outputs": [
    {
     "name": "stderr",
     "output_type": "stream",
     "text": [
      "[nltk_data] Downloading package punkt to /root/nltk_data...\n",
      "[nltk_data]   Unzipping tokenizers/punkt.zip.\n"
     ]
    },
    {
     "data": {
      "text/plain": [
       "True"
      ]
     },
     "execution_count": 5,
     "metadata": {},
     "output_type": "execute_result"
    }
   ],
   "source": [
    "nltk.download('punkt')"
   ]
  },
  {
   "cell_type": "code",
   "execution_count": null,
   "metadata": {
    "id": "24WKDPnaEij4"
   },
   "outputs": [],
   "source": [
    "nlp = spacy.load('es_core_news_sm')"
   ]
  },
  {
   "cell_type": "code",
   "execution_count": null,
   "metadata": {
    "colab": {
     "base_uri": "https://localhost:8080/"
    },
    "id": "v4c_uTRbeT-0",
    "outputId": "9ccfd671-d11f-48e5-bd58-eb8a6a61c33e"
   },
   "outputs": [
    {
     "name": "stderr",
     "output_type": "stream",
     "text": [
      "[nltk_data] Downloading package stopwords to /root/nltk_data...\n",
      "[nltk_data]   Unzipping corpora/stopwords.zip.\n"
     ]
    },
    {
     "data": {
      "text/plain": [
       "True"
      ]
     },
     "execution_count": 7,
     "metadata": {},
     "output_type": "execute_result"
    }
   ],
   "source": [
    "nltk.download('stopwords')"
   ]
  },
  {
   "cell_type": "markdown",
   "metadata": {
    "id": "pOpuytPoG65V"
   },
   "source": [
    "# Carga de datos"
   ]
  },
  {
   "cell_type": "markdown",
   "metadata": {
    "id": "GJaw8lJZG96-"
   },
   "source": [
    "Cargo el dataset de entrenamiento"
   ]
  },
  {
   "cell_type": "code",
   "execution_count": null,
   "metadata": {
    "id": "aedp8TtjHO8N"
   },
   "outputs": [],
   "source": [
    "df_train = pd.read_csv(\"https://drive.usercontent.google.com/u/1/uc?id=17JRXErnbhnHxhD8Z8AFfOP4fJnkivu0-&export=download\", index_col=0)"
   ]
  },
  {
   "cell_type": "markdown",
   "metadata": {
    "id": "K6LOaN3AHAOt"
   },
   "source": [
    "Cargo el dataset de testing"
   ]
  },
  {
   "cell_type": "code",
   "execution_count": null,
   "metadata": {
    "id": "ScUk8Xn4W_Kl"
   },
   "outputs": [],
   "source": [
    "df_test = pd.read_csv(\"https://drive.usercontent.google.com/u/1/uc?id=1HtgxC7iumrAXTsaAS6Qkp0w25eerGc4w&export=download\", index_col=0)"
   ]
  },
  {
   "cell_type": "markdown",
   "metadata": {
    "id": "35gnOt31hvMP"
   },
   "source": [
    "# Vectorizer"
   ]
  },
  {
   "cell_type": "code",
   "execution_count": null,
   "metadata": {
    "id": "aAkVRu9X1od1"
   },
   "outputs": [],
   "source": [
    "def metricas(y_pred,y_test):\n",
    "\n",
    "  print(classification_report(y_test,y_pred))\n",
    "\n",
    "  cm = confusion_matrix(y_test,y_pred)\n",
    "  sns.heatmap(cm, cmap='Blues',annot=True,fmt='g')\n",
    "  plt.xlabel('Predicted')\n",
    "  plt.ylabel('True')"
   ]
  },
  {
   "cell_type": "code",
   "execution_count": null,
   "metadata": {
    "id": "vcGrnQ3t4Y56"
   },
   "outputs": [],
   "source": [
    "sentimiento_a_string = np.vectorize(lambda x: 'negativo' if x == 0 else 'positivo')"
   ]
  },
  {
   "cell_type": "markdown",
   "metadata": {
    "id": "0QAHDqYzDYbt"
   },
   "source": [
    "## Bag of Words"
   ]
  },
  {
   "cell_type": "markdown",
   "metadata": {
    "id": "btcxLG7eSl-M"
   },
   "source": [
    "Hago una copia del dataset."
   ]
  },
  {
   "cell_type": "code",
   "execution_count": null,
   "metadata": {
    "id": "VStk4Bt3M9f8"
   },
   "outputs": [],
   "source": [
    "df_trabajo = df_train.copy()"
   ]
  },
  {
   "cell_type": "markdown",
   "metadata": {
    "id": "3EHIhE56SoJ0"
   },
   "source": [
    "Transformo los textos a minusculas, elimino diacríticos y tokenizo dejando solo palabras para formar un texto normalizado."
   ]
  },
  {
   "cell_type": "code",
   "execution_count": null,
   "metadata": {
    "id": "SUVl3dNzPmiI"
   },
   "outputs": [],
   "source": [
    "def limpiar_texto(texto):\n",
    "\n",
    "  texto = texto.lower()\n",
    "\n",
    "  # texto = unidecode(texto)\n",
    "\n",
    "  return texto"
   ]
  },
  {
   "cell_type": "code",
   "execution_count": null,
   "metadata": {
    "id": "0HHzJodEdCy3"
   },
   "outputs": [],
   "source": [
    "def tokenizar(texto):\n",
    "  # tokenizar un texto y dejar solo palabras\n",
    "  tokens = [w.text for w in nlp.tokenizer(texto)]\n",
    "\n",
    "  tokens = [token.lower() for token in tokens if token.isalpha()]\n",
    "\n",
    "  return tokens"
   ]
  },
  {
   "cell_type": "markdown",
   "metadata": {
    "id": "GM-wiSBoyPs8"
   },
   "source": [
    "Genero una lista de stopwords en Español."
   ]
  },
  {
   "cell_type": "code",
   "execution_count": null,
   "metadata": {
    "id": "hyIeH9Bhd4DX"
   },
   "outputs": [],
   "source": [
    "stoplist = stopwords.words(\"spanish\")"
   ]
  },
  {
   "cell_type": "code",
   "execution_count": null,
   "metadata": {
    "id": "prEoG5B5d-UN"
   },
   "outputs": [],
   "source": [
    "stoplist_tokenized = []\n",
    "for w in stoplist:\n",
    "    stoplist_tokenized = stoplist_tokenized + tokenizar(w)"
   ]
  },
  {
   "cell_type": "code",
   "execution_count": null,
   "metadata": {
    "id": "IysM94c9dsNl"
   },
   "outputs": [],
   "source": [
    "stopword_list_tokenized = list(set(stoplist_tokenized))"
   ]
  },
  {
   "cell_type": "markdown",
   "metadata": {
    "id": "rnj1dx_lSklD"
   },
   "source": [
    "Ahora entreno el CountVectorizer para armar la bag of words."
   ]
  },
  {
   "cell_type": "code",
   "execution_count": null,
   "metadata": {
    "id": "vLCWXCdMexSc"
   },
   "outputs": [],
   "source": [
    "X_train, X_test, y_train, y_test = train_test_split(df_trabajo.review_es, df_trabajo.sentimiento, test_size=0.2, random_state=13, stratify=df_trabajo.sentimiento)"
   ]
  },
  {
   "cell_type": "markdown",
   "metadata": {
    "id": "o3OXxIl0Z-_D"
   },
   "source": [
    "XGBoost no permite las categorias como \"positive\" y \"negative\", por eso debo transformarlas a 0 y 1. Tomo 1 como \"positive\" y 0 como \"negative\"."
   ]
  },
  {
   "cell_type": "code",
   "execution_count": null,
   "metadata": {
    "id": "W5kGSBm2fNRL"
   },
   "outputs": [],
   "source": [
    "y_train_num = y_train.map(lambda x: 0 if x == 'negativo' else 1)\n",
    "y_test_num = y_test.map(lambda x: 0 if x == 'negativo' else 1)"
   ]
  },
  {
   "cell_type": "markdown",
   "metadata": {
    "id": "i9lMtOdtyWQB"
   },
   "source": [
    "Creo la grilla de híperparametros."
   ]
  },
  {
   "cell_type": "code",
   "execution_count": null,
   "metadata": {
    "id": "Ha4hQvMiaV-0"
   },
   "outputs": [],
   "source": [
    "params_grid = {\n",
    "  'booster': ['gbtree'],\n",
    "  'n_estimators': range(1, 50),\n",
    "  'max_depth': range(1, 25),\n",
    "  'learning_rate': np.linspace(0, 1, 300),\n",
    "  'min_child_weight': range(1, 8),\n",
    "  'colsample_bytree': np.linspace(0, 1),\n",
    "  'reg_alpha': np.linspace(0, 1),\n",
    "  'reg_lambda': np.linspace(0, 1)\n",
    "}"
   ]
  },
  {
   "cell_type": "markdown",
   "metadata": {
    "id": "xyzZU_xfyZHL"
   },
   "source": [
    "Creo la bag of words."
   ]
  },
  {
   "cell_type": "code",
   "execution_count": null,
   "metadata": {
    "colab": {
     "base_uri": "https://localhost:8080/"
    },
    "id": "uRraWKAuSkDC",
    "outputId": "c2018db7-305d-44c8-c17e-dc0f94e62d5f"
   },
   "outputs": [
    {
     "name": "stderr",
     "output_type": "stream",
     "text": [
      "/usr/local/lib/python3.10/dist-packages/sklearn/feature_extraction/text.py:528: UserWarning: The parameter 'token_pattern' will not be used since 'tokenizer' is not None'\n",
      "  warnings.warn(\n"
     ]
    }
   ],
   "source": [
    "vec = CountVectorizer(preprocessor=limpiar_texto,\n",
    "                      tokenizer=tokenizar,\n",
    "                      stop_words=stopword_list_tokenized)\n",
    "\n",
    "X_train_bag = vec.fit_transform(X_train)\n",
    "X_test_bag = vec.transform(X_test)"
   ]
  },
  {
   "cell_type": "markdown",
   "metadata": {
    "id": "w8tz4_vOyabp"
   },
   "source": [
    "Entreno con cross validation."
   ]
  },
  {
   "cell_type": "code",
   "execution_count": null,
   "metadata": {
    "id": "rlCJWIjTgeMp"
   },
   "outputs": [],
   "source": [
    "xgb_base = xgb.XGBClassifier()\n",
    "\n",
    "if exists('xgb_lower_token_stopword_countvectorizer.joblib') == False:\n",
    "  randomcv = RandomizedSearchCV(xgb_base,\n",
    "                                params_grid,\n",
    "                                cv=5,\n",
    "                                scoring='f1_micro',\n",
    "                                n_iter=2,\n",
    "                                random_state=13)\n",
    "\n",
    "  randomcv_prueba = randomcv.fit(X_train_bag, y_train_num)\n",
    "\n",
    "  print(str(randomcv_prueba.best_params_))\n",
    "  print(str(randomcv_prueba.best_score_))\n",
    "else:\n",
    "  xgb_model_countvec = load('xgb_lower_token_stopword_countvectorizer.joblib')"
   ]
  },
  {
   "cell_type": "code",
   "execution_count": null,
   "metadata": {
    "id": "f2lic0wn000L"
   },
   "outputs": [],
   "source": [
    "if exists('xgb_lower_token_stopword_countvectorizer.joblib') == False:\n",
    "  xgb_model_countvec = xgb.XGBClassifier()\n",
    "\n",
    "  xgb_model_countvec.set_params(**randomcv_prueba.best_params_)\n",
    "\n",
    "xgb_model_countvec.fit(X_train_bag, y_train_num)\n",
    "y_pred_test = xgb_model_countvec.predict(X_test_bag)"
   ]
  },
  {
   "cell_type": "code",
   "execution_count": null,
   "metadata": {
    "colab": {
     "base_uri": "https://localhost:8080/",
     "height": 605
    },
    "id": "2eAB3f0t1pjp",
    "outputId": "ca60bf69-fd37-4cd3-9154-fec31126c735"
   },
   "outputs": [
    {
     "name": "stdout",
     "output_type": "stream",
     "text": [
      "              precision    recall  f1-score   support\n",
      "\n",
      "           0       0.82      0.81      0.82      5000\n",
      "           1       0.82      0.82      0.82      5000\n",
      "\n",
      "    accuracy                           0.82     10000\n",
      "   macro avg       0.82      0.82      0.82     10000\n",
      "weighted avg       0.82      0.82      0.82     10000\n",
      "\n"
     ]
    },
    {
     "data": {
      "image/png": "[encoded data removed]",
      "text/plain": [
       "<Figure size 640x480 with 2 Axes>"
      ]
     },
     "metadata": {},
     "output_type": "display_data"
    }
   ],
   "source": [
    "metricas(y_pred_test, y_test_num)"
   ]
  },
  {
   "cell_type": "markdown",
   "metadata": {
    "id": "AGSqYMwL22OT"
   },
   "source": [
    "Transformo las reviews de tests"
   ]
  },
  {
   "cell_type": "code",
   "execution_count": null,
   "metadata": {
    "id": "nyiefej93PXR"
   },
   "outputs": [],
   "source": [
    "X_test_real = vec.transform(df_test[\"review_es\"])"
   ]
  },
  {
   "cell_type": "markdown",
   "metadata": {
    "id": "V0ATpQZUE8dF"
   },
   "source": [
    "Hago las predicciones"
   ]
  },
  {
   "cell_type": "code",
   "execution_count": null,
   "metadata": {
    "id": "NUthVMUX23ah"
   },
   "outputs": [],
   "source": [
    "y_test_pred_real = xgb_model_countvec.predict(X_test_real)"
   ]
  },
  {
   "cell_type": "code",
   "execution_count": null,
   "metadata": {
    "id": "WhrR1QN6CKCz"
   },
   "outputs": [],
   "source": [
    "y_pred_real = sentimiento_a_string(y_test_pred_real)"
   ]
  },
  {
   "cell_type": "markdown",
   "metadata": {
    "id": "PmCp2zXGE2Kc"
   },
   "source": [
    "Inlcuyo las predicciones en el dataframe de test"
   ]
  },
  {
   "cell_type": "code",
   "execution_count": null,
   "metadata": {
    "id": "0zCayy5ZCFtK"
   },
   "outputs": [],
   "source": [
    "df_test[\"sentimiento\"] = y_pred_real\n",
    "\n",
    "df_export = df_test.copy()"
   ]
  },
  {
   "cell_type": "markdown",
   "metadata": {
    "id": "5-CS7MxMEzno"
   },
   "source": [
    "Quito la columna de reviews"
   ]
  },
  {
   "cell_type": "code",
   "execution_count": null,
   "metadata": {
    "id": "KkRjZx_yDmYC"
   },
   "outputs": [],
   "source": [
    "df_export.drop([\"review_es\"], axis=\"columns\", inplace=True)"
   ]
  },
  {
   "cell_type": "markdown",
   "metadata": {
    "id": "kl1UUEI6EyF_"
   },
   "source": [
    "Exporto las predicciones"
   ]
  },
  {
   "cell_type": "code",
   "execution_count": null,
   "metadata": {
    "id": "AAfDDFh3DqWT"
   },
   "outputs": [],
   "source": [
    "if exists('xgb_lower_token_stopword_countvectorizer.csv') == False:\n",
    "  df_export.to_csv(\"xgb_lower_token_stopword_countvectorizer.csv\")"
   ]
  },
  {
   "cell_type": "markdown",
   "metadata": {
    "id": "Grr0F34sEwjg"
   },
   "source": [
    "Exporto el modelo"
   ]
  },
  {
   "cell_type": "code",
   "execution_count": null,
   "metadata": {
    "id": "6ldiIdM-D4R6"
   },
   "outputs": [],
   "source": [
    "if exists('xgb_lower_token_stopword_countvectorizer.joblib') == False:\n",
    "  dump(xgb_model_countvec, 'xgb_lower_token_stopword_countvectorizer.joblib')"
   ]
  },
  {
   "cell_type": "markdown",
   "metadata": {
    "id": "5R6D55zFhvvx"
   },
   "source": [
    "# TFIDF"
   ]
  },
  {
   "cell_type": "markdown",
   "metadata": {
    "id": "-J9PogiXZ43q"
   },
   "source": [
    "Ahora pruebo con TFIDF para ver el impacto sobre las predicciones."
   ]
  },
  {
   "cell_type": "code",
   "execution_count": null,
   "metadata": {
    "colab": {
     "base_uri": "https://localhost:8080/"
    },
    "id": "VZXYibrYGIHd",
    "outputId": "95b721c2-ad42-4819-a1bc-5accade3659f"
   },
   "outputs": [
    {
     "name": "stderr",
     "output_type": "stream",
     "text": [
      "/usr/local/lib/python3.10/dist-packages/sklearn/feature_extraction/text.py:528: UserWarning: The parameter 'token_pattern' will not be used since 'tokenizer' is not None'\n",
      "  warnings.warn(\n"
     ]
    }
   ],
   "source": [
    "tfidfvec = TfidfVectorizer(preprocessor=limpiar_texto,\n",
    "                      tokenizer=tokenizar,\n",
    "                      stop_words=stopword_list_tokenized)\n",
    "\n",
    "X_train_bag = tfidfvec.fit_transform(X_train)\n",
    "X_test_bag = tfidfvec.transform(X_test)\n",
    "X_real = tfidfvec.transform(df_test[\"review_es\"])"
   ]
  },
  {
   "cell_type": "code",
   "execution_count": null,
   "metadata": {
    "colab": {
     "base_uri": "https://localhost:8080/"
    },
    "id": "PZYE9al6H7GI",
    "outputId": "8732849a-7434-4f27-d014-694d9fc3baf5"
   },
   "outputs": [
    {
     "name": "stdout",
     "output_type": "stream",
     "text": [
      "{'reg_lambda': 0.8775510204081632, 'reg_alpha': 0.6530612244897959, 'n_estimators': 29, 'min_child_weight': 7, 'max_depth': 1, 'learning_rate': 0.9397993311036789, 'device': 'cuda', 'colsample_bytree': 0.2857142857142857, 'booster': 'gbtree'}\n",
      "0.686125\n"
     ]
    }
   ],
   "source": [
    "xgb_base = xgb.XGBClassifier(device=\"cuda\")\n",
    "\n",
    "if exists('xgb_lower_token_stopwords_tfidf.joblib') == False:\n",
    "  randomcv = RandomizedSearchCV(xgb_base,\n",
    "                                params_grid,\n",
    "                                cv=5,\n",
    "                                scoring='f1_micro',\n",
    "                                n_iter=5,\n",
    "                                random_state=13)\n",
    "\n",
    "  randomcv_prueba = randomcv.fit(X_train_bag, y_train_num)\n",
    "\n",
    "  print(str(randomcv_prueba.best_params_))\n",
    "  print(str(randomcv_prueba.best_score_))\n",
    "\n",
    "  xgb_model_tfidf = xgb.XGBClassifier()\n",
    "  xgb_model_tfidf.set_params(**randomcv_prueba.best_params_)\n",
    "else:\n",
    "  xgb_model_tfidf = load('xgb_lower_token_stopwords_tfidf.joblib')"
   ]
  },
  {
   "cell_type": "code",
   "execution_count": null,
   "metadata": {
    "id": "zXcKnqGZdheT"
   },
   "outputs": [],
   "source": [
    "xgb_model_tfidf.fit(X_train_bag, y_train_num)\n",
    "y_pred_test_2 = xgb_model_tfidf.predict(X_test_bag)"
   ]
  },
  {
   "cell_type": "markdown",
   "metadata": {
    "id": "4jnDDvLq5QsG"
   },
   "source": [
    "TFIDF resulto ser mucho peor que la bag of words."
   ]
  },
  {
   "cell_type": "code",
   "execution_count": null,
   "metadata": {
    "colab": {
     "base_uri": "https://localhost:8080/",
     "height": 605
    },
    "id": "ci3u8xOpdjMo",
    "outputId": "236cf38d-93c9-4c6d-c7a2-ae7e50deaa93"
   },
   "outputs": [
    {
     "name": "stdout",
     "output_type": "stream",
     "text": [
      "              precision    recall  f1-score   support\n",
      "\n",
      "           0       0.71      0.61      0.66      5000\n",
      "           1       0.66      0.75      0.70      5000\n",
      "\n",
      "    accuracy                           0.68     10000\n",
      "   macro avg       0.68      0.68      0.68     10000\n",
      "weighted avg       0.68      0.68      0.68     10000\n",
      "\n"
     ]
    },
    {
     "data": {
      "image/png": "[encoded data removed]",
      "text/plain": [
       "<Figure size 640x480 with 2 Axes>"
      ]
     },
     "metadata": {},
     "output_type": "display_data"
    }
   ],
   "source": [
    "metricas(y_pred_test_2, y_test_num)"
   ]
  },
  {
   "cell_type": "markdown",
   "metadata": {
    "id": "obUr42fE5V8Q"
   },
   "source": [
    "Predigo el verdadero conjunto de test."
   ]
  },
  {
   "cell_type": "code",
   "execution_count": null,
   "metadata": {
    "id": "u94933wMJVf6"
   },
   "outputs": [],
   "source": [
    "y_pred_real = xgb_model_tfidf.predict(X_real)\n",
    "\n",
    "y_pred_real = sentimiento_a_string(y_pred_real)"
   ]
  },
  {
   "cell_type": "markdown",
   "metadata": {
    "id": "ousX8ljD5ZiP"
   },
   "source": [
    "Exporto el modelo y las predicciones."
   ]
  },
  {
   "cell_type": "code",
   "execution_count": null,
   "metadata": {
    "id": "Z7a2-Tj8KgzL"
   },
   "outputs": [],
   "source": [
    "df_test[\"sentimiento\"] = y_pred_real\n",
    "\n",
    "df_export = df_test.copy()"
   ]
  },
  {
   "cell_type": "code",
   "execution_count": null,
   "metadata": {
    "id": "CbCrKuLNKo46"
   },
   "outputs": [],
   "source": [
    "df_export.drop([\"review_es\"], axis=\"columns\", inplace=True)"
   ]
  },
  {
   "cell_type": "code",
   "execution_count": null,
   "metadata": {
    "id": "Ww6mOvYDKtxb"
   },
   "outputs": [],
   "source": [
    "if exists('xgb_lower_token_stopwords_tfidf.csv') == False:\n",
    "  df_export.to_csv(\"xgb_lower_token_stopwords_tfidf.csv\")"
   ]
  },
  {
   "cell_type": "code",
   "execution_count": null,
   "metadata": {
    "id": "Wpmos_GAKvlA"
   },
   "outputs": [],
   "source": [
    "if exists('xgb_lower_token_stopwords_tfidf.joblib') == False:\n",
    "  dump(xgb_model_tfidf, 'xgb_lower_token_stopwords_tfidf.joblib')"
   ]
  },
  {
   "cell_type": "markdown",
   "metadata": {
    "id": "adS04jnixach"
   },
   "source": [
    "# Otro Preproceso"
   ]
  },
  {
   "cell_type": "markdown",
   "metadata": {
    "id": "k8W3dKuUcrzB"
   },
   "source": [
    "Pruebo con un dataset preprocesado de otra manera. Regex para limpieza, lematizacion, ner, iob y negacion de palabras."
   ]
  },
  {
   "cell_type": "code",
   "execution_count": null,
   "metadata": {
    "id": "-ZGtXmyLEyMj"
   },
   "outputs": [],
   "source": [
    "df_train = pd.read_csv(\"/content/drive/MyDrive/train-preprocessed.csv\", index_col=0)"
   ]
  },
  {
   "cell_type": "code",
   "execution_count": null,
   "metadata": {
    "id": "S1SFVNUFEynz"
   },
   "outputs": [],
   "source": [
    "df_test = pd.read_csv(\"/content/drive/MyDrive/test-preprocessed.csv\", index_col=0)"
   ]
  },
  {
   "cell_type": "code",
   "execution_count": null,
   "metadata": {
    "id": "qYlBOqpnxifZ"
   },
   "outputs": [],
   "source": [
    "X_train, X_test, y_train, y_test = train_test_split(df_train.review_es, df_train.sentimiento, test_size=0.2, random_state=13, stratify=df_train.sentimiento)"
   ]
  },
  {
   "cell_type": "markdown",
   "metadata": {
    "id": "vDrF2KkIc2CN"
   },
   "source": [
    "Convierto los sentimientos a numero."
   ]
  },
  {
   "cell_type": "code",
   "execution_count": null,
   "metadata": {
    "id": "vzbKxRfyHrpw"
   },
   "outputs": [],
   "source": [
    "y_train_num = y_train.map(lambda x: 0 if x == 'negativo' else 1)\n",
    "y_test_num = y_test.map(lambda x: 0 if x == 'negativo' else 1)"
   ]
  },
  {
   "cell_type": "code",
   "execution_count": null,
   "metadata": {
    "id": "HOjNFuIYIwEv"
   },
   "outputs": [],
   "source": [
    "params_grid = {\n",
    "  'booster': ['gblinear', 'gbtree', 'dart'],\n",
    "  'n_estimators': range(10, 100),\n",
    "  'max_depth': range(6, 100),\n",
    "  'learning_rate': np.linspace(0, 1, 500),\n",
    "  'min_child_weight': range(0, 20),\n",
    "  'colsample_bytree': np.linspace(0, 1),\n",
    "  'reg_alpha': np.linspace(0, 1, 500),\n",
    "  'reg_lambda': np.linspace(0, 1, 500),\n",
    "  'min_split_loss': range(0, 50)\n",
    "}"
   ]
  },
  {
   "cell_type": "markdown",
   "metadata": {
    "id": "dB1OeATYxdPA"
   },
   "source": [
    "### TFIDF"
   ]
  },
  {
   "cell_type": "markdown",
   "metadata": {
    "id": "s_vRl6E7c5Gh"
   },
   "source": [
    "Formo la bag of words."
   ]
  },
  {
   "cell_type": "code",
   "execution_count": null,
   "metadata": {
    "colab": {
     "background_save": true
    },
    "id": "2_AVnKVUxc1m"
   },
   "outputs": [],
   "source": [
    "tfidfvec = TfidfVectorizer(ngram_range=(1,3),\n",
    "                           min_df=20)\n",
    "\n",
    "X_train_bag = tfidfvec.fit_transform(X_train)\n",
    "X_test_bag = tfidfvec.transform(X_test)\n",
    "X_real = tfidfvec.transform(df_test[\"review_es\"])"
   ]
  },
  {
   "cell_type": "markdown",
   "metadata": {
    "id": "3_Nlkt3wc8IU"
   },
   "source": [
    "Busco el mejor modelo."
   ]
  },
  {
   "cell_type": "code",
   "execution_count": null,
   "metadata": {
    "id": "leM0kEZQbKOT"
   },
   "outputs": [],
   "source": [
    "xgb_base = xgb.XGBClassifier()\n",
    "\n",
    "if exists('xgb_model_regex_lema_ner_iob_negacion_ngram_tfidf.joblib') == False:\n",
    "  randomcv = RandomizedSearchCV(xgb_base,\n",
    "                                params_grid,\n",
    "                                cv=5,\n",
    "                                scoring='f1_micro',\n",
    "                                n_iter=5,\n",
    "                                random_state=13)\n",
    "\n",
    "  randomcv = randomcv.fit(X_train_bag, y_train_num)\n",
    "\n",
    "  print(str(randomcv.best_params_))\n",
    "  print(str(randomcv.best_score_))\n",
    "\n",
    "  xgb_tfidf_ngram = xgb.XGBClassifier()\n",
    "  xgb_tfidf_ngram.set_params(**randomcv.best_params_)\n",
    "else:\n",
    "  xgb_tfidf_ngram = load('xgb_model_regex_lema_ner_iob_negacion_ngram_tfidf.joblib')"
   ]
  },
  {
   "cell_type": "markdown",
   "metadata": {
    "id": "ghy3MpqGc-Kc"
   },
   "source": [
    "Entreno el modelo y hago las predicciones sobre el conjunto de test."
   ]
  },
  {
   "cell_type": "code",
   "execution_count": null,
   "metadata": {
    "colab": {
     "base_uri": "https://localhost:8080/",
     "height": 605
    },
    "id": "sPmfvd37bPzs",
    "outputId": "2a94592f-5d6d-4c9f-a885-4928a495a75e"
   },
   "outputs": [
    {
     "name": "stdout",
     "output_type": "stream",
     "text": [
      "              precision    recall  f1-score   support\n",
      "\n",
      "           0       0.86      0.84      0.85      5000\n",
      "           1       0.84      0.86      0.85      5000\n",
      "\n",
      "    accuracy                           0.85     10000\n",
      "   macro avg       0.85      0.85      0.85     10000\n",
      "weighted avg       0.85      0.85      0.85     10000\n",
      "\n"
     ]
    },
    {
     "data": {
      "image/png": "[encoded data removed]",
      "text/plain": [
       "<Figure size 640x480 with 2 Axes>"
      ]
     },
     "metadata": {},
     "output_type": "display_data"
    }
   ],
   "source": [
    "xgb_tfidf_ngram.fit(X_train_bag, y_train_num)\n",
    "y_pred_test_4 = xgb_tfidf_ngram.predict(X_test_bag)\n",
    "metricas(y_pred_test_4, y_test_num)"
   ]
  },
  {
   "cell_type": "markdown",
   "metadata": {
    "id": "nYpsZnV3dBSf"
   },
   "source": [
    "Hago las predicciones sobre el verdadero conjunto de test de kaggle."
   ]
  },
  {
   "cell_type": "code",
   "execution_count": null,
   "metadata": {
    "id": "HbC4yGefbWAZ"
   },
   "outputs": [],
   "source": [
    "y_pred_real = xgb_tfidf_ngram.predict(X_real)\n",
    "\n",
    "y_pred_real = sentimiento_a_string(y_pred_real)"
   ]
  },
  {
   "cell_type": "markdown",
   "metadata": {
    "id": "c4OxoFjqdEqY"
   },
   "source": [
    "Creo un nuevo dataframe y exporto las predicciones."
   ]
  },
  {
   "cell_type": "code",
   "execution_count": null,
   "metadata": {
    "id": "0tVeGDlXbYTX"
   },
   "outputs": [],
   "source": [
    "df_test[\"sentimiento\"] = y_pred_real\n",
    "\n",
    "df_export = df_test.copy()\n",
    "df_export.drop([\"review_es\"], axis=\"columns\", inplace=True)\n",
    "df_export.drop([\"texto_preprocesado\"], axis=\"columns\", inplace=True)\n",
    "df_export.drop([\"lang\"], axis=\"columns\", inplace=True)"
   ]
  },
  {
   "cell_type": "code",
   "execution_count": null,
   "metadata": {
    "id": "j8P9xJEObabX"
   },
   "outputs": [],
   "source": [
    "if exists('xgb_model_regex_lema_ner_iob_negacion_ngram_tfidf.csv') == False:\n",
    "  df_export.to_csv(\"xgb_model_regex_lema_ner_iob_negacion_ngram_tfidf.csv\")"
   ]
  },
  {
   "cell_type": "markdown",
   "metadata": {
    "id": "2KVI0K8mdPm1"
   },
   "source": [
    "Exporto el modelo."
   ]
  },
  {
   "cell_type": "code",
   "execution_count": null,
   "metadata": {
    "id": "-kG-h8UGbgXy"
   },
   "outputs": [],
   "source": [
    "if exists('xgb_model_regex_lema_ner_iob_negacion_ngram_tfidf.joblib') == False:\n",
    "  dump(xgb_tfidf_ngram, 'xgb_model_regex_lema_ner_iob_negacion_ngram_tfidf.joblib')"
   ]
  },
  {
   "cell_type": "markdown",
   "metadata": {
    "id": "rgYQkX6Cxfr-"
   },
   "source": [
    "### Countvectorizer"
   ]
  },
  {
   "cell_type": "code",
   "execution_count": null,
   "metadata": {
    "id": "UmjQBZkRGpdD"
   },
   "outputs": [],
   "source": [
    "vec = CountVectorizer()\n",
    "\n",
    "X_train_bag = vec.fit_transform(X_train)\n",
    "X_test_bag = vec.transform(X_test)\n",
    "X_real = vec.transform(df_test[\"review_es\"])"
   ]
  },
  {
   "cell_type": "code",
   "execution_count": null,
   "metadata": {
    "colab": {
     "base_uri": "https://localhost:8080/"
    },
    "id": "buSdV3-EGrZp",
    "outputId": "f4bf6b10-08b8-44d4-ac83-346b834d6380"
   },
   "outputs": [
    {
     "name": "stderr",
     "output_type": "stream",
     "text": [
      "/usr/local/lib/python3.10/dist-packages/xgboost/core.py:160: UserWarning: [13:56:22] WARNING: /workspace/src/context.cc:44: No visible GPU is found, setting device to CPU.\n",
      "  warnings.warn(smsg, UserWarning)\n",
      "/usr/local/lib/python3.10/dist-packages/xgboost/core.py:160: UserWarning: [13:56:32] WARNING: /workspace/src/context.cc:44: No visible GPU is found, setting device to CPU.\n",
      "  warnings.warn(smsg, UserWarning)\n",
      "/usr/local/lib/python3.10/dist-packages/xgboost/core.py:160: UserWarning: [13:56:40] WARNING: /workspace/src/context.cc:44: No visible GPU is found, setting device to CPU.\n",
      "  warnings.warn(smsg, UserWarning)\n",
      "/usr/local/lib/python3.10/dist-packages/xgboost/core.py:160: UserWarning: [13:56:50] WARNING: /workspace/src/context.cc:44: No visible GPU is found, setting device to CPU.\n",
      "  warnings.warn(smsg, UserWarning)\n",
      "/usr/local/lib/python3.10/dist-packages/xgboost/core.py:160: UserWarning: [13:56:59] WARNING: /workspace/src/context.cc:44: No visible GPU is found, setting device to CPU.\n",
      "  warnings.warn(smsg, UserWarning)\n",
      "/usr/local/lib/python3.10/dist-packages/xgboost/core.py:160: UserWarning: [13:57:09] WARNING: /workspace/src/context.cc:44: No visible GPU is found, setting device to CPU.\n",
      "  warnings.warn(smsg, UserWarning)\n",
      "/usr/local/lib/python3.10/dist-packages/xgboost/core.py:160: UserWarning: [13:57:24] WARNING: /workspace/src/context.cc:44: No visible GPU is found, setting device to CPU.\n",
      "  warnings.warn(smsg, UserWarning)\n",
      "/usr/local/lib/python3.10/dist-packages/xgboost/core.py:160: UserWarning: [13:57:39] WARNING: /workspace/src/context.cc:44: No visible GPU is found, setting device to CPU.\n",
      "  warnings.warn(smsg, UserWarning)\n",
      "/usr/local/lib/python3.10/dist-packages/xgboost/core.py:160: UserWarning: [13:57:56] WARNING: /workspace/src/context.cc:44: No visible GPU is found, setting device to CPU.\n",
      "  warnings.warn(smsg, UserWarning)\n",
      "/usr/local/lib/python3.10/dist-packages/xgboost/core.py:160: UserWarning: [13:58:11] WARNING: /workspace/src/context.cc:44: No visible GPU is found, setting device to CPU.\n",
      "  warnings.warn(smsg, UserWarning)\n",
      "/usr/local/lib/python3.10/dist-packages/xgboost/core.py:160: UserWarning: [13:58:26] WARNING: /workspace/src/context.cc:44: No visible GPU is found, setting device to CPU.\n",
      "  warnings.warn(smsg, UserWarning)\n",
      "/usr/local/lib/python3.10/dist-packages/xgboost/core.py:160: UserWarning: [13:58:26] WARNING: /workspace/src/learner.cc:742: \n",
      "Parameters: { \"colsample_bytree\", \"max_depth\", \"min_child_weight\", \"min_split_loss\" } are not used.\n",
      "\n",
      "  warnings.warn(smsg, UserWarning)\n",
      "/usr/local/lib/python3.10/dist-packages/xgboost/core.py:160: UserWarning: [13:58:30] WARNING: /workspace/src/context.cc:44: No visible GPU is found, setting device to CPU.\n",
      "  warnings.warn(smsg, UserWarning)\n",
      "/usr/local/lib/python3.10/dist-packages/xgboost/core.py:160: UserWarning: [13:58:30] WARNING: /workspace/src/learner.cc:742: \n",
      "Parameters: { \"colsample_bytree\", \"max_depth\", \"min_child_weight\", \"min_split_loss\" } are not used.\n",
      "\n",
      "  warnings.warn(smsg, UserWarning)\n",
      "/usr/local/lib/python3.10/dist-packages/xgboost/core.py:160: UserWarning: [13:58:35] WARNING: /workspace/src/context.cc:44: No visible GPU is found, setting device to CPU.\n",
      "  warnings.warn(smsg, UserWarning)\n",
      "/usr/local/lib/python3.10/dist-packages/xgboost/core.py:160: UserWarning: [13:58:35] WARNING: /workspace/src/learner.cc:742: \n",
      "Parameters: { \"colsample_bytree\", \"max_depth\", \"min_child_weight\", \"min_split_loss\" } are not used.\n",
      "\n",
      "  warnings.warn(smsg, UserWarning)\n",
      "/usr/local/lib/python3.10/dist-packages/xgboost/core.py:160: UserWarning: [13:58:38] WARNING: /workspace/src/context.cc:44: No visible GPU is found, setting device to CPU.\n",
      "  warnings.warn(smsg, UserWarning)\n",
      "/usr/local/lib/python3.10/dist-packages/xgboost/core.py:160: UserWarning: [13:58:38] WARNING: /workspace/src/learner.cc:742: \n",
      "Parameters: { \"colsample_bytree\", \"max_depth\", \"min_child_weight\", \"min_split_loss\" } are not used.\n",
      "\n",
      "  warnings.warn(smsg, UserWarning)\n",
      "/usr/local/lib/python3.10/dist-packages/xgboost/core.py:160: UserWarning: [13:58:41] WARNING: /workspace/src/context.cc:44: No visible GPU is found, setting device to CPU.\n",
      "  warnings.warn(smsg, UserWarning)\n",
      "/usr/local/lib/python3.10/dist-packages/xgboost/core.py:160: UserWarning: [13:58:41] WARNING: /workspace/src/learner.cc:742: \n",
      "Parameters: { \"colsample_bytree\", \"max_depth\", \"min_child_weight\", \"min_split_loss\" } are not used.\n",
      "\n",
      "  warnings.warn(smsg, UserWarning)\n",
      "/usr/local/lib/python3.10/dist-packages/xgboost/core.py:160: UserWarning: [13:58:45] WARNING: /workspace/src/context.cc:44: No visible GPU is found, setting device to CPU.\n",
      "  warnings.warn(smsg, UserWarning)\n",
      "/usr/local/lib/python3.10/dist-packages/xgboost/core.py:160: UserWarning: [13:58:45] WARNING: /workspace/src/learner.cc:742: \n",
      "Parameters: { \"colsample_bytree\", \"max_depth\", \"min_child_weight\", \"min_split_loss\" } are not used.\n",
      "\n",
      "  warnings.warn(smsg, UserWarning)\n",
      "/usr/local/lib/python3.10/dist-packages/xgboost/core.py:160: UserWarning: [13:58:49] WARNING: /workspace/src/context.cc:44: No visible GPU is found, setting device to CPU.\n",
      "  warnings.warn(smsg, UserWarning)\n",
      "/usr/local/lib/python3.10/dist-packages/xgboost/core.py:160: UserWarning: [13:58:49] WARNING: /workspace/src/learner.cc:742: \n",
      "Parameters: { \"colsample_bytree\", \"max_depth\", \"min_child_weight\", \"min_split_loss\" } are not used.\n",
      "\n",
      "  warnings.warn(smsg, UserWarning)\n",
      "/usr/local/lib/python3.10/dist-packages/xgboost/core.py:160: UserWarning: [13:58:51] WARNING: /workspace/src/context.cc:44: No visible GPU is found, setting device to CPU.\n",
      "  warnings.warn(smsg, UserWarning)\n",
      "/usr/local/lib/python3.10/dist-packages/xgboost/core.py:160: UserWarning: [13:58:51] WARNING: /workspace/src/learner.cc:742: \n",
      "Parameters: { \"colsample_bytree\", \"max_depth\", \"min_child_weight\", \"min_split_loss\" } are not used.\n",
      "\n",
      "  warnings.warn(smsg, UserWarning)\n",
      "/usr/local/lib/python3.10/dist-packages/xgboost/core.py:160: UserWarning: [13:58:54] WARNING: /workspace/src/context.cc:44: No visible GPU is found, setting device to CPU.\n",
      "  warnings.warn(smsg, UserWarning)\n",
      "/usr/local/lib/python3.10/dist-packages/xgboost/core.py:160: UserWarning: [13:58:54] WARNING: /workspace/src/learner.cc:742: \n",
      "Parameters: { \"colsample_bytree\", \"max_depth\", \"min_child_weight\", \"min_split_loss\" } are not used.\n",
      "\n",
      "  warnings.warn(smsg, UserWarning)\n",
      "/usr/local/lib/python3.10/dist-packages/xgboost/core.py:160: UserWarning: [13:58:56] WARNING: /workspace/src/context.cc:44: No visible GPU is found, setting device to CPU.\n",
      "  warnings.warn(smsg, UserWarning)\n",
      "/usr/local/lib/python3.10/dist-packages/xgboost/core.py:160: UserWarning: [13:58:56] WARNING: /workspace/src/learner.cc:742: \n",
      "Parameters: { \"colsample_bytree\", \"max_depth\", \"min_child_weight\", \"min_split_loss\" } are not used.\n",
      "\n",
      "  warnings.warn(smsg, UserWarning)\n",
      "/usr/local/lib/python3.10/dist-packages/xgboost/core.py:160: UserWarning: [13:59:00] WARNING: /workspace/src/context.cc:44: No visible GPU is found, setting device to CPU.\n",
      "  warnings.warn(smsg, UserWarning)\n",
      "/usr/local/lib/python3.10/dist-packages/xgboost/core.py:160: UserWarning: [13:59:04] WARNING: /workspace/src/context.cc:44: No visible GPU is found, setting device to CPU.\n",
      "  warnings.warn(smsg, UserWarning)\n",
      "/usr/local/lib/python3.10/dist-packages/xgboost/core.py:160: UserWarning: [13:59:07] WARNING: /workspace/src/context.cc:44: No visible GPU is found, setting device to CPU.\n",
      "  warnings.warn(smsg, UserWarning)\n",
      "/usr/local/lib/python3.10/dist-packages/xgboost/core.py:160: UserWarning: [13:59:10] WARNING: /workspace/src/context.cc:44: No visible GPU is found, setting device to CPU.\n",
      "  warnings.warn(smsg, UserWarning)\n",
      "/usr/local/lib/python3.10/dist-packages/xgboost/core.py:160: UserWarning: [13:59:12] WARNING: /workspace/src/context.cc:44: No visible GPU is found, setting device to CPU.\n",
      "  warnings.warn(smsg, UserWarning)\n",
      "/usr/local/lib/python3.10/dist-packages/xgboost/core.py:160: UserWarning: [13:59:15] WARNING: /workspace/src/context.cc:44: No visible GPU is found, setting device to CPU.\n",
      "  warnings.warn(smsg, UserWarning)\n"
     ]
    },
    {
     "name": "stdout",
     "output_type": "stream",
     "text": [
      "{'reg_lambda': 0.0, 'reg_alpha': 0.1282565130260521, 'n_estimators': 95, 'min_split_loss': 24, 'min_child_weight': 1, 'max_depth': 35, 'learning_rate': 0.23046092184368736, 'device': 'cuda', 'colsample_bytree': 0.1020408163265306, 'booster': 'gbtree'}\n",
      "0.8351749999999999\n"
     ]
    }
   ],
   "source": [
    "xgb_base = xgb.XGBClassifier(device=\"cuda\")\n",
    "\n",
    "if exists('xgb_model_regex_lema_ner_iob_negacion.joblib') == False:\n",
    "  randomcv = RandomizedSearchCV(xgb_base,\n",
    "                                params_grid,\n",
    "                                cv=5,\n",
    "                                scoring='f1_micro',\n",
    "                                n_iter=5,\n",
    "                                random_state=13)\n",
    "\n",
    "  randomcv = randomcv.fit(X_train_bag, y_train_num)\n",
    "\n",
    "  print(str(randomcv.best_params_))\n",
    "  print(str(randomcv.best_score_))\n",
    "\n",
    "  xgb_lema_iob_regex_ner = xgb.XGBClassifier()\n",
    "  xgb_lema_iob_regex_ner.set_params(**randomcv.best_params_)\n",
    "else:\n",
    "  xgb_lema_iob_regex_ner = load('xgb_model_regex_lema_ner_iob_negacion.joblib')"
   ]
  },
  {
   "cell_type": "code",
   "execution_count": null,
   "metadata": {
    "id": "9dnm3ExSXtaU"
   },
   "outputs": [],
   "source": [
    "randomcv.best_params_"
   ]
  },
  {
   "cell_type": "code",
   "execution_count": null,
   "metadata": {
    "colab": {
     "base_uri": "https://localhost:8080/"
    },
    "id": "Z0dcDO4oHORG",
    "outputId": "40ee7888-46f1-4925-8d1c-a1501a3c81af"
   },
   "outputs": [
    {
     "name": "stderr",
     "output_type": "stream",
     "text": [
      "/usr/local/lib/python3.10/dist-packages/xgboost/core.py:160: UserWarning: [13:59:27] WARNING: /workspace/src/context.cc:44: No visible GPU is found, setting device to CPU.\n",
      "  warnings.warn(smsg, UserWarning)\n"
     ]
    }
   ],
   "source": [
    "xgb_lema_iob_regex_ner.fit(X_train_bag, y_train_num)\n",
    "y_pred_test_3 = xgb_lema_iob_regex_ner.predict(X_test_bag)"
   ]
  },
  {
   "cell_type": "code",
   "execution_count": null,
   "metadata": {
    "colab": {
     "base_uri": "https://localhost:8080/",
     "height": 605
    },
    "id": "HlRlba5hGvlQ",
    "outputId": "241b5081-d0c1-48af-9439-a90921ba81f3"
   },
   "outputs": [
    {
     "name": "stdout",
     "output_type": "stream",
     "text": [
      "              precision    recall  f1-score   support\n",
      "\n",
      "           0       0.85      0.82      0.84      5000\n",
      "           1       0.83      0.85      0.84      5000\n",
      "\n",
      "    accuracy                           0.84     10000\n",
      "   macro avg       0.84      0.84      0.84     10000\n",
      "weighted avg       0.84      0.84      0.84     10000\n",
      "\n"
     ]
    },
    {
     "data": {
      "image/png": "[encoded data removed]",
      "text/plain": [
       "<Figure size 640x480 with 2 Axes>"
      ]
     },
     "metadata": {},
     "output_type": "display_data"
    }
   ],
   "source": [
    "metricas(y_pred_test_3, y_test_num)"
   ]
  },
  {
   "cell_type": "code",
   "execution_count": null,
   "metadata": {
    "id": "nvrByi9kHLCa"
   },
   "outputs": [],
   "source": [
    "y_pred_real = xgb_lema_iob_regex_ner.predict(X_real)\n",
    "\n",
    "y_pred_real = sentimiento_a_string(y_pred_real)"
   ]
  },
  {
   "cell_type": "code",
   "execution_count": null,
   "metadata": {
    "id": "GTnH2OU7HXIP"
   },
   "outputs": [],
   "source": [
    "df_test[\"sentimiento\"] = y_pred_real\n",
    "\n",
    "df_export = df_test.copy()"
   ]
  },
  {
   "cell_type": "code",
   "execution_count": null,
   "metadata": {
    "id": "cBJsjOCpHs5A"
   },
   "outputs": [],
   "source": [
    "df_export.drop([\"review_es\"], axis=\"columns\", inplace=True)"
   ]
  },
  {
   "cell_type": "code",
   "execution_count": null,
   "metadata": {
    "id": "y5Fuj76cV8FM"
   },
   "outputs": [],
   "source": [
    "df_export.drop([\"texto_preprocesado\"], axis=\"columns\", inplace=True)"
   ]
  },
  {
   "cell_type": "code",
   "execution_count": null,
   "metadata": {
    "id": "GiYiCw4HWDu4"
   },
   "outputs": [],
   "source": [
    "df_export.drop([\"lang\"], axis=\"columns\", inplace=True)"
   ]
  },
  {
   "cell_type": "code",
   "execution_count": null,
   "metadata": {
    "id": "FrW5LAT8HwMm"
   },
   "outputs": [],
   "source": [
    "if exists('xgb_model_regex_lema_ner_iob_negacion.csv') == False:\n",
    "  df_export.to_csv(\"xgb_model_regex_lema_ner_iob_negacion.csv\")"
   ]
  },
  {
   "cell_type": "code",
   "execution_count": null,
   "metadata": {
    "id": "yfgCW6j9HyP4"
   },
   "outputs": [],
   "source": [
    "if exists('xgb_model_regex_lema_ner_iob_negacion.joblib') == False:\n",
    "  dump(xgb_lema_iob_regex_ner, 'xgb_model_regex_lema_ner_iob_negacion.joblib')"
   ]
  },
  {
   "cell_type": "markdown",
   "metadata": {
    "id": "LzLP85wRY6hl"
   },
   "source": [
    "Pruebo lo mismo pero con n gramas."
   ]
  },
  {
   "cell_type": "code",
   "execution_count": null,
   "metadata": {
    "id": "RI1heXG-Yvw2"
   },
   "outputs": [],
   "source": [
    "vec = CountVectorizer(ngram_range=(1,3), min_df=20)\n",
    "\n",
    "X_train_bag = vec.fit_transform(X_train)\n",
    "X_test_bag = vec.transform(X_test)\n",
    "X_real = vec.transform(df_test[\"review_es\"])"
   ]
  },
  {
   "cell_type": "code",
   "execution_count": null,
   "metadata": {
    "id": "Vs43vvNQYzqP"
   },
   "outputs": [],
   "source": [
    "xgb_base = xgb.XGBClassifier(device=\"cuda\")\n",
    "\n",
    "if exists('xgb_model_regex_lema_ner_iob_negacion_ngram.joblib') == False:\n",
    "  randomcv = RandomizedSearchCV(xgb_base,\n",
    "                                params_grid,\n",
    "                                cv=5,\n",
    "                                scoring='f1_micro',\n",
    "                                n_iter=5,\n",
    "                                random_state=13)\n",
    "\n",
    "  randomcv = randomcv.fit(X_train_bag, y_train_num)\n",
    "\n",
    "  print(str(randomcv.best_params_))\n",
    "  print(str(randomcv.best_score_))\n",
    "\n",
    "  xgb_ngram = xgb.XGBClassifier()\n",
    "  xgb_ngram.set_params(**randomcv.best_params_)\n",
    "else:\n",
    "  xgb_ngram = load('xgb_model_regex_lema_ner_iob_negacion_ngram.joblib')"
   ]
  },
  {
   "cell_type": "code",
   "execution_count": null,
   "metadata": {
    "colab": {
     "base_uri": "https://localhost:8080/",
     "height": 660
    },
    "id": "2bc00fTSY_tY",
    "outputId": "613fbf11-84c5-4ad0-b2cb-64371eea15dd"
   },
   "outputs": [
    {
     "name": "stderr",
     "output_type": "stream",
     "text": [
      "/usr/local/lib/python3.10/dist-packages/xgboost/core.py:160: UserWarning: [22:36:40] WARNING: /workspace/src/context.cc:44: No visible GPU is found, setting device to CPU.\n",
      "  warnings.warn(smsg, UserWarning)\n"
     ]
    },
    {
     "name": "stdout",
     "output_type": "stream",
     "text": [
      "              precision    recall  f1-score   support\n",
      "\n",
      "           0       0.86      0.83      0.84      5000\n",
      "           1       0.83      0.86      0.85      5000\n",
      "\n",
      "    accuracy                           0.84     10000\n",
      "   macro avg       0.84      0.84      0.84     10000\n",
      "weighted avg       0.84      0.84      0.84     10000\n",
      "\n"
     ]
    },
    {
     "data": {
      "image/png": "[encoded data removed]",
      "text/plain": [
       "<Figure size 640x480 with 2 Axes>"
      ]
     },
     "metadata": {},
     "output_type": "display_data"
    }
   ],
   "source": [
    "xgb_ngram.fit(X_train_bag, y_train_num)\n",
    "y_pred_test_4 = xgb_ngram.predict(X_test_bag)\n",
    "metricas(y_pred_test_4, y_test_num)"
   ]
  },
  {
   "cell_type": "code",
   "execution_count": null,
   "metadata": {
    "id": "FWUy0xmZZDn8"
   },
   "outputs": [],
   "source": [
    "y_pred_real = xgb_ngram.predict(X_real)\n",
    "\n",
    "y_pred_real = sentimiento_a_string(y_pred_real)"
   ]
  },
  {
   "cell_type": "code",
   "execution_count": null,
   "metadata": {
    "id": "XpMFzuJCZGk0"
   },
   "outputs": [],
   "source": [
    "df_test[\"sentimiento\"] = y_pred_real\n",
    "\n",
    "df_export = df_test.copy()\n",
    "df_export.drop([\"review_es\"], axis=\"columns\", inplace=True)\n",
    "df_export.drop([\"texto_preprocesado\"], axis=\"columns\", inplace=True)\n",
    "df_export.drop([\"lang\"], axis=\"columns\", inplace=True)"
   ]
  },
  {
   "cell_type": "code",
   "execution_count": null,
   "metadata": {
    "id": "GM-IytxcZPY_"
   },
   "outputs": [],
   "source": [
    "if exists('xgb_model_regex_lema_ner_iob_negacion_ngram.csv') == False:\n",
    "  df_export.to_csv(\"xgb_model_regex_lema_ner_iob_negacion_ngram.csv\")"
   ]
  },
  {
   "cell_type": "code",
   "execution_count": null,
   "metadata": {
    "id": "IUb3VgYyZQTG"
   },
   "outputs": [],
   "source": [
    "if exists('xgb_model_regex_lema_ner_iob_negacion_ngram.joblib') == False:\n",
    "  dump(xgb_ngram, 'xgb_model_regex_lema_ner_iob_negacion_ngram.joblib')"
   ]
  },
  {
   "cell_type": "markdown",
   "metadata": {
    "id": "eJa1wZLha9k1"
   },
   "source": [
    "# Búsqueda de rango de híperparametros"
   ]
  },
  {
   "cell_type": "markdown",
   "metadata": {
    "id": "97pgdSOJSZQv"
   },
   "source": [
    "Busco, gráficamente, las regiones de mejores híperparametros."
   ]
  },
  {
   "cell_type": "code",
   "execution_count": null,
   "metadata": {
    "id": "fj79TkPga8x5"
   },
   "outputs": [],
   "source": [
    "params_grid = {\n",
    "  'booster': ['gblinear', 'gbtree'],\n",
    "  'n_estimators': range(1, 30),\n",
    "  'max_depth': range(1, 50),\n",
    "  'learning_rate': np.linspace(0, 1),\n",
    "  'min_child_weight': range(0, 20),\n",
    "  'colsample_bytree': np.linspace(0, 1),\n",
    "  'reg_alpha': np.linspace(0, 1),\n",
    "  'reg_lambda': np.linspace(0, 1),\n",
    "  'min_split_loss': range(0, 50)\n",
    "}"
   ]
  },
  {
   "cell_type": "markdown",
   "metadata": {
    "id": "UizuyMp7SdrN"
   },
   "source": [
    "Busco primero con RandomizedSearch Cross Validation con 50 iteraciones."
   ]
  },
  {
   "cell_type": "code",
   "execution_count": null,
   "metadata": {
    "colab": {
     "base_uri": "https://localhost:8080/"
    },
    "id": "us-_m2vYa_SS",
    "outputId": "acf545d3-0de1-4088-a68e-e7c16c5d3d86"
   },
   "outputs": [
    {
     "name": "stderr",
     "output_type": "stream",
     "text": [
      "/usr/local/lib/python3.10/dist-packages/xgboost/core.py:160: UserWarning: [15:52:17] WARNING: /workspace/src/learner.cc:742: \n",
      "Parameters: { \"colsample_bytree\", \"max_depth\", \"min_child_weight\", \"min_split_loss\" } are not used.\n",
      "\n",
      "  warnings.warn(smsg, UserWarning)\n",
      "/usr/local/lib/python3.10/dist-packages/xgboost/core.py:160: UserWarning: [15:52:19] WARNING: /workspace/src/learner.cc:742: \n",
      "Parameters: { \"colsample_bytree\", \"max_depth\", \"min_child_weight\", \"min_split_loss\" } are not used.\n",
      "\n",
      "  warnings.warn(smsg, UserWarning)\n",
      "/usr/local/lib/python3.10/dist-packages/xgboost/core.py:160: UserWarning: [15:52:20] WARNING: /workspace/src/learner.cc:742: \n",
      "Parameters: { \"colsample_bytree\", \"max_depth\", \"min_child_weight\", \"min_split_loss\" } are not used.\n",
      "\n",
      "  warnings.warn(smsg, UserWarning)\n",
      "/usr/local/lib/python3.10/dist-packages/xgboost/core.py:160: UserWarning: [15:52:22] WARNING: /workspace/src/learner.cc:742: \n",
      "Parameters: { \"colsample_bytree\", \"max_depth\", \"min_child_weight\", \"min_split_loss\" } are not used.\n",
      "\n",
      "  warnings.warn(smsg, UserWarning)\n",
      "/usr/local/lib/python3.10/dist-packages/xgboost/core.py:160: UserWarning: [15:52:24] WARNING: /workspace/src/learner.cc:742: \n",
      "Parameters: { \"colsample_bytree\", \"max_depth\", \"min_child_weight\", \"min_split_loss\" } are not used.\n",
      "\n",
      "  warnings.warn(smsg, UserWarning)\n",
      "/usr/local/lib/python3.10/dist-packages/xgboost/core.py:160: UserWarning: [15:52:26] WARNING: /workspace/src/learner.cc:742: \n",
      "Parameters: { \"colsample_bytree\", \"max_depth\", \"min_child_weight\", \"min_split_loss\" } are not used.\n",
      "\n",
      "  warnings.warn(smsg, UserWarning)\n",
      "/usr/local/lib/python3.10/dist-packages/xgboost/core.py:160: UserWarning: [15:52:28] WARNING: /workspace/src/learner.cc:742: \n",
      "Parameters: { \"colsample_bytree\", \"max_depth\", \"min_child_weight\", \"min_split_loss\" } are not used.\n",
      "\n",
      "  warnings.warn(smsg, UserWarning)\n",
      "/usr/local/lib/python3.10/dist-packages/xgboost/core.py:160: UserWarning: [15:52:30] WARNING: /workspace/src/learner.cc:742: \n",
      "Parameters: { \"colsample_bytree\", \"max_depth\", \"min_child_weight\", \"min_split_loss\" } are not used.\n",
      "\n",
      "  warnings.warn(smsg, UserWarning)\n",
      "/usr/local/lib/python3.10/dist-packages/xgboost/core.py:160: UserWarning: [15:52:31] WARNING: /workspace/src/learner.cc:742: \n",
      "Parameters: { \"colsample_bytree\", \"max_depth\", \"min_child_weight\", \"min_split_loss\" } are not used.\n",
      "\n",
      "  warnings.warn(smsg, UserWarning)\n",
      "/usr/local/lib/python3.10/dist-packages/xgboost/core.py:160: UserWarning: [15:52:33] WARNING: /workspace/src/learner.cc:742: \n",
      "Parameters: { \"colsample_bytree\", \"max_depth\", \"min_child_weight\", \"min_split_loss\" } are not used.\n",
      "\n",
      "  warnings.warn(smsg, UserWarning)\n",
      "/usr/local/lib/python3.10/dist-packages/xgboost/core.py:160: UserWarning: [15:53:10] WARNING: /workspace/src/learner.cc:742: \n",
      "Parameters: { \"colsample_bytree\", \"max_depth\", \"min_child_weight\", \"min_split_loss\" } are not used.\n",
      "\n",
      "  warnings.warn(smsg, UserWarning)\n",
      "/usr/local/lib/python3.10/dist-packages/xgboost/core.py:160: UserWarning: [15:53:13] WARNING: /workspace/src/learner.cc:742: \n",
      "Parameters: { \"colsample_bytree\", \"max_depth\", \"min_child_weight\", \"min_split_loss\" } are not used.\n",
      "\n",
      "  warnings.warn(smsg, UserWarning)\n",
      "/usr/local/lib/python3.10/dist-packages/xgboost/core.py:160: UserWarning: [15:53:15] WARNING: /workspace/src/learner.cc:742: \n",
      "Parameters: { \"colsample_bytree\", \"max_depth\", \"min_child_weight\", \"min_split_loss\" } are not used.\n",
      "\n",
      "  warnings.warn(smsg, UserWarning)\n",
      "/usr/local/lib/python3.10/dist-packages/xgboost/core.py:160: UserWarning: [15:53:17] WARNING: /workspace/src/learner.cc:742: \n",
      "Parameters: { \"colsample_bytree\", \"max_depth\", \"min_child_weight\", \"min_split_loss\" } are not used.\n",
      "\n",
      "  warnings.warn(smsg, UserWarning)\n",
      "/usr/local/lib/python3.10/dist-packages/xgboost/core.py:160: UserWarning: [15:53:19] WARNING: /workspace/src/learner.cc:742: \n",
      "Parameters: { \"colsample_bytree\", \"max_depth\", \"min_child_weight\", \"min_split_loss\" } are not used.\n",
      "\n",
      "  warnings.warn(smsg, UserWarning)\n",
      "/usr/local/lib/python3.10/dist-packages/xgboost/core.py:160: UserWarning: [15:53:21] WARNING: /workspace/src/learner.cc:742: \n",
      "Parameters: { \"colsample_bytree\", \"max_depth\", \"min_child_weight\", \"min_split_loss\" } are not used.\n",
      "\n",
      "  warnings.warn(smsg, UserWarning)\n",
      "/usr/local/lib/python3.10/dist-packages/xgboost/core.py:160: UserWarning: [15:53:22] WARNING: /workspace/src/learner.cc:742: \n",
      "Parameters: { \"colsample_bytree\", \"max_depth\", \"min_child_weight\", \"min_split_loss\" } are not used.\n",
      "\n",
      "  warnings.warn(smsg, UserWarning)\n",
      "/usr/local/lib/python3.10/dist-packages/xgboost/core.py:160: UserWarning: [15:53:23] WARNING: /workspace/src/learner.cc:742: \n",
      "Parameters: { \"colsample_bytree\", \"max_depth\", \"min_child_weight\", \"min_split_loss\" } are not used.\n",
      "\n",
      "  warnings.warn(smsg, UserWarning)\n",
      "/usr/local/lib/python3.10/dist-packages/xgboost/core.py:160: UserWarning: [15:53:25] WARNING: /workspace/src/learner.cc:742: \n",
      "Parameters: { \"colsample_bytree\", \"max_depth\", \"min_child_weight\", \"min_split_loss\" } are not used.\n",
      "\n",
      "  warnings.warn(smsg, UserWarning)\n",
      "/usr/local/lib/python3.10/dist-packages/xgboost/core.py:160: UserWarning: [15:53:26] WARNING: /workspace/src/learner.cc:742: \n",
      "Parameters: { \"colsample_bytree\", \"max_depth\", \"min_child_weight\", \"min_split_loss\" } are not used.\n",
      "\n",
      "  warnings.warn(smsg, UserWarning)\n",
      "/usr/local/lib/python3.10/dist-packages/xgboost/core.py:160: UserWarning: [15:53:28] WARNING: /workspace/src/learner.cc:742: \n",
      "Parameters: { \"colsample_bytree\", \"max_depth\", \"min_child_weight\", \"min_split_loss\" } are not used.\n",
      "\n",
      "  warnings.warn(smsg, UserWarning)\n",
      "/usr/local/lib/python3.10/dist-packages/xgboost/core.py:160: UserWarning: [15:53:29] WARNING: /workspace/src/learner.cc:742: \n",
      "Parameters: { \"colsample_bytree\", \"max_depth\", \"min_child_weight\", \"min_split_loss\" } are not used.\n",
      "\n",
      "  warnings.warn(smsg, UserWarning)\n",
      "/usr/local/lib/python3.10/dist-packages/xgboost/core.py:160: UserWarning: [15:53:31] WARNING: /workspace/src/learner.cc:742: \n",
      "Parameters: { \"colsample_bytree\", \"max_depth\", \"min_child_weight\", \"min_split_loss\" } are not used.\n",
      "\n",
      "  warnings.warn(smsg, UserWarning)\n",
      "/usr/local/lib/python3.10/dist-packages/xgboost/core.py:160: UserWarning: [15:53:32] WARNING: /workspace/src/learner.cc:742: \n",
      "Parameters: { \"colsample_bytree\", \"max_depth\", \"min_child_weight\", \"min_split_loss\" } are not used.\n",
      "\n",
      "  warnings.warn(smsg, UserWarning)\n",
      "/usr/local/lib/python3.10/dist-packages/xgboost/core.py:160: UserWarning: [15:53:33] WARNING: /workspace/src/learner.cc:742: \n",
      "Parameters: { \"colsample_bytree\", \"max_depth\", \"min_child_weight\", \"min_split_loss\" } are not used.\n",
      "\n",
      "  warnings.warn(smsg, UserWarning)\n",
      "/usr/local/lib/python3.10/dist-packages/xgboost/core.py:160: UserWarning: [15:54:11] WARNING: /workspace/src/learner.cc:742: \n",
      "Parameters: { \"colsample_bytree\", \"max_depth\", \"min_child_weight\", \"min_split_loss\" } are not used.\n",
      "\n",
      "  warnings.warn(smsg, UserWarning)\n",
      "/usr/local/lib/python3.10/dist-packages/xgboost/core.py:160: UserWarning: [15:54:13] WARNING: /workspace/src/learner.cc:742: \n",
      "Parameters: { \"colsample_bytree\", \"max_depth\", \"min_child_weight\", \"min_split_loss\" } are not used.\n",
      "\n",
      "  warnings.warn(smsg, UserWarning)\n",
      "/usr/local/lib/python3.10/dist-packages/xgboost/core.py:160: UserWarning: [15:54:15] WARNING: /workspace/src/learner.cc:742: \n",
      "Parameters: { \"colsample_bytree\", \"max_depth\", \"min_child_weight\", \"min_split_loss\" } are not used.\n",
      "\n",
      "  warnings.warn(smsg, UserWarning)\n",
      "/usr/local/lib/python3.10/dist-packages/xgboost/core.py:160: UserWarning: [15:54:17] WARNING: /workspace/src/learner.cc:742: \n",
      "Parameters: { \"colsample_bytree\", \"max_depth\", \"min_child_weight\", \"min_split_loss\" } are not used.\n",
      "\n",
      "  warnings.warn(smsg, UserWarning)\n",
      "/usr/local/lib/python3.10/dist-packages/xgboost/core.py:160: UserWarning: [15:54:19] WARNING: /workspace/src/learner.cc:742: \n",
      "Parameters: { \"colsample_bytree\", \"max_depth\", \"min_child_weight\", \"min_split_loss\" } are not used.\n",
      "\n",
      "  warnings.warn(smsg, UserWarning)\n",
      "/usr/local/lib/python3.10/dist-packages/xgboost/core.py:160: UserWarning: [15:55:24] WARNING: /workspace/src/learner.cc:742: \n",
      "Parameters: { \"colsample_bytree\", \"max_depth\", \"min_child_weight\", \"min_split_loss\" } are not used.\n",
      "\n",
      "  warnings.warn(smsg, UserWarning)\n",
      "/usr/local/lib/python3.10/dist-packages/xgboost/core.py:160: UserWarning: [15:55:27] WARNING: /workspace/src/learner.cc:742: \n",
      "Parameters: { \"colsample_bytree\", \"max_depth\", \"min_child_weight\", \"min_split_loss\" } are not used.\n",
      "\n",
      "  warnings.warn(smsg, UserWarning)\n",
      "/usr/local/lib/python3.10/dist-packages/xgboost/core.py:160: UserWarning: [15:55:29] WARNING: /workspace/src/learner.cc:742: \n",
      "Parameters: { \"colsample_bytree\", \"max_depth\", \"min_child_weight\", \"min_split_loss\" } are not used.\n",
      "\n",
      "  warnings.warn(smsg, UserWarning)\n",
      "/usr/local/lib/python3.10/dist-packages/xgboost/core.py:160: UserWarning: [15:55:31] WARNING: /workspace/src/learner.cc:742: \n",
      "Parameters: { \"colsample_bytree\", \"max_depth\", \"min_child_weight\", \"min_split_loss\" } are not used.\n",
      "\n",
      "  warnings.warn(smsg, UserWarning)\n",
      "/usr/local/lib/python3.10/dist-packages/xgboost/core.py:160: UserWarning: [15:55:33] WARNING: /workspace/src/learner.cc:742: \n",
      "Parameters: { \"colsample_bytree\", \"max_depth\", \"min_child_weight\", \"min_split_loss\" } are not used.\n",
      "\n",
      "  warnings.warn(smsg, UserWarning)\n",
      "/usr/local/lib/python3.10/dist-packages/xgboost/core.py:160: UserWarning: [15:58:19] WARNING: /workspace/src/learner.cc:742: \n",
      "Parameters: { \"colsample_bytree\", \"max_depth\", \"min_child_weight\", \"min_split_loss\" } are not used.\n",
      "\n",
      "  warnings.warn(smsg, UserWarning)\n",
      "/usr/local/lib/python3.10/dist-packages/xgboost/core.py:160: UserWarning: [15:58:21] WARNING: /workspace/src/learner.cc:742: \n",
      "Parameters: { \"colsample_bytree\", \"max_depth\", \"min_child_weight\", \"min_split_loss\" } are not used.\n",
      "\n",
      "  warnings.warn(smsg, UserWarning)\n",
      "/usr/local/lib/python3.10/dist-packages/xgboost/core.py:160: UserWarning: [15:58:22] WARNING: /workspace/src/learner.cc:742: \n",
      "Parameters: { \"colsample_bytree\", \"max_depth\", \"min_child_weight\", \"min_split_loss\" } are not used.\n",
      "\n",
      "  warnings.warn(smsg, UserWarning)\n",
      "/usr/local/lib/python3.10/dist-packages/xgboost/core.py:160: UserWarning: [15:58:23] WARNING: /workspace/src/learner.cc:742: \n",
      "Parameters: { \"colsample_bytree\", \"max_depth\", \"min_child_weight\", \"min_split_loss\" } are not used.\n",
      "\n",
      "  warnings.warn(smsg, UserWarning)\n",
      "/usr/local/lib/python3.10/dist-packages/xgboost/core.py:160: UserWarning: [15:58:25] WARNING: /workspace/src/learner.cc:742: \n",
      "Parameters: { \"colsample_bytree\", \"max_depth\", \"min_child_weight\", \"min_split_loss\" } are not used.\n",
      "\n",
      "  warnings.warn(smsg, UserWarning)\n",
      "/usr/local/lib/python3.10/dist-packages/xgboost/core.py:160: UserWarning: [15:58:26] WARNING: /workspace/src/learner.cc:742: \n",
      "Parameters: { \"colsample_bytree\", \"max_depth\", \"min_child_weight\", \"min_split_loss\" } are not used.\n",
      "\n",
      "  warnings.warn(smsg, UserWarning)\n",
      "/usr/local/lib/python3.10/dist-packages/xgboost/core.py:160: UserWarning: [15:58:30] WARNING: /workspace/src/learner.cc:742: \n",
      "Parameters: { \"colsample_bytree\", \"max_depth\", \"min_child_weight\", \"min_split_loss\" } are not used.\n",
      "\n",
      "  warnings.warn(smsg, UserWarning)\n",
      "/usr/local/lib/python3.10/dist-packages/xgboost/core.py:160: UserWarning: [15:58:33] WARNING: /workspace/src/learner.cc:742: \n",
      "Parameters: { \"colsample_bytree\", \"max_depth\", \"min_child_weight\", \"min_split_loss\" } are not used.\n",
      "\n",
      "  warnings.warn(smsg, UserWarning)\n",
      "/usr/local/lib/python3.10/dist-packages/xgboost/core.py:160: UserWarning: [15:58:35] WARNING: /workspace/src/learner.cc:742: \n",
      "Parameters: { \"colsample_bytree\", \"max_depth\", \"min_child_weight\", \"min_split_loss\" } are not used.\n",
      "\n",
      "  warnings.warn(smsg, UserWarning)\n",
      "/usr/local/lib/python3.10/dist-packages/xgboost/core.py:160: UserWarning: [15:58:38] WARNING: /workspace/src/learner.cc:742: \n",
      "Parameters: { \"colsample_bytree\", \"max_depth\", \"min_child_weight\", \"min_split_loss\" } are not used.\n",
      "\n",
      "  warnings.warn(smsg, UserWarning)\n",
      "/usr/local/lib/python3.10/dist-packages/xgboost/core.py:160: UserWarning: [15:58:40] WARNING: /workspace/src/learner.cc:742: \n",
      "Parameters: { \"colsample_bytree\", \"max_depth\", \"min_child_weight\", \"min_split_loss\" } are not used.\n",
      "\n",
      "  warnings.warn(smsg, UserWarning)\n",
      "/usr/local/lib/python3.10/dist-packages/xgboost/core.py:160: UserWarning: [15:58:43] WARNING: /workspace/src/learner.cc:742: \n",
      "Parameters: { \"colsample_bytree\", \"max_depth\", \"min_child_weight\", \"min_split_loss\" } are not used.\n",
      "\n",
      "  warnings.warn(smsg, UserWarning)\n",
      "/usr/local/lib/python3.10/dist-packages/xgboost/core.py:160: UserWarning: [15:58:47] WARNING: /workspace/src/learner.cc:742: \n",
      "Parameters: { \"colsample_bytree\", \"max_depth\", \"min_child_weight\", \"min_split_loss\" } are not used.\n",
      "\n",
      "  warnings.warn(smsg, UserWarning)\n",
      "/usr/local/lib/python3.10/dist-packages/xgboost/core.py:160: UserWarning: [15:58:49] WARNING: /workspace/src/learner.cc:742: \n",
      "Parameters: { \"colsample_bytree\", \"max_depth\", \"min_child_weight\", \"min_split_loss\" } are not used.\n",
      "\n",
      "  warnings.warn(smsg, UserWarning)\n",
      "/usr/local/lib/python3.10/dist-packages/xgboost/core.py:160: UserWarning: [15:58:52] WARNING: /workspace/src/learner.cc:742: \n",
      "Parameters: { \"colsample_bytree\", \"max_depth\", \"min_child_weight\", \"min_split_loss\" } are not used.\n",
      "\n",
      "  warnings.warn(smsg, UserWarning)\n",
      "/usr/local/lib/python3.10/dist-packages/xgboost/core.py:160: UserWarning: [15:58:54] WARNING: /workspace/src/learner.cc:742: \n",
      "Parameters: { \"colsample_bytree\", \"max_depth\", \"min_child_weight\", \"min_split_loss\" } are not used.\n",
      "\n",
      "  warnings.warn(smsg, UserWarning)\n",
      "/usr/local/lib/python3.10/dist-packages/xgboost/core.py:160: UserWarning: [15:58:56] WARNING: /workspace/src/learner.cc:742: \n",
      "Parameters: { \"colsample_bytree\", \"max_depth\", \"min_child_weight\", \"min_split_loss\" } are not used.\n",
      "\n",
      "  warnings.warn(smsg, UserWarning)\n",
      "/usr/local/lib/python3.10/dist-packages/xgboost/core.py:160: UserWarning: [15:58:59] WARNING: /workspace/src/learner.cc:742: \n",
      "Parameters: { \"colsample_bytree\", \"max_depth\", \"min_child_weight\", \"min_split_loss\" } are not used.\n",
      "\n",
      "  warnings.warn(smsg, UserWarning)\n",
      "/usr/local/lib/python3.10/dist-packages/xgboost/core.py:160: UserWarning: [15:59:01] WARNING: /workspace/src/learner.cc:742: \n",
      "Parameters: { \"colsample_bytree\", \"max_depth\", \"min_child_weight\", \"min_split_loss\" } are not used.\n",
      "\n",
      "  warnings.warn(smsg, UserWarning)\n",
      "/usr/local/lib/python3.10/dist-packages/xgboost/core.py:160: UserWarning: [15:59:03] WARNING: /workspace/src/learner.cc:742: \n",
      "Parameters: { \"colsample_bytree\", \"max_depth\", \"min_child_weight\", \"min_split_loss\" } are not used.\n",
      "\n",
      "  warnings.warn(smsg, UserWarning)\n",
      "/usr/local/lib/python3.10/dist-packages/xgboost/core.py:160: UserWarning: [15:59:05] WARNING: /workspace/src/learner.cc:742: \n",
      "Parameters: { \"colsample_bytree\", \"max_depth\", \"min_child_weight\", \"min_split_loss\" } are not used.\n",
      "\n",
      "  warnings.warn(smsg, UserWarning)\n",
      "/usr/local/lib/python3.10/dist-packages/xgboost/core.py:160: UserWarning: [15:59:06] WARNING: /workspace/src/learner.cc:742: \n",
      "Parameters: { \"colsample_bytree\", \"max_depth\", \"min_child_weight\", \"min_split_loss\" } are not used.\n",
      "\n",
      "  warnings.warn(smsg, UserWarning)\n",
      "/usr/local/lib/python3.10/dist-packages/xgboost/core.py:160: UserWarning: [15:59:08] WARNING: /workspace/src/learner.cc:742: \n",
      "Parameters: { \"colsample_bytree\", \"max_depth\", \"min_child_weight\", \"min_split_loss\" } are not used.\n",
      "\n",
      "  warnings.warn(smsg, UserWarning)\n",
      "/usr/local/lib/python3.10/dist-packages/xgboost/core.py:160: UserWarning: [15:59:10] WARNING: /workspace/src/learner.cc:742: \n",
      "Parameters: { \"colsample_bytree\", \"max_depth\", \"min_child_weight\", \"min_split_loss\" } are not used.\n",
      "\n",
      "  warnings.warn(smsg, UserWarning)\n",
      "/usr/local/lib/python3.10/dist-packages/xgboost/core.py:160: UserWarning: [15:59:11] WARNING: /workspace/src/learner.cc:742: \n",
      "Parameters: { \"colsample_bytree\", \"max_depth\", \"min_child_weight\", \"min_split_loss\" } are not used.\n",
      "\n",
      "  warnings.warn(smsg, UserWarning)\n",
      "/usr/local/lib/python3.10/dist-packages/xgboost/core.py:160: UserWarning: [15:59:39] WARNING: /workspace/src/learner.cc:742: \n",
      "Parameters: { \"colsample_bytree\", \"max_depth\", \"min_child_weight\", \"min_split_loss\" } are not used.\n",
      "\n",
      "  warnings.warn(smsg, UserWarning)\n",
      "/usr/local/lib/python3.10/dist-packages/xgboost/core.py:160: UserWarning: [15:59:43] WARNING: /workspace/src/learner.cc:742: \n",
      "Parameters: { \"colsample_bytree\", \"max_depth\", \"min_child_weight\", \"min_split_loss\" } are not used.\n",
      "\n",
      "  warnings.warn(smsg, UserWarning)\n",
      "/usr/local/lib/python3.10/dist-packages/xgboost/core.py:160: UserWarning: [15:59:46] WARNING: /workspace/src/learner.cc:742: \n",
      "Parameters: { \"colsample_bytree\", \"max_depth\", \"min_child_weight\", \"min_split_loss\" } are not used.\n",
      "\n",
      "  warnings.warn(smsg, UserWarning)\n",
      "/usr/local/lib/python3.10/dist-packages/xgboost/core.py:160: UserWarning: [15:59:49] WARNING: /workspace/src/learner.cc:742: \n",
      "Parameters: { \"colsample_bytree\", \"max_depth\", \"min_child_weight\", \"min_split_loss\" } are not used.\n",
      "\n",
      "  warnings.warn(smsg, UserWarning)\n",
      "/usr/local/lib/python3.10/dist-packages/xgboost/core.py:160: UserWarning: [15:59:52] WARNING: /workspace/src/learner.cc:742: \n",
      "Parameters: { \"colsample_bytree\", \"max_depth\", \"min_child_weight\", \"min_split_loss\" } are not used.\n",
      "\n",
      "  warnings.warn(smsg, UserWarning)\n",
      "/usr/local/lib/python3.10/dist-packages/xgboost/core.py:160: UserWarning: [15:59:55] WARNING: /workspace/src/learner.cc:742: \n",
      "Parameters: { \"colsample_bytree\", \"max_depth\", \"min_child_weight\", \"min_split_loss\" } are not used.\n",
      "\n",
      "  warnings.warn(smsg, UserWarning)\n",
      "/usr/local/lib/python3.10/dist-packages/xgboost/core.py:160: UserWarning: [15:59:56] WARNING: /workspace/src/learner.cc:742: \n",
      "Parameters: { \"colsample_bytree\", \"max_depth\", \"min_child_weight\", \"min_split_loss\" } are not used.\n",
      "\n",
      "  warnings.warn(smsg, UserWarning)\n",
      "/usr/local/lib/python3.10/dist-packages/xgboost/core.py:160: UserWarning: [15:59:58] WARNING: /workspace/src/learner.cc:742: \n",
      "Parameters: { \"colsample_bytree\", \"max_depth\", \"min_child_weight\", \"min_split_loss\" } are not used.\n",
      "\n",
      "  warnings.warn(smsg, UserWarning)\n",
      "/usr/local/lib/python3.10/dist-packages/xgboost/core.py:160: UserWarning: [16:00:00] WARNING: /workspace/src/learner.cc:742: \n",
      "Parameters: { \"colsample_bytree\", \"max_depth\", \"min_child_weight\", \"min_split_loss\" } are not used.\n",
      "\n",
      "  warnings.warn(smsg, UserWarning)\n",
      "/usr/local/lib/python3.10/dist-packages/xgboost/core.py:160: UserWarning: [16:00:02] WARNING: /workspace/src/learner.cc:742: \n",
      "Parameters: { \"colsample_bytree\", \"max_depth\", \"min_child_weight\", \"min_split_loss\" } are not used.\n",
      "\n",
      "  warnings.warn(smsg, UserWarning)\n",
      "/usr/local/lib/python3.10/dist-packages/xgboost/core.py:160: UserWarning: [16:00:03] WARNING: /workspace/src/learner.cc:742: \n",
      "Parameters: { \"colsample_bytree\", \"max_depth\", \"min_child_weight\", \"min_split_loss\" } are not used.\n",
      "\n",
      "  warnings.warn(smsg, UserWarning)\n",
      "/usr/local/lib/python3.10/dist-packages/xgboost/core.py:160: UserWarning: [16:00:06] WARNING: /workspace/src/learner.cc:742: \n",
      "Parameters: { \"colsample_bytree\", \"max_depth\", \"min_child_weight\", \"min_split_loss\" } are not used.\n",
      "\n",
      "  warnings.warn(smsg, UserWarning)\n",
      "/usr/local/lib/python3.10/dist-packages/xgboost/core.py:160: UserWarning: [16:00:08] WARNING: /workspace/src/learner.cc:742: \n",
      "Parameters: { \"colsample_bytree\", \"max_depth\", \"min_child_weight\", \"min_split_loss\" } are not used.\n",
      "\n",
      "  warnings.warn(smsg, UserWarning)\n",
      "/usr/local/lib/python3.10/dist-packages/xgboost/core.py:160: UserWarning: [16:00:10] WARNING: /workspace/src/learner.cc:742: \n",
      "Parameters: { \"colsample_bytree\", \"max_depth\", \"min_child_weight\", \"min_split_loss\" } are not used.\n",
      "\n",
      "  warnings.warn(smsg, UserWarning)\n",
      "/usr/local/lib/python3.10/dist-packages/xgboost/core.py:160: UserWarning: [16:00:13] WARNING: /workspace/src/learner.cc:742: \n",
      "Parameters: { \"colsample_bytree\", \"max_depth\", \"min_child_weight\", \"min_split_loss\" } are not used.\n",
      "\n",
      "  warnings.warn(smsg, UserWarning)\n",
      "/usr/local/lib/python3.10/dist-packages/xgboost/core.py:160: UserWarning: [16:00:40] WARNING: /workspace/src/learner.cc:742: \n",
      "Parameters: { \"colsample_bytree\", \"max_depth\", \"min_child_weight\", \"min_split_loss\" } are not used.\n",
      "\n",
      "  warnings.warn(smsg, UserWarning)\n",
      "/usr/local/lib/python3.10/dist-packages/xgboost/core.py:160: UserWarning: [16:00:43] WARNING: /workspace/src/learner.cc:742: \n",
      "Parameters: { \"colsample_bytree\", \"max_depth\", \"min_child_weight\", \"min_split_loss\" } are not used.\n",
      "\n",
      "  warnings.warn(smsg, UserWarning)\n",
      "/usr/local/lib/python3.10/dist-packages/xgboost/core.py:160: UserWarning: [16:00:46] WARNING: /workspace/src/learner.cc:742: \n",
      "Parameters: { \"colsample_bytree\", \"max_depth\", \"min_child_weight\", \"min_split_loss\" } are not used.\n",
      "\n",
      "  warnings.warn(smsg, UserWarning)\n",
      "/usr/local/lib/python3.10/dist-packages/xgboost/core.py:160: UserWarning: [16:00:48] WARNING: /workspace/src/learner.cc:742: \n",
      "Parameters: { \"colsample_bytree\", \"max_depth\", \"min_child_weight\", \"min_split_loss\" } are not used.\n",
      "\n",
      "  warnings.warn(smsg, UserWarning)\n",
      "/usr/local/lib/python3.10/dist-packages/xgboost/core.py:160: UserWarning: [16:00:51] WARNING: /workspace/src/learner.cc:742: \n",
      "Parameters: { \"colsample_bytree\", \"max_depth\", \"min_child_weight\", \"min_split_loss\" } are not used.\n",
      "\n",
      "  warnings.warn(smsg, UserWarning)\n",
      "/usr/local/lib/python3.10/dist-packages/xgboost/core.py:160: UserWarning: [16:02:05] WARNING: /workspace/src/learner.cc:742: \n",
      "Parameters: { \"colsample_bytree\", \"max_depth\", \"min_child_weight\", \"min_split_loss\" } are not used.\n",
      "\n",
      "  warnings.warn(smsg, UserWarning)\n",
      "/usr/local/lib/python3.10/dist-packages/xgboost/core.py:160: UserWarning: [16:02:08] WARNING: /workspace/src/learner.cc:742: \n",
      "Parameters: { \"colsample_bytree\", \"max_depth\", \"min_child_weight\", \"min_split_loss\" } are not used.\n",
      "\n",
      "  warnings.warn(smsg, UserWarning)\n",
      "/usr/local/lib/python3.10/dist-packages/xgboost/core.py:160: UserWarning: [16:02:10] WARNING: /workspace/src/learner.cc:742: \n",
      "Parameters: { \"colsample_bytree\", \"max_depth\", \"min_child_weight\", \"min_split_loss\" } are not used.\n",
      "\n",
      "  warnings.warn(smsg, UserWarning)\n",
      "/usr/local/lib/python3.10/dist-packages/xgboost/core.py:160: UserWarning: [16:02:12] WARNING: /workspace/src/learner.cc:742: \n",
      "Parameters: { \"colsample_bytree\", \"max_depth\", \"min_child_weight\", \"min_split_loss\" } are not used.\n",
      "\n",
      "  warnings.warn(smsg, UserWarning)\n",
      "/usr/local/lib/python3.10/dist-packages/xgboost/core.py:160: UserWarning: [16:02:15] WARNING: /workspace/src/learner.cc:742: \n",
      "Parameters: { \"colsample_bytree\", \"max_depth\", \"min_child_weight\", \"min_split_loss\" } are not used.\n",
      "\n",
      "  warnings.warn(smsg, UserWarning)\n",
      "/usr/local/lib/python3.10/dist-packages/xgboost/core.py:160: UserWarning: [16:04:26] WARNING: /workspace/src/learner.cc:742: \n",
      "Parameters: { \"colsample_bytree\", \"max_depth\", \"min_child_weight\", \"min_split_loss\" } are not used.\n",
      "\n",
      "  warnings.warn(smsg, UserWarning)\n",
      "/usr/local/lib/python3.10/dist-packages/xgboost/core.py:160: UserWarning: [16:04:28] WARNING: /workspace/src/learner.cc:742: \n",
      "Parameters: { \"colsample_bytree\", \"max_depth\", \"min_child_weight\", \"min_split_loss\" } are not used.\n",
      "\n",
      "  warnings.warn(smsg, UserWarning)\n",
      "/usr/local/lib/python3.10/dist-packages/xgboost/core.py:160: UserWarning: [16:04:30] WARNING: /workspace/src/learner.cc:742: \n",
      "Parameters: { \"colsample_bytree\", \"max_depth\", \"min_child_weight\", \"min_split_loss\" } are not used.\n",
      "\n",
      "  warnings.warn(smsg, UserWarning)\n",
      "/usr/local/lib/python3.10/dist-packages/xgboost/core.py:160: UserWarning: [16:04:33] WARNING: /workspace/src/learner.cc:742: \n",
      "Parameters: { \"colsample_bytree\", \"max_depth\", \"min_child_weight\", \"min_split_loss\" } are not used.\n",
      "\n",
      "  warnings.warn(smsg, UserWarning)\n",
      "/usr/local/lib/python3.10/dist-packages/xgboost/core.py:160: UserWarning: [16:04:36] WARNING: /workspace/src/learner.cc:742: \n",
      "Parameters: { \"colsample_bytree\", \"max_depth\", \"min_child_weight\", \"min_split_loss\" } are not used.\n",
      "\n",
      "  warnings.warn(smsg, UserWarning)\n",
      "/usr/local/lib/python3.10/dist-packages/xgboost/core.py:160: UserWarning: [16:04:38] WARNING: /workspace/src/learner.cc:742: \n",
      "Parameters: { \"colsample_bytree\", \"max_depth\", \"min_child_weight\", \"min_split_loss\" } are not used.\n",
      "\n",
      "  warnings.warn(smsg, UserWarning)\n",
      "/usr/local/lib/python3.10/dist-packages/xgboost/core.py:160: UserWarning: [16:04:40] WARNING: /workspace/src/learner.cc:742: \n",
      "Parameters: { \"colsample_bytree\", \"max_depth\", \"min_child_weight\", \"min_split_loss\" } are not used.\n",
      "\n",
      "  warnings.warn(smsg, UserWarning)\n",
      "/usr/local/lib/python3.10/dist-packages/xgboost/core.py:160: UserWarning: [16:04:42] WARNING: /workspace/src/learner.cc:742: \n",
      "Parameters: { \"colsample_bytree\", \"max_depth\", \"min_child_weight\", \"min_split_loss\" } are not used.\n",
      "\n",
      "  warnings.warn(smsg, UserWarning)\n",
      "/usr/local/lib/python3.10/dist-packages/xgboost/core.py:160: UserWarning: [16:04:45] WARNING: /workspace/src/learner.cc:742: \n",
      "Parameters: { \"colsample_bytree\", \"max_depth\", \"min_child_weight\", \"min_split_loss\" } are not used.\n",
      "\n",
      "  warnings.warn(smsg, UserWarning)\n",
      "/usr/local/lib/python3.10/dist-packages/xgboost/core.py:160: UserWarning: [16:04:48] WARNING: /workspace/src/learner.cc:742: \n",
      "Parameters: { \"colsample_bytree\", \"max_depth\", \"min_child_weight\", \"min_split_loss\" } are not used.\n",
      "\n",
      "  warnings.warn(smsg, UserWarning)\n",
      "/usr/local/lib/python3.10/dist-packages/xgboost/core.py:160: UserWarning: [16:05:12] WARNING: /workspace/src/learner.cc:742: \n",
      "Parameters: { \"colsample_bytree\", \"max_depth\", \"min_child_weight\", \"min_split_loss\" } are not used.\n",
      "\n",
      "  warnings.warn(smsg, UserWarning)\n",
      "/usr/local/lib/python3.10/dist-packages/xgboost/core.py:160: UserWarning: [16:05:15] WARNING: /workspace/src/learner.cc:742: \n",
      "Parameters: { \"colsample_bytree\", \"max_depth\", \"min_child_weight\", \"min_split_loss\" } are not used.\n",
      "\n",
      "  warnings.warn(smsg, UserWarning)\n",
      "/usr/local/lib/python3.10/dist-packages/xgboost/core.py:160: UserWarning: [16:05:17] WARNING: /workspace/src/learner.cc:742: \n",
      "Parameters: { \"colsample_bytree\", \"max_depth\", \"min_child_weight\", \"min_split_loss\" } are not used.\n",
      "\n",
      "  warnings.warn(smsg, UserWarning)\n",
      "/usr/local/lib/python3.10/dist-packages/xgboost/core.py:160: UserWarning: [16:05:20] WARNING: /workspace/src/learner.cc:742: \n",
      "Parameters: { \"colsample_bytree\", \"max_depth\", \"min_child_weight\", \"min_split_loss\" } are not used.\n",
      "\n",
      "  warnings.warn(smsg, UserWarning)\n",
      "/usr/local/lib/python3.10/dist-packages/xgboost/core.py:160: UserWarning: [16:05:22] WARNING: /workspace/src/learner.cc:742: \n",
      "Parameters: { \"colsample_bytree\", \"max_depth\", \"min_child_weight\", \"min_split_loss\" } are not used.\n",
      "\n",
      "  warnings.warn(smsg, UserWarning)\n",
      "/usr/local/lib/python3.10/dist-packages/xgboost/core.py:160: UserWarning: [16:05:24] WARNING: /workspace/src/learner.cc:742: \n",
      "Parameters: { \"colsample_bytree\", \"max_depth\", \"min_child_weight\", \"min_split_loss\" } are not used.\n",
      "\n",
      "  warnings.warn(smsg, UserWarning)\n",
      "/usr/local/lib/python3.10/dist-packages/xgboost/core.py:160: UserWarning: [16:05:27] WARNING: /workspace/src/learner.cc:742: \n",
      "Parameters: { \"colsample_bytree\", \"max_depth\", \"min_child_weight\", \"min_split_loss\" } are not used.\n",
      "\n",
      "  warnings.warn(smsg, UserWarning)\n",
      "/usr/local/lib/python3.10/dist-packages/xgboost/core.py:160: UserWarning: [16:05:29] WARNING: /workspace/src/learner.cc:742: \n",
      "Parameters: { \"colsample_bytree\", \"max_depth\", \"min_child_weight\", \"min_split_loss\" } are not used.\n",
      "\n",
      "  warnings.warn(smsg, UserWarning)\n",
      "/usr/local/lib/python3.10/dist-packages/xgboost/core.py:160: UserWarning: [16:05:32] WARNING: /workspace/src/learner.cc:742: \n",
      "Parameters: { \"colsample_bytree\", \"max_depth\", \"min_child_weight\", \"min_split_loss\" } are not used.\n",
      "\n",
      "  warnings.warn(smsg, UserWarning)\n",
      "/usr/local/lib/python3.10/dist-packages/xgboost/core.py:160: UserWarning: [16:05:36] WARNING: /workspace/src/learner.cc:742: \n",
      "Parameters: { \"colsample_bytree\", \"max_depth\", \"min_child_weight\", \"min_split_loss\" } are not used.\n",
      "\n",
      "  warnings.warn(smsg, UserWarning)\n",
      "/usr/local/lib/python3.10/dist-packages/xgboost/core.py:160: UserWarning: [16:05:38] WARNING: /workspace/src/learner.cc:742: \n",
      "Parameters: { \"colsample_bytree\", \"max_depth\", \"min_child_weight\", \"min_split_loss\" } are not used.\n",
      "\n",
      "  warnings.warn(smsg, UserWarning)\n",
      "/usr/local/lib/python3.10/dist-packages/xgboost/core.py:160: UserWarning: [16:05:39] WARNING: /workspace/src/learner.cc:742: \n",
      "Parameters: { \"colsample_bytree\", \"max_depth\", \"min_child_weight\", \"min_split_loss\" } are not used.\n",
      "\n",
      "  warnings.warn(smsg, UserWarning)\n",
      "/usr/local/lib/python3.10/dist-packages/xgboost/core.py:160: UserWarning: [16:05:41] WARNING: /workspace/src/learner.cc:742: \n",
      "Parameters: { \"colsample_bytree\", \"max_depth\", \"min_child_weight\", \"min_split_loss\" } are not used.\n",
      "\n",
      "  warnings.warn(smsg, UserWarning)\n",
      "/usr/local/lib/python3.10/dist-packages/xgboost/core.py:160: UserWarning: [16:05:42] WARNING: /workspace/src/learner.cc:742: \n",
      "Parameters: { \"colsample_bytree\", \"max_depth\", \"min_child_weight\", \"min_split_loss\" } are not used.\n",
      "\n",
      "  warnings.warn(smsg, UserWarning)\n",
      "/usr/local/lib/python3.10/dist-packages/xgboost/core.py:160: UserWarning: [16:05:44] WARNING: /workspace/src/learner.cc:742: \n",
      "Parameters: { \"colsample_bytree\", \"max_depth\", \"min_child_weight\", \"min_split_loss\" } are not used.\n",
      "\n",
      "  warnings.warn(smsg, UserWarning)\n",
      "/usr/local/lib/python3.10/dist-packages/xgboost/core.py:160: UserWarning: [16:05:45] WARNING: /workspace/src/learner.cc:742: \n",
      "Parameters: { \"colsample_bytree\", \"max_depth\", \"min_child_weight\", \"min_split_loss\" } are not used.\n",
      "\n",
      "  warnings.warn(smsg, UserWarning)\n",
      "/usr/local/lib/python3.10/dist-packages/xgboost/core.py:160: UserWarning: [16:05:47] WARNING: /workspace/src/learner.cc:742: \n",
      "Parameters: { \"colsample_bytree\", \"max_depth\", \"min_child_weight\", \"min_split_loss\" } are not used.\n",
      "\n",
      "  warnings.warn(smsg, UserWarning)\n",
      "/usr/local/lib/python3.10/dist-packages/xgboost/core.py:160: UserWarning: [16:05:49] WARNING: /workspace/src/learner.cc:742: \n",
      "Parameters: { \"colsample_bytree\", \"max_depth\", \"min_child_weight\", \"min_split_loss\" } are not used.\n",
      "\n",
      "  warnings.warn(smsg, UserWarning)\n",
      "/usr/local/lib/python3.10/dist-packages/xgboost/core.py:160: UserWarning: [16:05:51] WARNING: /workspace/src/learner.cc:742: \n",
      "Parameters: { \"colsample_bytree\", \"max_depth\", \"min_child_weight\", \"min_split_loss\" } are not used.\n",
      "\n",
      "  warnings.warn(smsg, UserWarning)\n",
      "/usr/local/lib/python3.10/dist-packages/xgboost/core.py:160: UserWarning: [16:05:53] WARNING: /workspace/src/learner.cc:742: \n",
      "Parameters: { \"colsample_bytree\", \"max_depth\", \"min_child_weight\", \"min_split_loss\" } are not used.\n",
      "\n",
      "  warnings.warn(smsg, UserWarning)\n",
      "/usr/local/lib/python3.10/dist-packages/xgboost/core.py:160: UserWarning: [16:05:54] WARNING: /workspace/src/learner.cc:742: \n",
      "Parameters: { \"colsample_bytree\", \"max_depth\", \"min_child_weight\", \"min_split_loss\" } are not used.\n",
      "\n",
      "  warnings.warn(smsg, UserWarning)\n",
      "/usr/local/lib/python3.10/dist-packages/xgboost/core.py:160: UserWarning: [16:05:56] WARNING: /workspace/src/learner.cc:742: \n",
      "Parameters: { \"colsample_bytree\", \"max_depth\", \"min_child_weight\", \"min_split_loss\" } are not used.\n",
      "\n",
      "  warnings.warn(smsg, UserWarning)\n",
      "/usr/local/lib/python3.10/dist-packages/xgboost/core.py:160: UserWarning: [16:05:58] WARNING: /workspace/src/learner.cc:742: \n",
      "Parameters: { \"colsample_bytree\", \"max_depth\", \"min_child_weight\", \"min_split_loss\" } are not used.\n",
      "\n",
      "  warnings.warn(smsg, UserWarning)\n",
      "/usr/local/lib/python3.10/dist-packages/xgboost/core.py:160: UserWarning: [16:06:00] WARNING: /workspace/src/learner.cc:742: \n",
      "Parameters: { \"colsample_bytree\", \"max_depth\", \"min_child_weight\", \"min_split_loss\" } are not used.\n",
      "\n",
      "  warnings.warn(smsg, UserWarning)\n",
      "/usr/local/lib/python3.10/dist-packages/xgboost/core.py:160: UserWarning: [16:06:02] WARNING: /workspace/src/learner.cc:742: \n",
      "Parameters: { \"colsample_bytree\", \"max_depth\", \"min_child_weight\", \"min_split_loss\" } are not used.\n",
      "\n",
      "  warnings.warn(smsg, UserWarning)\n",
      "/usr/local/lib/python3.10/dist-packages/xgboost/core.py:160: UserWarning: [16:06:05] WARNING: /workspace/src/learner.cc:742: \n",
      "Parameters: { \"colsample_bytree\", \"max_depth\", \"min_child_weight\", \"min_split_loss\" } are not used.\n",
      "\n",
      "  warnings.warn(smsg, UserWarning)\n",
      "/usr/local/lib/python3.10/dist-packages/xgboost/core.py:160: UserWarning: [16:06:07] WARNING: /workspace/src/learner.cc:742: \n",
      "Parameters: { \"colsample_bytree\", \"max_depth\", \"min_child_weight\", \"min_split_loss\" } are not used.\n",
      "\n",
      "  warnings.warn(smsg, UserWarning)\n",
      "/usr/local/lib/python3.10/dist-packages/xgboost/core.py:160: UserWarning: [16:06:09] WARNING: /workspace/src/learner.cc:742: \n",
      "Parameters: { \"colsample_bytree\", \"max_depth\", \"min_child_weight\", \"min_split_loss\" } are not used.\n",
      "\n",
      "  warnings.warn(smsg, UserWarning)\n",
      "/usr/local/lib/python3.10/dist-packages/xgboost/core.py:160: UserWarning: [16:06:11] WARNING: /workspace/src/learner.cc:742: \n",
      "Parameters: { \"colsample_bytree\", \"max_depth\", \"min_child_weight\", \"min_split_loss\" } are not used.\n",
      "\n",
      "  warnings.warn(smsg, UserWarning)\n",
      "/usr/local/lib/python3.10/dist-packages/xgboost/core.py:160: UserWarning: [16:06:13] WARNING: /workspace/src/learner.cc:742: \n",
      "Parameters: { \"colsample_bytree\", \"max_depth\", \"min_child_weight\", \"min_split_loss\" } are not used.\n",
      "\n",
      "  warnings.warn(smsg, UserWarning)\n",
      "/usr/local/lib/python3.10/dist-packages/xgboost/core.py:160: UserWarning: [16:06:53] WARNING: /workspace/src/learner.cc:742: \n",
      "Parameters: { \"colsample_bytree\", \"max_depth\", \"min_child_weight\", \"min_split_loss\" } are not used.\n",
      "\n",
      "  warnings.warn(smsg, UserWarning)\n",
      "/usr/local/lib/python3.10/dist-packages/xgboost/core.py:160: UserWarning: [16:06:54] WARNING: /workspace/src/learner.cc:742: \n",
      "Parameters: { \"colsample_bytree\", \"max_depth\", \"min_child_weight\", \"min_split_loss\" } are not used.\n",
      "\n",
      "  warnings.warn(smsg, UserWarning)\n",
      "/usr/local/lib/python3.10/dist-packages/xgboost/core.py:160: UserWarning: [16:06:55] WARNING: /workspace/src/learner.cc:742: \n",
      "Parameters: { \"colsample_bytree\", \"max_depth\", \"min_child_weight\", \"min_split_loss\" } are not used.\n",
      "\n",
      "  warnings.warn(smsg, UserWarning)\n",
      "/usr/local/lib/python3.10/dist-packages/xgboost/core.py:160: UserWarning: [16:06:56] WARNING: /workspace/src/learner.cc:742: \n",
      "Parameters: { \"colsample_bytree\", \"max_depth\", \"min_child_weight\", \"min_split_loss\" } are not used.\n",
      "\n",
      "  warnings.warn(smsg, UserWarning)\n",
      "/usr/local/lib/python3.10/dist-packages/xgboost/core.py:160: UserWarning: [16:06:57] WARNING: /workspace/src/learner.cc:742: \n",
      "Parameters: { \"colsample_bytree\", \"max_depth\", \"min_child_weight\", \"min_split_loss\" } are not used.\n",
      "\n",
      "  warnings.warn(smsg, UserWarning)\n",
      "/usr/local/lib/python3.10/dist-packages/xgboost/core.py:160: UserWarning: [16:07:39] WARNING: /workspace/src/learner.cc:742: \n",
      "Parameters: { \"colsample_bytree\", \"max_depth\", \"min_child_weight\", \"min_split_loss\" } are not used.\n",
      "\n",
      "  warnings.warn(smsg, UserWarning)\n",
      "/usr/local/lib/python3.10/dist-packages/xgboost/core.py:160: UserWarning: [16:07:42] WARNING: /workspace/src/learner.cc:742: \n",
      "Parameters: { \"colsample_bytree\", \"max_depth\", \"min_child_weight\", \"min_split_loss\" } are not used.\n",
      "\n",
      "  warnings.warn(smsg, UserWarning)\n",
      "/usr/local/lib/python3.10/dist-packages/xgboost/core.py:160: UserWarning: [16:07:44] WARNING: /workspace/src/learner.cc:742: \n",
      "Parameters: { \"colsample_bytree\", \"max_depth\", \"min_child_weight\", \"min_split_loss\" } are not used.\n",
      "\n",
      "  warnings.warn(smsg, UserWarning)\n",
      "/usr/local/lib/python3.10/dist-packages/xgboost/core.py:160: UserWarning: [16:07:46] WARNING: /workspace/src/learner.cc:742: \n",
      "Parameters: { \"colsample_bytree\", \"max_depth\", \"min_child_weight\", \"min_split_loss\" } are not used.\n",
      "\n",
      "  warnings.warn(smsg, UserWarning)\n",
      "/usr/local/lib/python3.10/dist-packages/xgboost/core.py:160: UserWarning: [16:07:48] WARNING: /workspace/src/learner.cc:742: \n",
      "Parameters: { \"colsample_bytree\", \"max_depth\", \"min_child_weight\", \"min_split_loss\" } are not used.\n",
      "\n",
      "  warnings.warn(smsg, UserWarning)\n",
      "/usr/local/lib/python3.10/dist-packages/xgboost/core.py:160: UserWarning: [16:08:15] WARNING: /workspace/src/learner.cc:742: \n",
      "Parameters: { \"colsample_bytree\", \"max_depth\", \"min_child_weight\", \"min_split_loss\" } are not used.\n",
      "\n",
      "  warnings.warn(smsg, UserWarning)\n",
      "/usr/local/lib/python3.10/dist-packages/xgboost/core.py:160: UserWarning: [16:08:17] WARNING: /workspace/src/learner.cc:742: \n",
      "Parameters: { \"colsample_bytree\", \"max_depth\", \"min_child_weight\", \"min_split_loss\" } are not used.\n",
      "\n",
      "  warnings.warn(smsg, UserWarning)\n",
      "/usr/local/lib/python3.10/dist-packages/xgboost/core.py:160: UserWarning: [16:08:20] WARNING: /workspace/src/learner.cc:742: \n",
      "Parameters: { \"colsample_bytree\", \"max_depth\", \"min_child_weight\", \"min_split_loss\" } are not used.\n",
      "\n",
      "  warnings.warn(smsg, UserWarning)\n",
      "/usr/local/lib/python3.10/dist-packages/xgboost/core.py:160: UserWarning: [16:08:23] WARNING: /workspace/src/learner.cc:742: \n",
      "Parameters: { \"colsample_bytree\", \"max_depth\", \"min_child_weight\", \"min_split_loss\" } are not used.\n",
      "\n",
      "  warnings.warn(smsg, UserWarning)\n",
      "/usr/local/lib/python3.10/dist-packages/xgboost/core.py:160: UserWarning: [16:08:25] WARNING: /workspace/src/learner.cc:742: \n",
      "Parameters: { \"colsample_bytree\", \"max_depth\", \"min_child_weight\", \"min_split_loss\" } are not used.\n",
      "\n",
      "  warnings.warn(smsg, UserWarning)\n",
      "/usr/local/lib/python3.10/dist-packages/xgboost/core.py:160: UserWarning: [16:08:52] WARNING: /workspace/src/learner.cc:742: \n",
      "Parameters: { \"colsample_bytree\", \"max_depth\", \"min_child_weight\", \"min_split_loss\" } are not used.\n",
      "\n",
      "  warnings.warn(smsg, UserWarning)\n",
      "/usr/local/lib/python3.10/dist-packages/xgboost/core.py:160: UserWarning: [16:08:54] WARNING: /workspace/src/learner.cc:742: \n",
      "Parameters: { \"colsample_bytree\", \"max_depth\", \"min_child_weight\", \"min_split_loss\" } are not used.\n",
      "\n",
      "  warnings.warn(smsg, UserWarning)\n",
      "/usr/local/lib/python3.10/dist-packages/xgboost/core.py:160: UserWarning: [16:08:57] WARNING: /workspace/src/learner.cc:742: \n",
      "Parameters: { \"colsample_bytree\", \"max_depth\", \"min_child_weight\", \"min_split_loss\" } are not used.\n",
      "\n",
      "  warnings.warn(smsg, UserWarning)\n",
      "/usr/local/lib/python3.10/dist-packages/xgboost/core.py:160: UserWarning: [16:08:59] WARNING: /workspace/src/learner.cc:742: \n",
      "Parameters: { \"colsample_bytree\", \"max_depth\", \"min_child_weight\", \"min_split_loss\" } are not used.\n",
      "\n",
      "  warnings.warn(smsg, UserWarning)\n",
      "/usr/local/lib/python3.10/dist-packages/xgboost/core.py:160: UserWarning: [16:09:02] WARNING: /workspace/src/learner.cc:742: \n",
      "Parameters: { \"colsample_bytree\", \"max_depth\", \"min_child_weight\", \"min_split_loss\" } are not used.\n",
      "\n",
      "  warnings.warn(smsg, UserWarning)\n",
      "/usr/local/lib/python3.10/dist-packages/xgboost/core.py:160: UserWarning: [16:09:28] WARNING: /workspace/src/learner.cc:742: \n",
      "Parameters: { \"colsample_bytree\", \"max_depth\", \"min_child_weight\", \"min_split_loss\" } are not used.\n",
      "\n",
      "  warnings.warn(smsg, UserWarning)\n",
      "/usr/local/lib/python3.10/dist-packages/xgboost/core.py:160: UserWarning: [16:09:30] WARNING: /workspace/src/learner.cc:742: \n",
      "Parameters: { \"colsample_bytree\", \"max_depth\", \"min_child_weight\", \"min_split_loss\" } are not used.\n",
      "\n",
      "  warnings.warn(smsg, UserWarning)\n",
      "/usr/local/lib/python3.10/dist-packages/xgboost/core.py:160: UserWarning: [16:09:32] WARNING: /workspace/src/learner.cc:742: \n",
      "Parameters: { \"colsample_bytree\", \"max_depth\", \"min_child_weight\", \"min_split_loss\" } are not used.\n",
      "\n",
      "  warnings.warn(smsg, UserWarning)\n",
      "/usr/local/lib/python3.10/dist-packages/xgboost/core.py:160: UserWarning: [16:09:34] WARNING: /workspace/src/learner.cc:742: \n",
      "Parameters: { \"colsample_bytree\", \"max_depth\", \"min_child_weight\", \"min_split_loss\" } are not used.\n",
      "\n",
      "  warnings.warn(smsg, UserWarning)\n",
      "/usr/local/lib/python3.10/dist-packages/xgboost/core.py:160: UserWarning: [16:09:37] WARNING: /workspace/src/learner.cc:742: \n",
      "Parameters: { \"colsample_bytree\", \"max_depth\", \"min_child_weight\", \"min_split_loss\" } are not used.\n",
      "\n",
      "  warnings.warn(smsg, UserWarning)\n",
      "/usr/local/lib/python3.10/dist-packages/xgboost/core.py:160: UserWarning: [16:09:38] WARNING: /workspace/src/learner.cc:742: \n",
      "Parameters: { \"colsample_bytree\", \"max_depth\", \"min_child_weight\", \"min_split_loss\" } are not used.\n",
      "\n",
      "  warnings.warn(smsg, UserWarning)\n",
      "/usr/local/lib/python3.10/dist-packages/xgboost/core.py:160: UserWarning: [16:09:40] WARNING: /workspace/src/learner.cc:742: \n",
      "Parameters: { \"colsample_bytree\", \"max_depth\", \"min_child_weight\", \"min_split_loss\" } are not used.\n",
      "\n",
      "  warnings.warn(smsg, UserWarning)\n",
      "/usr/local/lib/python3.10/dist-packages/xgboost/core.py:160: UserWarning: [16:09:43] WARNING: /workspace/src/learner.cc:742: \n",
      "Parameters: { \"colsample_bytree\", \"max_depth\", \"min_child_weight\", \"min_split_loss\" } are not used.\n",
      "\n",
      "  warnings.warn(smsg, UserWarning)\n",
      "/usr/local/lib/python3.10/dist-packages/xgboost/core.py:160: UserWarning: [16:09:45] WARNING: /workspace/src/learner.cc:742: \n",
      "Parameters: { \"colsample_bytree\", \"max_depth\", \"min_child_weight\", \"min_split_loss\" } are not used.\n",
      "\n",
      "  warnings.warn(smsg, UserWarning)\n",
      "/usr/local/lib/python3.10/dist-packages/xgboost/core.py:160: UserWarning: [16:09:47] WARNING: /workspace/src/learner.cc:742: \n",
      "Parameters: { \"colsample_bytree\", \"max_depth\", \"min_child_weight\", \"min_split_loss\" } are not used.\n",
      "\n",
      "  warnings.warn(smsg, UserWarning)\n"
     ]
    },
    {
     "name": "stdout",
     "output_type": "stream",
     "text": [
      "{'reg_lambda': 0.44897959183673464, 'reg_alpha': 0.7346938775510203, 'n_estimators': 26, 'min_split_loss': 21, 'min_child_weight': 19, 'max_depth': 31, 'learning_rate': 0.32653061224489793, 'colsample_bytree': 0.8979591836734693, 'booster': 'gbtree'}\n",
      "0.8326749999999998\n"
     ]
    }
   ],
   "source": [
    "xgb_base = xgb.XGBClassifier()\n",
    "\n",
    "if exists('xgb_randomsearch_amplio.joblib') == False:\n",
    "  randomcv = RandomizedSearchCV(xgb_base,\n",
    "                                params_grid,\n",
    "                                cv=5,\n",
    "                                scoring='f1_micro',\n",
    "                                n_iter=50,\n",
    "                                random_state=13)\n",
    "\n",
    "  randomcv = randomcv.fit(X_train_bag, y_train_num)\n",
    "\n",
    "  print(str(randomcv.best_params_))\n",
    "  print(str(randomcv.best_score_))\n",
    "\n",
    "  xgb_tst = xgb.XGBClassifier()\n",
    "  xgb_tst.set_params(**randomcv.best_params_)\n",
    "else:\n",
    "  xgb_tst = load('xgb_randomsearch_amplio.joblib')"
   ]
  },
  {
   "cell_type": "markdown",
   "metadata": {
    "id": "Hclz_LoJSkR2"
   },
   "source": [
    "Guardo todos los scores en un dataframe para graficarlos."
   ]
  },
  {
   "cell_type": "code",
   "execution_count": null,
   "metadata": {
    "id": "TrygwoD_mPP5"
   },
   "outputs": [],
   "source": [
    "if exists(\"df_graficos_randomsearch_amplio.csv\") == False:\n",
    "  df_graf = pd.DataFrame()\n",
    "  df_graf['n_estimators'] = randomcv.cv_results_['param_n_estimators'].data\n",
    "  df_graf['booster'] = randomcv.cv_results_['param_booster'].data\n",
    "  df_graf['colsample_bytree'] = randomcv.cv_results_['param_colsample_bytree'].data\n",
    "  df_graf['learning_rate'] = randomcv.cv_results_['param_learning_rate'].data\n",
    "  df_graf['max_depth'] = randomcv.cv_results_['param_max_depth'].data\n",
    "  df_graf['min_child_weight'] = randomcv.cv_results_['param_min_child_weight'].data\n",
    "  df_graf['min_split_loss'] = randomcv.cv_results_['param_min_split_loss'].data\n",
    "  df_graf['reg_alpha'] = randomcv.cv_results_['param_reg_alpha'].data\n",
    "  df_graf['reg_lambda'] = randomcv.cv_results_['param_reg_lambda'].data\n",
    "  df_graf['score'] = randomcv.cv_results_['mean_test_score'].data\n",
    "else:\n",
    "  df_graf = pd.read_csv(\"df_graficos_randomsearch_amplio.csv\")"
   ]
  },
  {
   "cell_type": "markdown",
   "metadata": {
    "id": "K5IvlqXuSnIR"
   },
   "source": [
    "Grafico los scores de cada híperparametro"
   ]
  },
  {
   "cell_type": "code",
   "execution_count": null,
   "metadata": {
    "colab": {
     "base_uri": "https://localhost:8080/",
     "height": 467
    },
    "id": "0iB1ajeZcpW7",
    "outputId": "710a1f52-3b01-41b3-b02a-df8c189cac5c"
   },
   "outputs": [
    {
     "data": {
      "text/plain": [
       "<Axes: xlabel='n_estimators', ylabel='score'>"
      ]
     },
     "execution_count": 19,
     "metadata": {},
     "output_type": "execute_result"
    },
    {
     "data": {
      "image/png": "[encoded data removed]",
      "text/plain": [
       "<Figure size 640x480 with 1 Axes>"
      ]
     },
     "metadata": {},
     "output_type": "display_data"
    }
   ],
   "source": [
    "sns.scatterplot(x=df_graf.n_estimators, y=df_graf.score)"
   ]
  },
  {
   "cell_type": "code",
   "execution_count": null,
   "metadata": {
    "colab": {
     "base_uri": "https://localhost:8080/",
     "height": 467
    },
    "id": "zRcDSye_ns-x",
    "outputId": "f4b60021-f417-446d-afe8-ff89d3878237"
   },
   "outputs": [
    {
     "data": {
      "text/plain": [
       "<Axes: xlabel='learning_rate', ylabel='score'>"
      ]
     },
     "execution_count": 20,
     "metadata": {},
     "output_type": "execute_result"
    },
    {
     "data": {
      "image/png": "[encoded data removed]",
      "text/plain": [
       "<Figure size 640x480 with 1 Axes>"
      ]
     },
     "metadata": {},
     "output_type": "display_data"
    }
   ],
   "source": [
    "sns.scatterplot(x=df_graf.learning_rate, y=df_graf.score)"
   ]
  },
  {
   "cell_type": "code",
   "execution_count": null,
   "metadata": {
    "colab": {
     "base_uri": "https://localhost:8080/",
     "height": 467
    },
    "id": "DjpCyYWjpOQr",
    "outputId": "c42f0516-af52-4a9d-bd60-cd8d94cb8a24"
   },
   "outputs": [
    {
     "data": {
      "text/plain": [
       "<Axes: xlabel='max_depth', ylabel='score'>"
      ]
     },
     "execution_count": 21,
     "metadata": {},
     "output_type": "execute_result"
    },
    {
     "data": {
      "image/png": "[encoded data removed]",
      "text/plain": [
       "<Figure size 640x480 with 1 Axes>"
      ]
     },
     "metadata": {},
     "output_type": "display_data"
    }
   ],
   "source": [
    "sns.scatterplot(x=df_graf.max_depth, y=df_graf.score)"
   ]
  },
  {
   "cell_type": "code",
   "execution_count": null,
   "metadata": {
    "colab": {
     "base_uri": "https://localhost:8080/",
     "height": 467
    },
    "id": "Yh0nDcJupbI1",
    "outputId": "cb5c0731-e869-41ce-eee2-12cdf282d3aa"
   },
   "outputs": [
    {
     "data": {
      "text/plain": [
       "<Axes: xlabel='reg_alpha', ylabel='score'>"
      ]
     },
     "execution_count": 22,
     "metadata": {},
     "output_type": "execute_result"
    },
    {
     "data": {
      "image/png": "[encoded data removed]",
      "text/plain": [
       "<Figure size 640x480 with 1 Axes>"
      ]
     },
     "metadata": {},
     "output_type": "display_data"
    }
   ],
   "source": [
    "sns.scatterplot(x=df_graf.reg_alpha, y=df_graf.score)"
   ]
  },
  {
   "cell_type": "code",
   "execution_count": null,
   "metadata": {
    "colab": {
     "base_uri": "https://localhost:8080/",
     "height": 467
    },
    "id": "2OkpfGeMpbaB",
    "outputId": "dd497b99-f536-4731-e499-4fafc4b95cca"
   },
   "outputs": [
    {
     "data": {
      "text/plain": [
       "<Axes: xlabel='reg_lambda', ylabel='score'>"
      ]
     },
     "execution_count": 23,
     "metadata": {},
     "output_type": "execute_result"
    },
    {
     "data": {
      "image/png": "[encoded data removed]",
      "text/plain": [
       "<Figure size 640x480 with 1 Axes>"
      ]
     },
     "metadata": {},
     "output_type": "display_data"
    }
   ],
   "source": [
    "sns.scatterplot(x=df_graf.reg_lambda, y=df_graf.score)"
   ]
  },
  {
   "cell_type": "code",
   "execution_count": null,
   "metadata": {
    "colab": {
     "base_uri": "https://localhost:8080/",
     "height": 467
    },
    "id": "y0ZKoXX5qbwn",
    "outputId": "78d80d57-958b-43fb-dd10-77c7826bdc8a"
   },
   "outputs": [
    {
     "data": {
      "text/plain": [
       "<Axes: xlabel='min_child_weight', ylabel='score'>"
      ]
     },
     "execution_count": 24,
     "metadata": {},
     "output_type": "execute_result"
    },
    {
     "data": {
      "image/png": "[encoded data removed]",
      "text/plain": [
       "<Figure size 640x480 with 1 Axes>"
      ]
     },
     "metadata": {},
     "output_type": "display_data"
    }
   ],
   "source": [
    "sns.scatterplot(x=df_graf.min_child_weight, y=df_graf.score)"
   ]
  },
  {
   "cell_type": "code",
   "execution_count": null,
   "metadata": {
    "colab": {
     "base_uri": "https://localhost:8080/",
     "height": 467
    },
    "id": "a3DVgOCDql4S",
    "outputId": "e1397129-d6fc-4ee4-a1c3-bcf8029c6a64"
   },
   "outputs": [
    {
     "data": {
      "text/plain": [
       "<Axes: xlabel='colsample_bytree', ylabel='score'>"
      ]
     },
     "execution_count": 25,
     "metadata": {},
     "output_type": "execute_result"
    },
    {
     "data": {
      "image/png": "[encoded data removed]",
      "text/plain": [
       "<Figure size 640x480 with 1 Axes>"
      ]
     },
     "metadata": {},
     "output_type": "display_data"
    }
   ],
   "source": [
    "sns.scatterplot(x=df_graf.colsample_bytree, y=df_graf.score)"
   ]
  },
  {
   "cell_type": "code",
   "execution_count": null,
   "metadata": {
    "colab": {
     "base_uri": "https://localhost:8080/",
     "height": 467
    },
    "id": "vRATIxtVqoQR",
    "outputId": "2bd8dfc8-d531-45c7-f671-5497bbcaa524"
   },
   "outputs": [
    {
     "data": {
      "text/plain": [
       "<Axes: xlabel='min_split_loss', ylabel='score'>"
      ]
     },
     "execution_count": 26,
     "metadata": {},
     "output_type": "execute_result"
    },
    {
     "data": {
      "image/png": "[encoded data removed]",
      "text/plain": [
       "<Figure size 640x480 with 1 Axes>"
      ]
     },
     "metadata": {},
     "output_type": "display_data"
    }
   ],
   "source": [
    "sns.scatterplot(x=df_graf.min_split_loss, y=df_graf.score)"
   ]
  },
  {
   "cell_type": "markdown",
   "metadata": {
    "id": "jWtb_JGVSsje"
   },
   "source": [
    "Guardo el modelo y los datos."
   ]
  },
  {
   "cell_type": "code",
   "execution_count": null,
   "metadata": {
    "colab": {
     "base_uri": "https://localhost:8080/",
     "height": 605
    },
    "id": "1rH9JAwkV6O2",
    "outputId": "8ab72074-a5af-422e-bd91-828136a2a086"
   },
   "outputs": [
    {
     "name": "stdout",
     "output_type": "stream",
     "text": [
      "              precision    recall  f1-score   support\n",
      "\n",
      "           0       0.82      0.83      0.83      4931\n",
      "           1       0.84      0.82      0.83      5069\n",
      "\n",
      "    accuracy                           0.83     10000\n",
      "   macro avg       0.83      0.83      0.83     10000\n",
      "weighted avg       0.83      0.83      0.83     10000\n",
      "\n"
     ]
    },
    {
     "data": {
      "image/png": "[encoded data removed]",
      "text/plain": [
       "<Figure size 640x480 with 2 Axes>"
      ]
     },
     "metadata": {},
     "output_type": "display_data"
    }
   ],
   "source": [
    "xgb_tst.fit(X_train_bag, y_train_num)\n",
    "y_pred = xgb_tst.predict(X_test_bag)\n",
    "metricas(y_test_num, y_pred)"
   ]
  },
  {
   "cell_type": "code",
   "execution_count": null,
   "metadata": {
    "id": "7Zk5zXTQWfWv"
   },
   "outputs": [],
   "source": [
    "y_pred_real = xgb_tst.predict(X_real)"
   ]
  },
  {
   "cell_type": "code",
   "execution_count": null,
   "metadata": {
    "id": "lclGeksiWrWJ"
   },
   "outputs": [],
   "source": [
    "df_export = df_test.copy()\n",
    "df_export.drop([\"review_es\"], axis=\"columns\", inplace=True)\n",
    "df_export.drop([\"texto_preprocesado\"], axis=\"columns\", inplace=True)\n",
    "df_export.drop([\"lang\"], axis=\"columns\", inplace=True)\n",
    "df_export['sentimiento'] = sentimiento_a_string(y_pred_real)\n",
    "df_export.to_csv(\"xgb_randomsearch_amplio.csv\")"
   ]
  },
  {
   "cell_type": "code",
   "execution_count": null,
   "metadata": {
    "colab": {
     "base_uri": "https://localhost:8080/"
    },
    "id": "XmvWWj7jv2rB",
    "outputId": "4e1da1f5-4292-45a3-cb8d-6e7f3f28df81"
   },
   "outputs": [
    {
     "data": {
      "text/plain": [
       "['xgb_tst.joblib']"
      ]
     },
     "execution_count": 30,
     "metadata": {},
     "output_type": "execute_result"
    }
   ],
   "source": [
    "dump(xgb_tst, \"xgb_randomsearch_amplio.joblib\")"
   ]
  },
  {
   "cell_type": "code",
   "execution_count": null,
   "metadata": {
    "id": "-ujyMdTHS98M"
   },
   "outputs": [],
   "source": [
    "df_graf.to_csv(\"df_graficos_randomsearch_amplio.csv\")"
   ]
  },
  {
   "cell_type": "markdown",
   "metadata": {
    "id": "pWPLL2obavx3"
   },
   "source": [
    "# Optimización de hiperparámetros"
   ]
  },
  {
   "cell_type": "markdown",
   "metadata": {
    "id": "tEMYB36At-3s"
   },
   "source": [
    "Ahora pruebo, en base a los gráficos, optimizar los híperparametros dentro de un rango en el que dan los mejores resultados."
   ]
  },
  {
   "cell_type": "code",
   "execution_count": null,
   "metadata": {
    "id": "kjA4crR5avfI"
   },
   "outputs": [],
   "source": [
    "params_grid = {\n",
    "  'booster': ['gbtree'],\n",
    "  'n_estimators': range(20, 25),\n",
    "  'max_depth': range(30, 35),\n",
    "  'learning_rate': np.linspace(0.3, 0.45, 5),\n",
    "  #'min_child_weight': range(0, 20),\n",
    "  'colsample_bytree': [0.85],\n",
    "  'reg_alpha': [0.4], #np.linspace(0.4, 0.5),\n",
    "  'reg_lambda': [0.8], #np.linspace(0.8, 1.0),\n",
    "  'min_split_loss': [22], #range(20, 25)\n",
    "}"
   ]
  },
  {
   "cell_type": "markdown",
   "metadata": {
    "id": "RaShwm1jSBkO"
   },
   "source": [
    "Busco los híperparametros con grid search."
   ]
  },
  {
   "cell_type": "code",
   "execution_count": null,
   "metadata": {
    "id": "SAc-8Y41rIDA"
   },
   "outputs": [],
   "source": [
    "xgb_base = xgb.XGBClassifier()\n",
    "\n",
    "if exists(\"xgb_gridsearch.joblib\") == False:\n",
    "  gridcv = GridSearchCV(xgb_base,\n",
    "                        params_grid,\n",
    "                        cv=5,\n",
    "                        scoring='f1_micro')\n",
    "\n",
    "  gridcv.fit(X_train_bag, y_train_num)\n",
    "\n",
    "  xgb_gridsearch = xgb.XGBClassifier()\n",
    "  xgb_gridsearch.set_params(**gridcv.best_params_)\n",
    "else:\n",
    "  xgb_gridsearch = load(\"xgb_gridsearch.joblib\")"
   ]
  },
  {
   "cell_type": "markdown",
   "metadata": {
    "id": "2kJ71yLUSF6H"
   },
   "source": [
    "Realizo las predicciones y grafico las matriz de confusión."
   ]
  },
  {
   "cell_type": "code",
   "execution_count": null,
   "metadata": {
    "colab": {
     "base_uri": "https://localhost:8080/",
     "height": 605
    },
    "id": "KB4iMMpEvPHr",
    "outputId": "3a39c347-9b38-4d73-f5e7-9ca14537c52d"
   },
   "outputs": [
    {
     "name": "stdout",
     "output_type": "stream",
     "text": [
      "              precision    recall  f1-score   support\n",
      "\n",
      "           0       0.83      0.84      0.83      4939\n",
      "           1       0.84      0.83      0.84      5061\n",
      "\n",
      "    accuracy                           0.84     10000\n",
      "   macro avg       0.84      0.84      0.84     10000\n",
      "weighted avg       0.84      0.84      0.84     10000\n",
      "\n"
     ]
    },
    {
     "data": {
      "image/png": "[encoded data removed]",
      "text/plain": [
       "<Figure size 640x480 with 2 Axes>"
      ]
     },
     "metadata": {},
     "output_type": "display_data"
    }
   ],
   "source": [
    "xgb_gridsearch.fit(X_train_bag, y_train_num)\n",
    "y_pred = xgb_gridsearch.predict(X_test_bag)\n",
    "metricas(y_test_num, y_pred)"
   ]
  },
  {
   "cell_type": "markdown",
   "metadata": {
    "id": "9M7nNXpfSJZx"
   },
   "source": [
    "Hago las predicciones sobre el verdadero conjunto de test."
   ]
  },
  {
   "cell_type": "code",
   "execution_count": null,
   "metadata": {
    "id": "HUo-YjiivuuG"
   },
   "outputs": [],
   "source": [
    "y_real_pred = xgb_gridsearch.predict(X_real)"
   ]
  },
  {
   "cell_type": "markdown",
   "metadata": {
    "id": "-HmD8s5HSMBA"
   },
   "source": [
    "Exporto el modelo y los resultados"
   ]
  },
  {
   "cell_type": "code",
   "execution_count": null,
   "metadata": {
    "id": "JVYlN96Zv3y4"
   },
   "outputs": [],
   "source": [
    "df_export = df_test.copy()\n",
    "df_export.drop([\"review_es\"], axis=\"columns\", inplace=True)\n",
    "df_export.drop([\"texto_preprocesado\"], axis=\"columns\", inplace=True)\n",
    "df_export.drop([\"lang\"], axis=\"columns\", inplace=True)\n",
    "df_export['sentimiento'] = sentimiento_a_string(y_real_pred)"
   ]
  },
  {
   "cell_type": "code",
   "execution_count": null,
   "metadata": {
    "id": "ZJsPcLdyMTdV"
   },
   "outputs": [],
   "source": [
    "df_export.to_csv(\"xgb_gridsearch.csv\")"
   ]
  },
  {
   "cell_type": "code",
   "execution_count": null,
   "metadata": {
    "colab": {
     "base_uri": "https://localhost:8080/"
    },
    "id": "Nsu6Kie19nXF",
    "outputId": "07902ef6-a082-46ac-a646-32f8fc53af92"
   },
   "outputs": [
    {
     "data": {
      "text/plain": [
       "['xgb_gridsearch.joblib']"
      ]
     },
     "execution_count": 37,
     "metadata": {},
     "output_type": "execute_result"
    }
   ],
   "source": [
    "dump(xgb_gridsearch, \"xgb_gridsearch.joblib\")"
   ]
  },
  {
   "cell_type": "markdown",
   "metadata": {
    "id": "HnBEskGTSTGM"
   },
   "source": [
    "# BayesSearch"
   ]
  },
  {
   "cell_type": "markdown",
   "metadata": {
    "id": "ekaU0FtTR0RQ"
   },
   "source": [
    "Por último pruebo buscar los mejores híperparametros mediante BayesSearch."
   ]
  },
  {
   "cell_type": "code",
   "execution_count": null,
   "metadata": {
    "colab": {
     "base_uri": "https://localhost:8080/"
    },
    "id": "xxldEKx1T2lA",
    "outputId": "4f15dc82-bc25-4263-fca8-1ad6ac15252a"
   },
   "outputs": [
    {
     "name": "stdout",
     "output_type": "stream",
     "text": [
      "Collecting scikit-optimize\n",
      "  Downloading scikit_optimize-0.10.2-py2.py3-none-any.whl (107 kB)\n",
      "\u001b[2K     \u001b[90m━━━━━━━━━━━━━━━━━━━━━━━━━━━━━━━━━━━━━━━━\u001b[0m \u001b[32m107.8/107.8 kB\u001b[0m \u001b[31m3.0 MB/s\u001b[0m eta \u001b[36m0:00:00\u001b[0m\n",
      "\u001b[?25hRequirement already satisfied: joblib>=0.11 in /usr/local/lib/python3.10/dist-packages (from scikit-optimize) (1.4.2)\n",
      "Collecting pyaml>=16.9 (from scikit-optimize)\n",
      "  Downloading pyaml-24.4.0-py3-none-any.whl (24 kB)\n",
      "Requirement already satisfied: numpy>=1.20.3 in /usr/local/lib/python3.10/dist-packages (from scikit-optimize) (1.25.2)\n",
      "Requirement already satisfied: scipy>=1.1.0 in /usr/local/lib/python3.10/dist-packages (from scikit-optimize) (1.11.4)\n",
      "Requirement already satisfied: scikit-learn>=1.0.0 in /usr/local/lib/python3.10/dist-packages (from scikit-optimize) (1.2.2)\n",
      "Requirement already satisfied: packaging>=21.3 in /usr/local/lib/python3.10/dist-packages (from scikit-optimize) (24.1)\n",
      "Requirement already satisfied: PyYAML in /usr/local/lib/python3.10/dist-packages (from pyaml>=16.9->scikit-optimize) (6.0.1)\n",
      "Requirement already satisfied: threadpoolctl>=2.0.0 in /usr/local/lib/python3.10/dist-packages (from scikit-learn>=1.0.0->scikit-optimize) (3.5.0)\n",
      "Installing collected packages: pyaml, scikit-optimize\n",
      "Successfully installed pyaml-24.4.0 scikit-optimize-0.10.2\n"
     ]
    }
   ],
   "source": [
    "!pip install scikit-optimize"
   ]
  },
  {
   "cell_type": "code",
   "execution_count": null,
   "metadata": {
    "id": "0LPKzUeARU6Y"
   },
   "outputs": [],
   "source": [
    "from skopt import BayesSearchCV\n",
    "from skopt.space import Real, Categorical, Integer"
   ]
  },
  {
   "cell_type": "code",
   "execution_count": null,
   "metadata": {
    "id": "dp9CEXY4YoYR"
   },
   "outputs": [],
   "source": [
    "params_grid = {\n",
    "  'booster': ['gblinear', 'gbtree'],\n",
    "  'n_estimators': Integer(1, 30),\n",
    "  'learning_rate': np.linspace(0, 1),\n",
    "  'reg_alpha': np.linspace(0, 1),\n",
    "  'reg_lambda': np.linspace(0, 1),\n",
    "}"
   ]
  },
  {
   "cell_type": "code",
   "execution_count": null,
   "metadata": {
    "colab": {
     "base_uri": "https://localhost:8080/"
    },
    "id": "oesHh0ItTsGK",
    "outputId": "04b37ce7-f4a7-4650-b922-a27d1f5bc67c"
   },
   "outputs": [
    {
     "name": "stderr",
     "output_type": "stream",
     "text": [
      "/usr/local/lib/python3.10/dist-packages/skopt/optimizer/optimizer.py:517: UserWarning: The objective has been evaluated at point ['gbtree', 0.5918367346938775, 30, 0.5918367346938775, 0.2040816326530612] before, using random point ['gbtree', 0.18367346938775508, 21, 0.9387755102040816, 0.14285714285714285]\n",
      "  warnings.warn(\n",
      "/usr/local/lib/python3.10/dist-packages/skopt/optimizer/optimizer.py:517: UserWarning: The objective has been evaluated at point ['gbtree', 0.4897959183673469, 30, 0.42857142857142855, 0.36734693877551017] before, using random point ['gbtree', 0.6530612244897959, 11, 0.8571428571428571, 0.061224489795918366]\n",
      "  warnings.warn(\n",
      "/usr/local/lib/python3.10/dist-packages/skopt/optimizer/optimizer.py:517: UserWarning: The objective has been evaluated at point ['gbtree', 0.26530612244897955, 30, 0.42857142857142855, 0.36734693877551017] before, using random point ['gblinear', 0.5918367346938775, 25, 0.16326530612244897, 0.04081632653061224]\n",
      "  warnings.warn(\n",
      "/usr/local/lib/python3.10/dist-packages/skopt/optimizer/optimizer.py:517: UserWarning: The objective has been evaluated at point ['gbtree', 0.4897959183673469, 30, 0.42857142857142855, 0.36734693877551017] before, using random point ['gblinear', 0.0, 28, 0.8775510204081632, 0.9183673469387754]\n",
      "  warnings.warn(\n",
      "/usr/local/lib/python3.10/dist-packages/skopt/optimizer/optimizer.py:517: UserWarning: The objective has been evaluated at point ['gbtree', 0.26530612244897955, 30, 0.42857142857142855, 0.36734693877551017] before, using random point ['gblinear', 0.8979591836734693, 21, 0.24489795918367346, 0.9183673469387754]\n",
      "  warnings.warn(\n",
      "/usr/local/lib/python3.10/dist-packages/skopt/optimizer/optimizer.py:517: UserWarning: The objective has been evaluated at point ['gbtree', 0.26530612244897955, 30, 0.42857142857142855, 0.36734693877551017] before, using random point ['gbtree', 0.26530612244897955, 25, 0.3469387755102041, 0.8163265306122448]\n",
      "  warnings.warn(\n",
      "/usr/local/lib/python3.10/dist-packages/skopt/optimizer/optimizer.py:517: UserWarning: The objective has been evaluated at point ['gbtree', 0.26530612244897955, 30, 0.3469387755102041, 0.36734693877551017] before, using random point ['gbtree', 0.36734693877551017, 26, 0.6938775510204082, 0.5510204081632653]\n",
      "  warnings.warn(\n",
      "/usr/local/lib/python3.10/dist-packages/skopt/optimizer/optimizer.py:517: UserWarning: The objective has been evaluated at point ['gbtree', 0.26530612244897955, 30, 0.3469387755102041, 0.061224489795918366] before, using random point ['gblinear', 0.5306122448979591, 20, 0.9795918367346939, 0.04081632653061224]\n",
      "  warnings.warn(\n",
      "/usr/local/lib/python3.10/dist-packages/skopt/optimizer/optimizer.py:517: UserWarning: The objective has been evaluated at point ['gbtree', 0.4897959183673469, 30, 0.3469387755102041, 0.36734693877551017] before, using random point ['gblinear', 0.8163265306122448, 17, 0.22448979591836732, 0.8163265306122448]\n",
      "  warnings.warn(\n",
      "/usr/local/lib/python3.10/dist-packages/skopt/optimizer/optimizer.py:517: UserWarning: The objective has been evaluated at point ['gbtree', 0.4897959183673469, 30, 0.3469387755102041, 0.36734693877551017] before, using random point ['gblinear', 0.7755102040816326, 21, 0.4081632653061224, 0.8979591836734693]\n",
      "  warnings.warn(\n",
      "/usr/local/lib/python3.10/dist-packages/skopt/optimizer/optimizer.py:517: UserWarning: The objective has been evaluated at point ['gbtree', 0.4897959183673469, 30, 0.3469387755102041, 0.22448979591836732] before, using random point ['gblinear', 0.4693877551020408, 23, 0.5918367346938775, 0.44897959183673464]\n",
      "  warnings.warn(\n",
      "/usr/local/lib/python3.10/dist-packages/skopt/optimizer/optimizer.py:517: UserWarning: The objective has been evaluated at point ['gbtree', 0.4897959183673469, 30, 0.3469387755102041, 0.22448979591836732] before, using random point ['gbtree', 0.6326530612244897, 4, 0.8163265306122448, 0.44897959183673464]\n",
      "  warnings.warn(\n",
      "/usr/local/lib/python3.10/dist-packages/skopt/optimizer/optimizer.py:517: UserWarning: The objective has been evaluated at point ['gbtree', 0.4897959183673469, 30, 0.3469387755102041, 0.36734693877551017] before, using random point ['gbtree', 0.18367346938775508, 6, 0.5918367346938775, 0.6326530612244897]\n",
      "  warnings.warn(\n",
      "/usr/local/lib/python3.10/dist-packages/skopt/optimizer/optimizer.py:517: UserWarning: The objective has been evaluated at point ['gbtree', 0.4897959183673469, 30, 0.3469387755102041, 0.14285714285714285] before, using random point ['gbtree', 0.9795918367346939, 6, 0.6122448979591836, 0.8979591836734693]\n",
      "  warnings.warn(\n",
      "/usr/local/lib/python3.10/dist-packages/skopt/optimizer/optimizer.py:517: UserWarning: The objective has been evaluated at point ['gbtree', 0.4897959183673469, 30, 0.3469387755102041, 0.14285714285714285] before, using random point ['gbtree', 0.08163265306122448, 5, 0.9183673469387754, 0.16326530612244897]\n",
      "  warnings.warn(\n"
     ]
    }
   ],
   "source": [
    "xgb_base = xgb.XGBClassifier()\n",
    "\n",
    "if exists(\"xgb_bayessearch.joblib\") == False:\n",
    "  gridcv = BayesSearchCV(xgb_base,\n",
    "                        params_grid,\n",
    "                        cv=5,\n",
    "                        n_iter=50,\n",
    "                        scoring='f1_micro')\n",
    "\n",
    "  gridcv.fit(X_train_bag, y_train_num)\n",
    "\n",
    "  xgb_bayessearch = xgb.XGBClassifier()\n",
    "  xgb_bayessearch.set_params(**gridcv.best_params_)\n",
    "else:\n",
    "  xgb_bayessearch = load(\"xgb_bayessearch.joblib\")"
   ]
  },
  {
   "cell_type": "code",
   "execution_count": null,
   "metadata": {
    "colab": {
     "base_uri": "https://localhost:8080/",
     "height": 605
    },
    "id": "t4qxhaiindoa",
    "outputId": "cbcb4493-978a-4c17-c72c-5a1a9e052fed"
   },
   "outputs": [
    {
     "name": "stdout",
     "output_type": "stream",
     "text": [
      "              precision    recall  f1-score   support\n",
      "\n",
      "           0       0.83      0.80      0.82      5000\n",
      "           1       0.81      0.84      0.82      5000\n",
      "\n",
      "    accuracy                           0.82     10000\n",
      "   macro avg       0.82      0.82      0.82     10000\n",
      "weighted avg       0.82      0.82      0.82     10000\n",
      "\n"
     ]
    },
    {
     "data": {
      "image/png": "[encoded data removed]",
      "text/plain": [
       "<Figure size 640x480 with 2 Axes>"
      ]
     },
     "metadata": {},
     "output_type": "display_data"
    }
   ],
   "source": [
    "xgb_bayessearch.fit(X_train_bag, y_train_num)\n",
    "y_pred_test = xgb_bayessearch.predict(X_test_bag)\n",
    "metricas(y_pred_test, y_test_num)"
   ]
  },
  {
   "cell_type": "code",
   "execution_count": null,
   "metadata": {
    "id": "pHVCDZqYofBb"
   },
   "outputs": [],
   "source": [
    "y_pred_real = xgb_bayessearch.predict(X_real)"
   ]
  },
  {
   "cell_type": "code",
   "execution_count": null,
   "metadata": {
    "id": "O9jynNHfotty"
   },
   "outputs": [],
   "source": [
    "df_test[\"sentimiento\"] = sentimiento_a_string(y_pred_real)\n",
    "\n",
    "df_export = df_test.copy()\n",
    "df_export.drop([\"review_es\"], axis=\"columns\", inplace=True)\n",
    "df_export.drop([\"texto_preprocesado\"], axis=\"columns\", inplace=True)\n",
    "df_export.drop([\"lang\"], axis=\"columns\", inplace=True)\n",
    "df_export.to_csv(\"xgb_bayessearch_ner_iob_lema_negacion.csv\")"
   ]
  },
  {
   "cell_type": "code",
   "execution_count": null,
   "metadata": {
    "colab": {
     "base_uri": "https://localhost:8080/"
    },
    "id": "ePMAHSF4na0I",
    "outputId": "eed6fce6-1371-44d4-f388-15d896e9f6dd"
   },
   "outputs": [
    {
     "data": {
      "text/plain": [
       "['xgb_bayessearch.joblib']"
      ]
     },
     "execution_count": 48,
     "metadata": {},
     "output_type": "execute_result"
    }
   ],
   "source": [
    "dump(xgb_bayessearch, \"xgb_bayessearch.joblib\")"
   ]
  }
 ],
 "metadata": {
  "colab": {
   "collapsed_sections": [
    "1Uf6gZNPG3eo",
    "pOpuytPoG65V",
    "rgYQkX6Cxfr-",
    "HnBEskGTSTGM"
   ],
   "provenance": []
  },
  "kernelspec": {
   "display_name": "Python 3 (ipykernel)",
   "language": "python",
   "name": "python3"
  },
  "language_info": {
   "codemirror_mode": {
    "name": "ipython",
    "version": 3
   },
   "file_extension": ".py",
   "mimetype": "text/x-python",
   "name": "python",
   "nbconvert_exporter": "python",
   "pygments_lexer": "ipython3",
   "version": "3.11.6"
  }
 },
 "nbformat": 4,
 "nbformat_minor": 4
}
