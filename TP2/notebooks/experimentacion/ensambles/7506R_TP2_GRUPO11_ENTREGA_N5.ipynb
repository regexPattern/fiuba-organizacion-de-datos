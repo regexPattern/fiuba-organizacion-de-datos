{
  "nbformat": 4,
  "nbformat_minor": 0,
  "metadata": {
    "colab": {
      "provenance": []
    },
    "kernelspec": {
      "name": "python3",
      "display_name": "Python 3"
    },
    "language_info": {
      "name": "python"
    }
  },
  "cells": [
    {
      "cell_type": "markdown",
      "source": [
        "# Trabajo Práctico 2: Reseñas de Películas - Pruebas de preprocesamiento, Random Forests y ensambles.\n",
        "\n",
        "## Grupo 11 - \"Los Outliers\"\n",
        "\n",
        "- Castillo, Carlos\n",
        "- Destefanis, Juan Pablo\n",
        "- Gómez, Celeste"
      ],
      "metadata": {
        "id": "AYWgFbAPPlux"
      }
    },
    {
      "cell_type": "markdown",
      "source": [
        "# Librerias y dependencias"
      ],
      "metadata": {
        "id": "L3wPk5s8F9QV"
      }
    },
    {
      "cell_type": "code",
      "execution_count": 1,
      "metadata": {
        "id": "CJTQO31Ly2mD",
        "colab": {
          "base_uri": "https://localhost:8080/"
        },
        "outputId": "b8c60893-c9a8-4637-a6df-f1268babf1ee",
        "collapsed": true
      },
      "outputs": [
        {
          "output_type": "stream",
          "name": "stdout",
          "text": [
            "Requirement already satisfied: nltk in /usr/local/lib/python3.10/dist-packages (3.8.1)\n",
            "Requirement already satisfied: click in /usr/local/lib/python3.10/dist-packages (from nltk) (8.1.7)\n",
            "Requirement already satisfied: joblib in /usr/local/lib/python3.10/dist-packages (from nltk) (1.4.2)\n",
            "Requirement already satisfied: regex>=2021.8.3 in /usr/local/lib/python3.10/dist-packages (from nltk) (2024.5.15)\n",
            "Requirement already satisfied: tqdm in /usr/local/lib/python3.10/dist-packages (from nltk) (4.66.4)\n",
            "Collecting es-core-news-sm==3.7.0\n",
            "  Downloading https://github.com/explosion/spacy-models/releases/download/es_core_news_sm-3.7.0/es_core_news_sm-3.7.0-py3-none-any.whl (12.9 MB)\n",
            "\u001b[2K     \u001b[90m━━━━━━━━━━━━━━━━━━━━━━━━━━━━━━━━━━━━━━━━\u001b[0m \u001b[32m12.9/12.9 MB\u001b[0m \u001b[31m32.7 MB/s\u001b[0m eta \u001b[36m0:00:00\u001b[0m\n",
            "\u001b[?25hRequirement already satisfied: spacy<3.8.0,>=3.7.0 in /usr/local/lib/python3.10/dist-packages (from es-core-news-sm==3.7.0) (3.7.5)\n",
            "Requirement already satisfied: spacy-legacy<3.1.0,>=3.0.11 in /usr/local/lib/python3.10/dist-packages (from spacy<3.8.0,>=3.7.0->es-core-news-sm==3.7.0) (3.0.12)\n",
            "Requirement already satisfied: spacy-loggers<2.0.0,>=1.0.0 in /usr/local/lib/python3.10/dist-packages (from spacy<3.8.0,>=3.7.0->es-core-news-sm==3.7.0) (1.0.5)\n",
            "Requirement already satisfied: murmurhash<1.1.0,>=0.28.0 in /usr/local/lib/python3.10/dist-packages (from spacy<3.8.0,>=3.7.0->es-core-news-sm==3.7.0) (1.0.10)\n",
            "Requirement already satisfied: cymem<2.1.0,>=2.0.2 in /usr/local/lib/python3.10/dist-packages (from spacy<3.8.0,>=3.7.0->es-core-news-sm==3.7.0) (2.0.8)\n",
            "Requirement already satisfied: preshed<3.1.0,>=3.0.2 in /usr/local/lib/python3.10/dist-packages (from spacy<3.8.0,>=3.7.0->es-core-news-sm==3.7.0) (3.0.9)\n",
            "Requirement already satisfied: thinc<8.3.0,>=8.2.2 in /usr/local/lib/python3.10/dist-packages (from spacy<3.8.0,>=3.7.0->es-core-news-sm==3.7.0) (8.2.4)\n",
            "Requirement already satisfied: wasabi<1.2.0,>=0.9.1 in /usr/local/lib/python3.10/dist-packages (from spacy<3.8.0,>=3.7.0->es-core-news-sm==3.7.0) (1.1.3)\n",
            "Requirement already satisfied: srsly<3.0.0,>=2.4.3 in /usr/local/lib/python3.10/dist-packages (from spacy<3.8.0,>=3.7.0->es-core-news-sm==3.7.0) (2.4.8)\n",
            "Requirement already satisfied: catalogue<2.1.0,>=2.0.6 in /usr/local/lib/python3.10/dist-packages (from spacy<3.8.0,>=3.7.0->es-core-news-sm==3.7.0) (2.0.10)\n",
            "Requirement already satisfied: weasel<0.5.0,>=0.1.0 in /usr/local/lib/python3.10/dist-packages (from spacy<3.8.0,>=3.7.0->es-core-news-sm==3.7.0) (0.4.1)\n",
            "Requirement already satisfied: typer<1.0.0,>=0.3.0 in /usr/local/lib/python3.10/dist-packages (from spacy<3.8.0,>=3.7.0->es-core-news-sm==3.7.0) (0.12.3)\n",
            "Requirement already satisfied: tqdm<5.0.0,>=4.38.0 in /usr/local/lib/python3.10/dist-packages (from spacy<3.8.0,>=3.7.0->es-core-news-sm==3.7.0) (4.66.4)\n",
            "Requirement already satisfied: requests<3.0.0,>=2.13.0 in /usr/local/lib/python3.10/dist-packages (from spacy<3.8.0,>=3.7.0->es-core-news-sm==3.7.0) (2.31.0)\n",
            "Requirement already satisfied: pydantic!=1.8,!=1.8.1,<3.0.0,>=1.7.4 in /usr/local/lib/python3.10/dist-packages (from spacy<3.8.0,>=3.7.0->es-core-news-sm==3.7.0) (2.7.4)\n",
            "Requirement already satisfied: jinja2 in /usr/local/lib/python3.10/dist-packages (from spacy<3.8.0,>=3.7.0->es-core-news-sm==3.7.0) (3.1.4)\n",
            "Requirement already satisfied: setuptools in /usr/local/lib/python3.10/dist-packages (from spacy<3.8.0,>=3.7.0->es-core-news-sm==3.7.0) (67.7.2)\n",
            "Requirement already satisfied: packaging>=20.0 in /usr/local/lib/python3.10/dist-packages (from spacy<3.8.0,>=3.7.0->es-core-news-sm==3.7.0) (24.1)\n",
            "Requirement already satisfied: langcodes<4.0.0,>=3.2.0 in /usr/local/lib/python3.10/dist-packages (from spacy<3.8.0,>=3.7.0->es-core-news-sm==3.7.0) (3.4.0)\n",
            "Requirement already satisfied: numpy>=1.19.0 in /usr/local/lib/python3.10/dist-packages (from spacy<3.8.0,>=3.7.0->es-core-news-sm==3.7.0) (1.25.2)\n",
            "Requirement already satisfied: language-data>=1.2 in /usr/local/lib/python3.10/dist-packages (from langcodes<4.0.0,>=3.2.0->spacy<3.8.0,>=3.7.0->es-core-news-sm==3.7.0) (1.2.0)\n",
            "Requirement already satisfied: annotated-types>=0.4.0 in /usr/local/lib/python3.10/dist-packages (from pydantic!=1.8,!=1.8.1,<3.0.0,>=1.7.4->spacy<3.8.0,>=3.7.0->es-core-news-sm==3.7.0) (0.7.0)\n",
            "Requirement already satisfied: pydantic-core==2.18.4 in /usr/local/lib/python3.10/dist-packages (from pydantic!=1.8,!=1.8.1,<3.0.0,>=1.7.4->spacy<3.8.0,>=3.7.0->es-core-news-sm==3.7.0) (2.18.4)\n",
            "Requirement already satisfied: typing-extensions>=4.6.1 in /usr/local/lib/python3.10/dist-packages (from pydantic!=1.8,!=1.8.1,<3.0.0,>=1.7.4->spacy<3.8.0,>=3.7.0->es-core-news-sm==3.7.0) (4.12.2)\n",
            "Requirement already satisfied: charset-normalizer<4,>=2 in /usr/local/lib/python3.10/dist-packages (from requests<3.0.0,>=2.13.0->spacy<3.8.0,>=3.7.0->es-core-news-sm==3.7.0) (3.3.2)\n",
            "Requirement already satisfied: idna<4,>=2.5 in /usr/local/lib/python3.10/dist-packages (from requests<3.0.0,>=2.13.0->spacy<3.8.0,>=3.7.0->es-core-news-sm==3.7.0) (3.7)\n",
            "Requirement already satisfied: urllib3<3,>=1.21.1 in /usr/local/lib/python3.10/dist-packages (from requests<3.0.0,>=2.13.0->spacy<3.8.0,>=3.7.0->es-core-news-sm==3.7.0) (2.0.7)\n",
            "Requirement already satisfied: certifi>=2017.4.17 in /usr/local/lib/python3.10/dist-packages (from requests<3.0.0,>=2.13.0->spacy<3.8.0,>=3.7.0->es-core-news-sm==3.7.0) (2024.6.2)\n",
            "Requirement already satisfied: blis<0.8.0,>=0.7.8 in /usr/local/lib/python3.10/dist-packages (from thinc<8.3.0,>=8.2.2->spacy<3.8.0,>=3.7.0->es-core-news-sm==3.7.0) (0.7.11)\n",
            "Requirement already satisfied: confection<1.0.0,>=0.0.1 in /usr/local/lib/python3.10/dist-packages (from thinc<8.3.0,>=8.2.2->spacy<3.8.0,>=3.7.0->es-core-news-sm==3.7.0) (0.1.5)\n",
            "Requirement already satisfied: click>=8.0.0 in /usr/local/lib/python3.10/dist-packages (from typer<1.0.0,>=0.3.0->spacy<3.8.0,>=3.7.0->es-core-news-sm==3.7.0) (8.1.7)\n",
            "Requirement already satisfied: shellingham>=1.3.0 in /usr/local/lib/python3.10/dist-packages (from typer<1.0.0,>=0.3.0->spacy<3.8.0,>=3.7.0->es-core-news-sm==3.7.0) (1.5.4)\n",
            "Requirement already satisfied: rich>=10.11.0 in /usr/local/lib/python3.10/dist-packages (from typer<1.0.0,>=0.3.0->spacy<3.8.0,>=3.7.0->es-core-news-sm==3.7.0) (13.7.1)\n",
            "Requirement already satisfied: cloudpathlib<1.0.0,>=0.7.0 in /usr/local/lib/python3.10/dist-packages (from weasel<0.5.0,>=0.1.0->spacy<3.8.0,>=3.7.0->es-core-news-sm==3.7.0) (0.18.1)\n",
            "Requirement already satisfied: smart-open<8.0.0,>=5.2.1 in /usr/local/lib/python3.10/dist-packages (from weasel<0.5.0,>=0.1.0->spacy<3.8.0,>=3.7.0->es-core-news-sm==3.7.0) (7.0.4)\n",
            "Requirement already satisfied: MarkupSafe>=2.0 in /usr/local/lib/python3.10/dist-packages (from jinja2->spacy<3.8.0,>=3.7.0->es-core-news-sm==3.7.0) (2.1.5)\n",
            "Requirement already satisfied: marisa-trie>=0.7.7 in /usr/local/lib/python3.10/dist-packages (from language-data>=1.2->langcodes<4.0.0,>=3.2.0->spacy<3.8.0,>=3.7.0->es-core-news-sm==3.7.0) (1.2.0)\n",
            "Requirement already satisfied: markdown-it-py>=2.2.0 in /usr/local/lib/python3.10/dist-packages (from rich>=10.11.0->typer<1.0.0,>=0.3.0->spacy<3.8.0,>=3.7.0->es-core-news-sm==3.7.0) (3.0.0)\n",
            "Requirement already satisfied: pygments<3.0.0,>=2.13.0 in /usr/local/lib/python3.10/dist-packages (from rich>=10.11.0->typer<1.0.0,>=0.3.0->spacy<3.8.0,>=3.7.0->es-core-news-sm==3.7.0) (2.16.1)\n",
            "Requirement already satisfied: wrapt in /usr/local/lib/python3.10/dist-packages (from smart-open<8.0.0,>=5.2.1->weasel<0.5.0,>=0.1.0->spacy<3.8.0,>=3.7.0->es-core-news-sm==3.7.0) (1.14.1)\n",
            "Requirement already satisfied: mdurl~=0.1 in /usr/local/lib/python3.10/dist-packages (from markdown-it-py>=2.2.0->rich>=10.11.0->typer<1.0.0,>=0.3.0->spacy<3.8.0,>=3.7.0->es-core-news-sm==3.7.0) (0.1.2)\n",
            "Installing collected packages: es-core-news-sm\n",
            "Successfully installed es-core-news-sm-3.7.0\n",
            "\u001b[38;5;2m✔ Download and installation successful\u001b[0m\n",
            "You can now load the package via spacy.load('es_core_news_sm')\n",
            "\u001b[38;5;3m⚠ Restart to reload dependencies\u001b[0m\n",
            "If you are in a Jupyter or Colab notebook, you may need to restart Python in\n",
            "order to load all the package's dependencies. You can do this by selecting the\n",
            "'Restart kernel' or 'Restart runtime' option.\n",
            "Collecting unidecode\n",
            "  Downloading Unidecode-1.3.8-py3-none-any.whl (235 kB)\n",
            "\u001b[2K     \u001b[90m━━━━━━━━━━━━━━━━━━━━━━━━━━━━━━━━━━━━━━━━\u001b[0m \u001b[32m235.5/235.5 kB\u001b[0m \u001b[31m5.0 MB/s\u001b[0m eta \u001b[36m0:00:00\u001b[0m\n",
            "\u001b[?25hInstalling collected packages: unidecode\n",
            "Successfully installed unidecode-1.3.8\n"
          ]
        }
      ],
      "source": [
        "!pip install nltk\n",
        "!python -m spacy download es_core_news_sm\n",
        "!pip install unidecode"
      ]
    },
    {
      "cell_type": "code",
      "source": [
        "import pandas as pd\n",
        "import numpy as np\n",
        "\n",
        "from sklearn.model_selection import train_test_split\n",
        "\n",
        "import matplotlib.pyplot as plt\n",
        "import seaborn as sns\n",
        "\n",
        "import nltk\n",
        "nltk.download('stopwords')\n",
        "nltk.download('punkt')\n",
        "\n",
        "import spacy\n",
        "\n",
        "from sklearn.model_selection import cross_val_score, RandomizedSearchCV, GridSearchCV, StratifiedKFold\n",
        "from sklearn.metrics import make_scorer, f1_score\n",
        "from sklearn.naive_bayes import MultinomialNB\n",
        "from sklearn.ensemble import RandomForestClassifier\n",
        "from sklearn.ensemble import GradientBoostingClassifier\n",
        "from sklearn.ensemble import VotingClassifier\n",
        "from sklearn.ensemble import AdaBoostClassifier\n",
        "from sklearn.neighbors import KNeighborsClassifier\n",
        "\n",
        "import xgboost as xgb\n",
        "\n",
        "import joblib\n",
        "\n",
        "import re\n",
        "from nltk.corpus import stopwords\n",
        "from nltk.stem import SnowballStemmer\n",
        "from nltk.tokenize import ToktokTokenizer\n",
        "from sklearn.pipeline import Pipeline\n",
        "from sklearn.model_selection import KFold\n",
        "from sklearn.metrics import confusion_matrix, classification_report\n",
        "from sklearn.tree import export_text\n",
        "\n",
        "from six import StringIO\n",
        "from IPython.display import Image\n",
        "from sklearn.tree import export_graphviz\n",
        "\n",
        "from sklearn.feature_extraction.text import TfidfVectorizer, CountVectorizer\n",
        "from sklearn.pipeline import make_pipeline\n",
        "from unidecode import unidecode\n",
        "\n",
        "from sklearn import metrics\n",
        "\n",
        "# Constants\n",
        "SEED = 13"
      ],
      "metadata": {
        "colab": {
          "base_uri": "https://localhost:8080/"
        },
        "id": "u_F3hPh_4E8g",
        "outputId": "58a81c17-5fa0-452d-a625-f335f19a48d5"
      },
      "execution_count": 2,
      "outputs": [
        {
          "output_type": "stream",
          "name": "stderr",
          "text": [
            "[nltk_data] Downloading package stopwords to /root/nltk_data...\n",
            "[nltk_data]   Unzipping corpora/stopwords.zip.\n",
            "[nltk_data] Downloading package punkt to /root/nltk_data...\n",
            "[nltk_data]   Unzipping tokenizers/punkt.zip.\n"
          ]
        }
      ]
    },
    {
      "cell_type": "markdown",
      "source": [
        "## Modelos exportados"
      ],
      "metadata": {
        "id": "j7ApXytUOcJy"
      }
    },
    {
      "cell_type": "markdown",
      "source": [
        "Carga de los modelos con los mejores hiperparámetros encontrados a lo largo de la notebook."
      ],
      "metadata": {
        "id": "sqX4TpAxT0R9"
      }
    },
    {
      "cell_type": "code",
      "source": [
        "ensemble = joblib.load(\"gb_rf_kn_ensemble.pkl\")\n",
        "rf = joblib.load(\"rf300iter.pkl\")\n",
        "gb = joblib.load(\"gb300iter.pkl\")\n",
        "kn = joblib.load(\"kn.pkl\")\n",
        "ab = joblib.load(\"ab10iter.pkl\")"
      ],
      "metadata": {
        "id": "rQ3bOZslfeNV"
      },
      "execution_count": 5,
      "outputs": []
    },
    {
      "cell_type": "markdown",
      "source": [
        "Split de train/test de los CSVs ya preprocesados con esta notebook."
      ],
      "metadata": {
        "id": "TFU77qLD9rFt"
      }
    },
    {
      "cell_type": "code",
      "source": [
        "# Lematized datasets.\n",
        "df_train = pd.read_csv(\"lemmatized_train.csv\", encoding='utf-8', on_bad_lines='warn')\n",
        "df_test = pd.read_csv(\"lemmatized_test.csv\", index_col=0)\n",
        "\n",
        "X_train, X_test, y_train, y_test = train_test_split(df_train.review_es, df_train.sentimiento, test_size=0.2, random_state=SEED, stratify=df_train.sentimiento)"
      ],
      "metadata": {
        "id": "IADhbVieLx_O"
      },
      "execution_count": 6,
      "outputs": []
    },
    {
      "cell_type": "markdown",
      "source": [
        "# Preprocesamiento"
      ],
      "metadata": {
        "id": "SBFrKVxuGApn"
      }
    },
    {
      "cell_type": "markdown",
      "source": [
        "Listado de posibles tareas a realizar:\n",
        "- Remover mayúsculas.\n",
        "- Remover tildes y signos ortográficos.\n",
        "- Remover las reviews en inglés.\n",
        "- Aplicar lemmatización con `spacy`\n",
        "- Aplicar stemming con `nltk` (quizás es preferible simplemente usar lemmatización según recomendaciones de las clases prácticas)\n",
        "- Remover stop words."
      ],
      "metadata": {
        "id": "9OVZ0UeFKX90"
      }
    },
    {
      "cell_type": "markdown",
      "source": [
        "Cargo los CSV de training y de testing."
      ],
      "metadata": {
        "id": "1UlXIhjrI_VK"
      }
    },
    {
      "cell_type": "code",
      "source": [
        "df_train = pd.read_csv(\"train.csv\", encoding='utf-8', on_bad_lines='warn')"
      ],
      "metadata": {
        "id": "gQaJxJ2K54cQ"
      },
      "execution_count": null,
      "outputs": []
    },
    {
      "cell_type": "code",
      "source": [
        "df_test.info()"
      ],
      "metadata": {
        "colab": {
          "base_uri": "https://localhost:8080/"
        },
        "id": "rbLShhOR40Ai",
        "outputId": "44f5382f-817a-446d-bc4b-bd93ba91cbe5"
      },
      "execution_count": null,
      "outputs": [
        {
          "output_type": "stream",
          "name": "stdout",
          "text": [
            "<class 'pandas.core.frame.DataFrame'>\n",
            "Index: 8599 entries, 60000 to 68598\n",
            "Data columns (total 2 columns):\n",
            " #   Column     Non-Null Count  Dtype \n",
            "---  ------     --------------  ----- \n",
            " 0   review_es  8599 non-null   object\n",
            " 1   reviews    8599 non-null   object\n",
            "dtypes: object(2)\n",
            "memory usage: 201.5+ KB\n"
          ]
        }
      ]
    },
    {
      "cell_type": "code",
      "source": [
        "df_train = pd.read_csv(\"train.csv\", encoding='utf-8', on_bad_lines='warn')\n",
        "df_test = pd.read_csv(\"test.csv\", index_col=0)\n",
        "df_train.columns"
      ],
      "metadata": {
        "id": "-z-sCIoG7MWZ"
      },
      "execution_count": null,
      "outputs": []
    },
    {
      "cell_type": "markdown",
      "source": [
        "Creo el lematizador usando la librería `spacy`."
      ],
      "metadata": {
        "id": "uVApTIRYQ_DX"
      }
    },
    {
      "cell_type": "code",
      "source": [
        "nlp = spacy.load('es_core_news_sm')\n",
        "\n",
        "def lemmatizer(text):\n",
        "  sent = []\n",
        "  doc = nlp(text)\n",
        "  for word in doc:\n",
        "    sent.append(word.lemma_)\n",
        "  return \" \".join(sent)"
      ],
      "metadata": {
        "id": "bBQJ7zahOW06"
      },
      "execution_count": null,
      "outputs": []
    },
    {
      "cell_type": "markdown",
      "source": [
        "Aplico lematización a los sets de training y test."
      ],
      "metadata": {
        "id": "05uLRjjsRTAi"
      }
    },
    {
      "cell_type": "code",
      "source": [
        "# Lemmatize test\n",
        "df_test[\"review_es\"] = df_test.apply(lambda x: lemmatizer(x['review_es']), axis=1)"
      ],
      "metadata": {
        "id": "RgxVbDrjhxwF"
      },
      "execution_count": null,
      "outputs": []
    },
    {
      "cell_type": "code",
      "source": [
        "df_train_copy2 = df_train.copy()\n",
        "df_train_copy2[\"review_es\"] = df_train_copy2.apply(lambda x: lemmatizer(x['review_es']), axis=1)"
      ],
      "metadata": {
        "id": "icyo0Aa4TkUo"
      },
      "execution_count": null,
      "outputs": []
    },
    {
      "cell_type": "code",
      "source": [
        "df_lemmatized_copy = df_train_copy2.copy()"
      ],
      "metadata": {
        "id": "Lqvl00oHbELD"
      },
      "execution_count": null,
      "outputs": []
    },
    {
      "cell_type": "code",
      "source": [
        "df_train_copy2"
      ],
      "metadata": {
        "colab": {
          "base_uri": "https://localhost:8080/",
          "height": 424
        },
        "id": "-15-RUEqUaBB",
        "outputId": "1837abdc-5351-4c46-8d27-c4b93452e1ee"
      },
      "execution_count": null,
      "outputs": [
        {
          "output_type": "execute_result",
          "data": {
            "text/plain": [
              "          ID                                          review_es sentimiento\n",
              "0          0  uno de el otro critico haber mencionar que des...    positivo\n",
              "1          1  uno pequeno pequeno produccion   el tecnica de...    positivo\n",
              "2          2  pensar que este ser uno manera maravilloso de ...    positivo\n",
              "3          3  basicamente   haber uno familia donde uno nino...    negativo\n",
              "4          4  el   amor en el tiempo   de petter mattei ser ...    positivo\n",
              "...      ...                                                ...         ...\n",
              "49995  49995  pensar que este pelicula hacer uno buen trabaj...    positivo\n",
              "49996  49996  mala parcela   mal dialogo   malo actuacion   ...    negativo\n",
              "49997  49997  ser catolico ensenado en escuela primario parr...    negativo\n",
              "49998  49998  ir a tener que estar en desacuerdo con el come...    negativo\n",
              "49999  49999  nadie esperar que el pelicula de star trek ser...    negativo\n",
              "\n",
              "[50000 rows x 3 columns]"
            ],
            "text/html": [
              "\n",
              "  <div id=\"df-d2494c53-4686-4c4b-812d-9c9c4edd8fcf\" class=\"colab-df-container\">\n",
              "    <div>\n",
              "<style scoped>\n",
              "    .dataframe tbody tr th:only-of-type {\n",
              "        vertical-align: middle;\n",
              "    }\n",
              "\n",
              "    .dataframe tbody tr th {\n",
              "        vertical-align: top;\n",
              "    }\n",
              "\n",
              "    .dataframe thead th {\n",
              "        text-align: right;\n",
              "    }\n",
              "</style>\n",
              "<table border=\"1\" class=\"dataframe\">\n",
              "  <thead>\n",
              "    <tr style=\"text-align: right;\">\n",
              "      <th></th>\n",
              "      <th>ID</th>\n",
              "      <th>review_es</th>\n",
              "      <th>sentimiento</th>\n",
              "    </tr>\n",
              "  </thead>\n",
              "  <tbody>\n",
              "    <tr>\n",
              "      <th>0</th>\n",
              "      <td>0</td>\n",
              "      <td>uno de el otro critico haber mencionar que des...</td>\n",
              "      <td>positivo</td>\n",
              "    </tr>\n",
              "    <tr>\n",
              "      <th>1</th>\n",
              "      <td>1</td>\n",
              "      <td>uno pequeno pequeno produccion   el tecnica de...</td>\n",
              "      <td>positivo</td>\n",
              "    </tr>\n",
              "    <tr>\n",
              "      <th>2</th>\n",
              "      <td>2</td>\n",
              "      <td>pensar que este ser uno manera maravilloso de ...</td>\n",
              "      <td>positivo</td>\n",
              "    </tr>\n",
              "    <tr>\n",
              "      <th>3</th>\n",
              "      <td>3</td>\n",
              "      <td>basicamente   haber uno familia donde uno nino...</td>\n",
              "      <td>negativo</td>\n",
              "    </tr>\n",
              "    <tr>\n",
              "      <th>4</th>\n",
              "      <td>4</td>\n",
              "      <td>el   amor en el tiempo   de petter mattei ser ...</td>\n",
              "      <td>positivo</td>\n",
              "    </tr>\n",
              "    <tr>\n",
              "      <th>...</th>\n",
              "      <td>...</td>\n",
              "      <td>...</td>\n",
              "      <td>...</td>\n",
              "    </tr>\n",
              "    <tr>\n",
              "      <th>49995</th>\n",
              "      <td>49995</td>\n",
              "      <td>pensar que este pelicula hacer uno buen trabaj...</td>\n",
              "      <td>positivo</td>\n",
              "    </tr>\n",
              "    <tr>\n",
              "      <th>49996</th>\n",
              "      <td>49996</td>\n",
              "      <td>mala parcela   mal dialogo   malo actuacion   ...</td>\n",
              "      <td>negativo</td>\n",
              "    </tr>\n",
              "    <tr>\n",
              "      <th>49997</th>\n",
              "      <td>49997</td>\n",
              "      <td>ser catolico ensenado en escuela primario parr...</td>\n",
              "      <td>negativo</td>\n",
              "    </tr>\n",
              "    <tr>\n",
              "      <th>49998</th>\n",
              "      <td>49998</td>\n",
              "      <td>ir a tener que estar en desacuerdo con el come...</td>\n",
              "      <td>negativo</td>\n",
              "    </tr>\n",
              "    <tr>\n",
              "      <th>49999</th>\n",
              "      <td>49999</td>\n",
              "      <td>nadie esperar que el pelicula de star trek ser...</td>\n",
              "      <td>negativo</td>\n",
              "    </tr>\n",
              "  </tbody>\n",
              "</table>\n",
              "<p>50000 rows × 3 columns</p>\n",
              "</div>\n",
              "    <div class=\"colab-df-buttons\">\n",
              "\n",
              "  <div class=\"colab-df-container\">\n",
              "    <button class=\"colab-df-convert\" onclick=\"convertToInteractive('df-d2494c53-4686-4c4b-812d-9c9c4edd8fcf')\"\n",
              "            title=\"Convert this dataframe to an interactive table.\"\n",
              "            style=\"display:none;\">\n",
              "\n",
              "  <svg xmlns=\"http://www.w3.org/2000/svg\" height=\"24px\" viewBox=\"0 -960 960 960\">\n",
              "    <path d=\"M120-120v-720h720v720H120Zm60-500h600v-160H180v160Zm220 220h160v-160H400v160Zm0 220h160v-160H400v160ZM180-400h160v-160H180v160Zm440 0h160v-160H620v160ZM180-180h160v-160H180v160Zm440 0h160v-160H620v160Z\"/>\n",
              "  </svg>\n",
              "    </button>\n",
              "\n",
              "  <style>\n",
              "    .colab-df-container {\n",
              "      display:flex;\n",
              "      gap: 12px;\n",
              "    }\n",
              "\n",
              "    .colab-df-convert {\n",
              "      background-color: #E8F0FE;\n",
              "      border: none;\n",
              "      border-radius: 50%;\n",
              "      cursor: pointer;\n",
              "      display: none;\n",
              "      fill: #1967D2;\n",
              "      height: 32px;\n",
              "      padding: 0 0 0 0;\n",
              "      width: 32px;\n",
              "    }\n",
              "\n",
              "    .colab-df-convert:hover {\n",
              "      background-color: #E2EBFA;\n",
              "      box-shadow: 0px 1px 2px rgba(60, 64, 67, 0.3), 0px 1px 3px 1px rgba(60, 64, 67, 0.15);\n",
              "      fill: #174EA6;\n",
              "    }\n",
              "\n",
              "    .colab-df-buttons div {\n",
              "      margin-bottom: 4px;\n",
              "    }\n",
              "\n",
              "    [theme=dark] .colab-df-convert {\n",
              "      background-color: #3B4455;\n",
              "      fill: #D2E3FC;\n",
              "    }\n",
              "\n",
              "    [theme=dark] .colab-df-convert:hover {\n",
              "      background-color: #434B5C;\n",
              "      box-shadow: 0px 1px 3px 1px rgba(0, 0, 0, 0.15);\n",
              "      filter: drop-shadow(0px 1px 2px rgba(0, 0, 0, 0.3));\n",
              "      fill: #FFFFFF;\n",
              "    }\n",
              "  </style>\n",
              "\n",
              "    <script>\n",
              "      const buttonEl =\n",
              "        document.querySelector('#df-d2494c53-4686-4c4b-812d-9c9c4edd8fcf button.colab-df-convert');\n",
              "      buttonEl.style.display =\n",
              "        google.colab.kernel.accessAllowed ? 'block' : 'none';\n",
              "\n",
              "      async function convertToInteractive(key) {\n",
              "        const element = document.querySelector('#df-d2494c53-4686-4c4b-812d-9c9c4edd8fcf');\n",
              "        const dataTable =\n",
              "          await google.colab.kernel.invokeFunction('convertToInteractive',\n",
              "                                                    [key], {});\n",
              "        if (!dataTable) return;\n",
              "\n",
              "        const docLinkHtml = 'Like what you see? Visit the ' +\n",
              "          '<a target=\"_blank\" href=https://colab.research.google.com/notebooks/data_table.ipynb>data table notebook</a>'\n",
              "          + ' to learn more about interactive tables.';\n",
              "        element.innerHTML = '';\n",
              "        dataTable['output_type'] = 'display_data';\n",
              "        await google.colab.output.renderOutput(dataTable, element);\n",
              "        const docLink = document.createElement('div');\n",
              "        docLink.innerHTML = docLinkHtml;\n",
              "        element.appendChild(docLink);\n",
              "      }\n",
              "    </script>\n",
              "  </div>\n",
              "\n",
              "\n",
              "<div id=\"df-1e7ac7b4-f024-4623-9683-796b3bae6b7b\">\n",
              "  <button class=\"colab-df-quickchart\" onclick=\"quickchart('df-1e7ac7b4-f024-4623-9683-796b3bae6b7b')\"\n",
              "            title=\"Suggest charts\"\n",
              "            style=\"display:none;\">\n",
              "\n",
              "<svg xmlns=\"http://www.w3.org/2000/svg\" height=\"24px\"viewBox=\"0 0 24 24\"\n",
              "     width=\"24px\">\n",
              "    <g>\n",
              "        <path d=\"M19 3H5c-1.1 0-2 .9-2 2v14c0 1.1.9 2 2 2h14c1.1 0 2-.9 2-2V5c0-1.1-.9-2-2-2zM9 17H7v-7h2v7zm4 0h-2V7h2v10zm4 0h-2v-4h2v4z\"/>\n",
              "    </g>\n",
              "</svg>\n",
              "  </button>\n",
              "\n",
              "<style>\n",
              "  .colab-df-quickchart {\n",
              "      --bg-color: #E8F0FE;\n",
              "      --fill-color: #1967D2;\n",
              "      --hover-bg-color: #E2EBFA;\n",
              "      --hover-fill-color: #174EA6;\n",
              "      --disabled-fill-color: #AAA;\n",
              "      --disabled-bg-color: #DDD;\n",
              "  }\n",
              "\n",
              "  [theme=dark] .colab-df-quickchart {\n",
              "      --bg-color: #3B4455;\n",
              "      --fill-color: #D2E3FC;\n",
              "      --hover-bg-color: #434B5C;\n",
              "      --hover-fill-color: #FFFFFF;\n",
              "      --disabled-bg-color: #3B4455;\n",
              "      --disabled-fill-color: #666;\n",
              "  }\n",
              "\n",
              "  .colab-df-quickchart {\n",
              "    background-color: var(--bg-color);\n",
              "    border: none;\n",
              "    border-radius: 50%;\n",
              "    cursor: pointer;\n",
              "    display: none;\n",
              "    fill: var(--fill-color);\n",
              "    height: 32px;\n",
              "    padding: 0;\n",
              "    width: 32px;\n",
              "  }\n",
              "\n",
              "  .colab-df-quickchart:hover {\n",
              "    background-color: var(--hover-bg-color);\n",
              "    box-shadow: 0 1px 2px rgba(60, 64, 67, 0.3), 0 1px 3px 1px rgba(60, 64, 67, 0.15);\n",
              "    fill: var(--button-hover-fill-color);\n",
              "  }\n",
              "\n",
              "  .colab-df-quickchart-complete:disabled,\n",
              "  .colab-df-quickchart-complete:disabled:hover {\n",
              "    background-color: var(--disabled-bg-color);\n",
              "    fill: var(--disabled-fill-color);\n",
              "    box-shadow: none;\n",
              "  }\n",
              "\n",
              "  .colab-df-spinner {\n",
              "    border: 2px solid var(--fill-color);\n",
              "    border-color: transparent;\n",
              "    border-bottom-color: var(--fill-color);\n",
              "    animation:\n",
              "      spin 1s steps(1) infinite;\n",
              "  }\n",
              "\n",
              "  @keyframes spin {\n",
              "    0% {\n",
              "      border-color: transparent;\n",
              "      border-bottom-color: var(--fill-color);\n",
              "      border-left-color: var(--fill-color);\n",
              "    }\n",
              "    20% {\n",
              "      border-color: transparent;\n",
              "      border-left-color: var(--fill-color);\n",
              "      border-top-color: var(--fill-color);\n",
              "    }\n",
              "    30% {\n",
              "      border-color: transparent;\n",
              "      border-left-color: var(--fill-color);\n",
              "      border-top-color: var(--fill-color);\n",
              "      border-right-color: var(--fill-color);\n",
              "    }\n",
              "    40% {\n",
              "      border-color: transparent;\n",
              "      border-right-color: var(--fill-color);\n",
              "      border-top-color: var(--fill-color);\n",
              "    }\n",
              "    60% {\n",
              "      border-color: transparent;\n",
              "      border-right-color: var(--fill-color);\n",
              "    }\n",
              "    80% {\n",
              "      border-color: transparent;\n",
              "      border-right-color: var(--fill-color);\n",
              "      border-bottom-color: var(--fill-color);\n",
              "    }\n",
              "    90% {\n",
              "      border-color: transparent;\n",
              "      border-bottom-color: var(--fill-color);\n",
              "    }\n",
              "  }\n",
              "</style>\n",
              "\n",
              "  <script>\n",
              "    async function quickchart(key) {\n",
              "      const quickchartButtonEl =\n",
              "        document.querySelector('#' + key + ' button');\n",
              "      quickchartButtonEl.disabled = true;  // To prevent multiple clicks.\n",
              "      quickchartButtonEl.classList.add('colab-df-spinner');\n",
              "      try {\n",
              "        const charts = await google.colab.kernel.invokeFunction(\n",
              "            'suggestCharts', [key], {});\n",
              "      } catch (error) {\n",
              "        console.error('Error during call to suggestCharts:', error);\n",
              "      }\n",
              "      quickchartButtonEl.classList.remove('colab-df-spinner');\n",
              "      quickchartButtonEl.classList.add('colab-df-quickchart-complete');\n",
              "    }\n",
              "    (() => {\n",
              "      let quickchartButtonEl =\n",
              "        document.querySelector('#df-1e7ac7b4-f024-4623-9683-796b3bae6b7b button');\n",
              "      quickchartButtonEl.style.display =\n",
              "        google.colab.kernel.accessAllowed ? 'block' : 'none';\n",
              "    })();\n",
              "  </script>\n",
              "</div>\n",
              "    </div>\n",
              "  </div>\n"
            ],
            "application/vnd.google.colaboratory.intrinsic+json": {
              "type": "dataframe",
              "variable_name": "df_train",
              "summary": "{\n  \"name\": \"df_train\",\n  \"rows\": 50000,\n  \"fields\": [\n    {\n      \"column\": \"ID\",\n      \"properties\": {\n        \"dtype\": \"number\",\n        \"std\": 14433,\n        \"min\": 0,\n        \"max\": 49999,\n        \"num_unique_values\": 50000,\n        \"samples\": [\n          33553,\n          9427,\n          199\n        ],\n        \"semantic_type\": \"\",\n        \"description\": \"\"\n      }\n    },\n    {\n      \"column\": \"review_es\",\n      \"properties\": {\n        \"dtype\": \"string\",\n        \"num_unique_values\": 49598,\n        \"samples\": [\n          \"uno resumen bien fundido de uno evento real bueno   en realidad   yo no estar alli   pero creer que este ser como poder haber ser como   creer que haber dos punto de vista tipicamente americano evidente en el pelicula     comunistafobiar   y paralelo a adolf hitler   este deber ser evidente para el observador mas independiente   de todos modos   boothe hacer uno gran rendimiento   y tambien el hacer mucho otro actor conocido   el ultimo veinte minuto de el pelicula ser insoportable     y el decir en serio cualquiera que poder dormir bien despues de el ser anormal  por ese ser tanto terrible   todo suceder   y probablemente el ver asi  pero   en realidad     ese ultimo escena en el estacion de aire realmente el llevar a cabo\",\n          \"haber leer el comentario de kerching on imdb   y francamente   no haber ver uno revision positivo   hasta ahora   en realidad yo gustar a kerching   kerching ser sobre uno adolescente llamado taj lewis   para hacer PS    para su madre   establecer uno sitio web llamado rudeboy   el sitio web ofrecer mucho cosa interesante   aunque solo taj   y su  amigo   danny y seymour poder evitar que taj el exponer   encontrar este espectaculo bastante divertido y yo gustar ver el   el actuacion ser o k    pero definitivamente poder ser mejor   el personaje ser divertido   especialmente a danny spooner   el amigo de taj   su estupidez ser el que el hacer divertido y el otro amigo de taj seymour   tambien carlton   el dueno de el cafeteria llamado   el frio    nunca el ver   solo el escuchar   el hermano menor de taj   omar   y su hermana mayor   missy tambien ser divertir   y el mejor amiga de missy kareesha   mucho vez   taj s casi el haber exponer   casi   ademas de el comedia   el drama en kerching   como el vida del amor y el perdida de ser querido hacer que este programa ser excelente\",\n          \"uno historia sobre el amor y el odio   el tragedia y el felicidad   y sobre todo   el amistad establecido en el momento mucho interesante de el guerra civil estadounidense   tu interesar interesado en el historia   tu involucrar emocionalmente y tu hacer febrilmente esperar el proximo episodio     el casting ser esplendido   mucho superestrella aparecer en el camafeo corto   el rol principal ser jugar por uno gran variedad de monumento talentoso   kirstie alley y terri garber el deber mencionar aqui   este ser simplemente uno excelente ejemplo para uno produccion de television como deber ser   no el olvidar de el pura   lovelity of wendy kilbourne retratar constanza\"\n        ],\n        \"semantic_type\": \"\",\n        \"description\": \"\"\n      }\n    },\n    {\n      \"column\": \"sentimiento\",\n      \"properties\": {\n        \"dtype\": \"category\",\n        \"num_unique_values\": 2,\n        \"samples\": [\n          \"negativo\",\n          \"positivo\"\n        ],\n        \"semantic_type\": \"\",\n        \"description\": \"\"\n      }\n    }\n  ]\n}"
            }
          },
          "metadata": {},
          "execution_count": 28
        }
      ]
    },
    {
      "cell_type": "markdown",
      "source": [
        "Creo una función de preprocesamiento para remover signos diacríticos, mayúsculas, números y símbolos."
      ],
      "metadata": {
        "id": "F_8lEB_MRarO"
      }
    },
    {
      "cell_type": "code",
      "source": [
        "def preprocess(\n",
        "  text: str,\n",
        "  lower: bool = True,\n",
        "  remove_diacritics: bool = True,\n",
        "  remove_symbols: bool = True,\n",
        "  remove_numbers: bool = True\n",
        ") -> str:\n",
        "  if lower:\n",
        "    text = text.lower()\n",
        "\n",
        "  # Remove diacritics with the Unicode library.\n",
        "  if remove_diacritics:\n",
        "    text = unidecode(text)\n",
        "\n",
        "  if remove_numbers:\n",
        "    text = re.sub('[0-9]', '', text)\n",
        "\n",
        "  # Replace every character that's not a letter or a number with a space.\n",
        "  if remove_symbols:\n",
        "    text = re.sub('[^a-zA-Z0-9ñÑÁÉÍÓÚáéíóúÜü]', ' ', text)\n",
        "\n",
        "  text = text.strip()\n",
        "\n",
        "  return text"
      ],
      "metadata": {
        "id": "SvVf7QGi_PbK"
      },
      "execution_count": 8,
      "outputs": []
    },
    {
      "cell_type": "code",
      "source": [
        "df_train_copy1 = df_train.copy()\n",
        "df_train_copy1[\"review_es\"] = df_train_copy1[\"review_es\"].apply(preprocess, args=(True, True, True, True))\n",
        "\n",
        "df_train_copy2[\"review_es\"] = df_train_copy2[\"review_es\"].apply(preprocess, args=(True, True, True, True))\n",
        "df_test[\"review_es\"] = df_test[\"review_es\"].apply(preprocess, args=(True, True, True, True))"
      ],
      "metadata": {
        "id": "iHRGBTdQC3Iw"
      },
      "execution_count": null,
      "outputs": []
    },
    {
      "cell_type": "code",
      "source": [
        "df_train_copy2.to_csv(\"lemmatized_train.csv\")\n",
        "df_test.to_csv(\"lemmatized_test.csv\")"
      ],
      "metadata": {
        "id": "6Jom-VZqi0EZ"
      },
      "execution_count": null,
      "outputs": []
    },
    {
      "cell_type": "markdown",
      "source": [
        "## Vectorización\n",
        "\n"
      ],
      "metadata": {
        "id": "9APawQtJtcYP"
      }
    },
    {
      "cell_type": "markdown",
      "source": [
        "Uso un vectorizador TF-IDF para poder crear las matrices que serán usadas para los modelos. Cabe destacar que los parámetros max_df y min_df tuvieron poco impacto sobre el resultado de los modelos entrenados posteriormente (porque el vectorizador TF-IDF ya maneja bien las palabras más y menos frecuentes), pero si ayudaron a reducir notablemente el tiempo de entrenamiento."
      ],
      "metadata": {
        "id": "SrdSvZSDSKQX"
      }
    },
    {
      "cell_type": "code",
      "source": [
        "stop_words = stopwords.words(\"spanish\")\n",
        "stop_words_tokenized = []\n",
        "for w in stop_words:\n",
        "    stop_words_tokenized = stop_words_tokenized + nltk.word_tokenize(preprocess(w))"
      ],
      "metadata": {
        "id": "-FL0xzH7ti0p"
      },
      "execution_count": 9,
      "outputs": []
    },
    {
      "cell_type": "code",
      "source": [
        "vectorizer = TfidfVectorizer(\n",
        "    preprocessor=preprocess,\n",
        "    tokenizer=nltk.word_tokenize,\n",
        "    token_pattern=None,\n",
        "    max_df=0.7, # We could treat this one as a hyperparameter. It defines a threshold with which to ignore frequent words (corpus stop-words).\n",
        "    min_df=0.01, # We could treat this one as a hyperparameter. It defines a threshold with which to ignore infrequent words.\n",
        "    stop_words=stop_words_tokenized\n",
        ")"
      ],
      "metadata": {
        "id": "kksxAOJBtfuW"
      },
      "execution_count": 10,
      "outputs": []
    },
    {
      "cell_type": "code",
      "source": [
        "X_train_vectorized = vectorizer.fit_transform(X_train)\n",
        "X_test_vectorized = vectorizer.transform(X_test)\n",
        "X_train_vectorized"
      ],
      "metadata": {
        "colab": {
          "base_uri": "https://localhost:8080/"
        },
        "id": "ct56WF_Wu-FK",
        "outputId": "377ccc6f-a391-4aab-ae9a-1ace306db493"
      },
      "execution_count": 11,
      "outputs": [
        {
          "output_type": "execute_result",
          "data": {
            "text/plain": [
              "<40000x1573 sparse matrix of type '<class 'numpy.float64'>'\n",
              "\twith 2443284 stored elements in Compressed Sparse Row format>"
            ]
          },
          "metadata": {},
          "execution_count": 11
        }
      ]
    },
    {
      "cell_type": "markdown",
      "source": [
        "## Random Forest"
      ],
      "metadata": {
        "id": "vUlw-qS0SweU"
      }
    },
    {
      "cell_type": "code",
      "source": [
        "base_classifier = RandomForestClassifier(random_state=SEED)\n",
        "\n",
        "max_depth = list(range(1,6))\n",
        "max_depth.append(None)\n",
        "\n",
        "folds=5\n",
        "params_search = {\n",
        "    'n_estimators': list(range(20, 101)),\n",
        "    'criterion': ['gini','entropy','log_loss'],\n",
        "    'max_depth': max_depth,\n",
        "    'min_samples_split': [0.2, 0.4, 0.6, 0.8],\n",
        "    'max_features': ['sqrt', 'log2', 10, 15]\n",
        "}\n",
        "\n",
        "kfoldcv = StratifiedKFold(n_splits=folds)\n",
        "\n",
        "\n",
        "scorer_fn = metrics.make_scorer(metrics.f1_score, labels=['negativo', 'positivo'], pos_label='positivo')\n",
        "randomcv = RandomizedSearchCV(\n",
        "    estimator=base_classifier,\n",
        "    param_distributions = params_search,\n",
        "    scoring=scorer_fn,\n",
        "    cv=kfoldcv,\n",
        "    n_iter=300\n",
        ")\n",
        "\n",
        "randomcv.fit(X_train_vectorized, y_train)\n",
        "\n",
        "best_classifier = randomcv.best_estimator_\n",
        "\n",
        "joblib.dump(best_classifier, 'rf300iter.pkl', compress=9)"
      ],
      "metadata": {
        "id": "RAmpxiZ1vW2R",
        "colab": {
          "base_uri": "https://localhost:8080/"
        },
        "outputId": "188230dd-5fa1-4316-8b45-e5d1f6782235"
      },
      "execution_count": null,
      "outputs": [
        {
          "output_type": "execute_result",
          "data": {
            "text/plain": [
              "['rf300iter.pkl']"
            ]
          },
          "metadata": {},
          "execution_count": 18
        }
      ]
    },
    {
      "cell_type": "code",
      "source": [
        "best_classifier.fit(X_train_vectorized, y_train)\n",
        "y_pred = best_classifier.predict(X_test_vectorized)"
      ],
      "metadata": {
        "id": "oaiqM49e7vYp"
      },
      "execution_count": null,
      "outputs": []
    },
    {
      "cell_type": "code",
      "source": [
        "sns.heatmap(confusion_matrix(y_test, y_pred), cmap='Blues', annot=True, fmt='g')\n",
        "plt.xlabel('Predicted')\n",
        "plt.ylabel('True')\n",
        "\n",
        "print(metrics.classification_report(y_test, y_pred, zero_division=0))\n",
        "print('F1-Score: {}'.format(metrics.f1_score(y_test, y_pred, average='macro')))\n",
        "print('Accuracy: {}'.format(metrics.accuracy_score(y_test, y_pred)))\n",
        "print('Precision: {}'.format(metrics.precision_score(y_test, y_pred, average='macro', zero_division=0)))\n",
        "print('Recall: {}'.format(metrics.recall_score(y_test, y_pred, average='macro', zero_division=0)))"
      ],
      "metadata": {
        "colab": {
          "base_uri": "https://localhost:8080/",
          "height": 675
        },
        "id": "GJ17rN60BpzH",
        "outputId": "b0d71867-4f23-4fa0-d502-d606c126d113"
      },
      "execution_count": null,
      "outputs": [
        {
          "output_type": "stream",
          "name": "stdout",
          "text": [
            "              precision    recall  f1-score   support\n",
            "\n",
            "    negativo       0.84      0.82      0.83      5000\n",
            "    positivo       0.82      0.84      0.83      5000\n",
            "\n",
            "    accuracy                           0.83     10000\n",
            "   macro avg       0.83      0.83      0.83     10000\n",
            "weighted avg       0.83      0.83      0.83     10000\n",
            "\n",
            "F1-Score: 0.8293815459080054\n",
            "Accuracy: 0.8294\n",
            "Precision: 0.8295425732989121\n",
            "Recall: 0.8293999999999999\n"
          ]
        },
        {
          "output_type": "display_data",
          "data": {
            "text/plain": [
              "<Figure size 640x480 with 2 Axes>"
            ],
            "image/png": "[encoded data removed]"
          },
          "metadata": {}
        }
      ]
    },
    {
      "cell_type": "markdown",
      "source": [
        "# Resultados con set de test para subir a Kaggle"
      ],
      "metadata": {
        "id": "v4xtf2OtBD58"
      }
    },
    {
      "cell_type": "code",
      "source": [
        "df_test[\"reviews\"] = df_test[\"review_es\"].apply(preprocess)\n",
        "X_test_test = vectorizer.transform(df_test.reviews)\n",
        "y_pred_test_rf_base = best_classifier.predict(X_test_test)\n",
        "df_export = df_test.copy()\n",
        "df_export[\"sentimiento\"] = y_pred_test_rf_base\n",
        "df_export.drop([\"reviews\"], axis=\"columns\", inplace=True)\n",
        "df_export.drop([\"review_es\"], axis=\"columns\", inplace=True)\n",
        "df_export\n",
        "\n",
        "df_export.to_csv(\"random_forest_with_random_search_stop_words_tfidf_vectorizer_lemmatized.csv\")"
      ],
      "metadata": {
        "id": "s-S1nIm8AdNj"
      },
      "execution_count": null,
      "outputs": []
    },
    {
      "cell_type": "markdown",
      "source": [
        "# Ensamble"
      ],
      "metadata": {
        "id": "IRl6lge5de79"
      }
    },
    {
      "cell_type": "markdown",
      "source": [
        "### Gradient Boosting"
      ],
      "metadata": {
        "id": "IEimPXxQTD9E"
      }
    },
    {
      "cell_type": "code",
      "source": [
        "base_classifier_gradient = GradientBoostingClassifier(random_state=SEED)\n",
        "\n",
        "max_depth = list(range(1,6))\n",
        "\n",
        "folds=5\n",
        "params_search = {\n",
        "    'n_estimators': list(range(100, 200)),\n",
        "    'loss': ['log_loss', 'exponential'],\n",
        "    'criterion': ['friedman_mse', 'squared_error'],\n",
        "    'learning_rate': [0.1, 0.5, 1.5],\n",
        "    'max_depth': max_depth,\n",
        "    'max_features': ['sqrt', 'log2', 10, 15]\n",
        "}\n",
        "\n",
        "kfoldcv = StratifiedKFold(n_splits=folds)\n",
        "\n",
        "\n",
        "scorer_fn = metrics.make_scorer(metrics.f1_score, labels=['negativo', 'positivo'], pos_label='positivo')\n",
        "randomcv_gradient = RandomizedSearchCV(\n",
        "    estimator=base_classifier_gradient,\n",
        "    param_distributions = params_search,\n",
        "    scoring=scorer_fn,\n",
        "    cv=kfoldcv,\n",
        "    n_iter=300\n",
        ")\n",
        "\n",
        "randomcv_gradient.fit(X_train_vectorized, y_train)\n",
        "\n",
        "best_classifier_gradient = randomcv_gradient.best_estimator_"
      ],
      "metadata": {
        "id": "rGklDtKEdsqk"
      },
      "execution_count": null,
      "outputs": []
    },
    {
      "cell_type": "code",
      "source": [
        "joblib.dump(best_classifier_gradient, 'gb300iter.pkl', compress=9)"
      ],
      "metadata": {
        "id": "CUxXsf2DrWUf",
        "colab": {
          "base_uri": "https://localhost:8080/"
        },
        "outputId": "09d7bc31-9124-4571-d5c0-feeb7e86c75c"
      },
      "execution_count": null,
      "outputs": [
        {
          "output_type": "execute_result",
          "data": {
            "text/plain": [
              "['gb300iter.pkl']"
            ]
          },
          "metadata": {},
          "execution_count": 16
        }
      ]
    },
    {
      "cell_type": "code",
      "source": [
        "y_pred = best_classifier_gradient.predict(X_test_vectorized)\n",
        "\n",
        "sns.heatmap(confusion_matrix(y_test, y_pred), cmap='Blues', annot=True, fmt='g')\n",
        "plt.xlabel('Predicted')\n",
        "plt.ylabel('True')\n",
        "\n",
        "print(metrics.classification_report(y_test, y_pred, zero_division=0))\n",
        "print('F1-Score: {}'.format(metrics.f1_score(y_test, y_pred, average='macro')))\n",
        "print('Accuracy: {}'.format(metrics.accuracy_score(y_test, y_pred)))\n",
        "print('Precision: {}'.format(metrics.precision_score(y_test, y_pred, average='macro', zero_division=0)))\n",
        "print('Recall: {}'.format(metrics.recall_score(y_test, y_pred, average='macro', zero_division=0)))"
      ],
      "metadata": {
        "colab": {
          "base_uri": "https://localhost:8080/",
          "height": 675
        },
        "id": "JwIwckrme8hG",
        "outputId": "8209774d-b581-44bb-d4bf-ef762da69d29"
      },
      "execution_count": null,
      "outputs": [
        {
          "output_type": "stream",
          "name": "stdout",
          "text": [
            "              precision    recall  f1-score   support\n",
            "\n",
            "    negativo       0.85      0.84      0.85      5000\n",
            "    positivo       0.84      0.86      0.85      5000\n",
            "\n",
            "    accuracy                           0.85     10000\n",
            "   macro avg       0.85      0.85      0.85     10000\n",
            "weighted avg       0.85      0.85      0.85     10000\n",
            "\n",
            "F1-Score: 0.8467852852587963\n",
            "Accuracy: 0.8468\n",
            "Precision: 0.8469332778880334\n",
            "Recall: 0.8468\n"
          ]
        },
        {
          "output_type": "display_data",
          "data": {
            "text/plain": [
              "<Figure size 640x480 with 2 Axes>"
            ],
            "image/png": "[encoded data removed]"
          },
          "metadata": {}
        }
      ]
    },
    {
      "cell_type": "markdown",
      "source": [
        "### Ada Boost\n",
        "\n",
        "Se intentó entrenar un Ada Boost. Pero dado los altos tiempos de entrenamiento, no se pudo probar con una cantidad de iteraciones razonable, dando un modelo con mala performance."
      ],
      "metadata": {
        "id": "WQBpFgS1TVoG"
      }
    },
    {
      "cell_type": "code",
      "source": [
        "base_classifier_ad = AdaBoostClassifier(random_state=SEED)\n",
        "\n",
        "\n",
        "folds=5\n",
        "params_search = {\n",
        "    'n_estimators': list(range(40, 100)),\n",
        "    'learning_rate': [0.1, 0.5, 1.0, 1.5],\n",
        "}\n",
        "\n",
        "kfoldcv = StratifiedKFold(n_splits=folds)\n",
        "\n",
        "\n",
        "scorer_fn = metrics.make_scorer(metrics.f1_score, labels=['negativo', 'positivo'], pos_label='positivo')\n",
        "randomcv = RandomizedSearchCV(\n",
        "    estimator=base_classifier_ad,\n",
        "    param_distributions = params_search,\n",
        "    scoring=scorer_fn,\n",
        "    cv=kfoldcv,\n",
        "    n_iter=10\n",
        ")\n",
        "\n",
        "randomcv.fit(X_train_vectorized, y_train)\n",
        "\n",
        "best_classifier_ab = randomcv.best_estimator_"
      ],
      "metadata": {
        "id": "i56GjT5tgwJa"
      },
      "execution_count": null,
      "outputs": []
    },
    {
      "cell_type": "code",
      "source": [
        "joblib.dump(best_classifier_ab, 'ab10iter.pkl', compress=9)"
      ],
      "metadata": {
        "colab": {
          "base_uri": "https://localhost:8080/"
        },
        "id": "3AKilZ7sdT6f",
        "outputId": "24737773-4e89-41ec-8eb9-f8b01a54a4ec"
      },
      "execution_count": null,
      "outputs": [
        {
          "output_type": "execute_result",
          "data": {
            "text/plain": [
              "['ab10iter.pkl']"
            ]
          },
          "metadata": {},
          "execution_count": 46
        }
      ]
    },
    {
      "cell_type": "code",
      "source": [
        "best_classifier_ab"
      ],
      "metadata": {
        "colab": {
          "base_uri": "https://localhost:8080/",
          "height": 75
        },
        "id": "Zn8PCNTKdAfe",
        "outputId": "0d66841f-60d0-4ef5-d919-7b6daf2746cc"
      },
      "execution_count": null,
      "outputs": [
        {
          "output_type": "execute_result",
          "data": {
            "text/plain": [
              "AdaBoostClassifier(learning_rate=0.5, n_estimators=97, random_state=13)"
            ],
            "text/html": [
              "<style>#sk-container-id-4 {color: black;background-color: white;}#sk-container-id-4 pre{padding: 0;}#sk-container-id-4 div.sk-toggleable {background-color: white;}#sk-container-id-4 label.sk-toggleable__label {cursor: pointer;display: block;width: 100%;margin-bottom: 0;padding: 0.3em;box-sizing: border-box;text-align: center;}#sk-container-id-4 label.sk-toggleable__label-arrow:before {content: \"▸\";float: left;margin-right: 0.25em;color: #696969;}#sk-container-id-4 label.sk-toggleable__label-arrow:hover:before {color: black;}#sk-container-id-4 div.sk-estimator:hover label.sk-toggleable__label-arrow:before {color: black;}#sk-container-id-4 div.sk-toggleable__content {max-height: 0;max-width: 0;overflow: hidden;text-align: left;background-color: #f0f8ff;}#sk-container-id-4 div.sk-toggleable__content pre {margin: 0.2em;color: black;border-radius: 0.25em;background-color: #f0f8ff;}#sk-container-id-4 input.sk-toggleable__control:checked~div.sk-toggleable__content {max-height: 200px;max-width: 100%;overflow: auto;}#sk-container-id-4 input.sk-toggleable__control:checked~label.sk-toggleable__label-arrow:before {content: \"▾\";}#sk-container-id-4 div.sk-estimator input.sk-toggleable__control:checked~label.sk-toggleable__label {background-color: #d4ebff;}#sk-container-id-4 div.sk-label input.sk-toggleable__control:checked~label.sk-toggleable__label {background-color: #d4ebff;}#sk-container-id-4 input.sk-hidden--visually {border: 0;clip: rect(1px 1px 1px 1px);clip: rect(1px, 1px, 1px, 1px);height: 1px;margin: -1px;overflow: hidden;padding: 0;position: absolute;width: 1px;}#sk-container-id-4 div.sk-estimator {font-family: monospace;background-color: #f0f8ff;border: 1px dotted black;border-radius: 0.25em;box-sizing: border-box;margin-bottom: 0.5em;}#sk-container-id-4 div.sk-estimator:hover {background-color: #d4ebff;}#sk-container-id-4 div.sk-parallel-item::after {content: \"\";width: 100%;border-bottom: 1px solid gray;flex-grow: 1;}#sk-container-id-4 div.sk-label:hover label.sk-toggleable__label {background-color: #d4ebff;}#sk-container-id-4 div.sk-serial::before {content: \"\";position: absolute;border-left: 1px solid gray;box-sizing: border-box;top: 0;bottom: 0;left: 50%;z-index: 0;}#sk-container-id-4 div.sk-serial {display: flex;flex-direction: column;align-items: center;background-color: white;padding-right: 0.2em;padding-left: 0.2em;position: relative;}#sk-container-id-4 div.sk-item {position: relative;z-index: 1;}#sk-container-id-4 div.sk-parallel {display: flex;align-items: stretch;justify-content: center;background-color: white;position: relative;}#sk-container-id-4 div.sk-item::before, #sk-container-id-4 div.sk-parallel-item::before {content: \"\";position: absolute;border-left: 1px solid gray;box-sizing: border-box;top: 0;bottom: 0;left: 50%;z-index: -1;}#sk-container-id-4 div.sk-parallel-item {display: flex;flex-direction: column;z-index: 1;position: relative;background-color: white;}#sk-container-id-4 div.sk-parallel-item:first-child::after {align-self: flex-end;width: 50%;}#sk-container-id-4 div.sk-parallel-item:last-child::after {align-self: flex-start;width: 50%;}#sk-container-id-4 div.sk-parallel-item:only-child::after {width: 0;}#sk-container-id-4 div.sk-dashed-wrapped {border: 1px dashed gray;margin: 0 0.4em 0.5em 0.4em;box-sizing: border-box;padding-bottom: 0.4em;background-color: white;}#sk-container-id-4 div.sk-label label {font-family: monospace;font-weight: bold;display: inline-block;line-height: 1.2em;}#sk-container-id-4 div.sk-label-container {text-align: center;}#sk-container-id-4 div.sk-container {/* jupyter's `normalize.less` sets `[hidden] { display: none; }` but bootstrap.min.css set `[hidden] { display: none !important; }` so we also need the `!important` here to be able to override the default hidden behavior on the sphinx rendered scikit-learn.org. See: https://github.com/scikit-learn/scikit-learn/issues/21755 */display: inline-block !important;position: relative;}#sk-container-id-4 div.sk-text-repr-fallback {display: none;}</style><div id=\"sk-container-id-4\" class=\"sk-top-container\"><div class=\"sk-text-repr-fallback\"><pre>AdaBoostClassifier(learning_rate=0.5, n_estimators=97, random_state=13)</pre><b>In a Jupyter environment, please rerun this cell to show the HTML representation or trust the notebook. <br />On GitHub, the HTML representation is unable to render, please try loading this page with nbviewer.org.</b></div><div class=\"sk-container\" hidden><div class=\"sk-item\"><div class=\"sk-estimator sk-toggleable\"><input class=\"sk-toggleable__control sk-hidden--visually\" id=\"sk-estimator-id-13\" type=\"checkbox\" checked><label for=\"sk-estimator-id-13\" class=\"sk-toggleable__label sk-toggleable__label-arrow\">AdaBoostClassifier</label><div class=\"sk-toggleable__content\"><pre>AdaBoostClassifier(learning_rate=0.5, n_estimators=97, random_state=13)</pre></div></div></div></div></div>"
            ]
          },
          "metadata": {},
          "execution_count": 44
        }
      ]
    },
    {
      "cell_type": "code",
      "source": [
        "best_classifier_ab = AdaBoostClassifier(random_state=SEED, n_estimators=300, learning_rate=0.05)\n",
        "best_classifier_ab.fit(X_train_vectorized, y_train)"
      ],
      "metadata": {
        "colab": {
          "base_uri": "https://localhost:8080/",
          "height": 75
        },
        "id": "T4YHU1OBJ9X8",
        "outputId": "4074aeeb-4c54-42a7-bb71-8b21508f204c"
      },
      "execution_count": null,
      "outputs": [
        {
          "output_type": "execute_result",
          "data": {
            "text/plain": [
              "AdaBoostClassifier(learning_rate=0.05, n_estimators=300, random_state=13)"
            ],
            "text/html": [
              "<style>#sk-container-id-3 {color: black;background-color: white;}#sk-container-id-3 pre{padding: 0;}#sk-container-id-3 div.sk-toggleable {background-color: white;}#sk-container-id-3 label.sk-toggleable__label {cursor: pointer;display: block;width: 100%;margin-bottom: 0;padding: 0.3em;box-sizing: border-box;text-align: center;}#sk-container-id-3 label.sk-toggleable__label-arrow:before {content: \"▸\";float: left;margin-right: 0.25em;color: #696969;}#sk-container-id-3 label.sk-toggleable__label-arrow:hover:before {color: black;}#sk-container-id-3 div.sk-estimator:hover label.sk-toggleable__label-arrow:before {color: black;}#sk-container-id-3 div.sk-toggleable__content {max-height: 0;max-width: 0;overflow: hidden;text-align: left;background-color: #f0f8ff;}#sk-container-id-3 div.sk-toggleable__content pre {margin: 0.2em;color: black;border-radius: 0.25em;background-color: #f0f8ff;}#sk-container-id-3 input.sk-toggleable__control:checked~div.sk-toggleable__content {max-height: 200px;max-width: 100%;overflow: auto;}#sk-container-id-3 input.sk-toggleable__control:checked~label.sk-toggleable__label-arrow:before {content: \"▾\";}#sk-container-id-3 div.sk-estimator input.sk-toggleable__control:checked~label.sk-toggleable__label {background-color: #d4ebff;}#sk-container-id-3 div.sk-label input.sk-toggleable__control:checked~label.sk-toggleable__label {background-color: #d4ebff;}#sk-container-id-3 input.sk-hidden--visually {border: 0;clip: rect(1px 1px 1px 1px);clip: rect(1px, 1px, 1px, 1px);height: 1px;margin: -1px;overflow: hidden;padding: 0;position: absolute;width: 1px;}#sk-container-id-3 div.sk-estimator {font-family: monospace;background-color: #f0f8ff;border: 1px dotted black;border-radius: 0.25em;box-sizing: border-box;margin-bottom: 0.5em;}#sk-container-id-3 div.sk-estimator:hover {background-color: #d4ebff;}#sk-container-id-3 div.sk-parallel-item::after {content: \"\";width: 100%;border-bottom: 1px solid gray;flex-grow: 1;}#sk-container-id-3 div.sk-label:hover label.sk-toggleable__label {background-color: #d4ebff;}#sk-container-id-3 div.sk-serial::before {content: \"\";position: absolute;border-left: 1px solid gray;box-sizing: border-box;top: 0;bottom: 0;left: 50%;z-index: 0;}#sk-container-id-3 div.sk-serial {display: flex;flex-direction: column;align-items: center;background-color: white;padding-right: 0.2em;padding-left: 0.2em;position: relative;}#sk-container-id-3 div.sk-item {position: relative;z-index: 1;}#sk-container-id-3 div.sk-parallel {display: flex;align-items: stretch;justify-content: center;background-color: white;position: relative;}#sk-container-id-3 div.sk-item::before, #sk-container-id-3 div.sk-parallel-item::before {content: \"\";position: absolute;border-left: 1px solid gray;box-sizing: border-box;top: 0;bottom: 0;left: 50%;z-index: -1;}#sk-container-id-3 div.sk-parallel-item {display: flex;flex-direction: column;z-index: 1;position: relative;background-color: white;}#sk-container-id-3 div.sk-parallel-item:first-child::after {align-self: flex-end;width: 50%;}#sk-container-id-3 div.sk-parallel-item:last-child::after {align-self: flex-start;width: 50%;}#sk-container-id-3 div.sk-parallel-item:only-child::after {width: 0;}#sk-container-id-3 div.sk-dashed-wrapped {border: 1px dashed gray;margin: 0 0.4em 0.5em 0.4em;box-sizing: border-box;padding-bottom: 0.4em;background-color: white;}#sk-container-id-3 div.sk-label label {font-family: monospace;font-weight: bold;display: inline-block;line-height: 1.2em;}#sk-container-id-3 div.sk-label-container {text-align: center;}#sk-container-id-3 div.sk-container {/* jupyter's `normalize.less` sets `[hidden] { display: none; }` but bootstrap.min.css set `[hidden] { display: none !important; }` so we also need the `!important` here to be able to override the default hidden behavior on the sphinx rendered scikit-learn.org. See: https://github.com/scikit-learn/scikit-learn/issues/21755 */display: inline-block !important;position: relative;}#sk-container-id-3 div.sk-text-repr-fallback {display: none;}</style><div id=\"sk-container-id-3\" class=\"sk-top-container\"><div class=\"sk-text-repr-fallback\"><pre>AdaBoostClassifier(learning_rate=0.05, n_estimators=300, random_state=13)</pre><b>In a Jupyter environment, please rerun this cell to show the HTML representation or trust the notebook. <br />On GitHub, the HTML representation is unable to render, please try loading this page with nbviewer.org.</b></div><div class=\"sk-container\" hidden><div class=\"sk-item\"><div class=\"sk-estimator sk-toggleable\"><input class=\"sk-toggleable__control sk-hidden--visually\" id=\"sk-estimator-id-3\" type=\"checkbox\" checked><label for=\"sk-estimator-id-3\" class=\"sk-toggleable__label sk-toggleable__label-arrow\">AdaBoostClassifier</label><div class=\"sk-toggleable__content\"><pre>AdaBoostClassifier(learning_rate=0.05, n_estimators=300, random_state=13)</pre></div></div></div></div></div>"
            ]
          },
          "metadata": {},
          "execution_count": 31
        }
      ]
    },
    {
      "cell_type": "code",
      "source": [
        "y_pred = best_classifier_ab.predict(X_test_vectorized)\n",
        "\n",
        "sns.heatmap(confusion_matrix(y_test, y_pred), cmap='Blues', annot=True, fmt='g')\n",
        "plt.xlabel('Predicted')\n",
        "plt.ylabel('True')\n",
        "\n",
        "print(metrics.classification_report(y_test, y_pred, zero_division=0))\n",
        "print('F1-Score: {}'.format(metrics.f1_score(y_test, y_pred, average='macro')))\n",
        "print('Accuracy: {}'.format(metrics.accuracy_score(y_test, y_pred)))\n",
        "print('Precision: {}'.format(metrics.precision_score(y_test, y_pred, average='macro', zero_division=0)))\n",
        "print('Recall: {}'.format(metrics.recall_score(y_test, y_pred, average='macro', zero_division=0)))"
      ],
      "metadata": {
        "colab": {
          "base_uri": "https://localhost:8080/",
          "height": 675
        },
        "id": "GITMKbdZNrvf",
        "outputId": "8044f092-1fc8-4f47-f4e6-142c8affc3c0"
      },
      "execution_count": null,
      "outputs": [
        {
          "output_type": "stream",
          "name": "stdout",
          "text": [
            "              precision    recall  f1-score   support\n",
            "\n",
            "    negativo       0.83      0.77      0.80      5000\n",
            "    positivo       0.79      0.84      0.81      5000\n",
            "\n",
            "    accuracy                           0.81     10000\n",
            "   macro avg       0.81      0.81      0.81     10000\n",
            "weighted avg       0.81      0.81      0.81     10000\n",
            "\n",
            "F1-Score: 0.8068806763152845\n",
            "Accuracy: 0.8071\n",
            "Precision: 0.8085014480380894\n",
            "Recall: 0.8070999999999999\n"
          ]
        },
        {
          "output_type": "display_data",
          "data": {
            "text/plain": [
              "<Figure size 640x480 with 2 Axes>"
            ],
            "image/png": "[encoded data removed]"
          },
          "metadata": {}
        }
      ]
    },
    {
      "cell_type": "markdown",
      "source": [
        "### K Neighbours\n",
        "\n",
        "Sucedió con este modelo lo mismo que con el de Ada Boost. No se pudo probar con una buena cantidad de iteraciones."
      ],
      "metadata": {
        "id": "JVy7Wqf8TzOC"
      }
    },
    {
      "cell_type": "code",
      "source": [
        "base_classifier_kn = KNeighborsClassifier(n_jobs=-1)\n",
        "\n",
        "\n",
        "folds=5\n",
        "params_search = {\n",
        "    'n_neighbors': [5],\n",
        "    'weights': ['uniform', 'distance'],\n",
        "    'p': [1, 2, 3]\n",
        "}\n",
        "\n",
        "kfoldcv = StratifiedKFold(n_splits=folds)\n",
        "\n",
        "scorer_fn = metrics.make_scorer(metrics.f1_score, labels=['negativo', 'positivo'], pos_label='positivo')\n",
        "randomcv = RandomizedSearchCV(\n",
        "    estimator=base_classifier_kn,\n",
        "    param_distributions = params_search,\n",
        "    scoring=scorer_fn,\n",
        "    cv=kfoldcv,\n",
        "    n_iter=1\n",
        ")\n",
        "\n",
        "randomcv.fit(X_train_vectorized, y_train)\n",
        "\n",
        "best_classifier_kn = randomcv.best_estimator_"
      ],
      "metadata": {
        "id": "MsihksCERFxD"
      },
      "execution_count": null,
      "outputs": []
    },
    {
      "cell_type": "markdown",
      "source": [
        "### Ensamble final"
      ],
      "metadata": {
        "id": "wdqv1pITUAZv"
      }
    },
    {
      "cell_type": "code",
      "source": [
        "ensemble = VotingClassifier(\n",
        "    estimators=[('rf', rf), ('gb', gb), ('kn', kn), ('ab', ab)],\n",
        "    voting='hard')"
      ],
      "metadata": {
        "id": "-pZ7Qon-gUoi"
      },
      "execution_count": 12,
      "outputs": []
    },
    {
      "cell_type": "code",
      "source": [
        "ensemble.fit(X_train_vectorized, y_train)"
      ],
      "metadata": {
        "id": "Ie-WDCsKNesB",
        "colab": {
          "base_uri": "https://localhost:8080/",
          "height": 110
        },
        "outputId": "658d01f4-9b57-4553-f162-cc1bfb856d34"
      },
      "execution_count": 13,
      "outputs": [
        {
          "output_type": "execute_result",
          "data": {
            "text/plain": [
              "VotingClassifier(estimators=[('rf',\n",
              "                              RandomForestClassifier(criterion='entropy',\n",
              "                                                     max_features='log2',\n",
              "                                                     min_samples_split=0.2,\n",
              "                                                     n_estimators=79,\n",
              "                                                     random_state=13)),\n",
              "                             ('gb',\n",
              "                              GradientBoostingClassifier(learning_rate=0.5,\n",
              "                                                         loss='exponential',\n",
              "                                                         max_depth=5,\n",
              "                                                         max_features='sqrt',\n",
              "                                                         n_estimators=197,\n",
              "                                                         random_state=13)),\n",
              "                             ('kn',\n",
              "                              KNeighborsClassifier(metric='euclidean',\n",
              "                                                   n_jobs=-1)),\n",
              "                             ('ab',\n",
              "                              AdaBoostClassifier(learning_rate=0.5,\n",
              "                                                 n_estimators=97,\n",
              "                                                 random_state=13))])"
            ],
            "text/html": [
              "<style>#sk-container-id-1 {color: black;background-color: white;}#sk-container-id-1 pre{padding: 0;}#sk-container-id-1 div.sk-toggleable {background-color: white;}#sk-container-id-1 label.sk-toggleable__label {cursor: pointer;display: block;width: 100%;margin-bottom: 0;padding: 0.3em;box-sizing: border-box;text-align: center;}#sk-container-id-1 label.sk-toggleable__label-arrow:before {content: \"▸\";float: left;margin-right: 0.25em;color: #696969;}#sk-container-id-1 label.sk-toggleable__label-arrow:hover:before {color: black;}#sk-container-id-1 div.sk-estimator:hover label.sk-toggleable__label-arrow:before {color: black;}#sk-container-id-1 div.sk-toggleable__content {max-height: 0;max-width: 0;overflow: hidden;text-align: left;background-color: #f0f8ff;}#sk-container-id-1 div.sk-toggleable__content pre {margin: 0.2em;color: black;border-radius: 0.25em;background-color: #f0f8ff;}#sk-container-id-1 input.sk-toggleable__control:checked~div.sk-toggleable__content {max-height: 200px;max-width: 100%;overflow: auto;}#sk-container-id-1 input.sk-toggleable__control:checked~label.sk-toggleable__label-arrow:before {content: \"▾\";}#sk-container-id-1 div.sk-estimator input.sk-toggleable__control:checked~label.sk-toggleable__label {background-color: #d4ebff;}#sk-container-id-1 div.sk-label input.sk-toggleable__control:checked~label.sk-toggleable__label {background-color: #d4ebff;}#sk-container-id-1 input.sk-hidden--visually {border: 0;clip: rect(1px 1px 1px 1px);clip: rect(1px, 1px, 1px, 1px);height: 1px;margin: -1px;overflow: hidden;padding: 0;position: absolute;width: 1px;}#sk-container-id-1 div.sk-estimator {font-family: monospace;background-color: #f0f8ff;border: 1px dotted black;border-radius: 0.25em;box-sizing: border-box;margin-bottom: 0.5em;}#sk-container-id-1 div.sk-estimator:hover {background-color: #d4ebff;}#sk-container-id-1 div.sk-parallel-item::after {content: \"\";width: 100%;border-bottom: 1px solid gray;flex-grow: 1;}#sk-container-id-1 div.sk-label:hover label.sk-toggleable__label {background-color: #d4ebff;}#sk-container-id-1 div.sk-serial::before {content: \"\";position: absolute;border-left: 1px solid gray;box-sizing: border-box;top: 0;bottom: 0;left: 50%;z-index: 0;}#sk-container-id-1 div.sk-serial {display: flex;flex-direction: column;align-items: center;background-color: white;padding-right: 0.2em;padding-left: 0.2em;position: relative;}#sk-container-id-1 div.sk-item {position: relative;z-index: 1;}#sk-container-id-1 div.sk-parallel {display: flex;align-items: stretch;justify-content: center;background-color: white;position: relative;}#sk-container-id-1 div.sk-item::before, #sk-container-id-1 div.sk-parallel-item::before {content: \"\";position: absolute;border-left: 1px solid gray;box-sizing: border-box;top: 0;bottom: 0;left: 50%;z-index: -1;}#sk-container-id-1 div.sk-parallel-item {display: flex;flex-direction: column;z-index: 1;position: relative;background-color: white;}#sk-container-id-1 div.sk-parallel-item:first-child::after {align-self: flex-end;width: 50%;}#sk-container-id-1 div.sk-parallel-item:last-child::after {align-self: flex-start;width: 50%;}#sk-container-id-1 div.sk-parallel-item:only-child::after {width: 0;}#sk-container-id-1 div.sk-dashed-wrapped {border: 1px dashed gray;margin: 0 0.4em 0.5em 0.4em;box-sizing: border-box;padding-bottom: 0.4em;background-color: white;}#sk-container-id-1 div.sk-label label {font-family: monospace;font-weight: bold;display: inline-block;line-height: 1.2em;}#sk-container-id-1 div.sk-label-container {text-align: center;}#sk-container-id-1 div.sk-container {/* jupyter's `normalize.less` sets `[hidden] { display: none; }` but bootstrap.min.css set `[hidden] { display: none !important; }` so we also need the `!important` here to be able to override the default hidden behavior on the sphinx rendered scikit-learn.org. See: https://github.com/scikit-learn/scikit-learn/issues/21755 */display: inline-block !important;position: relative;}#sk-container-id-1 div.sk-text-repr-fallback {display: none;}</style><div id=\"sk-container-id-1\" class=\"sk-top-container\"><div class=\"sk-text-repr-fallback\"><pre>VotingClassifier(estimators=[(&#x27;rf&#x27;,\n",
              "                              RandomForestClassifier(criterion=&#x27;entropy&#x27;,\n",
              "                                                     max_features=&#x27;log2&#x27;,\n",
              "                                                     min_samples_split=0.2,\n",
              "                                                     n_estimators=79,\n",
              "                                                     random_state=13)),\n",
              "                             (&#x27;gb&#x27;,\n",
              "                              GradientBoostingClassifier(learning_rate=0.5,\n",
              "                                                         loss=&#x27;exponential&#x27;,\n",
              "                                                         max_depth=5,\n",
              "                                                         max_features=&#x27;sqrt&#x27;,\n",
              "                                                         n_estimators=197,\n",
              "                                                         random_state=13)),\n",
              "                             (&#x27;kn&#x27;,\n",
              "                              KNeighborsClassifier(metric=&#x27;euclidean&#x27;,\n",
              "                                                   n_jobs=-1)),\n",
              "                             (&#x27;ab&#x27;,\n",
              "                              AdaBoostClassifier(learning_rate=0.5,\n",
              "                                                 n_estimators=97,\n",
              "                                                 random_state=13))])</pre><b>In a Jupyter environment, please rerun this cell to show the HTML representation or trust the notebook. <br />On GitHub, the HTML representation is unable to render, please try loading this page with nbviewer.org.</b></div><div class=\"sk-container\" hidden><div class=\"sk-item sk-dashed-wrapped\"><div class=\"sk-label-container\"><div class=\"sk-label sk-toggleable\"><input class=\"sk-toggleable__control sk-hidden--visually\" id=\"sk-estimator-id-1\" type=\"checkbox\" ><label for=\"sk-estimator-id-1\" class=\"sk-toggleable__label sk-toggleable__label-arrow\">VotingClassifier</label><div class=\"sk-toggleable__content\"><pre>VotingClassifier(estimators=[(&#x27;rf&#x27;,\n",
              "                              RandomForestClassifier(criterion=&#x27;entropy&#x27;,\n",
              "                                                     max_features=&#x27;log2&#x27;,\n",
              "                                                     min_samples_split=0.2,\n",
              "                                                     n_estimators=79,\n",
              "                                                     random_state=13)),\n",
              "                             (&#x27;gb&#x27;,\n",
              "                              GradientBoostingClassifier(learning_rate=0.5,\n",
              "                                                         loss=&#x27;exponential&#x27;,\n",
              "                                                         max_depth=5,\n",
              "                                                         max_features=&#x27;sqrt&#x27;,\n",
              "                                                         n_estimators=197,\n",
              "                                                         random_state=13)),\n",
              "                             (&#x27;kn&#x27;,\n",
              "                              KNeighborsClassifier(metric=&#x27;euclidean&#x27;,\n",
              "                                                   n_jobs=-1)),\n",
              "                             (&#x27;ab&#x27;,\n",
              "                              AdaBoostClassifier(learning_rate=0.5,\n",
              "                                                 n_estimators=97,\n",
              "                                                 random_state=13))])</pre></div></div></div><div class=\"sk-parallel\"><div class=\"sk-parallel-item\"><div class=\"sk-item\"><div class=\"sk-label-container\"><div class=\"sk-label sk-toggleable\"><label>rf</label></div></div><div class=\"sk-serial\"><div class=\"sk-item\"><div class=\"sk-estimator sk-toggleable\"><input class=\"sk-toggleable__control sk-hidden--visually\" id=\"sk-estimator-id-2\" type=\"checkbox\" ><label for=\"sk-estimator-id-2\" class=\"sk-toggleable__label sk-toggleable__label-arrow\">RandomForestClassifier</label><div class=\"sk-toggleable__content\"><pre>RandomForestClassifier(criterion=&#x27;entropy&#x27;, max_features=&#x27;log2&#x27;,\n",
              "                       min_samples_split=0.2, n_estimators=79, random_state=13)</pre></div></div></div></div></div></div><div class=\"sk-parallel-item\"><div class=\"sk-item\"><div class=\"sk-label-container\"><div class=\"sk-label sk-toggleable\"><label>gb</label></div></div><div class=\"sk-serial\"><div class=\"sk-item\"><div class=\"sk-estimator sk-toggleable\"><input class=\"sk-toggleable__control sk-hidden--visually\" id=\"sk-estimator-id-3\" type=\"checkbox\" ><label for=\"sk-estimator-id-3\" class=\"sk-toggleable__label sk-toggleable__label-arrow\">GradientBoostingClassifier</label><div class=\"sk-toggleable__content\"><pre>GradientBoostingClassifier(learning_rate=0.5, loss=&#x27;exponential&#x27;, max_depth=5,\n",
              "                           max_features=&#x27;sqrt&#x27;, n_estimators=197,\n",
              "                           random_state=13)</pre></div></div></div></div></div></div><div class=\"sk-parallel-item\"><div class=\"sk-item\"><div class=\"sk-label-container\"><div class=\"sk-label sk-toggleable\"><label>kn</label></div></div><div class=\"sk-serial\"><div class=\"sk-item\"><div class=\"sk-estimator sk-toggleable\"><input class=\"sk-toggleable__control sk-hidden--visually\" id=\"sk-estimator-id-4\" type=\"checkbox\" ><label for=\"sk-estimator-id-4\" class=\"sk-toggleable__label sk-toggleable__label-arrow\">KNeighborsClassifier</label><div class=\"sk-toggleable__content\"><pre>KNeighborsClassifier(metric=&#x27;euclidean&#x27;, n_jobs=-1)</pre></div></div></div></div></div></div><div class=\"sk-parallel-item\"><div class=\"sk-item\"><div class=\"sk-label-container\"><div class=\"sk-label sk-toggleable\"><label>ab</label></div></div><div class=\"sk-serial\"><div class=\"sk-item\"><div class=\"sk-estimator sk-toggleable\"><input class=\"sk-toggleable__control sk-hidden--visually\" id=\"sk-estimator-id-5\" type=\"checkbox\" ><label for=\"sk-estimator-id-5\" class=\"sk-toggleable__label sk-toggleable__label-arrow\">AdaBoostClassifier</label><div class=\"sk-toggleable__content\"><pre>AdaBoostClassifier(learning_rate=0.5, n_estimators=97, random_state=13)</pre></div></div></div></div></div></div></div></div></div></div>"
            ]
          },
          "metadata": {},
          "execution_count": 13
        }
      ]
    },
    {
      "cell_type": "code",
      "source": [
        "y_pred = ensemble.predict(X_test_vectorized)\n",
        "\n",
        "sns.heatmap(confusion_matrix(y_test, y_pred), cmap='Blues', annot=True, fmt='g')\n",
        "plt.xlabel('Predicted')\n",
        "plt.ylabel('True')\n",
        "\n",
        "print(metrics.classification_report(y_test, y_pred, zero_division=0))\n",
        "print('F1-Score: {}'.format(metrics.f1_score(y_test, y_pred, average='macro')))\n",
        "print('Accuracy: {}'.format(metrics.accuracy_score(y_test, y_pred)))\n",
        "print('Precision: {}'.format(metrics.precision_score(y_test, y_pred, average='macro', zero_division=0)))\n",
        "print('Recall: {}'.format(metrics.recall_score(y_test, y_pred, average='macro', zero_division=0)))"
      ],
      "metadata": {
        "id": "jCbI23cp9ZgL",
        "colab": {
          "base_uri": "https://localhost:8080/",
          "height": 675
        },
        "outputId": "5cff42c9-f268-4817-aa9d-411f9881f58f"
      },
      "execution_count": 14,
      "outputs": [
        {
          "output_type": "stream",
          "name": "stdout",
          "text": [
            "              precision    recall  f1-score   support\n",
            "\n",
            "    negativo       0.83      0.85      0.84      5000\n",
            "    positivo       0.84      0.82      0.83      5000\n",
            "\n",
            "    accuracy                           0.83     10000\n",
            "   macro avg       0.83      0.83      0.83     10000\n",
            "weighted avg       0.83      0.83      0.83     10000\n",
            "\n",
            "F1-Score: 0.834576966496815\n",
            "Accuracy: 0.8346\n",
            "Precision: 0.8347864626682477\n",
            "Recall: 0.8346\n"
          ]
        },
        {
          "output_type": "display_data",
          "data": {
            "text/plain": [
              "<Figure size 640x480 with 2 Axes>"
            ],
            "image/png": "[encoded data removed]"
          },
          "metadata": {}
        }
      ]
    },
    {
      "cell_type": "code",
      "source": [
        "joblib.dump(ensemble, 'gb_rf_kn_ab_ensemble.pkl', compress=9)"
      ],
      "metadata": {
        "colab": {
          "base_uri": "https://localhost:8080/"
        },
        "id": "pwvVJE-Bf0mt",
        "outputId": "487d6d26-1672-47a1-8d23-eb215652a9e3"
      },
      "execution_count": 15,
      "outputs": [
        {
          "output_type": "execute_result",
          "data": {
            "text/plain": [
              "['gb_rf_kn_ab_ensemble.pkl']"
            ]
          },
          "metadata": {},
          "execution_count": 15
        }
      ]
    },
    {
      "cell_type": "code",
      "source": [
        "df_test[\"reviews\"] = df_test[\"review_es\"].apply(preprocess)\n",
        "X_test_test = vectorizer.transform(df_test.reviews)\n",
        "y_pred_test = ensemble.predict(X_test_test)\n",
        "\n",
        "df_export = df_test.copy()\n",
        "df_export[\"sentimiento\"] = y_pred_test\n",
        "df_export.drop([\"reviews\"], axis=\"columns\", inplace=True)\n",
        "df_export.drop([\"review_es\"], axis=\"columns\", inplace=True)\n",
        "df_export\n",
        "\n",
        "df_export.to_csv(\"voting_random_forest_gradient_boosting_k_neighbors_ada_boost_stop_words_tfidf_vectorizer_lemmatized.csv\")"
      ],
      "metadata": {
        "id": "Ub3Bo-jIMoEV"
      },
      "execution_count": null,
      "outputs": []
    },
    {
      "cell_type": "markdown",
      "source": [
        "# Pruebas finales con los modelos entrenados sobre los datasets de train y de test"
      ],
      "metadata": {
        "id": "Qgkr06aGUk0c"
      }
    },
    {
      "cell_type": "code",
      "source": [
        "df_test[\"reviews\"] = df_test[\"review_es\"].apply(preprocess)\n",
        "rf.fit(X_train_vectorized, y_train)\n",
        "X_test_test = vectorizer.transform(df_test.reviews)\n",
        "y_pred_test = rf.predict(X_test_test)\n",
        "\n",
        "df_export = df_test.copy()\n",
        "df_export[\"sentimiento\"] = y_pred_test\n",
        "df_export.drop([\"reviews\"], axis=\"columns\", inplace=True)\n",
        "df_export.drop([\"review_es\"], axis=\"columns\", inplace=True)\n",
        "df_export\n",
        "\n",
        "df_export.to_csv(\"random_forest_300_iterations_random_search.csv\")"
      ],
      "metadata": {
        "id": "FBfhDUqZ894X"
      },
      "execution_count": null,
      "outputs": []
    },
    {
      "cell_type": "markdown",
      "source": [
        "---"
      ],
      "metadata": {
        "id": "2jYazNX5sTZT"
      }
    },
    {
      "cell_type": "code",
      "source": [
        "rf.fit(X_train_vectorized, y_train)\n",
        "y_pred_training = rf.predict(X_train_vectorized)\n",
        "\n",
        "sns.heatmap(confusion_matrix(y_train, y_pred_training), cmap='Blues', annot=True, fmt='g')\n",
        "plt.xlabel('Predicted')\n",
        "plt.ylabel('True')\n",
        "\n",
        "print(metrics.classification_report(y_train, y_pred_training, zero_division=0))\n",
        "print('F1-Score: {}'.format(metrics.f1_score(y_train, y_pred_training, average='macro')))\n",
        "print('Accuracy: {}'.format(metrics.accuracy_score(y_train, y_pred_training)))\n",
        "print('Precision: {}'.format(metrics.precision_score(y_train, y_pred_training, average='macro', zero_division=0)))\n",
        "print('Recall: {}'.format(metrics.recall_score(y_train, y_pred_training, average='macro', zero_division=0)))"
      ],
      "metadata": {
        "colab": {
          "base_uri": "https://localhost:8080/",
          "height": 675
        },
        "id": "BCiaBigIsUgi",
        "outputId": "21a8c99d-f2dc-481c-9c9d-ff5896fd38dc"
      },
      "execution_count": null,
      "outputs": [
        {
          "output_type": "stream",
          "name": "stdout",
          "text": [
            "              precision    recall  f1-score   support\n",
            "\n",
            "    negativo       0.85      0.79      0.82     20000\n",
            "    positivo       0.81      0.86      0.83     20000\n",
            "\n",
            "    accuracy                           0.83     40000\n",
            "   macro avg       0.83      0.83      0.83     40000\n",
            "weighted avg       0.83      0.83      0.83     40000\n",
            "\n",
            "F1-Score: 0.8278843115038041\n",
            "Accuracy: 0.8281\n",
            "Precision: 0.8297529327407738\n",
            "Recall: 0.8281000000000001\n"
          ]
        },
        {
          "output_type": "display_data",
          "data": {
            "text/plain": [
              "<Figure size 640x480 with 2 Axes>"
            ],
            "image/png": "[encoded data removed]"
          },
          "metadata": {}
        }
      ]
    },
    {
      "cell_type": "code",
      "source": [
        "#rf.fit(X_train_vectorized, y_train)\n",
        "y_pred_test = rf.predict(X_test_vectorized)\n",
        "\n",
        "sns.heatmap(confusion_matrix(y_test, y_pred_test), cmap='Blues', annot=True, fmt='g')\n",
        "plt.xlabel('Predicted')\n",
        "plt.ylabel('True')\n",
        "\n",
        "print(metrics.classification_report(y_test, y_pred_test, zero_division=0))\n",
        "print('F1-Score: {}'.format(metrics.f1_score(y_test, y_pred_test, average='macro')))\n",
        "print('Accuracy: {}'.format(metrics.accuracy_score(y_test, y_pred_test)))\n",
        "print('Precision: {}'.format(metrics.precision_score(y_test, y_pred_test, average='macro', zero_division=0)))\n",
        "print('Recall: {}'.format(metrics.recall_score(y_test, y_pred_test, average='macro', zero_division=0)))"
      ],
      "metadata": {
        "colab": {
          "base_uri": "https://localhost:8080/",
          "height": 675
        },
        "id": "bAWygwHJtesu",
        "outputId": "83728f0a-2281-4b50-a03f-25894e38f61f"
      },
      "execution_count": null,
      "outputs": [
        {
          "output_type": "stream",
          "name": "stdout",
          "text": [
            "              precision    recall  f1-score   support\n",
            "\n",
            "    negativo       0.84      0.79      0.81      5000\n",
            "    positivo       0.80      0.85      0.83      5000\n",
            "\n",
            "    accuracy                           0.82     10000\n",
            "   macro avg       0.82      0.82      0.82     10000\n",
            "weighted avg       0.82      0.82      0.82     10000\n",
            "\n",
            "F1-Score: 0.8201434798633511\n",
            "Accuracy: 0.8203\n",
            "Precision: 0.8214188590483473\n",
            "Recall: 0.8203\n"
          ]
        },
        {
          "output_type": "display_data",
          "data": {
            "text/plain": [
              "<Figure size 640x480 with 2 Axes>"
            ],
            "image/png": "[encoded data removed]"
          },
          "metadata": {}
        }
      ]
    },
    {
      "cell_type": "code",
      "source": [
        "rf"
      ],
      "metadata": {
        "colab": {
          "base_uri": "https://localhost:8080/",
          "height": 92
        },
        "id": "XeIe-baSuJ6u",
        "outputId": "c05104ad-11a0-430d-b84d-76381eb6780f"
      },
      "execution_count": null,
      "outputs": [
        {
          "output_type": "execute_result",
          "data": {
            "text/plain": [
              "RandomForestClassifier(criterion='entropy', max_features='log2',\n",
              "                       min_samples_split=0.2, n_estimators=79, random_state=13)"
            ],
            "text/html": [
              "<style>#sk-container-id-1 {color: black;background-color: white;}#sk-container-id-1 pre{padding: 0;}#sk-container-id-1 div.sk-toggleable {background-color: white;}#sk-container-id-1 label.sk-toggleable__label {cursor: pointer;display: block;width: 100%;margin-bottom: 0;padding: 0.3em;box-sizing: border-box;text-align: center;}#sk-container-id-1 label.sk-toggleable__label-arrow:before {content: \"▸\";float: left;margin-right: 0.25em;color: #696969;}#sk-container-id-1 label.sk-toggleable__label-arrow:hover:before {color: black;}#sk-container-id-1 div.sk-estimator:hover label.sk-toggleable__label-arrow:before {color: black;}#sk-container-id-1 div.sk-toggleable__content {max-height: 0;max-width: 0;overflow: hidden;text-align: left;background-color: #f0f8ff;}#sk-container-id-1 div.sk-toggleable__content pre {margin: 0.2em;color: black;border-radius: 0.25em;background-color: #f0f8ff;}#sk-container-id-1 input.sk-toggleable__control:checked~div.sk-toggleable__content {max-height: 200px;max-width: 100%;overflow: auto;}#sk-container-id-1 input.sk-toggleable__control:checked~label.sk-toggleable__label-arrow:before {content: \"▾\";}#sk-container-id-1 div.sk-estimator input.sk-toggleable__control:checked~label.sk-toggleable__label {background-color: #d4ebff;}#sk-container-id-1 div.sk-label input.sk-toggleable__control:checked~label.sk-toggleable__label {background-color: #d4ebff;}#sk-container-id-1 input.sk-hidden--visually {border: 0;clip: rect(1px 1px 1px 1px);clip: rect(1px, 1px, 1px, 1px);height: 1px;margin: -1px;overflow: hidden;padding: 0;position: absolute;width: 1px;}#sk-container-id-1 div.sk-estimator {font-family: monospace;background-color: #f0f8ff;border: 1px dotted black;border-radius: 0.25em;box-sizing: border-box;margin-bottom: 0.5em;}#sk-container-id-1 div.sk-estimator:hover {background-color: #d4ebff;}#sk-container-id-1 div.sk-parallel-item::after {content: \"\";width: 100%;border-bottom: 1px solid gray;flex-grow: 1;}#sk-container-id-1 div.sk-label:hover label.sk-toggleable__label {background-color: #d4ebff;}#sk-container-id-1 div.sk-serial::before {content: \"\";position: absolute;border-left: 1px solid gray;box-sizing: border-box;top: 0;bottom: 0;left: 50%;z-index: 0;}#sk-container-id-1 div.sk-serial {display: flex;flex-direction: column;align-items: center;background-color: white;padding-right: 0.2em;padding-left: 0.2em;position: relative;}#sk-container-id-1 div.sk-item {position: relative;z-index: 1;}#sk-container-id-1 div.sk-parallel {display: flex;align-items: stretch;justify-content: center;background-color: white;position: relative;}#sk-container-id-1 div.sk-item::before, #sk-container-id-1 div.sk-parallel-item::before {content: \"\";position: absolute;border-left: 1px solid gray;box-sizing: border-box;top: 0;bottom: 0;left: 50%;z-index: -1;}#sk-container-id-1 div.sk-parallel-item {display: flex;flex-direction: column;z-index: 1;position: relative;background-color: white;}#sk-container-id-1 div.sk-parallel-item:first-child::after {align-self: flex-end;width: 50%;}#sk-container-id-1 div.sk-parallel-item:last-child::after {align-self: flex-start;width: 50%;}#sk-container-id-1 div.sk-parallel-item:only-child::after {width: 0;}#sk-container-id-1 div.sk-dashed-wrapped {border: 1px dashed gray;margin: 0 0.4em 0.5em 0.4em;box-sizing: border-box;padding-bottom: 0.4em;background-color: white;}#sk-container-id-1 div.sk-label label {font-family: monospace;font-weight: bold;display: inline-block;line-height: 1.2em;}#sk-container-id-1 div.sk-label-container {text-align: center;}#sk-container-id-1 div.sk-container {/* jupyter's `normalize.less` sets `[hidden] { display: none; }` but bootstrap.min.css set `[hidden] { display: none !important; }` so we also need the `!important` here to be able to override the default hidden behavior on the sphinx rendered scikit-learn.org. See: https://github.com/scikit-learn/scikit-learn/issues/21755 */display: inline-block !important;position: relative;}#sk-container-id-1 div.sk-text-repr-fallback {display: none;}</style><div id=\"sk-container-id-1\" class=\"sk-top-container\"><div class=\"sk-text-repr-fallback\"><pre>RandomForestClassifier(criterion=&#x27;entropy&#x27;, max_features=&#x27;log2&#x27;,\n",
              "                       min_samples_split=0.2, n_estimators=79, random_state=13)</pre><b>In a Jupyter environment, please rerun this cell to show the HTML representation or trust the notebook. <br />On GitHub, the HTML representation is unable to render, please try loading this page with nbviewer.org.</b></div><div class=\"sk-container\" hidden><div class=\"sk-item\"><div class=\"sk-estimator sk-toggleable\"><input class=\"sk-toggleable__control sk-hidden--visually\" id=\"sk-estimator-id-1\" type=\"checkbox\" checked><label for=\"sk-estimator-id-1\" class=\"sk-toggleable__label sk-toggleable__label-arrow\">RandomForestClassifier</label><div class=\"sk-toggleable__content\"><pre>RandomForestClassifier(criterion=&#x27;entropy&#x27;, max_features=&#x27;log2&#x27;,\n",
              "                       min_samples_split=0.2, n_estimators=79, random_state=13)</pre></div></div></div></div></div>"
            ]
          },
          "metadata": {},
          "execution_count": 16
        }
      ]
    },
    {
      "cell_type": "code",
      "source": [
        "df_test[\"reviews\"] = df_test[\"review_es\"].apply(preprocess)\n",
        "X_test_test = vectorizer.transform(df_test.reviews)\n",
        "y_pred_test_rf = rf.predict(X_test_test)\n",
        "df_export = df_test.copy()\n",
        "df_export[\"sentimiento\"] = y_pred_test_rf\n",
        "df_export.drop([\"reviews\"], axis=\"columns\", inplace=True)\n",
        "df_export.drop([\"review_es\"], axis=\"columns\", inplace=True)\n",
        "df_export\n",
        "\n",
        "df_export.to_csv(\"random_forest_entropy_log2_min_samples_split02_n_stimators79.csv\")"
      ],
      "metadata": {
        "id": "V7RblfoSuK-c"
      },
      "execution_count": null,
      "outputs": []
    },
    {
      "cell_type": "code",
      "source": [
        "gb.fit(X_train_vectorized, y_train)\n",
        "y_pred_training = gb.predict(X_train_vectorized)\n",
        "\n",
        "sns.heatmap(confusion_matrix(y_train, y_pred_training), cmap='Blues', annot=True, fmt='g')\n",
        "plt.xlabel('Predicted')\n",
        "plt.ylabel('True')\n",
        "\n",
        "print(metrics.classification_report(y_train, y_pred_training, zero_division=0))\n",
        "print('F1-Score: {}'.format(metrics.f1_score(y_train, y_pred_training, average='macro')))\n",
        "print('Accuracy: {}'.format(metrics.accuracy_score(y_train, y_pred_training)))\n",
        "print('Precision: {}'.format(metrics.precision_score(y_train, y_pred_training, average='macro', zero_division=0)))\n",
        "print('Recall: {}'.format(metrics.recall_score(y_train, y_pred_training, average='macro', zero_division=0)))"
      ],
      "metadata": {
        "colab": {
          "base_uri": "https://localhost:8080/",
          "height": 675
        },
        "id": "rQrGm8Dfu_Jp",
        "outputId": "6aee9fe9-9ec6-417a-f75a-13ab68cbdc47"
      },
      "execution_count": null,
      "outputs": [
        {
          "output_type": "stream",
          "name": "stdout",
          "text": [
            "              precision    recall  f1-score   support\n",
            "\n",
            "    negativo       0.91      0.90      0.91     20000\n",
            "    positivo       0.90      0.92      0.91     20000\n",
            "\n",
            "    accuracy                           0.91     40000\n",
            "   macro avg       0.91      0.91      0.91     40000\n",
            "weighted avg       0.91      0.91      0.91     40000\n",
            "\n",
            "F1-Score: 0.9058671619704085\n",
            "Accuracy: 0.905875\n",
            "Precision: 0.9060102267811574\n",
            "Recall: 0.905875\n"
          ]
        },
        {
          "output_type": "display_data",
          "data": {
            "text/plain": [
              "<Figure size 640x480 with 2 Axes>"
            ],
            "image/png": "[encoded data removed]"
          },
          "metadata": {}
        }
      ]
    },
    {
      "cell_type": "code",
      "source": [
        "#rf.fit(X_train_vectorized, y_train)\n",
        "y_pred_test = gb.predict(X_test_vectorized)\n",
        "\n",
        "sns.heatmap(confusion_matrix(y_test, y_pred_test), cmap='Blues', annot=True, fmt='g')\n",
        "plt.xlabel('Predicted')\n",
        "plt.ylabel('True')\n",
        "\n",
        "print(metrics.classification_report(y_test, y_pred_test, zero_division=0))\n",
        "print('F1-Score: {}'.format(metrics.f1_score(y_test, y_pred_test, average='macro')))\n",
        "print('Accuracy: {}'.format(metrics.accuracy_score(y_test, y_pred_test)))\n",
        "print('Precision: {}'.format(metrics.precision_score(y_test, y_pred_test, average='macro', zero_division=0)))\n",
        "print('Recall: {}'.format(metrics.recall_score(y_test, y_pred_test, average='macro', zero_division=0)))"
      ],
      "metadata": {
        "colab": {
          "base_uri": "https://localhost:8080/",
          "height": 675
        },
        "id": "g3eBDLIMvQL3",
        "outputId": "607279c9-8f3e-4eb5-f4f7-afe356c99e4d"
      },
      "execution_count": null,
      "outputs": [
        {
          "output_type": "stream",
          "name": "stdout",
          "text": [
            "              precision    recall  f1-score   support\n",
            "\n",
            "    negativo       0.85      0.83      0.84      5000\n",
            "    positivo       0.83      0.86      0.84      5000\n",
            "\n",
            "    accuracy                           0.84     10000\n",
            "   macro avg       0.84      0.84      0.84     10000\n",
            "weighted avg       0.84      0.84      0.84     10000\n",
            "\n",
            "F1-Score: 0.8411679731100979\n",
            "Accuracy: 0.8412\n",
            "Precision: 0.84147542041509\n",
            "Recall: 0.8412\n"
          ]
        },
        {
          "output_type": "display_data",
          "data": {
            "text/plain": [
              "<Figure size 640x480 with 2 Axes>"
            ],
            "image/png": "[encoded data removed]"
          },
          "metadata": {}
        }
      ]
    },
    {
      "cell_type": "code",
      "source": [
        "gb"
      ],
      "metadata": {
        "colab": {
          "base_uri": "https://localhost:8080/",
          "height": 109
        },
        "id": "HTXdF2M7vV-Y",
        "outputId": "d5bbb2ed-3260-4d46-b238-ca08d7e053d9"
      },
      "execution_count": null,
      "outputs": [
        {
          "output_type": "execute_result",
          "data": {
            "text/plain": [
              "GradientBoostingClassifier(learning_rate=0.5, loss='exponential', max_depth=5,\n",
              "                           max_features='sqrt', n_estimators=197,\n",
              "                           random_state=13)"
            ],
            "text/html": [
              "<style>#sk-container-id-2 {color: black;background-color: white;}#sk-container-id-2 pre{padding: 0;}#sk-container-id-2 div.sk-toggleable {background-color: white;}#sk-container-id-2 label.sk-toggleable__label {cursor: pointer;display: block;width: 100%;margin-bottom: 0;padding: 0.3em;box-sizing: border-box;text-align: center;}#sk-container-id-2 label.sk-toggleable__label-arrow:before {content: \"▸\";float: left;margin-right: 0.25em;color: #696969;}#sk-container-id-2 label.sk-toggleable__label-arrow:hover:before {color: black;}#sk-container-id-2 div.sk-estimator:hover label.sk-toggleable__label-arrow:before {color: black;}#sk-container-id-2 div.sk-toggleable__content {max-height: 0;max-width: 0;overflow: hidden;text-align: left;background-color: #f0f8ff;}#sk-container-id-2 div.sk-toggleable__content pre {margin: 0.2em;color: black;border-radius: 0.25em;background-color: #f0f8ff;}#sk-container-id-2 input.sk-toggleable__control:checked~div.sk-toggleable__content {max-height: 200px;max-width: 100%;overflow: auto;}#sk-container-id-2 input.sk-toggleable__control:checked~label.sk-toggleable__label-arrow:before {content: \"▾\";}#sk-container-id-2 div.sk-estimator input.sk-toggleable__control:checked~label.sk-toggleable__label {background-color: #d4ebff;}#sk-container-id-2 div.sk-label input.sk-toggleable__control:checked~label.sk-toggleable__label {background-color: #d4ebff;}#sk-container-id-2 input.sk-hidden--visually {border: 0;clip: rect(1px 1px 1px 1px);clip: rect(1px, 1px, 1px, 1px);height: 1px;margin: -1px;overflow: hidden;padding: 0;position: absolute;width: 1px;}#sk-container-id-2 div.sk-estimator {font-family: monospace;background-color: #f0f8ff;border: 1px dotted black;border-radius: 0.25em;box-sizing: border-box;margin-bottom: 0.5em;}#sk-container-id-2 div.sk-estimator:hover {background-color: #d4ebff;}#sk-container-id-2 div.sk-parallel-item::after {content: \"\";width: 100%;border-bottom: 1px solid gray;flex-grow: 1;}#sk-container-id-2 div.sk-label:hover label.sk-toggleable__label {background-color: #d4ebff;}#sk-container-id-2 div.sk-serial::before {content: \"\";position: absolute;border-left: 1px solid gray;box-sizing: border-box;top: 0;bottom: 0;left: 50%;z-index: 0;}#sk-container-id-2 div.sk-serial {display: flex;flex-direction: column;align-items: center;background-color: white;padding-right: 0.2em;padding-left: 0.2em;position: relative;}#sk-container-id-2 div.sk-item {position: relative;z-index: 1;}#sk-container-id-2 div.sk-parallel {display: flex;align-items: stretch;justify-content: center;background-color: white;position: relative;}#sk-container-id-2 div.sk-item::before, #sk-container-id-2 div.sk-parallel-item::before {content: \"\";position: absolute;border-left: 1px solid gray;box-sizing: border-box;top: 0;bottom: 0;left: 50%;z-index: -1;}#sk-container-id-2 div.sk-parallel-item {display: flex;flex-direction: column;z-index: 1;position: relative;background-color: white;}#sk-container-id-2 div.sk-parallel-item:first-child::after {align-self: flex-end;width: 50%;}#sk-container-id-2 div.sk-parallel-item:last-child::after {align-self: flex-start;width: 50%;}#sk-container-id-2 div.sk-parallel-item:only-child::after {width: 0;}#sk-container-id-2 div.sk-dashed-wrapped {border: 1px dashed gray;margin: 0 0.4em 0.5em 0.4em;box-sizing: border-box;padding-bottom: 0.4em;background-color: white;}#sk-container-id-2 div.sk-label label {font-family: monospace;font-weight: bold;display: inline-block;line-height: 1.2em;}#sk-container-id-2 div.sk-label-container {text-align: center;}#sk-container-id-2 div.sk-container {/* jupyter's `normalize.less` sets `[hidden] { display: none; }` but bootstrap.min.css set `[hidden] { display: none !important; }` so we also need the `!important` here to be able to override the default hidden behavior on the sphinx rendered scikit-learn.org. See: https://github.com/scikit-learn/scikit-learn/issues/21755 */display: inline-block !important;position: relative;}#sk-container-id-2 div.sk-text-repr-fallback {display: none;}</style><div id=\"sk-container-id-2\" class=\"sk-top-container\"><div class=\"sk-text-repr-fallback\"><pre>GradientBoostingClassifier(learning_rate=0.5, loss=&#x27;exponential&#x27;, max_depth=5,\n",
              "                           max_features=&#x27;sqrt&#x27;, n_estimators=197,\n",
              "                           random_state=13)</pre><b>In a Jupyter environment, please rerun this cell to show the HTML representation or trust the notebook. <br />On GitHub, the HTML representation is unable to render, please try loading this page with nbviewer.org.</b></div><div class=\"sk-container\" hidden><div class=\"sk-item\"><div class=\"sk-estimator sk-toggleable\"><input class=\"sk-toggleable__control sk-hidden--visually\" id=\"sk-estimator-id-2\" type=\"checkbox\" checked><label for=\"sk-estimator-id-2\" class=\"sk-toggleable__label sk-toggleable__label-arrow\">GradientBoostingClassifier</label><div class=\"sk-toggleable__content\"><pre>GradientBoostingClassifier(learning_rate=0.5, loss=&#x27;exponential&#x27;, max_depth=5,\n",
              "                           max_features=&#x27;sqrt&#x27;, n_estimators=197,\n",
              "                           random_state=13)</pre></div></div></div></div></div>"
            ]
          },
          "metadata": {},
          "execution_count": 20
        }
      ]
    },
    {
      "cell_type": "code",
      "source": [
        "df_test[\"reviews\"] = df_test[\"review_es\"].apply(preprocess)\n",
        "X_test_test = vectorizer.transform(df_test.reviews)\n",
        "y_pred_test_gb = gb.predict(X_test_test)\n",
        "df_export = df_test.copy()\n",
        "df_export[\"sentimiento\"] = y_pred_test_gb\n",
        "df_export.drop([\"reviews\"], axis=\"columns\", inplace=True)\n",
        "df_export.drop([\"review_es\"], axis=\"columns\", inplace=True)\n",
        "df_export\n",
        "\n",
        "df_export.to_csv(\"gradient_boosting_learning_rate05_exponential_depth5_sqrt_197estimators.csv\")"
      ],
      "metadata": {
        "id": "uvJ3sROWvdEW"
      },
      "execution_count": null,
      "outputs": []
    }
  ]
}