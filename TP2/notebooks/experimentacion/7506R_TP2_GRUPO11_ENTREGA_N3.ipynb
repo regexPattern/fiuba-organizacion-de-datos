{
 "cells": [
  {
   "cell_type": "markdown",
   "metadata": {
    "id": "1cBfWDgjftiD"
   },
   "source": [
    "# Trabajo Práctico 2: Reseñas de Películas - Ensamble\n",
    "\n",
    "## Grupo 11 - \"Los Outliers\"\n",
    "\n",
    "- Castillo, Carlos\n",
    "- Destefanis, Juan Pablo\n",
    "- Gómez, Celeste"
   ]
  },
  {
   "cell_type": "markdown",
   "metadata": {
    "id": "1Uf6gZNPG3eo"
   },
   "source": [
    "# Dependencias"
   ]
  },
  {
   "cell_type": "code",
   "execution_count": 1,
   "metadata": {
    "colab": {
     "base_uri": "https://localhost:8080/"
    },
    "id": "YFlP9NlBN771",
    "outputId": "d2c66b54-157b-4a8b-d255-425adcc1e3c6"
   },
   "outputs": [
    {
     "name": "stdout",
     "output_type": "stream",
     "text": [
      "Requirement already satisfied: unidecode in /usr/local/lib/python3.10/dist-packages (1.3.8)\n"
     ]
    }
   ],
   "source": [
    "!pip install unidecode"
   ]
  },
  {
   "cell_type": "code",
   "execution_count": 2,
   "metadata": {
    "colab": {
     "base_uri": "https://localhost:8080/"
    },
    "id": "BvrDumoCCai2",
    "outputId": "f1c9c54c-3a61-4e9b-d93f-b4cef5b1d75e"
   },
   "outputs": [
    {
     "name": "stdout",
     "output_type": "stream",
     "text": [
      "Requirement already satisfied: nltk in /usr/local/lib/python3.10/dist-packages (3.8.1)\n",
      "Requirement already satisfied: click in /usr/local/lib/python3.10/dist-packages (from nltk) (8.1.7)\n",
      "Requirement already satisfied: joblib in /usr/local/lib/python3.10/dist-packages (from nltk) (1.4.2)\n",
      "Requirement already satisfied: regex>=2021.8.3 in /usr/local/lib/python3.10/dist-packages (from nltk) (2024.5.15)\n",
      "Requirement already satisfied: tqdm in /usr/local/lib/python3.10/dist-packages (from nltk) (4.66.4)\n",
      "Collecting es-core-news-sm==3.7.0\n",
      "  Downloading https://github.com/explosion/spacy-models/releases/download/es_core_news_sm-3.7.0/es_core_news_sm-3.7.0-py3-none-any.whl (12.9 MB)\n",
      "\u001b[2K     \u001b[90m━━━━━━━━━━━━━━━━━━━━━━━━━━━━━━━━━━━━━━━━\u001b[0m \u001b[32m12.9/12.9 MB\u001b[0m \u001b[31m31.1 MB/s\u001b[0m eta \u001b[36m0:00:00\u001b[0m\n",
      "\u001b[?25hRequirement already satisfied: spacy<3.8.0,>=3.7.0 in /usr/local/lib/python3.10/dist-packages (from es-core-news-sm==3.7.0) (3.7.5)\n",
      "Requirement already satisfied: spacy-legacy<3.1.0,>=3.0.11 in /usr/local/lib/python3.10/dist-packages (from spacy<3.8.0,>=3.7.0->es-core-news-sm==3.7.0) (3.0.12)\n",
      "Requirement already satisfied: spacy-loggers<2.0.0,>=1.0.0 in /usr/local/lib/python3.10/dist-packages (from spacy<3.8.0,>=3.7.0->es-core-news-sm==3.7.0) (1.0.5)\n",
      "Requirement already satisfied: murmurhash<1.1.0,>=0.28.0 in /usr/local/lib/python3.10/dist-packages (from spacy<3.8.0,>=3.7.0->es-core-news-sm==3.7.0) (1.0.10)\n",
      "Requirement already satisfied: cymem<2.1.0,>=2.0.2 in /usr/local/lib/python3.10/dist-packages (from spacy<3.8.0,>=3.7.0->es-core-news-sm==3.7.0) (2.0.8)\n",
      "Requirement already satisfied: preshed<3.1.0,>=3.0.2 in /usr/local/lib/python3.10/dist-packages (from spacy<3.8.0,>=3.7.0->es-core-news-sm==3.7.0) (3.0.9)\n",
      "Requirement already satisfied: thinc<8.3.0,>=8.2.2 in /usr/local/lib/python3.10/dist-packages (from spacy<3.8.0,>=3.7.0->es-core-news-sm==3.7.0) (8.2.4)\n",
      "Requirement already satisfied: wasabi<1.2.0,>=0.9.1 in /usr/local/lib/python3.10/dist-packages (from spacy<3.8.0,>=3.7.0->es-core-news-sm==3.7.0) (1.1.3)\n",
      "Requirement already satisfied: srsly<3.0.0,>=2.4.3 in /usr/local/lib/python3.10/dist-packages (from spacy<3.8.0,>=3.7.0->es-core-news-sm==3.7.0) (2.4.8)\n",
      "Requirement already satisfied: catalogue<2.1.0,>=2.0.6 in /usr/local/lib/python3.10/dist-packages (from spacy<3.8.0,>=3.7.0->es-core-news-sm==3.7.0) (2.0.10)\n",
      "Requirement already satisfied: weasel<0.5.0,>=0.1.0 in /usr/local/lib/python3.10/dist-packages (from spacy<3.8.0,>=3.7.0->es-core-news-sm==3.7.0) (0.4.1)\n",
      "Requirement already satisfied: typer<1.0.0,>=0.3.0 in /usr/local/lib/python3.10/dist-packages (from spacy<3.8.0,>=3.7.0->es-core-news-sm==3.7.0) (0.12.3)\n",
      "Requirement already satisfied: tqdm<5.0.0,>=4.38.0 in /usr/local/lib/python3.10/dist-packages (from spacy<3.8.0,>=3.7.0->es-core-news-sm==3.7.0) (4.66.4)\n",
      "Requirement already satisfied: requests<3.0.0,>=2.13.0 in /usr/local/lib/python3.10/dist-packages (from spacy<3.8.0,>=3.7.0->es-core-news-sm==3.7.0) (2.31.0)\n",
      "Requirement already satisfied: pydantic!=1.8,!=1.8.1,<3.0.0,>=1.7.4 in /usr/local/lib/python3.10/dist-packages (from spacy<3.8.0,>=3.7.0->es-core-news-sm==3.7.0) (2.7.4)\n",
      "Requirement already satisfied: jinja2 in /usr/local/lib/python3.10/dist-packages (from spacy<3.8.0,>=3.7.0->es-core-news-sm==3.7.0) (3.1.4)\n",
      "Requirement already satisfied: setuptools in /usr/local/lib/python3.10/dist-packages (from spacy<3.8.0,>=3.7.0->es-core-news-sm==3.7.0) (67.7.2)\n",
      "Requirement already satisfied: packaging>=20.0 in /usr/local/lib/python3.10/dist-packages (from spacy<3.8.0,>=3.7.0->es-core-news-sm==3.7.0) (24.1)\n",
      "Requirement already satisfied: langcodes<4.0.0,>=3.2.0 in /usr/local/lib/python3.10/dist-packages (from spacy<3.8.0,>=3.7.0->es-core-news-sm==3.7.0) (3.4.0)\n",
      "Requirement already satisfied: numpy>=1.19.0 in /usr/local/lib/python3.10/dist-packages (from spacy<3.8.0,>=3.7.0->es-core-news-sm==3.7.0) (1.25.2)\n",
      "Requirement already satisfied: language-data>=1.2 in /usr/local/lib/python3.10/dist-packages (from langcodes<4.0.0,>=3.2.0->spacy<3.8.0,>=3.7.0->es-core-news-sm==3.7.0) (1.2.0)\n",
      "Requirement already satisfied: annotated-types>=0.4.0 in /usr/local/lib/python3.10/dist-packages (from pydantic!=1.8,!=1.8.1,<3.0.0,>=1.7.4->spacy<3.8.0,>=3.7.0->es-core-news-sm==3.7.0) (0.7.0)\n",
      "Requirement already satisfied: pydantic-core==2.18.4 in /usr/local/lib/python3.10/dist-packages (from pydantic!=1.8,!=1.8.1,<3.0.0,>=1.7.4->spacy<3.8.0,>=3.7.0->es-core-news-sm==3.7.0) (2.18.4)\n",
      "Requirement already satisfied: typing-extensions>=4.6.1 in /usr/local/lib/python3.10/dist-packages (from pydantic!=1.8,!=1.8.1,<3.0.0,>=1.7.4->spacy<3.8.0,>=3.7.0->es-core-news-sm==3.7.0) (4.12.2)\n",
      "Requirement already satisfied: charset-normalizer<4,>=2 in /usr/local/lib/python3.10/dist-packages (from requests<3.0.0,>=2.13.0->spacy<3.8.0,>=3.7.0->es-core-news-sm==3.7.0) (3.3.2)\n",
      "Requirement already satisfied: idna<4,>=2.5 in /usr/local/lib/python3.10/dist-packages (from requests<3.0.0,>=2.13.0->spacy<3.8.0,>=3.7.0->es-core-news-sm==3.7.0) (3.7)\n",
      "Requirement already satisfied: urllib3<3,>=1.21.1 in /usr/local/lib/python3.10/dist-packages (from requests<3.0.0,>=2.13.0->spacy<3.8.0,>=3.7.0->es-core-news-sm==3.7.0) (2.0.7)\n",
      "Requirement already satisfied: certifi>=2017.4.17 in /usr/local/lib/python3.10/dist-packages (from requests<3.0.0,>=2.13.0->spacy<3.8.0,>=3.7.0->es-core-news-sm==3.7.0) (2024.6.2)\n",
      "Requirement already satisfied: blis<0.8.0,>=0.7.8 in /usr/local/lib/python3.10/dist-packages (from thinc<8.3.0,>=8.2.2->spacy<3.8.0,>=3.7.0->es-core-news-sm==3.7.0) (0.7.11)\n",
      "Requirement already satisfied: confection<1.0.0,>=0.0.1 in /usr/local/lib/python3.10/dist-packages (from thinc<8.3.0,>=8.2.2->spacy<3.8.0,>=3.7.0->es-core-news-sm==3.7.0) (0.1.5)\n",
      "Requirement already satisfied: click>=8.0.0 in /usr/local/lib/python3.10/dist-packages (from typer<1.0.0,>=0.3.0->spacy<3.8.0,>=3.7.0->es-core-news-sm==3.7.0) (8.1.7)\n",
      "Requirement already satisfied: shellingham>=1.3.0 in /usr/local/lib/python3.10/dist-packages (from typer<1.0.0,>=0.3.0->spacy<3.8.0,>=3.7.0->es-core-news-sm==3.7.0) (1.5.4)\n",
      "Requirement already satisfied: rich>=10.11.0 in /usr/local/lib/python3.10/dist-packages (from typer<1.0.0,>=0.3.0->spacy<3.8.0,>=3.7.0->es-core-news-sm==3.7.0) (13.7.1)\n",
      "Requirement already satisfied: cloudpathlib<1.0.0,>=0.7.0 in /usr/local/lib/python3.10/dist-packages (from weasel<0.5.0,>=0.1.0->spacy<3.8.0,>=3.7.0->es-core-news-sm==3.7.0) (0.18.1)\n",
      "Requirement already satisfied: smart-open<8.0.0,>=5.2.1 in /usr/local/lib/python3.10/dist-packages (from weasel<0.5.0,>=0.1.0->spacy<3.8.0,>=3.7.0->es-core-news-sm==3.7.0) (7.0.4)\n",
      "Requirement already satisfied: MarkupSafe>=2.0 in /usr/local/lib/python3.10/dist-packages (from jinja2->spacy<3.8.0,>=3.7.0->es-core-news-sm==3.7.0) (2.1.5)\n",
      "Requirement already satisfied: marisa-trie>=0.7.7 in /usr/local/lib/python3.10/dist-packages (from language-data>=1.2->langcodes<4.0.0,>=3.2.0->spacy<3.8.0,>=3.7.0->es-core-news-sm==3.7.0) (1.2.0)\n",
      "Requirement already satisfied: markdown-it-py>=2.2.0 in /usr/local/lib/python3.10/dist-packages (from rich>=10.11.0->typer<1.0.0,>=0.3.0->spacy<3.8.0,>=3.7.0->es-core-news-sm==3.7.0) (3.0.0)\n",
      "Requirement already satisfied: pygments<3.0.0,>=2.13.0 in /usr/local/lib/python3.10/dist-packages (from rich>=10.11.0->typer<1.0.0,>=0.3.0->spacy<3.8.0,>=3.7.0->es-core-news-sm==3.7.0) (2.16.1)\n",
      "Requirement already satisfied: wrapt in /usr/local/lib/python3.10/dist-packages (from smart-open<8.0.0,>=5.2.1->weasel<0.5.0,>=0.1.0->spacy<3.8.0,>=3.7.0->es-core-news-sm==3.7.0) (1.14.1)\n",
      "Requirement already satisfied: mdurl~=0.1 in /usr/local/lib/python3.10/dist-packages (from markdown-it-py>=2.2.0->rich>=10.11.0->typer<1.0.0,>=0.3.0->spacy<3.8.0,>=3.7.0->es-core-news-sm==3.7.0) (0.1.2)\n",
      "\u001b[38;5;2m✔ Download and installation successful\u001b[0m\n",
      "You can now load the package via spacy.load('es_core_news_sm')\n",
      "\u001b[38;5;3m⚠ Restart to reload dependencies\u001b[0m\n",
      "If you are in a Jupyter or Colab notebook, you may need to restart Python in\n",
      "order to load all the package's dependencies. You can do this by selecting the\n",
      "'Restart kernel' or 'Restart runtime' option.\n"
     ]
    }
   ],
   "source": [
    "!pip install nltk\n",
    "!python -m spacy download es_core_news_sm"
   ]
  },
  {
   "cell_type": "code",
   "execution_count": 3,
   "metadata": {
    "colab": {
     "base_uri": "https://localhost:8080/"
    },
    "id": "YOGHuDMG3nmA",
    "outputId": "a8d413ef-38a3-48d1-f991-77dfb3876d6c"
   },
   "outputs": [
    {
     "name": "stderr",
     "output_type": "stream",
     "text": [
      "[nltk_data] Downloading package stopwords to /root/nltk_data...\n",
      "[nltk_data]   Package stopwords is already up-to-date!\n",
      "[nltk_data] Downloading package punkt to /root/nltk_data...\n",
      "[nltk_data]   Package punkt is already up-to-date!\n"
     ]
    }
   ],
   "source": [
    "import pandas as pd\n",
    "import numpy as np\n",
    "\n",
    "from sklearn.model_selection import train_test_split\n",
    "\n",
    "import matplotlib.pyplot as plt\n",
    "import seaborn as sns\n",
    "\n",
    "import nltk\n",
    "nltk.download('stopwords')\n",
    "nltk.download('punkt')\n",
    "\n",
    "import spacy\n",
    "\n",
    "from sklearn.model_selection import cross_val_score, RandomizedSearchCV, GridSearchCV, StratifiedKFold\n",
    "from sklearn.metrics import make_scorer, f1_score\n",
    "from sklearn.naive_bayes import MultinomialNB\n",
    "from sklearn.ensemble import RandomForestClassifier\n",
    "from sklearn.ensemble import GradientBoostingClassifier\n",
    "from sklearn.ensemble import VotingClassifier\n",
    "from sklearn.ensemble import AdaBoostClassifier\n",
    "from sklearn.neighbors import KNeighborsClassifier\n",
    "\n",
    "import joblib\n",
    "\n",
    "import re\n",
    "from nltk.corpus import stopwords\n",
    "from nltk.stem import SnowballStemmer\n",
    "from nltk.tokenize import ToktokTokenizer\n",
    "from sklearn.pipeline import Pipeline\n",
    "from sklearn.model_selection import KFold\n",
    "from sklearn.metrics import confusion_matrix, classification_report\n",
    "from sklearn.tree import export_text\n",
    "\n",
    "from six import StringIO\n",
    "from IPython.display import Image\n",
    "from sklearn.tree import export_graphviz\n",
    "\n",
    "from sklearn.feature_extraction.text import TfidfVectorizer, CountVectorizer\n",
    "from sklearn.pipeline import make_pipeline\n",
    "from unidecode import unidecode\n",
    "\n",
    "from sklearn import metrics\n",
    "\n",
    "# Constants\n",
    "SEED = 13"
   ]
  },
  {
   "cell_type": "code",
   "execution_count": 4,
   "metadata": {
    "id": "_uwQGU3VHv0u"
   },
   "outputs": [],
   "source": [
    "from os.path import exists"
   ]
  },
  {
   "cell_type": "markdown",
   "metadata": {
    "id": "_meIwPcf94HW"
   },
   "source": [
    "Carga de los modelos con los mejores hiperparámetros encontrados."
   ]
  },
  {
   "cell_type": "code",
   "execution_count": 5,
   "metadata": {
    "id": "mPYENhyLN-Zu"
   },
   "outputs": [],
   "source": [
    "rf = joblib.load(\"../modelos/ensamble/rf300iter.pkl\")\n",
    "gb = joblib.load(\"../modelos/ensamble/gb300iter.pkl\")\n",
    "kn = joblib.load(\"../modelos/ensamble/kn.pkl\")\n",
    "ab = joblib.load(\"../modelos/ensamble/ab10iter.pkl\")\n",
    "#ensemble = joblib.load(\"gb_rf_kn_ensemble.pkl\")"
   ]
  },
  {
   "cell_type": "markdown",
   "metadata": {
    "id": "SBFrKVxuGApn"
   },
   "source": [
    "# Preprocesamiento"
   ]
  },
  {
   "cell_type": "markdown",
   "metadata": {
    "id": "9OVZ0UeFKX90"
   },
   "source": [
    "Listado de posibles tareas a realizar:\n",
    "- Remover mayúsculas.\n",
    "- Remover tildes y signos ortográficos.\n",
    "- Remover las reviews en inglés.\n",
    "- Aplicar lemmatización con `spacy`\n",
    "- Aplicar stemming con `nltk` (quizás es preferible simplemente usar lemmatización según recomendaciones de las clases prácticas)\n",
    "- Remover stop words."
   ]
  },
  {
   "cell_type": "markdown",
   "metadata": {
    "id": "1UlXIhjrI_VK"
   },
   "source": [
    "Cargo los CSV de training y de testing."
   ]
  },
  {
   "cell_type": "code",
   "execution_count": null,
   "metadata": {
    "id": "-z-sCIoG7MWZ"
   },
   "outputs": [],
   "source": [
    "df_train = pd.read_csv(\"train.csv\", encoding='utf-8', on_bad_lines='warn')\n",
    "df_test = pd.read_csv(\"test.csv\", index_col=0)\n",
    "df_train.columns"
   ]
  },
  {
   "cell_type": "code",
   "execution_count": null,
   "metadata": {
    "colab": {
     "base_uri": "https://localhost:8080/"
    },
    "id": "wVTn4BJP4xXT",
    "outputId": "e00d5ef6-0283-4357-8d4e-ab8a954b8516"
   },
   "outputs": [
    {
     "data": {
      "text/plain": [
       "Unnamed: 0  ID     review_es                                                                                                                                                                                                                                                                                                                                                                                                                                                                                                                                                                                                                                                                                                                                                                                                                                                                                                                                                                                                                                                                                                                                                                                                                                                                                                                                                                                                                                                                                                                                                                                                                                                                                                                                                                                                                                                                                                                                                                                                                                                                                                                                                                                                                                                                                                                                                                                                                                                                                                                                                                                                                                                                                                                                                                                                                                                                                                                                                                                                                                                                                                                                                                                                                                                                                                                                                                                                                                                                                                                                                                                                                                                                                                                                                                                                                                                                                                                                                                                                                                                                                                                                                                                                                                                                                                                                                                                                                                  sentimiento\n",
       "0           0      uno de el otro critico haber mencionar que despues de ver solo  oz episodio   estar enganchado   tener razon   ya que este ser exactamente el que suceder conmigo   el primero cosa que yo golpear sobre oz ser su brutalidad y su escena de violencia inconfiada   que el encontrar a el derecha de el palabra   confiar en yo   este no ser uno espectaculo para el debil de corazon o timido   este espectaculo no extraer punzon con respecto a el droga   el sexo o el violencia   ser hardcore   en el uso clasico de el palabra   el llamar oz   ya que ser el apodo dado al penitenciario del estado de seguridad maximo de oswald   el centrar principalmente en el ciudad de emeralda   uno seccion experimental de el prision donde todo el celula tener frente de vidrio y el enfrentar hacia adentro   por el que el privacidad no ser alto en el agenda   em city ser el hogar de mucho     fariarios   musulman   gangsta   latino   cristiano   italiano   irlandes y mas     asi que el esposa   el mirada de muerte   el relacion peligroso y el acuerdo sombreado nunca estar lejos   yo decir el principal atractivo de el espectaculo el deber al hecho de que ir donde otro espectaculo no el atreverir   olvidate de el imagen bonito pintado para el audiencia convencional   olvidar el encanto   olviden el romance     oz no el meter   el primero episodio que haber ver yo sorprender tanto desagradable que ser surrealista   no poder decir que estar listo para el   pero cuando observe mas   desarrollar uno gusto por oz   y yo acostumbrar a el alto nivel de violencia grafico   no solo el violencia   sino el injusticia   guardias torcida que el venir por uno niquel   el recluso que el matar en orden y el alejar con el   de manera educado   el recluso de clase medio el convertir en perra de el prision debido a su falta de habilidad callejero o experiencia en el prision   ver oz   poder sentir el comodo con el que ser incomodo visualizacion     ese ser si poder ponertir en contacto con tu lado mas oscuro                                                                                                                                                                                                                                                                                                                                                                                                                                                                                                                                                                                                                                                                                                                                                                                                                                                                                                                                                                                                                                                                                                                                                                                                                                                                                                                                                                                                                                                                                                                                                                                                                                                                                                                                                                                                                                                                                                                                                                                                                                                                                                                                                                                                                                                                                                                                                                     positivo       1\n",
       "33350       33350  el noche de el demonio ser uno gran pelicula y uno excelente ejemplo de como poder ser uno buen bajo presupuesto   claro   mucho de el ser bastante predecible   pero de alguno manera aun ser mucho mas agradable que el mierda   ver que este dia el transmitir como   horror    el dar a el gore uno solido    y el revestimiento de el demonio ser realmente divertido   todavia estar arrastrado por     deja de mirarme   la banda sonoro estar bien hecho   yo sorprender escuchar   stigmata martyr   de bauhaus tambien haber alguno t   a mucho agradable en exhibicion   asi como alguno efecto de maquillaje de hella   el segundo pelicula en el serie ser bastante buen tambien   pero evitar el tercero inferior   el noche de el demonio poder ser fechar   oscuro y baja en alquiler   pero aun tener mucho potencial   definitivamente valer el pena uno alquiler al menos  dale uno oportunidad este noche   simplemente mantente alejado de cualquiera maquillaje viejo   lo entenderas cuando el ves                                                                                                                                                                                                                                                                                                                                                                                                                                                                                                                                                                                                                                                                                                                                                                                                                                                                                                                                                                                                                                                                                                                                                                                                                                                                                                                                                                                                                                                                                                                                                                                                                                                                                                                                                                                                                                                                                                                                                                                                                                                                                                                                                                                                                                                                                                                                                                                                                                                                                                                                                                                                                                                                                                                                                                                                                                                                                                                                                                                                                                                                                                                                                                                                                                                                                                                                                                                                                  positivo       1\n",
       "33328       33328  mirar   practicamente haber perder todo esperanza en nickelodeon despues de ver a su   exito   mas nuevo     el show de banda de brothers   y   icarly       no ser uno excepcion     si no el haber notar   icarly ser ahora el numero  de tween sitcom en el television en este momento   despues de escuchar este   decidir ver alguno episodio para ver como el tratar el bombo   tener uno palabra para describir este espectaculo en general                                                                                                                                                                                                                                                                                                   no poder creer que dan schneider salir tanto bajo y hacer algo este mierda         ser horrible       dejamir darte el detalle       el elicado de icarly comenzar con uno chica con el nombre de carly shay   interpretado por miranda cosgrove   carly   desafortunadamente a el largo de el episodio     realmente no tener uno personalidad para hablar de     suponer que el suponer que deber ser el chica promedio en el show       porque mucho gente tener uno veterano del ejercito para uno padre   uno artista para uno hermano   y uno popular espectaculo web adolescente grabado y producido con mil de dolares de equipo       y a decir el mas de miranda   su actuacion ser patetico     parecer que uno nina de  ano con el sindrome de tourette en uno mitad de azucar a el mitad del tiempo   a continuacion   tener sam puckett   dios bueno     donde obtener este nombre       jugado por jennette mccurdy     sam ser el   co host   del show web de carly     espere uno minuto   si sam organizar el programa con carly     no deber ser llamar el espectaculo   icarly y sam       apuesto a que sam el sentir como si haber ser estafar       el suponer que sam ser el maton en el reparto     si   porque cada bully de el nina usar camisa y pantalon de piel femenino con extension de cabello rubio     el tambien   creer   tambien el suponer que ser uno tomboy     encontrar este uno poco gracioso   pero ser su claque de el juego de juego que el arruinar   el juego de palabra     dame uno cubo de pollo frito   el usar demasiado   dalar a este chica uno guion         y el dar uno cafe porque   no yo equivoca   el actuacion de jennette estar bien   pero   a el largo de el mitad de el episodio     parecer que estar listo para quedar el dormido   a continuacion tener a freddie benson   interpretamos por nathan kress     freddie ser el productor tecnico para el show de carly y sam   no haber mucho que decir sobre freddie que no ser el hecho de que ser uno geek de techno y estar enamorado de carly     que nunca funcionar   aqui ir de nuevo con el cliches       no el detener           el actuacion de nathan tambien estar bien   pero parecer ser excesivo a veces     el ser demasiado aburrido       por ultimo   y el mas favorito   tener spencer shay   interpretado por jerry trainor   querer dejar este perfectamente claro   si no ser por el   este grupo de suciedad de uno espectaculo ser barro   spencer ser el que mantener vivo el show   spencer ser el hermano mayor de carly   si tuvierar uno poco de  ano que estar en uno cafeina alto y estar estrenido     tendria este personaje resumido   spencer tambien ganar dinero de ser uno artista     hmmm     yo preguntar       pensaria que uno artista profesional hacer escultura prometedor       si   yo encantar el sarcasmo   su arte ser bastante absoluto mierdo         querer decir     que tipo de nombre de escultura ser     merry sniffmus           que         ese ser uno creatividad como uno discurso de hillary clinton en el droga                 ser estupido         el configuracion de el trama y el moral ser bolsa sin esfuerzo de caca           este programa ahora estar decir que el nino que robar   mentir y ser uno gilipolla a su padre ser algo bueno   si este ser el tipo de horribl espectaculo de mierda que estar lanzar a el nino en este dia     entonces no querer participar en verlo a ninguno de el     este ser uno trozo de mierda mas grande que haber ver en el television         sin excepcion       nickelodeon       ir a traves de tu                   fin de el historia  negativo       1\n",
       "33329       33329  aqui haber uno rareza   uno pelicula de uno dia moderno sobre uno asesino en serie que no tener escena de lucha   nadie visto morir   ni persecucion de automovil ni ruido ruidoso     y el llevar a cabo en rusia   solo haber dos escena de accion corto   pero ser horrible   el resto de el historia ser el trabajo de detective   y el cantidad de cita rojo   el detective deficiente tener que pasar para resolver el asesinato   este ser uno pelicula mucho somber   y   sombrio   describir mejor el personalidad del heroe   stephen rea     tambien   sin embargo   el historia no estar deprimente y ser mucho interesante todo el camino a traves de   el frecuencia ser excepcional como el detective determinado   quedado mirado   jeffrey demunn ser francamente aterrador como el asesino   el acento ruso de donald sutherland ser sospechoso   pero el jugar el unico personaje en este pelicula que tener uno poco de calido   uno vez mas   el historia estar salpicado de agenda liberal   aqui y alla   sin uno   sino dos referencia al sesgo contra el gay   el validez total de psicologia secular   policia y funcionario gubernamental que ser boorish   crudo   biegoted   yadda   yadda   yadda   de el contrario   ser uno pelicula de crimen inteligente y refrescante   este ser uno pelicula algo unico que probablemente no ser conocer   pero ser mucho querido por el persona que el haber ver   dado que el basar en uno verdadero cuenta de vida de este asesino   ser mas escalofriante   no pasar este por solo porque no tener nada al respecto                                                                                                                                                                                                                                                                                                                                                                                                                                                                                                                                                                                                                                                                                                                                                                                                                                                                                                                                                                                                                                                                                                                                                                                                                                                                                                                                                                                                                                                                                                                                                                                                                                                                                                                                                                                                                                                                                                                                                                                                                                                                                                                                                                                                                                                                                                                                                                                                                                                                                                                                                                                                                                                                                                                                                                                                                                                positivo       1\n",
       "33330       33330  no poder ver por que alguien hacer tal pelicula   de principio a fin   este pelicula ser realmente   realmente malo   el personaje ser mucho poco profundo   terriblemente actuado y francamente molesto   no haber absolutamente nada en el superficie en absoluto con caracter o parcela   el   humor     si poder llamar el   que estar dirigido a uno audiencia de adulto   supongo de el lengua y el desnudez     aunque el encontrar principalmente como el humor del inodoro   y tener problema incluso dibujar uno sonrisa de uno nino de  ano medio   recomendarir evitar este excusa para uno comedia   no tener nada que ese apelir a uno fanatico de el pelicula   risa inexistente y uno parcela que apenas existir llevandome a preguntar     por que el haber realizar este pelicula   por que   por que   por que     esperar en el plenitud del tiempo para ver este pelicula superar el  peor pelicula                                                                                                                                                                                                                                                                                                                                                                                                                                                                                                                                                                                                                                                                                                                                                                                                                                                                                                                                                                                                                                                                                                                                                                                                                                                                                                                                                                                                                                                                                                                                                                                                                                                                                                                                                                                                                                                                                                                                                                                                                                                                                                                                                                                                                                                                                                                                                                                                                                                                                                                                                                                                                                                                                                                                                                                                                                                                                                                                                                                                                                                                                                                                                                                                                                                                                                                                                                                                                                                                                                                   negativo       1\n",
       "                                                                                                                                                                                                                                                                                                                                                                                                                                                                                                                                                                                                                                                                                                                                                                                                                                                                                                                                                                                                                                                                                                                                                                                                                                                                                                                                                                                                                                                                                                                                                                                                                                                                                                                                                                                                                                                                                                                                                                                                                                                                                                                                                                                                                                                                                                                                                                                                                                                                                                                                                                                                                                                                                                                                                                                                                                                                                                                                                                                                                                                                                                                                                                                                                                                                                                                                                                                                                                                                                                                                                                                                                                                                                                                                                                                                                                                                                                                                                                                                                                                                                                                                                                                                                                                                                                                                                                                                                                                                            ..\n",
       "16668       16668  ridiculo cine de terror sobre uno hombre rico   john carradine   morir y dejar todo a su cuatro hijo   y su sirvient el dividir por igual   uno condicion   deber pasar uno semana en su finca para obtener el dinero   y si alguno de el morir   el otro obtener mas   adivina que suceder a continuacion     ver uno nuevo impresion de este pelicula en el cable   el color ser brillante y vivido y el casa el ver hermoso   ese ser sobre todo el cosa buena que poder decir sobre ese   el lista de el letra   solo alguno de el problema que tener este pelicula   el asesino ser gritadamente obvio   el sirvient el llamar igor y elga     vamos     parte de el grabacion de sonido ser tanto malo que no poder distinguir el dialogo   no haber gran perdida   estar seguro     el gore estar escaso y mucho mal hecho   el otro asesinato ser simplemente aburrido   estupido o imposible   y este pelicula contener uno actuacion verdaderamente abominable   tanto malo que simplemente mirar fijamente el pantalla con incredulidad     incluso pro jeff morrow ser terrible   el unico actuacion bastante buen ser de el fe potergue   que merecer mejor que este   y john carradine   que parecer dolorosamente viejo y fragil aqui     sin embargo   tener que admitir yo     el linea de cierre en este pelicula ser uno gema     por que ser renombrar   legado de sangre   estar mas alla de yo   haber otro pelicula de horror de  con ese nombre   el que ser su nombre   ser uno malo pelicula   para evitar a toda costa                                                                                                                                                                                                                                                                                                                                                                                                                                                                                                                                                                                                                                                                                                                                                                                                                                                                                                                                                                                                                                                                                                                                                                                                                                                                                                                                                                                                                                                                                                                                                                                                                                                                                                                                                                                                                                                                                                                                                                                                                                                                                                                                                                                                                                                                                                                                                                                                                                                                                                                                                                                                                                                                                                                                                                                                                                                                                          negativo       1\n",
       "16669       16669  basado en uno historia real     el premisa de este pelicula ser ilustrar que a traves de evento bastante normal ser posible que uno madre   decente   externo el contraigar en el adiccion a el heroina         semi spoiler       alguno de el escena ser bastante inexacta   mientras que otro casi hacer quieres obtener el   arreglar   tecnico de computadora   artista grafico   mujer con buen relacion con su joven adolescente   en espiral de adolescente en adiccion despues de que el colega del trabajo   que ser uno   astilladora     y alguien que poder tomar   disfrutar el ahora y otro vez     luego espiral en uno adiccion que el llevar eventualmente a anotar a el concesionario   street   despues de perder contacto con su distribuidor constante   el escena que el mostrar bajar y conseguir   enferma   a menudo ser mucho real   especialmente el primero verdadero   sudor nocturno     antes de todo este evento   comenzar uno relacion con uno tipo que acabar de haber perder a su esposa a el botella   e insistir en que tener uno radar interno para no enganchar el a tal mujer     uno poco de radar   sin embargo   despues de despues de alguno turno tardio y uno comportamiento extrano   el novio el desafia en cuanto a   el que estar pasar   su radar comenzar a poner el mas con el y exigir que vacie su bolsa   el golpear el techo y el tormenta fuera   porque el excelente relacion abierto que haber desarrollar antes de este tragedia   el ser el primero en   encontrar   alguno evidencia real en su bolsa   luego mirar alrededor de el manguera para su   stash     aparentemente su sensibilidad ser de el leccion de el escuela sobre el toma de droga     y cuando descubrir uno gran escondite en el bano   el rodee   no ser uno mujer feliz cuando el tomar su proximo bano y su   desaparecer     el nino mantener uno espalda y el colocar en el mesa de el comida   el el convertir en uno denegacion adicional   el admitir y decir que no ser peor que dope thge kid hacer todo el cosa correcto y llamar a su amigo y generalmente el poner en uno posicion en el que tener que venir   limpio     si perdone el juego de palabra   el pelicula llevar al espectador a traves de alguno situacion bastante arduo donde el peligro no estar lejos   venta obtener ayuda de uno organizacion profesional y hacer frio turquia   tendras que ver el pelicula para ver que suceder a continuacion                                                                                                                                                                                                                                                                                                                                                                                                                                                                                                                                                                                                                                                                                                                                                                                                                                                                                                                                                                                                                                                                                                                                                                                                                                                                                                                                                                                                                                                                                                                                                                                                                                                                                                                                                                                                                                                                                                                                                                    positivo       1\n",
       "16670       16670  primero ver sangre de samurai en su estreno durante el festival internacional de cine de hawaii  guau la sangre solo yo soltar con su verve   gore   vitality   gore   eistitement   gore   utter campiness   e incluso mas gore     y todo en mucho divertido  especialmente para aquel de tu que disfrutar de todo ese pelicula japones de chambara samurai y ninja     definitivamente tener que ver el sangre                                                                                                                                                                                                                                                                                                                                                                                                                                                                                                                                                                                                                                                                                                                                                                                                                                                                                                                                                                                                                                                                                                                                                                                                                                                                                                                                                                                                                                                                                                                                                                                                                                                                                                                                                                                                                                                                                                                                                                                                                                                                                                                                                                                                                                                                                                                                                                                                                                                                                                                                                                                                                                                                                                                                                                                                                                                                                                                                                                                                                                                                                                                                                                                                                                                                                                                                                                                                                                                                                                                                                                                                                                                                                                                                                                                                                                                                                                                                                                                                                          positivo       1\n",
       "16671       16671  gilmore girls ser mi programa de television favorito de todo el tiempo   solo emitir el primero  temporada en el india   pero haber ver el resto en dvd o leil en linea   ser mucho refrescante encontrar uno espectaculo donde el protagonista no estar escondido por el espalda de su madre   pero tener uno relacion abierto con el   el quimica entre lauren graham y alexis bledel que jugar a lorelai y su hija rory ser realmente genial   todo el actuacion ser excelente y el personaje   aunque extremadamente peculiar   seguir ser creible   el residente de el estrellas hollow mostrar todo el diverso bastidor de el vida de el pequeno ciudad   que el contrastar con el sinfin de esnobismo y el norma social que conformar el vida util de el alto sociedad de el padre de lorelai   por uno lado   haber uno festival de dance athons y firelight   mientras que en el mano tener cotillon   dar reunion y coctel   todo el personaje el desarrollar mucho y haber uno final feliz para cada uno o menos a todo   haber elemento dramatico   pero tambien mucho humor mucho ingenioso   el novio de rory ser todo increiblemente caluroso   al igual que el de su amigo   basicamente   ser uno espectaculo genial   divertido y mucho satisfactorio que abarcar todo el aspecto de el vida y el brindar uno sensacion de     si trabajar el suficientemente fuerte y esperar pacientemente   obtendras el que quierar   incluso si no ser el que buscabos                                                                                                                                                                                                                                                                                                                                                                                                                                                                                                                                                                                                                                                                                                                                                                                                                                                                                                                                                                                                                                                                                                                                                                                                                                                                                                                                                                                                                                                                                                                                                                                                                                                                                                                                                                                                                                                                                                                                                                                                                                                                                                                                                                                                                                                                                                                                                                                                                                                                                                                                                                                                                                                                                                                                                                                                                                                                                                                                                              positivo       1\n",
       "49999       49999  nadie esperar que el pelicula de star trek ser alto art   pero el fanatico esperar uno pelicula que ser tanto buen como alguno de el mejor episodio   desafortunadamente   este pelicula tener uno trama inmousible confundedible que yo dejar encoger el   esto es   con mucho   el peor de el nueve   hasta ahora  incluso el posibilidad de ver a el conocido personaje interactuado en otro pelicula   no poder guardar este pelicula   incluir el escena de goofy con kirk   spock y mccoy en yosemite   sin embargo   este pelicula no valer el pena observar   sin embargo   valer el pena ver el   para el verdadero fanatico que necesitar ver todo el pelicula   alquilar este pelicula ser sobre el unico forma en que el ver   incluso el canal por cable evitar este pelicula                                                                                                                                                                                                                                                                                                                                                                                                                                                                                                                                                                                                                                                                                                                                                                                                                                                                                                                                                                                                                                                                                                                                                                                                                                                                                                                                                                                                                                                                                                                                                                                                                                                                                                                                                                                                                                                                                                                                                                                                                                                                                                                                                                                                                                                                                                                                                                                                                                                                                                                                                                                                                                                                                                                                                                                                                                                                                                                                                                                                                                                                                                                                                                                                                                                                                                                                                                                                                                                                                                                                                                                                                                                 negativo       1\n",
       "Name: count, Length: 50000, dtype: int64"
      ]
     },
     "execution_count": 28,
     "metadata": {},
     "output_type": "execute_result"
    }
   ],
   "source": [
    "df_train.value_counts()"
   ]
  },
  {
   "cell_type": "markdown",
   "metadata": {
    "id": "Z8Wf5B3xFxH6"
   },
   "source": [
    "Creo una función para lematizar el texto con spacy."
   ]
  },
  {
   "cell_type": "code",
   "execution_count": 8,
   "metadata": {
    "id": "bBQJ7zahOW06"
   },
   "outputs": [],
   "source": [
    "nlp = spacy.load('es_core_news_sm')\n",
    "\n",
    "def lemmatizer(text):\n",
    "  sent = []\n",
    "  doc = nlp(text)\n",
    "  for word in doc:\n",
    "    sent.append(word.lemma_)\n",
    "  return \" \".join(sent)"
   ]
  },
  {
   "cell_type": "markdown",
   "metadata": {
    "id": "1ctvkpNUF2-N"
   },
   "source": [
    "Lematizo el conjunto de test y train."
   ]
  },
  {
   "cell_type": "code",
   "execution_count": null,
   "metadata": {
    "id": "icyo0Aa4TkUo"
   },
   "outputs": [],
   "source": [
    "df_train_copy2 = df_train.copy()\n",
    "df_train_copy2[\"review_es\"] = df_train_copy2.apply(lambda x: lemmatizer(x['review_es']), axis=1)"
   ]
  },
  {
   "cell_type": "code",
   "execution_count": null,
   "metadata": {
    "id": "RgxVbDrjhxwF"
   },
   "outputs": [],
   "source": [
    "# Lemmatize test\n",
    "df_test[\"review_es\"] = df_test.apply(lambda x: lemmatizer(x['review_es']), axis=1)"
   ]
  },
  {
   "cell_type": "code",
   "execution_count": null,
   "metadata": {
    "id": "Lqvl00oHbELD"
   },
   "outputs": [],
   "source": [
    "df_lemmatized_copy = df_train_copy2.copy()"
   ]
  },
  {
   "cell_type": "code",
   "execution_count": null,
   "metadata": {
    "colab": {
     "base_uri": "https://localhost:8080/",
     "height": 424
    },
    "id": "-15-RUEqUaBB",
    "outputId": "1837abdc-5351-4c46-8d27-c4b93452e1ee"
   },
   "outputs": [
    {
     "data": {
      "application/vnd.google.colaboratory.intrinsic+json": {
       "summary": "{\n  \"name\": \"df_train\",\n  \"rows\": 50000,\n  \"fields\": [\n    {\n      \"column\": \"ID\",\n      \"properties\": {\n        \"dtype\": \"number\",\n        \"std\": 14433,\n        \"min\": 0,\n        \"max\": 49999,\n        \"num_unique_values\": 50000,\n        \"samples\": [\n          33553,\n          9427,\n          199\n        ],\n        \"semantic_type\": \"\",\n        \"description\": \"\"\n      }\n    },\n    {\n      \"column\": \"review_es\",\n      \"properties\": {\n        \"dtype\": \"string\",\n        \"num_unique_values\": 49598,\n        \"samples\": [\n          \"uno resumen bien fundido de uno evento real bueno   en realidad   yo no estar alli   pero creer que este ser como poder haber ser como   creer que haber dos punto de vista tipicamente americano evidente en el pelicula     comunistafobiar   y paralelo a adolf hitler   este deber ser evidente para el observador mas independiente   de todos modos   boothe hacer uno gran rendimiento   y tambien el hacer mucho otro actor conocido   el ultimo veinte minuto de el pelicula ser insoportable     y el decir en serio cualquiera que poder dormir bien despues de el ser anormal  por ese ser tanto terrible   todo suceder   y probablemente el ver asi  pero   en realidad     ese ultimo escena en el estacion de aire realmente el llevar a cabo\",\n          \"haber leer el comentario de kerching on imdb   y francamente   no haber ver uno revision positivo   hasta ahora   en realidad yo gustar a kerching   kerching ser sobre uno adolescente llamado taj lewis   para hacer PS    para su madre   establecer uno sitio web llamado rudeboy   el sitio web ofrecer mucho cosa interesante   aunque solo taj   y su  amigo   danny y seymour poder evitar que taj el exponer   encontrar este espectaculo bastante divertido y yo gustar ver el   el actuacion ser o k    pero definitivamente poder ser mejor   el personaje ser divertido   especialmente a danny spooner   el amigo de taj   su estupidez ser el que el hacer divertido y el otro amigo de taj seymour   tambien carlton   el dueno de el cafeteria llamado   el frio    nunca el ver   solo el escuchar   el hermano menor de taj   omar   y su hermana mayor   missy tambien ser divertir   y el mejor amiga de missy kareesha   mucho vez   taj s casi el haber exponer   casi   ademas de el comedia   el drama en kerching   como el vida del amor y el perdida de ser querido hacer que este programa ser excelente\",\n          \"uno historia sobre el amor y el odio   el tragedia y el felicidad   y sobre todo   el amistad establecido en el momento mucho interesante de el guerra civil estadounidense   tu interesar interesado en el historia   tu involucrar emocionalmente y tu hacer febrilmente esperar el proximo episodio     el casting ser esplendido   mucho superestrella aparecer en el camafeo corto   el rol principal ser jugar por uno gran variedad de monumento talentoso   kirstie alley y terri garber el deber mencionar aqui   este ser simplemente uno excelente ejemplo para uno produccion de television como deber ser   no el olvidar de el pura   lovelity of wendy kilbourne retratar constanza\"\n        ],\n        \"semantic_type\": \"\",\n        \"description\": \"\"\n      }\n    },\n    {\n      \"column\": \"sentimiento\",\n      \"properties\": {\n        \"dtype\": \"category\",\n        \"num_unique_values\": 2,\n        \"samples\": [\n          \"negativo\",\n          \"positivo\"\n        ],\n        \"semantic_type\": \"\",\n        \"description\": \"\"\n      }\n    }\n  ]\n}",
       "type": "dataframe",
       "variable_name": "df_train"
      },
      "text/html": [
       "\n",
       "  <div id=\"df-d2494c53-4686-4c4b-812d-9c9c4edd8fcf\" class=\"colab-df-container\">\n",
       "    <div>\n",
       "<style scoped>\n",
       "    .dataframe tbody tr th:only-of-type {\n",
       "        vertical-align: middle;\n",
       "    }\n",
       "\n",
       "    .dataframe tbody tr th {\n",
       "        vertical-align: top;\n",
       "    }\n",
       "\n",
       "    .dataframe thead th {\n",
       "        text-align: right;\n",
       "    }\n",
       "</style>\n",
       "<table border=\"1\" class=\"dataframe\">\n",
       "  <thead>\n",
       "    <tr style=\"text-align: right;\">\n",
       "      <th></th>\n",
       "      <th>ID</th>\n",
       "      <th>review_es</th>\n",
       "      <th>sentimiento</th>\n",
       "    </tr>\n",
       "  </thead>\n",
       "  <tbody>\n",
       "    <tr>\n",
       "      <th>0</th>\n",
       "      <td>0</td>\n",
       "      <td>uno de el otro critico haber mencionar que des...</td>\n",
       "      <td>positivo</td>\n",
       "    </tr>\n",
       "    <tr>\n",
       "      <th>1</th>\n",
       "      <td>1</td>\n",
       "      <td>uno pequeno pequeno produccion   el tecnica de...</td>\n",
       "      <td>positivo</td>\n",
       "    </tr>\n",
       "    <tr>\n",
       "      <th>2</th>\n",
       "      <td>2</td>\n",
       "      <td>pensar que este ser uno manera maravilloso de ...</td>\n",
       "      <td>positivo</td>\n",
       "    </tr>\n",
       "    <tr>\n",
       "      <th>3</th>\n",
       "      <td>3</td>\n",
       "      <td>basicamente   haber uno familia donde uno nino...</td>\n",
       "      <td>negativo</td>\n",
       "    </tr>\n",
       "    <tr>\n",
       "      <th>4</th>\n",
       "      <td>4</td>\n",
       "      <td>el   amor en el tiempo   de petter mattei ser ...</td>\n",
       "      <td>positivo</td>\n",
       "    </tr>\n",
       "    <tr>\n",
       "      <th>...</th>\n",
       "      <td>...</td>\n",
       "      <td>...</td>\n",
       "      <td>...</td>\n",
       "    </tr>\n",
       "    <tr>\n",
       "      <th>49995</th>\n",
       "      <td>49995</td>\n",
       "      <td>pensar que este pelicula hacer uno buen trabaj...</td>\n",
       "      <td>positivo</td>\n",
       "    </tr>\n",
       "    <tr>\n",
       "      <th>49996</th>\n",
       "      <td>49996</td>\n",
       "      <td>mala parcela   mal dialogo   malo actuacion   ...</td>\n",
       "      <td>negativo</td>\n",
       "    </tr>\n",
       "    <tr>\n",
       "      <th>49997</th>\n",
       "      <td>49997</td>\n",
       "      <td>ser catolico ensenado en escuela primario parr...</td>\n",
       "      <td>negativo</td>\n",
       "    </tr>\n",
       "    <tr>\n",
       "      <th>49998</th>\n",
       "      <td>49998</td>\n",
       "      <td>ir a tener que estar en desacuerdo con el come...</td>\n",
       "      <td>negativo</td>\n",
       "    </tr>\n",
       "    <tr>\n",
       "      <th>49999</th>\n",
       "      <td>49999</td>\n",
       "      <td>nadie esperar que el pelicula de star trek ser...</td>\n",
       "      <td>negativo</td>\n",
       "    </tr>\n",
       "  </tbody>\n",
       "</table>\n",
       "<p>50000 rows × 3 columns</p>\n",
       "</div>\n",
       "    <div class=\"colab-df-buttons\">\n",
       "\n",
       "  <div class=\"colab-df-container\">\n",
       "    <button class=\"colab-df-convert\" onclick=\"convertToInteractive('df-d2494c53-4686-4c4b-812d-9c9c4edd8fcf')\"\n",
       "            title=\"Convert this dataframe to an interactive table.\"\n",
       "            style=\"display:none;\">\n",
       "\n",
       "  <svg xmlns=\"http://www.w3.org/2000/svg\" height=\"24px\" viewBox=\"0 -960 960 960\">\n",
       "    <path d=\"M120-120v-720h720v720H120Zm60-500h600v-160H180v160Zm220 220h160v-160H400v160Zm0 220h160v-160H400v160ZM180-400h160v-160H180v160Zm440 0h160v-160H620v160ZM180-180h160v-160H180v160Zm440 0h160v-160H620v160Z\"/>\n",
       "  </svg>\n",
       "    </button>\n",
       "\n",
       "  <style>\n",
       "    .colab-df-container {\n",
       "      display:flex;\n",
       "      gap: 12px;\n",
       "    }\n",
       "\n",
       "    .colab-df-convert {\n",
       "      background-color: #E8F0FE;\n",
       "      border: none;\n",
       "      border-radius: 50%;\n",
       "      cursor: pointer;\n",
       "      display: none;\n",
       "      fill: #1967D2;\n",
       "      height: 32px;\n",
       "      padding: 0 0 0 0;\n",
       "      width: 32px;\n",
       "    }\n",
       "\n",
       "    .colab-df-convert:hover {\n",
       "      background-color: #E2EBFA;\n",
       "      box-shadow: 0px 1px 2px rgba(60, 64, 67, 0.3), 0px 1px 3px 1px rgba(60, 64, 67, 0.15);\n",
       "      fill: #174EA6;\n",
       "    }\n",
       "\n",
       "    .colab-df-buttons div {\n",
       "      margin-bottom: 4px;\n",
       "    }\n",
       "\n",
       "    [theme=dark] .colab-df-convert {\n",
       "      background-color: #3B4455;\n",
       "      fill: #D2E3FC;\n",
       "    }\n",
       "\n",
       "    [theme=dark] .colab-df-convert:hover {\n",
       "      background-color: #434B5C;\n",
       "      box-shadow: 0px 1px 3px 1px rgba(0, 0, 0, 0.15);\n",
       "      filter: drop-shadow(0px 1px 2px rgba(0, 0, 0, 0.3));\n",
       "      fill: #FFFFFF;\n",
       "    }\n",
       "  </style>\n",
       "\n",
       "    <script>\n",
       "      const buttonEl =\n",
       "        document.querySelector('#df-d2494c53-4686-4c4b-812d-9c9c4edd8fcf button.colab-df-convert');\n",
       "      buttonEl.style.display =\n",
       "        google.colab.kernel.accessAllowed ? 'block' : 'none';\n",
       "\n",
       "      async function convertToInteractive(key) {\n",
       "        const element = document.querySelector('#df-d2494c53-4686-4c4b-812d-9c9c4edd8fcf');\n",
       "        const dataTable =\n",
       "          await google.colab.kernel.invokeFunction('convertToInteractive',\n",
       "                                                    [key], {});\n",
       "        if (!dataTable) return;\n",
       "\n",
       "        const docLinkHtml = 'Like what you see? Visit the ' +\n",
       "          '<a target=\"_blank\" href=https://colab.research.google.com/notebooks/data_table.ipynb>data table notebook</a>'\n",
       "          + ' to learn more about interactive tables.';\n",
       "        element.innerHTML = '';\n",
       "        dataTable['output_type'] = 'display_data';\n",
       "        await google.colab.output.renderOutput(dataTable, element);\n",
       "        const docLink = document.createElement('div');\n",
       "        docLink.innerHTML = docLinkHtml;\n",
       "        element.appendChild(docLink);\n",
       "      }\n",
       "    </script>\n",
       "  </div>\n",
       "\n",
       "\n",
       "<div id=\"df-1e7ac7b4-f024-4623-9683-796b3bae6b7b\">\n",
       "  <button class=\"colab-df-quickchart\" onclick=\"quickchart('df-1e7ac7b4-f024-4623-9683-796b3bae6b7b')\"\n",
       "            title=\"Suggest charts\"\n",
       "            style=\"display:none;\">\n",
       "\n",
       "<svg xmlns=\"http://www.w3.org/2000/svg\" height=\"24px\"viewBox=\"0 0 24 24\"\n",
       "     width=\"24px\">\n",
       "    <g>\n",
       "        <path d=\"M19 3H5c-1.1 0-2 .9-2 2v14c0 1.1.9 2 2 2h14c1.1 0 2-.9 2-2V5c0-1.1-.9-2-2-2zM9 17H7v-7h2v7zm4 0h-2V7h2v10zm4 0h-2v-4h2v4z\"/>\n",
       "    </g>\n",
       "</svg>\n",
       "  </button>\n",
       "\n",
       "<style>\n",
       "  .colab-df-quickchart {\n",
       "      --bg-color: #E8F0FE;\n",
       "      --fill-color: #1967D2;\n",
       "      --hover-bg-color: #E2EBFA;\n",
       "      --hover-fill-color: #174EA6;\n",
       "      --disabled-fill-color: #AAA;\n",
       "      --disabled-bg-color: #DDD;\n",
       "  }\n",
       "\n",
       "  [theme=dark] .colab-df-quickchart {\n",
       "      --bg-color: #3B4455;\n",
       "      --fill-color: #D2E3FC;\n",
       "      --hover-bg-color: #434B5C;\n",
       "      --hover-fill-color: #FFFFFF;\n",
       "      --disabled-bg-color: #3B4455;\n",
       "      --disabled-fill-color: #666;\n",
       "  }\n",
       "\n",
       "  .colab-df-quickchart {\n",
       "    background-color: var(--bg-color);\n",
       "    border: none;\n",
       "    border-radius: 50%;\n",
       "    cursor: pointer;\n",
       "    display: none;\n",
       "    fill: var(--fill-color);\n",
       "    height: 32px;\n",
       "    padding: 0;\n",
       "    width: 32px;\n",
       "  }\n",
       "\n",
       "  .colab-df-quickchart:hover {\n",
       "    background-color: var(--hover-bg-color);\n",
       "    box-shadow: 0 1px 2px rgba(60, 64, 67, 0.3), 0 1px 3px 1px rgba(60, 64, 67, 0.15);\n",
       "    fill: var(--button-hover-fill-color);\n",
       "  }\n",
       "\n",
       "  .colab-df-quickchart-complete:disabled,\n",
       "  .colab-df-quickchart-complete:disabled:hover {\n",
       "    background-color: var(--disabled-bg-color);\n",
       "    fill: var(--disabled-fill-color);\n",
       "    box-shadow: none;\n",
       "  }\n",
       "\n",
       "  .colab-df-spinner {\n",
       "    border: 2px solid var(--fill-color);\n",
       "    border-color: transparent;\n",
       "    border-bottom-color: var(--fill-color);\n",
       "    animation:\n",
       "      spin 1s steps(1) infinite;\n",
       "  }\n",
       "\n",
       "  @keyframes spin {\n",
       "    0% {\n",
       "      border-color: transparent;\n",
       "      border-bottom-color: var(--fill-color);\n",
       "      border-left-color: var(--fill-color);\n",
       "    }\n",
       "    20% {\n",
       "      border-color: transparent;\n",
       "      border-left-color: var(--fill-color);\n",
       "      border-top-color: var(--fill-color);\n",
       "    }\n",
       "    30% {\n",
       "      border-color: transparent;\n",
       "      border-left-color: var(--fill-color);\n",
       "      border-top-color: var(--fill-color);\n",
       "      border-right-color: var(--fill-color);\n",
       "    }\n",
       "    40% {\n",
       "      border-color: transparent;\n",
       "      border-right-color: var(--fill-color);\n",
       "      border-top-color: var(--fill-color);\n",
       "    }\n",
       "    60% {\n",
       "      border-color: transparent;\n",
       "      border-right-color: var(--fill-color);\n",
       "    }\n",
       "    80% {\n",
       "      border-color: transparent;\n",
       "      border-right-color: var(--fill-color);\n",
       "      border-bottom-color: var(--fill-color);\n",
       "    }\n",
       "    90% {\n",
       "      border-color: transparent;\n",
       "      border-bottom-color: var(--fill-color);\n",
       "    }\n",
       "  }\n",
       "</style>\n",
       "\n",
       "  <script>\n",
       "    async function quickchart(key) {\n",
       "      const quickchartButtonEl =\n",
       "        document.querySelector('#' + key + ' button');\n",
       "      quickchartButtonEl.disabled = true;  // To prevent multiple clicks.\n",
       "      quickchartButtonEl.classList.add('colab-df-spinner');\n",
       "      try {\n",
       "        const charts = await google.colab.kernel.invokeFunction(\n",
       "            'suggestCharts', [key], {});\n",
       "      } catch (error) {\n",
       "        console.error('Error during call to suggestCharts:', error);\n",
       "      }\n",
       "      quickchartButtonEl.classList.remove('colab-df-spinner');\n",
       "      quickchartButtonEl.classList.add('colab-df-quickchart-complete');\n",
       "    }\n",
       "    (() => {\n",
       "      let quickchartButtonEl =\n",
       "        document.querySelector('#df-1e7ac7b4-f024-4623-9683-796b3bae6b7b button');\n",
       "      quickchartButtonEl.style.display =\n",
       "        google.colab.kernel.accessAllowed ? 'block' : 'none';\n",
       "    })();\n",
       "  </script>\n",
       "</div>\n",
       "    </div>\n",
       "  </div>\n"
      ],
      "text/plain": [
       "          ID                                          review_es sentimiento\n",
       "0          0  uno de el otro critico haber mencionar que des...    positivo\n",
       "1          1  uno pequeno pequeno produccion   el tecnica de...    positivo\n",
       "2          2  pensar que este ser uno manera maravilloso de ...    positivo\n",
       "3          3  basicamente   haber uno familia donde uno nino...    negativo\n",
       "4          4  el   amor en el tiempo   de petter mattei ser ...    positivo\n",
       "...      ...                                                ...         ...\n",
       "49995  49995  pensar que este pelicula hacer uno buen trabaj...    positivo\n",
       "49996  49996  mala parcela   mal dialogo   malo actuacion   ...    negativo\n",
       "49997  49997  ser catolico ensenado en escuela primario parr...    negativo\n",
       "49998  49998  ir a tener que estar en desacuerdo con el come...    negativo\n",
       "49999  49999  nadie esperar que el pelicula de star trek ser...    negativo\n",
       "\n",
       "[50000 rows x 3 columns]"
      ]
     },
     "execution_count": 28,
     "metadata": {},
     "output_type": "execute_result"
    }
   ],
   "source": [
    "df_train_copy2"
   ]
  },
  {
   "cell_type": "markdown",
   "metadata": {
    "id": "wcfD7QcJGA5e"
   },
   "source": [
    "Creo una función de preproceso para poner el texto en minusculas, remover diacriticos, simbolos y numeros."
   ]
  },
  {
   "cell_type": "code",
   "execution_count": 7,
   "metadata": {
    "id": "SvVf7QGi_PbK"
   },
   "outputs": [],
   "source": [
    "def preprocess(\n",
    "  text: str,\n",
    "  lower: bool = True,\n",
    "  remove_diacritics: bool = True,\n",
    "  remove_symbols = True,\n",
    "  remove_numbers = True\n",
    ") -> str:\n",
    "  if lower:\n",
    "    text = text.lower()\n",
    "\n",
    "  # Remove diacritics with the Unicode library.\n",
    "  if remove_diacritics:\n",
    "    text = unidecode(text)\n",
    "\n",
    "  if remove_numbers:\n",
    "    text = re.sub('[0-9]', '', text)\n",
    "\n",
    "  # Replece every character that's not a letter or a number with a space.\n",
    "  if remove_symbols:\n",
    "    text = re.sub('[^a-zA-Z0-9ñÑÁÉÍÓÚáéíóúÜü]', ' ', text)\n",
    "\n",
    "  text = text.strip()\n",
    "\n",
    "  return text"
   ]
  },
  {
   "cell_type": "markdown",
   "metadata": {
    "id": "Af0o64PdGLwX"
   },
   "source": [
    "Aplico el preproceso sobre el conjunto de train y test."
   ]
  },
  {
   "cell_type": "code",
   "execution_count": null,
   "metadata": {
    "id": "iHRGBTdQC3Iw"
   },
   "outputs": [],
   "source": [
    "df_train_copy1 = df_train.copy()\n",
    "df_train_copy1[\"review_es\"] = df_train_copy1[\"review_es\"].apply(preprocess, args=(True, True, True, True))\n",
    "\n",
    "df_train_copy2[\"review_es\"] = df_train_copy2[\"review_es\"].apply(preprocess, args=(True, True, True, True))\n",
    "df_test[\"review_es\"] = df_test[\"review_es\"].apply(preprocess, args=(True, True, True, True))"
   ]
  },
  {
   "cell_type": "markdown",
   "metadata": {
    "id": "jynuF7E0GPYm"
   },
   "source": [
    "Exporto los conjuntos a csv para no tener que hacer nuevamente el preproceso."
   ]
  },
  {
   "cell_type": "code",
   "execution_count": null,
   "metadata": {
    "id": "6Jom-VZqi0EZ"
   },
   "outputs": [],
   "source": [
    "df_train_copy2.to_csv(\"lemmatized_train.csv\")\n",
    "df_test.to_csv(\"lemmatized_test.csv\")"
   ]
  },
  {
   "cell_type": "markdown",
   "metadata": {
    "id": "9APawQtJtcYP"
   },
   "source": [
    "## Busqueda y entrenamiento de Random Forest\n",
    "\n"
   ]
  },
  {
   "cell_type": "markdown",
   "metadata": {
    "id": "c5fJ4YeDG-d5"
   },
   "source": [
    "Cargo los conjuntos de train y test (kaggle)."
   ]
  },
  {
   "cell_type": "code",
   "execution_count": 9,
   "metadata": {
    "id": "1qwpoy8HG32o"
   },
   "outputs": [],
   "source": [
    "# Lematized datasets.\n",
    "df_train = pd.read_csv(\"lemmatized_train.csv\", encoding='utf-8', on_bad_lines='warn')\n",
    "df_test = pd.read_csv(\"lemmatized_test.csv\", index_col=0)\n",
    "\n",
    "X_train, X_test, y_train, y_test = train_test_split(df_train.review_es, df_train.sentimiento, test_size=0.2, random_state=SEED, stratify=df_train.sentimiento)"
   ]
  },
  {
   "cell_type": "markdown",
   "metadata": {
    "id": "2qyWd0w0GWjB"
   },
   "source": [
    "Creo una lista de stopwords en Español y la utilizo al armar el TFIDFVectorizer."
   ]
  },
  {
   "cell_type": "code",
   "execution_count": 10,
   "metadata": {
    "id": "-FL0xzH7ti0p"
   },
   "outputs": [],
   "source": [
    "stop_words = stopwords.words(\"spanish\")\n",
    "stop_words_tokenized = []\n",
    "for w in stop_words:\n",
    "    stop_words_tokenized = stop_words_tokenized + nltk.word_tokenize(preprocess(w))"
   ]
  },
  {
   "cell_type": "code",
   "execution_count": 11,
   "metadata": {
    "id": "kksxAOJBtfuW"
   },
   "outputs": [],
   "source": [
    "vectorizer = TfidfVectorizer(\n",
    "    preprocessor=preprocess,\n",
    "    tokenizer=nltk.word_tokenize,\n",
    "    token_pattern=None,\n",
    "    max_df=0.7, # We could treat this one as a hyperparameter. It defines a threshold with which to ignore frequent words.\n",
    "    min_df=0.01, # We could treat this one as a hyperparameter. It defines a threshold with which to ignore infrequent words.\n",
    "    stop_words=stop_words_tokenized\n",
    ")"
   ]
  },
  {
   "cell_type": "markdown",
   "metadata": {
    "id": "m6w1tT4VGg4i"
   },
   "source": [
    "Creo la bag of words sobre el conjunto de train y aplico el vectorizer entrenado al conjunto de test."
   ]
  },
  {
   "cell_type": "code",
   "execution_count": 12,
   "metadata": {
    "colab": {
     "base_uri": "https://localhost:8080/"
    },
    "id": "ct56WF_Wu-FK",
    "outputId": "1dc6e41b-0635-41a0-81b5-1c509fededc2"
   },
   "outputs": [
    {
     "data": {
      "text/plain": [
       "<40000x1573 sparse matrix of type '<class 'numpy.float64'>'\n",
       "\twith 2443284 stored elements in Compressed Sparse Row format>"
      ]
     },
     "execution_count": 12,
     "metadata": {},
     "output_type": "execute_result"
    }
   ],
   "source": [
    "X_train_vectorized = vectorizer.fit_transform(X_train)\n",
    "X_test_vectorized = vectorizer.transform(X_test)\n",
    "X_train_vectorized"
   ]
  },
  {
   "cell_type": "markdown",
   "metadata": {
    "id": "QFKCObMbGmPC"
   },
   "source": [
    "Busco los mejores hiperparametros para un randomforest para el ensamble."
   ]
  },
  {
   "cell_type": "code",
   "execution_count": 13,
   "metadata": {
    "id": "RAmpxiZ1vW2R"
   },
   "outputs": [],
   "source": [
    "base_classifier = RandomForestClassifier(random_state=SEED)\n",
    "\n",
    "max_depth = list(range(1,6))\n",
    "max_depth.append(None)\n",
    "\n",
    "folds=5\n",
    "params_search = {\n",
    "    'n_estimators': list(range(20, 101)),\n",
    "    'criterion': ['gini','entropy','log_loss'],\n",
    "    'max_depth': max_depth,\n",
    "    'min_samples_split': [0.2, 0.4, 0.6, 0.8],\n",
    "    'max_features': ['sqrt', 'log2', 10, 15]\n",
    "}\n",
    "\n",
    "kfoldcv = StratifiedKFold(n_splits=folds)\n",
    "\n",
    "\n",
    "scorer_fn = metrics.make_scorer(metrics.f1_score, labels=['negativo', 'positivo'], pos_label='positivo')\n",
    "\n",
    "randomcv = RandomizedSearchCV(\n",
    "      estimator=base_classifier,\n",
    "      param_distributions = params_search,\n",
    "      scoring=scorer_fn,\n",
    "      cv=kfoldcv,\n",
    "      n_iter=300\n",
    "  )\n",
    "\n",
    "if exists(\"rf300iter.pkl\") == False:\n",
    "  randomcv.fit(X_train_vectorized, y_train)\n",
    "\n",
    "  best_classifier = randomcv.best_estimator_\n",
    "\n",
    "  joblib.dump(best_classifier, 'rf300iter.pkl', compress=9)\n",
    "else:\n",
    "  best_classifier = rf"
   ]
  },
  {
   "cell_type": "markdown",
   "metadata": {
    "id": "Y6m6wGycH6VH"
   },
   "source": [
    "Entreno el mejor modelo y realizo las predicciones sobre la particion del conjunto de train."
   ]
  },
  {
   "cell_type": "code",
   "execution_count": 14,
   "metadata": {
    "id": "oaiqM49e7vYp"
   },
   "outputs": [],
   "source": [
    "best_classifier.fit(X_train_vectorized, y_train)\n",
    "y_pred = best_classifier.predict(X_test_vectorized)"
   ]
  },
  {
   "cell_type": "markdown",
   "metadata": {
    "id": "7UpIAMZ9H96v"
   },
   "source": [
    "Muestro las metricas."
   ]
  },
  {
   "cell_type": "code",
   "execution_count": 15,
   "metadata": {
    "colab": {
     "base_uri": "https://localhost:8080/",
     "height": 675
    },
    "id": "GJ17rN60BpzH",
    "outputId": "6b1d2153-098a-4ee9-a261-c513988b3020"
   },
   "outputs": [
    {
     "name": "stdout",
     "output_type": "stream",
     "text": [
      "              precision    recall  f1-score   support\n",
      "\n",
      "    negativo       0.84      0.79      0.81      5000\n",
      "    positivo       0.80      0.85      0.83      5000\n",
      "\n",
      "    accuracy                           0.82     10000\n",
      "   macro avg       0.82      0.82      0.82     10000\n",
      "weighted avg       0.82      0.82      0.82     10000\n",
      "\n",
      "F1-Score: 0.8201434798633511\n",
      "Accuracy: 0.8203\n",
      "Precision: 0.8214188590483473\n",
      "Recall: 0.8203\n"
     ]
    },
    {
     "data": {
      "image/png": "[encoded data removed]",
      "text/plain": [
       "<Figure size 640x480 with 2 Axes>"
      ]
     },
     "metadata": {},
     "output_type": "display_data"
    }
   ],
   "source": [
    "sns.heatmap(confusion_matrix(y_test, y_pred), cmap='Blues', annot=True, fmt='g')\n",
    "plt.xlabel('Predicted')\n",
    "plt.ylabel('True')\n",
    "\n",
    "print(metrics.classification_report(y_test, y_pred, zero_division=0))\n",
    "print('F1-Score: {}'.format(metrics.f1_score(y_test, y_pred, average='macro')))\n",
    "print('Accuracy: {}'.format(metrics.accuracy_score(y_test, y_pred)))\n",
    "print('Precision: {}'.format(metrics.precision_score(y_test, y_pred, average='macro', zero_division=0)))\n",
    "print('Recall: {}'.format(metrics.recall_score(y_test, y_pred, average='macro', zero_division=0)))"
   ]
  },
  {
   "cell_type": "markdown",
   "metadata": {
    "id": "3w3GIIcmMWHV"
   },
   "source": [
    "Exportamos las predicciones."
   ]
  },
  {
   "cell_type": "code",
   "execution_count": null,
   "metadata": {
    "id": "JOz50vUMMWPX"
   },
   "outputs": [],
   "source": [
    "df_test[\"reviews\"] = df_test[\"review_es\"].apply(preprocess)\n",
    "rf.fit(X_train_vectorized, y_train)\n",
    "X_test_test = vectorizer.transform(df_test.reviews)\n",
    "y_pred_test = rf.predict(X_test_test)\n",
    "\n",
    "df_export = df_test.copy()\n",
    "df_export[\"sentimiento\"] = y_pred_test\n",
    "df_export.drop([\"reviews\"], axis=\"columns\", inplace=True)\n",
    "df_export.drop([\"review_es\"], axis=\"columns\", inplace=True)\n",
    "df_export\n",
    "\n",
    "df_export.to_csv(\"random_forest_300_iterations_random_search.csv\")"
   ]
  },
  {
   "cell_type": "markdown",
   "metadata": {
    "id": "IRl6lge5de79"
   },
   "source": [
    "# Ensamble"
   ]
  },
  {
   "cell_type": "markdown",
   "metadata": {
    "id": "m9otpCEd-FdL"
   },
   "source": [
    "Vamos a probar un ensamble con gradient boosting, randomforest, adaboost y kneighbours."
   ]
  },
  {
   "cell_type": "markdown",
   "metadata": {
    "id": "s6yv2l9J-YpJ"
   },
   "source": [
    "Para eso entrenamos cada uno de ellos con RandomSearch cross validation. Empezando por el gradient boost."
   ]
  },
  {
   "cell_type": "code",
   "execution_count": 19,
   "metadata": {
    "id": "rGklDtKEdsqk"
   },
   "outputs": [],
   "source": [
    "base_classifier_gradient = GradientBoostingClassifier(random_state=SEED)\n",
    "\n",
    "max_depth = list(range(1,6))\n",
    "\n",
    "folds=5\n",
    "params_search = {\n",
    "    'n_estimators': list(range(100, 200)),\n",
    "    'loss': ['log_loss', 'exponential'],\n",
    "    'criterion': ['friedman_mse', 'squared_error'],\n",
    "    'learning_rate': [0.1, 0.5, 1.5],\n",
    "    'max_depth': max_depth,\n",
    "    'max_features': ['sqrt', 'log2', 10, 15]\n",
    "}\n",
    "\n",
    "kfoldcv = StratifiedKFold(n_splits=folds)\n",
    "\n",
    "\n",
    "scorer_fn = metrics.make_scorer(metrics.f1_score, labels=['negativo', 'positivo'], pos_label='positivo')\n",
    "randomcv_gradient = RandomizedSearchCV(\n",
    "    estimator=base_classifier_gradient,\n",
    "    param_distributions = params_search,\n",
    "    scoring=scorer_fn,\n",
    "    cv=kfoldcv,\n",
    "    n_iter=300\n",
    ")\n",
    "\n",
    "if exists(\"gb300iter.pkl\") == False:\n",
    "  randomcv_gradient.fit(X_train_vectorized, y_train)\n",
    "\n",
    "  best_classifier_gradient = randomcv.best_estimator_\n",
    "\n",
    "  joblib.dump(best_classifier_gradient, 'gb300iter.pkl', compress=9)\n",
    "else:\n",
    "  best_classifier_gradient = gb\n",
    "  best_classifier_gradient.fit(X_train_vectorized, y_train)"
   ]
  },
  {
   "cell_type": "markdown",
   "metadata": {
    "id": "N-mtmFIQ-irT"
   },
   "source": [
    "realizamos predicciones y vemos las metricas."
   ]
  },
  {
   "cell_type": "code",
   "execution_count": 20,
   "metadata": {
    "colab": {
     "base_uri": "https://localhost:8080/",
     "height": 675
    },
    "id": "JwIwckrme8hG",
    "outputId": "8c4bac9b-b49c-416f-89c6-a55aaa084cd3"
   },
   "outputs": [
    {
     "name": "stdout",
     "output_type": "stream",
     "text": [
      "              precision    recall  f1-score   support\n",
      "\n",
      "    negativo       0.85      0.83      0.84      5000\n",
      "    positivo       0.83      0.86      0.84      5000\n",
      "\n",
      "    accuracy                           0.84     10000\n",
      "   macro avg       0.84      0.84      0.84     10000\n",
      "weighted avg       0.84      0.84      0.84     10000\n",
      "\n",
      "F1-Score: 0.8411679731100979\n",
      "Accuracy: 0.8412\n",
      "Precision: 0.84147542041509\n",
      "Recall: 0.8412\n"
     ]
    },
    {
     "data": {
      "image/png": "[encoded data removed]",
      "text/plain": [
       "<Figure size 640x480 with 2 Axes>"
      ]
     },
     "metadata": {},
     "output_type": "display_data"
    }
   ],
   "source": [
    "y_pred = best_classifier_gradient.predict(X_test_vectorized)\n",
    "\n",
    "sns.heatmap(confusion_matrix(y_test, y_pred), cmap='Blues', annot=True, fmt='g')\n",
    "plt.xlabel('Predicted')\n",
    "plt.ylabel('True')\n",
    "\n",
    "print(metrics.classification_report(y_test, y_pred, zero_division=0))\n",
    "print('F1-Score: {}'.format(metrics.f1_score(y_test, y_pred, average='macro')))\n",
    "print('Accuracy: {}'.format(metrics.accuracy_score(y_test, y_pred)))\n",
    "print('Precision: {}'.format(metrics.precision_score(y_test, y_pred, average='macro', zero_division=0)))\n",
    "print('Recall: {}'.format(metrics.recall_score(y_test, y_pred, average='macro', zero_division=0)))"
   ]
  },
  {
   "cell_type": "markdown",
   "metadata": {
    "id": "QqKmbEaM-ylt"
   },
   "source": [
    "Entrenamos Adaboost."
   ]
  },
  {
   "cell_type": "code",
   "execution_count": 22,
   "metadata": {
    "id": "i56GjT5tgwJa"
   },
   "outputs": [],
   "source": [
    "# Estaba tardando dos horas\n",
    "base_classifier_ad = AdaBoostClassifier(random_state=SEED)\n",
    "\n",
    "\n",
    "folds=5\n",
    "params_search = {\n",
    "    'n_estimators': list(range(40, 100)),\n",
    "    'learning_rate': [0.1, 0.5, 1.0, 1.5],\n",
    "}\n",
    "\n",
    "kfoldcv = StratifiedKFold(n_splits=folds)\n",
    "\n",
    "\n",
    "scorer_fn = metrics.make_scorer(metrics.f1_score, labels=['negativo', 'positivo'], pos_label='positivo')\n",
    "randomcv = RandomizedSearchCV(\n",
    "    estimator=base_classifier_ad,\n",
    "    param_distributions = params_search,\n",
    "    scoring=scorer_fn,\n",
    "    cv=kfoldcv,\n",
    "    n_iter=10\n",
    ")\n",
    "\n",
    "\n",
    "if exists(\"ab10iter.pkl\") == False:\n",
    "  randomcv.fit(X_train_vectorized, y_train)\n",
    "\n",
    "  best_classifier_ab = randomcv.best_estimator_\n",
    "\n",
    "  joblib.dump(best_classifier_ab, 'ab10iter.pkl', compress=9)\n",
    "else:\n",
    "  best_classifier_ab = ab\n",
    "  best_classifier_ab.fit(X_train_vectorized, y_train)"
   ]
  },
  {
   "cell_type": "markdown",
   "metadata": {
    "id": "ZbbOuKRr-67N"
   },
   "source": [
    "Predecimos el conjunto de test y vemos las métricas."
   ]
  },
  {
   "cell_type": "code",
   "execution_count": 23,
   "metadata": {
    "colab": {
     "base_uri": "https://localhost:8080/",
     "height": 675
    },
    "id": "GITMKbdZNrvf",
    "outputId": "95057bfb-b627-4eac-f68b-5b67d9cad755"
   },
   "outputs": [
    {
     "name": "stdout",
     "output_type": "stream",
     "text": [
      "              precision    recall  f1-score   support\n",
      "\n",
      "    negativo       0.83      0.77      0.80      5000\n",
      "    positivo       0.79      0.84      0.81      5000\n",
      "\n",
      "    accuracy                           0.81     10000\n",
      "   macro avg       0.81      0.81      0.81     10000\n",
      "weighted avg       0.81      0.81      0.81     10000\n",
      "\n",
      "F1-Score: 0.8068806763152845\n",
      "Accuracy: 0.8071\n",
      "Precision: 0.8085014480380894\n",
      "Recall: 0.8070999999999999\n"
     ]
    },
    {
     "data": {
      "image/png": "[encoded data removed]",
      "text/plain": [
       "<Figure size 640x480 with 2 Axes>"
      ]
     },
     "metadata": {},
     "output_type": "display_data"
    }
   ],
   "source": [
    "y_pred = best_classifier_ab.predict(X_test_vectorized)\n",
    "\n",
    "sns.heatmap(confusion_matrix(y_test, y_pred), cmap='Blues', annot=True, fmt='g')\n",
    "plt.xlabel('Predicted')\n",
    "plt.ylabel('True')\n",
    "\n",
    "print(metrics.classification_report(y_test, y_pred, zero_division=0))\n",
    "print('F1-Score: {}'.format(metrics.f1_score(y_test, y_pred, average='macro')))\n",
    "print('Accuracy: {}'.format(metrics.accuracy_score(y_test, y_pred)))\n",
    "print('Precision: {}'.format(metrics.precision_score(y_test, y_pred, average='macro', zero_division=0)))\n",
    "print('Recall: {}'.format(metrics.recall_score(y_test, y_pred, average='macro', zero_division=0)))"
   ]
  },
  {
   "cell_type": "markdown",
   "metadata": {
    "id": "pTmHb93Q-_CH"
   },
   "source": [
    "Buscamos los mejores hiperparametros de Kneighbors con Random Search."
   ]
  },
  {
   "cell_type": "code",
   "execution_count": 25,
   "metadata": {
    "id": "MsihksCERFxD"
   },
   "outputs": [],
   "source": [
    "base_classifier_kn = KNeighborsClassifier(n_jobs=-1)\n",
    "\n",
    "\n",
    "folds=5\n",
    "params_search = {\n",
    "    #'n_neighbors': [5, 10, 20, 50],\n",
    "    'n_neighbors': [5],\n",
    "    'weights': ['uniform', 'distance'],\n",
    "    'p': [1, 2, 3]\n",
    "}\n",
    "\n",
    "kfoldcv = StratifiedKFold(n_splits=folds)\n",
    "\n",
    "\n",
    "scorer_fn = metrics.make_scorer(metrics.f1_score, labels=['negativo', 'positivo'], pos_label='positivo')\n",
    "randomcv = RandomizedSearchCV(\n",
    "    estimator=base_classifier_kn,\n",
    "    param_distributions = params_search,\n",
    "    scoring=scorer_fn,\n",
    "    cv=kfoldcv,\n",
    "    n_iter=1\n",
    ")\n",
    "\n",
    "if exists(\"kn.pkl\") == False:\n",
    "  randomcv.fit(X_train_vectorized, y_train)\n",
    "\n",
    "  best_classifier_kn = randomcv.best_estimator_\n",
    "\n",
    "  joblib.dump(best_classifier_kn, 'kn.pkl', compress=9)\n",
    "else:\n",
    "  best_classifier_kn = ab\n",
    "  best_classifier_kn.fit(X_train_vectorized, y_train)"
   ]
  },
  {
   "cell_type": "markdown",
   "metadata": {
    "id": "NtbsHWKgJ7cH"
   },
   "source": [
    "Muestro las metricas del mejor Kneighbors sobre el conjunto de test."
   ]
  },
  {
   "cell_type": "code",
   "execution_count": 26,
   "metadata": {
    "colab": {
     "base_uri": "https://localhost:8080/",
     "height": 675
    },
    "id": "jy3gC6d0J-fj",
    "outputId": "ebccb801-3f19-4f21-da12-a2f7cdc9d6fc"
   },
   "outputs": [
    {
     "name": "stdout",
     "output_type": "stream",
     "text": [
      "              precision    recall  f1-score   support\n",
      "\n",
      "    negativo       0.83      0.77      0.80      5000\n",
      "    positivo       0.79      0.84      0.81      5000\n",
      "\n",
      "    accuracy                           0.81     10000\n",
      "   macro avg       0.81      0.81      0.81     10000\n",
      "weighted avg       0.81      0.81      0.81     10000\n",
      "\n",
      "F1-Score: 0.8068806763152845\n",
      "Accuracy: 0.8071\n",
      "Precision: 0.8085014480380894\n",
      "Recall: 0.8070999999999999\n"
     ]
    },
    {
     "data": {
      "image/png": "[encoded data removed]",
      "text/plain": [
       "<Figure size 640x480 with 2 Axes>"
      ]
     },
     "metadata": {},
     "output_type": "display_data"
    }
   ],
   "source": [
    "y_pred = best_classifier_kn.predict(X_test_vectorized)\n",
    "\n",
    "sns.heatmap(confusion_matrix(y_test, y_pred), cmap='Blues', annot=True, fmt='g')\n",
    "plt.xlabel('Predicted')\n",
    "plt.ylabel('True')\n",
    "\n",
    "print(metrics.classification_report(y_test, y_pred, zero_division=0))\n",
    "print('F1-Score: {}'.format(metrics.f1_score(y_test, y_pred, average='macro')))\n",
    "print('Accuracy: {}'.format(metrics.accuracy_score(y_test, y_pred)))\n",
    "print('Precision: {}'.format(metrics.precision_score(y_test, y_pred, average='macro', zero_division=0)))\n",
    "print('Recall: {}'.format(metrics.recall_score(y_test, y_pred, average='macro', zero_division=0)))"
   ]
  },
  {
   "cell_type": "markdown",
   "metadata": {
    "id": "iMuxz0q__HoR"
   },
   "source": [
    "Creamos el ensamble con los modelos que entrenamos en esta notebook."
   ]
  },
  {
   "cell_type": "code",
   "execution_count": 27,
   "metadata": {
    "id": "-pZ7Qon-gUoi"
   },
   "outputs": [],
   "source": [
    "ensemble = VotingClassifier(\n",
    "    estimators=[('rf', rf), ('gb', gb), ('kn', kn), ('ab', ab)],\n",
    "    voting='hard')\n",
    "\n",
    "if exists(\"gb_rf_kn_ab_ensemble.pkl\") == True:\n",
    "  ensemble = joblib.load(\"gb_rf_kn_ab_ensemble.pkl\")\n",
    "else:\n",
    "  ensemble.fit(X_train_vectorized, y_train)"
   ]
  },
  {
   "cell_type": "markdown",
   "metadata": {
    "id": "MFZCM4oi_Pl7"
   },
   "source": [
    "Predecimos y mostramos las metricas sobre el conjunto de test. (Esto estaba tomando mucho tiempo en predecir y ademas se colgaba la notebook por lo que no volvimos a correr la celda)."
   ]
  },
  {
   "cell_type": "code",
   "execution_count": null,
   "metadata": {
    "id": "jCbI23cp9ZgL"
   },
   "outputs": [],
   "source": [
    "y_pred = ensemble.predict(X_test_vectorized)\n",
    "\n",
    "sns.heatmap(confusion_matrix(y_test, y_pred), cmap='Blues', annot=True, fmt='g')\n",
    "plt.xlabel('Predicted')\n",
    "plt.ylabel('True')\n",
    "\n",
    "print(metrics.classification_report(y_test, y_pred, zero_division=0))\n",
    "print('F1-Score: {}'.format(metrics.f1_score(y_test, y_pred, average='macro')))\n",
    "print('Accuracy: {}'.format(metrics.accuracy_score(y_test, y_pred)))\n",
    "print('Precision: {}'.format(metrics.precision_score(y_test, y_pred, average='macro', zero_division=0)))\n",
    "print('Recall: {}'.format(metrics.recall_score(y_test, y_pred, average='macro', zero_division=0)))"
   ]
  },
  {
   "cell_type": "markdown",
   "metadata": {
    "id": "PQAttMQ7_VAK"
   },
   "source": [
    "Exportamos las predicciones del ensamble sobre el conjunto de kaggle."
   ]
  },
  {
   "cell_type": "code",
   "execution_count": null,
   "metadata": {
    "id": "Ub3Bo-jIMoEV"
   },
   "outputs": [],
   "source": [
    "df_test[\"reviews\"] = df_test[\"review_es\"].apply(preprocess)\n",
    "X_test_test = vectorizer.transform(df_test.reviews)\n",
    "y_pred_test = ensemble.predict(X_test_test)\n",
    "\n",
    "df_export = df_test.copy()\n",
    "df_export[\"sentimiento\"] = y_pred_test\n",
    "df_export.drop([\"reviews\"], axis=\"columns\", inplace=True)\n",
    "df_export.drop([\"review_es\"], axis=\"columns\", inplace=True)\n",
    "df_export\n",
    "\n",
    "df_export.to_csv(\"voting_random_forest_gradient_boosting_k_neighbors_ada_boost_stop_words_tfidf_vectorizer_lemmatized.csv\")"
   ]
  },
  {
   "cell_type": "markdown",
   "metadata": {
    "id": "jJzhJCnT_XSj"
   },
   "source": [
    "Exportamos el ensamble entrenado."
   ]
  },
  {
   "cell_type": "code",
   "execution_count": null,
   "metadata": {
    "colab": {
     "base_uri": "https://localhost:8080/"
    },
    "id": "pwvVJE-Bf0mt",
    "outputId": "d637943c-d8e1-4538-9f90-38e99df613ff"
   },
   "outputs": [
    {
     "data": {
      "text/plain": [
       "['gb_rf_kn_ab_ensemble.pkl']"
      ]
     },
     "execution_count": 52,
     "metadata": {},
     "output_type": "execute_result"
    }
   ],
   "source": [
    "joblib.dump(ensemble, 'gb_rf_kn_ab_ensemble.pkl', compress=9)"
   ]
  },
  {
   "cell_type": "markdown",
   "metadata": {
    "id": "D6vjsrxdMMc6"
   },
   "source": [
    "Exportamos las predicciones del gradient boost sobre el conjunto de kaggle."
   ]
  },
  {
   "cell_type": "code",
   "execution_count": null,
   "metadata": {
    "id": "uvJ3sROWvdEW"
   },
   "outputs": [],
   "source": [
    "df_test[\"reviews\"] = df_test[\"review_es\"].apply(preprocess)\n",
    "X_test_test = vectorizer.transform(df_test.reviews)\n",
    "y_pred_test_gb = gb.predict(X_test_test)\n",
    "df_export = df_test.copy()\n",
    "df_export[\"sentimiento\"] = y_pred_test_gb\n",
    "df_export.drop([\"reviews\"], axis=\"columns\", inplace=True)\n",
    "df_export.drop([\"review_es\"], axis=\"columns\", inplace=True)\n",
    "df_export\n",
    "\n",
    "df_export.to_csv(\"gradient_boosting_learning_rate05_exponential_depth5_sqrt_197estimators.csv\")"
   ]
  },
  {
   "cell_type": "markdown",
   "metadata": {
    "id": "Ba7fUEbtKtcj"
   },
   "source": [
    "# Otro ensamble"
   ]
  },
  {
   "cell_type": "markdown",
   "metadata": {
    "id": "MYuZQsuHKzNr"
   },
   "source": [
    "Ahora probamos con random forest, gradient boost y adaboost unicamente en el ensamble."
   ]
  },
  {
   "cell_type": "code",
   "execution_count": 13,
   "metadata": {
    "id": "sWLqNvEkKxlb"
   },
   "outputs": [],
   "source": [
    "ensemble2 = VotingClassifier(\n",
    "    estimators=[('rf', rf), ('gb', gb), ('ab', ab)],\n",
    "    voting='hard')"
   ]
  },
  {
   "cell_type": "markdown",
   "metadata": {
    "id": "-QoD0guRLaO_"
   },
   "source": [
    "Entrenamos el ensamble y mostramos las metricas sobre el conjunto de test."
   ]
  },
  {
   "cell_type": "code",
   "execution_count": 14,
   "metadata": {
    "colab": {
     "base_uri": "https://localhost:8080/",
     "height": 110
    },
    "id": "aTlxZH5bK7x8",
    "outputId": "51e04896-b1e6-4c6d-eb88-11cf5472b732"
   },
   "outputs": [
    {
     "data": {
      "text/html": [
       "<style>#sk-container-id-1 {color: black;background-color: white;}#sk-container-id-1 pre{padding: 0;}#sk-container-id-1 div.sk-toggleable {background-color: white;}#sk-container-id-1 label.sk-toggleable__label {cursor: pointer;display: block;width: 100%;margin-bottom: 0;padding: 0.3em;box-sizing: border-box;text-align: center;}#sk-container-id-1 label.sk-toggleable__label-arrow:before {content: \"▸\";float: left;margin-right: 0.25em;color: #696969;}#sk-container-id-1 label.sk-toggleable__label-arrow:hover:before {color: black;}#sk-container-id-1 div.sk-estimator:hover label.sk-toggleable__label-arrow:before {color: black;}#sk-container-id-1 div.sk-toggleable__content {max-height: 0;max-width: 0;overflow: hidden;text-align: left;background-color: #f0f8ff;}#sk-container-id-1 div.sk-toggleable__content pre {margin: 0.2em;color: black;border-radius: 0.25em;background-color: #f0f8ff;}#sk-container-id-1 input.sk-toggleable__control:checked~div.sk-toggleable__content {max-height: 200px;max-width: 100%;overflow: auto;}#sk-container-id-1 input.sk-toggleable__control:checked~label.sk-toggleable__label-arrow:before {content: \"▾\";}#sk-container-id-1 div.sk-estimator input.sk-toggleable__control:checked~label.sk-toggleable__label {background-color: #d4ebff;}#sk-container-id-1 div.sk-label input.sk-toggleable__control:checked~label.sk-toggleable__label {background-color: #d4ebff;}#sk-container-id-1 input.sk-hidden--visually {border: 0;clip: rect(1px 1px 1px 1px);clip: rect(1px, 1px, 1px, 1px);height: 1px;margin: -1px;overflow: hidden;padding: 0;position: absolute;width: 1px;}#sk-container-id-1 div.sk-estimator {font-family: monospace;background-color: #f0f8ff;border: 1px dotted black;border-radius: 0.25em;box-sizing: border-box;margin-bottom: 0.5em;}#sk-container-id-1 div.sk-estimator:hover {background-color: #d4ebff;}#sk-container-id-1 div.sk-parallel-item::after {content: \"\";width: 100%;border-bottom: 1px solid gray;flex-grow: 1;}#sk-container-id-1 div.sk-label:hover label.sk-toggleable__label {background-color: #d4ebff;}#sk-container-id-1 div.sk-serial::before {content: \"\";position: absolute;border-left: 1px solid gray;box-sizing: border-box;top: 0;bottom: 0;left: 50%;z-index: 0;}#sk-container-id-1 div.sk-serial {display: flex;flex-direction: column;align-items: center;background-color: white;padding-right: 0.2em;padding-left: 0.2em;position: relative;}#sk-container-id-1 div.sk-item {position: relative;z-index: 1;}#sk-container-id-1 div.sk-parallel {display: flex;align-items: stretch;justify-content: center;background-color: white;position: relative;}#sk-container-id-1 div.sk-item::before, #sk-container-id-1 div.sk-parallel-item::before {content: \"\";position: absolute;border-left: 1px solid gray;box-sizing: border-box;top: 0;bottom: 0;left: 50%;z-index: -1;}#sk-container-id-1 div.sk-parallel-item {display: flex;flex-direction: column;z-index: 1;position: relative;background-color: white;}#sk-container-id-1 div.sk-parallel-item:first-child::after {align-self: flex-end;width: 50%;}#sk-container-id-1 div.sk-parallel-item:last-child::after {align-self: flex-start;width: 50%;}#sk-container-id-1 div.sk-parallel-item:only-child::after {width: 0;}#sk-container-id-1 div.sk-dashed-wrapped {border: 1px dashed gray;margin: 0 0.4em 0.5em 0.4em;box-sizing: border-box;padding-bottom: 0.4em;background-color: white;}#sk-container-id-1 div.sk-label label {font-family: monospace;font-weight: bold;display: inline-block;line-height: 1.2em;}#sk-container-id-1 div.sk-label-container {text-align: center;}#sk-container-id-1 div.sk-container {/* jupyter's `normalize.less` sets `[hidden] { display: none; }` but bootstrap.min.css set `[hidden] { display: none !important; }` so we also need the `!important` here to be able to override the default hidden behavior on the sphinx rendered scikit-learn.org. See: https://github.com/scikit-learn/scikit-learn/issues/21755 */display: inline-block !important;position: relative;}#sk-container-id-1 div.sk-text-repr-fallback {display: none;}</style><div id=\"sk-container-id-1\" class=\"sk-top-container\"><div class=\"sk-text-repr-fallback\"><pre>VotingClassifier(estimators=[(&#x27;rf&#x27;,\n",
       "                              RandomForestClassifier(criterion=&#x27;entropy&#x27;,\n",
       "                                                     max_features=&#x27;log2&#x27;,\n",
       "                                                     min_samples_split=0.2,\n",
       "                                                     n_estimators=79,\n",
       "                                                     random_state=13)),\n",
       "                             (&#x27;gb&#x27;,\n",
       "                              GradientBoostingClassifier(learning_rate=0.5,\n",
       "                                                         loss=&#x27;exponential&#x27;,\n",
       "                                                         max_depth=5,\n",
       "                                                         max_features=&#x27;sqrt&#x27;,\n",
       "                                                         n_estimators=197,\n",
       "                                                         random_state=13)),\n",
       "                             (&#x27;ab&#x27;,\n",
       "                              AdaBoostClassifier(learning_rate=0.5,\n",
       "                                                 n_estimators=97,\n",
       "                                                 random_state=13))])</pre><b>In a Jupyter environment, please rerun this cell to show the HTML representation or trust the notebook. <br />On GitHub, the HTML representation is unable to render, please try loading this page with nbviewer.org.</b></div><div class=\"sk-container\" hidden><div class=\"sk-item sk-dashed-wrapped\"><div class=\"sk-label-container\"><div class=\"sk-label sk-toggleable\"><input class=\"sk-toggleable__control sk-hidden--visually\" id=\"sk-estimator-id-1\" type=\"checkbox\" ><label for=\"sk-estimator-id-1\" class=\"sk-toggleable__label sk-toggleable__label-arrow\">VotingClassifier</label><div class=\"sk-toggleable__content\"><pre>VotingClassifier(estimators=[(&#x27;rf&#x27;,\n",
       "                              RandomForestClassifier(criterion=&#x27;entropy&#x27;,\n",
       "                                                     max_features=&#x27;log2&#x27;,\n",
       "                                                     min_samples_split=0.2,\n",
       "                                                     n_estimators=79,\n",
       "                                                     random_state=13)),\n",
       "                             (&#x27;gb&#x27;,\n",
       "                              GradientBoostingClassifier(learning_rate=0.5,\n",
       "                                                         loss=&#x27;exponential&#x27;,\n",
       "                                                         max_depth=5,\n",
       "                                                         max_features=&#x27;sqrt&#x27;,\n",
       "                                                         n_estimators=197,\n",
       "                                                         random_state=13)),\n",
       "                             (&#x27;ab&#x27;,\n",
       "                              AdaBoostClassifier(learning_rate=0.5,\n",
       "                                                 n_estimators=97,\n",
       "                                                 random_state=13))])</pre></div></div></div><div class=\"sk-parallel\"><div class=\"sk-parallel-item\"><div class=\"sk-item\"><div class=\"sk-label-container\"><div class=\"sk-label sk-toggleable\"><label>rf</label></div></div><div class=\"sk-serial\"><div class=\"sk-item\"><div class=\"sk-estimator sk-toggleable\"><input class=\"sk-toggleable__control sk-hidden--visually\" id=\"sk-estimator-id-2\" type=\"checkbox\" ><label for=\"sk-estimator-id-2\" class=\"sk-toggleable__label sk-toggleable__label-arrow\">RandomForestClassifier</label><div class=\"sk-toggleable__content\"><pre>RandomForestClassifier(criterion=&#x27;entropy&#x27;, max_features=&#x27;log2&#x27;,\n",
       "                       min_samples_split=0.2, n_estimators=79, random_state=13)</pre></div></div></div></div></div></div><div class=\"sk-parallel-item\"><div class=\"sk-item\"><div class=\"sk-label-container\"><div class=\"sk-label sk-toggleable\"><label>gb</label></div></div><div class=\"sk-serial\"><div class=\"sk-item\"><div class=\"sk-estimator sk-toggleable\"><input class=\"sk-toggleable__control sk-hidden--visually\" id=\"sk-estimator-id-3\" type=\"checkbox\" ><label for=\"sk-estimator-id-3\" class=\"sk-toggleable__label sk-toggleable__label-arrow\">GradientBoostingClassifier</label><div class=\"sk-toggleable__content\"><pre>GradientBoostingClassifier(learning_rate=0.5, loss=&#x27;exponential&#x27;, max_depth=5,\n",
       "                           max_features=&#x27;sqrt&#x27;, n_estimators=197,\n",
       "                           random_state=13)</pre></div></div></div></div></div></div><div class=\"sk-parallel-item\"><div class=\"sk-item\"><div class=\"sk-label-container\"><div class=\"sk-label sk-toggleable\"><label>ab</label></div></div><div class=\"sk-serial\"><div class=\"sk-item\"><div class=\"sk-estimator sk-toggleable\"><input class=\"sk-toggleable__control sk-hidden--visually\" id=\"sk-estimator-id-4\" type=\"checkbox\" ><label for=\"sk-estimator-id-4\" class=\"sk-toggleable__label sk-toggleable__label-arrow\">AdaBoostClassifier</label><div class=\"sk-toggleable__content\"><pre>AdaBoostClassifier(learning_rate=0.5, n_estimators=97, random_state=13)</pre></div></div></div></div></div></div></div></div></div></div>"
      ],
      "text/plain": [
       "VotingClassifier(estimators=[('rf',\n",
       "                              RandomForestClassifier(criterion='entropy',\n",
       "                                                     max_features='log2',\n",
       "                                                     min_samples_split=0.2,\n",
       "                                                     n_estimators=79,\n",
       "                                                     random_state=13)),\n",
       "                             ('gb',\n",
       "                              GradientBoostingClassifier(learning_rate=0.5,\n",
       "                                                         loss='exponential',\n",
       "                                                         max_depth=5,\n",
       "                                                         max_features='sqrt',\n",
       "                                                         n_estimators=197,\n",
       "                                                         random_state=13)),\n",
       "                             ('ab',\n",
       "                              AdaBoostClassifier(learning_rate=0.5,\n",
       "                                                 n_estimators=97,\n",
       "                                                 random_state=13))])"
      ]
     },
     "execution_count": 14,
     "metadata": {},
     "output_type": "execute_result"
    }
   ],
   "source": [
    "ensemble2.fit(X_train_vectorized, y_train)"
   ]
  },
  {
   "cell_type": "code",
   "execution_count": 15,
   "metadata": {
    "colab": {
     "base_uri": "https://localhost:8080/",
     "height": 675
    },
    "id": "R-UIOxRwKtSQ",
    "outputId": "7bf2d828-2aa4-4e31-f192-2f5818002ce6"
   },
   "outputs": [
    {
     "name": "stdout",
     "output_type": "stream",
     "text": [
      "              precision    recall  f1-score   support\n",
      "\n",
      "    negativo       0.85      0.80      0.83      5000\n",
      "    positivo       0.81      0.86      0.84      5000\n",
      "\n",
      "    accuracy                           0.83     10000\n",
      "   macro avg       0.83      0.83      0.83     10000\n",
      "weighted avg       0.83      0.83      0.83     10000\n",
      "\n",
      "F1-Score: 0.8319615884407827\n",
      "Accuracy: 0.8321\n",
      "Precision: 0.833197806805952\n",
      "Recall: 0.8321000000000001\n"
     ]
    },
    {
     "data": {
      "image/png": "[encoded data removed]",
      "text/plain": [
       "<Figure size 640x480 with 2 Axes>"
      ]
     },
     "metadata": {},
     "output_type": "display_data"
    }
   ],
   "source": [
    "y_pred = ensemble2.predict(X_test_vectorized)\n",
    "\n",
    "sns.heatmap(confusion_matrix(y_test, y_pred), cmap='Blues', annot=True, fmt='g')\n",
    "plt.xlabel('Predicted')\n",
    "plt.ylabel('True')\n",
    "\n",
    "print(metrics.classification_report(y_test, y_pred, zero_division=0))\n",
    "print('F1-Score: {}'.format(metrics.f1_score(y_test, y_pred, average='macro')))\n",
    "print('Accuracy: {}'.format(metrics.accuracy_score(y_test, y_pred)))\n",
    "print('Precision: {}'.format(metrics.precision_score(y_test, y_pred, average='macro', zero_division=0)))\n",
    "print('Recall: {}'.format(metrics.recall_score(y_test, y_pred, average='macro', zero_division=0)))"
   ]
  },
  {
   "cell_type": "markdown",
   "metadata": {
    "id": "UE1acV89LeWf"
   },
   "source": [
    "Realizamos las predicciones sobre el conjunto de kaggle."
   ]
  },
  {
   "cell_type": "code",
   "execution_count": 17,
   "metadata": {
    "id": "KkS4rI0cLD-S"
   },
   "outputs": [],
   "source": [
    "df_test[\"reviews\"] = df_test[\"review_es\"].apply(preprocess)\n",
    "X_test_test = vectorizer.transform(df_test.reviews)\n",
    "y_pred_test = ensemble2.predict(X_test_test)\n",
    "\n",
    "df_export = df_test.copy()\n",
    "df_export[\"sentimiento\"] = y_pred_test\n",
    "df_export.drop([\"reviews\"], axis=\"columns\", inplace=True)\n",
    "df_export.drop([\"review_es\"], axis=\"columns\", inplace=True)\n",
    "df_export\n",
    "\n",
    "df_export.to_csv(\"voting_random_forest_gradient_boosting_ada_boost_stop_words_tfidf_vectorizer_lemmatized.csv\")"
   ]
  },
  {
   "cell_type": "markdown",
   "metadata": {
    "id": "sxAd9CGlLgjs"
   },
   "source": [
    "Exportamos el ensamble."
   ]
  },
  {
   "cell_type": "code",
   "execution_count": 18,
   "metadata": {
    "colab": {
     "base_uri": "https://localhost:8080/"
    },
    "id": "ElATrLPtLK7R",
    "outputId": "7f311c49-bb31-4cac-91e3-4d5eeda09b76"
   },
   "outputs": [
    {
     "data": {
      "text/plain": [
       "['gb_rf_ab_ensemble.pkl']"
      ]
     },
     "execution_count": 18,
     "metadata": {},
     "output_type": "execute_result"
    }
   ],
   "source": [
    "joblib.dump(ensemble2, 'gb_rf_ab_ensemble.pkl', compress=9)"
   ]
  }
 ],
 "metadata": {
  "colab": {
   "collapsed_sections": [
    "1Uf6gZNPG3eo",
    "SBFrKVxuGApn",
    "Ba7fUEbtKtcj"
   ],
   "provenance": [],
   "toc_visible": true
  },
  "kernelspec": {
   "display_name": "Python 3 (ipykernel)",
   "language": "python",
   "name": "python3"
  },
  "language_info": {
   "codemirror_mode": {
    "name": "ipython",
    "version": 3
   },
   "file_extension": ".py",
   "mimetype": "text/x-python",
   "name": "python",
   "nbconvert_exporter": "python",
   "pygments_lexer": "ipython3",
   "version": "3.11.9"
  }
 },
 "nbformat": 4,
 "nbformat_minor": 4
}
