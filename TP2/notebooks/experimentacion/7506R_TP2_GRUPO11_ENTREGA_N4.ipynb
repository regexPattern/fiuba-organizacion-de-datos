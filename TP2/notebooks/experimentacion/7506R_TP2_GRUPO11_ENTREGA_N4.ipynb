{
 "cells": [
  {
   "cell_type": "code",
   "execution_count": 14,
   "id": "437d1226-076e-40e9-b826-724a6c535f02",
   "metadata": {},
   "outputs": [],
   "source": [
    "import pandas as pd\n",
    "import matplotlib.pyplot as plt"
   ]
  },
  {
   "cell_type": "code",
   "execution_count": 15,
   "id": "c6fa9f06-ba09-419b-b49b-f49797ae62db",
   "metadata": {},
   "outputs": [
    {
     "data": {
      "text/html": [
       "<div>\n",
       "<style scoped>\n",
       "    .dataframe tbody tr th:only-of-type {\n",
       "        vertical-align: middle;\n",
       "    }\n",
       "\n",
       "    .dataframe tbody tr th {\n",
       "        vertical-align: top;\n",
       "    }\n",
       "\n",
       "    .dataframe thead th {\n",
       "        text-align: right;\n",
       "    }\n",
       "</style>\n",
       "<table border=\"1\" class=\"dataframe\">\n",
       "  <thead>\n",
       "    <tr style=\"text-align: right;\">\n",
       "      <th></th>\n",
       "      <th>texto_preprocesado</th>\n",
       "      <th>num_neg</th>\n",
       "      <th>num_adj_neg</th>\n",
       "      <th>num_exclm</th>\n",
       "      <th>lang</th>\n",
       "      <th>sentimiento</th>\n",
       "      <th>lang+sentimiento</th>\n",
       "    </tr>\n",
       "    <tr>\n",
       "      <th>ID</th>\n",
       "      <th></th>\n",
       "      <th></th>\n",
       "      <th></th>\n",
       "      <th></th>\n",
       "      <th></th>\n",
       "      <th></th>\n",
       "      <th></th>\n",
       "    </tr>\n",
       "  </thead>\n",
       "  <tbody>\n",
       "    <tr>\n",
       "      <th>0</th>\n",
       "      <td>critico_NOUN mencionar_VERB oz_DET episodio_NO...</td>\n",
       "      <td>7</td>\n",
       "      <td>4</td>\n",
       "      <td>0</td>\n",
       "      <td>es</td>\n",
       "      <td>positivo</td>\n",
       "      <td>espositivo</td>\n",
       "    </tr>\n",
       "    <tr>\n",
       "      <th>1</th>\n",
       "      <td>pequén_ADJ pequén_ADJ produccion_PROPN tecnica...</td>\n",
       "      <td>2</td>\n",
       "      <td>0</td>\n",
       "      <td>2</td>\n",
       "      <td>es</td>\n",
       "      <td>positivo</td>\n",
       "      <td>espositivo</td>\n",
       "    </tr>\n",
       "    <tr>\n",
       "      <th>2</th>\n",
       "      <td>pense_VERB maravilloso_ADJ pasar_VERB tiempo_N...</td>\n",
       "      <td>2</td>\n",
       "      <td>0</td>\n",
       "      <td>1</td>\n",
       "      <td>es</td>\n",
       "      <td>positivo</td>\n",
       "      <td>espositivo</td>\n",
       "    </tr>\n",
       "    <tr>\n",
       "      <th>3</th>\n",
       "      <td>basicamente_ADV familia_NOUN nino_NOUN pequeno...</td>\n",
       "      <td>0</td>\n",
       "      <td>0</td>\n",
       "      <td>4</td>\n",
       "      <td>es</td>\n",
       "      <td>negativo</td>\n",
       "      <td>esnegativo</td>\n",
       "    </tr>\n",
       "    <tr>\n",
       "      <th>4</th>\n",
       "      <td>amor_NOUN tiempo_NOUN pelicula_NOUN visualment...</td>\n",
       "      <td>1</td>\n",
       "      <td>2</td>\n",
       "      <td>0</td>\n",
       "      <td>es</td>\n",
       "      <td>positivo</td>\n",
       "      <td>espositivo</td>\n",
       "    </tr>\n",
       "  </tbody>\n",
       "</table>\n",
       "</div>"
      ],
      "text/plain": [
       "                                   texto_preprocesado  num_neg  num_adj_neg  \\\n",
       "ID                                                                            \n",
       "0   critico_NOUN mencionar_VERB oz_DET episodio_NO...        7            4   \n",
       "1   pequén_ADJ pequén_ADJ produccion_PROPN tecnica...        2            0   \n",
       "2   pense_VERB maravilloso_ADJ pasar_VERB tiempo_N...        2            0   \n",
       "3   basicamente_ADV familia_NOUN nino_NOUN pequeno...        0            0   \n",
       "4   amor_NOUN tiempo_NOUN pelicula_NOUN visualment...        1            2   \n",
       "\n",
       "    num_exclm lang sentimiento lang+sentimiento  \n",
       "ID                                               \n",
       "0           0   es    positivo       espositivo  \n",
       "1           2   es    positivo       espositivo  \n",
       "2           1   es    positivo       espositivo  \n",
       "3           4   es    negativo       esnegativo  \n",
       "4           0   es    positivo       espositivo  "
      ]
     },
     "execution_count": 15,
     "metadata": {},
     "output_type": "execute_result"
    }
   ],
   "source": [
    "df = pd.read_csv('../../datasets/train-complejo.csv', index_col=0)\n",
    "df.head()"
   ]
  },
  {
   "cell_type": "code",
   "execution_count": 16,
   "id": "7681800a-72c7-46a6-bce2-4834a778c41d",
   "metadata": {},
   "outputs": [],
   "source": [
    "from sklearn.model_selection import train_test_split\n",
    "\n",
    "df['lang+sentimiento'] = df['lang'].astype(str) + df['sentimiento'].astype(str)\n",
    "\n",
    "X_train, X_test, y_train, y_test = train_test_split(df['texto_preprocesado'],\n",
    "                                                    df['sentimiento'],\n",
    "                                                    stratify=df['lang+sentimiento'],\n",
    "                                                    test_size=0.2,\n",
    "                                                    random_state=42)"
   ]
  },
  {
   "cell_type": "code",
   "execution_count": 19,
   "id": "c2597395-4243-4f26-b85f-e443bdfb00b7",
   "metadata": {},
   "outputs": [],
   "source": [
    "from sklearn.feature_extraction.text import TfidfVectorizer\n",
    "from sklearn.preprocessing import LabelEncoder\n",
    "\n",
    "vectorizer = TfidfVectorizer(ngram_range=(1, 2), min_df=30, max_df=0.9)\n",
    "encoder = LabelEncoder()\n",
    "\n",
    "X_train_trans = vectorizer.fit_transform(X_train)\n",
    "X_test_trans = vectorizer.transform(X_test)\n",
    "\n",
    "y_train_trans = encoder.fit_transform(y_train)\n",
    "y_test_trans = encoder.transform(y_test)"
   ]
  },
  {
   "cell_type": "code",
   "execution_count": null,
   "id": "3e70312d-7ac8-414c-99fe-1256f9c20ed5",
   "metadata": {},
   "outputs": [
    {
     "name": "stdout",
     "output_type": "stream",
     "text": [
      "0.2507561601450181\n",
      "0.24475600700087508\n",
      "0.23278071633954256\n",
      "0.23455584135516938\n",
      "0.22405553819227397\n",
      "0.22470551318914878\n",
      "0.21803034129266163\n",
      "0.2186053225403175\n",
      "0.21480523815476937\n",
      "0.21550536004500553\n",
      "0.21268025378172273\n",
      "0.21298029128641072\n",
      "0.2102552350293786\n",
      "0.21110521002625338\n",
      "0.20848015689461186\n"
     ]
    }
   ],
   "source": [
    "from sklearn.neighbors import KNeighborsClassifier\n",
    "from sklearn.model_selection import cross_val_score\n",
    "\n",
    "loss = []\n",
    "\n",
    "for i in range(10, 200, 5):\n",
    "    knn = KNeighborsClassifier(n_neighbors=i)\n",
    "    f1_score = cross_val_score(knn, X_train_trans, y_train_trans, cv=5, scoring='f1_micro')\n",
    "    f1_loss = 1 - f1_score.mean()\n",
    "    print(f1_loss)\n",
    "    loss.append(f1_loss)"
   ]
  },
  {
   "cell_type": "code",
   "execution_count": null,
   "id": "d4b6afae-2d4f-4e49-93e9-8eb335777cda",
   "metadata": {},
   "outputs": [],
   "source": [
    "plt.plot(range(10, 100, 5), loss, color='blue', linestyle='dashed', marker='o', markerfacecolor='red', markersize=10)\n",
    "\n",
    "plt.title('Error rate VS K Value')\n",
    "plt.xlabel('K')\n",
    "plt.ylabel('Error Rate')"
   ]
  }
 ],
 "metadata": {
  "kernelspec": {
   "display_name": "Python 3 (ipykernel)",
   "language": "python",
   "name": "python3"
  },
  "language_info": {
   "codemirror_mode": {
    "name": "ipython",
    "version": 3
   },
   "file_extension": ".py",
   "mimetype": "text/x-python",
   "name": "python",
   "nbconvert_exporter": "python",
   "pygments_lexer": "ipython3",
   "version": "3.11.9"
  }
 },
 "nbformat": 4,
 "nbformat_minor": 5
}
