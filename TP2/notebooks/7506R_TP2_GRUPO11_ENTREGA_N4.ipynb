{
 "cells": [
  {
   "cell_type": "markdown",
   "id": "9a598fb2-1f9d-4686-a0be-d23ccd7ec922",
   "metadata": {},
   "source": [
    "# Trabajo Práctico 2: Reseñas de Películas - XGBoost\n",
    "\n",
    "## Grupo 11 - \"Los Outliers\"\n",
    "\n",
    "- Castillo, Carlos\n",
    "- Destefanis, Juan Pablo\n",
    "- Gómez, Celeste"
   ]
  },
  {
   "cell_type": "code",
   "execution_count": 1,
   "id": "2340bc84-5857-42c1-a698-cdc040141470",
   "metadata": {},
   "outputs": [],
   "source": [
    "import pandas as pd\n",
    "import matplotlib.pyplot as plt\n",
    "import seaborn as sns\n",
    "\n",
    "sns.set_theme()\n",
    "sns.set_palette('colorblind')"
   ]
  },
  {
   "cell_type": "markdown",
   "id": "7f8b27ea-297e-4db7-bbca-c58e7eaa091c",
   "metadata": {},
   "source": [
    "Para este modelo probamos con diferentes técnicas de preprocesamiento y feature engineering, como por ejemplo, contar la cantidad de signos de exclamación, negaciones y adjetivos negativos en cada crítica, como el que utilizamos con Random Forest. Sin embargo al final terminamos obteniendo mejores resultados con los datasets más sencillos."
   ]
  },
  {
   "cell_type": "code",
   "execution_count": 2,
   "id": "200bcf1d-05de-4c67-8702-6e1f763c2888",
   "metadata": {},
   "outputs": [
    {
     "data": {
      "text/html": [
       "<div>\n",
       "<style scoped>\n",
       "    .dataframe tbody tr th:only-of-type {\n",
       "        vertical-align: middle;\n",
       "    }\n",
       "\n",
       "    .dataframe tbody tr th {\n",
       "        vertical-align: top;\n",
       "    }\n",
       "\n",
       "    .dataframe thead th {\n",
       "        text-align: right;\n",
       "    }\n",
       "</style>\n",
       "<table border=\"1\" class=\"dataframe\">\n",
       "  <thead>\n",
       "    <tr style=\"text-align: right;\">\n",
       "      <th></th>\n",
       "      <th>texto_preprocesado</th>\n",
       "      <th>lang</th>\n",
       "      <th>sentimiento</th>\n",
       "    </tr>\n",
       "    <tr>\n",
       "      <th>ID</th>\n",
       "      <th></th>\n",
       "      <th></th>\n",
       "      <th></th>\n",
       "    </tr>\n",
       "  </thead>\n",
       "  <tbody>\n",
       "    <tr>\n",
       "      <th>0</th>\n",
       "      <td>critico mencionar oz episodio estar enganchado...</td>\n",
       "      <td>es</td>\n",
       "      <td>positivo</td>\n",
       "    </tr>\n",
       "    <tr>\n",
       "      <th>1</th>\n",
       "      <td>pequén pequén produccion tecnica filmacion inc...</td>\n",
       "      <td>es</td>\n",
       "      <td>positivo</td>\n",
       "    </tr>\n",
       "    <tr>\n",
       "      <th>2</th>\n",
       "      <td>pense maravilloso pasar tiempo semana verano c...</td>\n",
       "      <td>es</td>\n",
       "      <td>positivo</td>\n",
       "    </tr>\n",
       "    <tr>\n",
       "      <th>3</th>\n",
       "      <td>basicamente familia nino pequeno jake pensar z...</td>\n",
       "      <td>es</td>\n",
       "      <td>negativo</td>\n",
       "    </tr>\n",
       "    <tr>\n",
       "      <th>4</th>\n",
       "      <td>amor tiempo petter mattei pelicula visualmente...</td>\n",
       "      <td>es</td>\n",
       "      <td>positivo</td>\n",
       "    </tr>\n",
       "  </tbody>\n",
       "</table>\n",
       "</div>"
      ],
      "text/plain": [
       "                                   texto_preprocesado lang sentimiento\n",
       "ID                                                                    \n",
       "0   critico mencionar oz episodio estar enganchado...   es    positivo\n",
       "1   pequén pequén produccion tecnica filmacion inc...   es    positivo\n",
       "2   pense maravilloso pasar tiempo semana verano c...   es    positivo\n",
       "3   basicamente familia nino pequeno jake pensar z...   es    negativo\n",
       "4   amor tiempo petter mattei pelicula visualmente...   es    positivo"
      ]
     },
     "execution_count": 2,
     "metadata": {},
     "output_type": "execute_result"
    }
   ],
   "source": [
    "df = pd.read_csv('../datasets/train-simple.csv', index_col=0)\n",
    "df.head()"
   ]
  },
  {
   "cell_type": "markdown",
   "id": "c35e9a9c-1e49-4efa-9288-3f549674b84a",
   "metadata": {},
   "source": [
    "Vamos a dividir el dataset en tres partes: training, validation y test, para así poder evaluar utilizar los conjuntos de validación durante el entrenamiento del XGBoost utilizando early stopping para evitar el overfitting. En este caso hacemos el stratify considerando tanto el idioma de la crítica como el sentimiento, para que de esta forma haya igual proporción de críticas en inglés en los tres conjuntos, así como también una igual proporción de críticas positivas y negativas en este idioma."
   ]
  },
  {
   "cell_type": "code",
   "execution_count": 3,
   "id": "a7abb94e-b050-4b96-925b-2c64945319a0",
   "metadata": {},
   "outputs": [],
   "source": [
    "df['lang+sentimiento'] = df['lang'].astype(str) + df['sentimiento'].astype(str)"
   ]
  },
  {
   "cell_type": "code",
   "execution_count": 4,
   "id": "294f1a2d-3bcc-4950-9920-b63b74ec907e",
   "metadata": {},
   "outputs": [],
   "source": [
    "from sklearn.model_selection import train_test_split\n",
    "\n",
    "X_train, X_test, y_train, y_test = train_test_split(df[['texto_preprocesado', 'lang+sentimiento']],\n",
    "                                                    df['sentimiento'],\n",
    "                                                    stratify=df['lang+sentimiento'],\n",
    "                                                    test_size=.2,\n",
    "                                                    random_state=1)\n",
    "\n",
    "X_train, X_valid, y_train, y_valid = train_test_split(X_train['texto_preprocesado'],\n",
    "                                                      y_train,\n",
    "                                                      stratify=X_train['lang+sentimiento'],\n",
    "                                                      test_size=.2,\n",
    "                                                      random_state=1)\n",
    "\n",
    "X_test = X_test['texto_preprocesado']"
   ]
  },
  {
   "cell_type": "markdown",
   "id": "3f8295be-687b-4c88-8bfc-3dcfd12eb114",
   "metadata": {},
   "source": [
    "Para este modelo probamos tres técnicas de tokenización y vectorización distintas: BoW, TF-IDF e hicimos un intento por utilizar embeddings preentrenadas a través del modelo [word2vec de la librería gensim](https://radimrehurek.com/gensim/models/word2vec.html). Sin embargo, con este último modelo el entrenamiento del modelo dilataba demasiado tiempo, por lo que desistimos en este intento. Entre los dos primeros métodos optimos por TF-IDF, ya que fué el que arrojó mejores resultados con los parámetros seleccionados.\n",
    "\n",
    "Notamos que mientras más incrementabamos la cantidad de ngramas, más overfitting experimentaba el modelo, debido a que aumentaba significativamente la complejidad del mismo. También incrementaba mucho el tiempo de entrenamiento.\n",
    "\n",
    "También convertimos las etiquetas a números ya que el modelo XGBoost solo puede trabajar con datos numéricos."
   ]
  },
  {
   "cell_type": "code",
   "execution_count": 5,
   "id": "5448b7bc-cd0b-4b09-ac83-99eb451a05b3",
   "metadata": {},
   "outputs": [],
   "source": [
    "from sklearn.feature_extraction.text import TfidfVectorizer\n",
    "from sklearn.preprocessing import LabelEncoder\n",
    "\n",
    "vectorizer = TfidfVectorizer(ngram_range=(1, 3), min_df=10)\n",
    "encoder = LabelEncoder()\n",
    "\n",
    "X_train_trans = vectorizer.fit_transform(X_train)\n",
    "X_valid_trans = vectorizer.transform(X_valid)\n",
    "X_test_trans = vectorizer.transform(X_test)\n",
    "\n",
    "y_train_trans = encoder.fit_transform(y_train)\n",
    "y_valid_trans = encoder.transform(y_valid)\n",
    "y_test_trans = encoder.transform(y_test)"
   ]
  },
  {
   "cell_type": "markdown",
   "id": "bdca61bc-19e6-4dea-a989-41f97dee5b27",
   "metadata": {},
   "source": [
    "## Entrenamiento"
   ]
  },
  {
   "cell_type": "markdown",
   "id": "7b6f5be6-5af4-4bbb-a8e9-e5502c69a393",
   "metadata": {},
   "source": [
    "En el caso de los hiperparámetros del modelo, utilizando grid search logramos acotar la búsqueda de los hiperparámetros al rango de valores que daba los mejores resultados. Finalmente tomamos los mejores modelos y terminamos llegando al siguiente conjunto de hiperparámetros:"
   ]
  },
  {
   "cell_type": "code",
   "execution_count": null,
   "id": "0975ab35-a965-41dc-be62-dfd808e23c37",
   "metadata": {},
   "outputs": [],
   "source": [
    "from xgboost import XGBClassifier\n",
    "\n",
    "xgb = XGBClassifier(n_estimators=500,\n",
    "                    learning_rate=0.3,\n",
    "                    reg_alpha=0.2,\n",
    "                    reg_lambda=0.2,\n",
    "                    gamma=4,\n",
    "                    max_depth=2,\n",
    "                    n_jobs=-1,\n",
    "                    objective='binary:logistic')\n",
    "\n",
    "xgb.fit(X_train_trans, y_train_trans, eval_set=[(X_valid_trans, y_valid_trans)])"
   ]
  },
  {
   "cell_type": "code",
   "execution_count": 7,
   "id": "f61ddb30-b1f4-4910-93b1-bc6fa763cd63",
   "metadata": {},
   "outputs": [
    {
     "data": {
      "text/html": [
       "<style>#sk-container-id-2 {\n",
       "  /* Definition of color scheme common for light and dark mode */\n",
       "  --sklearn-color-text: black;\n",
       "  --sklearn-color-line: gray;\n",
       "  /* Definition of color scheme for unfitted estimators */\n",
       "  --sklearn-color-unfitted-level-0: #fff5e6;\n",
       "  --sklearn-color-unfitted-level-1: #f6e4d2;\n",
       "  --sklearn-color-unfitted-level-2: #ffe0b3;\n",
       "  --sklearn-color-unfitted-level-3: chocolate;\n",
       "  /* Definition of color scheme for fitted estimators */\n",
       "  --sklearn-color-fitted-level-0: #f0f8ff;\n",
       "  --sklearn-color-fitted-level-1: #d4ebff;\n",
       "  --sklearn-color-fitted-level-2: #b3dbfd;\n",
       "  --sklearn-color-fitted-level-3: cornflowerblue;\n",
       "\n",
       "  /* Specific color for light theme */\n",
       "  --sklearn-color-text-on-default-background: var(--sg-text-color, var(--theme-code-foreground, var(--jp-content-font-color1, black)));\n",
       "  --sklearn-color-background: var(--sg-background-color, var(--theme-background, var(--jp-layout-color0, white)));\n",
       "  --sklearn-color-border-box: var(--sg-text-color, var(--theme-code-foreground, var(--jp-content-font-color1, black)));\n",
       "  --sklearn-color-icon: #696969;\n",
       "\n",
       "  @media (prefers-color-scheme: dark) {\n",
       "    /* Redefinition of color scheme for dark theme */\n",
       "    --sklearn-color-text-on-default-background: var(--sg-text-color, var(--theme-code-foreground, var(--jp-content-font-color1, white)));\n",
       "    --sklearn-color-background: var(--sg-background-color, var(--theme-background, var(--jp-layout-color0, #111)));\n",
       "    --sklearn-color-border-box: var(--sg-text-color, var(--theme-code-foreground, var(--jp-content-font-color1, white)));\n",
       "    --sklearn-color-icon: #878787;\n",
       "  }\n",
       "}\n",
       "\n",
       "#sk-container-id-2 {\n",
       "  color: var(--sklearn-color-text);\n",
       "}\n",
       "\n",
       "#sk-container-id-2 pre {\n",
       "  padding: 0;\n",
       "}\n",
       "\n",
       "#sk-container-id-2 input.sk-hidden--visually {\n",
       "  border: 0;\n",
       "  clip: rect(1px 1px 1px 1px);\n",
       "  clip: rect(1px, 1px, 1px, 1px);\n",
       "  height: 1px;\n",
       "  margin: -1px;\n",
       "  overflow: hidden;\n",
       "  padding: 0;\n",
       "  position: absolute;\n",
       "  width: 1px;\n",
       "}\n",
       "\n",
       "#sk-container-id-2 div.sk-dashed-wrapped {\n",
       "  border: 1px dashed var(--sklearn-color-line);\n",
       "  margin: 0 0.4em 0.5em 0.4em;\n",
       "  box-sizing: border-box;\n",
       "  padding-bottom: 0.4em;\n",
       "  background-color: var(--sklearn-color-background);\n",
       "}\n",
       "\n",
       "#sk-container-id-2 div.sk-container {\n",
       "  /* jupyter's `normalize.less` sets `[hidden] { display: none; }`\n",
       "     but bootstrap.min.css set `[hidden] { display: none !important; }`\n",
       "     so we also need the `!important` here to be able to override the\n",
       "     default hidden behavior on the sphinx rendered scikit-learn.org.\n",
       "     See: https://github.com/scikit-learn/scikit-learn/issues/21755 */\n",
       "  display: inline-block !important;\n",
       "  position: relative;\n",
       "}\n",
       "\n",
       "#sk-container-id-2 div.sk-text-repr-fallback {\n",
       "  display: none;\n",
       "}\n",
       "\n",
       "div.sk-parallel-item,\n",
       "div.sk-serial,\n",
       "div.sk-item {\n",
       "  /* draw centered vertical line to link estimators */\n",
       "  background-image: linear-gradient(var(--sklearn-color-text-on-default-background), var(--sklearn-color-text-on-default-background));\n",
       "  background-size: 2px 100%;\n",
       "  background-repeat: no-repeat;\n",
       "  background-position: center center;\n",
       "}\n",
       "\n",
       "/* Parallel-specific style estimator block */\n",
       "\n",
       "#sk-container-id-2 div.sk-parallel-item::after {\n",
       "  content: \"\";\n",
       "  width: 100%;\n",
       "  border-bottom: 2px solid var(--sklearn-color-text-on-default-background);\n",
       "  flex-grow: 1;\n",
       "}\n",
       "\n",
       "#sk-container-id-2 div.sk-parallel {\n",
       "  display: flex;\n",
       "  align-items: stretch;\n",
       "  justify-content: center;\n",
       "  background-color: var(--sklearn-color-background);\n",
       "  position: relative;\n",
       "}\n",
       "\n",
       "#sk-container-id-2 div.sk-parallel-item {\n",
       "  display: flex;\n",
       "  flex-direction: column;\n",
       "}\n",
       "\n",
       "#sk-container-id-2 div.sk-parallel-item:first-child::after {\n",
       "  align-self: flex-end;\n",
       "  width: 50%;\n",
       "}\n",
       "\n",
       "#sk-container-id-2 div.sk-parallel-item:last-child::after {\n",
       "  align-self: flex-start;\n",
       "  width: 50%;\n",
       "}\n",
       "\n",
       "#sk-container-id-2 div.sk-parallel-item:only-child::after {\n",
       "  width: 0;\n",
       "}\n",
       "\n",
       "/* Serial-specific style estimator block */\n",
       "\n",
       "#sk-container-id-2 div.sk-serial {\n",
       "  display: flex;\n",
       "  flex-direction: column;\n",
       "  align-items: center;\n",
       "  background-color: var(--sklearn-color-background);\n",
       "  padding-right: 1em;\n",
       "  padding-left: 1em;\n",
       "}\n",
       "\n",
       "\n",
       "/* Toggleable style: style used for estimator/Pipeline/ColumnTransformer box that is\n",
       "clickable and can be expanded/collapsed.\n",
       "- Pipeline and ColumnTransformer use this feature and define the default style\n",
       "- Estimators will overwrite some part of the style using the `sk-estimator` class\n",
       "*/\n",
       "\n",
       "/* Pipeline and ColumnTransformer style (default) */\n",
       "\n",
       "#sk-container-id-2 div.sk-toggleable {\n",
       "  /* Default theme specific background. It is overwritten whether we have a\n",
       "  specific estimator or a Pipeline/ColumnTransformer */\n",
       "  background-color: var(--sklearn-color-background);\n",
       "}\n",
       "\n",
       "/* Toggleable label */\n",
       "#sk-container-id-2 label.sk-toggleable__label {\n",
       "  cursor: pointer;\n",
       "  display: block;\n",
       "  width: 100%;\n",
       "  margin-bottom: 0;\n",
       "  padding: 0.5em;\n",
       "  box-sizing: border-box;\n",
       "  text-align: center;\n",
       "}\n",
       "\n",
       "#sk-container-id-2 label.sk-toggleable__label-arrow:before {\n",
       "  /* Arrow on the left of the label */\n",
       "  content: \"▸\";\n",
       "  float: left;\n",
       "  margin-right: 0.25em;\n",
       "  color: var(--sklearn-color-icon);\n",
       "}\n",
       "\n",
       "#sk-container-id-2 label.sk-toggleable__label-arrow:hover:before {\n",
       "  color: var(--sklearn-color-text);\n",
       "}\n",
       "\n",
       "/* Toggleable content - dropdown */\n",
       "\n",
       "#sk-container-id-2 div.sk-toggleable__content {\n",
       "  max-height: 0;\n",
       "  max-width: 0;\n",
       "  overflow: hidden;\n",
       "  text-align: left;\n",
       "  /* unfitted */\n",
       "  background-color: var(--sklearn-color-unfitted-level-0);\n",
       "}\n",
       "\n",
       "#sk-container-id-2 div.sk-toggleable__content.fitted {\n",
       "  /* fitted */\n",
       "  background-color: var(--sklearn-color-fitted-level-0);\n",
       "}\n",
       "\n",
       "#sk-container-id-2 div.sk-toggleable__content pre {\n",
       "  margin: 0.2em;\n",
       "  border-radius: 0.25em;\n",
       "  color: var(--sklearn-color-text);\n",
       "  /* unfitted */\n",
       "  background-color: var(--sklearn-color-unfitted-level-0);\n",
       "}\n",
       "\n",
       "#sk-container-id-2 div.sk-toggleable__content.fitted pre {\n",
       "  /* unfitted */\n",
       "  background-color: var(--sklearn-color-fitted-level-0);\n",
       "}\n",
       "\n",
       "#sk-container-id-2 input.sk-toggleable__control:checked~div.sk-toggleable__content {\n",
       "  /* Expand drop-down */\n",
       "  max-height: 200px;\n",
       "  max-width: 100%;\n",
       "  overflow: auto;\n",
       "}\n",
       "\n",
       "#sk-container-id-2 input.sk-toggleable__control:checked~label.sk-toggleable__label-arrow:before {\n",
       "  content: \"▾\";\n",
       "}\n",
       "\n",
       "/* Pipeline/ColumnTransformer-specific style */\n",
       "\n",
       "#sk-container-id-2 div.sk-label input.sk-toggleable__control:checked~label.sk-toggleable__label {\n",
       "  color: var(--sklearn-color-text);\n",
       "  background-color: var(--sklearn-color-unfitted-level-2);\n",
       "}\n",
       "\n",
       "#sk-container-id-2 div.sk-label.fitted input.sk-toggleable__control:checked~label.sk-toggleable__label {\n",
       "  background-color: var(--sklearn-color-fitted-level-2);\n",
       "}\n",
       "\n",
       "/* Estimator-specific style */\n",
       "\n",
       "/* Colorize estimator box */\n",
       "#sk-container-id-2 div.sk-estimator input.sk-toggleable__control:checked~label.sk-toggleable__label {\n",
       "  /* unfitted */\n",
       "  background-color: var(--sklearn-color-unfitted-level-2);\n",
       "}\n",
       "\n",
       "#sk-container-id-2 div.sk-estimator.fitted input.sk-toggleable__control:checked~label.sk-toggleable__label {\n",
       "  /* fitted */\n",
       "  background-color: var(--sklearn-color-fitted-level-2);\n",
       "}\n",
       "\n",
       "#sk-container-id-2 div.sk-label label.sk-toggleable__label,\n",
       "#sk-container-id-2 div.sk-label label {\n",
       "  /* The background is the default theme color */\n",
       "  color: var(--sklearn-color-text-on-default-background);\n",
       "}\n",
       "\n",
       "/* On hover, darken the color of the background */\n",
       "#sk-container-id-2 div.sk-label:hover label.sk-toggleable__label {\n",
       "  color: var(--sklearn-color-text);\n",
       "  background-color: var(--sklearn-color-unfitted-level-2);\n",
       "}\n",
       "\n",
       "/* Label box, darken color on hover, fitted */\n",
       "#sk-container-id-2 div.sk-label.fitted:hover label.sk-toggleable__label.fitted {\n",
       "  color: var(--sklearn-color-text);\n",
       "  background-color: var(--sklearn-color-fitted-level-2);\n",
       "}\n",
       "\n",
       "/* Estimator label */\n",
       "\n",
       "#sk-container-id-2 div.sk-label label {\n",
       "  font-family: monospace;\n",
       "  font-weight: bold;\n",
       "  display: inline-block;\n",
       "  line-height: 1.2em;\n",
       "}\n",
       "\n",
       "#sk-container-id-2 div.sk-label-container {\n",
       "  text-align: center;\n",
       "}\n",
       "\n",
       "/* Estimator-specific */\n",
       "#sk-container-id-2 div.sk-estimator {\n",
       "  font-family: monospace;\n",
       "  border: 1px dotted var(--sklearn-color-border-box);\n",
       "  border-radius: 0.25em;\n",
       "  box-sizing: border-box;\n",
       "  margin-bottom: 0.5em;\n",
       "  /* unfitted */\n",
       "  background-color: var(--sklearn-color-unfitted-level-0);\n",
       "}\n",
       "\n",
       "#sk-container-id-2 div.sk-estimator.fitted {\n",
       "  /* fitted */\n",
       "  background-color: var(--sklearn-color-fitted-level-0);\n",
       "}\n",
       "\n",
       "/* on hover */\n",
       "#sk-container-id-2 div.sk-estimator:hover {\n",
       "  /* unfitted */\n",
       "  background-color: var(--sklearn-color-unfitted-level-2);\n",
       "}\n",
       "\n",
       "#sk-container-id-2 div.sk-estimator.fitted:hover {\n",
       "  /* fitted */\n",
       "  background-color: var(--sklearn-color-fitted-level-2);\n",
       "}\n",
       "\n",
       "/* Specification for estimator info (e.g. \"i\" and \"?\") */\n",
       "\n",
       "/* Common style for \"i\" and \"?\" */\n",
       "\n",
       ".sk-estimator-doc-link,\n",
       "a:link.sk-estimator-doc-link,\n",
       "a:visited.sk-estimator-doc-link {\n",
       "  float: right;\n",
       "  font-size: smaller;\n",
       "  line-height: 1em;\n",
       "  font-family: monospace;\n",
       "  background-color: var(--sklearn-color-background);\n",
       "  border-radius: 1em;\n",
       "  height: 1em;\n",
       "  width: 1em;\n",
       "  text-decoration: none !important;\n",
       "  margin-left: 1ex;\n",
       "  /* unfitted */\n",
       "  border: var(--sklearn-color-unfitted-level-1) 1pt solid;\n",
       "  color: var(--sklearn-color-unfitted-level-1);\n",
       "}\n",
       "\n",
       ".sk-estimator-doc-link.fitted,\n",
       "a:link.sk-estimator-doc-link.fitted,\n",
       "a:visited.sk-estimator-doc-link.fitted {\n",
       "  /* fitted */\n",
       "  border: var(--sklearn-color-fitted-level-1) 1pt solid;\n",
       "  color: var(--sklearn-color-fitted-level-1);\n",
       "}\n",
       "\n",
       "/* On hover */\n",
       "div.sk-estimator:hover .sk-estimator-doc-link:hover,\n",
       ".sk-estimator-doc-link:hover,\n",
       "div.sk-label-container:hover .sk-estimator-doc-link:hover,\n",
       ".sk-estimator-doc-link:hover {\n",
       "  /* unfitted */\n",
       "  background-color: var(--sklearn-color-unfitted-level-3);\n",
       "  color: var(--sklearn-color-background);\n",
       "  text-decoration: none;\n",
       "}\n",
       "\n",
       "div.sk-estimator.fitted:hover .sk-estimator-doc-link.fitted:hover,\n",
       ".sk-estimator-doc-link.fitted:hover,\n",
       "div.sk-label-container:hover .sk-estimator-doc-link.fitted:hover,\n",
       ".sk-estimator-doc-link.fitted:hover {\n",
       "  /* fitted */\n",
       "  background-color: var(--sklearn-color-fitted-level-3);\n",
       "  color: var(--sklearn-color-background);\n",
       "  text-decoration: none;\n",
       "}\n",
       "\n",
       "/* Span, style for the box shown on hovering the info icon */\n",
       ".sk-estimator-doc-link span {\n",
       "  display: none;\n",
       "  z-index: 9999;\n",
       "  position: relative;\n",
       "  font-weight: normal;\n",
       "  right: .2ex;\n",
       "  padding: .5ex;\n",
       "  margin: .5ex;\n",
       "  width: min-content;\n",
       "  min-width: 20ex;\n",
       "  max-width: 50ex;\n",
       "  color: var(--sklearn-color-text);\n",
       "  box-shadow: 2pt 2pt 4pt #999;\n",
       "  /* unfitted */\n",
       "  background: var(--sklearn-color-unfitted-level-0);\n",
       "  border: .5pt solid var(--sklearn-color-unfitted-level-3);\n",
       "}\n",
       "\n",
       ".sk-estimator-doc-link.fitted span {\n",
       "  /* fitted */\n",
       "  background: var(--sklearn-color-fitted-level-0);\n",
       "  border: var(--sklearn-color-fitted-level-3);\n",
       "}\n",
       "\n",
       ".sk-estimator-doc-link:hover span {\n",
       "  display: block;\n",
       "}\n",
       "\n",
       "/* \"?\"-specific style due to the `<a>` HTML tag */\n",
       "\n",
       "#sk-container-id-2 a.estimator_doc_link {\n",
       "  float: right;\n",
       "  font-size: 1rem;\n",
       "  line-height: 1em;\n",
       "  font-family: monospace;\n",
       "  background-color: var(--sklearn-color-background);\n",
       "  border-radius: 1rem;\n",
       "  height: 1rem;\n",
       "  width: 1rem;\n",
       "  text-decoration: none;\n",
       "  /* unfitted */\n",
       "  color: var(--sklearn-color-unfitted-level-1);\n",
       "  border: var(--sklearn-color-unfitted-level-1) 1pt solid;\n",
       "}\n",
       "\n",
       "#sk-container-id-2 a.estimator_doc_link.fitted {\n",
       "  /* fitted */\n",
       "  border: var(--sklearn-color-fitted-level-1) 1pt solid;\n",
       "  color: var(--sklearn-color-fitted-level-1);\n",
       "}\n",
       "\n",
       "/* On hover */\n",
       "#sk-container-id-2 a.estimator_doc_link:hover {\n",
       "  /* unfitted */\n",
       "  background-color: var(--sklearn-color-unfitted-level-3);\n",
       "  color: var(--sklearn-color-background);\n",
       "  text-decoration: none;\n",
       "}\n",
       "\n",
       "#sk-container-id-2 a.estimator_doc_link.fitted:hover {\n",
       "  /* fitted */\n",
       "  background-color: var(--sklearn-color-fitted-level-3);\n",
       "}\n",
       "</style><div id=\"sk-container-id-2\" class=\"sk-top-container\"><div class=\"sk-text-repr-fallback\"><pre>XGBClassifier(base_score=None, booster=None, callbacks=None,\n",
       "              colsample_bylevel=None, colsample_bynode=None,\n",
       "              colsample_bytree=None, device=None, early_stopping_rounds=None,\n",
       "              enable_categorical=False, eval_metric=None, feature_types=None,\n",
       "              gamma=4, grow_policy=None, importance_type=None,\n",
       "              interaction_constraints=None, learning_rate=0.3, max_bin=None,\n",
       "              max_cat_threshold=None, max_cat_to_onehot=None,\n",
       "              max_delta_step=None, max_depth=2, max_leaves=None,\n",
       "              min_child_weight=None, missing=nan, monotone_constraints=None,\n",
       "              multi_strategy=None, n_estimators=500, n_jobs=-1,\n",
       "              num_parallel_tree=None, random_state=None, ...)</pre><b>In a Jupyter environment, please rerun this cell to show the HTML representation or trust the notebook. <br />On GitHub, the HTML representation is unable to render, please try loading this page with nbviewer.org.</b></div><div class=\"sk-container\" hidden><div class=\"sk-item\"><div class=\"sk-estimator fitted sk-toggleable\"><input class=\"sk-toggleable__control sk-hidden--visually\" id=\"sk-estimator-id-2\" type=\"checkbox\" checked><label for=\"sk-estimator-id-2\" class=\"sk-toggleable__label fitted sk-toggleable__label-arrow fitted\">&nbsp;XGBClassifier<span class=\"sk-estimator-doc-link fitted\">i<span>Fitted</span></span></label><div class=\"sk-toggleable__content fitted\"><pre>XGBClassifier(base_score=None, booster=None, callbacks=None,\n",
       "              colsample_bylevel=None, colsample_bynode=None,\n",
       "              colsample_bytree=None, device=None, early_stopping_rounds=None,\n",
       "              enable_categorical=False, eval_metric=None, feature_types=None,\n",
       "              gamma=4, grow_policy=None, importance_type=None,\n",
       "              interaction_constraints=None, learning_rate=0.3, max_bin=None,\n",
       "              max_cat_threshold=None, max_cat_to_onehot=None,\n",
       "              max_delta_step=None, max_depth=2, max_leaves=None,\n",
       "              min_child_weight=None, missing=nan, monotone_constraints=None,\n",
       "              multi_strategy=None, n_estimators=500, n_jobs=-1,\n",
       "              num_parallel_tree=None, random_state=None, ...)</pre></div> </div></div></div></div>"
      ],
      "text/plain": [
       "XGBClassifier(base_score=None, booster=None, callbacks=None,\n",
       "              colsample_bylevel=None, colsample_bynode=None,\n",
       "              colsample_bytree=None, device=None, early_stopping_rounds=None,\n",
       "              enable_categorical=False, eval_metric=None, feature_types=None,\n",
       "              gamma=4, grow_policy=None, importance_type=None,\n",
       "              interaction_constraints=None, learning_rate=0.3, max_bin=None,\n",
       "              max_cat_threshold=None, max_cat_to_onehot=None,\n",
       "              max_delta_step=None, max_depth=2, max_leaves=None,\n",
       "              min_child_weight=None, missing=nan, monotone_constraints=None,\n",
       "              multi_strategy=None, n_estimators=500, n_jobs=-1,\n",
       "              num_parallel_tree=None, random_state=None, ...)"
      ]
     },
     "execution_count": 7,
     "metadata": {},
     "output_type": "execute_result"
    }
   ],
   "source": [
    "xgb"
   ]
  },
  {
   "cell_type": "markdown",
   "id": "7a92743c-faba-40e1-82ed-e4e2cd72203c",
   "metadata": {},
   "source": [
    "Al incrementar la cantidad de estimadores y reducir la profundidad de los mismos logramos reducir significativamente los niveles de overfitting que mostraban los primeros modelos candidatos arrojados por el grid search. Así mismo, la inclusión de los parámetros de regularización alpha, lambda y gamma ayudó a combatir este mismo problema. El valor del learning rate fue ajustado constantemente y finalmente el elegido resultó dar un buen balance entre velocidad de entrenamiento, evitar que el mismo sufriera de \"graddient exploding\" y prevenir el underfitting."
   ]
  },
  {
   "cell_type": "markdown",
   "id": "1099a40f-ee50-4e1f-be5b-23cc8bc9f3f6",
   "metadata": {},
   "source": [
    "## Evaluación"
   ]
  },
  {
   "cell_type": "markdown",
   "id": "e3e42b1b-289a-4c19-b0f3-b0d3830dcfa1",
   "metadata": {},
   "source": [
    "Finalmente, las métricas del que resultó ser el mejor modelo en los tres conjuntos fueron las siguientes:"
   ]
  },
  {
   "cell_type": "code",
   "execution_count": 8,
   "id": "fc9536ed-e6a8-4b49-b025-203d1812e8c0",
   "metadata": {},
   "outputs": [
    {
     "name": "stdout",
     "output_type": "stream",
     "text": [
      "              precision    recall  f1-score   support\n",
      "\n",
      "           0       0.92      0.88      0.90     16000\n",
      "           1       0.88      0.92      0.90     15999\n",
      "\n",
      "    accuracy                           0.90     31999\n",
      "   macro avg       0.90      0.90      0.90     31999\n",
      "weighted avg       0.90      0.90      0.90     31999\n",
      "\n"
     ]
    }
   ],
   "source": [
    "from sklearn.metrics import classification_report\n",
    "\n",
    "y_train_pred = xgb.predict(X_train_trans)\n",
    "print(classification_report(y_train_trans, y_train_pred))"
   ]
  },
  {
   "cell_type": "code",
   "execution_count": 9,
   "id": "08c47ec6-8e7d-40df-99f8-6b1ffb690b23",
   "metadata": {},
   "outputs": [
    {
     "name": "stdout",
     "output_type": "stream",
     "text": [
      "              precision    recall  f1-score   support\n",
      "\n",
      "           0       0.85      0.82      0.84      4000\n",
      "           1       0.83      0.86      0.84      4000\n",
      "\n",
      "    accuracy                           0.84      8000\n",
      "   macro avg       0.84      0.84      0.84      8000\n",
      "weighted avg       0.84      0.84      0.84      8000\n",
      "\n"
     ]
    }
   ],
   "source": [
    "y_valid_pred = xgb.predict(X_valid_trans)\n",
    "print(classification_report(y_valid_trans, y_valid_pred))"
   ]
  },
  {
   "cell_type": "code",
   "execution_count": 10,
   "id": "c538f1d5-f518-40dc-a7b0-fea73cbd35f5",
   "metadata": {},
   "outputs": [
    {
     "name": "stdout",
     "output_type": "stream",
     "text": [
      "              precision    recall  f1-score   support\n",
      "\n",
      "           0       0.86      0.83      0.85      5000\n",
      "           1       0.84      0.87      0.85      5000\n",
      "\n",
      "    accuracy                           0.85     10000\n",
      "   macro avg       0.85      0.85      0.85     10000\n",
      "weighted avg       0.85      0.85      0.85     10000\n",
      "\n"
     ]
    }
   ],
   "source": [
    "y_test_pred = xgb.predict(X_test_trans)\n",
    "print(classification_report(y_test_trans, y_test_pred))"
   ]
  },
  {
   "cell_type": "markdown",
   "id": "a6b297c2-5e15-4d3e-aa63-5a0a481aff43",
   "metadata": {},
   "source": [
    "En base a los resultados del modelo frente a datos que no ha visto antes podemos llegar a concluir que el modelo hace un buen trabajo evitando el overfitting excesivo. Las métricas son altas y relativamente cercanas a los resultados obtenidos en el mismo dataset en el que fue entrenado, por lo que consideramos que esta versión del modelo a la que llegamos hace un buen trabajo generalizando."
   ]
  },
  {
   "cell_type": "code",
   "execution_count": 11,
   "id": "35895293-8253-45a0-9513-047d136a26d4",
   "metadata": {},
   "outputs": [
    {
     "data": {
      "image/png": "[encoded data removed]",
      "text/plain": [
       "<Figure size 640x480 with 2 Axes>"
      ]
     },
     "metadata": {},
     "output_type": "display_data"
    }
   ],
   "source": [
    "from sklearn.metrics import confusion_matrix\n",
    "\n",
    "sns.heatmap(confusion_matrix(y_test_trans, y_test_pred), cmap='Blues', annot=True, fmt='g').set(title='Matriz de confusión de resultados del set de test')\n",
    "plt.show()"
   ]
  },
  {
   "cell_type": "markdown",
   "id": "b4d10a40-4c54-4577-b29c-d8443e50abab",
   "metadata": {},
   "source": [
    "La matriz de confusión de los resultados sobre el conjunto de test verifican nuestra idea de que el modelo tiene buen desempeño por la poca cantidad de falsos positivos y falsos negativos."
   ]
  },
  {
   "cell_type": "markdown",
   "id": "0419f90d-d593-4ede-83ba-984b519f4d9a",
   "metadata": {},
   "source": [
    "Finalmente obtenemos la métrica accuracy para observar el resultado."
   ]
  },
  {
   "cell_type": "code",
   "execution_count": 14,
   "id": "d1165ff3-5156-4f3e-b4af-0446b9fc4d8e",
   "metadata": {},
   "outputs": [
    {
     "data": {
      "text/plain": [
       "0.8486"
      ]
     },
     "execution_count": 14,
     "metadata": {},
     "output_type": "execute_result"
    }
   ],
   "source": [
    "from sklearn.metrics import accuracy_score\n",
    "\n",
    "accuracy_score(y_test_trans, y_test_pred)"
   ]
  },
  {
   "cell_type": "markdown",
   "id": "832fe88a-223a-4853-b520-2c80aede9849",
   "metadata": {},
   "source": [
    "## Predicciones"
   ]
  },
  {
   "cell_type": "markdown",
   "id": "91d0a3ec-6d79-4b6d-8583-86ab7b5295b1",
   "metadata": {},
   "source": [
    "Hacemos las predicciones para subir a la competencia de Kaggle. Para esto vamos a reentrenar el modelo sobre el dataset completo para que tenga un mejor rendimiento."
   ]
  },
  {
   "cell_type": "code",
   "execution_count": 27,
   "id": "1842dbd6-d881-4869-a9f8-e17fa27dd4a0",
   "metadata": {},
   "outputs": [],
   "source": [
    "X_full_trans = vectorizer.fit_transform(df['texto_preprocesado'])\n",
    "y_full_trans = encoder.fit_transform(df['sentimiento'])"
   ]
  },
  {
   "cell_type": "code",
   "execution_count": 28,
   "id": "26256df0-e9fa-4886-a89e-f5e6b569a370",
   "metadata": {},
   "outputs": [],
   "source": [
    "xgb = xgb.fit(X_full_trans, y_full_trans)"
   ]
  },
  {
   "cell_type": "code",
   "execution_count": 29,
   "id": "3341fe66-2027-4dea-8d6c-af9bf2feec6f",
   "metadata": {},
   "outputs": [],
   "source": [
    "kaggle_df = pd.read_csv('../datasets/test-simple.csv', index_col=0)\n",
    "kaggle_df['sentimiento'] = encoder.inverse_transform(xgb.predict(vectorizer.transform(kaggle_df['texto_preprocesado'])))"
   ]
  },
  {
   "cell_type": "code",
   "execution_count": 30,
   "id": "23fe2144-cfe5-4d5b-87d5-7ae76ab55126",
   "metadata": {},
   "outputs": [
    {
     "data": {
      "text/plain": [
       "ID\n",
       "60000    negativo\n",
       "60001    negativo\n",
       "60002    negativo\n",
       "60003    negativo\n",
       "60004    negativo\n",
       "           ...   \n",
       "68594    positivo\n",
       "68595    negativo\n",
       "68596    positivo\n",
       "68597    negativo\n",
       "68598    negativo\n",
       "Name: sentimiento, Length: 8599, dtype: object"
      ]
     },
     "execution_count": 30,
     "metadata": {},
     "output_type": "execute_result"
    }
   ],
   "source": [
    "kaggle_df['sentimiento']"
   ]
  },
  {
   "cell_type": "code",
   "execution_count": 31,
   "id": "f7eca5b6-7861-4ad5-8861-0cce30438b36",
   "metadata": {},
   "outputs": [],
   "source": [
    "kaggle_df['sentimiento'].to_csv('../predicciones/xgboost-final.csv')"
   ]
  },
  {
   "cell_type": "markdown",
   "id": "ae4f5858-8907-47cf-bcf1-262122e52f1e",
   "metadata": {},
   "source": [
    "## Guardado del Modelo"
   ]
  },
  {
   "cell_type": "markdown",
   "id": "0c4de7bd-c4e4-477d-a52a-3f5dee1a51e9",
   "metadata": {},
   "source": [
    "Exportamos el modelo para que pueda ser utilizado nuevamente sin necesidad de ser re-entrenado."
   ]
  },
  {
   "cell_type": "code",
   "execution_count": 32,
   "id": "1df24147-021b-44df-9c2f-4c62aeabcfb9",
   "metadata": {},
   "outputs": [
    {
     "data": {
      "text/plain": [
       "['../modelos/xgboost.joblib']"
      ]
     },
     "execution_count": 32,
     "metadata": {},
     "output_type": "execute_result"
    }
   ],
   "source": [
    "from joblib import dump\n",
    "\n",
    "dump(xgb, '../modelos/xgboost.joblib', compress=True)"
   ]
  }
 ],
 "metadata": {
  "kernelspec": {
   "display_name": "Python 3 (ipykernel)",
   "language": "python",
   "name": "python3"
  },
  "language_info": {
   "codemirror_mode": {
    "name": "ipython",
    "version": 3
   },
   "file_extension": ".py",
   "mimetype": "text/x-python",
   "name": "python",
   "nbconvert_exporter": "python",
   "pygments_lexer": "ipython3",
   "version": "3.11.9"
  }
 },
 "nbformat": 4,
 "nbformat_minor": 5
}
