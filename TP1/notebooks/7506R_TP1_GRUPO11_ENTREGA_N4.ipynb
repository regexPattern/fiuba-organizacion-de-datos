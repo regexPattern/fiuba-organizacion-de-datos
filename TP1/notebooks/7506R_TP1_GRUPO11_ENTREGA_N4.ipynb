{
  "cells": [
    {
      "cell_type": "markdown",
      "metadata": {
        "id": "_ZqgQHYyv-Nx"
      },
      "source": [
        "# Trabajo Práctico 1: Propiedades en Venta - Support Vector Machine\n",
        "\n",
        "## Grupo 11 - \"Los Outliers\"\n",
        "- Castillo, Carlos\n",
        "- Destefanis, Juan Pablo\n",
        "- Gómez, Celeste"
      ]
    },
    {
      "cell_type": "markdown",
      "metadata": {
        "id": "fFjWlRCGwIGt"
      },
      "source": [
        "# Setup Inicial"
      ]
    },
    {
      "cell_type": "code",
      "execution_count": 47,
      "metadata": {
        "id": "j9fOaA8Q0noM"
      },
      "outputs": [],
      "source": [
        "import pandas as pd\n",
        "import numpy as np\n",
        "import matplotlib.pyplot as plt\n",
        "import seaborn as sns"
      ]
    },
    {
      "cell_type": "code",
      "execution_count": 48,
      "metadata": {
        "id": "003pTc5g1Hlb"
      },
      "outputs": [],
      "source": [
        "sns.set_theme()\n",
        "sns.set_palette(\"colorblind\")"
      ]
    },
    {
      "cell_type": "markdown",
      "metadata": {
        "id": "Oc1haNZ9wK23"
      },
      "source": [
        "Trabajamos con el dataset ya modificado luego de las operaciones de preprocesamiento que se hicieron para el checkpoint 1."
      ]
    },
    {
      "cell_type": "code",
      "execution_count": 49,
      "metadata": {
        "id": "6Bu8832K1KN5"
      },
      "outputs": [],
      "source": [
        "df = pd.read_csv(\"propiedades.csv\", index_col=0)"
      ]
    },
    {
      "cell_type": "markdown",
      "metadata": {
        "id": "Qy7HTlOHwTJS"
      },
      "source": [
        "# Transformación de Datos"
      ]
    },
    {
      "cell_type": "markdown",
      "metadata": {
        "id": "qlTHYTPTwXsN"
      },
      "source": [
        "Las Support Vector Machines no pueden trabajar con datos categóricos, sin embargo queremos tenerlos en cuenta durante al análisis. Para esto debemos transformar las categorías en datos numéricos utilizando OneHot Encoding. Dropeamos la primera columna ya que no es necesario agregar esta columna adicional si consideramos a un registro con todos 0 como perteneciente a la categoría de la columna eliminada."
      ]
    },
    {
      "cell_type": "code",
      "execution_count": 50,
      "metadata": {
        "id": "pw7xEt92X2WQ"
      },
      "outputs": [],
      "source": [
        "df_dummies = pd.get_dummies(df, columns=[\"property_type\", \"neighbourhood\"], drop_first=True)"
      ]
    },
    {
      "cell_type": "markdown",
      "metadata": {
        "id": "hopsCYb0w2nR"
      },
      "source": [
        "Las columnas con las que nos queda nuestro dataset son todas las que ya teníamos con anterioridad más una categoría por cada barrio, con el nombre del barrio antecedido por `neighbourhood_` y una categoría para cada tipo de propiedad, antecedido por `property_type_`. Nótese que se eliminaron las columnas categóricas originales correspondientes."
      ]
    },
    {
      "cell_type": "code",
      "execution_count": 51,
      "metadata": {
        "colab": {
          "base_uri": "https://localhost:8080/"
        },
        "id": "gMo3qYgKc9XW",
        "outputId": "4ae83ee1-7a43-457d-dc89-f0f0e9c80b9c"
      },
      "outputs": [
        {
          "output_type": "execute_result",
          "data": {
            "text/plain": [
              "Index(['id', 'start_date', 'end_date', 'latitud', 'longitud', 'property_rooms',\n",
              "       'property_bedrooms', 'property_surface_total',\n",
              "       'property_surface_covered', 'property_price', 'property_title',\n",
              "       'precio_m2', 'tipo_precio', 'property_type_Departamento',\n",
              "       'property_type_PH', 'neighbourhood_Agronomía', 'neighbourhood_Almagro',\n",
              "       'neighbourhood_Balvanera', 'neighbourhood_Barracas',\n",
              "       'neighbourhood_Barrio Norte', 'neighbourhood_Belgrano',\n",
              "       'neighbourhood_Boca', 'neighbourhood_Boedo', 'neighbourhood_Caballito',\n",
              "       'neighbourhood_Catalinas', 'neighbourhood_Centro / Microcentro',\n",
              "       'neighbourhood_Chacarita', 'neighbourhood_Coghlan',\n",
              "       'neighbourhood_Colegiales', 'neighbourhood_Congreso',\n",
              "       'neighbourhood_Constitución', 'neighbourhood_Flores',\n",
              "       'neighbourhood_Floresta', 'neighbourhood_Las Cañitas',\n",
              "       'neighbourhood_Liniers', 'neighbourhood_Mataderos',\n",
              "       'neighbourhood_Monserrat', 'neighbourhood_Monte Castro',\n",
              "       'neighbourhood_Nuñez', 'neighbourhood_Once', 'neighbourhood_Palermo',\n",
              "       'neighbourhood_Parque Avellaneda', 'neighbourhood_Parque Centenario',\n",
              "       'neighbourhood_Parque Chacabuco', 'neighbourhood_Parque Chas',\n",
              "       'neighbourhood_Parque Patricios', 'neighbourhood_Paternal',\n",
              "       'neighbourhood_Pompeya', 'neighbourhood_Puerto Madero',\n",
              "       'neighbourhood_Recoleta', 'neighbourhood_Retiro',\n",
              "       'neighbourhood_Saavedra', 'neighbourhood_San Cristobal',\n",
              "       'neighbourhood_San Nicolás', 'neighbourhood_San Telmo',\n",
              "       'neighbourhood_Tribunales', 'neighbourhood_Velez Sarsfield',\n",
              "       'neighbourhood_Versalles', 'neighbourhood_Villa Crespo',\n",
              "       'neighbourhood_Villa Devoto', 'neighbourhood_Villa General Mitre',\n",
              "       'neighbourhood_Villa Lugano', 'neighbourhood_Villa Luro',\n",
              "       'neighbourhood_Villa Ortuzar', 'neighbourhood_Villa Pueyrredón',\n",
              "       'neighbourhood_Villa Real', 'neighbourhood_Villa Riachuelo',\n",
              "       'neighbourhood_Villa Santa Rita', 'neighbourhood_Villa Soldati',\n",
              "       'neighbourhood_Villa Urquiza', 'neighbourhood_Villa del Parque'],\n",
              "      dtype='object')"
            ]
          },
          "metadata": {},
          "execution_count": 51
        }
      ],
      "source": [
        "df_dummies.columns"
      ]
    },
    {
      "cell_type": "code",
      "execution_count": 52,
      "metadata": {
        "id": "V1Cz2hkvc-zQ"
      },
      "outputs": [],
      "source": [
        "df = df_dummies"
      ]
    },
    {
      "cell_type": "code",
      "execution_count": 53,
      "metadata": {
        "id": "X3DwvEzX38J8"
      },
      "outputs": [],
      "source": [
        "from sklearn.model_selection import train_test_split\n",
        "\n",
        "onehot_cols = [col for col in df.columns if col.startswith((\"property_type_\",\"neighbourhood_\"))]\n",
        "num_cols = [\"property_rooms\", \"property_bedrooms\", \"property_surface_total\", \"property_surface_covered\"]\n",
        "\n",
        "X = df[onehot_cols + num_cols]\n",
        "y = df[\"tipo_precio\"]\n",
        "\n",
        "X_train, X_test, y_train, y_test = train_test_split(X, y, test_size=0.20, random_state=137)"
      ]
    },
    {
      "cell_type": "markdown",
      "metadata": {
        "id": "N3mEyuPpxQcX"
      },
      "source": [
        "También se hará uso de la técnica de scaling, primero en el set de entrenamiento para no tener en cuenta los datos que están en el set de test al momento de determinar los rangos de escalado. Hacemos esto porque algoritmos como las Support Vector Machines, que utilizan medidas de distancia para hacer comparaciones entre samples, pueden ser afectados por las diferentes unidades de medida entre las columnas al momento de hacer estas comparaciones de distancia, por lo que trasladamos todas estas distancias a rangos acotados similares para hacer una comparación más directa."
      ]
    },
    {
      "cell_type": "code",
      "execution_count": 54,
      "metadata": {
        "id": "URbQeVnf5Q50"
      },
      "outputs": [],
      "source": [
        "from sklearn.compose import ColumnTransformer\n",
        "from sklearn.preprocessing import StandardScaler\n",
        "\n",
        "ct = ColumnTransformer([\n",
        "    (\"scaling\", StandardScaler(), num_cols)\n",
        "], remainder=\"passthrough\")\n",
        "\n",
        "X_train_trans = ct.fit_transform(X_train)"
      ]
    },
    {
      "cell_type": "markdown",
      "metadata": {
        "id": "sVaIRDtPx3Pk"
      },
      "source": [
        "# Entrenamiento"
      ]
    },
    {
      "cell_type": "markdown",
      "metadata": {
        "id": "DtohhviWx_7s"
      },
      "source": [
        "Las Support Vector Machines tienen un hiperparámetro conocido como \"kernel\", que va a ser la función que hace las comparaciones entre los resgistros como si se estuviera aumentando la dimensionalidad del problema, pero sin realmente hacer esta transformación para hacer la operación de manera más óptima (técnica conocida como Kernel Trick).\n",
        "\n",
        "En esta ocasión probamos con tres tipos de kernel diferentes:\n",
        "- Lineal\n",
        "- Polinómico\n",
        "- RBF (infinitas dimensiones, idea similar a KNN)\n",
        "\n",
        "Para los tres tipos de kernel se prueban los mismos valores del hiperparámetro \"C\", una constante que es tenida en cuenta al momento de hacer las comparaciones de mayor dimensionalidad. Este hiperparámetro también sirve como parámetro de regularización, es decir, ayuda a evitar el overfitting. Esto es especialmente útil para los polinomios de mayor grado.\n",
        "\n",
        "Específicamente para el kernel polinómico se probaron polinomios de grados 2, 3 y 4.\n",
        "\n",
        "En el caso del kernel RBF, se utilizaron los valores sugeridos por sklearn para el hiperparámetro \"Gamma\" (https://scikit-learn.org/stable/auto_examples/svm/plot_rbf_parameters.html#train-classifiers). Este parámetro determina el radio de influencia de las comparaciones con los support vectors.\n",
        "\n",
        "Utilizamos `HalvingGridSearch` para optimizar el proceso de Grid Search y también `StratifiedShuffleSplit` para obtener splits de Cross-Validation con cantedidas representativas de todos los grupos."
      ]
    },
    {
      "cell_type": "code",
      "execution_count": 55,
      "metadata": {
        "id": "qR11El2dxheA"
      },
      "outputs": [],
      "source": [
        "from sklearn.experimental import enable_halving_search_cv\n",
        "from sklearn.model_selection import HalvingGridSearchCV, StratifiedShuffleSplit\n",
        "from sklearn.svm import SVC\n",
        "\n",
        "Cs = [1, 10, 100, 1000]\n",
        "\n",
        "params = [\n",
        "    {\"C\": Cs, \"kernel\": [\"linear\"]},\n",
        "    {\"C\": Cs, \"degree\": [2, 3, 4], \"kernel\": [\"poly\"]},\n",
        "    {\"C\": Cs, \"gamma\": np.logspace(-9, 3, 13), \"kernel\": [\"rbf\"]},\n",
        "]\n",
        "\n",
        "cv = StratifiedShuffleSplit(n_splits=5, test_size=0.2, random_state=42)\n",
        "clf = HalvingGridSearchCV(estimator=SVC(),\n",
        "                          param_grid=params,\n",
        "                          cv=cv,\n",
        "                          scoring=\"accuracy\",\n",
        "                          verbose=2)"
      ]
    },
    {
      "cell_type": "markdown",
      "metadata": {
        "id": "yHRjxEJPMTJj"
      },
      "source": [
        "Para entrenar al modelo utilizamos el método fit con el set de entrenamiento ya transformado:\n",
        "```python\n",
        "clf.fit(X_train_trans, y_train)\n",
        "```\n",
        "Sin embargo, luego de haber ejecutado este método con anterioridad, ya contamos con el modelo más óptimo encontrado, que ha sido exportado en un archivo de joblib, lo que nos permite simplemente cargar el archivo y no tener que volver a entrenar todos los modelos con todos los parámetros que probamos.\n",
        "\n",
        "Tras el entreno, el modelo con mejor rendimiento resultó ser el que utiliza el kernel RBF, con constante de regularización 1 y parámetro Gamma 1.0."
      ]
    },
    {
      "cell_type": "code",
      "execution_count": 56,
      "metadata": {
        "colab": {
          "base_uri": "https://localhost:8080/"
        },
        "id": "NmXpRj0SMvpl",
        "outputId": "101d3923-6366-4b60-f6c4-14c7179fd36f"
      },
      "outputs": [
        {
          "output_type": "execute_result",
          "data": {
            "text/plain": [
              "{'C': 1,\n",
              " 'break_ties': False,\n",
              " 'cache_size': 200,\n",
              " 'class_weight': None,\n",
              " 'coef0': 0.0,\n",
              " 'decision_function_shape': 'ovr',\n",
              " 'degree': 3,\n",
              " 'gamma': 1.0,\n",
              " 'kernel': 'rbf',\n",
              " 'max_iter': -1,\n",
              " 'probability': False,\n",
              " 'random_state': None,\n",
              " 'shrinking': True,\n",
              " 'tol': 0.001,\n",
              " 'verbose': False}"
            ]
          },
          "metadata": {},
          "execution_count": 56
        }
      ],
      "source": [
        "from joblib import load, dump\n",
        "\n",
        "svm = load(\"svm.joblib\")\n",
        "svm.get_params()"
      ]
    },
    {
      "cell_type": "markdown",
      "metadata": {
        "id": "rOq3eXy9OU11"
      },
      "source": [
        "# Evaluación"
      ]
    },
    {
      "cell_type": "markdown",
      "metadata": {
        "id": "fsC6S8TSOGL3"
      },
      "source": [
        "Ahora utilizamos el modelo con dataset de test para evaluar el rendimiento del mismo ante datos que nunca ha visto. Para esto tenemos que aplicarle las mismas transformaciones al conjunto de test que utilizamos con el conjunto de entrenamiento. En este caso solo nos hace falta aplicar el scaling, ya que el One-Hot Enconding se lo aplicamos a todo el dataset desde el inicio."
      ]
    },
    {
      "cell_type": "code",
      "execution_count": 57,
      "metadata": {
        "id": "10XNyDSxQu57"
      },
      "outputs": [],
      "source": [
        "X_test_trans = ct.fit_transform(X_test)"
      ]
    },
    {
      "cell_type": "code",
      "execution_count": 58,
      "metadata": {
        "id": "olUfhQYjN2M_"
      },
      "outputs": [],
      "source": [
        "y_pred = svm.predict(X_test_trans)"
      ]
    },
    {
      "cell_type": "markdown",
      "metadata": {
        "id": "_SEAh-pGOwfG"
      },
      "source": [
        "Para interpretar el resultado visualmente, utilizamos una matriz de confusión, que nos permite ver la cantidad de propiedades correcta e incorrectamente clasificadas para cada categoría, comparando los resultados esperados (almacenados en la variable `y_test`) con los resultados obtenidos (almacenados en la variable `y_pred`)."
      ]
    },
    {
      "cell_type": "code",
      "execution_count": 59,
      "metadata": {
        "colab": {
          "base_uri": "https://localhost:8080/",
          "height": 476
        },
        "id": "0xgXav1SOXt5",
        "outputId": "c0e4b58a-36a3-451f-e63a-cb484ba82cda"
      },
      "outputs": [
        {
          "output_type": "execute_result",
          "data": {
            "text/plain": [
              "Text(46.25, 0.5, 'Predicción')"
            ]
          },
          "metadata": {},
          "execution_count": 59
        },
        {
          "output_type": "display_data",
          "data": {
            "text/plain": [
              "<Figure size 640x480 with 1 Axes>"
            ],
            "image/png": "[encoded data removed]"
          },
          "metadata": {}
        }
      ],
      "source": [
        "from sklearn.metrics import confusion_matrix\n",
        "\n",
        "labels = [\"bajo\", \"medio\", \"alto\"]\n",
        "conf = confusion_matrix(y_test, y_pred, labels=labels)\n",
        "\n",
        "sns.heatmap(conf, cmap=\"Blues\", annot=True, cbar=False, fmt=\"g\", xticklabels=labels, yticklabels=labels)\n",
        "plt.xlabel(\"Valor Real\")\n",
        "plt.ylabel(\"Predicción\")"
      ]
    },
    {
      "cell_type": "markdown",
      "metadata": {
        "id": "QGDHzPa1B11n"
      },
      "source": [
        "También podemos analizar las matrices de confusión para cada una de las categorías."
      ]
    },
    {
      "cell_type": "code",
      "execution_count": 60,
      "metadata": {
        "id": "RCa_NgKBDwzx"
      },
      "outputs": [],
      "source": [
        "from matplotlib.colors import ListedColormap\n",
        "\n",
        "def matriz_confusion_clase(matriz, nombre_clase):\n",
        "  labels = [nombre_clase, \"no \" + nombre_clase]\n",
        "\n",
        "  matriz = matriz.T\n",
        "  matriz[0][0], matriz[1][1] = matriz[1][1], matriz[0][0]\n",
        "\n",
        "  mask = np.ones_like(matriz, dtype=bool)\n",
        "  np.fill_diagonal(mask, False)\n",
        "\n",
        "  cmap_diagonal = ListedColormap([\"lightsteelblue\"])\n",
        "  cmap_off_diagonal = ListedColormap([\"midnightblue\"])\n",
        "\n",
        "  sns.heatmap(matriz, mask=mask, cmap=cmap_off_diagonal, annot=True, cbar=False, fmt=\"g\", xticklabels=labels, yticklabels=labels)\n",
        "  sns.heatmap(matriz, mask=~mask, cmap=cmap_diagonal, annot=True, cbar=False, fmt=\"g\", xticklabels=labels, yticklabels=labels)\n",
        "  plt.xlabel(\"Valor Real\")\n",
        "  plt.ylabel(\"Predicción\")"
      ]
    },
    {
      "cell_type": "code",
      "execution_count": 61,
      "metadata": {
        "id": "gt4Zozs-BRVm"
      },
      "outputs": [],
      "source": [
        "from sklearn.metrics import multilabel_confusion_matrix\n",
        "\n",
        "confs = multilabel_confusion_matrix(y_test, y_pred, labels=labels)\n",
        "conf_bajo, conf_medio, conf_alto = confs[0], confs[1], confs[2]"
      ]
    },
    {
      "cell_type": "code",
      "execution_count": 62,
      "metadata": {
        "colab": {
          "base_uri": "https://localhost:8080/",
          "height": 458
        },
        "id": "DKJD4Bp0Ceb5",
        "outputId": "c3ff35da-566d-4051-f0b1-4f1f86735956"
      },
      "outputs": [
        {
          "output_type": "display_data",
          "data": {
            "text/plain": [
              "<Figure size 640x480 with 1 Axes>"
            ],
            "image/png": "[encoded data removed]"
          },
          "metadata": {}
        }
      ],
      "source": [
        "matriz_confusion_clase(conf_bajo, \"bajo\")"
      ]
    },
    {
      "cell_type": "markdown",
      "metadata": {
        "id": "LUPfca5OPGRx"
      },
      "source": [
        "Los resultados para la categoría \"bajo\" fueron los siguientes:\n",
        "- TP: 2188\n",
        "- TN: 11595\n",
        "- FP: 2027\n",
        "- FN: 935\n",
        "\n",
        "El detalle más llamativo es que la cantidad de False Positives es bastante alta, casi igual que la cantidad de True Positives. Es decir, que el modelo tiende a considerar a varias propiedades como propiedades con precio bajo cuando realmente no lo son. Podemos observar la precisión de la clasificación de los precios bajos y notamos que esta tienen un valor bajo:\n",
        "\n",
        "$$\n",
        "\\text{Precision}=\\frac{\\text{TP}}{\\text{TP + FP}}=\\frac{2188}{2188 + 2027}\\approx0.5191\n",
        "$$"
      ]
    },
    {
      "cell_type": "code",
      "execution_count": 63,
      "metadata": {
        "colab": {
          "base_uri": "https://localhost:8080/",
          "height": 458
        },
        "id": "kwSyTRVpCuUn",
        "outputId": "93ae3c26-0531-4e20-af18-a15f81194bb6"
      },
      "outputs": [
        {
          "output_type": "display_data",
          "data": {
            "text/plain": [
              "<Figure size 640x480 with 1 Axes>"
            ],
            "image/png": "[encoded data removed]"
          },
          "metadata": {}
        }
      ],
      "source": [
        "matriz_confusion_clase(conf_medio, \"medio\")"
      ]
    },
    {
      "cell_type": "markdown",
      "metadata": {
        "id": "z57uxL9iPxnr"
      },
      "source": [
        "Para la categoría \"medio\" la matriz de confusión nos arroja los siguientes valores:\n",
        "- TP: 4141\n",
        "- TN: 6464\n",
        "- FP: 1817\n",
        "- FN: 4325\n",
        "\n",
        "En este caso advertimos la similitud entre la cantidad de False Negatives con True Negatives y True Positives. Podemos cuantificar esta relación calculado el recall:\n",
        "\n",
        "$$\n",
        "\\text{Recall}=\\frac{\\text{TP}}{\\text{TP + FN}}=\\frac{6462}{6462 + 4325}\\approx0.5991\n",
        "$$\n",
        "\n",
        "Es decir que el modelo indica que bastantes propiedades de precio medio no son de precio medio cuando en realidad sin lo son."
      ]
    },
    {
      "cell_type": "code",
      "execution_count": 64,
      "metadata": {
        "colab": {
          "base_uri": "https://localhost:8080/",
          "height": 458
        },
        "id": "whwN_ZGyC1PZ",
        "outputId": "ad375c0f-cdff-4ecc-ff22-f23e8511a7e8"
      },
      "outputs": [
        {
          "output_type": "display_data",
          "data": {
            "text/plain": [
              "<Figure size 640x480 with 1 Axes>"
            ],
            "image/png": "[encoded data removed]"
          },
          "metadata": {}
        }
      ],
      "source": [
        "matriz_confusion_clase(conf_alto, \"alto\")"
      ]
    },
    {
      "cell_type": "markdown",
      "metadata": {
        "id": "7ARDlubQXGGz"
      },
      "source": [
        "En este caso notamos a primera vista que la cantidad de True Positives es significativamente mayor a la de las demás categorías.\n",
        "- TP: 11434\n",
        "- TN: 1775\n",
        "- FP: 2476\n",
        "- FN: 1060\n",
        "\n",
        "En este último caso notamos que la cantidad de clasificados como propiedades de precio alto cuando en realidad no lo son supera al número de correctamente clasificados como precio no alto. Pudimos haber esperado esta tendencia a clasificar las propiedades como propiedades de precio alto al ver el desempeño individual en las categorías \"bajo\" y \"medio\". Podemos cuantificarlo utilizando el False Positives Rate:\n",
        "\n",
        "$$\n",
        "\\text{FPR}=\\frac{\\text{FP}}{\\text{FP + TN}}=\\frac{2476}{2476 + 1775}\\approx0.5824\n",
        "$$\n",
        "\n",
        "Este número nos confirma esto."
      ]
    },
    {
      "cell_type": "markdown",
      "metadata": {
        "id": "1-PVl9JsTgc4"
      },
      "source": [
        "Finalmente, podemos ver algunas métricas como f1-score, precision, recall y accuracy para todos los resultados del modelo, para hacernos una idea de su rendimiento en general."
      ]
    },
    {
      "cell_type": "code",
      "execution_count": 65,
      "metadata": {
        "colab": {
          "base_uri": "https://localhost:8080/"
        },
        "id": "AF1yeBZ4YkDI",
        "outputId": "97d5f6e7-4cb1-4532-d17c-ab34b83d6c3d"
      },
      "outputs": [
        {
          "output_type": "stream",
          "name": "stdout",
          "text": [
            "Accuracy: 0.6225739026575097\n",
            "Recall: 0.6225739026575097\n",
            "Precision: 0.6314838297418703\n",
            "f1 score: 0.6124379835539216\n"
          ]
        }
      ],
      "source": [
        "from sklearn.metrics import precision_score, recall_score, accuracy_score, f1_score\n",
        "\n",
        "print(\"Accuracy: {}\".format(accuracy_score(y_test, y_pred)))\n",
        "print(\"Recall: {}\".format(recall_score(y_test, y_pred, average=\"weighted\")))\n",
        "print(\"Precision: {}\".format(precision_score(y_test, y_pred, average=\"weighted\")))\n",
        "print(\"f1 score: {}\".format(f1_score(y_test, y_pred, average='weighted')))"
      ]
    },
    {
      "cell_type": "markdown",
      "source": [
        "Comparamos el rendimiento con el conjunto de test con el rendimiento con el conjunto de entrenamiento:"
      ],
      "metadata": {
        "id": "jD486NVD4RtH"
      }
    },
    {
      "cell_type": "code",
      "source": [
        "y_train_pred = svm.predict(X_train_trans)"
      ],
      "metadata": {
        "id": "7F--3Ye76uu0"
      },
      "execution_count": 66,
      "outputs": []
    },
    {
      "cell_type": "code",
      "source": [
        "print(\"Accuracy: {}\".format(accuracy_score(y_train, y_train_pred)))\n",
        "print(\"Recall: {}\".format(recall_score(y_train, y_train_pred, average=\"weighted\")))\n",
        "print(\"Precision: {}\".format(precision_score(y_train, y_train_pred, average=\"weighted\")))\n",
        "print(\"f1 score: {}\".format(f1_score(y_train, y_train_pred, average='weighted')))"
      ],
      "metadata": {
        "colab": {
          "base_uri": "https://localhost:8080/"
        },
        "id": "e3vFsLrr4ZSh",
        "outputId": "bfeb514c-e091-4068-9a1e-3e0616fcbba3"
      },
      "execution_count": 68,
      "outputs": [
        {
          "output_type": "stream",
          "name": "stdout",
          "text": [
            "Accuracy: 0.6504322379324246\n",
            "Recall: 0.6504322379324246\n",
            "Precision: 0.6601781927047664\n",
            "f1 score: 0.6412068569308452\n"
          ]
        }
      ]
    }
  ],
  "metadata": {
    "colab": {
      "provenance": []
    },
    "kernelspec": {
      "display_name": "Python 3",
      "name": "python3"
    },
    "language_info": {
      "name": "python"
    }
  },
  "nbformat": 4,
  "nbformat_minor": 0
}