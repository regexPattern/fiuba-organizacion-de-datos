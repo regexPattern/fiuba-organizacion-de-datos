{
  "cells": [
    {
      "cell_type": "markdown",
      "source": [
        "# Trabajo Práctico 1: Propiedades en Venta - XGBOOST\n",
        "\n",
        "## Grupo 11 - \"Los Outliers\"\n",
        "\n",
        "- Castillo, Carlos\n",
        "- Destefanis, Juan Pablo\n",
        "- Gómez, Celeste"
      ],
      "metadata": {
        "id": "Aj3fuNobqEIc"
      }
    },
    {
      "cell_type": "markdown",
      "source": [
        "## Dependencias"
      ],
      "metadata": {
        "id": "kxaX-sHIptpI"
      }
    },
    {
      "cell_type": "code",
      "execution_count": null,
      "metadata": {
        "id": "PdDSsmqBkUeS"
      },
      "outputs": [],
      "source": [
        "import pandas as pd\n",
        "import numpy as np\n",
        "\n",
        "#Visualización\n",
        "import matplotlib.pyplot as plt\n",
        "import seaborn as sns\n",
        "\n",
        "#modelos y métricas\n",
        "import xgboost\n",
        "from sklearn.model_selection import train_test_split\n",
        "from sklearn.model_selection import StratifiedKFold, KFold, RandomizedSearchCV\n",
        "from sklearn.preprocessing import StandardScaler\n",
        "from sklearn.model_selection import cross_val_score\n",
        "from sklearn.metrics import mean_squared_error as MSE\n",
        "from sklearn.metrics import r2_score as R2\n",
        "\n",
        "#configuración warnings\n",
        "import warnings\n",
        "warnings.simplefilter(action='ignore', category=FutureWarning)\n",
        "warnings.simplefilter(action='ignore', category=UserWarning)"
      ]
    },
    {
      "cell_type": "markdown",
      "metadata": {
        "id": "eX_ljnrBV3VV"
      },
      "source": [
        "## Carga de datos y preprocesamiento"
      ]
    },
    {
      "cell_type": "markdown",
      "source": [
        "### Carga de datos"
      ],
      "metadata": {
        "id": "O_qWEWL2MQw_"
      }
    },
    {
      "cell_type": "markdown",
      "metadata": {
        "id": "ZKAxjT6ixchC"
      },
      "source": [
        "Fijo una semilla."
      ]
    },
    {
      "cell_type": "code",
      "execution_count": null,
      "metadata": {
        "id": "0y6ltDV2xbAG"
      },
      "outputs": [],
      "source": [
        "semilla = 137"
      ]
    },
    {
      "cell_type": "markdown",
      "metadata": {
        "id": "_AeUHu5DV9a6"
      },
      "source": [
        "Cargo los datos de los avisos con tipo de precio."
      ]
    },
    {
      "cell_type": "code",
      "execution_count": null,
      "metadata": {
        "id": "Io6uC17An1Qb"
      },
      "outputs": [],
      "source": [
        "df = pd.read_csv(\"https://drive.usercontent.google.com/u/1/uc?id=1Aib-aBN7wcI3EuPTX-Kd7VyZVwffB_sQ&export=download\",\n",
        "                 index_col=0)"
      ]
    },
    {
      "cell_type": "markdown",
      "source": [
        "### Encoding"
      ],
      "metadata": {
        "id": "wr2ZeOx4MPgS"
      }
    },
    {
      "cell_type": "markdown",
      "metadata": {
        "id": "uddMk3XRWCEK"
      },
      "source": [
        "Hago OneHot encoding para el tipo de propiedad."
      ]
    },
    {
      "cell_type": "code",
      "execution_count": null,
      "metadata": {
        "id": "ZkeqzopysFmj"
      },
      "outputs": [],
      "source": [
        "# OneHot encoding para tipo de propiedad\n",
        "df = pd.get_dummies(df, columns=[\"property_type\"], drop_first=True)"
      ]
    },
    {
      "cell_type": "markdown",
      "source": [
        "Encodeo con LabelEncoder los barrios, y no opto por OneHot para esta variable por la cantidad de columnas que se generarian al encodear de esa forma los barrios"
      ],
      "metadata": {
        "id": "pVnyl0zkOEyU"
      }
    },
    {
      "cell_type": "code",
      "source": [
        "# OneHot encoding para barrio\n",
        "df = pd.get_dummies(df, columns=[\"neighbourhood\"], drop_first=True)"
      ],
      "metadata": {
        "id": "f0uY46xXNoPN"
      },
      "execution_count": null,
      "outputs": []
    },
    {
      "cell_type": "markdown",
      "source": [
        "### Selección de features"
      ],
      "metadata": {
        "id": "uYABTXjzMUJV"
      }
    },
    {
      "cell_type": "markdown",
      "metadata": {
        "id": "zXyw8dXHB8n9"
      },
      "source": [
        "No uso `property_price` porque es el target de la regresión, así como tampoco utilizo `tipo_precio` para tener un primer acercamiento a las predicciones del precio sin esta información. Otras variables irrelevantes para el analisis son `id` y `property_title`, por ser estas variables particulares de cada aviso y sin relación con el target."
      ]
    },
    {
      "cell_type": "code",
      "execution_count": null,
      "metadata": {
        "id": "tFi4wObgoieu"
      },
      "outputs": [],
      "source": [
        "onehot_barrios = [col for col in df.columns if col.startswith((\"neighbourhood_\"))]\n",
        "\n",
        "features = ['property_rooms',\n",
        "            'property_bedrooms',\n",
        "            'property_surface_total',\n",
        "            'property_surface_covered',\n",
        "            'latitud',\n",
        "            'longitud',\n",
        "            'property_type_Departamento',\n",
        "            'property_type_PH',\n",
        "            ]\n",
        "\n",
        "features = features + onehot_barrios\n",
        "\n",
        "target = ['property_price']"
      ]
    },
    {
      "cell_type": "markdown",
      "source": [
        "Genero dos dataframes, uno para nuestro x (features), y otro para nuestro y (target a predecir)."
      ],
      "metadata": {
        "id": "MmY4CyFMMafx"
      }
    },
    {
      "cell_type": "code",
      "execution_count": null,
      "metadata": {
        "id": "U3KnPpF-y4iY"
      },
      "outputs": [],
      "source": [
        "df_x = df[features]\n",
        "df_y = df[target]"
      ]
    },
    {
      "cell_type": "markdown",
      "source": [
        "## Generación de conjuntos de train y test"
      ],
      "metadata": {
        "id": "0L22UOJrLNt5"
      }
    },
    {
      "cell_type": "markdown",
      "source": [
        "Genero los conjuntos de train (80%) y test (20%), estratificando mediante el tipo de precio para generar conjuntos balanceados."
      ],
      "metadata": {
        "id": "2PNSLGraMj7t"
      }
    },
    {
      "cell_type": "code",
      "execution_count": null,
      "metadata": {
        "id": "c22wincWFRP4"
      },
      "outputs": [],
      "source": [
        "X_train, X_test, y_train, y_test = train_test_split(df_x, df_y, test_size=0.20, stratify=df['tipo_precio'].values, random_state=semilla)"
      ]
    },
    {
      "cell_type": "markdown",
      "metadata": {
        "id": "xSG-SVF_sHVw"
      },
      "source": [
        "## Entrenamiento de modelos"
      ]
    },
    {
      "cell_type": "markdown",
      "source": [
        "### Entrenamiento de un modelo con parametros por defecto"
      ],
      "metadata": {
        "id": "94pTP6SS_LvC"
      }
    },
    {
      "cell_type": "markdown",
      "source": [
        "Pruebo entrenar un modelo de XGBoost con parámetros por defecto."
      ],
      "metadata": {
        "id": "-Sk3oKGk_Rh0"
      }
    },
    {
      "cell_type": "code",
      "source": [
        "xgb_model = xgboost.XGBRegressor()"
      ],
      "metadata": {
        "id": "5FecoMtcnE8I"
      },
      "execution_count": null,
      "outputs": []
    },
    {
      "cell_type": "markdown",
      "source": [
        "Entreno el modelo con los datos de entrenamiento."
      ],
      "metadata": {
        "id": "3ZqoD8dYWa-J"
      }
    },
    {
      "cell_type": "code",
      "source": [
        "xgb_model.fit(X_train, y_train)"
      ],
      "metadata": {
        "colab": {
          "base_uri": "https://localhost:8080/",
          "height": 248
        },
        "id": "o5mEUiTBo2Mg",
        "outputId": "cadb74b9-f162-4ee7-80a0-cc745ed40688"
      },
      "execution_count": null,
      "outputs": [
        {
          "output_type": "execute_result",
          "data": {
            "text/plain": [
              "XGBRegressor(base_score=None, booster=None, callbacks=None,\n",
              "             colsample_bylevel=None, colsample_bynode=None,\n",
              "             colsample_bytree=None, device=None, early_stopping_rounds=None,\n",
              "             enable_categorical=False, eval_metric=None, feature_types=None,\n",
              "             gamma=None, grow_policy=None, importance_type=None,\n",
              "             interaction_constraints=None, learning_rate=None, max_bin=None,\n",
              "             max_cat_threshold=None, max_cat_to_onehot=None,\n",
              "             max_delta_step=None, max_depth=None, max_leaves=None,\n",
              "             min_child_weight=None, missing=nan, monotone_constraints=None,\n",
              "             multi_strategy=None, n_estimators=None, n_jobs=None,\n",
              "             num_parallel_tree=None, random_state=None, ...)"
            ],
            "text/html": [
              "<style>#sk-container-id-20 {color: black;background-color: white;}#sk-container-id-20 pre{padding: 0;}#sk-container-id-20 div.sk-toggleable {background-color: white;}#sk-container-id-20 label.sk-toggleable__label {cursor: pointer;display: block;width: 100%;margin-bottom: 0;padding: 0.3em;box-sizing: border-box;text-align: center;}#sk-container-id-20 label.sk-toggleable__label-arrow:before {content: \"▸\";float: left;margin-right: 0.25em;color: #696969;}#sk-container-id-20 label.sk-toggleable__label-arrow:hover:before {color: black;}#sk-container-id-20 div.sk-estimator:hover label.sk-toggleable__label-arrow:before {color: black;}#sk-container-id-20 div.sk-toggleable__content {max-height: 0;max-width: 0;overflow: hidden;text-align: left;background-color: #f0f8ff;}#sk-container-id-20 div.sk-toggleable__content pre {margin: 0.2em;color: black;border-radius: 0.25em;background-color: #f0f8ff;}#sk-container-id-20 input.sk-toggleable__control:checked~div.sk-toggleable__content {max-height: 200px;max-width: 100%;overflow: auto;}#sk-container-id-20 input.sk-toggleable__control:checked~label.sk-toggleable__label-arrow:before {content: \"▾\";}#sk-container-id-20 div.sk-estimator input.sk-toggleable__control:checked~label.sk-toggleable__label {background-color: #d4ebff;}#sk-container-id-20 div.sk-label input.sk-toggleable__control:checked~label.sk-toggleable__label {background-color: #d4ebff;}#sk-container-id-20 input.sk-hidden--visually {border: 0;clip: rect(1px 1px 1px 1px);clip: rect(1px, 1px, 1px, 1px);height: 1px;margin: -1px;overflow: hidden;padding: 0;position: absolute;width: 1px;}#sk-container-id-20 div.sk-estimator {font-family: monospace;background-color: #f0f8ff;border: 1px dotted black;border-radius: 0.25em;box-sizing: border-box;margin-bottom: 0.5em;}#sk-container-id-20 div.sk-estimator:hover {background-color: #d4ebff;}#sk-container-id-20 div.sk-parallel-item::after {content: \"\";width: 100%;border-bottom: 1px solid gray;flex-grow: 1;}#sk-container-id-20 div.sk-label:hover label.sk-toggleable__label {background-color: #d4ebff;}#sk-container-id-20 div.sk-serial::before {content: \"\";position: absolute;border-left: 1px solid gray;box-sizing: border-box;top: 0;bottom: 0;left: 50%;z-index: 0;}#sk-container-id-20 div.sk-serial {display: flex;flex-direction: column;align-items: center;background-color: white;padding-right: 0.2em;padding-left: 0.2em;position: relative;}#sk-container-id-20 div.sk-item {position: relative;z-index: 1;}#sk-container-id-20 div.sk-parallel {display: flex;align-items: stretch;justify-content: center;background-color: white;position: relative;}#sk-container-id-20 div.sk-item::before, #sk-container-id-20 div.sk-parallel-item::before {content: \"\";position: absolute;border-left: 1px solid gray;box-sizing: border-box;top: 0;bottom: 0;left: 50%;z-index: -1;}#sk-container-id-20 div.sk-parallel-item {display: flex;flex-direction: column;z-index: 1;position: relative;background-color: white;}#sk-container-id-20 div.sk-parallel-item:first-child::after {align-self: flex-end;width: 50%;}#sk-container-id-20 div.sk-parallel-item:last-child::after {align-self: flex-start;width: 50%;}#sk-container-id-20 div.sk-parallel-item:only-child::after {width: 0;}#sk-container-id-20 div.sk-dashed-wrapped {border: 1px dashed gray;margin: 0 0.4em 0.5em 0.4em;box-sizing: border-box;padding-bottom: 0.4em;background-color: white;}#sk-container-id-20 div.sk-label label {font-family: monospace;font-weight: bold;display: inline-block;line-height: 1.2em;}#sk-container-id-20 div.sk-label-container {text-align: center;}#sk-container-id-20 div.sk-container {/* jupyter's `normalize.less` sets `[hidden] { display: none; }` but bootstrap.min.css set `[hidden] { display: none !important; }` so we also need the `!important` here to be able to override the default hidden behavior on the sphinx rendered scikit-learn.org. See: https://github.com/scikit-learn/scikit-learn/issues/21755 */display: inline-block !important;position: relative;}#sk-container-id-20 div.sk-text-repr-fallback {display: none;}</style><div id=\"sk-container-id-20\" class=\"sk-top-container\"><div class=\"sk-text-repr-fallback\"><pre>XGBRegressor(base_score=None, booster=None, callbacks=None,\n",
              "             colsample_bylevel=None, colsample_bynode=None,\n",
              "             colsample_bytree=None, device=None, early_stopping_rounds=None,\n",
              "             enable_categorical=False, eval_metric=None, feature_types=None,\n",
              "             gamma=None, grow_policy=None, importance_type=None,\n",
              "             interaction_constraints=None, learning_rate=None, max_bin=None,\n",
              "             max_cat_threshold=None, max_cat_to_onehot=None,\n",
              "             max_delta_step=None, max_depth=None, max_leaves=None,\n",
              "             min_child_weight=None, missing=nan, monotone_constraints=None,\n",
              "             multi_strategy=None, n_estimators=None, n_jobs=None,\n",
              "             num_parallel_tree=None, random_state=None, ...)</pre><b>In a Jupyter environment, please rerun this cell to show the HTML representation or trust the notebook. <br />On GitHub, the HTML representation is unable to render, please try loading this page with nbviewer.org.</b></div><div class=\"sk-container\" hidden><div class=\"sk-item\"><div class=\"sk-estimator sk-toggleable\"><input class=\"sk-toggleable__control sk-hidden--visually\" id=\"sk-estimator-id-42\" type=\"checkbox\" checked><label for=\"sk-estimator-id-42\" class=\"sk-toggleable__label sk-toggleable__label-arrow\">XGBRegressor</label><div class=\"sk-toggleable__content\"><pre>XGBRegressor(base_score=None, booster=None, callbacks=None,\n",
              "             colsample_bylevel=None, colsample_bynode=None,\n",
              "             colsample_bytree=None, device=None, early_stopping_rounds=None,\n",
              "             enable_categorical=False, eval_metric=None, feature_types=None,\n",
              "             gamma=None, grow_policy=None, importance_type=None,\n",
              "             interaction_constraints=None, learning_rate=None, max_bin=None,\n",
              "             max_cat_threshold=None, max_cat_to_onehot=None,\n",
              "             max_delta_step=None, max_depth=None, max_leaves=None,\n",
              "             min_child_weight=None, missing=nan, monotone_constraints=None,\n",
              "             multi_strategy=None, n_estimators=None, n_jobs=None,\n",
              "             num_parallel_tree=None, random_state=None, ...)</pre></div></div></div></div></div>"
            ]
          },
          "metadata": {},
          "execution_count": 185
        }
      ]
    },
    {
      "cell_type": "markdown",
      "source": [
        "Realizo las predicciones con el modelo de regresion entrenado"
      ],
      "metadata": {
        "id": "Ll40cFarWXFg"
      }
    },
    {
      "cell_type": "code",
      "source": [
        "y_pred = xgb_model.predict(X_test)"
      ],
      "metadata": {
        "id": "alruVNP-9gqs"
      },
      "execution_count": null,
      "outputs": []
    },
    {
      "cell_type": "markdown",
      "source": [
        "Veamos ahora los híperparametros del modelo."
      ],
      "metadata": {
        "id": "2Eq27VTvWfP3"
      }
    },
    {
      "cell_type": "code",
      "source": [
        "xgb_model.get_params()"
      ],
      "metadata": {
        "colab": {
          "base_uri": "https://localhost:8080/"
        },
        "id": "7DUBpisXjC20",
        "outputId": "7aaa32be-7c92-4a7e-a560-8fd8d13e152a"
      },
      "execution_count": null,
      "outputs": [
        {
          "output_type": "execute_result",
          "data": {
            "text/plain": [
              "{'objective': 'reg:squarederror',\n",
              " 'base_score': None,\n",
              " 'booster': None,\n",
              " 'callbacks': None,\n",
              " 'colsample_bylevel': None,\n",
              " 'colsample_bynode': None,\n",
              " 'colsample_bytree': None,\n",
              " 'device': None,\n",
              " 'early_stopping_rounds': None,\n",
              " 'enable_categorical': False,\n",
              " 'eval_metric': None,\n",
              " 'feature_types': None,\n",
              " 'gamma': None,\n",
              " 'grow_policy': None,\n",
              " 'importance_type': None,\n",
              " 'interaction_constraints': None,\n",
              " 'learning_rate': None,\n",
              " 'max_bin': None,\n",
              " 'max_cat_threshold': None,\n",
              " 'max_cat_to_onehot': None,\n",
              " 'max_delta_step': None,\n",
              " 'max_depth': None,\n",
              " 'max_leaves': None,\n",
              " 'min_child_weight': None,\n",
              " 'missing': nan,\n",
              " 'monotone_constraints': None,\n",
              " 'multi_strategy': None,\n",
              " 'n_estimators': None,\n",
              " 'n_jobs': None,\n",
              " 'num_parallel_tree': None,\n",
              " 'random_state': None,\n",
              " 'reg_alpha': None,\n",
              " 'reg_lambda': None,\n",
              " 'sampling_method': None,\n",
              " 'scale_pos_weight': None,\n",
              " 'subsample': None,\n",
              " 'tree_method': None,\n",
              " 'validate_parameters': None,\n",
              " 'verbosity': None}"
            ]
          },
          "metadata": {},
          "execution_count": 187
        }
      ]
    },
    {
      "cell_type": "markdown",
      "source": [
        "Score R2 del modelo para train."
      ],
      "metadata": {
        "id": "H3oX7unj_9_K"
      }
    },
    {
      "cell_type": "code",
      "source": [
        "train_score = xgb_model.score(X_train, y_train)\n",
        "\n",
        "print(\"R2 en train: \", train_score)"
      ],
      "metadata": {
        "colab": {
          "base_uri": "https://localhost:8080/"
        },
        "id": "FcqdOUXd_nN-",
        "outputId": "ac3aa39c-f97f-430a-f748-e45f21e9cc6e"
      },
      "execution_count": null,
      "outputs": [
        {
          "output_type": "stream",
          "name": "stdout",
          "text": [
            "R2 en train:  0.9023400681347367\n"
          ]
        }
      ]
    },
    {
      "cell_type": "markdown",
      "source": [
        "Métricas del modelo en testing."
      ],
      "metadata": {
        "id": "Q3zdQUfMAA9m"
      }
    },
    {
      "cell_type": "code",
      "source": [
        "rmse = np.sqrt(MSE(y_test, y_pred))\n",
        "mse = MSE(y_test, y_pred)\n",
        "r2 = R2(y_test, y_pred)\n",
        "\n",
        "print(\"RMSE: % f\" %(rmse))\n",
        "print(\"MSE: % f\" %(mse))\n",
        "print(\"R2: % f\" %(r2))"
      ],
      "metadata": {
        "colab": {
          "base_uri": "https://localhost:8080/"
        },
        "id": "EJ6FBe6WxcvK",
        "outputId": "d67874ce-1709-464b-80d7-63110dc0ae12"
      },
      "execution_count": null,
      "outputs": [
        {
          "output_type": "stream",
          "name": "stdout",
          "text": [
            "RMSE:  50766.321820\n",
            "MSE:  2577219431.179746\n",
            "R2:  0.854338\n"
          ]
        }
      ]
    },
    {
      "cell_type": "markdown",
      "source": [
        "## Entrenamiento con kfold cross validation"
      ],
      "metadata": {
        "id": "DH_ZqGgW9u4O"
      }
    },
    {
      "cell_type": "markdown",
      "source": [
        "Antes de pasar a entrenar todos los modelos, hay que aclarar que como existen distintos tipos de boosters, se opta por entrenar por separado 2 tipos de boosters (`gblinear` y `gbtree`) y obtener el mejor modelo para cada uno de ellos, ya que hay parametros que parecen diferir en cada tipo de booster."
      ],
      "metadata": {
        "id": "zxTW71LW-2eD"
      }
    },
    {
      "cell_type": "markdown",
      "source": [
        "### Entrenamiento de un booster linear"
      ],
      "metadata": {
        "id": "brc1VYd9Ef1h"
      }
    },
    {
      "cell_type": "markdown",
      "source": [
        "Optimizo los híperparametros de un modelo de XGBoost con un booster linear haciendo 10 iteraciones de random search con 5 folds.\n",
        "\n",
        "Los híperparametros que se buscan optimizar son:\n",
        "- `objective`: Indica el objetivo de aprendizaje de la regresión. Puede ser linear, error al caudrado o error absoluto.\n",
        "- `eval_metric`: Metrica de evaluación para los datos de validación.\n",
        "- `learning_rate`: Paso utilizado para la reducción de los pesos. A menor valor, más conservativo será el modelo. Se aplica luego de cada paso de boost y prevee overfitting. Rango: [0, 1]\n",
        "- `lambda`: parametro de regularizacion L1.\n",
        "- `alpha`: parametro de regularizacion L2.\n",
        "- `gamma`: parametro de poda."
      ],
      "metadata": {
        "id": "ioWT2ufdAHah"
      }
    },
    {
      "cell_type": "code",
      "source": [
        "n = 10\n",
        "folds = 5\n",
        "\n",
        "params_grid = {\"booster\": [\"gblinear\"],\n",
        "               \"objective\": [\"reg:linear\", \"reg:squarederror\", \"reg:absoluteerror\"],\n",
        "               \"eval_metric\": [\"rmse\", \"mae\"],\n",
        "               \"learning_rate\": np.linspace(0, 1, 200),\n",
        "               \"gamma\": np.linspace(0, 100, 300),\n",
        "               \"lambda\": np.linspace(0, 1),\n",
        "               \"alpha\": np.linspace(0, 1)\n",
        "               }\n",
        "\n",
        "kfoldcv = StratifiedKFold(n_splits=folds, shuffle=True, random_state=semilla)\n",
        "\n",
        "xgb_base = xgboost.XGBRegressor()\n",
        "\n",
        "randomcv = RandomizedSearchCV(estimator=xgb_base,\n",
        "                              param_distributions=params_grid,\n",
        "                              cv=kfoldcv,\n",
        "                              n_iter=n,\n",
        "                              random_state=semilla)\n",
        "\n",
        "randomcv.fit(X_train, y_train)"
      ],
      "metadata": {
        "colab": {
          "base_uri": "https://localhost:8080/",
          "height": 118
        },
        "id": "TfshTyM-9uac",
        "outputId": "f0d6751b-188d-4396-d488-4121067be70e"
      },
      "execution_count": null,
      "outputs": [
        {
          "output_type": "execute_result",
          "data": {
            "text/plain": [
              "RandomizedSearchCV(cv=StratifiedKFold(n_splits=5, random_state=137, shuffle=True),\n",
              "                   estimator=XGBRegressor(base_score=None, booster=None,\n",
              "                                          callbacks=None,\n",
              "                                          colsample_bylevel=None,\n",
              "                                          colsample_bynode=None,\n",
              "                                          colsample_bytree=None, device=None,\n",
              "                                          early_stopping_rounds=None,\n",
              "                                          enable_categorical=False,\n",
              "                                          eval_metric=None, feature_types=None,\n",
              "                                          gamma=None, grow_policy=None,\n",
              "                                          importan...\n",
              "       0.87939698, 0.88442211, 0.88944724, 0.89447236, 0.89949749,\n",
              "       0.90452261, 0.90954774, 0.91457286, 0.91959799, 0.92462312,\n",
              "       0.92964824, 0.93467337, 0.93969849, 0.94472362, 0.94974874,\n",
              "       0.95477387, 0.95979899, 0.96482412, 0.96984925, 0.97487437,\n",
              "       0.9798995 , 0.98492462, 0.98994975, 0.99497487, 1.        ]),\n",
              "                                        'objective': ['reg:linear',\n",
              "                                                      'reg:squarederror',\n",
              "                                                      'reg:absoluteerror']},\n",
              "                   random_state=137)"
            ],
            "text/html": [
              "<style>#sk-container-id-21 {color: black;background-color: white;}#sk-container-id-21 pre{padding: 0;}#sk-container-id-21 div.sk-toggleable {background-color: white;}#sk-container-id-21 label.sk-toggleable__label {cursor: pointer;display: block;width: 100%;margin-bottom: 0;padding: 0.3em;box-sizing: border-box;text-align: center;}#sk-container-id-21 label.sk-toggleable__label-arrow:before {content: \"▸\";float: left;margin-right: 0.25em;color: #696969;}#sk-container-id-21 label.sk-toggleable__label-arrow:hover:before {color: black;}#sk-container-id-21 div.sk-estimator:hover label.sk-toggleable__label-arrow:before {color: black;}#sk-container-id-21 div.sk-toggleable__content {max-height: 0;max-width: 0;overflow: hidden;text-align: left;background-color: #f0f8ff;}#sk-container-id-21 div.sk-toggleable__content pre {margin: 0.2em;color: black;border-radius: 0.25em;background-color: #f0f8ff;}#sk-container-id-21 input.sk-toggleable__control:checked~div.sk-toggleable__content {max-height: 200px;max-width: 100%;overflow: auto;}#sk-container-id-21 input.sk-toggleable__control:checked~label.sk-toggleable__label-arrow:before {content: \"▾\";}#sk-container-id-21 div.sk-estimator input.sk-toggleable__control:checked~label.sk-toggleable__label {background-color: #d4ebff;}#sk-container-id-21 div.sk-label input.sk-toggleable__control:checked~label.sk-toggleable__label {background-color: #d4ebff;}#sk-container-id-21 input.sk-hidden--visually {border: 0;clip: rect(1px 1px 1px 1px);clip: rect(1px, 1px, 1px, 1px);height: 1px;margin: -1px;overflow: hidden;padding: 0;position: absolute;width: 1px;}#sk-container-id-21 div.sk-estimator {font-family: monospace;background-color: #f0f8ff;border: 1px dotted black;border-radius: 0.25em;box-sizing: border-box;margin-bottom: 0.5em;}#sk-container-id-21 div.sk-estimator:hover {background-color: #d4ebff;}#sk-container-id-21 div.sk-parallel-item::after {content: \"\";width: 100%;border-bottom: 1px solid gray;flex-grow: 1;}#sk-container-id-21 div.sk-label:hover label.sk-toggleable__label {background-color: #d4ebff;}#sk-container-id-21 div.sk-serial::before {content: \"\";position: absolute;border-left: 1px solid gray;box-sizing: border-box;top: 0;bottom: 0;left: 50%;z-index: 0;}#sk-container-id-21 div.sk-serial {display: flex;flex-direction: column;align-items: center;background-color: white;padding-right: 0.2em;padding-left: 0.2em;position: relative;}#sk-container-id-21 div.sk-item {position: relative;z-index: 1;}#sk-container-id-21 div.sk-parallel {display: flex;align-items: stretch;justify-content: center;background-color: white;position: relative;}#sk-container-id-21 div.sk-item::before, #sk-container-id-21 div.sk-parallel-item::before {content: \"\";position: absolute;border-left: 1px solid gray;box-sizing: border-box;top: 0;bottom: 0;left: 50%;z-index: -1;}#sk-container-id-21 div.sk-parallel-item {display: flex;flex-direction: column;z-index: 1;position: relative;background-color: white;}#sk-container-id-21 div.sk-parallel-item:first-child::after {align-self: flex-end;width: 50%;}#sk-container-id-21 div.sk-parallel-item:last-child::after {align-self: flex-start;width: 50%;}#sk-container-id-21 div.sk-parallel-item:only-child::after {width: 0;}#sk-container-id-21 div.sk-dashed-wrapped {border: 1px dashed gray;margin: 0 0.4em 0.5em 0.4em;box-sizing: border-box;padding-bottom: 0.4em;background-color: white;}#sk-container-id-21 div.sk-label label {font-family: monospace;font-weight: bold;display: inline-block;line-height: 1.2em;}#sk-container-id-21 div.sk-label-container {text-align: center;}#sk-container-id-21 div.sk-container {/* jupyter's `normalize.less` sets `[hidden] { display: none; }` but bootstrap.min.css set `[hidden] { display: none !important; }` so we also need the `!important` here to be able to override the default hidden behavior on the sphinx rendered scikit-learn.org. See: https://github.com/scikit-learn/scikit-learn/issues/21755 */display: inline-block !important;position: relative;}#sk-container-id-21 div.sk-text-repr-fallback {display: none;}</style><div id=\"sk-container-id-21\" class=\"sk-top-container\"><div class=\"sk-text-repr-fallback\"><pre>RandomizedSearchCV(cv=StratifiedKFold(n_splits=5, random_state=137, shuffle=True),\n",
              "                   estimator=XGBRegressor(base_score=None, booster=None,\n",
              "                                          callbacks=None,\n",
              "                                          colsample_bylevel=None,\n",
              "                                          colsample_bynode=None,\n",
              "                                          colsample_bytree=None, device=None,\n",
              "                                          early_stopping_rounds=None,\n",
              "                                          enable_categorical=False,\n",
              "                                          eval_metric=None, feature_types=None,\n",
              "                                          gamma=None, grow_policy=None,\n",
              "                                          importan...\n",
              "       0.87939698, 0.88442211, 0.88944724, 0.89447236, 0.89949749,\n",
              "       0.90452261, 0.90954774, 0.91457286, 0.91959799, 0.92462312,\n",
              "       0.92964824, 0.93467337, 0.93969849, 0.94472362, 0.94974874,\n",
              "       0.95477387, 0.95979899, 0.96482412, 0.96984925, 0.97487437,\n",
              "       0.9798995 , 0.98492462, 0.98994975, 0.99497487, 1.        ]),\n",
              "                                        &#x27;objective&#x27;: [&#x27;reg:linear&#x27;,\n",
              "                                                      &#x27;reg:squarederror&#x27;,\n",
              "                                                      &#x27;reg:absoluteerror&#x27;]},\n",
              "                   random_state=137)</pre><b>In a Jupyter environment, please rerun this cell to show the HTML representation or trust the notebook. <br />On GitHub, the HTML representation is unable to render, please try loading this page with nbviewer.org.</b></div><div class=\"sk-container\" hidden><div class=\"sk-item sk-dashed-wrapped\"><div class=\"sk-label-container\"><div class=\"sk-label sk-toggleable\"><input class=\"sk-toggleable__control sk-hidden--visually\" id=\"sk-estimator-id-43\" type=\"checkbox\" ><label for=\"sk-estimator-id-43\" class=\"sk-toggleable__label sk-toggleable__label-arrow\">RandomizedSearchCV</label><div class=\"sk-toggleable__content\"><pre>RandomizedSearchCV(cv=StratifiedKFold(n_splits=5, random_state=137, shuffle=True),\n",
              "                   estimator=XGBRegressor(base_score=None, booster=None,\n",
              "                                          callbacks=None,\n",
              "                                          colsample_bylevel=None,\n",
              "                                          colsample_bynode=None,\n",
              "                                          colsample_bytree=None, device=None,\n",
              "                                          early_stopping_rounds=None,\n",
              "                                          enable_categorical=False,\n",
              "                                          eval_metric=None, feature_types=None,\n",
              "                                          gamma=None, grow_policy=None,\n",
              "                                          importan...\n",
              "       0.87939698, 0.88442211, 0.88944724, 0.89447236, 0.89949749,\n",
              "       0.90452261, 0.90954774, 0.91457286, 0.91959799, 0.92462312,\n",
              "       0.92964824, 0.93467337, 0.93969849, 0.94472362, 0.94974874,\n",
              "       0.95477387, 0.95979899, 0.96482412, 0.96984925, 0.97487437,\n",
              "       0.9798995 , 0.98492462, 0.98994975, 0.99497487, 1.        ]),\n",
              "                                        &#x27;objective&#x27;: [&#x27;reg:linear&#x27;,\n",
              "                                                      &#x27;reg:squarederror&#x27;,\n",
              "                                                      &#x27;reg:absoluteerror&#x27;]},\n",
              "                   random_state=137)</pre></div></div></div><div class=\"sk-parallel\"><div class=\"sk-parallel-item\"><div class=\"sk-item\"><div class=\"sk-label-container\"><div class=\"sk-label sk-toggleable\"><input class=\"sk-toggleable__control sk-hidden--visually\" id=\"sk-estimator-id-44\" type=\"checkbox\" ><label for=\"sk-estimator-id-44\" class=\"sk-toggleable__label sk-toggleable__label-arrow\">estimator: XGBRegressor</label><div class=\"sk-toggleable__content\"><pre>XGBRegressor(base_score=None, booster=None, callbacks=None,\n",
              "             colsample_bylevel=None, colsample_bynode=None,\n",
              "             colsample_bytree=None, device=None, early_stopping_rounds=None,\n",
              "             enable_categorical=False, eval_metric=None, feature_types=None,\n",
              "             gamma=None, grow_policy=None, importance_type=None,\n",
              "             interaction_constraints=None, learning_rate=None, max_bin=None,\n",
              "             max_cat_threshold=None, max_cat_to_onehot=None,\n",
              "             max_delta_step=None, max_depth=None, max_leaves=None,\n",
              "             min_child_weight=None, missing=nan, monotone_constraints=None,\n",
              "             multi_strategy=None, n_estimators=None, n_jobs=None,\n",
              "             num_parallel_tree=None, random_state=None, ...)</pre></div></div></div><div class=\"sk-serial\"><div class=\"sk-item\"><div class=\"sk-estimator sk-toggleable\"><input class=\"sk-toggleable__control sk-hidden--visually\" id=\"sk-estimator-id-45\" type=\"checkbox\" ><label for=\"sk-estimator-id-45\" class=\"sk-toggleable__label sk-toggleable__label-arrow\">XGBRegressor</label><div class=\"sk-toggleable__content\"><pre>XGBRegressor(base_score=None, booster=None, callbacks=None,\n",
              "             colsample_bylevel=None, colsample_bynode=None,\n",
              "             colsample_bytree=None, device=None, early_stopping_rounds=None,\n",
              "             enable_categorical=False, eval_metric=None, feature_types=None,\n",
              "             gamma=None, grow_policy=None, importance_type=None,\n",
              "             interaction_constraints=None, learning_rate=None, max_bin=None,\n",
              "             max_cat_threshold=None, max_cat_to_onehot=None,\n",
              "             max_delta_step=None, max_depth=None, max_leaves=None,\n",
              "             min_child_weight=None, missing=nan, monotone_constraints=None,\n",
              "             multi_strategy=None, n_estimators=None, n_jobs=None,\n",
              "             num_parallel_tree=None, random_state=None, ...)</pre></div></div></div></div></div></div></div></div></div></div>"
            ]
          },
          "metadata": {},
          "execution_count": 190
        }
      ]
    },
    {
      "cell_type": "markdown",
      "source": [
        "Veo los mejores parámetros y se observa que eligio un learning rate de 0,5 aproximadamente, y cómo objetivo el `squarederror` o error cuadrático. También noto que se eligio el MAE como métrica para validación."
      ],
      "metadata": {
        "id": "caf5ZCSjO3GI"
      }
    },
    {
      "cell_type": "code",
      "source": [
        "print(randomcv.best_params_)"
      ],
      "metadata": {
        "colab": {
          "base_uri": "https://localhost:8080/"
        },
        "id": "X0_OVP74OwL_",
        "outputId": "6b8e7f88-fa96-4fbb-9b24-f10b1dab6a39"
      },
      "execution_count": null,
      "outputs": [
        {
          "output_type": "stream",
          "name": "stdout",
          "text": [
            "{'objective': 'reg:squarederror', 'learning_rate': 0.9547738693467337, 'lambda': 0.16326530612244897, 'gamma': 51.83946488294314, 'eval_metric': 'mae', 'booster': 'gblinear', 'alpha': 0.6530612244897959}\n"
          ]
        }
      ]
    },
    {
      "cell_type": "markdown",
      "source": [
        "Guardo el mejor estimador con booster linear."
      ],
      "metadata": {
        "id": "Q3tlQOo9Euuz"
      }
    },
    {
      "cell_type": "code",
      "source": [
        "mejor_linear = xgboost.XGBRegressor()\n",
        "mejor_linear.set_params(**randomcv.best_params_)\n",
        "\n",
        "mejor_linear.fit(X_train, y_train)"
      ],
      "metadata": {
        "id": "6R_NvdNr7fsL",
        "colab": {
          "base_uri": "https://localhost:8080/",
          "height": 248
        },
        "outputId": "f019137e-3f33-410e-fd90-f1bb9284ff4e"
      },
      "execution_count": null,
      "outputs": [
        {
          "output_type": "execute_result",
          "data": {
            "text/plain": [
              "XGBRegressor(alpha=0.6530612244897959, base_score=None, booster='gblinear',\n",
              "             callbacks=None, colsample_bylevel=None, colsample_bynode=None,\n",
              "             colsample_bytree=None, device=None, early_stopping_rounds=None,\n",
              "             enable_categorical=False, eval_metric='mae', feature_types=None,\n",
              "             gamma=51.83946488294314, grow_policy=None, importance_type=None,\n",
              "             interaction_constraints=None, lambda=0.16326530612244897,\n",
              "             learning_rate=0.9547738693467337, max_bin=None,\n",
              "             max_cat_threshold=None, max_cat_to_onehot=None,\n",
              "             max_delta_step=None, max_depth=None, max_leaves=None,\n",
              "             min_child_weight=None, missing=nan, monotone_constraints=None,\n",
              "             multi_strategy=None, n_estimators=None, n_jobs=None, ...)"
            ],
            "text/html": [
              "<style>#sk-container-id-22 {color: black;background-color: white;}#sk-container-id-22 pre{padding: 0;}#sk-container-id-22 div.sk-toggleable {background-color: white;}#sk-container-id-22 label.sk-toggleable__label {cursor: pointer;display: block;width: 100%;margin-bottom: 0;padding: 0.3em;box-sizing: border-box;text-align: center;}#sk-container-id-22 label.sk-toggleable__label-arrow:before {content: \"▸\";float: left;margin-right: 0.25em;color: #696969;}#sk-container-id-22 label.sk-toggleable__label-arrow:hover:before {color: black;}#sk-container-id-22 div.sk-estimator:hover label.sk-toggleable__label-arrow:before {color: black;}#sk-container-id-22 div.sk-toggleable__content {max-height: 0;max-width: 0;overflow: hidden;text-align: left;background-color: #f0f8ff;}#sk-container-id-22 div.sk-toggleable__content pre {margin: 0.2em;color: black;border-radius: 0.25em;background-color: #f0f8ff;}#sk-container-id-22 input.sk-toggleable__control:checked~div.sk-toggleable__content {max-height: 200px;max-width: 100%;overflow: auto;}#sk-container-id-22 input.sk-toggleable__control:checked~label.sk-toggleable__label-arrow:before {content: \"▾\";}#sk-container-id-22 div.sk-estimator input.sk-toggleable__control:checked~label.sk-toggleable__label {background-color: #d4ebff;}#sk-container-id-22 div.sk-label input.sk-toggleable__control:checked~label.sk-toggleable__label {background-color: #d4ebff;}#sk-container-id-22 input.sk-hidden--visually {border: 0;clip: rect(1px 1px 1px 1px);clip: rect(1px, 1px, 1px, 1px);height: 1px;margin: -1px;overflow: hidden;padding: 0;position: absolute;width: 1px;}#sk-container-id-22 div.sk-estimator {font-family: monospace;background-color: #f0f8ff;border: 1px dotted black;border-radius: 0.25em;box-sizing: border-box;margin-bottom: 0.5em;}#sk-container-id-22 div.sk-estimator:hover {background-color: #d4ebff;}#sk-container-id-22 div.sk-parallel-item::after {content: \"\";width: 100%;border-bottom: 1px solid gray;flex-grow: 1;}#sk-container-id-22 div.sk-label:hover label.sk-toggleable__label {background-color: #d4ebff;}#sk-container-id-22 div.sk-serial::before {content: \"\";position: absolute;border-left: 1px solid gray;box-sizing: border-box;top: 0;bottom: 0;left: 50%;z-index: 0;}#sk-container-id-22 div.sk-serial {display: flex;flex-direction: column;align-items: center;background-color: white;padding-right: 0.2em;padding-left: 0.2em;position: relative;}#sk-container-id-22 div.sk-item {position: relative;z-index: 1;}#sk-container-id-22 div.sk-parallel {display: flex;align-items: stretch;justify-content: center;background-color: white;position: relative;}#sk-container-id-22 div.sk-item::before, #sk-container-id-22 div.sk-parallel-item::before {content: \"\";position: absolute;border-left: 1px solid gray;box-sizing: border-box;top: 0;bottom: 0;left: 50%;z-index: -1;}#sk-container-id-22 div.sk-parallel-item {display: flex;flex-direction: column;z-index: 1;position: relative;background-color: white;}#sk-container-id-22 div.sk-parallel-item:first-child::after {align-self: flex-end;width: 50%;}#sk-container-id-22 div.sk-parallel-item:last-child::after {align-self: flex-start;width: 50%;}#sk-container-id-22 div.sk-parallel-item:only-child::after {width: 0;}#sk-container-id-22 div.sk-dashed-wrapped {border: 1px dashed gray;margin: 0 0.4em 0.5em 0.4em;box-sizing: border-box;padding-bottom: 0.4em;background-color: white;}#sk-container-id-22 div.sk-label label {font-family: monospace;font-weight: bold;display: inline-block;line-height: 1.2em;}#sk-container-id-22 div.sk-label-container {text-align: center;}#sk-container-id-22 div.sk-container {/* jupyter's `normalize.less` sets `[hidden] { display: none; }` but bootstrap.min.css set `[hidden] { display: none !important; }` so we also need the `!important` here to be able to override the default hidden behavior on the sphinx rendered scikit-learn.org. See: https://github.com/scikit-learn/scikit-learn/issues/21755 */display: inline-block !important;position: relative;}#sk-container-id-22 div.sk-text-repr-fallback {display: none;}</style><div id=\"sk-container-id-22\" class=\"sk-top-container\"><div class=\"sk-text-repr-fallback\"><pre>XGBRegressor(alpha=0.6530612244897959, base_score=None, booster=&#x27;gblinear&#x27;,\n",
              "             callbacks=None, colsample_bylevel=None, colsample_bynode=None,\n",
              "             colsample_bytree=None, device=None, early_stopping_rounds=None,\n",
              "             enable_categorical=False, eval_metric=&#x27;mae&#x27;, feature_types=None,\n",
              "             gamma=51.83946488294314, grow_policy=None, importance_type=None,\n",
              "             interaction_constraints=None, lambda=0.16326530612244897,\n",
              "             learning_rate=0.9547738693467337, max_bin=None,\n",
              "             max_cat_threshold=None, max_cat_to_onehot=None,\n",
              "             max_delta_step=None, max_depth=None, max_leaves=None,\n",
              "             min_child_weight=None, missing=nan, monotone_constraints=None,\n",
              "             multi_strategy=None, n_estimators=None, n_jobs=None, ...)</pre><b>In a Jupyter environment, please rerun this cell to show the HTML representation or trust the notebook. <br />On GitHub, the HTML representation is unable to render, please try loading this page with nbviewer.org.</b></div><div class=\"sk-container\" hidden><div class=\"sk-item\"><div class=\"sk-estimator sk-toggleable\"><input class=\"sk-toggleable__control sk-hidden--visually\" id=\"sk-estimator-id-46\" type=\"checkbox\" checked><label for=\"sk-estimator-id-46\" class=\"sk-toggleable__label sk-toggleable__label-arrow\">XGBRegressor</label><div class=\"sk-toggleable__content\"><pre>XGBRegressor(alpha=0.6530612244897959, base_score=None, booster=&#x27;gblinear&#x27;,\n",
              "             callbacks=None, colsample_bylevel=None, colsample_bynode=None,\n",
              "             colsample_bytree=None, device=None, early_stopping_rounds=None,\n",
              "             enable_categorical=False, eval_metric=&#x27;mae&#x27;, feature_types=None,\n",
              "             gamma=51.83946488294314, grow_policy=None, importance_type=None,\n",
              "             interaction_constraints=None, lambda=0.16326530612244897,\n",
              "             learning_rate=0.9547738693467337, max_bin=None,\n",
              "             max_cat_threshold=None, max_cat_to_onehot=None,\n",
              "             max_delta_step=None, max_depth=None, max_leaves=None,\n",
              "             min_child_weight=None, missing=nan, monotone_constraints=None,\n",
              "             multi_strategy=None, n_estimators=None, n_jobs=None, ...)</pre></div></div></div></div></div>"
            ]
          },
          "metadata": {},
          "execution_count": 192
        }
      ]
    },
    {
      "cell_type": "markdown",
      "source": [
        "Realizo las predicciones"
      ],
      "metadata": {
        "id": "C94khfS4AsYa"
      }
    },
    {
      "cell_type": "code",
      "source": [
        "y_pred_linear = mejor_linear.predict(X_test)"
      ],
      "metadata": {
        "id": "Xm9gyQj2AsLN"
      },
      "execution_count": null,
      "outputs": []
    },
    {
      "cell_type": "markdown",
      "source": [
        "Obtengo los puntajes R2 de cross validation del modelo."
      ],
      "metadata": {
        "id": "aFwCuLxmEyR9"
      }
    },
    {
      "cell_type": "code",
      "source": [
        "scores = cross_val_score(mejor_linear, X_train, y_train, cv=kfoldcv)"
      ],
      "metadata": {
        "id": "U2yD1VWaAhZN"
      },
      "execution_count": null,
      "outputs": []
    },
    {
      "cell_type": "markdown",
      "source": [
        "Ahora vemos todos los puntajes R2 para train y en cross validation. El método de XGBoost `score` siempre nos devuelve el puntaje de R2."
      ],
      "metadata": {
        "id": "UGWEPljpFHjf"
      }
    },
    {
      "cell_type": "code",
      "source": [
        "train_score = mejor_linear.score(X_train, y_train)\n",
        "\n",
        "print(\"Cross val R2 scores: \", scores)\n",
        "print(\"R2 sobre train: \", train_score)"
      ],
      "metadata": {
        "colab": {
          "base_uri": "https://localhost:8080/"
        },
        "id": "Jd23rXOuM-Zg",
        "outputId": "99f9fe8a-afca-4d23-c822-7b881c26b463"
      },
      "execution_count": null,
      "outputs": [
        {
          "output_type": "stream",
          "name": "stdout",
          "text": [
            "Cross val R2 scores:  [0.64008955 0.63020155 0.64143328 0.63497423 0.64575404]\n",
            "R2 sobre train:  0.6385129054974235\n"
          ]
        }
      ]
    },
    {
      "cell_type": "markdown",
      "source": [
        "Ahora muestro el RMSE, MSE y R2 sobre el conjunto de test."
      ],
      "metadata": {
        "id": "cU7sGkQmAedH"
      }
    },
    {
      "cell_type": "code",
      "source": [
        "rmse_linear = np.sqrt(MSE(y_test, y_pred_linear))\n",
        "mse_linear = MSE(y_test, y_pred_linear)\n",
        "r2_linear = R2(y_test, y_pred_linear)\n",
        "\n",
        "print(\"RMSE: % f\" %(rmse_linear))\n",
        "print(\"MSE: % f\" %(mse_linear))\n",
        "print(\"R2: % f\" %(r2_linear))"
      ],
      "metadata": {
        "colab": {
          "base_uri": "https://localhost:8080/"
        },
        "id": "hcCNqfo7AeDZ",
        "outputId": "0ce894e2-9cf8-44ea-daa5-b561d4adf00b"
      },
      "execution_count": null,
      "outputs": [
        {
          "output_type": "stream",
          "name": "stdout",
          "text": [
            "RMSE:  80104.087939\n",
            "MSE:  6416664904.593136\n",
            "R2:  0.637335\n"
          ]
        }
      ]
    },
    {
      "cell_type": "markdown",
      "source": [
        "### Entrenamiento de un booster arbol"
      ],
      "metadata": {
        "id": "UGJgqijWEagL"
      }
    },
    {
      "cell_type": "markdown",
      "source": [
        "Pruebo optimizar un modelo XGBoost utilizando como booster un arbol, haciendo 10 iteraciones de random search con 5 folds, y optimizando los siguientes híperparametros:\n",
        "- `objective`: Indica el objetivo de aprendizaje de la regresión. Puede ser linear, error al caudrado o error absoluto.\n",
        "- `eval_metric`: Metrica de evaluación para los datos de validación.\n",
        "- `learning_rate`: Paso utilizado para la reducción de los pesos. A menor valor, más conservativo será el modelo. Se aplica luego de cada paso de boost y prevee overfitting. Rango: [0, 1]\n",
        "- `max_depth`: Mayor profundidad de un árbol.\n",
        "- `lambda`: parametro de regularizacion L1.\n",
        "- `alpha`: parametro de regularizacion L2.\n",
        "- `gamma`: parametro de poda."
      ],
      "metadata": {
        "id": "68J7a1Zrjwo7"
      }
    },
    {
      "cell_type": "code",
      "source": [
        "n = 10\n",
        "folds = 5\n",
        "\n",
        "params_grid = {\"booster\": [\"gbtree\"],\n",
        "               \"objective\": [\"reg:linear\", \"reg:squarederror\", \"reg:absoluteerror\"],\n",
        "               \"eval_metric\": [\"rmse\", \"mae\"],\n",
        "               \"learning_rate\": np.linspace(0, 1, 200),\n",
        "               \"gamma\": np.linspace(0, 100, 300),\n",
        "               \"max_depth\": list(range(1, 20)),\n",
        "               \"lambda\": np.linspace(0, 1),\n",
        "               \"alpha\": np.linspace(0, 1)\n",
        "               }\n",
        "\n",
        "kfoldcv = StratifiedKFold(n_splits=folds, shuffle=True, random_state=semilla)\n",
        "\n",
        "xgb_base = xgboost.XGBRegressor()\n",
        "\n",
        "randomcv = RandomizedSearchCV(estimator=xgb_base,\n",
        "                              param_distributions=params_grid,\n",
        "                              cv=kfoldcv,\n",
        "                              n_iter=n,\n",
        "                              random_state=semilla)\n",
        "\n",
        "randomcv.fit(X_train, y_train)"
      ],
      "metadata": {
        "colab": {
          "base_uri": "https://localhost:8080/",
          "height": 118
        },
        "id": "DYeszHItkCE-",
        "outputId": "be3ba62d-97e6-4b64-8730-6f0ee7318b36"
      },
      "execution_count": null,
      "outputs": [
        {
          "output_type": "execute_result",
          "data": {
            "text/plain": [
              "RandomizedSearchCV(cv=StratifiedKFold(n_splits=5, random_state=137, shuffle=True),\n",
              "                   estimator=XGBRegressor(base_score=None, booster=None,\n",
              "                                          callbacks=None,\n",
              "                                          colsample_bylevel=None,\n",
              "                                          colsample_bynode=None,\n",
              "                                          colsample_bytree=None, device=None,\n",
              "                                          early_stopping_rounds=None,\n",
              "                                          enable_categorical=False,\n",
              "                                          eval_metric=None, feature_types=None,\n",
              "                                          gamma=None, grow_policy=None,\n",
              "                                          importan...\n",
              "       0.90452261, 0.90954774, 0.91457286, 0.91959799, 0.92462312,\n",
              "       0.92964824, 0.93467337, 0.93969849, 0.94472362, 0.94974874,\n",
              "       0.95477387, 0.95979899, 0.96482412, 0.96984925, 0.97487437,\n",
              "       0.9798995 , 0.98492462, 0.98994975, 0.99497487, 1.        ]),\n",
              "                                        'max_depth': [1, 2, 3, 4, 5, 6, 7, 8, 9,\n",
              "                                                      10, 11, 12, 13, 14, 15,\n",
              "                                                      16, 17, 18, 19],\n",
              "                                        'objective': ['reg:linear',\n",
              "                                                      'reg:squarederror',\n",
              "                                                      'reg:absoluteerror']},\n",
              "                   random_state=137)"
            ],
            "text/html": [
              "<style>#sk-container-id-23 {color: black;background-color: white;}#sk-container-id-23 pre{padding: 0;}#sk-container-id-23 div.sk-toggleable {background-color: white;}#sk-container-id-23 label.sk-toggleable__label {cursor: pointer;display: block;width: 100%;margin-bottom: 0;padding: 0.3em;box-sizing: border-box;text-align: center;}#sk-container-id-23 label.sk-toggleable__label-arrow:before {content: \"▸\";float: left;margin-right: 0.25em;color: #696969;}#sk-container-id-23 label.sk-toggleable__label-arrow:hover:before {color: black;}#sk-container-id-23 div.sk-estimator:hover label.sk-toggleable__label-arrow:before {color: black;}#sk-container-id-23 div.sk-toggleable__content {max-height: 0;max-width: 0;overflow: hidden;text-align: left;background-color: #f0f8ff;}#sk-container-id-23 div.sk-toggleable__content pre {margin: 0.2em;color: black;border-radius: 0.25em;background-color: #f0f8ff;}#sk-container-id-23 input.sk-toggleable__control:checked~div.sk-toggleable__content {max-height: 200px;max-width: 100%;overflow: auto;}#sk-container-id-23 input.sk-toggleable__control:checked~label.sk-toggleable__label-arrow:before {content: \"▾\";}#sk-container-id-23 div.sk-estimator input.sk-toggleable__control:checked~label.sk-toggleable__label {background-color: #d4ebff;}#sk-container-id-23 div.sk-label input.sk-toggleable__control:checked~label.sk-toggleable__label {background-color: #d4ebff;}#sk-container-id-23 input.sk-hidden--visually {border: 0;clip: rect(1px 1px 1px 1px);clip: rect(1px, 1px, 1px, 1px);height: 1px;margin: -1px;overflow: hidden;padding: 0;position: absolute;width: 1px;}#sk-container-id-23 div.sk-estimator {font-family: monospace;background-color: #f0f8ff;border: 1px dotted black;border-radius: 0.25em;box-sizing: border-box;margin-bottom: 0.5em;}#sk-container-id-23 div.sk-estimator:hover {background-color: #d4ebff;}#sk-container-id-23 div.sk-parallel-item::after {content: \"\";width: 100%;border-bottom: 1px solid gray;flex-grow: 1;}#sk-container-id-23 div.sk-label:hover label.sk-toggleable__label {background-color: #d4ebff;}#sk-container-id-23 div.sk-serial::before {content: \"\";position: absolute;border-left: 1px solid gray;box-sizing: border-box;top: 0;bottom: 0;left: 50%;z-index: 0;}#sk-container-id-23 div.sk-serial {display: flex;flex-direction: column;align-items: center;background-color: white;padding-right: 0.2em;padding-left: 0.2em;position: relative;}#sk-container-id-23 div.sk-item {position: relative;z-index: 1;}#sk-container-id-23 div.sk-parallel {display: flex;align-items: stretch;justify-content: center;background-color: white;position: relative;}#sk-container-id-23 div.sk-item::before, #sk-container-id-23 div.sk-parallel-item::before {content: \"\";position: absolute;border-left: 1px solid gray;box-sizing: border-box;top: 0;bottom: 0;left: 50%;z-index: -1;}#sk-container-id-23 div.sk-parallel-item {display: flex;flex-direction: column;z-index: 1;position: relative;background-color: white;}#sk-container-id-23 div.sk-parallel-item:first-child::after {align-self: flex-end;width: 50%;}#sk-container-id-23 div.sk-parallel-item:last-child::after {align-self: flex-start;width: 50%;}#sk-container-id-23 div.sk-parallel-item:only-child::after {width: 0;}#sk-container-id-23 div.sk-dashed-wrapped {border: 1px dashed gray;margin: 0 0.4em 0.5em 0.4em;box-sizing: border-box;padding-bottom: 0.4em;background-color: white;}#sk-container-id-23 div.sk-label label {font-family: monospace;font-weight: bold;display: inline-block;line-height: 1.2em;}#sk-container-id-23 div.sk-label-container {text-align: center;}#sk-container-id-23 div.sk-container {/* jupyter's `normalize.less` sets `[hidden] { display: none; }` but bootstrap.min.css set `[hidden] { display: none !important; }` so we also need the `!important` here to be able to override the default hidden behavior on the sphinx rendered scikit-learn.org. See: https://github.com/scikit-learn/scikit-learn/issues/21755 */display: inline-block !important;position: relative;}#sk-container-id-23 div.sk-text-repr-fallback {display: none;}</style><div id=\"sk-container-id-23\" class=\"sk-top-container\"><div class=\"sk-text-repr-fallback\"><pre>RandomizedSearchCV(cv=StratifiedKFold(n_splits=5, random_state=137, shuffle=True),\n",
              "                   estimator=XGBRegressor(base_score=None, booster=None,\n",
              "                                          callbacks=None,\n",
              "                                          colsample_bylevel=None,\n",
              "                                          colsample_bynode=None,\n",
              "                                          colsample_bytree=None, device=None,\n",
              "                                          early_stopping_rounds=None,\n",
              "                                          enable_categorical=False,\n",
              "                                          eval_metric=None, feature_types=None,\n",
              "                                          gamma=None, grow_policy=None,\n",
              "                                          importan...\n",
              "       0.90452261, 0.90954774, 0.91457286, 0.91959799, 0.92462312,\n",
              "       0.92964824, 0.93467337, 0.93969849, 0.94472362, 0.94974874,\n",
              "       0.95477387, 0.95979899, 0.96482412, 0.96984925, 0.97487437,\n",
              "       0.9798995 , 0.98492462, 0.98994975, 0.99497487, 1.        ]),\n",
              "                                        &#x27;max_depth&#x27;: [1, 2, 3, 4, 5, 6, 7, 8, 9,\n",
              "                                                      10, 11, 12, 13, 14, 15,\n",
              "                                                      16, 17, 18, 19],\n",
              "                                        &#x27;objective&#x27;: [&#x27;reg:linear&#x27;,\n",
              "                                                      &#x27;reg:squarederror&#x27;,\n",
              "                                                      &#x27;reg:absoluteerror&#x27;]},\n",
              "                   random_state=137)</pre><b>In a Jupyter environment, please rerun this cell to show the HTML representation or trust the notebook. <br />On GitHub, the HTML representation is unable to render, please try loading this page with nbviewer.org.</b></div><div class=\"sk-container\" hidden><div class=\"sk-item sk-dashed-wrapped\"><div class=\"sk-label-container\"><div class=\"sk-label sk-toggleable\"><input class=\"sk-toggleable__control sk-hidden--visually\" id=\"sk-estimator-id-47\" type=\"checkbox\" ><label for=\"sk-estimator-id-47\" class=\"sk-toggleable__label sk-toggleable__label-arrow\">RandomizedSearchCV</label><div class=\"sk-toggleable__content\"><pre>RandomizedSearchCV(cv=StratifiedKFold(n_splits=5, random_state=137, shuffle=True),\n",
              "                   estimator=XGBRegressor(base_score=None, booster=None,\n",
              "                                          callbacks=None,\n",
              "                                          colsample_bylevel=None,\n",
              "                                          colsample_bynode=None,\n",
              "                                          colsample_bytree=None, device=None,\n",
              "                                          early_stopping_rounds=None,\n",
              "                                          enable_categorical=False,\n",
              "                                          eval_metric=None, feature_types=None,\n",
              "                                          gamma=None, grow_policy=None,\n",
              "                                          importan...\n",
              "       0.90452261, 0.90954774, 0.91457286, 0.91959799, 0.92462312,\n",
              "       0.92964824, 0.93467337, 0.93969849, 0.94472362, 0.94974874,\n",
              "       0.95477387, 0.95979899, 0.96482412, 0.96984925, 0.97487437,\n",
              "       0.9798995 , 0.98492462, 0.98994975, 0.99497487, 1.        ]),\n",
              "                                        &#x27;max_depth&#x27;: [1, 2, 3, 4, 5, 6, 7, 8, 9,\n",
              "                                                      10, 11, 12, 13, 14, 15,\n",
              "                                                      16, 17, 18, 19],\n",
              "                                        &#x27;objective&#x27;: [&#x27;reg:linear&#x27;,\n",
              "                                                      &#x27;reg:squarederror&#x27;,\n",
              "                                                      &#x27;reg:absoluteerror&#x27;]},\n",
              "                   random_state=137)</pre></div></div></div><div class=\"sk-parallel\"><div class=\"sk-parallel-item\"><div class=\"sk-item\"><div class=\"sk-label-container\"><div class=\"sk-label sk-toggleable\"><input class=\"sk-toggleable__control sk-hidden--visually\" id=\"sk-estimator-id-48\" type=\"checkbox\" ><label for=\"sk-estimator-id-48\" class=\"sk-toggleable__label sk-toggleable__label-arrow\">estimator: XGBRegressor</label><div class=\"sk-toggleable__content\"><pre>XGBRegressor(base_score=None, booster=None, callbacks=None,\n",
              "             colsample_bylevel=None, colsample_bynode=None,\n",
              "             colsample_bytree=None, device=None, early_stopping_rounds=None,\n",
              "             enable_categorical=False, eval_metric=None, feature_types=None,\n",
              "             gamma=None, grow_policy=None, importance_type=None,\n",
              "             interaction_constraints=None, learning_rate=None, max_bin=None,\n",
              "             max_cat_threshold=None, max_cat_to_onehot=None,\n",
              "             max_delta_step=None, max_depth=None, max_leaves=None,\n",
              "             min_child_weight=None, missing=nan, monotone_constraints=None,\n",
              "             multi_strategy=None, n_estimators=None, n_jobs=None,\n",
              "             num_parallel_tree=None, random_state=None, ...)</pre></div></div></div><div class=\"sk-serial\"><div class=\"sk-item\"><div class=\"sk-estimator sk-toggleable\"><input class=\"sk-toggleable__control sk-hidden--visually\" id=\"sk-estimator-id-49\" type=\"checkbox\" ><label for=\"sk-estimator-id-49\" class=\"sk-toggleable__label sk-toggleable__label-arrow\">XGBRegressor</label><div class=\"sk-toggleable__content\"><pre>XGBRegressor(base_score=None, booster=None, callbacks=None,\n",
              "             colsample_bylevel=None, colsample_bynode=None,\n",
              "             colsample_bytree=None, device=None, early_stopping_rounds=None,\n",
              "             enable_categorical=False, eval_metric=None, feature_types=None,\n",
              "             gamma=None, grow_policy=None, importance_type=None,\n",
              "             interaction_constraints=None, learning_rate=None, max_bin=None,\n",
              "             max_cat_threshold=None, max_cat_to_onehot=None,\n",
              "             max_delta_step=None, max_depth=None, max_leaves=None,\n",
              "             min_child_weight=None, missing=nan, monotone_constraints=None,\n",
              "             multi_strategy=None, n_estimators=None, n_jobs=None,\n",
              "             num_parallel_tree=None, random_state=None, ...)</pre></div></div></div></div></div></div></div></div></div></div>"
            ]
          },
          "metadata": {},
          "execution_count": 197
        }
      ]
    },
    {
      "cell_type": "markdown",
      "source": [
        "Entreno el modelo con los mejores híperparametros que se encontraron mediante random search."
      ],
      "metadata": {
        "id": "p3avDTmaLYMD"
      }
    },
    {
      "cell_type": "code",
      "source": [
        "mejor_arbol = xgboost.XGBRegressor()\n",
        "mejor_arbol.set_params(**randomcv.best_params_)\n",
        "\n",
        "mejor_arbol.fit(X_train, y_train)"
      ],
      "metadata": {
        "id": "wEn_eiqU7Z0s",
        "colab": {
          "base_uri": "https://localhost:8080/",
          "height": 248
        },
        "outputId": "b1bfee49-53a3-4857-805c-78d1351ff89d"
      },
      "execution_count": null,
      "outputs": [
        {
          "output_type": "execute_result",
          "data": {
            "text/plain": [
              "XGBRegressor(alpha=0.3469387755102041, base_score=None, booster='gbtree',\n",
              "             callbacks=None, colsample_bylevel=None, colsample_bynode=None,\n",
              "             colsample_bytree=None, device=None, early_stopping_rounds=None,\n",
              "             enable_categorical=False, eval_metric='mae', feature_types=None,\n",
              "             gamma=91.30434782608695, grow_policy=None, importance_type=None,\n",
              "             interaction_constraints=None, lambda=0.8775510204081632,\n",
              "             learning_rate=0.6180904522613065, max_bin=None,\n",
              "             max_cat_threshold=None, max_cat_to_onehot=None,\n",
              "             max_delta_step=None, max_depth=14, max_leaves=None,\n",
              "             min_child_weight=None, missing=nan, monotone_constraints=None,\n",
              "             multi_strategy=None, n_estimators=None, n_jobs=None, ...)"
            ],
            "text/html": [
              "<style>#sk-container-id-24 {color: black;background-color: white;}#sk-container-id-24 pre{padding: 0;}#sk-container-id-24 div.sk-toggleable {background-color: white;}#sk-container-id-24 label.sk-toggleable__label {cursor: pointer;display: block;width: 100%;margin-bottom: 0;padding: 0.3em;box-sizing: border-box;text-align: center;}#sk-container-id-24 label.sk-toggleable__label-arrow:before {content: \"▸\";float: left;margin-right: 0.25em;color: #696969;}#sk-container-id-24 label.sk-toggleable__label-arrow:hover:before {color: black;}#sk-container-id-24 div.sk-estimator:hover label.sk-toggleable__label-arrow:before {color: black;}#sk-container-id-24 div.sk-toggleable__content {max-height: 0;max-width: 0;overflow: hidden;text-align: left;background-color: #f0f8ff;}#sk-container-id-24 div.sk-toggleable__content pre {margin: 0.2em;color: black;border-radius: 0.25em;background-color: #f0f8ff;}#sk-container-id-24 input.sk-toggleable__control:checked~div.sk-toggleable__content {max-height: 200px;max-width: 100%;overflow: auto;}#sk-container-id-24 input.sk-toggleable__control:checked~label.sk-toggleable__label-arrow:before {content: \"▾\";}#sk-container-id-24 div.sk-estimator input.sk-toggleable__control:checked~label.sk-toggleable__label {background-color: #d4ebff;}#sk-container-id-24 div.sk-label input.sk-toggleable__control:checked~label.sk-toggleable__label {background-color: #d4ebff;}#sk-container-id-24 input.sk-hidden--visually {border: 0;clip: rect(1px 1px 1px 1px);clip: rect(1px, 1px, 1px, 1px);height: 1px;margin: -1px;overflow: hidden;padding: 0;position: absolute;width: 1px;}#sk-container-id-24 div.sk-estimator {font-family: monospace;background-color: #f0f8ff;border: 1px dotted black;border-radius: 0.25em;box-sizing: border-box;margin-bottom: 0.5em;}#sk-container-id-24 div.sk-estimator:hover {background-color: #d4ebff;}#sk-container-id-24 div.sk-parallel-item::after {content: \"\";width: 100%;border-bottom: 1px solid gray;flex-grow: 1;}#sk-container-id-24 div.sk-label:hover label.sk-toggleable__label {background-color: #d4ebff;}#sk-container-id-24 div.sk-serial::before {content: \"\";position: absolute;border-left: 1px solid gray;box-sizing: border-box;top: 0;bottom: 0;left: 50%;z-index: 0;}#sk-container-id-24 div.sk-serial {display: flex;flex-direction: column;align-items: center;background-color: white;padding-right: 0.2em;padding-left: 0.2em;position: relative;}#sk-container-id-24 div.sk-item {position: relative;z-index: 1;}#sk-container-id-24 div.sk-parallel {display: flex;align-items: stretch;justify-content: center;background-color: white;position: relative;}#sk-container-id-24 div.sk-item::before, #sk-container-id-24 div.sk-parallel-item::before {content: \"\";position: absolute;border-left: 1px solid gray;box-sizing: border-box;top: 0;bottom: 0;left: 50%;z-index: -1;}#sk-container-id-24 div.sk-parallel-item {display: flex;flex-direction: column;z-index: 1;position: relative;background-color: white;}#sk-container-id-24 div.sk-parallel-item:first-child::after {align-self: flex-end;width: 50%;}#sk-container-id-24 div.sk-parallel-item:last-child::after {align-self: flex-start;width: 50%;}#sk-container-id-24 div.sk-parallel-item:only-child::after {width: 0;}#sk-container-id-24 div.sk-dashed-wrapped {border: 1px dashed gray;margin: 0 0.4em 0.5em 0.4em;box-sizing: border-box;padding-bottom: 0.4em;background-color: white;}#sk-container-id-24 div.sk-label label {font-family: monospace;font-weight: bold;display: inline-block;line-height: 1.2em;}#sk-container-id-24 div.sk-label-container {text-align: center;}#sk-container-id-24 div.sk-container {/* jupyter's `normalize.less` sets `[hidden] { display: none; }` but bootstrap.min.css set `[hidden] { display: none !important; }` so we also need the `!important` here to be able to override the default hidden behavior on the sphinx rendered scikit-learn.org. See: https://github.com/scikit-learn/scikit-learn/issues/21755 */display: inline-block !important;position: relative;}#sk-container-id-24 div.sk-text-repr-fallback {display: none;}</style><div id=\"sk-container-id-24\" class=\"sk-top-container\"><div class=\"sk-text-repr-fallback\"><pre>XGBRegressor(alpha=0.3469387755102041, base_score=None, booster=&#x27;gbtree&#x27;,\n",
              "             callbacks=None, colsample_bylevel=None, colsample_bynode=None,\n",
              "             colsample_bytree=None, device=None, early_stopping_rounds=None,\n",
              "             enable_categorical=False, eval_metric=&#x27;mae&#x27;, feature_types=None,\n",
              "             gamma=91.30434782608695, grow_policy=None, importance_type=None,\n",
              "             interaction_constraints=None, lambda=0.8775510204081632,\n",
              "             learning_rate=0.6180904522613065, max_bin=None,\n",
              "             max_cat_threshold=None, max_cat_to_onehot=None,\n",
              "             max_delta_step=None, max_depth=14, max_leaves=None,\n",
              "             min_child_weight=None, missing=nan, monotone_constraints=None,\n",
              "             multi_strategy=None, n_estimators=None, n_jobs=None, ...)</pre><b>In a Jupyter environment, please rerun this cell to show the HTML representation or trust the notebook. <br />On GitHub, the HTML representation is unable to render, please try loading this page with nbviewer.org.</b></div><div class=\"sk-container\" hidden><div class=\"sk-item\"><div class=\"sk-estimator sk-toggleable\"><input class=\"sk-toggleable__control sk-hidden--visually\" id=\"sk-estimator-id-50\" type=\"checkbox\" checked><label for=\"sk-estimator-id-50\" class=\"sk-toggleable__label sk-toggleable__label-arrow\">XGBRegressor</label><div class=\"sk-toggleable__content\"><pre>XGBRegressor(alpha=0.3469387755102041, base_score=None, booster=&#x27;gbtree&#x27;,\n",
              "             callbacks=None, colsample_bylevel=None, colsample_bynode=None,\n",
              "             colsample_bytree=None, device=None, early_stopping_rounds=None,\n",
              "             enable_categorical=False, eval_metric=&#x27;mae&#x27;, feature_types=None,\n",
              "             gamma=91.30434782608695, grow_policy=None, importance_type=None,\n",
              "             interaction_constraints=None, lambda=0.8775510204081632,\n",
              "             learning_rate=0.6180904522613065, max_bin=None,\n",
              "             max_cat_threshold=None, max_cat_to_onehot=None,\n",
              "             max_delta_step=None, max_depth=14, max_leaves=None,\n",
              "             min_child_weight=None, missing=nan, monotone_constraints=None,\n",
              "             multi_strategy=None, n_estimators=None, n_jobs=None, ...)</pre></div></div></div></div></div>"
            ]
          },
          "metadata": {},
          "execution_count": 198
        }
      ]
    },
    {
      "cell_type": "markdown",
      "source": [
        "Hago las predicciones."
      ],
      "metadata": {
        "id": "nG2b06Y2C-XL"
      }
    },
    {
      "cell_type": "code",
      "source": [
        "y_pred_arbol = mejor_arbol.predict(X_test)"
      ],
      "metadata": {
        "id": "MPOuZaJmC_je"
      },
      "execution_count": null,
      "outputs": []
    },
    {
      "cell_type": "markdown",
      "source": [
        "Guardo los puntajes R2 de cross validation."
      ],
      "metadata": {
        "id": "UZ-DvdK4LcZW"
      }
    },
    {
      "cell_type": "code",
      "source": [
        "scores = cross_val_score(mejor_arbol, X_train, y_train, cv=kfoldcv)"
      ],
      "metadata": {
        "id": "15Mfhy2FDVfy"
      },
      "execution_count": null,
      "outputs": []
    },
    {
      "cell_type": "markdown",
      "source": [
        "Muestro los mejores híperparametros del mejor árbol."
      ],
      "metadata": {
        "id": "rDJ6pMxgLfbW"
      }
    },
    {
      "cell_type": "code",
      "source": [
        "print(randomcv.best_params_)"
      ],
      "metadata": {
        "colab": {
          "base_uri": "https://localhost:8080/"
        },
        "id": "7BBPOZYBBupZ",
        "outputId": "5c8e749e-20dd-48b7-9b5d-7e35c185dabf"
      },
      "execution_count": null,
      "outputs": [
        {
          "output_type": "stream",
          "name": "stdout",
          "text": [
            "{'objective': 'reg:squarederror', 'max_depth': 14, 'learning_rate': 0.6180904522613065, 'lambda': 0.8775510204081632, 'gamma': 91.30434782608695, 'eval_metric': 'mae', 'booster': 'gbtree', 'alpha': 0.3469387755102041}\n"
          ]
        }
      ]
    },
    {
      "cell_type": "markdown",
      "source": [
        "Ahora observamos los puntajes R2 de cross validation de random search y se puede observar que se obtuvieron mejores scores y un mejor estimador con un tree booster."
      ],
      "metadata": {
        "id": "7WuV_yfAEDnC"
      }
    },
    {
      "cell_type": "code",
      "source": [
        "train_score = mejor_arbol.score(X_train, y_train)\n",
        "\n",
        "print(\"R2 train: \", train_score)\n",
        "print(\"Cross val R2 scores: \", scores)"
      ],
      "metadata": {
        "colab": {
          "base_uri": "https://localhost:8080/"
        },
        "id": "ajaW6VprDTlC",
        "outputId": "cabf4106-d9df-49e8-de59-d47b61e05a5f"
      },
      "execution_count": null,
      "outputs": [
        {
          "output_type": "stream",
          "name": "stdout",
          "text": [
            "R2 train:  0.9949407040585045\n",
            "Cross val R2 scores:  [0.86963458 0.8667845  0.87147699 0.875446   0.85705143]\n"
          ]
        }
      ]
    },
    {
      "cell_type": "markdown",
      "source": [
        "Metricas (RMSE, MSE, R2) sobre el conjunto de test."
      ],
      "metadata": {
        "id": "9aOtpAIKDRdw"
      }
    },
    {
      "cell_type": "code",
      "source": [
        "rmse_arbol = np.sqrt(MSE(y_test, y_pred_arbol))\n",
        "mse_arbol = MSE(y_test, y_pred_arbol)\n",
        "r2_arbol = R2(y_test, y_pred_arbol)\n",
        "\n",
        "print(\"RMSE: % f\" %(rmse_arbol))\n",
        "print(\"MSE: % f\" %(mse_arbol))\n",
        "print(\"R2: % f\" %(r2_arbol))"
      ],
      "metadata": {
        "colab": {
          "base_uri": "https://localhost:8080/"
        },
        "id": "mbgf2Xc0Czao",
        "outputId": "ab16109b-7f3d-4356-b0e0-5af27ec3c01a"
      },
      "execution_count": null,
      "outputs": [
        {
          "output_type": "stream",
          "name": "stdout",
          "text": [
            "RMSE:  48864.468349\n",
            "MSE:  2387736267.051718\n",
            "R2:  0.865047\n"
          ]
        }
      ]
    },
    {
      "cell_type": "markdown",
      "source": [
        "De esto último puede concluirse que el modelo parece estar teniendo Overfitting, ya que en test la métrica está al rededor de 10 puntos por debajo, teniendo un score R2 casi perfecto para train."
      ],
      "metadata": {
        "id": "zjWdtNnAUtGm"
      }
    },
    {
      "cell_type": "markdown",
      "source": [
        "## Entrenamiento escalando datos"
      ],
      "metadata": {
        "id": "yPNkH5gsUarc"
      }
    },
    {
      "cell_type": "markdown",
      "source": [
        "### Escalado de datos"
      ],
      "metadata": {
        "id": "PcTXRxaOU9Ui"
      }
    },
    {
      "cell_type": "markdown",
      "source": [
        "Para este siguiente entrenamiento, buscamos escalar los datos de superficies, latitud y longitud mediante un escalador estándar, a modo de ver que impacto tienen estas variables a la hora de predecir el precio."
      ],
      "metadata": {
        "id": "ti-chtf5UfD7"
      }
    },
    {
      "cell_type": "code",
      "source": [
        "df_escalado = df.copy()"
      ],
      "metadata": {
        "id": "tixGpVOj6y1w"
      },
      "execution_count": null,
      "outputs": []
    },
    {
      "cell_type": "markdown",
      "source": [
        "Escalo latitud y longitud."
      ],
      "metadata": {
        "id": "H2UnJ3Ic7OcS"
      }
    },
    {
      "cell_type": "code",
      "source": [
        "std_scaler = StandardScaler()\n",
        "\n",
        "std_scaler.fit(pd.DataFrame(df_escalado['property_surface_total']).to_numpy())\n",
        "\n",
        "df_escalado['latitud'] = std_scaler.transform(pd.DataFrame(df_escalado['latitud']).to_numpy())"
      ],
      "metadata": {
        "id": "_tBRFpdqVB-x"
      },
      "execution_count": null,
      "outputs": []
    },
    {
      "cell_type": "code",
      "source": [
        "std_scaler = StandardScaler()\n",
        "\n",
        "std_scaler.fit(pd.DataFrame(df_escalado['longitud']).to_numpy())\n",
        "\n",
        "df_escalado['longitud'] = std_scaler.transform(pd.DataFrame(df_escalado['longitud']).to_numpy())"
      ],
      "metadata": {
        "id": "ifOBqqNw7KDG"
      },
      "execution_count": null,
      "outputs": []
    },
    {
      "cell_type": "markdown",
      "source": [
        "Escalo las superficies."
      ],
      "metadata": {
        "id": "QuQkoaD87P_V"
      }
    },
    {
      "cell_type": "code",
      "source": [
        "std_scaler = StandardScaler()\n",
        "\n",
        "std_scaler.fit(pd.DataFrame(df_escalado['property_surface_total']).to_numpy())\n",
        "\n",
        "df_escalado['property_surface_total'] = std_scaler.transform(pd.DataFrame(df_escalado['property_surface_total']).to_numpy())"
      ],
      "metadata": {
        "id": "fjrnRR8NVCSk"
      },
      "execution_count": null,
      "outputs": []
    },
    {
      "cell_type": "code",
      "source": [
        "std_scaler = StandardScaler()\n",
        "\n",
        "std_scaler.fit(pd.DataFrame(df_escalado['property_surface_covered']).to_numpy())\n",
        "\n",
        "df_escalado['property_surface_covered'] = std_scaler.transform(pd.DataFrame(df_escalado['property_surface_covered']).to_numpy())"
      ],
      "metadata": {
        "id": "cKVu1mPC7TLF"
      },
      "execution_count": null,
      "outputs": []
    },
    {
      "cell_type": "markdown",
      "source": [
        "Genero los dataframes de x (features) e y (targets)."
      ],
      "metadata": {
        "id": "LV29aOjO7aYu"
      }
    },
    {
      "cell_type": "code",
      "source": [
        "df_escalado_x = df_escalado[features]\n",
        "df_escalado_y = df_escalado[target]"
      ],
      "metadata": {
        "id": "C7-m1NJr7YmA"
      },
      "execution_count": null,
      "outputs": []
    },
    {
      "cell_type": "markdown",
      "source": [
        "### Generación de nuevos conjuntos de train y test"
      ],
      "metadata": {
        "id": "kcaURtniVCzY"
      }
    },
    {
      "cell_type": "markdown",
      "source": [
        "Genero los conjuntos de train y test de la misma forma que antes."
      ],
      "metadata": {
        "id": "ZR0FZSV372h2"
      }
    },
    {
      "cell_type": "code",
      "source": [
        "X_train, X_test, y_train, y_test = train_test_split(df_escalado_x, df_escalado_y, test_size=0.20, stratify=df_escalado['tipo_precio'].values, random_state=semilla)"
      ],
      "metadata": {
        "id": "8DuL8mGyVFmg"
      },
      "execution_count": null,
      "outputs": []
    },
    {
      "cell_type": "markdown",
      "source": [
        "### Entrenamiento de un booster linear"
      ],
      "metadata": {
        "id": "hUR9_oBxVGUy"
      }
    },
    {
      "cell_type": "markdown",
      "source": [
        "Hago random search para encontrar los mejores híperparametros en 10 iteraciones con 5 folds de cross validation."
      ],
      "metadata": {
        "id": "mSmhWkuf8Nom"
      }
    },
    {
      "cell_type": "code",
      "source": [
        "n = 10\n",
        "folds = 5\n",
        "\n",
        "params_grid = {\"booster\": [\"gblinear\"],\n",
        "               \"objective\": [\"reg:linear\", \"reg:squarederror\", \"reg:absoluteerror\"],\n",
        "               \"eval_metric\": [\"rmse\", \"mae\"],\n",
        "               \"learning_rate\": np.linspace(0, 1, 200),\n",
        "               \"gamma\": np.linspace(0, 100, 300),\n",
        "               \"lambda\": np.linspace(0, 1),\n",
        "               \"alpha\": np.linspace(0, 1)\n",
        "               }\n",
        "\n",
        "kfoldcv = StratifiedKFold(n_splits=folds, shuffle=True, random_state=semilla)\n",
        "\n",
        "xgb_base = xgboost.XGBRegressor()\n",
        "\n",
        "randomcv = RandomizedSearchCV(estimator=xgb_base,\n",
        "                              param_distributions=params_grid,\n",
        "                              cv=kfoldcv,\n",
        "                              n_iter=n,\n",
        "                              random_state=semilla)\n",
        "\n",
        "randomcv.fit(X_train, y_train)"
      ],
      "metadata": {
        "colab": {
          "base_uri": "https://localhost:8080/",
          "height": 118
        },
        "id": "Vjn7EOXO71wL",
        "outputId": "7329ac44-5c56-4ab3-f63c-3ad999c180d0"
      },
      "execution_count": null,
      "outputs": [
        {
          "output_type": "execute_result",
          "data": {
            "text/plain": [
              "RandomizedSearchCV(cv=StratifiedKFold(n_splits=5, random_state=137, shuffle=True),\n",
              "                   estimator=XGBRegressor(base_score=None, booster=None,\n",
              "                                          callbacks=None,\n",
              "                                          colsample_bylevel=None,\n",
              "                                          colsample_bynode=None,\n",
              "                                          colsample_bytree=None, device=None,\n",
              "                                          early_stopping_rounds=None,\n",
              "                                          enable_categorical=False,\n",
              "                                          eval_metric=None, feature_types=None,\n",
              "                                          gamma=None, grow_policy=None,\n",
              "                                          importan...\n",
              "       0.87939698, 0.88442211, 0.88944724, 0.89447236, 0.89949749,\n",
              "       0.90452261, 0.90954774, 0.91457286, 0.91959799, 0.92462312,\n",
              "       0.92964824, 0.93467337, 0.93969849, 0.94472362, 0.94974874,\n",
              "       0.95477387, 0.95979899, 0.96482412, 0.96984925, 0.97487437,\n",
              "       0.9798995 , 0.98492462, 0.98994975, 0.99497487, 1.        ]),\n",
              "                                        'objective': ['reg:linear',\n",
              "                                                      'reg:squarederror',\n",
              "                                                      'reg:absoluteerror']},\n",
              "                   random_state=137)"
            ],
            "text/html": [
              "<style>#sk-container-id-25 {color: black;background-color: white;}#sk-container-id-25 pre{padding: 0;}#sk-container-id-25 div.sk-toggleable {background-color: white;}#sk-container-id-25 label.sk-toggleable__label {cursor: pointer;display: block;width: 100%;margin-bottom: 0;padding: 0.3em;box-sizing: border-box;text-align: center;}#sk-container-id-25 label.sk-toggleable__label-arrow:before {content: \"▸\";float: left;margin-right: 0.25em;color: #696969;}#sk-container-id-25 label.sk-toggleable__label-arrow:hover:before {color: black;}#sk-container-id-25 div.sk-estimator:hover label.sk-toggleable__label-arrow:before {color: black;}#sk-container-id-25 div.sk-toggleable__content {max-height: 0;max-width: 0;overflow: hidden;text-align: left;background-color: #f0f8ff;}#sk-container-id-25 div.sk-toggleable__content pre {margin: 0.2em;color: black;border-radius: 0.25em;background-color: #f0f8ff;}#sk-container-id-25 input.sk-toggleable__control:checked~div.sk-toggleable__content {max-height: 200px;max-width: 100%;overflow: auto;}#sk-container-id-25 input.sk-toggleable__control:checked~label.sk-toggleable__label-arrow:before {content: \"▾\";}#sk-container-id-25 div.sk-estimator input.sk-toggleable__control:checked~label.sk-toggleable__label {background-color: #d4ebff;}#sk-container-id-25 div.sk-label input.sk-toggleable__control:checked~label.sk-toggleable__label {background-color: #d4ebff;}#sk-container-id-25 input.sk-hidden--visually {border: 0;clip: rect(1px 1px 1px 1px);clip: rect(1px, 1px, 1px, 1px);height: 1px;margin: -1px;overflow: hidden;padding: 0;position: absolute;width: 1px;}#sk-container-id-25 div.sk-estimator {font-family: monospace;background-color: #f0f8ff;border: 1px dotted black;border-radius: 0.25em;box-sizing: border-box;margin-bottom: 0.5em;}#sk-container-id-25 div.sk-estimator:hover {background-color: #d4ebff;}#sk-container-id-25 div.sk-parallel-item::after {content: \"\";width: 100%;border-bottom: 1px solid gray;flex-grow: 1;}#sk-container-id-25 div.sk-label:hover label.sk-toggleable__label {background-color: #d4ebff;}#sk-container-id-25 div.sk-serial::before {content: \"\";position: absolute;border-left: 1px solid gray;box-sizing: border-box;top: 0;bottom: 0;left: 50%;z-index: 0;}#sk-container-id-25 div.sk-serial {display: flex;flex-direction: column;align-items: center;background-color: white;padding-right: 0.2em;padding-left: 0.2em;position: relative;}#sk-container-id-25 div.sk-item {position: relative;z-index: 1;}#sk-container-id-25 div.sk-parallel {display: flex;align-items: stretch;justify-content: center;background-color: white;position: relative;}#sk-container-id-25 div.sk-item::before, #sk-container-id-25 div.sk-parallel-item::before {content: \"\";position: absolute;border-left: 1px solid gray;box-sizing: border-box;top: 0;bottom: 0;left: 50%;z-index: -1;}#sk-container-id-25 div.sk-parallel-item {display: flex;flex-direction: column;z-index: 1;position: relative;background-color: white;}#sk-container-id-25 div.sk-parallel-item:first-child::after {align-self: flex-end;width: 50%;}#sk-container-id-25 div.sk-parallel-item:last-child::after {align-self: flex-start;width: 50%;}#sk-container-id-25 div.sk-parallel-item:only-child::after {width: 0;}#sk-container-id-25 div.sk-dashed-wrapped {border: 1px dashed gray;margin: 0 0.4em 0.5em 0.4em;box-sizing: border-box;padding-bottom: 0.4em;background-color: white;}#sk-container-id-25 div.sk-label label {font-family: monospace;font-weight: bold;display: inline-block;line-height: 1.2em;}#sk-container-id-25 div.sk-label-container {text-align: center;}#sk-container-id-25 div.sk-container {/* jupyter's `normalize.less` sets `[hidden] { display: none; }` but bootstrap.min.css set `[hidden] { display: none !important; }` so we also need the `!important` here to be able to override the default hidden behavior on the sphinx rendered scikit-learn.org. See: https://github.com/scikit-learn/scikit-learn/issues/21755 */display: inline-block !important;position: relative;}#sk-container-id-25 div.sk-text-repr-fallback {display: none;}</style><div id=\"sk-container-id-25\" class=\"sk-top-container\"><div class=\"sk-text-repr-fallback\"><pre>RandomizedSearchCV(cv=StratifiedKFold(n_splits=5, random_state=137, shuffle=True),\n",
              "                   estimator=XGBRegressor(base_score=None, booster=None,\n",
              "                                          callbacks=None,\n",
              "                                          colsample_bylevel=None,\n",
              "                                          colsample_bynode=None,\n",
              "                                          colsample_bytree=None, device=None,\n",
              "                                          early_stopping_rounds=None,\n",
              "                                          enable_categorical=False,\n",
              "                                          eval_metric=None, feature_types=None,\n",
              "                                          gamma=None, grow_policy=None,\n",
              "                                          importan...\n",
              "       0.87939698, 0.88442211, 0.88944724, 0.89447236, 0.89949749,\n",
              "       0.90452261, 0.90954774, 0.91457286, 0.91959799, 0.92462312,\n",
              "       0.92964824, 0.93467337, 0.93969849, 0.94472362, 0.94974874,\n",
              "       0.95477387, 0.95979899, 0.96482412, 0.96984925, 0.97487437,\n",
              "       0.9798995 , 0.98492462, 0.98994975, 0.99497487, 1.        ]),\n",
              "                                        &#x27;objective&#x27;: [&#x27;reg:linear&#x27;,\n",
              "                                                      &#x27;reg:squarederror&#x27;,\n",
              "                                                      &#x27;reg:absoluteerror&#x27;]},\n",
              "                   random_state=137)</pre><b>In a Jupyter environment, please rerun this cell to show the HTML representation or trust the notebook. <br />On GitHub, the HTML representation is unable to render, please try loading this page with nbviewer.org.</b></div><div class=\"sk-container\" hidden><div class=\"sk-item sk-dashed-wrapped\"><div class=\"sk-label-container\"><div class=\"sk-label sk-toggleable\"><input class=\"sk-toggleable__control sk-hidden--visually\" id=\"sk-estimator-id-51\" type=\"checkbox\" ><label for=\"sk-estimator-id-51\" class=\"sk-toggleable__label sk-toggleable__label-arrow\">RandomizedSearchCV</label><div class=\"sk-toggleable__content\"><pre>RandomizedSearchCV(cv=StratifiedKFold(n_splits=5, random_state=137, shuffle=True),\n",
              "                   estimator=XGBRegressor(base_score=None, booster=None,\n",
              "                                          callbacks=None,\n",
              "                                          colsample_bylevel=None,\n",
              "                                          colsample_bynode=None,\n",
              "                                          colsample_bytree=None, device=None,\n",
              "                                          early_stopping_rounds=None,\n",
              "                                          enable_categorical=False,\n",
              "                                          eval_metric=None, feature_types=None,\n",
              "                                          gamma=None, grow_policy=None,\n",
              "                                          importan...\n",
              "       0.87939698, 0.88442211, 0.88944724, 0.89447236, 0.89949749,\n",
              "       0.90452261, 0.90954774, 0.91457286, 0.91959799, 0.92462312,\n",
              "       0.92964824, 0.93467337, 0.93969849, 0.94472362, 0.94974874,\n",
              "       0.95477387, 0.95979899, 0.96482412, 0.96984925, 0.97487437,\n",
              "       0.9798995 , 0.98492462, 0.98994975, 0.99497487, 1.        ]),\n",
              "                                        &#x27;objective&#x27;: [&#x27;reg:linear&#x27;,\n",
              "                                                      &#x27;reg:squarederror&#x27;,\n",
              "                                                      &#x27;reg:absoluteerror&#x27;]},\n",
              "                   random_state=137)</pre></div></div></div><div class=\"sk-parallel\"><div class=\"sk-parallel-item\"><div class=\"sk-item\"><div class=\"sk-label-container\"><div class=\"sk-label sk-toggleable\"><input class=\"sk-toggleable__control sk-hidden--visually\" id=\"sk-estimator-id-52\" type=\"checkbox\" ><label for=\"sk-estimator-id-52\" class=\"sk-toggleable__label sk-toggleable__label-arrow\">estimator: XGBRegressor</label><div class=\"sk-toggleable__content\"><pre>XGBRegressor(base_score=None, booster=None, callbacks=None,\n",
              "             colsample_bylevel=None, colsample_bynode=None,\n",
              "             colsample_bytree=None, device=None, early_stopping_rounds=None,\n",
              "             enable_categorical=False, eval_metric=None, feature_types=None,\n",
              "             gamma=None, grow_policy=None, importance_type=None,\n",
              "             interaction_constraints=None, learning_rate=None, max_bin=None,\n",
              "             max_cat_threshold=None, max_cat_to_onehot=None,\n",
              "             max_delta_step=None, max_depth=None, max_leaves=None,\n",
              "             min_child_weight=None, missing=nan, monotone_constraints=None,\n",
              "             multi_strategy=None, n_estimators=None, n_jobs=None,\n",
              "             num_parallel_tree=None, random_state=None, ...)</pre></div></div></div><div class=\"sk-serial\"><div class=\"sk-item\"><div class=\"sk-estimator sk-toggleable\"><input class=\"sk-toggleable__control sk-hidden--visually\" id=\"sk-estimator-id-53\" type=\"checkbox\" ><label for=\"sk-estimator-id-53\" class=\"sk-toggleable__label sk-toggleable__label-arrow\">XGBRegressor</label><div class=\"sk-toggleable__content\"><pre>XGBRegressor(base_score=None, booster=None, callbacks=None,\n",
              "             colsample_bylevel=None, colsample_bynode=None,\n",
              "             colsample_bytree=None, device=None, early_stopping_rounds=None,\n",
              "             enable_categorical=False, eval_metric=None, feature_types=None,\n",
              "             gamma=None, grow_policy=None, importance_type=None,\n",
              "             interaction_constraints=None, learning_rate=None, max_bin=None,\n",
              "             max_cat_threshold=None, max_cat_to_onehot=None,\n",
              "             max_delta_step=None, max_depth=None, max_leaves=None,\n",
              "             min_child_weight=None, missing=nan, monotone_constraints=None,\n",
              "             multi_strategy=None, n_estimators=None, n_jobs=None,\n",
              "             num_parallel_tree=None, random_state=None, ...)</pre></div></div></div></div></div></div></div></div></div></div>"
            ]
          },
          "metadata": {},
          "execution_count": 211
        }
      ]
    },
    {
      "cell_type": "markdown",
      "source": [
        "Veo los mejores híperparametros y entreno el estimador con los híperparametros encontrados."
      ],
      "metadata": {
        "id": "4DnG0q428NK8"
      }
    },
    {
      "cell_type": "code",
      "source": [
        "mejor_linear_escalado = xgboost.XGBRegressor()\n",
        "mejor_linear_escalado.set_params(**randomcv.best_params_)\n",
        "\n",
        "mejor_linear_escalado.fit(X_train, y_train)\n",
        "\n",
        "print(\"Híperparametros: \", randomcv.best_params_)"
      ],
      "metadata": {
        "colab": {
          "base_uri": "https://localhost:8080/"
        },
        "id": "952X89uK8dOw",
        "outputId": "daa16694-8a30-4097-e51e-685c806a35ec"
      },
      "execution_count": null,
      "outputs": [
        {
          "output_type": "stream",
          "name": "stdout",
          "text": [
            "Híperparametros:  {'objective': 'reg:squarederror', 'learning_rate': 0.9547738693467337, 'lambda': 0.16326530612244897, 'gamma': 51.83946488294314, 'eval_metric': 'mae', 'booster': 'gblinear', 'alpha': 0.6530612244897959}\n"
          ]
        }
      ]
    },
    {
      "cell_type": "markdown",
      "source": [
        "Hago las predicciones nuevamente."
      ],
      "metadata": {
        "id": "1SNdFZKXDZ7T"
      }
    },
    {
      "cell_type": "code",
      "source": [
        "y_pred_linear_escalado = mejor_linear_escalado.predict(X_test)"
      ],
      "metadata": {
        "id": "_RmEpfjoDZuG"
      },
      "execution_count": null,
      "outputs": []
    },
    {
      "cell_type": "markdown",
      "source": [
        "Ahora veo los scores de R2 del modelo en train y cross validation y puedo observar que se producen cambios ligeros en las mismas."
      ],
      "metadata": {
        "id": "4eAYstOv94Oi"
      }
    },
    {
      "cell_type": "code",
      "source": [
        "scores = cross_val_score(mejor_linear_escalado, X_train, y_train, cv=kfoldcv)\n",
        "train_score = mejor_linear_escalado.score(X_train, y_train)\n",
        "\n",
        "print(\"R2 train: \", train_score)\n",
        "print(\"Cross val R2 scores: \", scores)"
      ],
      "metadata": {
        "colab": {
          "base_uri": "https://localhost:8080/"
        },
        "id": "l_q_SEaS9m_6",
        "outputId": "4688fce5-ca1e-4b4d-c1e4-638931360810"
      },
      "execution_count": null,
      "outputs": [
        {
          "output_type": "stream",
          "name": "stdout",
          "text": [
            "R2 train:  0.6227730162402785\n",
            "Cross val R2 scores:  [0.62407045 0.61235911 0.62850865 0.61955286 0.6295016 ]\n"
          ]
        }
      ]
    },
    {
      "cell_type": "markdown",
      "source": [
        "Muestro las metricas (RMSE, MSE, R2) sobre el conjunto de test."
      ],
      "metadata": {
        "id": "sZ_9g2QADgtb"
      }
    },
    {
      "cell_type": "code",
      "source": [
        "rmse_linear_escalado = np.sqrt(MSE(y_test, y_pred_linear_escalado))\n",
        "mse_linear_escalado = MSE(y_test, y_pred_linear_escalado)\n",
        "r2_linear_escalado = R2(y_test, y_pred_linear_escalado)\n",
        "\n",
        "print(\"RMSE: % f\" %(rmse_linear_escalado))\n",
        "print(\"MSE: % f\" %(mse_linear_escalado))\n",
        "print(\"R2: % f\" %(r2_linear_escalado))"
      ],
      "metadata": {
        "colab": {
          "base_uri": "https://localhost:8080/"
        },
        "id": "FVF7sN0WDggQ",
        "outputId": "45fe6791-8cd9-4975-b503-0ac8ec41bdd3"
      },
      "execution_count": null,
      "outputs": [
        {
          "output_type": "stream",
          "name": "stdout",
          "text": [
            "RMSE:  81709.075616\n",
            "MSE:  6676373037.958066\n",
            "R2:  0.622657\n"
          ]
        }
      ]
    },
    {
      "cell_type": "markdown",
      "source": [
        "Para estas últimas también hay ligeras mejorías pero no llegan a ser muy significativas."
      ],
      "metadata": {
        "id": "TSImqpThR795"
      }
    },
    {
      "cell_type": "markdown",
      "source": [
        "### Entrenamiento de un booster arbol"
      ],
      "metadata": {
        "id": "KNWZ9_28VIcP"
      }
    },
    {
      "cell_type": "markdown",
      "source": [
        "Hago random search para encontrar los mejores híperparametros en 10 iteraciones con 5 folds de cross validation."
      ],
      "metadata": {
        "id": "Fcdf9Gkm8WNB"
      }
    },
    {
      "cell_type": "code",
      "source": [
        "n = 10\n",
        "folds = 5\n",
        "\n",
        "params_grid = {\"booster\": [\"gbtree\"],\n",
        "               \"objective\": [\"reg:linear\", \"reg:squarederror\", \"reg:absoluteerror\"],\n",
        "               \"eval_metric\": [\"rmse\", \"mae\"],\n",
        "               \"learning_rate\": np.linspace(0, 1, 200),\n",
        "               \"gamma\": np.linspace(0, 100, 300),\n",
        "               \"max_depth\": list(range(1, 20)),\n",
        "               \"lambda\": np.linspace(0, 1),\n",
        "               \"alpha\": np.linspace(0, 1)\n",
        "               }\n",
        "\n",
        "kfoldcv = StratifiedKFold(n_splits=folds, shuffle=True, random_state=semilla)\n",
        "\n",
        "xgb_base = xgboost.XGBRegressor()\n",
        "\n",
        "randomcv = RandomizedSearchCV(estimator=xgb_base,\n",
        "                              param_distributions=params_grid,\n",
        "                              cv=kfoldcv,\n",
        "                              n_iter=n,\n",
        "                              random_state=semilla)\n",
        "\n",
        "randomcv.fit(X_train, y_train)"
      ],
      "metadata": {
        "colab": {
          "base_uri": "https://localhost:8080/",
          "height": 118
        },
        "id": "3BFjwIjL72Kk",
        "outputId": "0e63825f-89af-47fb-9cb0-21039e2fc2b4"
      },
      "execution_count": null,
      "outputs": [
        {
          "output_type": "execute_result",
          "data": {
            "text/plain": [
              "RandomizedSearchCV(cv=StratifiedKFold(n_splits=5, random_state=137, shuffle=True),\n",
              "                   estimator=XGBRegressor(base_score=None, booster=None,\n",
              "                                          callbacks=None,\n",
              "                                          colsample_bylevel=None,\n",
              "                                          colsample_bynode=None,\n",
              "                                          colsample_bytree=None, device=None,\n",
              "                                          early_stopping_rounds=None,\n",
              "                                          enable_categorical=False,\n",
              "                                          eval_metric=None, feature_types=None,\n",
              "                                          gamma=None, grow_policy=None,\n",
              "                                          importan...\n",
              "       0.90452261, 0.90954774, 0.91457286, 0.91959799, 0.92462312,\n",
              "       0.92964824, 0.93467337, 0.93969849, 0.94472362, 0.94974874,\n",
              "       0.95477387, 0.95979899, 0.96482412, 0.96984925, 0.97487437,\n",
              "       0.9798995 , 0.98492462, 0.98994975, 0.99497487, 1.        ]),\n",
              "                                        'max_depth': [1, 2, 3, 4, 5, 6, 7, 8, 9,\n",
              "                                                      10, 11, 12, 13, 14, 15,\n",
              "                                                      16, 17, 18, 19],\n",
              "                                        'objective': ['reg:linear',\n",
              "                                                      'reg:squarederror',\n",
              "                                                      'reg:absoluteerror']},\n",
              "                   random_state=137)"
            ],
            "text/html": [
              "<style>#sk-container-id-26 {color: black;background-color: white;}#sk-container-id-26 pre{padding: 0;}#sk-container-id-26 div.sk-toggleable {background-color: white;}#sk-container-id-26 label.sk-toggleable__label {cursor: pointer;display: block;width: 100%;margin-bottom: 0;padding: 0.3em;box-sizing: border-box;text-align: center;}#sk-container-id-26 label.sk-toggleable__label-arrow:before {content: \"▸\";float: left;margin-right: 0.25em;color: #696969;}#sk-container-id-26 label.sk-toggleable__label-arrow:hover:before {color: black;}#sk-container-id-26 div.sk-estimator:hover label.sk-toggleable__label-arrow:before {color: black;}#sk-container-id-26 div.sk-toggleable__content {max-height: 0;max-width: 0;overflow: hidden;text-align: left;background-color: #f0f8ff;}#sk-container-id-26 div.sk-toggleable__content pre {margin: 0.2em;color: black;border-radius: 0.25em;background-color: #f0f8ff;}#sk-container-id-26 input.sk-toggleable__control:checked~div.sk-toggleable__content {max-height: 200px;max-width: 100%;overflow: auto;}#sk-container-id-26 input.sk-toggleable__control:checked~label.sk-toggleable__label-arrow:before {content: \"▾\";}#sk-container-id-26 div.sk-estimator input.sk-toggleable__control:checked~label.sk-toggleable__label {background-color: #d4ebff;}#sk-container-id-26 div.sk-label input.sk-toggleable__control:checked~label.sk-toggleable__label {background-color: #d4ebff;}#sk-container-id-26 input.sk-hidden--visually {border: 0;clip: rect(1px 1px 1px 1px);clip: rect(1px, 1px, 1px, 1px);height: 1px;margin: -1px;overflow: hidden;padding: 0;position: absolute;width: 1px;}#sk-container-id-26 div.sk-estimator {font-family: monospace;background-color: #f0f8ff;border: 1px dotted black;border-radius: 0.25em;box-sizing: border-box;margin-bottom: 0.5em;}#sk-container-id-26 div.sk-estimator:hover {background-color: #d4ebff;}#sk-container-id-26 div.sk-parallel-item::after {content: \"\";width: 100%;border-bottom: 1px solid gray;flex-grow: 1;}#sk-container-id-26 div.sk-label:hover label.sk-toggleable__label {background-color: #d4ebff;}#sk-container-id-26 div.sk-serial::before {content: \"\";position: absolute;border-left: 1px solid gray;box-sizing: border-box;top: 0;bottom: 0;left: 50%;z-index: 0;}#sk-container-id-26 div.sk-serial {display: flex;flex-direction: column;align-items: center;background-color: white;padding-right: 0.2em;padding-left: 0.2em;position: relative;}#sk-container-id-26 div.sk-item {position: relative;z-index: 1;}#sk-container-id-26 div.sk-parallel {display: flex;align-items: stretch;justify-content: center;background-color: white;position: relative;}#sk-container-id-26 div.sk-item::before, #sk-container-id-26 div.sk-parallel-item::before {content: \"\";position: absolute;border-left: 1px solid gray;box-sizing: border-box;top: 0;bottom: 0;left: 50%;z-index: -1;}#sk-container-id-26 div.sk-parallel-item {display: flex;flex-direction: column;z-index: 1;position: relative;background-color: white;}#sk-container-id-26 div.sk-parallel-item:first-child::after {align-self: flex-end;width: 50%;}#sk-container-id-26 div.sk-parallel-item:last-child::after {align-self: flex-start;width: 50%;}#sk-container-id-26 div.sk-parallel-item:only-child::after {width: 0;}#sk-container-id-26 div.sk-dashed-wrapped {border: 1px dashed gray;margin: 0 0.4em 0.5em 0.4em;box-sizing: border-box;padding-bottom: 0.4em;background-color: white;}#sk-container-id-26 div.sk-label label {font-family: monospace;font-weight: bold;display: inline-block;line-height: 1.2em;}#sk-container-id-26 div.sk-label-container {text-align: center;}#sk-container-id-26 div.sk-container {/* jupyter's `normalize.less` sets `[hidden] { display: none; }` but bootstrap.min.css set `[hidden] { display: none !important; }` so we also need the `!important` here to be able to override the default hidden behavior on the sphinx rendered scikit-learn.org. See: https://github.com/scikit-learn/scikit-learn/issues/21755 */display: inline-block !important;position: relative;}#sk-container-id-26 div.sk-text-repr-fallback {display: none;}</style><div id=\"sk-container-id-26\" class=\"sk-top-container\"><div class=\"sk-text-repr-fallback\"><pre>RandomizedSearchCV(cv=StratifiedKFold(n_splits=5, random_state=137, shuffle=True),\n",
              "                   estimator=XGBRegressor(base_score=None, booster=None,\n",
              "                                          callbacks=None,\n",
              "                                          colsample_bylevel=None,\n",
              "                                          colsample_bynode=None,\n",
              "                                          colsample_bytree=None, device=None,\n",
              "                                          early_stopping_rounds=None,\n",
              "                                          enable_categorical=False,\n",
              "                                          eval_metric=None, feature_types=None,\n",
              "                                          gamma=None, grow_policy=None,\n",
              "                                          importan...\n",
              "       0.90452261, 0.90954774, 0.91457286, 0.91959799, 0.92462312,\n",
              "       0.92964824, 0.93467337, 0.93969849, 0.94472362, 0.94974874,\n",
              "       0.95477387, 0.95979899, 0.96482412, 0.96984925, 0.97487437,\n",
              "       0.9798995 , 0.98492462, 0.98994975, 0.99497487, 1.        ]),\n",
              "                                        &#x27;max_depth&#x27;: [1, 2, 3, 4, 5, 6, 7, 8, 9,\n",
              "                                                      10, 11, 12, 13, 14, 15,\n",
              "                                                      16, 17, 18, 19],\n",
              "                                        &#x27;objective&#x27;: [&#x27;reg:linear&#x27;,\n",
              "                                                      &#x27;reg:squarederror&#x27;,\n",
              "                                                      &#x27;reg:absoluteerror&#x27;]},\n",
              "                   random_state=137)</pre><b>In a Jupyter environment, please rerun this cell to show the HTML representation or trust the notebook. <br />On GitHub, the HTML representation is unable to render, please try loading this page with nbviewer.org.</b></div><div class=\"sk-container\" hidden><div class=\"sk-item sk-dashed-wrapped\"><div class=\"sk-label-container\"><div class=\"sk-label sk-toggleable\"><input class=\"sk-toggleable__control sk-hidden--visually\" id=\"sk-estimator-id-54\" type=\"checkbox\" ><label for=\"sk-estimator-id-54\" class=\"sk-toggleable__label sk-toggleable__label-arrow\">RandomizedSearchCV</label><div class=\"sk-toggleable__content\"><pre>RandomizedSearchCV(cv=StratifiedKFold(n_splits=5, random_state=137, shuffle=True),\n",
              "                   estimator=XGBRegressor(base_score=None, booster=None,\n",
              "                                          callbacks=None,\n",
              "                                          colsample_bylevel=None,\n",
              "                                          colsample_bynode=None,\n",
              "                                          colsample_bytree=None, device=None,\n",
              "                                          early_stopping_rounds=None,\n",
              "                                          enable_categorical=False,\n",
              "                                          eval_metric=None, feature_types=None,\n",
              "                                          gamma=None, grow_policy=None,\n",
              "                                          importan...\n",
              "       0.90452261, 0.90954774, 0.91457286, 0.91959799, 0.92462312,\n",
              "       0.92964824, 0.93467337, 0.93969849, 0.94472362, 0.94974874,\n",
              "       0.95477387, 0.95979899, 0.96482412, 0.96984925, 0.97487437,\n",
              "       0.9798995 , 0.98492462, 0.98994975, 0.99497487, 1.        ]),\n",
              "                                        &#x27;max_depth&#x27;: [1, 2, 3, 4, 5, 6, 7, 8, 9,\n",
              "                                                      10, 11, 12, 13, 14, 15,\n",
              "                                                      16, 17, 18, 19],\n",
              "                                        &#x27;objective&#x27;: [&#x27;reg:linear&#x27;,\n",
              "                                                      &#x27;reg:squarederror&#x27;,\n",
              "                                                      &#x27;reg:absoluteerror&#x27;]},\n",
              "                   random_state=137)</pre></div></div></div><div class=\"sk-parallel\"><div class=\"sk-parallel-item\"><div class=\"sk-item\"><div class=\"sk-label-container\"><div class=\"sk-label sk-toggleable\"><input class=\"sk-toggleable__control sk-hidden--visually\" id=\"sk-estimator-id-55\" type=\"checkbox\" ><label for=\"sk-estimator-id-55\" class=\"sk-toggleable__label sk-toggleable__label-arrow\">estimator: XGBRegressor</label><div class=\"sk-toggleable__content\"><pre>XGBRegressor(base_score=None, booster=None, callbacks=None,\n",
              "             colsample_bylevel=None, colsample_bynode=None,\n",
              "             colsample_bytree=None, device=None, early_stopping_rounds=None,\n",
              "             enable_categorical=False, eval_metric=None, feature_types=None,\n",
              "             gamma=None, grow_policy=None, importance_type=None,\n",
              "             interaction_constraints=None, learning_rate=None, max_bin=None,\n",
              "             max_cat_threshold=None, max_cat_to_onehot=None,\n",
              "             max_delta_step=None, max_depth=None, max_leaves=None,\n",
              "             min_child_weight=None, missing=nan, monotone_constraints=None,\n",
              "             multi_strategy=None, n_estimators=None, n_jobs=None,\n",
              "             num_parallel_tree=None, random_state=None, ...)</pre></div></div></div><div class=\"sk-serial\"><div class=\"sk-item\"><div class=\"sk-estimator sk-toggleable\"><input class=\"sk-toggleable__control sk-hidden--visually\" id=\"sk-estimator-id-56\" type=\"checkbox\" ><label for=\"sk-estimator-id-56\" class=\"sk-toggleable__label sk-toggleable__label-arrow\">XGBRegressor</label><div class=\"sk-toggleable__content\"><pre>XGBRegressor(base_score=None, booster=None, callbacks=None,\n",
              "             colsample_bylevel=None, colsample_bynode=None,\n",
              "             colsample_bytree=None, device=None, early_stopping_rounds=None,\n",
              "             enable_categorical=False, eval_metric=None, feature_types=None,\n",
              "             gamma=None, grow_policy=None, importance_type=None,\n",
              "             interaction_constraints=None, learning_rate=None, max_bin=None,\n",
              "             max_cat_threshold=None, max_cat_to_onehot=None,\n",
              "             max_delta_step=None, max_depth=None, max_leaves=None,\n",
              "             min_child_weight=None, missing=nan, monotone_constraints=None,\n",
              "             multi_strategy=None, n_estimators=None, n_jobs=None,\n",
              "             num_parallel_tree=None, random_state=None, ...)</pre></div></div></div></div></div></div></div></div></div></div>"
            ]
          },
          "metadata": {},
          "execution_count": 216
        }
      ]
    },
    {
      "cell_type": "markdown",
      "source": [
        "Entreno el modelo con los mejores híperparametros."
      ],
      "metadata": {
        "id": "VFqkzhKy-seJ"
      }
    },
    {
      "cell_type": "code",
      "source": [
        "mejor_arbol_escalado = xgboost.XGBRegressor()\n",
        "mejor_arbol_escalado.set_params(**randomcv.best_params_)\n",
        "\n",
        "mejor_arbol_escalado.fit(X_train, y_train)\n",
        "\n",
        "print(\"Híperparametros: \", randomcv.best_params_)"
      ],
      "metadata": {
        "colab": {
          "base_uri": "https://localhost:8080/"
        },
        "id": "Dp8-hIoU-lfL",
        "outputId": "a6643428-13ba-4856-f0fe-dfff41ba7ce3"
      },
      "execution_count": null,
      "outputs": [
        {
          "output_type": "stream",
          "name": "stdout",
          "text": [
            "Híperparametros:  {'objective': 'reg:squarederror', 'max_depth': 14, 'learning_rate': 0.6180904522613065, 'lambda': 0.8775510204081632, 'gamma': 91.30434782608695, 'eval_metric': 'mae', 'booster': 'gbtree', 'alpha': 0.3469387755102041}\n"
          ]
        }
      ]
    },
    {
      "cell_type": "markdown",
      "source": [
        "Hago las predicciones."
      ],
      "metadata": {
        "id": "sQHX2ZKIQaOr"
      }
    },
    {
      "cell_type": "code",
      "source": [
        "y_pred_arbol_escalado = mejor_arbol_escalado.predict(X_test)"
      ],
      "metadata": {
        "id": "nQSWV38mQaj2"
      },
      "execution_count": null,
      "outputs": []
    },
    {
      "cell_type": "markdown",
      "source": [
        "Muestro los puntajes de R2."
      ],
      "metadata": {
        "id": "EQ8mNSW6-vuK"
      }
    },
    {
      "cell_type": "code",
      "source": [
        "scores = cross_val_score(mejor_arbol_escalado, X_train, y_train, cv=kfoldcv)\n",
        "train_score = mejor_arbol_escalado.score(X_train, y_train)\n",
        "\n",
        "print(\"R2 train: \", train_score)\n",
        "print(\"Cross val R2 scores: \", scores)"
      ],
      "metadata": {
        "colab": {
          "base_uri": "https://localhost:8080/"
        },
        "id": "qPXM3-BP-pay",
        "outputId": "087eb75b-c96e-4f4c-cd10-a0e09361c48b"
      },
      "execution_count": null,
      "outputs": [
        {
          "output_type": "stream",
          "name": "stdout",
          "text": [
            "R2 train:  0.9949783864908865\n",
            "Cross val R2 scores:  [0.87581267 0.86225026 0.87644002 0.87487281 0.86242779]\n"
          ]
        }
      ]
    },
    {
      "cell_type": "markdown",
      "source": [
        "Muestro las métricas en testing."
      ],
      "metadata": {
        "id": "q39UlOTjQZS9"
      }
    },
    {
      "cell_type": "code",
      "source": [
        "rmse_arbol_escalado = np.sqrt(MSE(y_test, y_pred_arbol_escalado))\n",
        "mse_arbol_escalado = MSE(y_test, y_pred_arbol_escalado)\n",
        "r2_arbol_escalado = R2(y_test, y_pred_arbol_escalado)\n",
        "\n",
        "print(\"RMSE: % f\" %(rmse_arbol_escalado))\n",
        "print(\"MSE: % f\" %(mse_arbol_escalado))\n",
        "print(\"R2: % f\" %(r2_arbol_escalado))"
      ],
      "metadata": {
        "colab": {
          "base_uri": "https://localhost:8080/"
        },
        "id": "x9ao8R2qQZq1",
        "outputId": "5c26cb6c-ce59-46ec-a138-ebe9ad7b55c2"
      },
      "execution_count": null,
      "outputs": [
        {
          "output_type": "stream",
          "name": "stdout",
          "text": [
            "RMSE:  48890.887299\n",
            "MSE:  2390318860.859180\n",
            "R2:  0.864901\n"
          ]
        }
      ]
    },
    {
      "cell_type": "markdown",
      "source": [
        "## Entrenamiento con más iteraciones"
      ],
      "metadata": {
        "id": "pOQEx2Uiz0et"
      }
    },
    {
      "cell_type": "markdown",
      "source": [
        "Pruebo ahora aumentar las iteraciones de random search para ver que efecto causa sobre los híperparametros que se encuentran. Realizo el mismo análisis que antes utilizando el conjunto escalado, ya que suele ser mejor tener los datos escalados sobre este modelo."
      ],
      "metadata": {
        "id": "6AO3XWN50Ek-"
      }
    },
    {
      "cell_type": "markdown",
      "source": [
        "### Booster lineal"
      ],
      "metadata": {
        "id": "2zwKFVUqz4DV"
      }
    },
    {
      "cell_type": "markdown",
      "source": [
        "Para evitar tiempos de espera, no incluyo la celda.\n",
        "Adjunto imagen de la ejecución:\n",
        "![image.png](data:image/png;base64,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)"
      ],
      "metadata": {
        "id": "1NRlQoqKF00s"
      }
    },
    {
      "cell_type": "code",
      "source": [
        "n = 50\n",
        "folds = 5\n",
        "\n",
        "params_grid = {\"booster\": [\"gblinear\"],\n",
        "               \"objective\": [\"reg:linear\", \"reg:squarederror\", \"reg:absoluteerror\"],\n",
        "               \"eval_metric\": [\"rmse\", \"mae\", \"logloss\"],\n",
        "               \"learning_rate\": np.linspace(0, 1, 200),\n",
        "               \"gamma\": np.linspace(0, 100, 300),\n",
        "               \"lambda\": np.linspace(0, 1),\n",
        "               \"alpha\": np.linspace(0, 1)\n",
        "               }\n",
        "\n",
        "kfoldcv = StratifiedKFold(n_splits=folds, shuffle=True, random_state=semilla)\n",
        "\n",
        "xgb_base = xgboost.XGBRegressor()\n",
        "\n",
        "randomcv = RandomizedSearchCV(estimator=xgb_base,\n",
        "                              param_distributions=params_grid,\n",
        "                              cv=kfoldcv,\n",
        "                              n_iter=n,\n",
        "                              random_state=semilla)\n",
        "\n",
        "# randomcv.fit(X_train, y_train)"
      ],
      "metadata": {
        "id": "zdbHBPgAzzq9"
      },
      "execution_count": null,
      "outputs": []
    },
    {
      "cell_type": "code",
      "source": [
        "# Dejo la grilla de parametros expresada aca para no tener que andar ejecutando random search\n",
        "params_linear_50iter = {'objective': 'reg:squarederror',\n",
        "          'learning_rate': 0.36180904522613067,\n",
        "          'lambda': 0.0,\n",
        "          'gamma': 33.11036789297659,\n",
        "          'eval_metric': 'mae',\n",
        "          'booster': 'gblinear',\n",
        "          'alpha': 0.7959183673469387}\n",
        "mejor_linear_50iter = xgboost.XGBRegressor()\n",
        "mejor_linear_50iter.set_params(**params_linear_50iter)\n",
        "\n",
        "mejor_linear_50iter.fit(X_train, y_train)\n",
        "\n",
        "print(\"Híperparametros: \", params_linear_50iter)"
      ],
      "metadata": {
        "colab": {
          "base_uri": "https://localhost:8080/"
        },
        "id": "Smf8o90GA7je",
        "outputId": "9497969b-af01-4d00-8004-44ecb724bc3d"
      },
      "execution_count": null,
      "outputs": [
        {
          "output_type": "stream",
          "name": "stdout",
          "text": [
            "Híperparametros:  {'objective': 'reg:squarederror', 'learning_rate': 0.36180904522613067, 'lambda': 0.0, 'gamma': 33.11036789297659, 'eval_metric': 'mae', 'booster': 'gblinear', 'alpha': 0.7959183673469387}\n"
          ]
        }
      ]
    },
    {
      "cell_type": "markdown",
      "source": [
        "Hago las predicciones con el modelo entrenado."
      ],
      "metadata": {
        "id": "Xh4C3XBNSbga"
      }
    },
    {
      "cell_type": "code",
      "source": [
        "y_pred_linear_50iter = mejor_linear_50iter.predict(X_test)"
      ],
      "metadata": {
        "id": "wMxllnomSb-F"
      },
      "execution_count": null,
      "outputs": []
    },
    {
      "cell_type": "markdown",
      "source": [
        "Se puede observar como al tener más iteraciones hubo una clara mejoria respecto al booster lineal entrenado con 10 iteraciones, si bien además se demoró más tiempo, llegando a los 12 minutos para hallar los híperparametros."
      ],
      "metadata": {
        "id": "hzvhSpxvEq8e"
      }
    },
    {
      "cell_type": "code",
      "source": [
        "scores = cross_val_score(mejor_linear_50iter, X_train, y_train, cv=kfoldcv)\n",
        "train_score = mejor_linear_50iter.score(X_train, y_train)\n",
        "\n",
        "print(\"R2 train: \", train_score)\n",
        "print(\"Cross val scores: \", scores)"
      ],
      "metadata": {
        "colab": {
          "base_uri": "https://localhost:8080/"
        },
        "id": "evPkHMBDA-Zv",
        "outputId": "53d2a778-2b90-48af-b2ef-f804a2908780"
      },
      "execution_count": null,
      "outputs": [
        {
          "output_type": "stream",
          "name": "stdout",
          "text": [
            "R2 train:  0.7286701149952759\n",
            "Cross val scores:  [0.73233501 0.72635297 0.72484988 0.7285625  0.72860731]\n"
          ]
        }
      ]
    },
    {
      "cell_type": "markdown",
      "source": [
        "Muestro las métricas en testing y nuevamente observó que hubo una mejora en cuanto al score r2 y se redujeron tanto mae como rmse significativamente, siendo rmse la métrica que más se redujo, en aproximadamente 13000."
      ],
      "metadata": {
        "id": "s9XHKXNSSjnc"
      }
    },
    {
      "cell_type": "code",
      "source": [
        "rmse_linear_50iter = np.sqrt(MSE(y_test, y_pred_linear_50iter))\n",
        "mse_linear_50iter = MSE(y_test, y_pred_linear_50iter)\n",
        "r2_linear_50iter = R2(y_test, y_pred_linear_50iter)\n",
        "\n",
        "print(\"RMSE: % f\" %(rmse_linear_50iter))\n",
        "print(\"MSE: % f\" %(mse_linear_50iter))\n",
        "print(\"R2: % f\" %(r2_linear_50iter))"
      ],
      "metadata": {
        "colab": {
          "base_uri": "https://localhost:8080/"
        },
        "id": "e1GJF123SjYP",
        "outputId": "0aa46cb0-d78f-46bc-d72d-1aa6b242deaf"
      },
      "execution_count": null,
      "outputs": [
        {
          "output_type": "stream",
          "name": "stdout",
          "text": [
            "RMSE:  69899.259012\n",
            "MSE:  4885906410.418732\n",
            "R2:  0.723852\n"
          ]
        }
      ]
    },
    {
      "cell_type": "markdown",
      "source": [
        "### Booster árbol"
      ],
      "metadata": {
        "id": "v_ac9Ob-z7RZ"
      }
    },
    {
      "cell_type": "markdown",
      "source": [
        "Igual que antes, utilizo 50 iteraciones con 5 folds random search.\n",
        "Adjunto imagen de la ejecucion ya que se demora unos 20 minutos:\n",
        "![image.png](data:image/png;base64,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)"
      ],
      "metadata": {
        "id": "10x89k0uJAUC"
      }
    },
    {
      "cell_type": "code",
      "source": [
        "n = 50\n",
        "folds = 5\n",
        "\n",
        "params_grid = {\"booster\": [\"gbtree\"],\n",
        "               \"objective\": [\"reg:linear\", \"reg:squarederror\", \"reg:absoluteerror\"],\n",
        "               \"eval_metric\": [\"rmse\", \"mae\", \"logloss\"],\n",
        "               \"learning_rate\": np.linspace(0, 1, 200),\n",
        "               \"gamma\": np.linspace(0, 100, 300),\n",
        "               \"max_depth\": list(range(1, 20)),\n",
        "               \"lambda\": np.linspace(0, 1),\n",
        "               \"alpha\": np.linspace(0, 1)\n",
        "               }\n",
        "\n",
        "kfoldcv = StratifiedKFold(n_splits=folds, shuffle=True, random_state=semilla)\n",
        "\n",
        "xgb_base = xgboost.XGBRegressor()\n",
        "\n",
        "randomcv = RandomizedSearchCV(estimator=xgb_base,\n",
        "                              param_distributions=params_grid,\n",
        "                              cv=kfoldcv,\n",
        "                              n_iter=n,\n",
        "                              random_state=semilla)\n",
        "\n",
        "# randomcv.fit(X_train, y_train)"
      ],
      "metadata": {
        "id": "Q8c6pUSbz9S4"
      },
      "execution_count": null,
      "outputs": []
    },
    {
      "cell_type": "code",
      "source": [
        "# Dejo la grilla de parametros expresada aca para no tener que andar ejecutando random search\n",
        "params = {'objective': 'reg:squarederror',\n",
        "          'max_depth': 12,\n",
        "          'learning_rate': 0.4623115577889447,\n",
        "          'lambda': 0.8571428571428571,\n",
        "          'gamma': 39.79933110367893,\n",
        "          'eval_metric': 'rmse',\n",
        "          'booster': 'gbtree',\n",
        "          'alpha': 0.7959183673469387}\n",
        "\n",
        "mejor_arbol_50iter = xgboost.XGBRegressor()\n",
        "mejor_arbol_50iter.set_params(**params)\n",
        "\n",
        "mejor_arbol_50iter.fit(X_train, y_train)\n",
        "\n",
        "print(\"Híperparametros: \", params)"
      ],
      "metadata": {
        "colab": {
          "base_uri": "https://localhost:8080/"
        },
        "id": "5tKqM0oZBDrk",
        "outputId": "15b3fad5-f965-440f-da93-6c5e3780a2e5"
      },
      "execution_count": null,
      "outputs": [
        {
          "output_type": "stream",
          "name": "stdout",
          "text": [
            "Híperparametros:  {'objective': 'reg:squarederror', 'max_depth': 12, 'learning_rate': 0.4623115577889447, 'lambda': 0.8571428571428571, 'gamma': 39.79933110367893, 'eval_metric': 'rmse', 'booster': 'gbtree', 'alpha': 0.7959183673469387}\n"
          ]
        }
      ]
    },
    {
      "cell_type": "markdown",
      "source": [
        "Hago las predicciones con el modelo entrenado."
      ],
      "metadata": {
        "id": "QgBo2JRgS2g7"
      }
    },
    {
      "cell_type": "code",
      "source": [
        "y_pred_arbol_50iter = mejor_arbol_50iter.predict(X_test)"
      ],
      "metadata": {
        "id": "nZNk6VWPS22e"
      },
      "execution_count": null,
      "outputs": []
    },
    {
      "cell_type": "markdown",
      "source": [
        "Se puede observar que el R2 en test aumento en 1 punto, mientras que en entrenamiento resulto casi igual que antes."
      ],
      "metadata": {
        "id": "zpZEYrymJjTG"
      }
    },
    {
      "cell_type": "code",
      "source": [
        "scores = cross_val_score(mejor_arbol_50iter, X_train, y_train, cv=kfoldcv)\n",
        "train_score = mejor_arbol_50iter.score(X_train, y_train)\n",
        "\n",
        "print(\"R2 train: \", train_score)\n",
        "print(\"Cross val scores: \", scores)"
      ],
      "metadata": {
        "colab": {
          "base_uri": "https://localhost:8080/"
        },
        "id": "wdOpxpm4BE0q",
        "outputId": "40eddf29-279e-4661-dd7b-f389708e9298"
      },
      "execution_count": null,
      "outputs": [
        {
          "output_type": "stream",
          "name": "stdout",
          "text": [
            "R2 train:  0.9902683800737695\n",
            "Cross val scores:  [0.88395066 0.87511287 0.88402021 0.88370564 0.87233453]\n"
          ]
        }
      ]
    },
    {
      "cell_type": "markdown",
      "source": [
        "Muestro las métricas en testing."
      ],
      "metadata": {
        "id": "AZ6yA-CiS7uV"
      }
    },
    {
      "cell_type": "code",
      "source": [
        "rmse_arbol_50iter = np.sqrt(MSE(y_test, y_pred_arbol_50iter))\n",
        "mse_arbol_50iter = MSE(y_test, y_pred_arbol_50iter)\n",
        "r2_arbol_50iter = R2(y_test, y_pred_arbol_50iter)\n",
        "\n",
        "print(\"RMSE: % f\" %(rmse_arbol_50iter))\n",
        "print(\"MSE: % f\" %(mse_arbol_50iter))\n",
        "print(\"R2: % f\" %(r2_arbol_50iter))"
      ],
      "metadata": {
        "colab": {
          "base_uri": "https://localhost:8080/"
        },
        "id": "5S6XT9JUS8Ct",
        "outputId": "165e1d4a-7638-46cf-ef09-2cab8af266c2"
      },
      "execution_count": null,
      "outputs": [
        {
          "output_type": "stream",
          "name": "stdout",
          "text": [
            "RMSE:  47309.770421\n",
            "MSE:  2238214377.326125\n",
            "R2:  0.873498\n"
          ]
        }
      ]
    },
    {
      "cell_type": "markdown",
      "source": [
        "Este modelo mejoró poco al realizar una mayor cantidad de combinaciones, ya que solo se mejoró la métrica r2 en 0.01, pero aún así resultó mejor que el modelo entrenado con 10 iteraciones."
      ],
      "metadata": {
        "id": "cnD2pKnlWGbt"
      }
    },
    {
      "cell_type": "markdown",
      "source": [
        "## Entrenamiento considerando `tipo_precio`"
      ],
      "metadata": {
        "id": "c8bHSyN7bDlA"
      }
    },
    {
      "cell_type": "markdown",
      "source": [
        "En esta sección, y como ultima prueba, entrenamos los modelos anteriores con 10 iteraciones pero ahora incluyendo la variable que generamos, `tipo_precio`, en los features para el entrenamiento, anteriormente no la consideramos porque no es una variable que forma parte del dataset original, sino que la generamos como target para la sección de clasificación. Esto nos lleva a pensar que para futuros datos lo más probable es que no sea conocida.\n",
        "\n",
        "De igual modo, decidimos llevar a cabo unas pruebas incluyendo esta variable para ver que cambios genera sobre los entrenamientos y predicciones."
      ],
      "metadata": {
        "id": "Gl9jty2nbMQv"
      }
    },
    {
      "cell_type": "markdown",
      "source": [
        "### Encoding para la variable"
      ],
      "metadata": {
        "id": "xdFM2IoKbImD"
      }
    },
    {
      "cell_type": "markdown",
      "source": [
        "Realizo OneHot encoding para la variable de `tipo_precio`"
      ],
      "metadata": {
        "id": "AnY9mwLYfbJb"
      }
    },
    {
      "cell_type": "code",
      "source": [
        "df_con_tipo_precio = df_escalado.copy()"
      ],
      "metadata": {
        "id": "WKR1XEEicFrP"
      },
      "execution_count": null,
      "outputs": []
    },
    {
      "cell_type": "code",
      "source": [
        "df_con_tipo_precio = pd.get_dummies(df_con_tipo_precio, columns=[\"tipo_precio\"], drop_first=True)"
      ],
      "metadata": {
        "id": "YBUENN2dbCvF"
      },
      "execution_count": null,
      "outputs": []
    },
    {
      "cell_type": "markdown",
      "source": [
        "### Generación de los nuevos conjuntos de train y test"
      ],
      "metadata": {
        "id": "OvGsYlIucN5v"
      }
    },
    {
      "cell_type": "markdown",
      "source": [
        "Ahora tengo que crear unos nuevos conjuntos con las features, inclyendo las columnas de onehot encoding para el tipo de precio."
      ],
      "metadata": {
        "id": "Y5o5FuxQfOvE"
      }
    },
    {
      "cell_type": "code",
      "source": [
        "onehot_barrios = [col for col in df_con_tipo_precio.columns if col.startswith((\"neighbourhood_\"))]\n",
        "\n",
        "onehot_tipo_precio = [col for col in df_con_tipo_precio.columns if col.startswith((\"tipo_precio_\"))]\n",
        "\n",
        "features = ['property_rooms',\n",
        "            'property_bedrooms',\n",
        "            'property_surface_total',\n",
        "            'property_surface_covered',\n",
        "            'latitud',\n",
        "            'longitud',\n",
        "            'property_type_Departamento',\n",
        "            'property_type_PH',\n",
        "            ]\n",
        "\n",
        "features = features + onehot_barrios + onehot_tipo_precio\n",
        "\n",
        "target = ['property_price']"
      ],
      "metadata": {
        "id": "-tlToN_lelhI"
      },
      "execution_count": null,
      "outputs": []
    },
    {
      "cell_type": "code",
      "source": [
        "df_tipo_x = df_con_tipo_precio[features]\n",
        "df_tipo_y = df_con_tipo_precio[target]"
      ],
      "metadata": {
        "id": "3h8t0iHFcNkA"
      },
      "execution_count": null,
      "outputs": []
    },
    {
      "cell_type": "markdown",
      "source": [
        "Obtengo los nuevos conjuntos de train y test."
      ],
      "metadata": {
        "id": "ys-99hoxfXh3"
      }
    },
    {
      "cell_type": "code",
      "source": [
        "X_train, X_test, y_train, y_test = train_test_split(df_tipo_x, df_tipo_y, test_size=0.20, stratify=df_escalado['tipo_precio'], random_state=semilla)"
      ],
      "metadata": {
        "id": "eqiIw8OqcUUv"
      },
      "execution_count": null,
      "outputs": []
    },
    {
      "cell_type": "markdown",
      "source": [
        "### Entrenamiento de modelo con booster linear"
      ],
      "metadata": {
        "id": "zRJYHgk3c4OJ"
      }
    },
    {
      "cell_type": "markdown",
      "source": [
        "Busco los mejores híperparametros mediante random search con 10 iteraciones y 5 folds de cross validation."
      ],
      "metadata": {
        "id": "vP3glmOYc-B8"
      }
    },
    {
      "cell_type": "code",
      "source": [
        "n = 10\n",
        "folds = 5\n",
        "\n",
        "params_grid = {\"booster\": [\"gblinear\"],\n",
        "               \"objective\": [\"reg:linear\", \"reg:squarederror\", \"reg:absoluteerror\"],\n",
        "               \"eval_metric\": [\"rmse\", \"mae\"],\n",
        "               \"learning_rate\": np.linspace(0, 1, 200),\n",
        "               \"gamma\": np.linspace(0, 100, 300),\n",
        "               \"lambda\": np.linspace(0, 1),\n",
        "               \"alpha\": np.linspace(0, 1)\n",
        "               }\n",
        "\n",
        "kfoldcv = StratifiedKFold(n_splits=folds, shuffle=True, random_state=semilla)\n",
        "\n",
        "xgb_base = xgboost.XGBRegressor()\n",
        "\n",
        "randomcv = RandomizedSearchCV(estimator=xgb_base,\n",
        "                              param_distributions=params_grid,\n",
        "                              cv=kfoldcv,\n",
        "                              n_iter=n,\n",
        "                              random_state=semilla)\n",
        "\n",
        "randomcv.fit(X_train, y_train)"
      ],
      "metadata": {
        "colab": {
          "base_uri": "https://localhost:8080/",
          "height": 118
        },
        "id": "0aemNATBc39Z",
        "outputId": "172c51e3-7013-4058-f118-d2d394822818"
      },
      "execution_count": null,
      "outputs": [
        {
          "output_type": "execute_result",
          "data": {
            "text/plain": [
              "RandomizedSearchCV(cv=StratifiedKFold(n_splits=5, random_state=137, shuffle=True),\n",
              "                   estimator=XGBRegressor(base_score=None, booster=None,\n",
              "                                          callbacks=None,\n",
              "                                          colsample_bylevel=None,\n",
              "                                          colsample_bynode=None,\n",
              "                                          colsample_bytree=None, device=None,\n",
              "                                          early_stopping_rounds=None,\n",
              "                                          enable_categorical=False,\n",
              "                                          eval_metric=None, feature_types=None,\n",
              "                                          gamma=None, grow_policy=None,\n",
              "                                          importan...\n",
              "       0.87939698, 0.88442211, 0.88944724, 0.89447236, 0.89949749,\n",
              "       0.90452261, 0.90954774, 0.91457286, 0.91959799, 0.92462312,\n",
              "       0.92964824, 0.93467337, 0.93969849, 0.94472362, 0.94974874,\n",
              "       0.95477387, 0.95979899, 0.96482412, 0.96984925, 0.97487437,\n",
              "       0.9798995 , 0.98492462, 0.98994975, 0.99497487, 1.        ]),\n",
              "                                        'objective': ['reg:linear',\n",
              "                                                      'reg:squarederror',\n",
              "                                                      'reg:absoluteerror']},\n",
              "                   random_state=137)"
            ],
            "text/html": [
              "<style>#sk-container-id-27 {color: black;background-color: white;}#sk-container-id-27 pre{padding: 0;}#sk-container-id-27 div.sk-toggleable {background-color: white;}#sk-container-id-27 label.sk-toggleable__label {cursor: pointer;display: block;width: 100%;margin-bottom: 0;padding: 0.3em;box-sizing: border-box;text-align: center;}#sk-container-id-27 label.sk-toggleable__label-arrow:before {content: \"▸\";float: left;margin-right: 0.25em;color: #696969;}#sk-container-id-27 label.sk-toggleable__label-arrow:hover:before {color: black;}#sk-container-id-27 div.sk-estimator:hover label.sk-toggleable__label-arrow:before {color: black;}#sk-container-id-27 div.sk-toggleable__content {max-height: 0;max-width: 0;overflow: hidden;text-align: left;background-color: #f0f8ff;}#sk-container-id-27 div.sk-toggleable__content pre {margin: 0.2em;color: black;border-radius: 0.25em;background-color: #f0f8ff;}#sk-container-id-27 input.sk-toggleable__control:checked~div.sk-toggleable__content {max-height: 200px;max-width: 100%;overflow: auto;}#sk-container-id-27 input.sk-toggleable__control:checked~label.sk-toggleable__label-arrow:before {content: \"▾\";}#sk-container-id-27 div.sk-estimator input.sk-toggleable__control:checked~label.sk-toggleable__label {background-color: #d4ebff;}#sk-container-id-27 div.sk-label input.sk-toggleable__control:checked~label.sk-toggleable__label {background-color: #d4ebff;}#sk-container-id-27 input.sk-hidden--visually {border: 0;clip: rect(1px 1px 1px 1px);clip: rect(1px, 1px, 1px, 1px);height: 1px;margin: -1px;overflow: hidden;padding: 0;position: absolute;width: 1px;}#sk-container-id-27 div.sk-estimator {font-family: monospace;background-color: #f0f8ff;border: 1px dotted black;border-radius: 0.25em;box-sizing: border-box;margin-bottom: 0.5em;}#sk-container-id-27 div.sk-estimator:hover {background-color: #d4ebff;}#sk-container-id-27 div.sk-parallel-item::after {content: \"\";width: 100%;border-bottom: 1px solid gray;flex-grow: 1;}#sk-container-id-27 div.sk-label:hover label.sk-toggleable__label {background-color: #d4ebff;}#sk-container-id-27 div.sk-serial::before {content: \"\";position: absolute;border-left: 1px solid gray;box-sizing: border-box;top: 0;bottom: 0;left: 50%;z-index: 0;}#sk-container-id-27 div.sk-serial {display: flex;flex-direction: column;align-items: center;background-color: white;padding-right: 0.2em;padding-left: 0.2em;position: relative;}#sk-container-id-27 div.sk-item {position: relative;z-index: 1;}#sk-container-id-27 div.sk-parallel {display: flex;align-items: stretch;justify-content: center;background-color: white;position: relative;}#sk-container-id-27 div.sk-item::before, #sk-container-id-27 div.sk-parallel-item::before {content: \"\";position: absolute;border-left: 1px solid gray;box-sizing: border-box;top: 0;bottom: 0;left: 50%;z-index: -1;}#sk-container-id-27 div.sk-parallel-item {display: flex;flex-direction: column;z-index: 1;position: relative;background-color: white;}#sk-container-id-27 div.sk-parallel-item:first-child::after {align-self: flex-end;width: 50%;}#sk-container-id-27 div.sk-parallel-item:last-child::after {align-self: flex-start;width: 50%;}#sk-container-id-27 div.sk-parallel-item:only-child::after {width: 0;}#sk-container-id-27 div.sk-dashed-wrapped {border: 1px dashed gray;margin: 0 0.4em 0.5em 0.4em;box-sizing: border-box;padding-bottom: 0.4em;background-color: white;}#sk-container-id-27 div.sk-label label {font-family: monospace;font-weight: bold;display: inline-block;line-height: 1.2em;}#sk-container-id-27 div.sk-label-container {text-align: center;}#sk-container-id-27 div.sk-container {/* jupyter's `normalize.less` sets `[hidden] { display: none; }` but bootstrap.min.css set `[hidden] { display: none !important; }` so we also need the `!important` here to be able to override the default hidden behavior on the sphinx rendered scikit-learn.org. See: https://github.com/scikit-learn/scikit-learn/issues/21755 */display: inline-block !important;position: relative;}#sk-container-id-27 div.sk-text-repr-fallback {display: none;}</style><div id=\"sk-container-id-27\" class=\"sk-top-container\"><div class=\"sk-text-repr-fallback\"><pre>RandomizedSearchCV(cv=StratifiedKFold(n_splits=5, random_state=137, shuffle=True),\n",
              "                   estimator=XGBRegressor(base_score=None, booster=None,\n",
              "                                          callbacks=None,\n",
              "                                          colsample_bylevel=None,\n",
              "                                          colsample_bynode=None,\n",
              "                                          colsample_bytree=None, device=None,\n",
              "                                          early_stopping_rounds=None,\n",
              "                                          enable_categorical=False,\n",
              "                                          eval_metric=None, feature_types=None,\n",
              "                                          gamma=None, grow_policy=None,\n",
              "                                          importan...\n",
              "       0.87939698, 0.88442211, 0.88944724, 0.89447236, 0.89949749,\n",
              "       0.90452261, 0.90954774, 0.91457286, 0.91959799, 0.92462312,\n",
              "       0.92964824, 0.93467337, 0.93969849, 0.94472362, 0.94974874,\n",
              "       0.95477387, 0.95979899, 0.96482412, 0.96984925, 0.97487437,\n",
              "       0.9798995 , 0.98492462, 0.98994975, 0.99497487, 1.        ]),\n",
              "                                        &#x27;objective&#x27;: [&#x27;reg:linear&#x27;,\n",
              "                                                      &#x27;reg:squarederror&#x27;,\n",
              "                                                      &#x27;reg:absoluteerror&#x27;]},\n",
              "                   random_state=137)</pre><b>In a Jupyter environment, please rerun this cell to show the HTML representation or trust the notebook. <br />On GitHub, the HTML representation is unable to render, please try loading this page with nbviewer.org.</b></div><div class=\"sk-container\" hidden><div class=\"sk-item sk-dashed-wrapped\"><div class=\"sk-label-container\"><div class=\"sk-label sk-toggleable\"><input class=\"sk-toggleable__control sk-hidden--visually\" id=\"sk-estimator-id-57\" type=\"checkbox\" ><label for=\"sk-estimator-id-57\" class=\"sk-toggleable__label sk-toggleable__label-arrow\">RandomizedSearchCV</label><div class=\"sk-toggleable__content\"><pre>RandomizedSearchCV(cv=StratifiedKFold(n_splits=5, random_state=137, shuffle=True),\n",
              "                   estimator=XGBRegressor(base_score=None, booster=None,\n",
              "                                          callbacks=None,\n",
              "                                          colsample_bylevel=None,\n",
              "                                          colsample_bynode=None,\n",
              "                                          colsample_bytree=None, device=None,\n",
              "                                          early_stopping_rounds=None,\n",
              "                                          enable_categorical=False,\n",
              "                                          eval_metric=None, feature_types=None,\n",
              "                                          gamma=None, grow_policy=None,\n",
              "                                          importan...\n",
              "       0.87939698, 0.88442211, 0.88944724, 0.89447236, 0.89949749,\n",
              "       0.90452261, 0.90954774, 0.91457286, 0.91959799, 0.92462312,\n",
              "       0.92964824, 0.93467337, 0.93969849, 0.94472362, 0.94974874,\n",
              "       0.95477387, 0.95979899, 0.96482412, 0.96984925, 0.97487437,\n",
              "       0.9798995 , 0.98492462, 0.98994975, 0.99497487, 1.        ]),\n",
              "                                        &#x27;objective&#x27;: [&#x27;reg:linear&#x27;,\n",
              "                                                      &#x27;reg:squarederror&#x27;,\n",
              "                                                      &#x27;reg:absoluteerror&#x27;]},\n",
              "                   random_state=137)</pre></div></div></div><div class=\"sk-parallel\"><div class=\"sk-parallel-item\"><div class=\"sk-item\"><div class=\"sk-label-container\"><div class=\"sk-label sk-toggleable\"><input class=\"sk-toggleable__control sk-hidden--visually\" id=\"sk-estimator-id-58\" type=\"checkbox\" ><label for=\"sk-estimator-id-58\" class=\"sk-toggleable__label sk-toggleable__label-arrow\">estimator: XGBRegressor</label><div class=\"sk-toggleable__content\"><pre>XGBRegressor(base_score=None, booster=None, callbacks=None,\n",
              "             colsample_bylevel=None, colsample_bynode=None,\n",
              "             colsample_bytree=None, device=None, early_stopping_rounds=None,\n",
              "             enable_categorical=False, eval_metric=None, feature_types=None,\n",
              "             gamma=None, grow_policy=None, importance_type=None,\n",
              "             interaction_constraints=None, learning_rate=None, max_bin=None,\n",
              "             max_cat_threshold=None, max_cat_to_onehot=None,\n",
              "             max_delta_step=None, max_depth=None, max_leaves=None,\n",
              "             min_child_weight=None, missing=nan, monotone_constraints=None,\n",
              "             multi_strategy=None, n_estimators=None, n_jobs=None,\n",
              "             num_parallel_tree=None, random_state=None, ...)</pre></div></div></div><div class=\"sk-serial\"><div class=\"sk-item\"><div class=\"sk-estimator sk-toggleable\"><input class=\"sk-toggleable__control sk-hidden--visually\" id=\"sk-estimator-id-59\" type=\"checkbox\" ><label for=\"sk-estimator-id-59\" class=\"sk-toggleable__label sk-toggleable__label-arrow\">XGBRegressor</label><div class=\"sk-toggleable__content\"><pre>XGBRegressor(base_score=None, booster=None, callbacks=None,\n",
              "             colsample_bylevel=None, colsample_bynode=None,\n",
              "             colsample_bytree=None, device=None, early_stopping_rounds=None,\n",
              "             enable_categorical=False, eval_metric=None, feature_types=None,\n",
              "             gamma=None, grow_policy=None, importance_type=None,\n",
              "             interaction_constraints=None, learning_rate=None, max_bin=None,\n",
              "             max_cat_threshold=None, max_cat_to_onehot=None,\n",
              "             max_delta_step=None, max_depth=None, max_leaves=None,\n",
              "             min_child_weight=None, missing=nan, monotone_constraints=None,\n",
              "             multi_strategy=None, n_estimators=None, n_jobs=None,\n",
              "             num_parallel_tree=None, random_state=None, ...)</pre></div></div></div></div></div></div></div></div></div></div>"
            ]
          },
          "metadata": {},
          "execution_count": 236
        }
      ]
    },
    {
      "cell_type": "markdown",
      "source": [
        "Entreno un modelo con los mejores híperparametros y los muestro."
      ],
      "metadata": {
        "id": "FkFe60wofjWA"
      }
    },
    {
      "cell_type": "code",
      "source": [
        "mejor_linear_tipo = xgboost.XGBRegressor()\n",
        "mejor_linear_tipo.set_params(**randomcv.best_params_)\n",
        "\n",
        "mejor_linear_tipo.fit(X_train, y_train)\n",
        "\n",
        "print(\"Híperparametros: \", randomcv.best_params_)"
      ],
      "metadata": {
        "colab": {
          "base_uri": "https://localhost:8080/"
        },
        "id": "4t86GxJ7dE5I",
        "outputId": "1bc7fc64-b3c6-4b1a-e6e5-373fcb3afbad"
      },
      "execution_count": null,
      "outputs": [
        {
          "output_type": "stream",
          "name": "stdout",
          "text": [
            "Híperparametros:  {'objective': 'reg:squarederror', 'learning_rate': 0.9547738693467337, 'lambda': 0.16326530612244897, 'gamma': 51.83946488294314, 'eval_metric': 'mae', 'booster': 'gblinear', 'alpha': 0.6530612244897959}\n"
          ]
        }
      ]
    },
    {
      "cell_type": "markdown",
      "source": [
        "Hago las predicciones."
      ],
      "metadata": {
        "id": "wnvs9-llfnj8"
      }
    },
    {
      "cell_type": "code",
      "source": [
        "y_pred_linear_tipo = mejor_linear_tipo.predict(X_test)"
      ],
      "metadata": {
        "id": "Ep9CcFz7dFWs"
      },
      "execution_count": null,
      "outputs": []
    },
    {
      "cell_type": "markdown",
      "source": [
        "Muestro los scores de R2 para train y cross validation."
      ],
      "metadata": {
        "id": "9gJ07oVdfo5C"
      }
    },
    {
      "cell_type": "code",
      "source": [
        "scores = cross_val_score(mejor_linear_tipo, X_train, y_train, cv=kfoldcv)\n",
        "train_score = mejor_linear_tipo.score(X_train, y_train)\n",
        "\n",
        "print(\"R2 train: \", train_score)\n",
        "print(\"Cross val R2 scores: \", scores)"
      ],
      "metadata": {
        "colab": {
          "base_uri": "https://localhost:8080/"
        },
        "id": "6q0iAw4QdFv9",
        "outputId": "bfe64850-a2db-4e47-e983-a0ce061d8c6b"
      },
      "execution_count": null,
      "outputs": [
        {
          "output_type": "stream",
          "name": "stdout",
          "text": [
            "R2 train:  0.7027002791609525\n",
            "Cross val R2 scores:  [0.7029911  0.69025514 0.7106219  0.70059489 0.70940843]\n"
          ]
        }
      ]
    },
    {
      "cell_type": "markdown",
      "source": [
        "Muestro las métricas en testing."
      ],
      "metadata": {
        "id": "zUzNxtSufsIa"
      }
    },
    {
      "cell_type": "code",
      "source": [
        "rmse_linear_tipo = np.sqrt(MSE(y_test, y_pred_linear_tipo))\n",
        "mse_linear_tipo = MSE(y_test, y_pred_linear_tipo)\n",
        "r2_linear_tipo = R2(y_test, y_pred_linear_tipo)\n",
        "\n",
        "print(\"RMSE: % f\" %(rmse_linear_tipo))\n",
        "print(\"MSE: % f\" %(mse_linear_tipo))\n",
        "print(\"R2: % f\" %(r2_linear_tipo))"
      ],
      "metadata": {
        "colab": {
          "base_uri": "https://localhost:8080/"
        },
        "id": "4hlYyewQdJRd",
        "outputId": "e180d39a-ec9b-4ae6-970d-4971f8901e3e"
      },
      "execution_count": null,
      "outputs": [
        {
          "output_type": "stream",
          "name": "stdout",
          "text": [
            "RMSE:  72471.016547\n",
            "MSE:  5252048239.410257\n",
            "R2:  0.703158\n"
          ]
        }
      ]
    },
    {
      "cell_type": "markdown",
      "source": [
        "Se puede ver que incluir esta variable mejoro bastante el R2 score en comparación al modelo que no la incluye, pasando de 0,63 a 0,70 en tan solo 10 iteraciones, lo cuál es similar a la mejoría obtenida con 50 iteraciones."
      ],
      "metadata": {
        "id": "WIrqugxhj1HY"
      }
    },
    {
      "cell_type": "markdown",
      "source": [
        "### Entrenamiento de modelo con booster arbol"
      ],
      "metadata": {
        "id": "MqgMprn0dhNW"
      }
    },
    {
      "cell_type": "markdown",
      "source": [
        "Busco los mejores híperparametros mediante random search con 10 iteraciones y 5 folds de cross validation."
      ],
      "metadata": {
        "id": "nBGw26C9djeY"
      }
    },
    {
      "cell_type": "code",
      "source": [
        "n = 10\n",
        "folds = 5\n",
        "\n",
        "params_grid = {\"booster\": [\"gbtree\"],\n",
        "               \"objective\": [\"reg:linear\", \"reg:squarederror\", \"reg:absoluteerror\"],\n",
        "               \"eval_metric\": [\"rmse\", \"mae\"],\n",
        "               \"learning_rate\": np.linspace(0, 1, 200),\n",
        "               \"gamma\": np.linspace(0, 100, 300),\n",
        "               \"max_depth\": list(range(1, 20)),\n",
        "               \"lambda\": np.linspace(0, 1),\n",
        "               \"alpha\": np.linspace(0, 1)\n",
        "               }\n",
        "\n",
        "kfoldcv = StratifiedKFold(n_splits=folds, shuffle=True, random_state=semilla)\n",
        "\n",
        "xgb_base = xgboost.XGBRegressor()\n",
        "\n",
        "randomcv = RandomizedSearchCV(estimator=xgb_base,\n",
        "                              param_distributions=params_grid,\n",
        "                              cv=kfoldcv,\n",
        "                              n_iter=n,\n",
        "                              random_state=semilla)\n",
        "\n",
        "randomcv.fit(X_train, y_train)"
      ],
      "metadata": {
        "colab": {
          "base_uri": "https://localhost:8080/",
          "height": 118
        },
        "id": "MHL0zHykdj30",
        "outputId": "2821e482-57bb-468c-d3db-07bbd86cd188"
      },
      "execution_count": null,
      "outputs": [
        {
          "output_type": "execute_result",
          "data": {
            "text/plain": [
              "RandomizedSearchCV(cv=StratifiedKFold(n_splits=5, random_state=137, shuffle=True),\n",
              "                   estimator=XGBRegressor(base_score=None, booster=None,\n",
              "                                          callbacks=None,\n",
              "                                          colsample_bylevel=None,\n",
              "                                          colsample_bynode=None,\n",
              "                                          colsample_bytree=None, device=None,\n",
              "                                          early_stopping_rounds=None,\n",
              "                                          enable_categorical=False,\n",
              "                                          eval_metric=None, feature_types=None,\n",
              "                                          gamma=None, grow_policy=None,\n",
              "                                          importan...\n",
              "       0.90452261, 0.90954774, 0.91457286, 0.91959799, 0.92462312,\n",
              "       0.92964824, 0.93467337, 0.93969849, 0.94472362, 0.94974874,\n",
              "       0.95477387, 0.95979899, 0.96482412, 0.96984925, 0.97487437,\n",
              "       0.9798995 , 0.98492462, 0.98994975, 0.99497487, 1.        ]),\n",
              "                                        'max_depth': [1, 2, 3, 4, 5, 6, 7, 8, 9,\n",
              "                                                      10, 11, 12, 13, 14, 15,\n",
              "                                                      16, 17, 18, 19],\n",
              "                                        'objective': ['reg:linear',\n",
              "                                                      'reg:squarederror',\n",
              "                                                      'reg:absoluteerror']},\n",
              "                   random_state=137)"
            ],
            "text/html": [
              "<style>#sk-container-id-28 {color: black;background-color: white;}#sk-container-id-28 pre{padding: 0;}#sk-container-id-28 div.sk-toggleable {background-color: white;}#sk-container-id-28 label.sk-toggleable__label {cursor: pointer;display: block;width: 100%;margin-bottom: 0;padding: 0.3em;box-sizing: border-box;text-align: center;}#sk-container-id-28 label.sk-toggleable__label-arrow:before {content: \"▸\";float: left;margin-right: 0.25em;color: #696969;}#sk-container-id-28 label.sk-toggleable__label-arrow:hover:before {color: black;}#sk-container-id-28 div.sk-estimator:hover label.sk-toggleable__label-arrow:before {color: black;}#sk-container-id-28 div.sk-toggleable__content {max-height: 0;max-width: 0;overflow: hidden;text-align: left;background-color: #f0f8ff;}#sk-container-id-28 div.sk-toggleable__content pre {margin: 0.2em;color: black;border-radius: 0.25em;background-color: #f0f8ff;}#sk-container-id-28 input.sk-toggleable__control:checked~div.sk-toggleable__content {max-height: 200px;max-width: 100%;overflow: auto;}#sk-container-id-28 input.sk-toggleable__control:checked~label.sk-toggleable__label-arrow:before {content: \"▾\";}#sk-container-id-28 div.sk-estimator input.sk-toggleable__control:checked~label.sk-toggleable__label {background-color: #d4ebff;}#sk-container-id-28 div.sk-label input.sk-toggleable__control:checked~label.sk-toggleable__label {background-color: #d4ebff;}#sk-container-id-28 input.sk-hidden--visually {border: 0;clip: rect(1px 1px 1px 1px);clip: rect(1px, 1px, 1px, 1px);height: 1px;margin: -1px;overflow: hidden;padding: 0;position: absolute;width: 1px;}#sk-container-id-28 div.sk-estimator {font-family: monospace;background-color: #f0f8ff;border: 1px dotted black;border-radius: 0.25em;box-sizing: border-box;margin-bottom: 0.5em;}#sk-container-id-28 div.sk-estimator:hover {background-color: #d4ebff;}#sk-container-id-28 div.sk-parallel-item::after {content: \"\";width: 100%;border-bottom: 1px solid gray;flex-grow: 1;}#sk-container-id-28 div.sk-label:hover label.sk-toggleable__label {background-color: #d4ebff;}#sk-container-id-28 div.sk-serial::before {content: \"\";position: absolute;border-left: 1px solid gray;box-sizing: border-box;top: 0;bottom: 0;left: 50%;z-index: 0;}#sk-container-id-28 div.sk-serial {display: flex;flex-direction: column;align-items: center;background-color: white;padding-right: 0.2em;padding-left: 0.2em;position: relative;}#sk-container-id-28 div.sk-item {position: relative;z-index: 1;}#sk-container-id-28 div.sk-parallel {display: flex;align-items: stretch;justify-content: center;background-color: white;position: relative;}#sk-container-id-28 div.sk-item::before, #sk-container-id-28 div.sk-parallel-item::before {content: \"\";position: absolute;border-left: 1px solid gray;box-sizing: border-box;top: 0;bottom: 0;left: 50%;z-index: -1;}#sk-container-id-28 div.sk-parallel-item {display: flex;flex-direction: column;z-index: 1;position: relative;background-color: white;}#sk-container-id-28 div.sk-parallel-item:first-child::after {align-self: flex-end;width: 50%;}#sk-container-id-28 div.sk-parallel-item:last-child::after {align-self: flex-start;width: 50%;}#sk-container-id-28 div.sk-parallel-item:only-child::after {width: 0;}#sk-container-id-28 div.sk-dashed-wrapped {border: 1px dashed gray;margin: 0 0.4em 0.5em 0.4em;box-sizing: border-box;padding-bottom: 0.4em;background-color: white;}#sk-container-id-28 div.sk-label label {font-family: monospace;font-weight: bold;display: inline-block;line-height: 1.2em;}#sk-container-id-28 div.sk-label-container {text-align: center;}#sk-container-id-28 div.sk-container {/* jupyter's `normalize.less` sets `[hidden] { display: none; }` but bootstrap.min.css set `[hidden] { display: none !important; }` so we also need the `!important` here to be able to override the default hidden behavior on the sphinx rendered scikit-learn.org. See: https://github.com/scikit-learn/scikit-learn/issues/21755 */display: inline-block !important;position: relative;}#sk-container-id-28 div.sk-text-repr-fallback {display: none;}</style><div id=\"sk-container-id-28\" class=\"sk-top-container\"><div class=\"sk-text-repr-fallback\"><pre>RandomizedSearchCV(cv=StratifiedKFold(n_splits=5, random_state=137, shuffle=True),\n",
              "                   estimator=XGBRegressor(base_score=None, booster=None,\n",
              "                                          callbacks=None,\n",
              "                                          colsample_bylevel=None,\n",
              "                                          colsample_bynode=None,\n",
              "                                          colsample_bytree=None, device=None,\n",
              "                                          early_stopping_rounds=None,\n",
              "                                          enable_categorical=False,\n",
              "                                          eval_metric=None, feature_types=None,\n",
              "                                          gamma=None, grow_policy=None,\n",
              "                                          importan...\n",
              "       0.90452261, 0.90954774, 0.91457286, 0.91959799, 0.92462312,\n",
              "       0.92964824, 0.93467337, 0.93969849, 0.94472362, 0.94974874,\n",
              "       0.95477387, 0.95979899, 0.96482412, 0.96984925, 0.97487437,\n",
              "       0.9798995 , 0.98492462, 0.98994975, 0.99497487, 1.        ]),\n",
              "                                        &#x27;max_depth&#x27;: [1, 2, 3, 4, 5, 6, 7, 8, 9,\n",
              "                                                      10, 11, 12, 13, 14, 15,\n",
              "                                                      16, 17, 18, 19],\n",
              "                                        &#x27;objective&#x27;: [&#x27;reg:linear&#x27;,\n",
              "                                                      &#x27;reg:squarederror&#x27;,\n",
              "                                                      &#x27;reg:absoluteerror&#x27;]},\n",
              "                   random_state=137)</pre><b>In a Jupyter environment, please rerun this cell to show the HTML representation or trust the notebook. <br />On GitHub, the HTML representation is unable to render, please try loading this page with nbviewer.org.</b></div><div class=\"sk-container\" hidden><div class=\"sk-item sk-dashed-wrapped\"><div class=\"sk-label-container\"><div class=\"sk-label sk-toggleable\"><input class=\"sk-toggleable__control sk-hidden--visually\" id=\"sk-estimator-id-60\" type=\"checkbox\" ><label for=\"sk-estimator-id-60\" class=\"sk-toggleable__label sk-toggleable__label-arrow\">RandomizedSearchCV</label><div class=\"sk-toggleable__content\"><pre>RandomizedSearchCV(cv=StratifiedKFold(n_splits=5, random_state=137, shuffle=True),\n",
              "                   estimator=XGBRegressor(base_score=None, booster=None,\n",
              "                                          callbacks=None,\n",
              "                                          colsample_bylevel=None,\n",
              "                                          colsample_bynode=None,\n",
              "                                          colsample_bytree=None, device=None,\n",
              "                                          early_stopping_rounds=None,\n",
              "                                          enable_categorical=False,\n",
              "                                          eval_metric=None, feature_types=None,\n",
              "                                          gamma=None, grow_policy=None,\n",
              "                                          importan...\n",
              "       0.90452261, 0.90954774, 0.91457286, 0.91959799, 0.92462312,\n",
              "       0.92964824, 0.93467337, 0.93969849, 0.94472362, 0.94974874,\n",
              "       0.95477387, 0.95979899, 0.96482412, 0.96984925, 0.97487437,\n",
              "       0.9798995 , 0.98492462, 0.98994975, 0.99497487, 1.        ]),\n",
              "                                        &#x27;max_depth&#x27;: [1, 2, 3, 4, 5, 6, 7, 8, 9,\n",
              "                                                      10, 11, 12, 13, 14, 15,\n",
              "                                                      16, 17, 18, 19],\n",
              "                                        &#x27;objective&#x27;: [&#x27;reg:linear&#x27;,\n",
              "                                                      &#x27;reg:squarederror&#x27;,\n",
              "                                                      &#x27;reg:absoluteerror&#x27;]},\n",
              "                   random_state=137)</pre></div></div></div><div class=\"sk-parallel\"><div class=\"sk-parallel-item\"><div class=\"sk-item\"><div class=\"sk-label-container\"><div class=\"sk-label sk-toggleable\"><input class=\"sk-toggleable__control sk-hidden--visually\" id=\"sk-estimator-id-61\" type=\"checkbox\" ><label for=\"sk-estimator-id-61\" class=\"sk-toggleable__label sk-toggleable__label-arrow\">estimator: XGBRegressor</label><div class=\"sk-toggleable__content\"><pre>XGBRegressor(base_score=None, booster=None, callbacks=None,\n",
              "             colsample_bylevel=None, colsample_bynode=None,\n",
              "             colsample_bytree=None, device=None, early_stopping_rounds=None,\n",
              "             enable_categorical=False, eval_metric=None, feature_types=None,\n",
              "             gamma=None, grow_policy=None, importance_type=None,\n",
              "             interaction_constraints=None, learning_rate=None, max_bin=None,\n",
              "             max_cat_threshold=None, max_cat_to_onehot=None,\n",
              "             max_delta_step=None, max_depth=None, max_leaves=None,\n",
              "             min_child_weight=None, missing=nan, monotone_constraints=None,\n",
              "             multi_strategy=None, n_estimators=None, n_jobs=None,\n",
              "             num_parallel_tree=None, random_state=None, ...)</pre></div></div></div><div class=\"sk-serial\"><div class=\"sk-item\"><div class=\"sk-estimator sk-toggleable\"><input class=\"sk-toggleable__control sk-hidden--visually\" id=\"sk-estimator-id-62\" type=\"checkbox\" ><label for=\"sk-estimator-id-62\" class=\"sk-toggleable__label sk-toggleable__label-arrow\">XGBRegressor</label><div class=\"sk-toggleable__content\"><pre>XGBRegressor(base_score=None, booster=None, callbacks=None,\n",
              "             colsample_bylevel=None, colsample_bynode=None,\n",
              "             colsample_bytree=None, device=None, early_stopping_rounds=None,\n",
              "             enable_categorical=False, eval_metric=None, feature_types=None,\n",
              "             gamma=None, grow_policy=None, importance_type=None,\n",
              "             interaction_constraints=None, learning_rate=None, max_bin=None,\n",
              "             max_cat_threshold=None, max_cat_to_onehot=None,\n",
              "             max_delta_step=None, max_depth=None, max_leaves=None,\n",
              "             min_child_weight=None, missing=nan, monotone_constraints=None,\n",
              "             multi_strategy=None, n_estimators=None, n_jobs=None,\n",
              "             num_parallel_tree=None, random_state=None, ...)</pre></div></div></div></div></div></div></div></div></div></div>"
            ]
          },
          "metadata": {},
          "execution_count": 241
        }
      ]
    },
    {
      "cell_type": "markdown",
      "source": [
        "Entreno el modelo con los mejores híperparametros y los muestro."
      ],
      "metadata": {
        "id": "nJcdkHXHf04Z"
      }
    },
    {
      "cell_type": "code",
      "source": [
        "mejor_arbol_tipo = xgboost.XGBRegressor()\n",
        "mejor_arbol_tipo.set_params(**randomcv.best_params_)\n",
        "\n",
        "mejor_arbol_tipo.fit(X_train, y_train)\n",
        "\n",
        "print(\"Híperparametros: \", randomcv.best_params_)"
      ],
      "metadata": {
        "colab": {
          "base_uri": "https://localhost:8080/"
        },
        "id": "japUAkEedk9Z",
        "outputId": "a531589b-c32e-443d-d570-819bff8b0ee6"
      },
      "execution_count": null,
      "outputs": [
        {
          "output_type": "stream",
          "name": "stdout",
          "text": [
            "Híperparametros:  {'objective': 'reg:linear', 'max_depth': 6, 'learning_rate': 0.3165829145728643, 'lambda': 0.8979591836734693, 'gamma': 94.64882943143813, 'eval_metric': 'rmse', 'booster': 'gbtree', 'alpha': 0.6326530612244897}\n"
          ]
        }
      ]
    },
    {
      "cell_type": "markdown",
      "source": [
        "Hago las predicciones con el modelo entrenado."
      ],
      "metadata": {
        "id": "McCEL_N5fzT1"
      }
    },
    {
      "cell_type": "code",
      "source": [
        "y_pred_arbol_tipo = mejor_arbol_tipo.predict(X_test)"
      ],
      "metadata": {
        "id": "SNf6bNmpdkzs"
      },
      "execution_count": null,
      "outputs": []
    },
    {
      "cell_type": "markdown",
      "source": [
        "Muestro los scores R2 en train y cross validation."
      ],
      "metadata": {
        "id": "7_jnlMqTfw3x"
      }
    },
    {
      "cell_type": "code",
      "source": [
        "scores = cross_val_score(mejor_arbol_tipo, X_train, y_train, cv=kfoldcv)\n",
        "train_score = mejor_arbol_tipo.score(X_train, y_train)\n",
        "\n",
        "print(\"R2 train: \", train_score)\n",
        "print(\"Cross val R2 scores: \", scores)"
      ],
      "metadata": {
        "colab": {
          "base_uri": "https://localhost:8080/"
        },
        "id": "UenGRiMPdkn9",
        "outputId": "f319e441-a554-41dc-bbb1-e664938dedf6"
      },
      "execution_count": null,
      "outputs": [
        {
          "output_type": "stream",
          "name": "stdout",
          "text": [
            "R2 train:  0.9593885036166919\n",
            "Cross val R2 scores:  [0.93666712 0.93064274 0.93660578 0.92889855 0.935049  ]\n"
          ]
        }
      ]
    },
    {
      "cell_type": "markdown",
      "source": [
        "Muestro las métricas en testing."
      ],
      "metadata": {
        "id": "7I9QCW9HfvMt"
      }
    },
    {
      "cell_type": "code",
      "source": [
        "rmse_arbol_tipo = np.sqrt(MSE(y_test, y_pred_arbol_tipo))\n",
        "mse_arbol_tipo = MSE(y_test, y_pred_arbol_tipo)\n",
        "r2_arbol_tipo = R2(y_test, y_pred_arbol_tipo)\n",
        "\n",
        "print(\"RMSE: % f\" %(rmse_arbol_tipo))\n",
        "print(\"MSE: % f\" %(mse_arbol_tipo))\n",
        "print(\"R2: % f\" %(r2_arbol_tipo))"
      ],
      "metadata": {
        "colab": {
          "base_uri": "https://localhost:8080/"
        },
        "id": "NcNMKbZ3dkG7",
        "outputId": "e29c70c6-9435-4a51-81e3-a5a3f3a9d9e4"
      },
      "execution_count": null,
      "outputs": [
        {
          "output_type": "stream",
          "name": "stdout",
          "text": [
            "RMSE:  37043.037990\n",
            "MSE:  1372186663.529403\n",
            "R2:  0.922445\n"
          ]
        }
      ]
    },
    {
      "cell_type": "markdown",
      "source": [
        "Notamos que si bien disminuyó el score de R2 en train, pasando de 0,99 a 0,96, se incrementó el score de R2 en testing, de 0,87 a 0,92, lo cual significa que el modelo esta encontrando mejor las relaciones entre las variables para predecir el precio de una vivienda en venta que resulta ajena a los datos de entrenamiento (un registro 'desconocido' para el modelo entrenado)."
      ],
      "metadata": {
        "id": "rPZzlCgfkEyW"
      }
    },
    {
      "cell_type": "markdown",
      "source": [
        "## Guardado del mejor modelo"
      ],
      "metadata": {
        "id": "dHqjYXnbz9tL"
      }
    },
    {
      "cell_type": "markdown",
      "source": [
        "Guardo mediante joblib el mejor modelo que obtuve, el cual utiliza un booster arbol con 50 iteraciones y datos escalados sin incluir la variable `tipo_precio`. Tomamos este ya que consideramos que para nuevas observaciones lo más probable es que no vamos a contar con esta variable, ya que para conocerla debería conocerse también de antemano el precio, por lo cual no tendría sentido predecirlo."
      ],
      "metadata": {
        "id": "9AXbz6KlBSpd"
      }
    },
    {
      "cell_type": "code",
      "source": [
        "import joblib\n",
        "\n",
        "joblib.dump(mejor_arbol_50iter, \"mejor_xgboost.joblib\")"
      ],
      "metadata": {
        "colab": {
          "base_uri": "https://localhost:8080/"
        },
        "id": "OfRw0hCkBYqo",
        "outputId": "749a53a4-09a8-4207-cbf7-06dbec063057"
      },
      "execution_count": null,
      "outputs": [
        {
          "output_type": "execute_result",
          "data": {
            "text/plain": [
              "['mejor_xgboost.model']"
            ]
          },
          "metadata": {},
          "execution_count": 246
        }
      ]
    },
    {
      "cell_type": "markdown",
      "source": [
        "## Conclusiones"
      ],
      "metadata": {
        "id": "uAVuj34P0ApH"
      }
    },
    {
      "cell_type": "markdown",
      "source": [
        "Notamos que el modelo de xgboost utilizando booster árbol resulta tener la mejor métrica en comparación al booster lineal, sobre todo al dejarlo correr más iteraciones, si bien esto causa también mayor costo temporal. También notamos que tiende a hacer overfitting, pero con una diferencia que no resulta excesiva entre los sets de entrenamiento y de test, teniendo este un score de R2 casi perfecto, de 0,99 para entrenamiento, y un score bastante elevado para test, de 0,87. Esto nos lleva a pensar que si bien tiende al overfitting, a su vez esta tendencia no es tan excesiva como aparenta y parece encontrar relaciones buenas como para performar considerablemente bien en testing.\n",
        "\n",
        "Por otro lado, incrementar las iteraciones al booster lineal le generó un aumento un tanto significativo de la calidad de las predicciones, aún tendiendo al underfitting, ya que su performance resulta de 0,72 (aproximadamente) tanto para los sets de test como entrenamiento, lo cual fue 0,09 mejor (aproximadamente) respecto del entrenamiento con 10 iteraciones en testing. El costo temporal fue mayor, pasando de 2 minutos a 12 en obtener un 0,09 de aumento únicamente.\n",
        "\n",
        "Por último, notamos que escalar los datos realmente no genera una mejora significativa en la performance de los modelos, pero sí lo genera inlcuir la variable de `tipo_precio` en ambos modelos y tanto en train como en testing. Esta variable en realidad no viene del dataset original por lo que decidimos tomar como mejor modelo el que no hace uso de la misma, pero en caso de conocerse para una nueva observacion y no conocer el precio, resultaría de mucha utilidad para realizar una predicción aún más precisa según parece indicar el modelo entrenado."
      ],
      "metadata": {
        "id": "L6VPP9zFBVjo"
      }
    }
  ],
  "metadata": {
    "colab": {
      "provenance": [],
      "toc_visible": true
    },
    "kernelspec": {
      "display_name": "Python 3",
      "name": "python3"
    },
    "language_info": {
      "name": "python"
    }
  },
  "nbformat": 4,
  "nbformat_minor": 0
}