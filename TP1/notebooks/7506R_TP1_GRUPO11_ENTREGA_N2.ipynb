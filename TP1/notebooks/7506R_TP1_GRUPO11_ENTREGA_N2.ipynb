{
  "cells": [
    {
      "cell_type": "markdown",
      "source": [
        "# Trabajo Práctico 1: Propiedades en Venta - Árbol de decisión\n",
        "\n",
        "## Grupo 11 - \"Los Outliers\"\n",
        "\n",
        "- Castillo, Carlos\n",
        "- Destefanis, Juan Pablo\n",
        "- Gómez, Celeste"
      ],
      "metadata": {
        "id": "Aj3fuNobqEIc"
      }
    },
    {
      "cell_type": "code",
      "execution_count": null,
      "metadata": {
        "colab": {
          "base_uri": "https://localhost:8080/"
        },
        "id": "VRh53FHgPIrh",
        "outputId": "af069bff-28c8-43ca-8dcd-2a2362d38d8b"
      },
      "outputs": [
        {
          "output_type": "stream",
          "name": "stdout",
          "text": [
            "Collecting dtreeviz\n",
            "  Downloading dtreeviz-2.2.2-py3-none-any.whl (91 kB)\n",
            "\u001b[?25l     \u001b[90m━━━━━━━━━━━━━━━━━━━━━━━━━━━━━━━━━━━━━━━━\u001b[0m \u001b[32m0.0/91.8 kB\u001b[0m \u001b[31m?\u001b[0m eta \u001b[36m-:--:--\u001b[0m\r\u001b[2K     \u001b[91m━━━━━━━━━━━━━━━━━━━━━━━━━━━━━━━━━━━\u001b[0m\u001b[91m╸\u001b[0m\u001b[90m━━━━\u001b[0m \u001b[32m81.9/91.8 kB\u001b[0m \u001b[31m2.8 MB/s\u001b[0m eta \u001b[36m0:00:01\u001b[0m\r\u001b[2K     \u001b[90m━━━━━━━━━━━━━━━━━━━━━━━━━━━━━━━━━━━━━━━━\u001b[0m \u001b[32m91.8/91.8 kB\u001b[0m \u001b[31m1.9 MB/s\u001b[0m eta \u001b[36m0:00:00\u001b[0m\n",
            "\u001b[?25hRequirement already satisfied: graphviz>=0.9 in /usr/local/lib/python3.10/dist-packages (from dtreeviz) (0.20.3)\n",
            "Requirement already satisfied: pandas in /usr/local/lib/python3.10/dist-packages (from dtreeviz) (2.0.3)\n",
            "Requirement already satisfied: numpy in /usr/local/lib/python3.10/dist-packages (from dtreeviz) (1.25.2)\n",
            "Requirement already satisfied: scikit-learn in /usr/local/lib/python3.10/dist-packages (from dtreeviz) (1.2.2)\n",
            "Requirement already satisfied: matplotlib in /usr/local/lib/python3.10/dist-packages (from dtreeviz) (3.7.1)\n",
            "Requirement already satisfied: colour in /usr/local/lib/python3.10/dist-packages (from dtreeviz) (0.1.5)\n",
            "Requirement already satisfied: pytest in /usr/local/lib/python3.10/dist-packages (from dtreeviz) (7.4.4)\n",
            "Requirement already satisfied: contourpy>=1.0.1 in /usr/local/lib/python3.10/dist-packages (from matplotlib->dtreeviz) (1.2.1)\n",
            "Requirement already satisfied: cycler>=0.10 in /usr/local/lib/python3.10/dist-packages (from matplotlib->dtreeviz) (0.12.1)\n",
            "Requirement already satisfied: fonttools>=4.22.0 in /usr/local/lib/python3.10/dist-packages (from matplotlib->dtreeviz) (4.51.0)\n",
            "Requirement already satisfied: kiwisolver>=1.0.1 in /usr/local/lib/python3.10/dist-packages (from matplotlib->dtreeviz) (1.4.5)\n",
            "Requirement already satisfied: packaging>=20.0 in /usr/local/lib/python3.10/dist-packages (from matplotlib->dtreeviz) (24.0)\n",
            "Requirement already satisfied: pillow>=6.2.0 in /usr/local/lib/python3.10/dist-packages (from matplotlib->dtreeviz) (9.4.0)\n",
            "Requirement already satisfied: pyparsing>=2.3.1 in /usr/local/lib/python3.10/dist-packages (from matplotlib->dtreeviz) (3.1.2)\n",
            "Requirement already satisfied: python-dateutil>=2.7 in /usr/local/lib/python3.10/dist-packages (from matplotlib->dtreeviz) (2.8.2)\n",
            "Requirement already satisfied: pytz>=2020.1 in /usr/local/lib/python3.10/dist-packages (from pandas->dtreeviz) (2023.4)\n",
            "Requirement already satisfied: tzdata>=2022.1 in /usr/local/lib/python3.10/dist-packages (from pandas->dtreeviz) (2024.1)\n",
            "Requirement already satisfied: iniconfig in /usr/local/lib/python3.10/dist-packages (from pytest->dtreeviz) (2.0.0)\n",
            "Requirement already satisfied: pluggy<2.0,>=0.12 in /usr/local/lib/python3.10/dist-packages (from pytest->dtreeviz) (1.5.0)\n",
            "Requirement already satisfied: exceptiongroup>=1.0.0rc8 in /usr/local/lib/python3.10/dist-packages (from pytest->dtreeviz) (1.2.1)\n",
            "Requirement already satisfied: tomli>=1.0.0 in /usr/local/lib/python3.10/dist-packages (from pytest->dtreeviz) (2.0.1)\n",
            "Requirement already satisfied: scipy>=1.3.2 in /usr/local/lib/python3.10/dist-packages (from scikit-learn->dtreeviz) (1.11.4)\n",
            "Requirement already satisfied: joblib>=1.1.1 in /usr/local/lib/python3.10/dist-packages (from scikit-learn->dtreeviz) (1.4.2)\n",
            "Requirement already satisfied: threadpoolctl>=2.0.0 in /usr/local/lib/python3.10/dist-packages (from scikit-learn->dtreeviz) (3.5.0)\n",
            "Requirement already satisfied: six>=1.5 in /usr/local/lib/python3.10/dist-packages (from python-dateutil>=2.7->matplotlib->dtreeviz) (1.16.0)\n",
            "Installing collected packages: dtreeviz\n",
            "Successfully installed dtreeviz-2.2.2\n"
          ]
        }
      ],
      "source": [
        "!pip install 'dtreeviz'"
      ]
    },
    {
      "cell_type": "code",
      "execution_count": null,
      "metadata": {
        "id": "PdDSsmqBkUeS"
      },
      "outputs": [],
      "source": [
        "import pandas as pd\n",
        "import numpy as np\n",
        "\n",
        "#Visualización\n",
        "import matplotlib.pyplot as plt\n",
        "import seaborn as sns\n",
        "import dtreeviz\n",
        "\n",
        "#modelos y métricas\n",
        "from sklearn import tree\n",
        "from sklearn.model_selection import train_test_split\n",
        "from sklearn.metrics import precision_score, recall_score, accuracy_score, f1_score\n",
        "from sklearn.metrics import confusion_matrix, classification_report\n",
        "\n",
        "#preprocesamiento\n",
        "from sklearn.preprocessing import MinMaxScaler\n",
        "\n",
        "#configuración warnings\n",
        "import warnings\n",
        "warnings.simplefilter(action='ignore', category=FutureWarning)\n",
        "warnings.simplefilter(action='ignore', category=UserWarning)\n",
        "\n",
        "from sklearn.model_selection import StratifiedKFold, KFold, RandomizedSearchCV\n",
        "from sklearn.tree import DecisionTreeClassifier\n",
        "from sklearn.metrics import make_scorer\n",
        "from sklearn.tree import export_text\n",
        "from sklearn.preprocessing import StandardScaler\n",
        "from sklearn.model_selection import cross_val_score\n",
        "from sklearn.preprocessing import LabelEncoder\n",
        "\n",
        "from six import StringIO\n",
        "from IPython.display import Image\n",
        "from sklearn.tree import export_graphviz\n",
        "import pydotplus"
      ]
    },
    {
      "cell_type": "markdown",
      "metadata": {
        "id": "eX_ljnrBV3VV"
      },
      "source": [
        "## Carga de datos y preprocesamiento"
      ]
    },
    {
      "cell_type": "markdown",
      "source": [
        "### Carga de datos"
      ],
      "metadata": {
        "id": "O_qWEWL2MQw_"
      }
    },
    {
      "cell_type": "markdown",
      "metadata": {
        "id": "ZKAxjT6ixchC"
      },
      "source": [
        "Fijo una semilla."
      ]
    },
    {
      "cell_type": "code",
      "execution_count": null,
      "metadata": {
        "id": "0y6ltDV2xbAG"
      },
      "outputs": [],
      "source": [
        "semilla = 137"
      ]
    },
    {
      "cell_type": "markdown",
      "metadata": {
        "id": "_AeUHu5DV9a6"
      },
      "source": [
        "Cargo los datos de los avisos con tipo de precio."
      ]
    },
    {
      "cell_type": "code",
      "execution_count": null,
      "metadata": {
        "id": "Io6uC17An1Qb"
      },
      "outputs": [],
      "source": [
        "df = pd.read_csv(\"https://drive.usercontent.google.com/u/1/uc?id=1Aib-aBN7wcI3EuPTX-Kd7VyZVwffB_sQ&export=download\",\n",
        "                 index_col=0)"
      ]
    },
    {
      "cell_type": "markdown",
      "source": [
        "### Encoding"
      ],
      "metadata": {
        "id": "wr2ZeOx4MPgS"
      }
    },
    {
      "cell_type": "markdown",
      "metadata": {
        "id": "uddMk3XRWCEK"
      },
      "source": [
        "Hago OneHot encoding para el tipo de propiedad."
      ]
    },
    {
      "cell_type": "code",
      "execution_count": null,
      "metadata": {
        "id": "ZkeqzopysFmj"
      },
      "outputs": [],
      "source": [
        "# OneHot encoding para tipo de propiedad\n",
        "df = pd.get_dummies(df, columns=[\"property_type\"], drop_first=True)"
      ]
    },
    {
      "cell_type": "markdown",
      "source": [
        "Encodeo con LabelEncoder los barrios, y no opto por OneHot para esta variable por la cantidad de columnas que se generarian al encodear de esa forma los barrios"
      ],
      "metadata": {
        "id": "pVnyl0zkOEyU"
      }
    },
    {
      "cell_type": "code",
      "source": [
        "#le = LabelEncoder()\n",
        "\n",
        "#le.fit(df['neighbourhood'])\n",
        "#labels = le.transform(df['neighbourhood'])\n",
        "#df['neighbourhood'] = labels\n",
        "# OneHot encoding para barrio\n",
        "df = pd.get_dummies(df, columns=[\"neighbourhood\"], drop_first=True)"
      ],
      "metadata": {
        "id": "f0uY46xXNoPN"
      },
      "execution_count": null,
      "outputs": []
    },
    {
      "cell_type": "markdown",
      "source": [
        "### Selección de features"
      ],
      "metadata": {
        "id": "uYABTXjzMUJV"
      }
    },
    {
      "cell_type": "markdown",
      "metadata": {
        "id": "zXyw8dXHB8n9"
      },
      "source": [
        "No uso `property_price` porque contiene información sobre el precio, así como tampoco utilizo `property_surface_total` ya que se utilizo para generar `precio_m2`, la cual a su vez se utilizo para generar el target, y otras variables irrelevantes para el analisis, `id` y `property_title`, por ser estas variables particulares de cada aviso y sin relación con el target."
      ]
    },
    {
      "cell_type": "code",
      "execution_count": null,
      "metadata": {
        "id": "tFi4wObgoieu"
      },
      "outputs": [],
      "source": [
        "onehot = [col for col in df.columns if col.startswith((\"neighbourhood_\"))]\n",
        "\n",
        "features = ['property_rooms',\n",
        "            'property_bedrooms',\n",
        "            'property_surface_total',\n",
        "            'property_surface_covered',\n",
        "            'latitud',\n",
        "            'longitud',\n",
        "            'property_type_Departamento',\n",
        "            'property_type_PH',\n",
        "            ]\n",
        "\n",
        "features = features + onehot\n",
        "\n",
        "target = ['tipo_precio']"
      ]
    },
    {
      "cell_type": "markdown",
      "source": [
        "Genero dos dataframes, uno para nuestro x (features), y otro para nuestro y (target a predecir)."
      ],
      "metadata": {
        "id": "MmY4CyFMMafx"
      }
    },
    {
      "cell_type": "code",
      "execution_count": null,
      "metadata": {
        "id": "U3KnPpF-y4iY"
      },
      "outputs": [],
      "source": [
        "df_x = df[features]\n",
        "df_y = df[target]"
      ]
    },
    {
      "cell_type": "markdown",
      "metadata": {
        "id": "xSG-SVF_sHVw"
      },
      "source": [
        "## Entrenamiento de modelos"
      ]
    },
    {
      "cell_type": "markdown",
      "source": [
        "### Generación de conjuntos de train y test"
      ],
      "metadata": {
        "id": "0L22UOJrLNt5"
      }
    },
    {
      "cell_type": "markdown",
      "source": [
        "Genero los conjuntos de train (80%) y test (20%)."
      ],
      "metadata": {
        "id": "2PNSLGraMj7t"
      }
    },
    {
      "cell_type": "code",
      "execution_count": null,
      "metadata": {
        "id": "c22wincWFRP4"
      },
      "outputs": [],
      "source": [
        "X_train, X_test, y_train, y_test = train_test_split(df_x, df_y, test_size=0.20, stratify=df[target].values, random_state=semilla)"
      ]
    },
    {
      "cell_type": "markdown",
      "source": [
        "### Entrenamiento de un árbol con parámetros por defecto"
      ],
      "metadata": {
        "id": "s9dFuNXQ5eNU"
      }
    },
    {
      "cell_type": "markdown",
      "source": [
        "Entreno un árbol con los hiperparámetros por defecto."
      ],
      "metadata": {
        "id": "dD3zl8FF5x4m"
      }
    },
    {
      "cell_type": "code",
      "source": [
        "arbol_defecto = DecisionTreeClassifier()\n",
        "\n",
        "arbol_defecto.fit(X_train, y_train)"
      ],
      "metadata": {
        "colab": {
          "base_uri": "https://localhost:8080/",
          "height": 75
        },
        "id": "ihM3U-qT5xNh",
        "outputId": "3c5e76aa-7831-425b-ddb3-636f92158e8b"
      },
      "execution_count": null,
      "outputs": [
        {
          "output_type": "execute_result",
          "data": {
            "text/plain": [
              "DecisionTreeClassifier()"
            ],
            "text/html": [
              "<style>#sk-container-id-1 {color: black;background-color: white;}#sk-container-id-1 pre{padding: 0;}#sk-container-id-1 div.sk-toggleable {background-color: white;}#sk-container-id-1 label.sk-toggleable__label {cursor: pointer;display: block;width: 100%;margin-bottom: 0;padding: 0.3em;box-sizing: border-box;text-align: center;}#sk-container-id-1 label.sk-toggleable__label-arrow:before {content: \"▸\";float: left;margin-right: 0.25em;color: #696969;}#sk-container-id-1 label.sk-toggleable__label-arrow:hover:before {color: black;}#sk-container-id-1 div.sk-estimator:hover label.sk-toggleable__label-arrow:before {color: black;}#sk-container-id-1 div.sk-toggleable__content {max-height: 0;max-width: 0;overflow: hidden;text-align: left;background-color: #f0f8ff;}#sk-container-id-1 div.sk-toggleable__content pre {margin: 0.2em;color: black;border-radius: 0.25em;background-color: #f0f8ff;}#sk-container-id-1 input.sk-toggleable__control:checked~div.sk-toggleable__content {max-height: 200px;max-width: 100%;overflow: auto;}#sk-container-id-1 input.sk-toggleable__control:checked~label.sk-toggleable__label-arrow:before {content: \"▾\";}#sk-container-id-1 div.sk-estimator input.sk-toggleable__control:checked~label.sk-toggleable__label {background-color: #d4ebff;}#sk-container-id-1 div.sk-label input.sk-toggleable__control:checked~label.sk-toggleable__label {background-color: #d4ebff;}#sk-container-id-1 input.sk-hidden--visually {border: 0;clip: rect(1px 1px 1px 1px);clip: rect(1px, 1px, 1px, 1px);height: 1px;margin: -1px;overflow: hidden;padding: 0;position: absolute;width: 1px;}#sk-container-id-1 div.sk-estimator {font-family: monospace;background-color: #f0f8ff;border: 1px dotted black;border-radius: 0.25em;box-sizing: border-box;margin-bottom: 0.5em;}#sk-container-id-1 div.sk-estimator:hover {background-color: #d4ebff;}#sk-container-id-1 div.sk-parallel-item::after {content: \"\";width: 100%;border-bottom: 1px solid gray;flex-grow: 1;}#sk-container-id-1 div.sk-label:hover label.sk-toggleable__label {background-color: #d4ebff;}#sk-container-id-1 div.sk-serial::before {content: \"\";position: absolute;border-left: 1px solid gray;box-sizing: border-box;top: 0;bottom: 0;left: 50%;z-index: 0;}#sk-container-id-1 div.sk-serial {display: flex;flex-direction: column;align-items: center;background-color: white;padding-right: 0.2em;padding-left: 0.2em;position: relative;}#sk-container-id-1 div.sk-item {position: relative;z-index: 1;}#sk-container-id-1 div.sk-parallel {display: flex;align-items: stretch;justify-content: center;background-color: white;position: relative;}#sk-container-id-1 div.sk-item::before, #sk-container-id-1 div.sk-parallel-item::before {content: \"\";position: absolute;border-left: 1px solid gray;box-sizing: border-box;top: 0;bottom: 0;left: 50%;z-index: -1;}#sk-container-id-1 div.sk-parallel-item {display: flex;flex-direction: column;z-index: 1;position: relative;background-color: white;}#sk-container-id-1 div.sk-parallel-item:first-child::after {align-self: flex-end;width: 50%;}#sk-container-id-1 div.sk-parallel-item:last-child::after {align-self: flex-start;width: 50%;}#sk-container-id-1 div.sk-parallel-item:only-child::after {width: 0;}#sk-container-id-1 div.sk-dashed-wrapped {border: 1px dashed gray;margin: 0 0.4em 0.5em 0.4em;box-sizing: border-box;padding-bottom: 0.4em;background-color: white;}#sk-container-id-1 div.sk-label label {font-family: monospace;font-weight: bold;display: inline-block;line-height: 1.2em;}#sk-container-id-1 div.sk-label-container {text-align: center;}#sk-container-id-1 div.sk-container {/* jupyter's `normalize.less` sets `[hidden] { display: none; }` but bootstrap.min.css set `[hidden] { display: none !important; }` so we also need the `!important` here to be able to override the default hidden behavior on the sphinx rendered scikit-learn.org. See: https://github.com/scikit-learn/scikit-learn/issues/21755 */display: inline-block !important;position: relative;}#sk-container-id-1 div.sk-text-repr-fallback {display: none;}</style><div id=\"sk-container-id-1\" class=\"sk-top-container\"><div class=\"sk-text-repr-fallback\"><pre>DecisionTreeClassifier()</pre><b>In a Jupyter environment, please rerun this cell to show the HTML representation or trust the notebook. <br />On GitHub, the HTML representation is unable to render, please try loading this page with nbviewer.org.</b></div><div class=\"sk-container\" hidden><div class=\"sk-item\"><div class=\"sk-estimator sk-toggleable\"><input class=\"sk-toggleable__control sk-hidden--visually\" id=\"sk-estimator-id-1\" type=\"checkbox\" checked><label for=\"sk-estimator-id-1\" class=\"sk-toggleable__label sk-toggleable__label-arrow\">DecisionTreeClassifier</label><div class=\"sk-toggleable__content\"><pre>DecisionTreeClassifier()</pre></div></div></div></div></div>"
            ]
          },
          "metadata": {},
          "execution_count": 10
        }
      ]
    },
    {
      "cell_type": "markdown",
      "source": [
        "Vemos los hiperparámetros del árbol."
      ],
      "metadata": {
        "id": "Q4K6ysIQosgs"
      }
    },
    {
      "cell_type": "code",
      "source": [
        "print(arbol_defecto.get_params())"
      ],
      "metadata": {
        "colab": {
          "base_uri": "https://localhost:8080/"
        },
        "id": "BA0ZBgrzosJw",
        "outputId": "641b352d-0128-44d1-b18a-d85d9cb1e869"
      },
      "execution_count": null,
      "outputs": [
        {
          "output_type": "stream",
          "name": "stdout",
          "text": [
            "{'ccp_alpha': 0.0, 'class_weight': None, 'criterion': 'gini', 'max_depth': None, 'max_features': None, 'max_leaf_nodes': None, 'min_impurity_decrease': 0.0, 'min_samples_leaf': 1, 'min_samples_split': 2, 'min_weight_fraction_leaf': 0.0, 'random_state': None, 'splitter': 'best'}\n"
          ]
        }
      ]
    },
    {
      "cell_type": "markdown",
      "source": [
        "Predigo los valores del conjunto de test"
      ],
      "metadata": {
        "id": "vIVm4ZGx6AU2"
      }
    },
    {
      "cell_type": "code",
      "source": [
        "y_pred_base = arbol_defecto.predict(X_test)"
      ],
      "metadata": {
        "id": "poaqFEsu5_WB"
      },
      "execution_count": null,
      "outputs": []
    },
    {
      "cell_type": "code",
      "source": [
        "y_pred_base"
      ],
      "metadata": {
        "colab": {
          "base_uri": "https://localhost:8080/"
        },
        "id": "HDYlA0akBlt_",
        "outputId": "42eb9279-477e-414f-ff33-d09afbe3d430"
      },
      "execution_count": null,
      "outputs": [
        {
          "output_type": "execute_result",
          "data": {
            "text/plain": [
              "array(['bajo', 'medio', 'alto', ..., 'medio', 'alto', 'alto'],\n",
              "      dtype=object)"
            ]
          },
          "metadata": {},
          "execution_count": 14
        }
      ]
    },
    {
      "cell_type": "markdown",
      "source": [
        "Muestro la matriz de confusion"
      ],
      "metadata": {
        "id": "NtnUeM2r6N6q"
      }
    },
    {
      "cell_type": "code",
      "source": [
        "#Creo la matriz de confusión\n",
        "labels = [\"bajo\",  \"medio\", \"alto\"]\n",
        "tabla = confusion_matrix(y_pred_base, y_test, labels=labels)\n",
        "\n",
        "#Grafico la matriz de confusión\n",
        "sns.heatmap(tabla, cmap='GnBu', annot=True, fmt='g', xticklabels=labels, yticklabels=labels)\n",
        "plt.xlabel('Predicted')\n",
        "plt.ylabel('True')"
      ],
      "metadata": {
        "colab": {
          "base_uri": "https://localhost:8080/",
          "height": 466
        },
        "id": "zxA0S7vf6LlX",
        "outputId": "a1d49ffa-1d9d-4366-d217-888a1072220d"
      },
      "execution_count": null,
      "outputs": [
        {
          "output_type": "execute_result",
          "data": {
            "text/plain": [
              "Text(50.722222222222214, 0.5, 'True')"
            ]
          },
          "metadata": {},
          "execution_count": 16
        },
        {
          "output_type": "display_data",
          "data": {
            "text/plain": [
              "<Figure size 640x480 with 2 Axes>"
            ],
            "image/png": "[encoded data removed]"
          },
          "metadata": {}
        }
      ]
    },
    {
      "cell_type": "markdown",
      "source": [
        "Ahora vemos los scores."
      ],
      "metadata": {
        "id": "q-_SZR-M6UqC"
      }
    },
    {
      "cell_type": "code",
      "source": [
        "accuracy=accuracy_score(y_test, y_pred_base)\n",
        "recall=recall_score(y_test, y_pred_base, average='weighted')\n",
        "f1=f1_score(y_test, y_pred_base, average='weighted')\n",
        "precision=precision_score(y_test, y_pred_base, average='weighted')\n",
        "\n",
        "print(\"Accuracy: \"+str(accuracy))\n",
        "print(\"Recall: \"+str(recall))\n",
        "print(\"Precision: \"+str(precision))\n",
        "print(\"f1 score: \"+str(f1))"
      ],
      "metadata": {
        "colab": {
          "base_uri": "https://localhost:8080/"
        },
        "id": "RnD70yxM6URZ",
        "outputId": "46f8a0a4-69ba-4cf6-b6c9-28d69295dbf0"
      },
      "execution_count": null,
      "outputs": [
        {
          "output_type": "stream",
          "name": "stdout",
          "text": [
            "Accuracy: 0.7040907733651837\n",
            "Recall: 0.7040907733651837\n",
            "Precision: 0.7044717713540237\n",
            "f1 score: 0.7042010503803382\n"
          ]
        }
      ]
    },
    {
      "cell_type": "code",
      "source": [
        "print(classification_report(y_test, y_pred_base))"
      ],
      "metadata": {
        "colab": {
          "base_uri": "https://localhost:8080/"
        },
        "id": "ZmQvzynXunlA",
        "outputId": "61b65805-fc62-4ebc-ab70-a14cb0a6e8df"
      },
      "execution_count": null,
      "outputs": [
        {
          "output_type": "stream",
          "name": "stdout",
          "text": [
            "              precision    recall  f1-score   support\n",
            "\n",
            "        alto       0.68      0.71      0.69      4180\n",
            "        bajo       0.68      0.68      0.68      4189\n",
            "       medio       0.73      0.72      0.72      8376\n",
            "\n",
            "    accuracy                           0.70     16745\n",
            "   macro avg       0.70      0.70      0.70     16745\n",
            "weighted avg       0.70      0.70      0.70     16745\n",
            "\n"
          ]
        }
      ]
    },
    {
      "cell_type": "markdown",
      "source": [
        "Visualizamos las reglas"
      ],
      "metadata": {
        "id": "HPnWoTy1uoa9"
      }
    },
    {
      "cell_type": "code",
      "source": [
        "reglas = export_text(arbol_defecto, feature_names=list(features))\n",
        "print(reglas)"
      ],
      "metadata": {
        "colab": {
          "base_uri": "https://localhost:8080/"
        },
        "id": "ZR8RjemyOYp_",
        "outputId": "c60aafd4-bce8-48d8-934e-2bbac8b8657c"
      },
      "execution_count": null,
      "outputs": [
        {
          "output_type": "stream",
          "name": "stdout",
          "text": [
            "|--- latitud <= -34.60\n",
            "|   |--- neighbourhood_Puerto Madero <= 0.50\n",
            "|   |   |--- neighbourhood_Caballito <= 0.50\n",
            "|   |   |   |--- longitud <= -34.59\n",
            "|   |   |   |   |--- longitud <= -58.41\n",
            "|   |   |   |   |   |--- latitud <= -34.62\n",
            "|   |   |   |   |   |   |--- latitud <= -34.66\n",
            "|   |   |   |   |   |   |   |--- property_type_Departamento <= 0.50\n",
            "|   |   |   |   |   |   |   |   |--- property_surface_total <= 120.31\n",
            "|   |   |   |   |   |   |   |   |   |--- property_surface_total <= 63.50\n",
            "|   |   |   |   |   |   |   |   |   |   |--- property_surface_covered <= 58.50\n",
            "|   |   |   |   |   |   |   |   |   |   |   |--- truncated branch of depth 5\n",
            "|   |   |   |   |   |   |   |   |   |   |--- property_surface_covered >  58.50\n",
            "|   |   |   |   |   |   |   |   |   |   |   |--- class: bajo\n",
            "|   |   |   |   |   |   |   |   |   |--- property_surface_total >  63.50\n",
            "|   |   |   |   |   |   |   |   |   |   |--- property_surface_covered <= 61.50\n",
            "|   |   |   |   |   |   |   |   |   |   |   |--- truncated branch of depth 5\n",
            "|   |   |   |   |   |   |   |   |   |   |--- property_surface_covered >  61.50\n",
            "|   |   |   |   |   |   |   |   |   |   |   |--- truncated branch of depth 12\n",
            "|   |   |   |   |   |   |   |   |--- property_surface_total >  120.31\n",
            "|   |   |   |   |   |   |   |   |   |--- latitud <= -34.69\n",
            "|   |   |   |   |   |   |   |   |   |   |--- class: medio\n",
            "|   |   |   |   |   |   |   |   |   |--- latitud >  -34.69\n",
            "|   |   |   |   |   |   |   |   |   |   |--- longitud <= -58.51\n",
            "|   |   |   |   |   |   |   |   |   |   |   |--- truncated branch of depth 2\n",
            "|   |   |   |   |   |   |   |   |   |   |--- longitud >  -58.51\n",
            "|   |   |   |   |   |   |   |   |   |   |   |--- truncated branch of depth 11\n",
            "|   |   |   |   |   |   |   |--- property_type_Departamento >  0.50\n",
            "|   |   |   |   |   |   |   |   |--- property_surface_total <= 59.50\n",
            "|   |   |   |   |   |   |   |   |   |--- longitud <= -58.47\n",
            "|   |   |   |   |   |   |   |   |   |   |--- longitud <= -58.48\n",
            "|   |   |   |   |   |   |   |   |   |   |   |--- truncated branch of depth 7\n",
            "|   |   |   |   |   |   |   |   |   |   |--- longitud >  -58.48\n",
            "|   |   |   |   |   |   |   |   |   |   |   |--- truncated branch of depth 7\n",
            "|   |   |   |   |   |   |   |   |   |--- longitud >  -58.47\n",
            "|   |   |   |   |   |   |   |   |   |   |--- longitud <= -58.44\n",
            "|   |   |   |   |   |   |   |   |   |   |   |--- truncated branch of depth 4\n",
            "|   |   |   |   |   |   |   |   |   |   |--- longitud >  -58.44\n",
            "|   |   |   |   |   |   |   |   |   |   |   |--- truncated branch of depth 3\n",
            "|   |   |   |   |   |   |   |   |--- property_surface_total >  59.50\n",
            "|   |   |   |   |   |   |   |   |   |--- longitud <= -58.48\n",
            "|   |   |   |   |   |   |   |   |   |   |--- latitud <= -34.68\n",
            "|   |   |   |   |   |   |   |   |   |   |   |--- class: medio\n",
            "|   |   |   |   |   |   |   |   |   |   |--- latitud >  -34.68\n",
            "|   |   |   |   |   |   |   |   |   |   |   |--- truncated branch of depth 5\n",
            "|   |   |   |   |   |   |   |   |   |--- longitud >  -58.48\n",
            "|   |   |   |   |   |   |   |   |   |   |--- longitud <= -58.45\n",
            "|   |   |   |   |   |   |   |   |   |   |   |--- class: bajo\n",
            "|   |   |   |   |   |   |   |   |   |   |--- longitud >  -58.45\n",
            "|   |   |   |   |   |   |   |   |   |   |   |--- truncated branch of depth 2\n",
            "|   |   |   |   |   |   |--- latitud >  -34.66\n",
            "|   |   |   |   |   |   |   |--- property_type_Departamento <= 0.50\n",
            "|   |   |   |   |   |   |   |   |--- property_surface_total <= 101.50\n",
            "|   |   |   |   |   |   |   |   |   |--- property_surface_total <= 57.50\n",
            "|   |   |   |   |   |   |   |   |   |   |--- property_surface_total <= 39.50\n",
            "|   |   |   |   |   |   |   |   |   |   |   |--- truncated branch of depth 6\n",
            "|   |   |   |   |   |   |   |   |   |   |--- property_surface_total >  39.50\n",
            "|   |   |   |   |   |   |   |   |   |   |   |--- truncated branch of depth 16\n",
            "|   |   |   |   |   |   |   |   |   |--- property_surface_total >  57.50\n",
            "|   |   |   |   |   |   |   |   |   |   |--- property_surface_covered <= 53.50\n",
            "|   |   |   |   |   |   |   |   |   |   |   |--- truncated branch of depth 13\n",
            "|   |   |   |   |   |   |   |   |   |   |--- property_surface_covered >  53.50\n",
            "|   |   |   |   |   |   |   |   |   |   |   |--- truncated branch of depth 16\n",
            "|   |   |   |   |   |   |   |   |--- property_surface_total >  101.50\n",
            "|   |   |   |   |   |   |   |   |   |--- latitud <= -34.64\n",
            "|   |   |   |   |   |   |   |   |   |   |--- property_surface_covered <= 79.00\n",
            "|   |   |   |   |   |   |   |   |   |   |   |--- truncated branch of depth 5\n",
            "|   |   |   |   |   |   |   |   |   |   |--- property_surface_covered >  79.00\n",
            "|   |   |   |   |   |   |   |   |   |   |   |--- truncated branch of depth 14\n",
            "|   |   |   |   |   |   |   |   |   |--- latitud >  -34.64\n",
            "|   |   |   |   |   |   |   |   |   |   |--- property_surface_covered <= 81.00\n",
            "|   |   |   |   |   |   |   |   |   |   |   |--- truncated branch of depth 11\n",
            "|   |   |   |   |   |   |   |   |   |   |--- property_surface_covered >  81.00\n",
            "|   |   |   |   |   |   |   |   |   |   |   |--- truncated branch of depth 20\n",
            "|   |   |   |   |   |   |   |--- property_type_Departamento >  0.50\n",
            "|   |   |   |   |   |   |   |   |--- property_surface_total <= 63.36\n",
            "|   |   |   |   |   |   |   |   |   |--- longitud <= -58.46\n",
            "|   |   |   |   |   |   |   |   |   |   |--- longitud <= -58.49\n",
            "|   |   |   |   |   |   |   |   |   |   |   |--- truncated branch of depth 19\n",
            "|   |   |   |   |   |   |   |   |   |   |--- longitud >  -58.49\n",
            "|   |   |   |   |   |   |   |   |   |   |   |--- truncated branch of depth 27\n",
            "|   |   |   |   |   |   |   |   |   |--- longitud >  -58.46\n",
            "|   |   |   |   |   |   |   |   |   |   |--- latitud <= -34.64\n",
            "|   |   |   |   |   |   |   |   |   |   |   |--- truncated branch of depth 11\n",
            "|   |   |   |   |   |   |   |   |   |   |--- latitud >  -34.64\n",
            "|   |   |   |   |   |   |   |   |   |   |   |--- truncated branch of depth 21\n",
            "|   |   |   |   |   |   |   |   |--- property_surface_total >  63.36\n",
            "|   |   |   |   |   |   |   |   |   |--- property_surface_covered <= 54.50\n",
            "|   |   |   |   |   |   |   |   |   |   |--- neighbourhood_Mataderos <= 0.50\n",
            "|   |   |   |   |   |   |   |   |   |   |   |--- truncated branch of depth 11\n",
            "|   |   |   |   |   |   |   |   |   |   |--- neighbourhood_Mataderos >  0.50\n",
            "|   |   |   |   |   |   |   |   |   |   |   |--- truncated branch of depth 3\n",
            "|   |   |   |   |   |   |   |   |   |--- property_surface_covered >  54.50\n",
            "|   |   |   |   |   |   |   |   |   |   |--- longitud <= -58.50\n",
            "|   |   |   |   |   |   |   |   |   |   |   |--- truncated branch of depth 14\n",
            "|   |   |   |   |   |   |   |   |   |   |--- longitud >  -58.50\n",
            "|   |   |   |   |   |   |   |   |   |   |   |--- truncated branch of depth 22\n",
            "|   |   |   |   |   |--- latitud >  -34.62\n",
            "|   |   |   |   |   |   |--- property_surface_total <= 61.07\n",
            "|   |   |   |   |   |   |   |--- property_type_PH <= 0.50\n",
            "|   |   |   |   |   |   |   |   |--- longitud <= -58.42\n",
            "|   |   |   |   |   |   |   |   |   |--- property_surface_total <= 38.50\n",
            "|   |   |   |   |   |   |   |   |   |   |--- longitud <= -58.46\n",
            "|   |   |   |   |   |   |   |   |   |   |   |--- truncated branch of depth 16\n",
            "|   |   |   |   |   |   |   |   |   |   |--- longitud >  -58.46\n",
            "|   |   |   |   |   |   |   |   |   |   |   |--- truncated branch of depth 20\n",
            "|   |   |   |   |   |   |   |   |   |--- property_surface_total >  38.50\n",
            "|   |   |   |   |   |   |   |   |   |   |--- property_surface_covered <= 32.50\n",
            "|   |   |   |   |   |   |   |   |   |   |   |--- truncated branch of depth 8\n",
            "|   |   |   |   |   |   |   |   |   |   |--- property_surface_covered >  32.50\n",
            "|   |   |   |   |   |   |   |   |   |   |   |--- truncated branch of depth 34\n",
            "|   |   |   |   |   |   |   |   |--- longitud >  -58.42\n",
            "|   |   |   |   |   |   |   |   |   |--- latitud <= -34.60\n",
            "|   |   |   |   |   |   |   |   |   |   |--- latitud <= -34.60\n",
            "|   |   |   |   |   |   |   |   |   |   |   |--- truncated branch of depth 15\n",
            "|   |   |   |   |   |   |   |   |   |   |--- latitud >  -34.60\n",
            "|   |   |   |   |   |   |   |   |   |   |   |--- truncated branch of depth 4\n",
            "|   |   |   |   |   |   |   |   |   |--- latitud >  -34.60\n",
            "|   |   |   |   |   |   |   |   |   |   |--- latitud <= -34.60\n",
            "|   |   |   |   |   |   |   |   |   |   |   |--- truncated branch of depth 2\n",
            "|   |   |   |   |   |   |   |   |   |   |--- latitud >  -34.60\n",
            "|   |   |   |   |   |   |   |   |   |   |   |--- truncated branch of depth 12\n",
            "|   |   |   |   |   |   |   |--- property_type_PH >  0.50\n",
            "|   |   |   |   |   |   |   |   |--- longitud <= -58.51\n",
            "|   |   |   |   |   |   |   |   |   |--- property_surface_covered <= 46.50\n",
            "|   |   |   |   |   |   |   |   |   |   |--- latitud <= -34.60\n",
            "|   |   |   |   |   |   |   |   |   |   |   |--- truncated branch of depth 4\n",
            "|   |   |   |   |   |   |   |   |   |   |--- latitud >  -34.60\n",
            "|   |   |   |   |   |   |   |   |   |   |   |--- class: medio\n",
            "|   |   |   |   |   |   |   |   |   |--- property_surface_covered >  46.50\n",
            "|   |   |   |   |   |   |   |   |   |   |--- longitud <= -58.51\n",
            "|   |   |   |   |   |   |   |   |   |   |   |--- truncated branch of depth 3\n",
            "|   |   |   |   |   |   |   |   |   |   |--- longitud >  -58.51\n",
            "|   |   |   |   |   |   |   |   |   |   |   |--- truncated branch of depth 2\n",
            "|   |   |   |   |   |   |   |   |--- longitud >  -58.51\n",
            "|   |   |   |   |   |   |   |   |   |--- neighbourhood_Floresta <= 0.50\n",
            "|   |   |   |   |   |   |   |   |   |   |--- latitud <= -34.62\n",
            "|   |   |   |   |   |   |   |   |   |   |   |--- class: medio\n",
            "|   |   |   |   |   |   |   |   |   |   |--- latitud >  -34.62\n",
            "|   |   |   |   |   |   |   |   |   |   |   |--- truncated branch of depth 14\n",
            "|   |   |   |   |   |   |   |   |   |--- neighbourhood_Floresta >  0.50\n",
            "|   |   |   |   |   |   |   |   |   |   |--- property_surface_covered <= 30.00\n",
            "|   |   |   |   |   |   |   |   |   |   |   |--- class: bajo\n",
            "|   |   |   |   |   |   |   |   |   |   |--- property_surface_covered >  30.00\n",
            "|   |   |   |   |   |   |   |   |   |   |   |--- truncated branch of depth 2\n",
            "|   |   |   |   |   |   |--- property_surface_total >  61.07\n",
            "|   |   |   |   |   |   |   |--- property_surface_covered <= 40.50\n",
            "|   |   |   |   |   |   |   |   |--- property_type_Departamento <= 0.50\n",
            "|   |   |   |   |   |   |   |   |   |--- property_surface_total <= 65.72\n",
            "|   |   |   |   |   |   |   |   |   |   |--- class: bajo\n",
            "|   |   |   |   |   |   |   |   |   |--- property_surface_total >  65.72\n",
            "|   |   |   |   |   |   |   |   |   |   |--- neighbourhood_Villa Devoto <= 0.50\n",
            "|   |   |   |   |   |   |   |   |   |   |   |--- class: medio\n",
            "|   |   |   |   |   |   |   |   |   |   |--- neighbourhood_Villa Devoto >  0.50\n",
            "|   |   |   |   |   |   |   |   |   |   |   |--- truncated branch of depth 3\n",
            "|   |   |   |   |   |   |   |   |--- property_type_Departamento >  0.50\n",
            "|   |   |   |   |   |   |   |   |   |--- neighbourhood_Villa Devoto <= 0.50\n",
            "|   |   |   |   |   |   |   |   |   |   |--- property_surface_covered <= 36.50\n",
            "|   |   |   |   |   |   |   |   |   |   |   |--- class: bajo\n",
            "|   |   |   |   |   |   |   |   |   |   |--- property_surface_covered >  36.50\n",
            "|   |   |   |   |   |   |   |   |   |   |   |--- truncated branch of depth 6\n",
            "|   |   |   |   |   |   |   |   |   |--- neighbourhood_Villa Devoto >  0.50\n",
            "|   |   |   |   |   |   |   |   |   |   |--- property_surface_total <= 70.95\n",
            "|   |   |   |   |   |   |   |   |   |   |   |--- class: bajo\n",
            "|   |   |   |   |   |   |   |   |   |   |--- property_surface_total >  70.95\n",
            "|   |   |   |   |   |   |   |   |   |   |   |--- class: medio\n",
            "|   |   |   |   |   |   |   |--- property_surface_covered >  40.50\n",
            "|   |   |   |   |   |   |   |   |--- neighbourhood_Villa Devoto <= 0.50\n",
            "|   |   |   |   |   |   |   |   |   |--- property_surface_total <= 73.10\n",
            "|   |   |   |   |   |   |   |   |   |   |--- longitud <= -58.41\n",
            "|   |   |   |   |   |   |   |   |   |   |   |--- truncated branch of depth 28\n",
            "|   |   |   |   |   |   |   |   |   |   |--- longitud >  -58.41\n",
            "|   |   |   |   |   |   |   |   |   |   |   |--- truncated branch of depth 4\n",
            "|   |   |   |   |   |   |   |   |   |--- property_surface_total >  73.10\n",
            "|   |   |   |   |   |   |   |   |   |   |--- property_surface_covered <= 59.50\n",
            "|   |   |   |   |   |   |   |   |   |   |   |--- truncated branch of depth 13\n",
            "|   |   |   |   |   |   |   |   |   |   |--- property_surface_covered >  59.50\n",
            "|   |   |   |   |   |   |   |   |   |   |   |--- truncated branch of depth 23\n",
            "|   |   |   |   |   |   |   |   |--- neighbourhood_Villa Devoto >  0.50\n",
            "|   |   |   |   |   |   |   |   |   |--- latitud <= -34.61\n",
            "|   |   |   |   |   |   |   |   |   |   |--- longitud <= -58.50\n",
            "|   |   |   |   |   |   |   |   |   |   |   |--- truncated branch of depth 12\n",
            "|   |   |   |   |   |   |   |   |   |   |--- longitud >  -58.50\n",
            "|   |   |   |   |   |   |   |   |   |   |   |--- truncated branch of depth 7\n",
            "|   |   |   |   |   |   |   |   |   |--- latitud >  -34.61\n",
            "|   |   |   |   |   |   |   |   |   |   |--- property_surface_total <= 89.50\n",
            "|   |   |   |   |   |   |   |   |   |   |   |--- truncated branch of depth 10\n",
            "|   |   |   |   |   |   |   |   |   |   |--- property_surface_total >  89.50\n",
            "|   |   |   |   |   |   |   |   |   |   |   |--- truncated branch of depth 11\n",
            "|   |   |   |   |--- longitud >  -58.41\n",
            "|   |   |   |   |   |--- property_surface_total <= 50.50\n",
            "|   |   |   |   |   |   |--- latitud <= -34.60\n",
            "|   |   |   |   |   |   |   |--- longitud <= -58.38\n",
            "|   |   |   |   |   |   |   |   |--- property_type_Departamento <= 0.50\n",
            "|   |   |   |   |   |   |   |   |   |--- longitud <= -58.38\n",
            "|   |   |   |   |   |   |   |   |   |   |--- property_surface_covered <= 36.50\n",
            "|   |   |   |   |   |   |   |   |   |   |   |--- truncated branch of depth 6\n",
            "|   |   |   |   |   |   |   |   |   |   |--- property_surface_covered >  36.50\n",
            "|   |   |   |   |   |   |   |   |   |   |   |--- truncated branch of depth 7\n",
            "|   |   |   |   |   |   |   |   |   |--- longitud >  -58.38\n",
            "|   |   |   |   |   |   |   |   |   |   |--- class: alto\n",
            "|   |   |   |   |   |   |   |   |--- property_type_Departamento >  0.50\n",
            "|   |   |   |   |   |   |   |   |   |--- property_rooms <= 1.50\n",
            "|   |   |   |   |   |   |   |   |   |   |--- neighbourhood_Barracas <= 0.50\n",
            "|   |   |   |   |   |   |   |   |   |   |   |--- truncated branch of depth 22\n",
            "|   |   |   |   |   |   |   |   |   |   |--- neighbourhood_Barracas >  0.50\n",
            "|   |   |   |   |   |   |   |   |   |   |   |--- truncated branch of depth 3\n",
            "|   |   |   |   |   |   |   |   |   |--- property_rooms >  1.50\n",
            "|   |   |   |   |   |   |   |   |   |   |--- neighbourhood_Parque Patricios <= 0.50\n",
            "|   |   |   |   |   |   |   |   |   |   |   |--- truncated branch of depth 20\n",
            "|   |   |   |   |   |   |   |   |   |   |--- neighbourhood_Parque Patricios >  0.50\n",
            "|   |   |   |   |   |   |   |   |   |   |   |--- truncated branch of depth 7\n",
            "|   |   |   |   |   |   |   |--- longitud >  -58.38\n",
            "|   |   |   |   |   |   |   |   |--- neighbourhood_Boca <= 0.50\n",
            "|   |   |   |   |   |   |   |   |   |--- latitud <= -34.63\n",
            "|   |   |   |   |   |   |   |   |   |   |--- neighbourhood_San Telmo <= 0.50\n",
            "|   |   |   |   |   |   |   |   |   |   |   |--- truncated branch of depth 17\n",
            "|   |   |   |   |   |   |   |   |   |   |--- neighbourhood_San Telmo >  0.50\n",
            "|   |   |   |   |   |   |   |   |   |   |   |--- truncated branch of depth 7\n",
            "|   |   |   |   |   |   |   |   |   |--- latitud >  -34.63\n",
            "|   |   |   |   |   |   |   |   |   |   |--- property_rooms <= 1.50\n",
            "|   |   |   |   |   |   |   |   |   |   |   |--- truncated branch of depth 13\n",
            "|   |   |   |   |   |   |   |   |   |   |--- property_rooms >  1.50\n",
            "|   |   |   |   |   |   |   |   |   |   |   |--- truncated branch of depth 12\n",
            "|   |   |   |   |   |   |   |   |--- neighbourhood_Boca >  0.50\n",
            "|   |   |   |   |   |   |   |   |   |--- property_surface_total <= 30.50\n",
            "|   |   |   |   |   |   |   |   |   |   |--- property_type_Departamento <= 0.50\n",
            "|   |   |   |   |   |   |   |   |   |   |   |--- class: alto\n",
            "|   |   |   |   |   |   |   |   |   |   |--- property_type_Departamento >  0.50\n",
            "|   |   |   |   |   |   |   |   |   |   |   |--- truncated branch of depth 4\n",
            "|   |   |   |   |   |   |   |   |   |--- property_surface_total >  30.50\n",
            "|   |   |   |   |   |   |   |   |   |   |--- property_surface_total <= 49.50\n",
            "|   |   |   |   |   |   |   |   |   |   |   |--- truncated branch of depth 7\n",
            "|   |   |   |   |   |   |   |   |   |   |--- property_surface_total >  49.50\n",
            "|   |   |   |   |   |   |   |   |   |   |   |--- truncated branch of depth 2\n",
            "|   |   |   |   |   |   |--- latitud >  -34.60\n",
            "|   |   |   |   |   |   |   |--- longitud <= -58.40\n",
            "|   |   |   |   |   |   |   |   |--- property_surface_total <= 37.50\n",
            "|   |   |   |   |   |   |   |   |   |--- neighbourhood_Recoleta <= 0.50\n",
            "|   |   |   |   |   |   |   |   |   |   |--- property_surface_total <= 24.50\n",
            "|   |   |   |   |   |   |   |   |   |   |   |--- truncated branch of depth 3\n",
            "|   |   |   |   |   |   |   |   |   |   |--- property_surface_total >  24.50\n",
            "|   |   |   |   |   |   |   |   |   |   |   |--- truncated branch of depth 8\n",
            "|   |   |   |   |   |   |   |   |   |--- neighbourhood_Recoleta >  0.50\n",
            "|   |   |   |   |   |   |   |   |   |   |--- property_surface_total <= 34.50\n",
            "|   |   |   |   |   |   |   |   |   |   |   |--- class: bajo\n",
            "|   |   |   |   |   |   |   |   |   |   |--- property_surface_total >  34.50\n",
            "|   |   |   |   |   |   |   |   |   |   |   |--- class: alto\n",
            "|   |   |   |   |   |   |   |   |--- property_surface_total >  37.50\n",
            "|   |   |   |   |   |   |   |   |   |--- property_bedrooms <= 1.50\n",
            "|   |   |   |   |   |   |   |   |   |   |--- neighbourhood_Once <= 0.50\n",
            "|   |   |   |   |   |   |   |   |   |   |   |--- truncated branch of depth 16\n",
            "|   |   |   |   |   |   |   |   |   |   |--- neighbourhood_Once >  0.50\n",
            "|   |   |   |   |   |   |   |   |   |   |   |--- truncated branch of depth 2\n",
            "|   |   |   |   |   |   |   |   |   |--- property_bedrooms >  1.50\n",
            "|   |   |   |   |   |   |   |   |   |   |--- class: medio\n",
            "|   |   |   |   |   |   |   |--- longitud >  -58.40\n",
            "|   |   |   |   |   |   |   |   |--- longitud <= -58.39\n",
            "|   |   |   |   |   |   |   |   |   |--- latitud <= -34.60\n",
            "|   |   |   |   |   |   |   |   |   |   |--- latitud <= -34.60\n",
            "|   |   |   |   |   |   |   |   |   |   |   |--- truncated branch of depth 12\n",
            "|   |   |   |   |   |   |   |   |   |   |--- latitud >  -34.60\n",
            "|   |   |   |   |   |   |   |   |   |   |   |--- truncated branch of depth 5\n",
            "|   |   |   |   |   |   |   |   |   |--- latitud >  -34.60\n",
            "|   |   |   |   |   |   |   |   |   |   |--- latitud <= -34.60\n",
            "|   |   |   |   |   |   |   |   |   |   |   |--- truncated branch of depth 11\n",
            "|   |   |   |   |   |   |   |   |   |   |--- latitud >  -34.60\n",
            "|   |   |   |   |   |   |   |   |   |   |   |--- truncated branch of depth 8\n",
            "|   |   |   |   |   |   |   |   |--- longitud >  -58.39\n",
            "|   |   |   |   |   |   |   |   |   |--- longitud <= -58.39\n",
            "|   |   |   |   |   |   |   |   |   |   |--- latitud <= -34.60\n",
            "|   |   |   |   |   |   |   |   |   |   |   |--- truncated branch of depth 9\n",
            "|   |   |   |   |   |   |   |   |   |   |--- latitud >  -34.60\n",
            "|   |   |   |   |   |   |   |   |   |   |   |--- truncated branch of depth 4\n",
            "|   |   |   |   |   |   |   |   |   |--- longitud >  -58.39\n",
            "|   |   |   |   |   |   |   |   |   |   |--- property_surface_total <= 34.50\n",
            "|   |   |   |   |   |   |   |   |   |   |   |--- truncated branch of depth 18\n",
            "|   |   |   |   |   |   |   |   |   |   |--- property_surface_total >  34.50\n",
            "|   |   |   |   |   |   |   |   |   |   |   |--- truncated branch of depth 15\n",
            "|   |   |   |   |   |--- property_surface_total >  50.50\n",
            "|   |   |   |   |   |   |--- longitud <= -58.38\n",
            "|   |   |   |   |   |   |   |--- latitud <= -34.60\n",
            "|   |   |   |   |   |   |   |   |--- property_type_Departamento <= 0.50\n",
            "|   |   |   |   |   |   |   |   |   |--- property_surface_total <= 95.50\n",
            "|   |   |   |   |   |   |   |   |   |   |--- latitud <= -34.62\n",
            "|   |   |   |   |   |   |   |   |   |   |   |--- truncated branch of depth 12\n",
            "|   |   |   |   |   |   |   |   |   |   |--- latitud >  -34.62\n",
            "|   |   |   |   |   |   |   |   |   |   |   |--- truncated branch of depth 9\n",
            "|   |   |   |   |   |   |   |   |   |--- property_surface_total >  95.50\n",
            "|   |   |   |   |   |   |   |   |   |   |--- neighbourhood_Boedo <= 0.50\n",
            "|   |   |   |   |   |   |   |   |   |   |   |--- truncated branch of depth 15\n",
            "|   |   |   |   |   |   |   |   |   |   |--- neighbourhood_Boedo >  0.50\n",
            "|   |   |   |   |   |   |   |   |   |   |   |--- class: medio\n",
            "|   |   |   |   |   |   |   |   |--- property_type_Departamento >  0.50\n",
            "|   |   |   |   |   |   |   |   |   |--- property_surface_total <= 89.29\n",
            "|   |   |   |   |   |   |   |   |   |   |--- property_surface_covered <= 44.50\n",
            "|   |   |   |   |   |   |   |   |   |   |   |--- truncated branch of depth 8\n",
            "|   |   |   |   |   |   |   |   |   |   |--- property_surface_covered >  44.50\n",
            "|   |   |   |   |   |   |   |   |   |   |   |--- truncated branch of depth 20\n",
            "|   |   |   |   |   |   |   |   |   |--- property_surface_total >  89.29\n",
            "|   |   |   |   |   |   |   |   |   |   |--- latitud <= -34.60\n",
            "|   |   |   |   |   |   |   |   |   |   |   |--- truncated branch of depth 17\n",
            "|   |   |   |   |   |   |   |   |   |   |--- latitud >  -34.60\n",
            "|   |   |   |   |   |   |   |   |   |   |   |--- truncated branch of depth 11\n",
            "|   |   |   |   |   |   |   |--- latitud >  -34.60\n",
            "|   |   |   |   |   |   |   |   |--- property_surface_covered <= 50.07\n",
            "|   |   |   |   |   |   |   |   |   |--- property_surface_total <= 52.50\n",
            "|   |   |   |   |   |   |   |   |   |   |--- latitud <= -34.60\n",
            "|   |   |   |   |   |   |   |   |   |   |   |--- class: medio\n",
            "|   |   |   |   |   |   |   |   |   |   |--- latitud >  -34.60\n",
            "|   |   |   |   |   |   |   |   |   |   |   |--- truncated branch of depth 3\n",
            "|   |   |   |   |   |   |   |   |   |--- property_surface_total >  52.50\n",
            "|   |   |   |   |   |   |   |   |   |   |--- property_bedrooms <= 1.50\n",
            "|   |   |   |   |   |   |   |   |   |   |   |--- truncated branch of depth 4\n",
            "|   |   |   |   |   |   |   |   |   |   |--- property_bedrooms >  1.50\n",
            "|   |   |   |   |   |   |   |   |   |   |   |--- truncated branch of depth 5\n",
            "|   |   |   |   |   |   |   |   |--- property_surface_covered >  50.07\n",
            "|   |   |   |   |   |   |   |   |   |--- latitud <= -34.60\n",
            "|   |   |   |   |   |   |   |   |   |   |--- neighbourhood_Barrio Norte <= 0.50\n",
            "|   |   |   |   |   |   |   |   |   |   |   |--- truncated branch of depth 18\n",
            "|   |   |   |   |   |   |   |   |   |   |--- neighbourhood_Barrio Norte >  0.50\n",
            "|   |   |   |   |   |   |   |   |   |   |   |--- truncated branch of depth 12\n",
            "|   |   |   |   |   |   |   |   |   |--- latitud >  -34.60\n",
            "|   |   |   |   |   |   |   |   |   |   |--- longitud <= -58.38\n",
            "|   |   |   |   |   |   |   |   |   |   |   |--- truncated branch of depth 8\n",
            "|   |   |   |   |   |   |   |   |   |   |--- longitud >  -58.38\n",
            "|   |   |   |   |   |   |   |   |   |   |   |--- class: bajo\n",
            "|   |   |   |   |   |   |--- longitud >  -58.38\n",
            "|   |   |   |   |   |   |   |--- neighbourhood_Boca <= 0.50\n",
            "|   |   |   |   |   |   |   |   |--- latitud <= -34.62\n",
            "|   |   |   |   |   |   |   |   |   |--- neighbourhood_Balvanera <= 0.50\n",
            "|   |   |   |   |   |   |   |   |   |   |--- property_surface_covered <= 37.50\n",
            "|   |   |   |   |   |   |   |   |   |   |   |--- truncated branch of depth 3\n",
            "|   |   |   |   |   |   |   |   |   |   |--- property_surface_covered >  37.50\n",
            "|   |   |   |   |   |   |   |   |   |   |   |--- truncated branch of depth 30\n",
            "|   |   |   |   |   |   |   |   |   |--- neighbourhood_Balvanera >  0.50\n",
            "|   |   |   |   |   |   |   |   |   |   |--- property_surface_total <= 87.50\n",
            "|   |   |   |   |   |   |   |   |   |   |   |--- truncated branch of depth 9\n",
            "|   |   |   |   |   |   |   |   |   |   |--- property_surface_total >  87.50\n",
            "|   |   |   |   |   |   |   |   |   |   |   |--- class: bajo\n",
            "|   |   |   |   |   |   |   |   |--- latitud >  -34.62\n",
            "|   |   |   |   |   |   |   |   |   |--- property_type_PH <= 0.50\n",
            "|   |   |   |   |   |   |   |   |   |   |--- property_surface_total <= 66.15\n",
            "|   |   |   |   |   |   |   |   |   |   |   |--- truncated branch of depth 14\n",
            "|   |   |   |   |   |   |   |   |   |   |--- property_surface_total >  66.15\n",
            "|   |   |   |   |   |   |   |   |   |   |   |--- truncated branch of depth 20\n",
            "|   |   |   |   |   |   |   |   |   |--- property_type_PH >  0.50\n",
            "|   |   |   |   |   |   |   |   |   |   |--- latitud <= -34.62\n",
            "|   |   |   |   |   |   |   |   |   |   |   |--- truncated branch of depth 8\n",
            "|   |   |   |   |   |   |   |   |   |   |--- latitud >  -34.62\n",
            "|   |   |   |   |   |   |   |   |   |   |   |--- truncated branch of depth 6\n",
            "|   |   |   |   |   |   |   |--- neighbourhood_Boca >  0.50\n",
            "|   |   |   |   |   |   |   |   |--- longitud <= -58.37\n",
            "|   |   |   |   |   |   |   |   |   |--- latitud <= -34.63\n",
            "|   |   |   |   |   |   |   |   |   |   |--- property_surface_total <= 69.50\n",
            "|   |   |   |   |   |   |   |   |   |   |   |--- truncated branch of depth 2\n",
            "|   |   |   |   |   |   |   |   |   |   |--- property_surface_total >  69.50\n",
            "|   |   |   |   |   |   |   |   |   |   |   |--- class: medio\n",
            "|   |   |   |   |   |   |   |   |   |--- latitud >  -34.63\n",
            "|   |   |   |   |   |   |   |   |   |   |--- class: bajo\n",
            "|   |   |   |   |   |   |   |   |--- longitud >  -58.37\n",
            "|   |   |   |   |   |   |   |   |   |--- longitud <= -58.36\n",
            "|   |   |   |   |   |   |   |   |   |   |--- latitud <= -34.63\n",
            "|   |   |   |   |   |   |   |   |   |   |   |--- truncated branch of depth 11\n",
            "|   |   |   |   |   |   |   |   |   |   |--- latitud >  -34.63\n",
            "|   |   |   |   |   |   |   |   |   |   |   |--- truncated branch of depth 2\n",
            "|   |   |   |   |   |   |   |   |   |--- longitud >  -58.36\n",
            "|   |   |   |   |   |   |   |   |   |   |--- property_rooms <= 2.50\n",
            "|   |   |   |   |   |   |   |   |   |   |   |--- class: bajo\n",
            "|   |   |   |   |   |   |   |   |   |   |--- property_rooms >  2.50\n",
            "|   |   |   |   |   |   |   |   |   |   |   |--- class: medio\n",
            "|   |   |   |--- longitud >  -34.59\n",
            "|   |   |   |   |--- latitud <= -58.47\n",
            "|   |   |   |   |   |--- property_surface_covered <= 114.50\n",
            "|   |   |   |   |   |   |--- property_surface_total <= 57.34\n",
            "|   |   |   |   |   |   |   |--- property_type_Departamento <= 0.50\n",
            "|   |   |   |   |   |   |   |   |--- class: alto\n",
            "|   |   |   |   |   |   |   |--- property_type_Departamento >  0.50\n",
            "|   |   |   |   |   |   |   |   |--- neighbourhood_Villa Pueyrredón <= 0.50\n",
            "|   |   |   |   |   |   |   |   |   |--- property_surface_total <= 45.50\n",
            "|   |   |   |   |   |   |   |   |   |   |--- property_surface_covered <= 34.00\n",
            "|   |   |   |   |   |   |   |   |   |   |   |--- class: medio\n",
            "|   |   |   |   |   |   |   |   |   |   |--- property_surface_covered >  34.00\n",
            "|   |   |   |   |   |   |   |   |   |   |   |--- truncated branch of depth 7\n",
            "|   |   |   |   |   |   |   |   |   |--- property_surface_total >  45.50\n",
            "|   |   |   |   |   |   |   |   |   |   |--- property_surface_total <= 46.50\n",
            "|   |   |   |   |   |   |   |   |   |   |   |--- class: medio\n",
            "|   |   |   |   |   |   |   |   |   |   |--- property_surface_total >  46.50\n",
            "|   |   |   |   |   |   |   |   |   |   |   |--- class: medio\n",
            "|   |   |   |   |   |   |   |   |--- neighbourhood_Villa Pueyrredón >  0.50\n",
            "|   |   |   |   |   |   |   |   |   |--- class: bajo\n",
            "|   |   |   |   |   |   |--- property_surface_total >  57.34\n",
            "|   |   |   |   |   |   |   |--- property_surface_covered <= 47.50\n",
            "|   |   |   |   |   |   |   |   |--- property_surface_total <= 69.32\n",
            "|   |   |   |   |   |   |   |   |   |--- property_surface_covered <= 37.50\n",
            "|   |   |   |   |   |   |   |   |   |   |--- class: bajo\n",
            "|   |   |   |   |   |   |   |   |   |--- property_surface_covered >  37.50\n",
            "|   |   |   |   |   |   |   |   |   |   |--- property_rooms <= 2.50\n",
            "|   |   |   |   |   |   |   |   |   |   |   |--- class: medio\n",
            "|   |   |   |   |   |   |   |   |   |   |--- property_rooms >  2.50\n",
            "|   |   |   |   |   |   |   |   |   |   |   |--- class: bajo\n",
            "|   |   |   |   |   |   |   |   |--- property_surface_total >  69.32\n",
            "|   |   |   |   |   |   |   |   |   |--- class: bajo\n",
            "|   |   |   |   |   |   |   |--- property_surface_covered >  47.50\n",
            "|   |   |   |   |   |   |   |   |--- property_surface_total <= 81.84\n",
            "|   |   |   |   |   |   |   |   |   |--- property_bedrooms <= 1.50\n",
            "|   |   |   |   |   |   |   |   |   |   |--- class: medio\n",
            "|   |   |   |   |   |   |   |   |   |--- property_bedrooms >  1.50\n",
            "|   |   |   |   |   |   |   |   |   |   |--- property_surface_total <= 64.00\n",
            "|   |   |   |   |   |   |   |   |   |   |   |--- truncated branch of depth 2\n",
            "|   |   |   |   |   |   |   |   |   |   |--- property_surface_total >  64.00\n",
            "|   |   |   |   |   |   |   |   |   |   |   |--- truncated branch of depth 8\n",
            "|   |   |   |   |   |   |   |   |--- property_surface_total >  81.84\n",
            "|   |   |   |   |   |   |   |   |   |--- property_surface_total <= 103.19\n",
            "|   |   |   |   |   |   |   |   |   |   |--- property_surface_total <= 102.00\n",
            "|   |   |   |   |   |   |   |   |   |   |   |--- truncated branch of depth 10\n",
            "|   |   |   |   |   |   |   |   |   |   |--- property_surface_total >  102.00\n",
            "|   |   |   |   |   |   |   |   |   |   |   |--- class: bajo\n",
            "|   |   |   |   |   |   |   |   |   |--- property_surface_total >  103.19\n",
            "|   |   |   |   |   |   |   |   |   |   |--- property_surface_total <= 131.40\n",
            "|   |   |   |   |   |   |   |   |   |   |   |--- truncated branch of depth 7\n",
            "|   |   |   |   |   |   |   |   |   |   |--- property_surface_total >  131.40\n",
            "|   |   |   |   |   |   |   |   |   |   |   |--- truncated branch of depth 2\n",
            "|   |   |   |   |   |--- property_surface_covered >  114.50\n",
            "|   |   |   |   |   |   |--- property_bedrooms <= 3.50\n",
            "|   |   |   |   |   |   |   |--- class: medio\n",
            "|   |   |   |   |   |   |--- property_bedrooms >  3.50\n",
            "|   |   |   |   |   |   |   |--- class: alto\n",
            "|   |   |   |   |--- latitud >  -58.47\n",
            "|   |   |   |   |   |--- property_surface_covered <= 95.50\n",
            "|   |   |   |   |   |   |--- latitud <= -58.46\n",
            "|   |   |   |   |   |   |   |--- property_rooms <= 2.50\n",
            "|   |   |   |   |   |   |   |   |--- property_surface_total <= 63.00\n",
            "|   |   |   |   |   |   |   |   |   |--- property_surface_total <= 30.00\n",
            "|   |   |   |   |   |   |   |   |   |   |--- class: medio\n",
            "|   |   |   |   |   |   |   |   |   |--- property_surface_total >  30.00\n",
            "|   |   |   |   |   |   |   |   |   |   |--- property_surface_total <= 40.50\n",
            "|   |   |   |   |   |   |   |   |   |   |   |--- truncated branch of depth 6\n",
            "|   |   |   |   |   |   |   |   |   |   |--- property_surface_total >  40.50\n",
            "|   |   |   |   |   |   |   |   |   |   |   |--- truncated branch of depth 9\n",
            "|   |   |   |   |   |   |   |   |--- property_surface_total >  63.00\n",
            "|   |   |   |   |   |   |   |   |   |--- property_surface_covered <= 71.50\n",
            "|   |   |   |   |   |   |   |   |   |   |--- property_surface_covered <= 40.50\n",
            "|   |   |   |   |   |   |   |   |   |   |   |--- class: bajo\n",
            "|   |   |   |   |   |   |   |   |   |   |--- property_surface_covered >  40.50\n",
            "|   |   |   |   |   |   |   |   |   |   |   |--- class: medio\n",
            "|   |   |   |   |   |   |   |   |   |--- property_surface_covered >  71.50\n",
            "|   |   |   |   |   |   |   |   |   |   |--- class: alto\n",
            "|   |   |   |   |   |   |   |--- property_rooms >  2.50\n",
            "|   |   |   |   |   |   |   |   |--- property_surface_covered <= 52.56\n",
            "|   |   |   |   |   |   |   |   |   |--- class: medio\n",
            "|   |   |   |   |   |   |   |   |--- property_surface_covered >  52.56\n",
            "|   |   |   |   |   |   |   |   |   |--- property_type_Departamento <= 0.50\n",
            "|   |   |   |   |   |   |   |   |   |   |--- class: alto\n",
            "|   |   |   |   |   |   |   |   |   |--- property_type_Departamento >  0.50\n",
            "|   |   |   |   |   |   |   |   |   |   |--- property_surface_total <= 112.50\n",
            "|   |   |   |   |   |   |   |   |   |   |   |--- truncated branch of depth 12\n",
            "|   |   |   |   |   |   |   |   |   |   |--- property_surface_total >  112.50\n",
            "|   |   |   |   |   |   |   |   |   |   |   |--- truncated branch of depth 2\n",
            "|   |   |   |   |   |   |--- latitud >  -58.46\n",
            "|   |   |   |   |   |   |   |--- property_surface_total <= 26.50\n",
            "|   |   |   |   |   |   |   |   |--- property_surface_covered <= 23.50\n",
            "|   |   |   |   |   |   |   |   |   |--- longitud <= -34.58\n",
            "|   |   |   |   |   |   |   |   |   |   |--- class: medio\n",
            "|   |   |   |   |   |   |   |   |   |--- longitud >  -34.58\n",
            "|   |   |   |   |   |   |   |   |   |   |--- class: alto\n",
            "|   |   |   |   |   |   |   |   |--- property_surface_covered >  23.50\n",
            "|   |   |   |   |   |   |   |   |   |--- longitud <= -34.58\n",
            "|   |   |   |   |   |   |   |   |   |   |--- property_surface_covered <= 24.50\n",
            "|   |   |   |   |   |   |   |   |   |   |   |--- class: medio\n",
            "|   |   |   |   |   |   |   |   |   |   |--- property_surface_covered >  24.50\n",
            "|   |   |   |   |   |   |   |   |   |   |   |--- class: alto\n",
            "|   |   |   |   |   |   |   |   |   |--- longitud >  -34.58\n",
            "|   |   |   |   |   |   |   |   |   |   |--- class: medio\n",
            "|   |   |   |   |   |   |   |--- property_surface_total >  26.50\n",
            "|   |   |   |   |   |   |   |   |--- property_surface_total <= 100.40\n",
            "|   |   |   |   |   |   |   |   |   |--- property_surface_total <= 95.50\n",
            "|   |   |   |   |   |   |   |   |   |   |--- property_surface_total <= 41.50\n",
            "|   |   |   |   |   |   |   |   |   |   |   |--- truncated branch of depth 17\n",
            "|   |   |   |   |   |   |   |   |   |   |--- property_surface_total >  41.50\n",
            "|   |   |   |   |   |   |   |   |   |   |   |--- truncated branch of depth 23\n",
            "|   |   |   |   |   |   |   |   |   |--- property_surface_total >  95.50\n",
            "|   |   |   |   |   |   |   |   |   |   |--- property_surface_covered <= 90.50\n",
            "|   |   |   |   |   |   |   |   |   |   |   |--- truncated branch of depth 3\n",
            "|   |   |   |   |   |   |   |   |   |   |--- property_surface_covered >  90.50\n",
            "|   |   |   |   |   |   |   |   |   |   |   |--- truncated branch of depth 4\n",
            "|   |   |   |   |   |   |   |   |--- property_surface_total >  100.40\n",
            "|   |   |   |   |   |   |   |   |   |--- property_surface_covered <= 64.00\n",
            "|   |   |   |   |   |   |   |   |   |   |--- class: bajo\n",
            "|   |   |   |   |   |   |   |   |   |--- property_surface_covered >  64.00\n",
            "|   |   |   |   |   |   |   |   |   |   |--- property_surface_covered <= 82.64\n",
            "|   |   |   |   |   |   |   |   |   |   |   |--- truncated branch of depth 4\n",
            "|   |   |   |   |   |   |   |   |   |   |--- property_surface_covered >  82.64\n",
            "|   |   |   |   |   |   |   |   |   |   |   |--- truncated branch of depth 10\n",
            "|   |   |   |   |   |--- property_surface_covered >  95.50\n",
            "|   |   |   |   |   |   |--- property_rooms <= 4.50\n",
            "|   |   |   |   |   |   |   |--- property_surface_total <= 116.59\n",
            "|   |   |   |   |   |   |   |   |--- property_surface_covered <= 111.00\n",
            "|   |   |   |   |   |   |   |   |   |--- property_surface_total <= 111.00\n",
            "|   |   |   |   |   |   |   |   |   |   |--- longitud <= -34.59\n",
            "|   |   |   |   |   |   |   |   |   |   |   |--- class: medio\n",
            "|   |   |   |   |   |   |   |   |   |   |--- longitud >  -34.59\n",
            "|   |   |   |   |   |   |   |   |   |   |   |--- truncated branch of depth 8\n",
            "|   |   |   |   |   |   |   |   |   |--- property_surface_total >  111.00\n",
            "|   |   |   |   |   |   |   |   |   |   |--- class: alto\n",
            "|   |   |   |   |   |   |   |   |--- property_surface_covered >  111.00\n",
            "|   |   |   |   |   |   |   |   |   |--- class: medio\n",
            "|   |   |   |   |   |   |   |--- property_surface_total >  116.59\n",
            "|   |   |   |   |   |   |   |   |--- property_surface_covered <= 117.50\n",
            "|   |   |   |   |   |   |   |   |   |--- neighbourhood_Palermo <= 0.50\n",
            "|   |   |   |   |   |   |   |   |   |   |--- property_surface_covered <= 99.04\n",
            "|   |   |   |   |   |   |   |   |   |   |   |--- truncated branch of depth 2\n",
            "|   |   |   |   |   |   |   |   |   |   |--- property_surface_covered >  99.04\n",
            "|   |   |   |   |   |   |   |   |   |   |   |--- truncated branch of depth 7\n",
            "|   |   |   |   |   |   |   |   |   |--- neighbourhood_Palermo >  0.50\n",
            "|   |   |   |   |   |   |   |   |   |   |--- property_type_PH <= 0.50\n",
            "|   |   |   |   |   |   |   |   |   |   |   |--- truncated branch of depth 2\n",
            "|   |   |   |   |   |   |   |   |   |   |--- property_type_PH >  0.50\n",
            "|   |   |   |   |   |   |   |   |   |   |   |--- class: medio\n",
            "|   |   |   |   |   |   |   |   |--- property_surface_covered >  117.50\n",
            "|   |   |   |   |   |   |   |   |   |--- property_surface_total <= 179.50\n",
            "|   |   |   |   |   |   |   |   |   |   |--- property_surface_total <= 151.50\n",
            "|   |   |   |   |   |   |   |   |   |   |   |--- truncated branch of depth 11\n",
            "|   |   |   |   |   |   |   |   |   |   |--- property_surface_total >  151.50\n",
            "|   |   |   |   |   |   |   |   |   |   |   |--- truncated branch of depth 5\n",
            "|   |   |   |   |   |   |   |   |   |--- property_surface_total >  179.50\n",
            "|   |   |   |   |   |   |   |   |   |   |--- neighbourhood_Palermo <= 0.50\n",
            "|   |   |   |   |   |   |   |   |   |   |   |--- truncated branch of depth 3\n",
            "|   |   |   |   |   |   |   |   |   |   |--- neighbourhood_Palermo >  0.50\n",
            "|   |   |   |   |   |   |   |   |   |   |   |--- class: alto\n",
            "|   |   |   |   |   |   |--- property_rooms >  4.50\n",
            "|   |   |   |   |   |   |   |--- property_surface_covered <= 179.50\n",
            "|   |   |   |   |   |   |   |   |--- property_bedrooms <= 2.50\n",
            "|   |   |   |   |   |   |   |   |   |--- class: alto\n",
            "|   |   |   |   |   |   |   |   |--- property_bedrooms >  2.50\n",
            "|   |   |   |   |   |   |   |   |   |--- property_bedrooms <= 4.50\n",
            "|   |   |   |   |   |   |   |   |   |   |--- longitud <= -34.56\n",
            "|   |   |   |   |   |   |   |   |   |   |   |--- truncated branch of depth 4\n",
            "|   |   |   |   |   |   |   |   |   |   |--- longitud >  -34.56\n",
            "|   |   |   |   |   |   |   |   |   |   |   |--- truncated branch of depth 6\n",
            "|   |   |   |   |   |   |   |   |   |--- property_bedrooms >  4.50\n",
            "|   |   |   |   |   |   |   |   |   |   |--- class: bajo\n",
            "|   |   |   |   |   |   |   |--- property_surface_covered >  179.50\n",
            "|   |   |   |   |   |   |   |   |--- class: alto\n",
            "|   |   |--- neighbourhood_Caballito >  0.50\n",
            "|   |   |   |--- latitud <= -34.62\n",
            "|   |   |   |   |--- property_surface_covered <= 71.50\n",
            "|   |   |   |   |   |--- property_surface_total <= 86.07\n",
            "|   |   |   |   |   |   |--- latitud <= -34.63\n",
            "|   |   |   |   |   |   |   |--- property_surface_total <= 27.50\n",
            "|   |   |   |   |   |   |   |   |--- latitud <= -34.63\n",
            "|   |   |   |   |   |   |   |   |   |--- longitud <= -58.44\n",
            "|   |   |   |   |   |   |   |   |   |   |--- class: bajo\n",
            "|   |   |   |   |   |   |   |   |   |--- longitud >  -58.44\n",
            "|   |   |   |   |   |   |   |   |   |   |--- class: medio\n",
            "|   |   |   |   |   |   |   |   |--- latitud >  -34.63\n",
            "|   |   |   |   |   |   |   |   |   |--- class: medio\n",
            "|   |   |   |   |   |   |   |--- property_surface_total >  27.50\n",
            "|   |   |   |   |   |   |   |   |--- property_surface_total <= 43.50\n",
            "|   |   |   |   |   |   |   |   |   |--- longitud <= -58.43\n",
            "|   |   |   |   |   |   |   |   |   |   |--- property_surface_total <= 35.50\n",
            "|   |   |   |   |   |   |   |   |   |   |   |--- truncated branch of depth 6\n",
            "|   |   |   |   |   |   |   |   |   |   |--- property_surface_total >  35.50\n",
            "|   |   |   |   |   |   |   |   |   |   |   |--- truncated branch of depth 8\n",
            "|   |   |   |   |   |   |   |   |   |--- longitud >  -58.43\n",
            "|   |   |   |   |   |   |   |   |   |   |--- longitud <= -58.43\n",
            "|   |   |   |   |   |   |   |   |   |   |   |--- truncated branch of depth 8\n",
            "|   |   |   |   |   |   |   |   |   |   |--- longitud >  -58.43\n",
            "|   |   |   |   |   |   |   |   |   |   |   |--- truncated branch of depth 5\n",
            "|   |   |   |   |   |   |   |   |--- property_surface_total >  43.50\n",
            "|   |   |   |   |   |   |   |   |   |--- longitud <= -58.45\n",
            "|   |   |   |   |   |   |   |   |   |   |--- latitud <= -34.63\n",
            "|   |   |   |   |   |   |   |   |   |   |   |--- truncated branch of depth 8\n",
            "|   |   |   |   |   |   |   |   |   |   |--- latitud >  -34.63\n",
            "|   |   |   |   |   |   |   |   |   |   |   |--- truncated branch of depth 5\n",
            "|   |   |   |   |   |   |   |   |   |--- longitud >  -58.45\n",
            "|   |   |   |   |   |   |   |   |   |   |--- property_surface_total <= 50.50\n",
            "|   |   |   |   |   |   |   |   |   |   |   |--- truncated branch of depth 10\n",
            "|   |   |   |   |   |   |   |   |   |   |--- property_surface_total >  50.50\n",
            "|   |   |   |   |   |   |   |   |   |   |   |--- truncated branch of depth 19\n",
            "|   |   |   |   |   |   |--- latitud >  -34.63\n",
            "|   |   |   |   |   |   |   |--- longitud <= -58.45\n",
            "|   |   |   |   |   |   |   |   |--- longitud <= -58.45\n",
            "|   |   |   |   |   |   |   |   |   |--- longitud <= -58.46\n",
            "|   |   |   |   |   |   |   |   |   |   |--- longitud <= -58.46\n",
            "|   |   |   |   |   |   |   |   |   |   |   |--- class: bajo\n",
            "|   |   |   |   |   |   |   |   |   |   |--- longitud >  -58.46\n",
            "|   |   |   |   |   |   |   |   |   |   |   |--- class: medio\n",
            "|   |   |   |   |   |   |   |   |   |--- longitud >  -58.46\n",
            "|   |   |   |   |   |   |   |   |   |   |--- property_surface_total <= 43.50\n",
            "|   |   |   |   |   |   |   |   |   |   |   |--- truncated branch of depth 2\n",
            "|   |   |   |   |   |   |   |   |   |   |--- property_surface_total >  43.50\n",
            "|   |   |   |   |   |   |   |   |   |   |   |--- truncated branch of depth 5\n",
            "|   |   |   |   |   |   |   |   |--- longitud >  -58.45\n",
            "|   |   |   |   |   |   |   |   |   |--- latitud <= -34.63\n",
            "|   |   |   |   |   |   |   |   |   |   |--- property_surface_covered <= 43.50\n",
            "|   |   |   |   |   |   |   |   |   |   |   |--- class: bajo\n",
            "|   |   |   |   |   |   |   |   |   |   |--- property_surface_covered >  43.50\n",
            "|   |   |   |   |   |   |   |   |   |   |   |--- class: alto\n",
            "|   |   |   |   |   |   |   |   |   |--- latitud >  -34.63\n",
            "|   |   |   |   |   |   |   |   |   |   |--- property_surface_covered <= 68.50\n",
            "|   |   |   |   |   |   |   |   |   |   |   |--- truncated branch of depth 6\n",
            "|   |   |   |   |   |   |   |   |   |   |--- property_surface_covered >  68.50\n",
            "|   |   |   |   |   |   |   |   |   |   |   |--- class: alto\n",
            "|   |   |   |   |   |   |   |--- longitud >  -58.45\n",
            "|   |   |   |   |   |   |   |   |--- longitud <= -58.44\n",
            "|   |   |   |   |   |   |   |   |   |--- property_surface_covered <= 43.50\n",
            "|   |   |   |   |   |   |   |   |   |   |--- latitud <= -34.63\n",
            "|   |   |   |   |   |   |   |   |   |   |   |--- truncated branch of depth 2\n",
            "|   |   |   |   |   |   |   |   |   |   |--- latitud >  -34.63\n",
            "|   |   |   |   |   |   |   |   |   |   |   |--- class: bajo\n",
            "|   |   |   |   |   |   |   |   |   |--- property_surface_covered >  43.50\n",
            "|   |   |   |   |   |   |   |   |   |   |--- property_surface_total <= 67.50\n",
            "|   |   |   |   |   |   |   |   |   |   |   |--- truncated branch of depth 5\n",
            "|   |   |   |   |   |   |   |   |   |   |--- property_surface_total >  67.50\n",
            "|   |   |   |   |   |   |   |   |   |   |   |--- class: alto\n",
            "|   |   |   |   |   |   |   |   |--- longitud >  -58.44\n",
            "|   |   |   |   |   |   |   |   |   |--- latitud <= -34.63\n",
            "|   |   |   |   |   |   |   |   |   |   |--- property_surface_total <= 36.50\n",
            "|   |   |   |   |   |   |   |   |   |   |   |--- class: bajo\n",
            "|   |   |   |   |   |   |   |   |   |   |--- property_surface_total >  36.50\n",
            "|   |   |   |   |   |   |   |   |   |   |   |--- class: alto\n",
            "|   |   |   |   |   |   |   |   |   |--- latitud >  -34.63\n",
            "|   |   |   |   |   |   |   |   |   |   |--- latitud <= -34.63\n",
            "|   |   |   |   |   |   |   |   |   |   |   |--- truncated branch of depth 5\n",
            "|   |   |   |   |   |   |   |   |   |   |--- latitud >  -34.63\n",
            "|   |   |   |   |   |   |   |   |   |   |   |--- truncated branch of depth 11\n",
            "|   |   |   |   |   |--- property_surface_total >  86.07\n",
            "|   |   |   |   |   |   |--- property_surface_covered <= 69.50\n",
            "|   |   |   |   |   |   |   |--- property_bedrooms <= 1.50\n",
            "|   |   |   |   |   |   |   |   |--- class: bajo\n",
            "|   |   |   |   |   |   |   |--- property_bedrooms >  1.50\n",
            "|   |   |   |   |   |   |   |   |--- property_surface_covered <= 53.00\n",
            "|   |   |   |   |   |   |   |   |   |--- latitud <= -34.63\n",
            "|   |   |   |   |   |   |   |   |   |   |--- class: alto\n",
            "|   |   |   |   |   |   |   |   |   |--- latitud >  -34.63\n",
            "|   |   |   |   |   |   |   |   |   |   |--- class: medio\n",
            "|   |   |   |   |   |   |   |   |--- property_surface_covered >  53.00\n",
            "|   |   |   |   |   |   |   |   |   |--- latitud <= -34.63\n",
            "|   |   |   |   |   |   |   |   |   |   |--- property_surface_total <= 88.36\n",
            "|   |   |   |   |   |   |   |   |   |   |   |--- class: bajo\n",
            "|   |   |   |   |   |   |   |   |   |   |--- property_surface_total >  88.36\n",
            "|   |   |   |   |   |   |   |   |   |   |   |--- truncated branch of depth 5\n",
            "|   |   |   |   |   |   |   |   |   |--- latitud >  -34.63\n",
            "|   |   |   |   |   |   |   |   |   |   |--- class: medio\n",
            "|   |   |   |   |   |   |--- property_surface_covered >  69.50\n",
            "|   |   |   |   |   |   |   |--- longitud <= -58.43\n",
            "|   |   |   |   |   |   |   |   |--- class: medio\n",
            "|   |   |   |   |   |   |   |--- longitud >  -58.43\n",
            "|   |   |   |   |   |   |   |   |--- class: alto\n",
            "|   |   |   |   |--- property_surface_covered >  71.50\n",
            "|   |   |   |   |   |--- latitud <= -34.63\n",
            "|   |   |   |   |   |   |--- longitud <= -58.44\n",
            "|   |   |   |   |   |   |   |--- longitud <= -58.45\n",
            "|   |   |   |   |   |   |   |   |--- latitud <= -34.63\n",
            "|   |   |   |   |   |   |   |   |   |--- latitud <= -34.63\n",
            "|   |   |   |   |   |   |   |   |   |   |--- property_rooms <= 4.50\n",
            "|   |   |   |   |   |   |   |   |   |   |   |--- truncated branch of depth 8\n",
            "|   |   |   |   |   |   |   |   |   |   |--- property_rooms >  4.50\n",
            "|   |   |   |   |   |   |   |   |   |   |   |--- class: alto\n",
            "|   |   |   |   |   |   |   |   |   |--- latitud >  -34.63\n",
            "|   |   |   |   |   |   |   |   |   |   |--- longitud <= -58.45\n",
            "|   |   |   |   |   |   |   |   |   |   |   |--- class: alto\n",
            "|   |   |   |   |   |   |   |   |   |   |--- longitud >  -58.45\n",
            "|   |   |   |   |   |   |   |   |   |   |   |--- class: medio\n",
            "|   |   |   |   |   |   |   |   |--- latitud >  -34.63\n",
            "|   |   |   |   |   |   |   |   |   |--- property_surface_covered <= 73.00\n",
            "|   |   |   |   |   |   |   |   |   |   |--- class: alto\n",
            "|   |   |   |   |   |   |   |   |   |--- property_surface_covered >  73.00\n",
            "|   |   |   |   |   |   |   |   |   |   |--- latitud <= -34.63\n",
            "|   |   |   |   |   |   |   |   |   |   |   |--- truncated branch of depth 8\n",
            "|   |   |   |   |   |   |   |   |   |   |--- latitud >  -34.63\n",
            "|   |   |   |   |   |   |   |   |   |   |   |--- truncated branch of depth 3\n",
            "|   |   |   |   |   |   |   |--- longitud >  -58.45\n",
            "|   |   |   |   |   |   |   |   |--- property_surface_total <= 144.50\n",
            "|   |   |   |   |   |   |   |   |   |--- property_surface_total <= 84.50\n",
            "|   |   |   |   |   |   |   |   |   |   |--- longitud <= -58.45\n",
            "|   |   |   |   |   |   |   |   |   |   |   |--- truncated branch of depth 2\n",
            "|   |   |   |   |   |   |   |   |   |   |--- longitud >  -58.45\n",
            "|   |   |   |   |   |   |   |   |   |   |   |--- truncated branch of depth 3\n",
            "|   |   |   |   |   |   |   |   |   |--- property_surface_total >  84.50\n",
            "|   |   |   |   |   |   |   |   |   |   |--- latitud <= -34.63\n",
            "|   |   |   |   |   |   |   |   |   |   |   |--- class: medio\n",
            "|   |   |   |   |   |   |   |   |   |   |--- latitud >  -34.63\n",
            "|   |   |   |   |   |   |   |   |   |   |   |--- truncated branch of depth 13\n",
            "|   |   |   |   |   |   |   |   |--- property_surface_total >  144.50\n",
            "|   |   |   |   |   |   |   |   |   |--- longitud <= -58.45\n",
            "|   |   |   |   |   |   |   |   |   |   |--- property_surface_covered <= 131.76\n",
            "|   |   |   |   |   |   |   |   |   |   |   |--- truncated branch of depth 4\n",
            "|   |   |   |   |   |   |   |   |   |   |--- property_surface_covered >  131.76\n",
            "|   |   |   |   |   |   |   |   |   |   |   |--- truncated branch of depth 2\n",
            "|   |   |   |   |   |   |   |   |   |--- longitud >  -58.45\n",
            "|   |   |   |   |   |   |   |   |   |   |--- property_surface_total <= 166.00\n",
            "|   |   |   |   |   |   |   |   |   |   |   |--- truncated branch of depth 3\n",
            "|   |   |   |   |   |   |   |   |   |   |--- property_surface_total >  166.00\n",
            "|   |   |   |   |   |   |   |   |   |   |   |--- class: medio\n",
            "|   |   |   |   |   |   |--- longitud >  -58.44\n",
            "|   |   |   |   |   |   |   |--- latitud <= -34.63\n",
            "|   |   |   |   |   |   |   |   |--- longitud <= -58.44\n",
            "|   |   |   |   |   |   |   |   |   |--- longitud <= -58.44\n",
            "|   |   |   |   |   |   |   |   |   |   |--- property_surface_covered <= 109.00\n",
            "|   |   |   |   |   |   |   |   |   |   |   |--- class: medio\n",
            "|   |   |   |   |   |   |   |   |   |   |--- property_surface_covered >  109.00\n",
            "|   |   |   |   |   |   |   |   |   |   |   |--- truncated branch of depth 4\n",
            "|   |   |   |   |   |   |   |   |   |--- longitud >  -58.44\n",
            "|   |   |   |   |   |   |   |   |   |   |--- latitud <= -34.63\n",
            "|   |   |   |   |   |   |   |   |   |   |   |--- truncated branch of depth 2\n",
            "|   |   |   |   |   |   |   |   |   |   |--- latitud >  -34.63\n",
            "|   |   |   |   |   |   |   |   |   |   |   |--- class: medio\n",
            "|   |   |   |   |   |   |   |   |--- longitud >  -58.44\n",
            "|   |   |   |   |   |   |   |   |   |--- longitud <= -58.44\n",
            "|   |   |   |   |   |   |   |   |   |   |--- class: alto\n",
            "|   |   |   |   |   |   |   |   |   |--- longitud >  -58.44\n",
            "|   |   |   |   |   |   |   |   |   |   |--- latitud <= -34.63\n",
            "|   |   |   |   |   |   |   |   |   |   |   |--- truncated branch of depth 11\n",
            "|   |   |   |   |   |   |   |   |   |   |--- latitud >  -34.63\n",
            "|   |   |   |   |   |   |   |   |   |   |   |--- truncated branch of depth 6\n",
            "|   |   |   |   |   |   |   |--- latitud >  -34.63\n",
            "|   |   |   |   |   |   |   |   |--- property_surface_covered <= 133.50\n",
            "|   |   |   |   |   |   |   |   |   |--- property_surface_total <= 133.00\n",
            "|   |   |   |   |   |   |   |   |   |   |--- longitud <= -58.43\n",
            "|   |   |   |   |   |   |   |   |   |   |   |--- truncated branch of depth 8\n",
            "|   |   |   |   |   |   |   |   |   |   |--- longitud >  -58.43\n",
            "|   |   |   |   |   |   |   |   |   |   |   |--- truncated branch of depth 2\n",
            "|   |   |   |   |   |   |   |   |   |--- property_surface_total >  133.00\n",
            "|   |   |   |   |   |   |   |   |   |   |--- class: medio\n",
            "|   |   |   |   |   |   |   |   |--- property_surface_covered >  133.50\n",
            "|   |   |   |   |   |   |   |   |   |--- property_surface_covered <= 172.00\n",
            "|   |   |   |   |   |   |   |   |   |   |--- class: alto\n",
            "|   |   |   |   |   |   |   |   |   |--- property_surface_covered >  172.00\n",
            "|   |   |   |   |   |   |   |   |   |   |--- property_surface_covered <= 177.00\n",
            "|   |   |   |   |   |   |   |   |   |   |   |--- class: bajo\n",
            "|   |   |   |   |   |   |   |   |   |   |--- property_surface_covered >  177.00\n",
            "|   |   |   |   |   |   |   |   |   |   |   |--- class: alto\n",
            "|   |   |   |   |   |--- latitud >  -34.63\n",
            "|   |   |   |   |   |   |--- property_surface_total <= 100.50\n",
            "|   |   |   |   |   |   |   |--- longitud <= -58.45\n",
            "|   |   |   |   |   |   |   |   |--- latitud <= -34.63\n",
            "|   |   |   |   |   |   |   |   |   |--- class: medio\n",
            "|   |   |   |   |   |   |   |   |--- latitud >  -34.63\n",
            "|   |   |   |   |   |   |   |   |   |--- class: bajo\n",
            "|   |   |   |   |   |   |   |--- longitud >  -58.45\n",
            "|   |   |   |   |   |   |   |   |--- property_surface_total <= 98.50\n",
            "|   |   |   |   |   |   |   |   |   |--- class: alto\n",
            "|   |   |   |   |   |   |   |   |--- property_surface_total >  98.50\n",
            "|   |   |   |   |   |   |   |   |   |--- longitud <= -58.43\n",
            "|   |   |   |   |   |   |   |   |   |   |--- class: alto\n",
            "|   |   |   |   |   |   |   |   |   |--- longitud >  -58.43\n",
            "|   |   |   |   |   |   |   |   |   |   |--- class: alto\n",
            "|   |   |   |   |   |   |--- property_surface_total >  100.50\n",
            "|   |   |   |   |   |   |   |--- latitud <= -34.63\n",
            "|   |   |   |   |   |   |   |   |--- property_surface_covered <= 144.50\n",
            "|   |   |   |   |   |   |   |   |   |--- class: alto\n",
            "|   |   |   |   |   |   |   |   |--- property_surface_covered >  144.50\n",
            "|   |   |   |   |   |   |   |   |   |--- class: medio\n",
            "|   |   |   |   |   |   |   |--- latitud >  -34.63\n",
            "|   |   |   |   |   |   |   |   |--- property_surface_total <= 106.00\n",
            "|   |   |   |   |   |   |   |   |   |--- class: bajo\n",
            "|   |   |   |   |   |   |   |   |--- property_surface_total >  106.00\n",
            "|   |   |   |   |   |   |   |   |   |--- class: medio\n",
            "|   |   |   |--- latitud >  -34.62\n",
            "|   |   |   |   |--- property_type_Departamento <= 0.50\n",
            "|   |   |   |   |   |--- latitud <= -34.61\n",
            "|   |   |   |   |   |   |--- property_surface_covered <= 152.50\n",
            "|   |   |   |   |   |   |   |--- latitud <= -34.62\n",
            "|   |   |   |   |   |   |   |   |--- property_surface_covered <= 121.92\n",
            "|   |   |   |   |   |   |   |   |   |--- class: medio\n",
            "|   |   |   |   |   |   |   |   |--- property_surface_covered >  121.92\n",
            "|   |   |   |   |   |   |   |   |   |--- property_bedrooms <= 3.50\n",
            "|   |   |   |   |   |   |   |   |   |   |--- class: bajo\n",
            "|   |   |   |   |   |   |   |   |   |--- property_bedrooms >  3.50\n",
            "|   |   |   |   |   |   |   |   |   |   |--- class: medio\n",
            "|   |   |   |   |   |   |   |--- latitud >  -34.62\n",
            "|   |   |   |   |   |   |   |   |--- latitud <= -34.61\n",
            "|   |   |   |   |   |   |   |   |   |--- property_surface_total <= 165.87\n",
            "|   |   |   |   |   |   |   |   |   |   |--- latitud <= -34.62\n",
            "|   |   |   |   |   |   |   |   |   |   |   |--- truncated branch of depth 2\n",
            "|   |   |   |   |   |   |   |   |   |   |--- latitud >  -34.62\n",
            "|   |   |   |   |   |   |   |   |   |   |   |--- truncated branch of depth 15\n",
            "|   |   |   |   |   |   |   |   |   |--- property_surface_total >  165.87\n",
            "|   |   |   |   |   |   |   |   |   |   |--- longitud <= -58.44\n",
            "|   |   |   |   |   |   |   |   |   |   |   |--- class: medio\n",
            "|   |   |   |   |   |   |   |   |   |   |--- longitud >  -58.44\n",
            "|   |   |   |   |   |   |   |   |   |   |   |--- truncated branch of depth 2\n",
            "|   |   |   |   |   |   |   |   |--- latitud >  -34.61\n",
            "|   |   |   |   |   |   |   |   |   |--- class: alto\n",
            "|   |   |   |   |   |   |--- property_surface_covered >  152.50\n",
            "|   |   |   |   |   |   |   |--- latitud <= -34.62\n",
            "|   |   |   |   |   |   |   |   |--- class: alto\n",
            "|   |   |   |   |   |   |   |--- latitud >  -34.62\n",
            "|   |   |   |   |   |   |   |   |--- class: medio\n",
            "|   |   |   |   |   |--- latitud >  -34.61\n",
            "|   |   |   |   |   |   |--- property_surface_covered <= 51.00\n",
            "|   |   |   |   |   |   |   |--- property_surface_covered <= 46.00\n",
            "|   |   |   |   |   |   |   |   |--- class: alto\n",
            "|   |   |   |   |   |   |   |--- property_surface_covered >  46.00\n",
            "|   |   |   |   |   |   |   |   |--- longitud <= -58.45\n",
            "|   |   |   |   |   |   |   |   |   |--- property_surface_total <= 80.00\n",
            "|   |   |   |   |   |   |   |   |   |   |--- class: medio\n",
            "|   |   |   |   |   |   |   |   |   |--- property_surface_total >  80.00\n",
            "|   |   |   |   |   |   |   |   |   |   |--- class: bajo\n",
            "|   |   |   |   |   |   |   |   |--- longitud >  -58.45\n",
            "|   |   |   |   |   |   |   |   |   |--- property_bedrooms <= 1.50\n",
            "|   |   |   |   |   |   |   |   |   |   |--- class: medio\n",
            "|   |   |   |   |   |   |   |   |   |--- property_bedrooms >  1.50\n",
            "|   |   |   |   |   |   |   |   |   |   |--- latitud <= -34.61\n",
            "|   |   |   |   |   |   |   |   |   |   |   |--- class: alto\n",
            "|   |   |   |   |   |   |   |   |   |   |--- latitud >  -34.61\n",
            "|   |   |   |   |   |   |   |   |   |   |   |--- class: alto\n",
            "|   |   |   |   |   |   |--- property_surface_covered >  51.00\n",
            "|   |   |   |   |   |   |   |--- latitud <= -34.61\n",
            "|   |   |   |   |   |   |   |   |--- longitud <= -58.43\n",
            "|   |   |   |   |   |   |   |   |   |--- property_surface_covered <= 95.50\n",
            "|   |   |   |   |   |   |   |   |   |   |--- property_rooms <= 4.50\n",
            "|   |   |   |   |   |   |   |   |   |   |   |--- truncated branch of depth 7\n",
            "|   |   |   |   |   |   |   |   |   |   |--- property_rooms >  4.50\n",
            "|   |   |   |   |   |   |   |   |   |   |   |--- class: bajo\n",
            "|   |   |   |   |   |   |   |   |   |--- property_surface_covered >  95.50\n",
            "|   |   |   |   |   |   |   |   |   |   |--- class: medio\n",
            "|   |   |   |   |   |   |   |   |--- longitud >  -58.43\n",
            "|   |   |   |   |   |   |   |   |   |--- class: alto\n",
            "|   |   |   |   |   |   |   |--- latitud >  -34.61\n",
            "|   |   |   |   |   |   |   |   |--- longitud <= -58.45\n",
            "|   |   |   |   |   |   |   |   |   |--- property_surface_total <= 183.50\n",
            "|   |   |   |   |   |   |   |   |   |   |--- latitud <= -34.61\n",
            "|   |   |   |   |   |   |   |   |   |   |   |--- truncated branch of depth 2\n",
            "|   |   |   |   |   |   |   |   |   |   |--- latitud >  -34.61\n",
            "|   |   |   |   |   |   |   |   |   |   |   |--- truncated branch of depth 3\n",
            "|   |   |   |   |   |   |   |   |   |--- property_surface_total >  183.50\n",
            "|   |   |   |   |   |   |   |   |   |   |--- class: bajo\n",
            "|   |   |   |   |   |   |   |   |--- longitud >  -58.45\n",
            "|   |   |   |   |   |   |   |   |   |--- property_rooms <= 4.50\n",
            "|   |   |   |   |   |   |   |   |   |   |--- class: alto\n",
            "|   |   |   |   |   |   |   |   |   |--- property_rooms >  4.50\n",
            "|   |   |   |   |   |   |   |   |   |   |--- class: medio\n",
            "|   |   |   |   |--- property_type_Departamento >  0.50\n",
            "|   |   |   |   |   |--- property_surface_total <= 60.13\n",
            "|   |   |   |   |   |   |--- latitud <= -34.60\n",
            "|   |   |   |   |   |   |   |--- property_surface_total <= 36.50\n",
            "|   |   |   |   |   |   |   |   |--- property_rooms <= 2.50\n",
            "|   |   |   |   |   |   |   |   |   |--- longitud <= -58.45\n",
            "|   |   |   |   |   |   |   |   |   |   |--- latitud <= -34.62\n",
            "|   |   |   |   |   |   |   |   |   |   |   |--- class: alto\n",
            "|   |   |   |   |   |   |   |   |   |   |--- latitud >  -34.62\n",
            "|   |   |   |   |   |   |   |   |   |   |   |--- truncated branch of depth 5\n",
            "|   |   |   |   |   |   |   |   |   |--- longitud >  -58.45\n",
            "|   |   |   |   |   |   |   |   |   |   |--- longitud <= -58.44\n",
            "|   |   |   |   |   |   |   |   |   |   |   |--- truncated branch of depth 12\n",
            "|   |   |   |   |   |   |   |   |   |   |--- longitud >  -58.44\n",
            "|   |   |   |   |   |   |   |   |   |   |   |--- truncated branch of depth 6\n",
            "|   |   |   |   |   |   |   |   |--- property_rooms >  2.50\n",
            "|   |   |   |   |   |   |   |   |   |--- class: alto\n",
            "|   |   |   |   |   |   |   |--- property_surface_total >  36.50\n",
            "|   |   |   |   |   |   |   |   |--- property_surface_covered <= 32.50\n",
            "|   |   |   |   |   |   |   |   |   |--- longitud <= -58.43\n",
            "|   |   |   |   |   |   |   |   |   |   |--- property_surface_total <= 51.00\n",
            "|   |   |   |   |   |   |   |   |   |   |   |--- truncated branch of depth 5\n",
            "|   |   |   |   |   |   |   |   |   |   |--- property_surface_total >  51.00\n",
            "|   |   |   |   |   |   |   |   |   |   |   |--- class: bajo\n",
            "|   |   |   |   |   |   |   |   |   |--- longitud >  -58.43\n",
            "|   |   |   |   |   |   |   |   |   |   |--- class: alto\n",
            "|   |   |   |   |   |   |   |   |--- property_surface_covered >  32.50\n",
            "|   |   |   |   |   |   |   |   |   |--- latitud <= -34.62\n",
            "|   |   |   |   |   |   |   |   |   |   |--- class: medio\n",
            "|   |   |   |   |   |   |   |   |   |--- latitud >  -34.62\n",
            "|   |   |   |   |   |   |   |   |   |   |--- latitud <= -34.61\n",
            "|   |   |   |   |   |   |   |   |   |   |   |--- truncated branch of depth 30\n",
            "|   |   |   |   |   |   |   |   |   |   |--- latitud >  -34.61\n",
            "|   |   |   |   |   |   |   |   |   |   |   |--- truncated branch of depth 11\n",
            "|   |   |   |   |   |   |--- latitud >  -34.60\n",
            "|   |   |   |   |   |   |   |--- latitud <= -34.60\n",
            "|   |   |   |   |   |   |   |   |--- class: bajo\n",
            "|   |   |   |   |   |   |   |--- latitud >  -34.60\n",
            "|   |   |   |   |   |   |   |   |--- class: medio\n",
            "|   |   |   |   |   |--- property_surface_total >  60.13\n",
            "|   |   |   |   |   |   |--- property_surface_covered <= 47.50\n",
            "|   |   |   |   |   |   |   |--- property_surface_covered <= 38.50\n",
            "|   |   |   |   |   |   |   |   |--- latitud <= -34.61\n",
            "|   |   |   |   |   |   |   |   |   |--- property_bedrooms <= 1.50\n",
            "|   |   |   |   |   |   |   |   |   |   |--- class: bajo\n",
            "|   |   |   |   |   |   |   |   |   |--- property_bedrooms >  1.50\n",
            "|   |   |   |   |   |   |   |   |   |   |--- property_surface_total <= 66.74\n",
            "|   |   |   |   |   |   |   |   |   |   |   |--- class: bajo\n",
            "|   |   |   |   |   |   |   |   |   |   |--- property_surface_total >  66.74\n",
            "|   |   |   |   |   |   |   |   |   |   |   |--- class: bajo\n",
            "|   |   |   |   |   |   |   |   |--- latitud >  -34.61\n",
            "|   |   |   |   |   |   |   |   |   |--- latitud <= -34.61\n",
            "|   |   |   |   |   |   |   |   |   |   |--- class: medio\n",
            "|   |   |   |   |   |   |   |   |   |--- latitud >  -34.61\n",
            "|   |   |   |   |   |   |   |   |   |   |--- class: bajo\n",
            "|   |   |   |   |   |   |   |--- property_surface_covered >  38.50\n",
            "|   |   |   |   |   |   |   |   |--- property_surface_total <= 68.46\n",
            "|   |   |   |   |   |   |   |   |   |--- latitud <= -34.62\n",
            "|   |   |   |   |   |   |   |   |   |   |--- class: medio\n",
            "|   |   |   |   |   |   |   |   |   |--- latitud >  -34.62\n",
            "|   |   |   |   |   |   |   |   |   |   |--- latitud <= -34.62\n",
            "|   |   |   |   |   |   |   |   |   |   |   |--- truncated branch of depth 2\n",
            "|   |   |   |   |   |   |   |   |   |   |--- latitud >  -34.62\n",
            "|   |   |   |   |   |   |   |   |   |   |   |--- truncated branch of depth 6\n",
            "|   |   |   |   |   |   |   |   |--- property_surface_total >  68.46\n",
            "|   |   |   |   |   |   |   |   |   |--- property_rooms <= 1.50\n",
            "|   |   |   |   |   |   |   |   |   |   |--- latitud <= -34.61\n",
            "|   |   |   |   |   |   |   |   |   |   |   |--- class: medio\n",
            "|   |   |   |   |   |   |   |   |   |   |--- latitud >  -34.61\n",
            "|   |   |   |   |   |   |   |   |   |   |   |--- class: bajo\n",
            "|   |   |   |   |   |   |   |   |   |--- property_rooms >  1.50\n",
            "|   |   |   |   |   |   |   |   |   |   |--- property_surface_total <= 76.50\n",
            "|   |   |   |   |   |   |   |   |   |   |   |--- class: bajo\n",
            "|   |   |   |   |   |   |   |   |   |   |--- property_surface_total >  76.50\n",
            "|   |   |   |   |   |   |   |   |   |   |   |--- truncated branch of depth 5\n",
            "|   |   |   |   |   |   |--- property_surface_covered >  47.50\n",
            "|   |   |   |   |   |   |   |--- latitud <= -34.61\n",
            "|   |   |   |   |   |   |   |   |--- longitud <= -58.45\n",
            "|   |   |   |   |   |   |   |   |   |--- longitud <= -58.47\n",
            "|   |   |   |   |   |   |   |   |   |   |--- class: bajo\n",
            "|   |   |   |   |   |   |   |   |   |--- longitud >  -58.47\n",
            "|   |   |   |   |   |   |   |   |   |   |--- latitud <= -34.61\n",
            "|   |   |   |   |   |   |   |   |   |   |   |--- truncated branch of depth 13\n",
            "|   |   |   |   |   |   |   |   |   |   |--- latitud >  -34.61\n",
            "|   |   |   |   |   |   |   |   |   |   |   |--- truncated branch of depth 10\n",
            "|   |   |   |   |   |   |   |   |--- longitud >  -58.45\n",
            "|   |   |   |   |   |   |   |   |   |--- longitud <= -58.45\n",
            "|   |   |   |   |   |   |   |   |   |   |--- property_surface_covered <= 70.50\n",
            "|   |   |   |   |   |   |   |   |   |   |   |--- truncated branch of depth 3\n",
            "|   |   |   |   |   |   |   |   |   |   |--- property_surface_covered >  70.50\n",
            "|   |   |   |   |   |   |   |   |   |   |   |--- class: bajo\n",
            "|   |   |   |   |   |   |   |   |   |--- longitud >  -58.45\n",
            "|   |   |   |   |   |   |   |   |   |   |--- latitud <= -34.62\n",
            "|   |   |   |   |   |   |   |   |   |   |   |--- truncated branch of depth 10\n",
            "|   |   |   |   |   |   |   |   |   |   |--- latitud >  -34.62\n",
            "|   |   |   |   |   |   |   |   |   |   |   |--- truncated branch of depth 27\n",
            "|   |   |   |   |   |   |   |--- latitud >  -34.61\n",
            "|   |   |   |   |   |   |   |   |--- property_surface_total <= 75.50\n",
            "|   |   |   |   |   |   |   |   |   |--- property_surface_covered <= 59.00\n",
            "|   |   |   |   |   |   |   |   |   |   |--- latitud <= -34.61\n",
            "|   |   |   |   |   |   |   |   |   |   |   |--- truncated branch of depth 2\n",
            "|   |   |   |   |   |   |   |   |   |   |--- latitud >  -34.61\n",
            "|   |   |   |   |   |   |   |   |   |   |   |--- truncated branch of depth 3\n",
            "|   |   |   |   |   |   |   |   |   |--- property_surface_covered >  59.00\n",
            "|   |   |   |   |   |   |   |   |   |   |--- property_surface_covered <= 66.00\n",
            "|   |   |   |   |   |   |   |   |   |   |   |--- truncated branch of depth 8\n",
            "|   |   |   |   |   |   |   |   |   |   |--- property_surface_covered >  66.00\n",
            "|   |   |   |   |   |   |   |   |   |   |   |--- truncated branch of depth 5\n",
            "|   |   |   |   |   |   |   |   |--- property_surface_total >  75.50\n",
            "|   |   |   |   |   |   |   |   |   |--- longitud <= -58.45\n",
            "|   |   |   |   |   |   |   |   |   |   |--- longitud <= -58.46\n",
            "|   |   |   |   |   |   |   |   |   |   |   |--- class: medio\n",
            "|   |   |   |   |   |   |   |   |   |   |--- longitud >  -58.46\n",
            "|   |   |   |   |   |   |   |   |   |   |   |--- truncated branch of depth 6\n",
            "|   |   |   |   |   |   |   |   |   |--- longitud >  -58.45\n",
            "|   |   |   |   |   |   |   |   |   |   |--- property_surface_covered <= 61.50\n",
            "|   |   |   |   |   |   |   |   |   |   |   |--- class: bajo\n",
            "|   |   |   |   |   |   |   |   |   |   |--- property_surface_covered >  61.50\n",
            "|   |   |   |   |   |   |   |   |   |   |   |--- truncated branch of depth 7\n",
            "|   |--- neighbourhood_Puerto Madero >  0.50\n",
            "|   |   |--- longitud <= -58.37\n",
            "|   |   |   |--- property_surface_total <= 52.50\n",
            "|   |   |   |   |--- class: medio\n",
            "|   |   |   |--- property_surface_total >  52.50\n",
            "|   |   |   |   |--- property_surface_total <= 70.50\n",
            "|   |   |   |   |   |--- class: alto\n",
            "|   |   |   |   |--- property_surface_total >  70.50\n",
            "|   |   |   |   |   |--- property_surface_covered <= 67.50\n",
            "|   |   |   |   |   |   |--- class: bajo\n",
            "|   |   |   |   |   |--- property_surface_covered >  67.50\n",
            "|   |   |   |   |   |   |--- latitud <= -34.60\n",
            "|   |   |   |   |   |   |   |--- property_bedrooms <= 1.50\n",
            "|   |   |   |   |   |   |   |   |--- class: alto\n",
            "|   |   |   |   |   |   |   |--- property_bedrooms >  1.50\n",
            "|   |   |   |   |   |   |   |   |--- class: medio\n",
            "|   |   |   |   |   |   |--- latitud >  -34.60\n",
            "|   |   |   |   |   |   |   |--- class: bajo\n",
            "|   |   |--- longitud >  -58.37\n",
            "|   |   |   |--- property_type_Departamento <= 0.50\n",
            "|   |   |   |   |--- class: medio\n",
            "|   |   |   |--- property_type_Departamento >  0.50\n",
            "|   |   |   |   |--- property_surface_covered <= 30.50\n",
            "|   |   |   |   |   |--- longitud <= -58.36\n",
            "|   |   |   |   |   |   |--- class: medio\n",
            "|   |   |   |   |   |--- longitud >  -58.36\n",
            "|   |   |   |   |   |   |--- class: alto\n",
            "|   |   |   |   |--- property_surface_covered >  30.50\n",
            "|   |   |   |   |   |--- property_rooms <= 4.50\n",
            "|   |   |   |   |   |   |--- longitud <= -58.37\n",
            "|   |   |   |   |   |   |   |--- property_surface_total <= 108.00\n",
            "|   |   |   |   |   |   |   |   |--- latitud <= -34.61\n",
            "|   |   |   |   |   |   |   |   |   |--- class: alto\n",
            "|   |   |   |   |   |   |   |   |--- latitud >  -34.61\n",
            "|   |   |   |   |   |   |   |   |   |--- class: medio\n",
            "|   |   |   |   |   |   |   |--- property_surface_total >  108.00\n",
            "|   |   |   |   |   |   |   |   |--- property_rooms <= 3.00\n",
            "|   |   |   |   |   |   |   |   |   |--- property_rooms <= 1.50\n",
            "|   |   |   |   |   |   |   |   |   |   |--- class: medio\n",
            "|   |   |   |   |   |   |   |   |   |--- property_rooms >  1.50\n",
            "|   |   |   |   |   |   |   |   |   |   |--- class: medio\n",
            "|   |   |   |   |   |   |   |   |--- property_rooms >  3.00\n",
            "|   |   |   |   |   |   |   |   |   |--- class: alto\n",
            "|   |   |   |   |   |   |--- longitud >  -58.37\n",
            "|   |   |   |   |   |   |   |--- latitud <= -34.62\n",
            "|   |   |   |   |   |   |   |   |--- longitud <= -46.49\n",
            "|   |   |   |   |   |   |   |   |   |--- class: bajo\n",
            "|   |   |   |   |   |   |   |   |--- longitud >  -46.49\n",
            "|   |   |   |   |   |   |   |   |   |--- property_surface_covered <= 118.50\n",
            "|   |   |   |   |   |   |   |   |   |   |--- class: alto\n",
            "|   |   |   |   |   |   |   |   |   |--- property_surface_covered >  118.50\n",
            "|   |   |   |   |   |   |   |   |   |   |--- property_surface_covered <= 123.50\n",
            "|   |   |   |   |   |   |   |   |   |   |   |--- truncated branch of depth 2\n",
            "|   |   |   |   |   |   |   |   |   |   |--- property_surface_covered >  123.50\n",
            "|   |   |   |   |   |   |   |   |   |   |   |--- class: alto\n",
            "|   |   |   |   |   |   |   |--- latitud >  -34.62\n",
            "|   |   |   |   |   |   |   |   |--- longitud <= -58.36\n",
            "|   |   |   |   |   |   |   |   |   |--- property_surface_covered <= 66.50\n",
            "|   |   |   |   |   |   |   |   |   |   |--- property_surface_total <= 107.00\n",
            "|   |   |   |   |   |   |   |   |   |   |   |--- truncated branch of depth 3\n",
            "|   |   |   |   |   |   |   |   |   |   |--- property_surface_total >  107.00\n",
            "|   |   |   |   |   |   |   |   |   |   |   |--- class: medio\n",
            "|   |   |   |   |   |   |   |   |   |--- property_surface_covered >  66.50\n",
            "|   |   |   |   |   |   |   |   |   |   |--- longitud <= -58.36\n",
            "|   |   |   |   |   |   |   |   |   |   |   |--- truncated branch of depth 3\n",
            "|   |   |   |   |   |   |   |   |   |   |--- longitud >  -58.36\n",
            "|   |   |   |   |   |   |   |   |   |   |   |--- class: alto\n",
            "|   |   |   |   |   |   |   |   |--- longitud >  -58.36\n",
            "|   |   |   |   |   |   |   |   |   |--- class: medio\n",
            "|   |   |   |   |   |--- property_rooms >  4.50\n",
            "|   |   |   |   |   |   |--- property_rooms <= 5.50\n",
            "|   |   |   |   |   |   |   |--- property_surface_covered <= 144.20\n",
            "|   |   |   |   |   |   |   |   |--- class: bajo\n",
            "|   |   |   |   |   |   |   |--- property_surface_covered >  144.20\n",
            "|   |   |   |   |   |   |   |   |--- class: alto\n",
            "|   |   |   |   |   |   |--- property_rooms >  5.50\n",
            "|   |   |   |   |   |   |   |--- class: alto\n",
            "|--- latitud >  -34.60\n",
            "|   |--- longitud <= -58.47\n",
            "|   |   |--- property_type_Departamento <= 0.50\n",
            "|   |   |   |--- property_surface_total <= 77.50\n",
            "|   |   |   |   |--- latitud <= -34.57\n",
            "|   |   |   |   |   |--- property_surface_total <= 35.50\n",
            "|   |   |   |   |   |   |--- neighbourhood_Villa Pueyrredón <= 0.50\n",
            "|   |   |   |   |   |   |   |--- class: alto\n",
            "|   |   |   |   |   |   |--- neighbourhood_Villa Pueyrredón >  0.50\n",
            "|   |   |   |   |   |   |   |--- property_surface_covered <= 28.50\n",
            "|   |   |   |   |   |   |   |   |--- class: alto\n",
            "|   |   |   |   |   |   |   |--- property_surface_covered >  28.50\n",
            "|   |   |   |   |   |   |   |   |--- class: medio\n",
            "|   |   |   |   |   |--- property_surface_total >  35.50\n",
            "|   |   |   |   |   |   |--- property_surface_covered <= 36.50\n",
            "|   |   |   |   |   |   |   |--- property_surface_total <= 57.25\n",
            "|   |   |   |   |   |   |   |   |--- latitud <= -34.58\n",
            "|   |   |   |   |   |   |   |   |   |--- class: medio\n",
            "|   |   |   |   |   |   |   |   |--- latitud >  -34.58\n",
            "|   |   |   |   |   |   |   |   |   |--- class: alto\n",
            "|   |   |   |   |   |   |   |--- property_surface_total >  57.25\n",
            "|   |   |   |   |   |   |   |   |--- property_surface_covered <= 31.50\n",
            "|   |   |   |   |   |   |   |   |   |--- longitud <= -58.47\n",
            "|   |   |   |   |   |   |   |   |   |   |--- class: bajo\n",
            "|   |   |   |   |   |   |   |   |   |--- longitud >  -58.47\n",
            "|   |   |   |   |   |   |   |   |   |   |--- property_surface_covered <= 28.50\n",
            "|   |   |   |   |   |   |   |   |   |   |   |--- class: bajo\n",
            "|   |   |   |   |   |   |   |   |   |   |--- property_surface_covered >  28.50\n",
            "|   |   |   |   |   |   |   |   |   |   |   |--- class: medio\n",
            "|   |   |   |   |   |   |   |   |--- property_surface_covered >  31.50\n",
            "|   |   |   |   |   |   |   |   |   |--- neighbourhood_Villa Ortuzar <= 0.50\n",
            "|   |   |   |   |   |   |   |   |   |   |--- class: medio\n",
            "|   |   |   |   |   |   |   |   |   |--- neighbourhood_Villa Ortuzar >  0.50\n",
            "|   |   |   |   |   |   |   |   |   |   |--- class: alto\n",
            "|   |   |   |   |   |   |--- property_surface_covered >  36.50\n",
            "|   |   |   |   |   |   |   |--- longitud <= -58.52\n",
            "|   |   |   |   |   |   |   |   |--- latitud <= -34.60\n",
            "|   |   |   |   |   |   |   |   |   |--- latitud <= -34.60\n",
            "|   |   |   |   |   |   |   |   |   |   |--- class: alto\n",
            "|   |   |   |   |   |   |   |   |   |--- latitud >  -34.60\n",
            "|   |   |   |   |   |   |   |   |   |   |--- class: medio\n",
            "|   |   |   |   |   |   |   |   |--- latitud >  -34.60\n",
            "|   |   |   |   |   |   |   |   |   |--- class: alto\n",
            "|   |   |   |   |   |   |   |--- longitud >  -58.52\n",
            "|   |   |   |   |   |   |   |   |--- longitud <= -58.48\n",
            "|   |   |   |   |   |   |   |   |   |--- property_surface_covered <= 72.50\n",
            "|   |   |   |   |   |   |   |   |   |   |--- property_surface_covered <= 38.50\n",
            "|   |   |   |   |   |   |   |   |   |   |   |--- class: alto\n",
            "|   |   |   |   |   |   |   |   |   |   |--- property_surface_covered >  38.50\n",
            "|   |   |   |   |   |   |   |   |   |   |   |--- truncated branch of depth 19\n",
            "|   |   |   |   |   |   |   |   |   |--- property_surface_covered >  72.50\n",
            "|   |   |   |   |   |   |   |   |   |   |--- property_bedrooms <= 1.50\n",
            "|   |   |   |   |   |   |   |   |   |   |   |--- class: medio\n",
            "|   |   |   |   |   |   |   |   |   |   |--- property_bedrooms >  1.50\n",
            "|   |   |   |   |   |   |   |   |   |   |   |--- class: alto\n",
            "|   |   |   |   |   |   |   |   |--- longitud >  -58.48\n",
            "|   |   |   |   |   |   |   |   |   |--- latitud <= -34.60\n",
            "|   |   |   |   |   |   |   |   |   |   |--- class: medio\n",
            "|   |   |   |   |   |   |   |   |   |--- latitud >  -34.60\n",
            "|   |   |   |   |   |   |   |   |   |   |--- neighbourhood_Parque Chas <= 0.50\n",
            "|   |   |   |   |   |   |   |   |   |   |   |--- truncated branch of depth 4\n",
            "|   |   |   |   |   |   |   |   |   |   |--- neighbourhood_Parque Chas >  0.50\n",
            "|   |   |   |   |   |   |   |   |   |   |   |--- class: medio\n",
            "|   |   |   |   |--- latitud >  -34.57\n",
            "|   |   |   |   |   |--- property_surface_total <= 74.50\n",
            "|   |   |   |   |   |   |--- neighbourhood_Coghlan <= 0.50\n",
            "|   |   |   |   |   |   |   |--- property_bedrooms <= 1.50\n",
            "|   |   |   |   |   |   |   |   |--- property_surface_total <= 55.50\n",
            "|   |   |   |   |   |   |   |   |   |--- latitud <= -34.57\n",
            "|   |   |   |   |   |   |   |   |   |   |--- longitud <= -58.48\n",
            "|   |   |   |   |   |   |   |   |   |   |   |--- class: alto\n",
            "|   |   |   |   |   |   |   |   |   |   |--- longitud >  -58.48\n",
            "|   |   |   |   |   |   |   |   |   |   |   |--- class: medio\n",
            "|   |   |   |   |   |   |   |   |   |--- latitud >  -34.57\n",
            "|   |   |   |   |   |   |   |   |   |   |--- latitud <= -34.57\n",
            "|   |   |   |   |   |   |   |   |   |   |   |--- class: medio\n",
            "|   |   |   |   |   |   |   |   |   |   |--- latitud >  -34.57\n",
            "|   |   |   |   |   |   |   |   |   |   |   |--- truncated branch of depth 8\n",
            "|   |   |   |   |   |   |   |   |--- property_surface_total >  55.50\n",
            "|   |   |   |   |   |   |   |   |   |--- longitud <= -58.48\n",
            "|   |   |   |   |   |   |   |   |   |   |--- latitud <= -34.57\n",
            "|   |   |   |   |   |   |   |   |   |   |   |--- truncated branch of depth 2\n",
            "|   |   |   |   |   |   |   |   |   |   |--- latitud >  -34.57\n",
            "|   |   |   |   |   |   |   |   |   |   |   |--- truncated branch of depth 4\n",
            "|   |   |   |   |   |   |   |   |   |--- longitud >  -58.48\n",
            "|   |   |   |   |   |   |   |   |   |   |--- property_surface_covered <= 50.50\n",
            "|   |   |   |   |   |   |   |   |   |   |   |--- truncated branch of depth 6\n",
            "|   |   |   |   |   |   |   |   |   |   |--- property_surface_covered >  50.50\n",
            "|   |   |   |   |   |   |   |   |   |   |   |--- class: alto\n",
            "|   |   |   |   |   |   |   |--- property_bedrooms >  1.50\n",
            "|   |   |   |   |   |   |   |   |--- latitud <= -34.55\n",
            "|   |   |   |   |   |   |   |   |   |--- property_surface_total <= 57.50\n",
            "|   |   |   |   |   |   |   |   |   |   |--- class: alto\n",
            "|   |   |   |   |   |   |   |   |   |--- property_surface_total >  57.50\n",
            "|   |   |   |   |   |   |   |   |   |   |--- property_surface_total <= 58.50\n",
            "|   |   |   |   |   |   |   |   |   |   |   |--- class: medio\n",
            "|   |   |   |   |   |   |   |   |   |   |--- property_surface_total >  58.50\n",
            "|   |   |   |   |   |   |   |   |   |   |   |--- truncated branch of depth 7\n",
            "|   |   |   |   |   |   |   |   |--- latitud >  -34.55\n",
            "|   |   |   |   |   |   |   |   |   |--- latitud <= -34.55\n",
            "|   |   |   |   |   |   |   |   |   |   |--- property_surface_covered <= 50.50\n",
            "|   |   |   |   |   |   |   |   |   |   |   |--- class: bajo\n",
            "|   |   |   |   |   |   |   |   |   |   |--- property_surface_covered >  50.50\n",
            "|   |   |   |   |   |   |   |   |   |   |   |--- class: medio\n",
            "|   |   |   |   |   |   |   |   |   |--- latitud >  -34.55\n",
            "|   |   |   |   |   |   |   |   |   |   |--- class: alto\n",
            "|   |   |   |   |   |   |--- neighbourhood_Coghlan >  0.50\n",
            "|   |   |   |   |   |   |   |--- property_surface_covered <= 31.00\n",
            "|   |   |   |   |   |   |   |   |--- class: bajo\n",
            "|   |   |   |   |   |   |   |--- property_surface_covered >  31.00\n",
            "|   |   |   |   |   |   |   |   |--- longitud <= -58.48\n",
            "|   |   |   |   |   |   |   |   |   |--- property_surface_total <= 54.00\n",
            "|   |   |   |   |   |   |   |   |   |   |--- class: medio\n",
            "|   |   |   |   |   |   |   |   |   |--- property_surface_total >  54.00\n",
            "|   |   |   |   |   |   |   |   |   |   |--- class: alto\n",
            "|   |   |   |   |   |   |   |   |--- longitud >  -58.48\n",
            "|   |   |   |   |   |   |   |   |   |--- class: alto\n",
            "|   |   |   |   |   |--- property_surface_total >  74.50\n",
            "|   |   |   |   |   |   |--- neighbourhood_Belgrano <= 0.50\n",
            "|   |   |   |   |   |   |   |--- property_surface_covered <= 61.50\n",
            "|   |   |   |   |   |   |   |   |--- latitud <= -34.55\n",
            "|   |   |   |   |   |   |   |   |   |--- latitud <= -34.55\n",
            "|   |   |   |   |   |   |   |   |   |   |--- class: medio\n",
            "|   |   |   |   |   |   |   |   |   |--- latitud >  -34.55\n",
            "|   |   |   |   |   |   |   |   |   |   |--- class: medio\n",
            "|   |   |   |   |   |   |   |   |--- latitud >  -34.55\n",
            "|   |   |   |   |   |   |   |   |   |--- class: alto\n",
            "|   |   |   |   |   |   |   |--- property_surface_covered >  61.50\n",
            "|   |   |   |   |   |   |   |   |--- class: alto\n",
            "|   |   |   |   |   |   |--- neighbourhood_Belgrano >  0.50\n",
            "|   |   |   |   |   |   |   |--- class: medio\n",
            "|   |   |   |--- property_surface_total >  77.50\n",
            "|   |   |   |   |--- property_surface_total <= 120.31\n",
            "|   |   |   |   |   |--- property_surface_covered <= 94.57\n",
            "|   |   |   |   |   |   |--- latitud <= -34.56\n",
            "|   |   |   |   |   |   |   |--- property_rooms <= 2.50\n",
            "|   |   |   |   |   |   |   |   |--- property_surface_total <= 106.41\n",
            "|   |   |   |   |   |   |   |   |   |--- property_surface_covered <= 37.50\n",
            "|   |   |   |   |   |   |   |   |   |   |--- class: bajo\n",
            "|   |   |   |   |   |   |   |   |   |--- property_surface_covered >  37.50\n",
            "|   |   |   |   |   |   |   |   |   |   |--- longitud <= -58.47\n",
            "|   |   |   |   |   |   |   |   |   |   |   |--- truncated branch of depth 5\n",
            "|   |   |   |   |   |   |   |   |   |   |--- longitud >  -58.47\n",
            "|   |   |   |   |   |   |   |   |   |   |   |--- class: alto\n",
            "|   |   |   |   |   |   |   |   |--- property_surface_total >  106.41\n",
            "|   |   |   |   |   |   |   |   |   |--- class: bajo\n",
            "|   |   |   |   |   |   |   |--- property_rooms >  2.50\n",
            "|   |   |   |   |   |   |   |   |--- property_surface_covered <= 51.50\n",
            "|   |   |   |   |   |   |   |   |   |--- class: bajo\n",
            "|   |   |   |   |   |   |   |   |--- property_surface_covered >  51.50\n",
            "|   |   |   |   |   |   |   |   |   |--- property_surface_total <= 90.22\n",
            "|   |   |   |   |   |   |   |   |   |   |--- property_surface_covered <= 81.50\n",
            "|   |   |   |   |   |   |   |   |   |   |   |--- truncated branch of depth 11\n",
            "|   |   |   |   |   |   |   |   |   |   |--- property_surface_covered >  81.50\n",
            "|   |   |   |   |   |   |   |   |   |   |   |--- truncated branch of depth 3\n",
            "|   |   |   |   |   |   |   |   |   |--- property_surface_total >  90.22\n",
            "|   |   |   |   |   |   |   |   |   |   |--- longitud <= -58.49\n",
            "|   |   |   |   |   |   |   |   |   |   |   |--- truncated branch of depth 14\n",
            "|   |   |   |   |   |   |   |   |   |   |--- longitud >  -58.49\n",
            "|   |   |   |   |   |   |   |   |   |   |   |--- truncated branch of depth 9\n",
            "|   |   |   |   |   |   |--- latitud >  -34.56\n",
            "|   |   |   |   |   |   |   |--- longitud <= -58.47\n",
            "|   |   |   |   |   |   |   |   |--- property_surface_covered <= 59.00\n",
            "|   |   |   |   |   |   |   |   |   |--- longitud <= -58.47\n",
            "|   |   |   |   |   |   |   |   |   |   |--- neighbourhood_Coghlan <= 0.50\n",
            "|   |   |   |   |   |   |   |   |   |   |   |--- class: medio\n",
            "|   |   |   |   |   |   |   |   |   |   |--- neighbourhood_Coghlan >  0.50\n",
            "|   |   |   |   |   |   |   |   |   |   |   |--- class: alto\n",
            "|   |   |   |   |   |   |   |   |   |--- longitud >  -58.47\n",
            "|   |   |   |   |   |   |   |   |   |   |--- class: alto\n",
            "|   |   |   |   |   |   |   |   |--- property_surface_covered >  59.00\n",
            "|   |   |   |   |   |   |   |   |   |--- property_rooms <= 4.50\n",
            "|   |   |   |   |   |   |   |   |   |   |--- neighbourhood_Saavedra <= 0.50\n",
            "|   |   |   |   |   |   |   |   |   |   |   |--- truncated branch of depth 5\n",
            "|   |   |   |   |   |   |   |   |   |   |--- neighbourhood_Saavedra >  0.50\n",
            "|   |   |   |   |   |   |   |   |   |   |   |--- truncated branch of depth 7\n",
            "|   |   |   |   |   |   |   |   |   |--- property_rooms >  4.50\n",
            "|   |   |   |   |   |   |   |   |   |   |--- longitud <= -58.48\n",
            "|   |   |   |   |   |   |   |   |   |   |   |--- class: bajo\n",
            "|   |   |   |   |   |   |   |   |   |   |--- longitud >  -58.48\n",
            "|   |   |   |   |   |   |   |   |   |   |   |--- class: medio\n",
            "|   |   |   |   |   |   |   |--- longitud >  -58.47\n",
            "|   |   |   |   |   |   |   |   |--- property_surface_total <= 104.00\n",
            "|   |   |   |   |   |   |   |   |   |--- property_surface_covered <= 84.50\n",
            "|   |   |   |   |   |   |   |   |   |   |--- property_type_PH <= 0.50\n",
            "|   |   |   |   |   |   |   |   |   |   |   |--- class: alto\n",
            "|   |   |   |   |   |   |   |   |   |   |--- property_type_PH >  0.50\n",
            "|   |   |   |   |   |   |   |   |   |   |   |--- truncated branch of depth 5\n",
            "|   |   |   |   |   |   |   |   |   |--- property_surface_covered >  84.50\n",
            "|   |   |   |   |   |   |   |   |   |   |--- latitud <= -34.55\n",
            "|   |   |   |   |   |   |   |   |   |   |   |--- class: alto\n",
            "|   |   |   |   |   |   |   |   |   |   |--- latitud >  -34.55\n",
            "|   |   |   |   |   |   |   |   |   |   |   |--- class: medio\n",
            "|   |   |   |   |   |   |   |   |--- property_surface_total >  104.00\n",
            "|   |   |   |   |   |   |   |   |   |--- class: medio\n",
            "|   |   |   |   |   |--- property_surface_covered >  94.57\n",
            "|   |   |   |   |   |   |--- longitud <= -58.49\n",
            "|   |   |   |   |   |   |   |--- property_surface_total <= 116.00\n",
            "|   |   |   |   |   |   |   |   |--- property_bedrooms <= 2.50\n",
            "|   |   |   |   |   |   |   |   |   |--- property_surface_total <= 111.50\n",
            "|   |   |   |   |   |   |   |   |   |   |--- neighbourhood_Villa Urquiza <= 0.50\n",
            "|   |   |   |   |   |   |   |   |   |   |   |--- class: medio\n",
            "|   |   |   |   |   |   |   |   |   |   |--- neighbourhood_Villa Urquiza >  0.50\n",
            "|   |   |   |   |   |   |   |   |   |   |   |--- truncated branch of depth 3\n",
            "|   |   |   |   |   |   |   |   |   |--- property_surface_total >  111.50\n",
            "|   |   |   |   |   |   |   |   |   |   |--- longitud <= -58.50\n",
            "|   |   |   |   |   |   |   |   |   |   |   |--- class: alto\n",
            "|   |   |   |   |   |   |   |   |   |   |--- longitud >  -58.50\n",
            "|   |   |   |   |   |   |   |   |   |   |   |--- truncated branch of depth 2\n",
            "|   |   |   |   |   |   |   |   |--- property_bedrooms >  2.50\n",
            "|   |   |   |   |   |   |   |   |   |--- latitud <= -34.59\n",
            "|   |   |   |   |   |   |   |   |   |   |--- class: medio\n",
            "|   |   |   |   |   |   |   |   |   |--- latitud >  -34.59\n",
            "|   |   |   |   |   |   |   |   |   |   |--- property_surface_covered <= 95.50\n",
            "|   |   |   |   |   |   |   |   |   |   |   |--- class: medio\n",
            "|   |   |   |   |   |   |   |   |   |   |--- property_surface_covered >  95.50\n",
            "|   |   |   |   |   |   |   |   |   |   |   |--- truncated branch of depth 3\n",
            "|   |   |   |   |   |   |   |--- property_surface_total >  116.00\n",
            "|   |   |   |   |   |   |   |   |--- class: medio\n",
            "|   |   |   |   |   |   |--- longitud >  -58.49\n",
            "|   |   |   |   |   |   |   |--- longitud <= -58.48\n",
            "|   |   |   |   |   |   |   |   |--- latitud <= -34.60\n",
            "|   |   |   |   |   |   |   |   |   |--- class: medio\n",
            "|   |   |   |   |   |   |   |   |--- latitud >  -34.60\n",
            "|   |   |   |   |   |   |   |   |   |--- neighbourhood_Saavedra <= 0.50\n",
            "|   |   |   |   |   |   |   |   |   |   |--- class: alto\n",
            "|   |   |   |   |   |   |   |   |   |--- neighbourhood_Saavedra >  0.50\n",
            "|   |   |   |   |   |   |   |   |   |   |--- property_surface_covered <= 108.50\n",
            "|   |   |   |   |   |   |   |   |   |   |   |--- class: medio\n",
            "|   |   |   |   |   |   |   |   |   |   |--- property_surface_covered >  108.50\n",
            "|   |   |   |   |   |   |   |   |   |   |   |--- class: alto\n",
            "|   |   |   |   |   |   |   |--- longitud >  -58.48\n",
            "|   |   |   |   |   |   |   |   |--- property_surface_covered <= 108.00\n",
            "|   |   |   |   |   |   |   |   |   |--- neighbourhood_Villa Urquiza <= 0.50\n",
            "|   |   |   |   |   |   |   |   |   |   |--- class: medio\n",
            "|   |   |   |   |   |   |   |   |   |--- neighbourhood_Villa Urquiza >  0.50\n",
            "|   |   |   |   |   |   |   |   |   |   |--- class: alto\n",
            "|   |   |   |   |   |   |   |   |--- property_surface_covered >  108.00\n",
            "|   |   |   |   |   |   |   |   |   |--- class: alto\n",
            "|   |   |   |   |--- property_surface_total >  120.31\n",
            "|   |   |   |   |   |--- property_surface_covered <= 121.35\n",
            "|   |   |   |   |   |   |--- property_surface_total <= 145.50\n",
            "|   |   |   |   |   |   |   |--- property_surface_covered <= 106.30\n",
            "|   |   |   |   |   |   |   |   |--- property_surface_covered <= 70.50\n",
            "|   |   |   |   |   |   |   |   |   |--- longitud <= -58.47\n",
            "|   |   |   |   |   |   |   |   |   |   |--- longitud <= -58.49\n",
            "|   |   |   |   |   |   |   |   |   |   |   |--- truncated branch of depth 6\n",
            "|   |   |   |   |   |   |   |   |   |   |--- longitud >  -58.49\n",
            "|   |   |   |   |   |   |   |   |   |   |   |--- class: medio\n",
            "|   |   |   |   |   |   |   |   |   |--- longitud >  -58.47\n",
            "|   |   |   |   |   |   |   |   |   |   |--- class: alto\n",
            "|   |   |   |   |   |   |   |   |--- property_surface_covered >  70.50\n",
            "|   |   |   |   |   |   |   |   |   |--- longitud <= -58.51\n",
            "|   |   |   |   |   |   |   |   |   |   |--- longitud <= -58.51\n",
            "|   |   |   |   |   |   |   |   |   |   |   |--- truncated branch of depth 2\n",
            "|   |   |   |   |   |   |   |   |   |   |--- longitud >  -58.51\n",
            "|   |   |   |   |   |   |   |   |   |   |   |--- truncated branch of depth 2\n",
            "|   |   |   |   |   |   |   |   |   |--- longitud >  -58.51\n",
            "|   |   |   |   |   |   |   |   |   |   |--- property_surface_total <= 144.50\n",
            "|   |   |   |   |   |   |   |   |   |   |   |--- truncated branch of depth 11\n",
            "|   |   |   |   |   |   |   |   |   |   |--- property_surface_total >  144.50\n",
            "|   |   |   |   |   |   |   |   |   |   |   |--- truncated branch of depth 3\n",
            "|   |   |   |   |   |   |   |--- property_surface_covered >  106.30\n",
            "|   |   |   |   |   |   |   |   |--- property_rooms <= 3.50\n",
            "|   |   |   |   |   |   |   |   |   |--- latitud <= -34.54\n",
            "|   |   |   |   |   |   |   |   |   |   |--- class: medio\n",
            "|   |   |   |   |   |   |   |   |   |--- latitud >  -34.54\n",
            "|   |   |   |   |   |   |   |   |   |   |--- class: alto\n",
            "|   |   |   |   |   |   |   |   |--- property_rooms >  3.50\n",
            "|   |   |   |   |   |   |   |   |   |--- property_surface_covered <= 107.50\n",
            "|   |   |   |   |   |   |   |   |   |   |--- class: alto\n",
            "|   |   |   |   |   |   |   |   |   |--- property_surface_covered >  107.50\n",
            "|   |   |   |   |   |   |   |   |   |   |--- longitud <= -58.47\n",
            "|   |   |   |   |   |   |   |   |   |   |   |--- truncated branch of depth 8\n",
            "|   |   |   |   |   |   |   |   |   |   |--- longitud >  -58.47\n",
            "|   |   |   |   |   |   |   |   |   |   |   |--- class: bajo\n",
            "|   |   |   |   |   |   |--- property_surface_total >  145.50\n",
            "|   |   |   |   |   |   |   |--- latitud <= -34.58\n",
            "|   |   |   |   |   |   |   |   |--- latitud <= -34.59\n",
            "|   |   |   |   |   |   |   |   |   |--- property_surface_covered <= 83.50\n",
            "|   |   |   |   |   |   |   |   |   |   |--- class: medio\n",
            "|   |   |   |   |   |   |   |   |   |--- property_surface_covered >  83.50\n",
            "|   |   |   |   |   |   |   |   |   |   |--- longitud <= -58.51\n",
            "|   |   |   |   |   |   |   |   |   |   |   |--- class: medio\n",
            "|   |   |   |   |   |   |   |   |   |   |--- longitud >  -58.51\n",
            "|   |   |   |   |   |   |   |   |   |   |   |--- truncated branch of depth 3\n",
            "|   |   |   |   |   |   |   |   |--- latitud >  -34.59\n",
            "|   |   |   |   |   |   |   |   |   |--- longitud <= -58.52\n",
            "|   |   |   |   |   |   |   |   |   |   |--- class: medio\n",
            "|   |   |   |   |   |   |   |   |   |--- longitud >  -58.52\n",
            "|   |   |   |   |   |   |   |   |   |   |--- latitud <= -34.59\n",
            "|   |   |   |   |   |   |   |   |   |   |   |--- truncated branch of depth 4\n",
            "|   |   |   |   |   |   |   |   |   |   |--- latitud >  -34.59\n",
            "|   |   |   |   |   |   |   |   |   |   |   |--- truncated branch of depth 4\n",
            "|   |   |   |   |   |   |   |--- latitud >  -34.58\n",
            "|   |   |   |   |   |   |   |   |--- property_surface_covered <= 80.50\n",
            "|   |   |   |   |   |   |   |   |   |--- property_surface_covered <= 65.50\n",
            "|   |   |   |   |   |   |   |   |   |   |--- class: bajo\n",
            "|   |   |   |   |   |   |   |   |   |--- property_surface_covered >  65.50\n",
            "|   |   |   |   |   |   |   |   |   |   |--- property_surface_covered <= 71.50\n",
            "|   |   |   |   |   |   |   |   |   |   |   |--- class: medio\n",
            "|   |   |   |   |   |   |   |   |   |   |--- property_surface_covered >  71.50\n",
            "|   |   |   |   |   |   |   |   |   |   |   |--- truncated branch of depth 3\n",
            "|   |   |   |   |   |   |   |   |--- property_surface_covered >  80.50\n",
            "|   |   |   |   |   |   |   |   |   |--- longitud <= -58.48\n",
            "|   |   |   |   |   |   |   |   |   |   |--- longitud <= -58.48\n",
            "|   |   |   |   |   |   |   |   |   |   |   |--- truncated branch of depth 9\n",
            "|   |   |   |   |   |   |   |   |   |   |--- longitud >  -58.48\n",
            "|   |   |   |   |   |   |   |   |   |   |   |--- truncated branch of depth 2\n",
            "|   |   |   |   |   |   |   |   |   |--- longitud >  -58.48\n",
            "|   |   |   |   |   |   |   |   |   |   |--- property_surface_total <= 172.50\n",
            "|   |   |   |   |   |   |   |   |   |   |   |--- class: medio\n",
            "|   |   |   |   |   |   |   |   |   |   |--- property_surface_total >  172.50\n",
            "|   |   |   |   |   |   |   |   |   |   |   |--- truncated branch of depth 2\n",
            "|   |   |   |   |   |--- property_surface_covered >  121.35\n",
            "|   |   |   |   |   |   |--- longitud <= -58.47\n",
            "|   |   |   |   |   |   |   |--- latitud <= -34.59\n",
            "|   |   |   |   |   |   |   |   |--- property_surface_covered <= 175.00\n",
            "|   |   |   |   |   |   |   |   |   |--- neighbourhood_Villa del Parque <= 0.50\n",
            "|   |   |   |   |   |   |   |   |   |   |--- property_surface_total <= 150.47\n",
            "|   |   |   |   |   |   |   |   |   |   |   |--- truncated branch of depth 2\n",
            "|   |   |   |   |   |   |   |   |   |   |--- property_surface_total >  150.47\n",
            "|   |   |   |   |   |   |   |   |   |   |   |--- class: medio\n",
            "|   |   |   |   |   |   |   |   |   |--- neighbourhood_Villa del Parque >  0.50\n",
            "|   |   |   |   |   |   |   |   |   |   |--- class: bajo\n",
            "|   |   |   |   |   |   |   |   |--- property_surface_covered >  175.00\n",
            "|   |   |   |   |   |   |   |   |   |--- class: alto\n",
            "|   |   |   |   |   |   |   |--- latitud >  -34.59\n",
            "|   |   |   |   |   |   |   |   |--- property_surface_total <= 147.74\n",
            "|   |   |   |   |   |   |   |   |   |--- property_surface_total <= 129.00\n",
            "|   |   |   |   |   |   |   |   |   |   |--- property_type_PH <= 0.50\n",
            "|   |   |   |   |   |   |   |   |   |   |   |--- class: alto\n",
            "|   |   |   |   |   |   |   |   |   |   |--- property_type_PH >  0.50\n",
            "|   |   |   |   |   |   |   |   |   |   |   |--- class: medio\n",
            "|   |   |   |   |   |   |   |   |   |--- property_surface_total >  129.00\n",
            "|   |   |   |   |   |   |   |   |   |   |--- property_surface_covered <= 124.50\n",
            "|   |   |   |   |   |   |   |   |   |   |   |--- truncated branch of depth 2\n",
            "|   |   |   |   |   |   |   |   |   |   |--- property_surface_covered >  124.50\n",
            "|   |   |   |   |   |   |   |   |   |   |   |--- truncated branch of depth 6\n",
            "|   |   |   |   |   |   |   |   |--- property_surface_total >  147.74\n",
            "|   |   |   |   |   |   |   |   |   |--- longitud <= -58.51\n",
            "|   |   |   |   |   |   |   |   |   |   |--- class: alto\n",
            "|   |   |   |   |   |   |   |   |   |--- longitud >  -58.51\n",
            "|   |   |   |   |   |   |   |   |   |   |--- longitud <= -58.49\n",
            "|   |   |   |   |   |   |   |   |   |   |   |--- truncated branch of depth 6\n",
            "|   |   |   |   |   |   |   |   |   |   |--- longitud >  -58.49\n",
            "|   |   |   |   |   |   |   |   |   |   |   |--- truncated branch of depth 12\n",
            "|   |   |   |   |   |   |--- longitud >  -58.47\n",
            "|   |   |   |   |   |   |   |--- neighbourhood_Paternal <= 0.50\n",
            "|   |   |   |   |   |   |   |   |--- longitud <= -58.47\n",
            "|   |   |   |   |   |   |   |   |   |--- latitud <= -34.56\n",
            "|   |   |   |   |   |   |   |   |   |   |--- class: alto\n",
            "|   |   |   |   |   |   |   |   |   |--- latitud >  -34.56\n",
            "|   |   |   |   |   |   |   |   |   |   |--- property_type_PH <= 0.50\n",
            "|   |   |   |   |   |   |   |   |   |   |   |--- truncated branch of depth 2\n",
            "|   |   |   |   |   |   |   |   |   |   |--- property_type_PH >  0.50\n",
            "|   |   |   |   |   |   |   |   |   |   |   |--- class: bajo\n",
            "|   |   |   |   |   |   |   |   |--- longitud >  -58.47\n",
            "|   |   |   |   |   |   |   |   |   |--- class: medio\n",
            "|   |   |   |   |   |   |   |--- neighbourhood_Paternal >  0.50\n",
            "|   |   |   |   |   |   |   |   |--- class: bajo\n",
            "|   |   |--- property_type_Departamento >  0.50\n",
            "|   |   |   |--- property_surface_total <= 49.50\n",
            "|   |   |   |   |--- latitud <= -34.54\n",
            "|   |   |   |   |   |--- longitud <= -58.47\n",
            "|   |   |   |   |   |   |--- neighbourhood_Villa Urquiza <= 0.50\n",
            "|   |   |   |   |   |   |   |--- latitud <= -34.59\n",
            "|   |   |   |   |   |   |   |   |--- longitud <= -58.48\n",
            "|   |   |   |   |   |   |   |   |   |--- latitud <= -34.59\n",
            "|   |   |   |   |   |   |   |   |   |   |--- longitud <= -58.50\n",
            "|   |   |   |   |   |   |   |   |   |   |   |--- truncated branch of depth 9\n",
            "|   |   |   |   |   |   |   |   |   |   |--- longitud >  -58.50\n",
            "|   |   |   |   |   |   |   |   |   |   |   |--- truncated branch of depth 10\n",
            "|   |   |   |   |   |   |   |   |   |--- latitud >  -34.59\n",
            "|   |   |   |   |   |   |   |   |   |   |--- class: alto\n",
            "|   |   |   |   |   |   |   |   |--- longitud >  -58.48\n",
            "|   |   |   |   |   |   |   |   |   |--- class: bajo\n",
            "|   |   |   |   |   |   |   |--- latitud >  -34.59\n",
            "|   |   |   |   |   |   |   |   |--- property_surface_total <= 47.50\n",
            "|   |   |   |   |   |   |   |   |   |--- longitud <= -58.48\n",
            "|   |   |   |   |   |   |   |   |   |   |--- longitud <= -58.48\n",
            "|   |   |   |   |   |   |   |   |   |   |   |--- truncated branch of depth 15\n",
            "|   |   |   |   |   |   |   |   |   |   |--- longitud >  -58.48\n",
            "|   |   |   |   |   |   |   |   |   |   |   |--- truncated branch of depth 4\n",
            "|   |   |   |   |   |   |   |   |   |--- longitud >  -58.48\n",
            "|   |   |   |   |   |   |   |   |   |   |--- neighbourhood_Coghlan <= 0.50\n",
            "|   |   |   |   |   |   |   |   |   |   |   |--- truncated branch of depth 12\n",
            "|   |   |   |   |   |   |   |   |   |   |--- neighbourhood_Coghlan >  0.50\n",
            "|   |   |   |   |   |   |   |   |   |   |   |--- truncated branch of depth 10\n",
            "|   |   |   |   |   |   |   |   |--- property_surface_total >  47.50\n",
            "|   |   |   |   |   |   |   |   |   |--- latitud <= -34.54\n",
            "|   |   |   |   |   |   |   |   |   |   |--- neighbourhood_Nuñez <= 0.50\n",
            "|   |   |   |   |   |   |   |   |   |   |   |--- truncated branch of depth 9\n",
            "|   |   |   |   |   |   |   |   |   |   |--- neighbourhood_Nuñez >  0.50\n",
            "|   |   |   |   |   |   |   |   |   |   |   |--- class: alto\n",
            "|   |   |   |   |   |   |   |   |   |--- latitud >  -34.54\n",
            "|   |   |   |   |   |   |   |   |   |   |--- property_bedrooms <= 1.50\n",
            "|   |   |   |   |   |   |   |   |   |   |   |--- class: bajo\n",
            "|   |   |   |   |   |   |   |   |   |   |--- property_bedrooms >  1.50\n",
            "|   |   |   |   |   |   |   |   |   |   |   |--- class: medio\n",
            "|   |   |   |   |   |   |--- neighbourhood_Villa Urquiza >  0.50\n",
            "|   |   |   |   |   |   |   |--- longitud <= -58.49\n",
            "|   |   |   |   |   |   |   |   |--- property_rooms <= 2.50\n",
            "|   |   |   |   |   |   |   |   |   |--- property_surface_total <= 23.50\n",
            "|   |   |   |   |   |   |   |   |   |   |--- class: alto\n",
            "|   |   |   |   |   |   |   |   |   |--- property_surface_total >  23.50\n",
            "|   |   |   |   |   |   |   |   |   |   |--- longitud <= -58.50\n",
            "|   |   |   |   |   |   |   |   |   |   |   |--- truncated branch of depth 4\n",
            "|   |   |   |   |   |   |   |   |   |   |--- longitud >  -58.50\n",
            "|   |   |   |   |   |   |   |   |   |   |   |--- truncated branch of depth 11\n",
            "|   |   |   |   |   |   |   |   |--- property_rooms >  2.50\n",
            "|   |   |   |   |   |   |   |   |   |--- property_surface_covered <= 44.00\n",
            "|   |   |   |   |   |   |   |   |   |   |--- class: alto\n",
            "|   |   |   |   |   |   |   |   |   |--- property_surface_covered >  44.00\n",
            "|   |   |   |   |   |   |   |   |   |   |--- longitud <= -58.50\n",
            "|   |   |   |   |   |   |   |   |   |   |   |--- class: alto\n",
            "|   |   |   |   |   |   |   |   |   |   |--- longitud >  -58.50\n",
            "|   |   |   |   |   |   |   |   |   |   |   |--- class: medio\n",
            "|   |   |   |   |   |   |   |--- longitud >  -58.49\n",
            "|   |   |   |   |   |   |   |   |--- latitud <= -34.58\n",
            "|   |   |   |   |   |   |   |   |   |--- latitud <= -34.58\n",
            "|   |   |   |   |   |   |   |   |   |   |--- property_surface_covered <= 37.50\n",
            "|   |   |   |   |   |   |   |   |   |   |   |--- truncated branch of depth 13\n",
            "|   |   |   |   |   |   |   |   |   |   |--- property_surface_covered >  37.50\n",
            "|   |   |   |   |   |   |   |   |   |   |   |--- truncated branch of depth 10\n",
            "|   |   |   |   |   |   |   |   |   |--- latitud >  -34.58\n",
            "|   |   |   |   |   |   |   |   |   |   |--- longitud <= -58.48\n",
            "|   |   |   |   |   |   |   |   |   |   |   |--- class: alto\n",
            "|   |   |   |   |   |   |   |   |   |   |--- longitud >  -58.48\n",
            "|   |   |   |   |   |   |   |   |   |   |   |--- truncated branch of depth 3\n",
            "|   |   |   |   |   |   |   |   |--- latitud >  -34.58\n",
            "|   |   |   |   |   |   |   |   |   |--- property_rooms <= 1.50\n",
            "|   |   |   |   |   |   |   |   |   |   |--- latitud <= -34.57\n",
            "|   |   |   |   |   |   |   |   |   |   |   |--- truncated branch of depth 13\n",
            "|   |   |   |   |   |   |   |   |   |   |--- latitud >  -34.57\n",
            "|   |   |   |   |   |   |   |   |   |   |   |--- truncated branch of depth 5\n",
            "|   |   |   |   |   |   |   |   |   |--- property_rooms >  1.50\n",
            "|   |   |   |   |   |   |   |   |   |   |--- latitud <= -34.57\n",
            "|   |   |   |   |   |   |   |   |   |   |   |--- truncated branch of depth 9\n",
            "|   |   |   |   |   |   |   |   |   |   |--- latitud >  -34.57\n",
            "|   |   |   |   |   |   |   |   |   |   |   |--- truncated branch of depth 12\n",
            "|   |   |   |   |   |--- longitud >  -58.47\n",
            "|   |   |   |   |   |   |--- latitud <= -34.58\n",
            "|   |   |   |   |   |   |   |--- longitud <= -58.47\n",
            "|   |   |   |   |   |   |   |   |--- class: medio\n",
            "|   |   |   |   |   |   |   |--- longitud >  -58.47\n",
            "|   |   |   |   |   |   |   |   |--- property_surface_covered <= 39.50\n",
            "|   |   |   |   |   |   |   |   |   |--- property_surface_total <= 39.50\n",
            "|   |   |   |   |   |   |   |   |   |   |--- longitud <= -58.47\n",
            "|   |   |   |   |   |   |   |   |   |   |   |--- truncated branch of depth 6\n",
            "|   |   |   |   |   |   |   |   |   |   |--- longitud >  -58.47\n",
            "|   |   |   |   |   |   |   |   |   |   |   |--- class: medio\n",
            "|   |   |   |   |   |   |   |   |   |--- property_surface_total >  39.50\n",
            "|   |   |   |   |   |   |   |   |   |   |--- longitud <= -58.47\n",
            "|   |   |   |   |   |   |   |   |   |   |   |--- class: bajo\n",
            "|   |   |   |   |   |   |   |   |   |   |--- longitud >  -58.47\n",
            "|   |   |   |   |   |   |   |   |   |   |   |--- truncated branch of depth 2\n",
            "|   |   |   |   |   |   |   |   |--- property_surface_covered >  39.50\n",
            "|   |   |   |   |   |   |   |   |   |--- neighbourhood_Villa Urquiza <= 0.50\n",
            "|   |   |   |   |   |   |   |   |   |   |--- longitud <= -58.47\n",
            "|   |   |   |   |   |   |   |   |   |   |   |--- class: medio\n",
            "|   |   |   |   |   |   |   |   |   |   |--- longitud >  -58.47\n",
            "|   |   |   |   |   |   |   |   |   |   |   |--- class: bajo\n",
            "|   |   |   |   |   |   |   |   |   |--- neighbourhood_Villa Urquiza >  0.50\n",
            "|   |   |   |   |   |   |   |   |   |   |--- class: alto\n",
            "|   |   |   |   |   |   |--- latitud >  -34.58\n",
            "|   |   |   |   |   |   |   |--- latitud <= -34.54\n",
            "|   |   |   |   |   |   |   |   |--- longitud <= -58.47\n",
            "|   |   |   |   |   |   |   |   |   |--- longitud <= -58.47\n",
            "|   |   |   |   |   |   |   |   |   |   |--- property_surface_covered <= 33.50\n",
            "|   |   |   |   |   |   |   |   |   |   |   |--- truncated branch of depth 4\n",
            "|   |   |   |   |   |   |   |   |   |   |--- property_surface_covered >  33.50\n",
            "|   |   |   |   |   |   |   |   |   |   |   |--- truncated branch of depth 8\n",
            "|   |   |   |   |   |   |   |   |   |--- longitud >  -58.47\n",
            "|   |   |   |   |   |   |   |   |   |   |--- latitud <= -34.56\n",
            "|   |   |   |   |   |   |   |   |   |   |   |--- truncated branch of depth 3\n",
            "|   |   |   |   |   |   |   |   |   |   |--- latitud >  -34.56\n",
            "|   |   |   |   |   |   |   |   |   |   |   |--- truncated branch of depth 2\n",
            "|   |   |   |   |   |   |   |   |--- longitud >  -58.47\n",
            "|   |   |   |   |   |   |   |   |   |--- latitud <= -34.55\n",
            "|   |   |   |   |   |   |   |   |   |   |--- property_rooms <= 2.50\n",
            "|   |   |   |   |   |   |   |   |   |   |   |--- truncated branch of depth 14\n",
            "|   |   |   |   |   |   |   |   |   |   |--- property_rooms >  2.50\n",
            "|   |   |   |   |   |   |   |   |   |   |   |--- truncated branch of depth 5\n",
            "|   |   |   |   |   |   |   |   |   |--- latitud >  -34.55\n",
            "|   |   |   |   |   |   |   |   |   |   |--- longitud <= -58.47\n",
            "|   |   |   |   |   |   |   |   |   |   |   |--- truncated branch of depth 8\n",
            "|   |   |   |   |   |   |   |   |   |   |--- longitud >  -58.47\n",
            "|   |   |   |   |   |   |   |   |   |   |   |--- truncated branch of depth 15\n",
            "|   |   |   |   |   |   |   |--- latitud >  -34.54\n",
            "|   |   |   |   |   |   |   |   |--- longitud <= -58.47\n",
            "|   |   |   |   |   |   |   |   |   |--- property_surface_covered <= 38.00\n",
            "|   |   |   |   |   |   |   |   |   |   |--- longitud <= -58.47\n",
            "|   |   |   |   |   |   |   |   |   |   |   |--- class: bajo\n",
            "|   |   |   |   |   |   |   |   |   |   |--- longitud >  -58.47\n",
            "|   |   |   |   |   |   |   |   |   |   |   |--- truncated branch of depth 2\n",
            "|   |   |   |   |   |   |   |   |   |--- property_surface_covered >  38.00\n",
            "|   |   |   |   |   |   |   |   |   |   |--- longitud <= -58.47\n",
            "|   |   |   |   |   |   |   |   |   |   |   |--- truncated branch of depth 4\n",
            "|   |   |   |   |   |   |   |   |   |   |--- longitud >  -58.47\n",
            "|   |   |   |   |   |   |   |   |   |   |   |--- truncated branch of depth 3\n",
            "|   |   |   |   |   |   |   |   |--- longitud >  -58.47\n",
            "|   |   |   |   |   |   |   |   |   |--- property_surface_total <= 41.50\n",
            "|   |   |   |   |   |   |   |   |   |   |--- class: medio\n",
            "|   |   |   |   |   |   |   |   |   |--- property_surface_total >  41.50\n",
            "|   |   |   |   |   |   |   |   |   |   |--- property_surface_total <= 46.00\n",
            "|   |   |   |   |   |   |   |   |   |   |   |--- truncated branch of depth 2\n",
            "|   |   |   |   |   |   |   |   |   |   |--- property_surface_total >  46.00\n",
            "|   |   |   |   |   |   |   |   |   |   |   |--- truncated branch of depth 2\n",
            "|   |   |   |   |--- latitud >  -34.54\n",
            "|   |   |   |   |   |--- property_surface_covered <= 39.50\n",
            "|   |   |   |   |   |   |--- property_surface_covered <= 28.50\n",
            "|   |   |   |   |   |   |   |--- class: alto\n",
            "|   |   |   |   |   |   |--- property_surface_covered >  28.50\n",
            "|   |   |   |   |   |   |   |--- longitud <= -58.47\n",
            "|   |   |   |   |   |   |   |   |--- property_rooms <= 1.50\n",
            "|   |   |   |   |   |   |   |   |   |--- class: bajo\n",
            "|   |   |   |   |   |   |   |   |--- property_rooms >  1.50\n",
            "|   |   |   |   |   |   |   |   |   |--- class: alto\n",
            "|   |   |   |   |   |   |   |--- longitud >  -58.47\n",
            "|   |   |   |   |   |   |   |   |--- latitud <= -34.54\n",
            "|   |   |   |   |   |   |   |   |   |--- longitud <= -58.47\n",
            "|   |   |   |   |   |   |   |   |   |   |--- property_surface_covered <= 36.00\n",
            "|   |   |   |   |   |   |   |   |   |   |   |--- truncated branch of depth 2\n",
            "|   |   |   |   |   |   |   |   |   |   |--- property_surface_covered >  36.00\n",
            "|   |   |   |   |   |   |   |   |   |   |   |--- class: medio\n",
            "|   |   |   |   |   |   |   |   |   |--- longitud >  -58.47\n",
            "|   |   |   |   |   |   |   |   |   |   |--- class: alto\n",
            "|   |   |   |   |   |   |   |   |--- latitud >  -34.54\n",
            "|   |   |   |   |   |   |   |   |   |--- class: alto\n",
            "|   |   |   |   |   |--- property_surface_covered >  39.50\n",
            "|   |   |   |   |   |   |--- class: alto\n",
            "|   |   |   |--- property_surface_total >  49.50\n",
            "|   |   |   |   |--- property_surface_covered <= 43.50\n",
            "|   |   |   |   |   |--- property_surface_total <= 61.07\n",
            "|   |   |   |   |   |   |--- property_surface_covered <= 32.50\n",
            "|   |   |   |   |   |   |   |--- longitud <= -58.49\n",
            "|   |   |   |   |   |   |   |   |--- class: bajo\n",
            "|   |   |   |   |   |   |   |--- longitud >  -58.49\n",
            "|   |   |   |   |   |   |   |   |--- longitud <= -58.48\n",
            "|   |   |   |   |   |   |   |   |   |--- class: medio\n",
            "|   |   |   |   |   |   |   |   |--- longitud >  -58.48\n",
            "|   |   |   |   |   |   |   |   |   |--- longitud <= -58.47\n",
            "|   |   |   |   |   |   |   |   |   |   |--- longitud <= -58.47\n",
            "|   |   |   |   |   |   |   |   |   |   |   |--- truncated branch of depth 4\n",
            "|   |   |   |   |   |   |   |   |   |   |--- longitud >  -58.47\n",
            "|   |   |   |   |   |   |   |   |   |   |   |--- class: medio\n",
            "|   |   |   |   |   |   |   |   |   |--- longitud >  -58.47\n",
            "|   |   |   |   |   |   |   |   |   |   |--- property_surface_total <= 54.70\n",
            "|   |   |   |   |   |   |   |   |   |   |   |--- class: alto\n",
            "|   |   |   |   |   |   |   |   |   |   |--- property_surface_total >  54.70\n",
            "|   |   |   |   |   |   |   |   |   |   |   |--- class: bajo\n",
            "|   |   |   |   |   |   |--- property_surface_covered >  32.50\n",
            "|   |   |   |   |   |   |   |--- latitud <= -34.55\n",
            "|   |   |   |   |   |   |   |   |--- property_rooms <= 1.50\n",
            "|   |   |   |   |   |   |   |   |   |--- latitud <= -34.56\n",
            "|   |   |   |   |   |   |   |   |   |   |--- neighbourhood_Villa Urquiza <= 0.50\n",
            "|   |   |   |   |   |   |   |   |   |   |   |--- class: bajo\n",
            "|   |   |   |   |   |   |   |   |   |   |--- neighbourhood_Villa Urquiza >  0.50\n",
            "|   |   |   |   |   |   |   |   |   |   |   |--- truncated branch of depth 3\n",
            "|   |   |   |   |   |   |   |   |   |--- latitud >  -34.56\n",
            "|   |   |   |   |   |   |   |   |   |   |--- latitud <= -34.55\n",
            "|   |   |   |   |   |   |   |   |   |   |   |--- truncated branch of depth 5\n",
            "|   |   |   |   |   |   |   |   |   |   |--- latitud >  -34.55\n",
            "|   |   |   |   |   |   |   |   |   |   |   |--- truncated branch of depth 2\n",
            "|   |   |   |   |   |   |   |   |--- property_rooms >  1.50\n",
            "|   |   |   |   |   |   |   |   |   |--- property_surface_total <= 59.50\n",
            "|   |   |   |   |   |   |   |   |   |   |--- longitud <= -58.47\n",
            "|   |   |   |   |   |   |   |   |   |   |   |--- truncated branch of depth 13\n",
            "|   |   |   |   |   |   |   |   |   |   |--- longitud >  -58.47\n",
            "|   |   |   |   |   |   |   |   |   |   |   |--- class: alto\n",
            "|   |   |   |   |   |   |   |   |   |--- property_surface_total >  59.50\n",
            "|   |   |   |   |   |   |   |   |   |   |--- property_surface_covered <= 34.50\n",
            "|   |   |   |   |   |   |   |   |   |   |   |--- class: bajo\n",
            "|   |   |   |   |   |   |   |   |   |   |--- property_surface_covered >  34.50\n",
            "|   |   |   |   |   |   |   |   |   |   |   |--- class: medio\n",
            "|   |   |   |   |   |   |   |--- latitud >  -34.55\n",
            "|   |   |   |   |   |   |   |   |--- latitud <= -34.55\n",
            "|   |   |   |   |   |   |   |   |   |--- class: alto\n",
            "|   |   |   |   |   |   |   |   |--- latitud >  -34.55\n",
            "|   |   |   |   |   |   |   |   |   |--- latitud <= -34.54\n",
            "|   |   |   |   |   |   |   |   |   |   |--- class: medio\n",
            "|   |   |   |   |   |   |   |   |   |--- latitud >  -34.54\n",
            "|   |   |   |   |   |   |   |   |   |   |--- longitud <= -58.47\n",
            "|   |   |   |   |   |   |   |   |   |   |   |--- class: bajo\n",
            "|   |   |   |   |   |   |   |   |   |   |--- longitud >  -58.47\n",
            "|   |   |   |   |   |   |   |   |   |   |   |--- class: bajo\n",
            "|   |   |   |   |   |--- property_surface_total >  61.07\n",
            "|   |   |   |   |   |   |--- longitud <= -58.48\n",
            "|   |   |   |   |   |   |   |--- property_surface_covered <= 36.50\n",
            "|   |   |   |   |   |   |   |   |--- class: bajo\n",
            "|   |   |   |   |   |   |   |--- property_surface_covered >  36.50\n",
            "|   |   |   |   |   |   |   |   |--- property_surface_total <= 70.31\n",
            "|   |   |   |   |   |   |   |   |   |--- property_surface_covered <= 41.50\n",
            "|   |   |   |   |   |   |   |   |   |   |--- property_surface_total <= 69.88\n",
            "|   |   |   |   |   |   |   |   |   |   |   |--- truncated branch of depth 6\n",
            "|   |   |   |   |   |   |   |   |   |   |--- property_surface_total >  69.88\n",
            "|   |   |   |   |   |   |   |   |   |   |   |--- class: medio\n",
            "|   |   |   |   |   |   |   |   |   |--- property_surface_covered >  41.50\n",
            "|   |   |   |   |   |   |   |   |   |   |--- property_surface_covered <= 42.50\n",
            "|   |   |   |   |   |   |   |   |   |   |   |--- class: medio\n",
            "|   |   |   |   |   |   |   |   |   |   |--- property_surface_covered >  42.50\n",
            "|   |   |   |   |   |   |   |   |   |   |   |--- truncated branch of depth 2\n",
            "|   |   |   |   |   |   |   |   |--- property_surface_total >  70.31\n",
            "|   |   |   |   |   |   |   |   |   |--- longitud <= -58.51\n",
            "|   |   |   |   |   |   |   |   |   |   |--- latitud <= -34.58\n",
            "|   |   |   |   |   |   |   |   |   |   |   |--- class: bajo\n",
            "|   |   |   |   |   |   |   |   |   |   |--- latitud >  -34.58\n",
            "|   |   |   |   |   |   |   |   |   |   |   |--- class: medio\n",
            "|   |   |   |   |   |   |   |   |   |--- longitud >  -58.51\n",
            "|   |   |   |   |   |   |   |   |   |   |--- property_surface_covered <= 37.50\n",
            "|   |   |   |   |   |   |   |   |   |   |   |--- truncated branch of depth 2\n",
            "|   |   |   |   |   |   |   |   |   |   |--- property_surface_covered >  37.50\n",
            "|   |   |   |   |   |   |   |   |   |   |   |--- class: bajo\n",
            "|   |   |   |   |   |   |--- longitud >  -58.48\n",
            "|   |   |   |   |   |   |   |--- latitud <= -34.55\n",
            "|   |   |   |   |   |   |   |   |--- latitud <= -34.58\n",
            "|   |   |   |   |   |   |   |   |   |--- longitud <= -58.48\n",
            "|   |   |   |   |   |   |   |   |   |   |--- class: medio\n",
            "|   |   |   |   |   |   |   |   |   |--- longitud >  -58.48\n",
            "|   |   |   |   |   |   |   |   |   |   |--- longitud <= -58.47\n",
            "|   |   |   |   |   |   |   |   |   |   |   |--- truncated branch of depth 3\n",
            "|   |   |   |   |   |   |   |   |   |   |--- longitud >  -58.47\n",
            "|   |   |   |   |   |   |   |   |   |   |   |--- class: medio\n",
            "|   |   |   |   |   |   |   |   |--- latitud >  -34.58\n",
            "|   |   |   |   |   |   |   |   |   |--- latitud <= -34.57\n",
            "|   |   |   |   |   |   |   |   |   |   |--- class: medio\n",
            "|   |   |   |   |   |   |   |   |   |--- latitud >  -34.57\n",
            "|   |   |   |   |   |   |   |   |   |   |--- latitud <= -34.55\n",
            "|   |   |   |   |   |   |   |   |   |   |   |--- truncated branch of depth 6\n",
            "|   |   |   |   |   |   |   |   |   |   |--- latitud >  -34.55\n",
            "|   |   |   |   |   |   |   |   |   |   |   |--- class: medio\n",
            "|   |   |   |   |   |   |   |--- latitud >  -34.55\n",
            "|   |   |   |   |   |   |   |   |--- class: bajo\n",
            "|   |   |   |   |--- property_surface_covered >  43.50\n",
            "|   |   |   |   |   |--- longitud <= -58.49\n",
            "|   |   |   |   |   |   |--- longitud <= -58.51\n",
            "|   |   |   |   |   |   |   |--- latitud <= -34.59\n",
            "|   |   |   |   |   |   |   |   |--- property_surface_covered <= 54.50\n",
            "|   |   |   |   |   |   |   |   |   |--- property_surface_covered <= 51.50\n",
            "|   |   |   |   |   |   |   |   |   |   |--- property_rooms <= 2.50\n",
            "|   |   |   |   |   |   |   |   |   |   |   |--- class: medio\n",
            "|   |   |   |   |   |   |   |   |   |   |--- property_rooms >  2.50\n",
            "|   |   |   |   |   |   |   |   |   |   |   |--- class: medio\n",
            "|   |   |   |   |   |   |   |   |   |--- property_surface_covered >  51.50\n",
            "|   |   |   |   |   |   |   |   |   |   |--- class: bajo\n",
            "|   |   |   |   |   |   |   |   |--- property_surface_covered >  54.50\n",
            "|   |   |   |   |   |   |   |   |   |--- property_bedrooms <= 2.50\n",
            "|   |   |   |   |   |   |   |   |   |   |--- latitud <= -34.60\n",
            "|   |   |   |   |   |   |   |   |   |   |   |--- truncated branch of depth 4\n",
            "|   |   |   |   |   |   |   |   |   |   |--- latitud >  -34.60\n",
            "|   |   |   |   |   |   |   |   |   |   |   |--- truncated branch of depth 6\n",
            "|   |   |   |   |   |   |   |   |   |--- property_bedrooms >  2.50\n",
            "|   |   |   |   |   |   |   |   |   |   |--- property_surface_total <= 129.00\n",
            "|   |   |   |   |   |   |   |   |   |   |   |--- class: medio\n",
            "|   |   |   |   |   |   |   |   |   |   |--- property_surface_total >  129.00\n",
            "|   |   |   |   |   |   |   |   |   |   |   |--- truncated branch of depth 3\n",
            "|   |   |   |   |   |   |   |--- latitud >  -34.59\n",
            "|   |   |   |   |   |   |   |   |--- latitud <= -34.58\n",
            "|   |   |   |   |   |   |   |   |   |--- longitud <= -58.52\n",
            "|   |   |   |   |   |   |   |   |   |   |--- class: medio\n",
            "|   |   |   |   |   |   |   |   |   |--- longitud >  -58.52\n",
            "|   |   |   |   |   |   |   |   |   |   |--- latitud <= -34.59\n",
            "|   |   |   |   |   |   |   |   |   |   |   |--- truncated branch of depth 6\n",
            "|   |   |   |   |   |   |   |   |   |   |--- latitud >  -34.59\n",
            "|   |   |   |   |   |   |   |   |   |   |   |--- truncated branch of depth 11\n",
            "|   |   |   |   |   |   |   |   |--- latitud >  -34.58\n",
            "|   |   |   |   |   |   |   |   |   |--- longitud <= -58.51\n",
            "|   |   |   |   |   |   |   |   |   |   |--- class: bajo\n",
            "|   |   |   |   |   |   |   |   |   |--- longitud >  -58.51\n",
            "|   |   |   |   |   |   |   |   |   |   |--- class: medio\n",
            "|   |   |   |   |   |   |--- longitud >  -58.51\n",
            "|   |   |   |   |   |   |   |--- property_surface_total <= 107.35\n",
            "|   |   |   |   |   |   |   |   |--- longitud <= -58.49\n",
            "|   |   |   |   |   |   |   |   |   |--- latitud <= -34.59\n",
            "|   |   |   |   |   |   |   |   |   |   |--- property_surface_covered <= 55.53\n",
            "|   |   |   |   |   |   |   |   |   |   |   |--- truncated branch of depth 7\n",
            "|   |   |   |   |   |   |   |   |   |   |--- property_surface_covered >  55.53\n",
            "|   |   |   |   |   |   |   |   |   |   |   |--- truncated branch of depth 11\n",
            "|   |   |   |   |   |   |   |   |   |--- latitud >  -34.59\n",
            "|   |   |   |   |   |   |   |   |   |   |--- latitud <= -34.59\n",
            "|   |   |   |   |   |   |   |   |   |   |   |--- class: medio\n",
            "|   |   |   |   |   |   |   |   |   |   |--- latitud >  -34.59\n",
            "|   |   |   |   |   |   |   |   |   |   |   |--- truncated branch of depth 17\n",
            "|   |   |   |   |   |   |   |   |--- longitud >  -58.49\n",
            "|   |   |   |   |   |   |   |   |   |--- latitud <= -34.57\n",
            "|   |   |   |   |   |   |   |   |   |   |--- longitud <= -58.49\n",
            "|   |   |   |   |   |   |   |   |   |   |   |--- class: bajo\n",
            "|   |   |   |   |   |   |   |   |   |   |--- longitud >  -58.49\n",
            "|   |   |   |   |   |   |   |   |   |   |   |--- truncated branch of depth 5\n",
            "|   |   |   |   |   |   |   |   |   |--- latitud >  -34.57\n",
            "|   |   |   |   |   |   |   |   |   |   |--- latitud <= -34.56\n",
            "|   |   |   |   |   |   |   |   |   |   |   |--- truncated branch of depth 2\n",
            "|   |   |   |   |   |   |   |   |   |   |--- latitud >  -34.56\n",
            "|   |   |   |   |   |   |   |   |   |   |   |--- truncated branch of depth 2\n",
            "|   |   |   |   |   |   |   |--- property_surface_total >  107.35\n",
            "|   |   |   |   |   |   |   |   |--- latitud <= -34.59\n",
            "|   |   |   |   |   |   |   |   |   |--- property_surface_covered <= 110.50\n",
            "|   |   |   |   |   |   |   |   |   |   |--- property_surface_covered <= 96.00\n",
            "|   |   |   |   |   |   |   |   |   |   |   |--- truncated branch of depth 2\n",
            "|   |   |   |   |   |   |   |   |   |   |--- property_surface_covered >  96.00\n",
            "|   |   |   |   |   |   |   |   |   |   |   |--- truncated branch of depth 2\n",
            "|   |   |   |   |   |   |   |   |   |--- property_surface_covered >  110.50\n",
            "|   |   |   |   |   |   |   |   |   |   |--- latitud <= -34.59\n",
            "|   |   |   |   |   |   |   |   |   |   |   |--- class: bajo\n",
            "|   |   |   |   |   |   |   |   |   |   |--- latitud >  -34.59\n",
            "|   |   |   |   |   |   |   |   |   |   |   |--- class: medio\n",
            "|   |   |   |   |   |   |   |   |--- latitud >  -34.59\n",
            "|   |   |   |   |   |   |   |   |   |--- longitud <= -58.50\n",
            "|   |   |   |   |   |   |   |   |   |   |--- class: bajo\n",
            "|   |   |   |   |   |   |   |   |   |--- longitud >  -58.50\n",
            "|   |   |   |   |   |   |   |   |   |   |--- property_surface_covered <= 64.00\n",
            "|   |   |   |   |   |   |   |   |   |   |   |--- class: bajo\n",
            "|   |   |   |   |   |   |   |   |   |   |--- property_surface_covered >  64.00\n",
            "|   |   |   |   |   |   |   |   |   |   |   |--- truncated branch of depth 5\n",
            "|   |   |   |   |   |--- longitud >  -58.49\n",
            "|   |   |   |   |   |   |--- neighbourhood_Villa Urquiza <= 0.50\n",
            "|   |   |   |   |   |   |   |--- latitud <= -34.58\n",
            "|   |   |   |   |   |   |   |   |--- latitud <= -34.58\n",
            "|   |   |   |   |   |   |   |   |   |--- neighbourhood_Paternal <= 0.50\n",
            "|   |   |   |   |   |   |   |   |   |   |--- latitud <= -34.60\n",
            "|   |   |   |   |   |   |   |   |   |   |   |--- truncated branch of depth 4\n",
            "|   |   |   |   |   |   |   |   |   |   |--- latitud >  -34.60\n",
            "|   |   |   |   |   |   |   |   |   |   |   |--- truncated branch of depth 14\n",
            "|   |   |   |   |   |   |   |   |   |--- neighbourhood_Paternal >  0.50\n",
            "|   |   |   |   |   |   |   |   |   |   |--- property_surface_total <= 53.50\n",
            "|   |   |   |   |   |   |   |   |   |   |   |--- class: medio\n",
            "|   |   |   |   |   |   |   |   |   |   |--- property_surface_total >  53.50\n",
            "|   |   |   |   |   |   |   |   |   |   |   |--- truncated branch of depth 3\n",
            "|   |   |   |   |   |   |   |   |--- latitud >  -34.58\n",
            "|   |   |   |   |   |   |   |   |   |--- longitud <= -58.47\n",
            "|   |   |   |   |   |   |   |   |   |   |--- property_surface_total <= 50.50\n",
            "|   |   |   |   |   |   |   |   |   |   |   |--- class: bajo\n",
            "|   |   |   |   |   |   |   |   |   |   |--- property_surface_total >  50.50\n",
            "|   |   |   |   |   |   |   |   |   |   |   |--- truncated branch of depth 3\n",
            "|   |   |   |   |   |   |   |   |   |--- longitud >  -58.47\n",
            "|   |   |   |   |   |   |   |   |   |   |--- class: bajo\n",
            "|   |   |   |   |   |   |   |--- latitud >  -34.58\n",
            "|   |   |   |   |   |   |   |   |--- longitud <= -58.47\n",
            "|   |   |   |   |   |   |   |   |   |--- latitud <= -34.56\n",
            "|   |   |   |   |   |   |   |   |   |   |--- property_surface_covered <= 104.50\n",
            "|   |   |   |   |   |   |   |   |   |   |   |--- truncated branch of depth 13\n",
            "|   |   |   |   |   |   |   |   |   |   |--- property_surface_covered >  104.50\n",
            "|   |   |   |   |   |   |   |   |   |   |   |--- truncated branch of depth 4\n",
            "|   |   |   |   |   |   |   |   |   |--- latitud >  -34.56\n",
            "|   |   |   |   |   |   |   |   |   |   |--- property_surface_covered <= 120.00\n",
            "|   |   |   |   |   |   |   |   |   |   |   |--- truncated branch of depth 24\n",
            "|   |   |   |   |   |   |   |   |   |   |--- property_surface_covered >  120.00\n",
            "|   |   |   |   |   |   |   |   |   |   |   |--- truncated branch of depth 3\n",
            "|   |   |   |   |   |   |   |   |--- longitud >  -58.47\n",
            "|   |   |   |   |   |   |   |   |   |--- longitud <= -58.47\n",
            "|   |   |   |   |   |   |   |   |   |   |--- class: alto\n",
            "|   |   |   |   |   |   |   |   |   |--- longitud >  -58.47\n",
            "|   |   |   |   |   |   |   |   |   |   |--- property_surface_total <= 146.50\n",
            "|   |   |   |   |   |   |   |   |   |   |   |--- truncated branch of depth 20\n",
            "|   |   |   |   |   |   |   |   |   |   |--- property_surface_total >  146.50\n",
            "|   |   |   |   |   |   |   |   |   |   |   |--- truncated branch of depth 7\n",
            "|   |   |   |   |   |   |--- neighbourhood_Villa Urquiza >  0.50\n",
            "|   |   |   |   |   |   |   |--- latitud <= -34.57\n",
            "|   |   |   |   |   |   |   |   |--- property_surface_covered <= 62.50\n",
            "|   |   |   |   |   |   |   |   |   |--- property_surface_total <= 79.12\n",
            "|   |   |   |   |   |   |   |   |   |   |--- property_surface_total <= 60.50\n",
            "|   |   |   |   |   |   |   |   |   |   |   |--- truncated branch of depth 14\n",
            "|   |   |   |   |   |   |   |   |   |   |--- property_surface_total >  60.50\n",
            "|   |   |   |   |   |   |   |   |   |   |   |--- truncated branch of depth 14\n",
            "|   |   |   |   |   |   |   |   |   |--- property_surface_total >  79.12\n",
            "|   |   |   |   |   |   |   |   |   |   |--- property_surface_covered <= 55.50\n",
            "|   |   |   |   |   |   |   |   |   |   |   |--- truncated branch of depth 2\n",
            "|   |   |   |   |   |   |   |   |   |   |--- property_surface_covered >  55.50\n",
            "|   |   |   |   |   |   |   |   |   |   |   |--- truncated branch of depth 5\n",
            "|   |   |   |   |   |   |   |   |--- property_surface_covered >  62.50\n",
            "|   |   |   |   |   |   |   |   |   |--- property_bedrooms <= 2.50\n",
            "|   |   |   |   |   |   |   |   |   |   |--- property_surface_total <= 90.22\n",
            "|   |   |   |   |   |   |   |   |   |   |   |--- truncated branch of depth 21\n",
            "|   |   |   |   |   |   |   |   |   |   |--- property_surface_total >  90.22\n",
            "|   |   |   |   |   |   |   |   |   |   |   |--- truncated branch of depth 12\n",
            "|   |   |   |   |   |   |   |   |   |--- property_bedrooms >  2.50\n",
            "|   |   |   |   |   |   |   |   |   |   |--- latitud <= -34.57\n",
            "|   |   |   |   |   |   |   |   |   |   |   |--- truncated branch of depth 13\n",
            "|   |   |   |   |   |   |   |   |   |   |--- latitud >  -34.57\n",
            "|   |   |   |   |   |   |   |   |   |   |   |--- truncated branch of depth 12\n",
            "|   |   |   |   |   |   |   |--- latitud >  -34.57\n",
            "|   |   |   |   |   |   |   |   |--- property_bedrooms <= 1.50\n",
            "|   |   |   |   |   |   |   |   |   |--- property_surface_total <= 73.89\n",
            "|   |   |   |   |   |   |   |   |   |   |--- longitud <= -58.48\n",
            "|   |   |   |   |   |   |   |   |   |   |   |--- truncated branch of depth 7\n",
            "|   |   |   |   |   |   |   |   |   |   |--- longitud >  -58.48\n",
            "|   |   |   |   |   |   |   |   |   |   |   |--- truncated branch of depth 3\n",
            "|   |   |   |   |   |   |   |   |   |--- property_surface_total >  73.89\n",
            "|   |   |   |   |   |   |   |   |   |   |--- property_surface_covered <= 61.00\n",
            "|   |   |   |   |   |   |   |   |   |   |   |--- class: bajo\n",
            "|   |   |   |   |   |   |   |   |   |   |--- property_surface_covered >  61.00\n",
            "|   |   |   |   |   |   |   |   |   |   |   |--- class: medio\n",
            "|   |   |   |   |   |   |   |   |--- property_bedrooms >  1.50\n",
            "|   |   |   |   |   |   |   |   |   |--- longitud <= -58.49\n",
            "|   |   |   |   |   |   |   |   |   |   |--- property_surface_total <= 71.50\n",
            "|   |   |   |   |   |   |   |   |   |   |   |--- truncated branch of depth 7\n",
            "|   |   |   |   |   |   |   |   |   |   |--- property_surface_total >  71.50\n",
            "|   |   |   |   |   |   |   |   |   |   |   |--- truncated branch of depth 4\n",
            "|   |   |   |   |   |   |   |   |   |--- longitud >  -58.49\n",
            "|   |   |   |   |   |   |   |   |   |   |--- property_surface_total <= 132.50\n",
            "|   |   |   |   |   |   |   |   |   |   |   |--- truncated branch of depth 7\n",
            "|   |   |   |   |   |   |   |   |   |   |--- property_surface_total >  132.50\n",
            "|   |   |   |   |   |   |   |   |   |   |   |--- truncated branch of depth 2\n",
            "|   |--- longitud >  -58.47\n",
            "|   |   |--- latitud <= -34.59\n",
            "|   |   |   |--- longitud <= -58.44\n",
            "|   |   |   |   |--- latitud <= -34.60\n",
            "|   |   |   |   |   |--- property_surface_covered <= 46.50\n",
            "|   |   |   |   |   |   |--- latitud <= -34.60\n",
            "|   |   |   |   |   |   |   |--- longitud <= -58.44\n",
            "|   |   |   |   |   |   |   |   |--- class: bajo\n",
            "|   |   |   |   |   |   |   |--- longitud >  -58.44\n",
            "|   |   |   |   |   |   |   |   |--- property_surface_covered <= 34.50\n",
            "|   |   |   |   |   |   |   |   |   |--- class: medio\n",
            "|   |   |   |   |   |   |   |   |--- property_surface_covered >  34.50\n",
            "|   |   |   |   |   |   |   |   |   |--- property_surface_covered <= 39.50\n",
            "|   |   |   |   |   |   |   |   |   |   |--- class: bajo\n",
            "|   |   |   |   |   |   |   |   |   |--- property_surface_covered >  39.50\n",
            "|   |   |   |   |   |   |   |   |   |   |--- class: alto\n",
            "|   |   |   |   |   |   |--- latitud >  -34.60\n",
            "|   |   |   |   |   |   |   |--- property_surface_covered <= 40.50\n",
            "|   |   |   |   |   |   |   |   |--- property_rooms <= 1.50\n",
            "|   |   |   |   |   |   |   |   |   |--- property_surface_total <= 50.27\n",
            "|   |   |   |   |   |   |   |   |   |   |--- class: medio\n",
            "|   |   |   |   |   |   |   |   |   |--- property_surface_total >  50.27\n",
            "|   |   |   |   |   |   |   |   |   |   |--- class: bajo\n",
            "|   |   |   |   |   |   |   |   |--- property_rooms >  1.50\n",
            "|   |   |   |   |   |   |   |   |   |--- latitud <= -34.60\n",
            "|   |   |   |   |   |   |   |   |   |   |--- class: alto\n",
            "|   |   |   |   |   |   |   |   |   |--- latitud >  -34.60\n",
            "|   |   |   |   |   |   |   |   |   |   |--- latitud <= -34.60\n",
            "|   |   |   |   |   |   |   |   |   |   |   |--- class: bajo\n",
            "|   |   |   |   |   |   |   |   |   |   |--- latitud >  -34.60\n",
            "|   |   |   |   |   |   |   |   |   |   |   |--- truncated branch of depth 7\n",
            "|   |   |   |   |   |   |   |--- property_surface_covered >  40.50\n",
            "|   |   |   |   |   |   |   |   |--- longitud <= -58.45\n",
            "|   |   |   |   |   |   |   |   |   |--- class: bajo\n",
            "|   |   |   |   |   |   |   |   |--- longitud >  -58.45\n",
            "|   |   |   |   |   |   |   |   |   |--- class: medio\n",
            "|   |   |   |   |   |--- property_surface_covered >  46.50\n",
            "|   |   |   |   |   |   |--- property_surface_total <= 60.00\n",
            "|   |   |   |   |   |   |   |--- class: medio\n",
            "|   |   |   |   |   |   |--- property_surface_total >  60.00\n",
            "|   |   |   |   |   |   |   |--- longitud <= -58.45\n",
            "|   |   |   |   |   |   |   |   |--- property_type_PH <= 0.50\n",
            "|   |   |   |   |   |   |   |   |   |--- property_surface_covered <= 56.68\n",
            "|   |   |   |   |   |   |   |   |   |   |--- class: medio\n",
            "|   |   |   |   |   |   |   |   |   |--- property_surface_covered >  56.68\n",
            "|   |   |   |   |   |   |   |   |   |   |--- longitud <= -58.45\n",
            "|   |   |   |   |   |   |   |   |   |   |   |--- truncated branch of depth 2\n",
            "|   |   |   |   |   |   |   |   |   |   |--- longitud >  -58.45\n",
            "|   |   |   |   |   |   |   |   |   |   |   |--- class: bajo\n",
            "|   |   |   |   |   |   |   |   |--- property_type_PH >  0.50\n",
            "|   |   |   |   |   |   |   |   |   |--- class: medio\n",
            "|   |   |   |   |   |   |   |--- longitud >  -58.45\n",
            "|   |   |   |   |   |   |   |   |--- neighbourhood_Villa Crespo <= 0.50\n",
            "|   |   |   |   |   |   |   |   |   |--- class: alto\n",
            "|   |   |   |   |   |   |   |   |--- neighbourhood_Villa Crespo >  0.50\n",
            "|   |   |   |   |   |   |   |   |   |--- property_surface_covered <= 63.00\n",
            "|   |   |   |   |   |   |   |   |   |   |--- property_surface_total <= 66.00\n",
            "|   |   |   |   |   |   |   |   |   |   |   |--- class: medio\n",
            "|   |   |   |   |   |   |   |   |   |   |--- property_surface_total >  66.00\n",
            "|   |   |   |   |   |   |   |   |   |   |   |--- truncated branch of depth 3\n",
            "|   |   |   |   |   |   |   |   |   |--- property_surface_covered >  63.00\n",
            "|   |   |   |   |   |   |   |   |   |   |--- class: medio\n",
            "|   |   |   |   |--- latitud >  -34.60\n",
            "|   |   |   |   |   |--- longitud <= -58.45\n",
            "|   |   |   |   |   |   |--- latitud <= -34.60\n",
            "|   |   |   |   |   |   |   |--- neighbourhood_Paternal <= 0.50\n",
            "|   |   |   |   |   |   |   |   |--- property_surface_total <= 64.50\n",
            "|   |   |   |   |   |   |   |   |   |--- latitud <= -34.60\n",
            "|   |   |   |   |   |   |   |   |   |   |--- class: bajo\n",
            "|   |   |   |   |   |   |   |   |   |--- latitud >  -34.60\n",
            "|   |   |   |   |   |   |   |   |   |   |--- property_rooms <= 3.50\n",
            "|   |   |   |   |   |   |   |   |   |   |   |--- class: medio\n",
            "|   |   |   |   |   |   |   |   |   |   |--- property_rooms >  3.50\n",
            "|   |   |   |   |   |   |   |   |   |   |   |--- class: alto\n",
            "|   |   |   |   |   |   |   |   |--- property_surface_total >  64.50\n",
            "|   |   |   |   |   |   |   |   |   |--- class: bajo\n",
            "|   |   |   |   |   |   |   |--- neighbourhood_Paternal >  0.50\n",
            "|   |   |   |   |   |   |   |   |--- property_surface_covered <= 82.50\n",
            "|   |   |   |   |   |   |   |   |   |--- class: medio\n",
            "|   |   |   |   |   |   |   |   |--- property_surface_covered >  82.50\n",
            "|   |   |   |   |   |   |   |   |   |--- class: bajo\n",
            "|   |   |   |   |   |   |--- latitud >  -34.60\n",
            "|   |   |   |   |   |   |   |--- property_surface_covered <= 54.00\n",
            "|   |   |   |   |   |   |   |   |--- property_type_PH <= 0.50\n",
            "|   |   |   |   |   |   |   |   |   |--- class: bajo\n",
            "|   |   |   |   |   |   |   |   |--- property_type_PH >  0.50\n",
            "|   |   |   |   |   |   |   |   |   |--- class: medio\n",
            "|   |   |   |   |   |   |   |--- property_surface_covered >  54.00\n",
            "|   |   |   |   |   |   |   |   |--- latitud <= -34.59\n",
            "|   |   |   |   |   |   |   |   |   |--- neighbourhood_Paternal <= 0.50\n",
            "|   |   |   |   |   |   |   |   |   |   |--- class: medio\n",
            "|   |   |   |   |   |   |   |   |   |--- neighbourhood_Paternal >  0.50\n",
            "|   |   |   |   |   |   |   |   |   |   |--- latitud <= -34.59\n",
            "|   |   |   |   |   |   |   |   |   |   |   |--- class: medio\n",
            "|   |   |   |   |   |   |   |   |   |   |--- latitud >  -34.59\n",
            "|   |   |   |   |   |   |   |   |   |   |   |--- class: bajo\n",
            "|   |   |   |   |   |   |   |   |--- latitud >  -34.59\n",
            "|   |   |   |   |   |   |   |   |   |--- class: alto\n",
            "|   |   |   |   |   |--- longitud >  -58.45\n",
            "|   |   |   |   |   |   |--- latitud <= -34.59\n",
            "|   |   |   |   |   |   |   |--- latitud <= -34.60\n",
            "|   |   |   |   |   |   |   |   |--- property_type_PH <= 0.50\n",
            "|   |   |   |   |   |   |   |   |   |--- property_rooms <= 4.50\n",
            "|   |   |   |   |   |   |   |   |   |   |--- property_surface_total <= 63.50\n",
            "|   |   |   |   |   |   |   |   |   |   |   |--- truncated branch of depth 7\n",
            "|   |   |   |   |   |   |   |   |   |   |--- property_surface_total >  63.50\n",
            "|   |   |   |   |   |   |   |   |   |   |   |--- truncated branch of depth 5\n",
            "|   |   |   |   |   |   |   |   |   |--- property_rooms >  4.50\n",
            "|   |   |   |   |   |   |   |   |   |   |--- class: medio\n",
            "|   |   |   |   |   |   |   |   |--- property_type_PH >  0.50\n",
            "|   |   |   |   |   |   |   |   |   |--- property_surface_total <= 51.50\n",
            "|   |   |   |   |   |   |   |   |   |   |--- class: medio\n",
            "|   |   |   |   |   |   |   |   |   |--- property_surface_total >  51.50\n",
            "|   |   |   |   |   |   |   |   |   |   |--- latitud <= -34.60\n",
            "|   |   |   |   |   |   |   |   |   |   |   |--- class: medio\n",
            "|   |   |   |   |   |   |   |   |   |   |--- latitud >  -34.60\n",
            "|   |   |   |   |   |   |   |   |   |   |   |--- truncated branch of depth 3\n",
            "|   |   |   |   |   |   |   |--- latitud >  -34.60\n",
            "|   |   |   |   |   |   |   |   |--- latitud <= -34.60\n",
            "|   |   |   |   |   |   |   |   |   |--- class: medio\n",
            "|   |   |   |   |   |   |   |   |--- latitud >  -34.60\n",
            "|   |   |   |   |   |   |   |   |   |--- latitud <= -34.59\n",
            "|   |   |   |   |   |   |   |   |   |   |--- latitud <= -34.59\n",
            "|   |   |   |   |   |   |   |   |   |   |   |--- truncated branch of depth 5\n",
            "|   |   |   |   |   |   |   |   |   |   |--- latitud >  -34.59\n",
            "|   |   |   |   |   |   |   |   |   |   |   |--- class: bajo\n",
            "|   |   |   |   |   |   |   |   |   |--- latitud >  -34.59\n",
            "|   |   |   |   |   |   |   |   |   |   |--- neighbourhood_Chacarita <= 0.50\n",
            "|   |   |   |   |   |   |   |   |   |   |   |--- class: medio\n",
            "|   |   |   |   |   |   |   |   |   |   |--- neighbourhood_Chacarita >  0.50\n",
            "|   |   |   |   |   |   |   |   |   |   |   |--- class: bajo\n",
            "|   |   |   |   |   |   |--- latitud >  -34.59\n",
            "|   |   |   |   |   |   |   |--- property_type_Departamento <= 0.50\n",
            "|   |   |   |   |   |   |   |   |--- property_surface_total <= 99.50\n",
            "|   |   |   |   |   |   |   |   |   |--- class: medio\n",
            "|   |   |   |   |   |   |   |   |--- property_surface_total >  99.50\n",
            "|   |   |   |   |   |   |   |   |   |--- class: bajo\n",
            "|   |   |   |   |   |   |   |--- property_type_Departamento >  0.50\n",
            "|   |   |   |   |   |   |   |   |--- property_surface_total <= 31.00\n",
            "|   |   |   |   |   |   |   |   |   |--- class: medio\n",
            "|   |   |   |   |   |   |   |   |--- property_surface_total >  31.00\n",
            "|   |   |   |   |   |   |   |   |   |--- property_surface_covered <= 100.50\n",
            "|   |   |   |   |   |   |   |   |   |   |--- property_surface_total <= 38.00\n",
            "|   |   |   |   |   |   |   |   |   |   |   |--- class: bajo\n",
            "|   |   |   |   |   |   |   |   |   |   |--- property_surface_total >  38.00\n",
            "|   |   |   |   |   |   |   |   |   |   |   |--- truncated branch of depth 7\n",
            "|   |   |   |   |   |   |   |   |   |--- property_surface_covered >  100.50\n",
            "|   |   |   |   |   |   |   |   |   |   |--- class: medio\n",
            "|   |   |   |--- longitud >  -58.44\n",
            "|   |   |   |   |--- property_type_Departamento <= 0.50\n",
            "|   |   |   |   |   |--- neighbourhood_Retiro <= 0.50\n",
            "|   |   |   |   |   |   |--- longitud <= -58.44\n",
            "|   |   |   |   |   |   |   |--- property_bedrooms <= 2.50\n",
            "|   |   |   |   |   |   |   |   |--- class: medio\n",
            "|   |   |   |   |   |   |   |--- property_bedrooms >  2.50\n",
            "|   |   |   |   |   |   |   |   |--- latitud <= -34.60\n",
            "|   |   |   |   |   |   |   |   |   |--- class: medio\n",
            "|   |   |   |   |   |   |   |   |--- latitud >  -34.60\n",
            "|   |   |   |   |   |   |   |   |   |--- class: bajo\n",
            "|   |   |   |   |   |   |--- longitud >  -58.44\n",
            "|   |   |   |   |   |   |   |--- property_surface_total <= 76.50\n",
            "|   |   |   |   |   |   |   |   |--- neighbourhood_Barrio Norte <= 0.50\n",
            "|   |   |   |   |   |   |   |   |   |--- longitud <= -58.40\n",
            "|   |   |   |   |   |   |   |   |   |   |--- longitud <= -58.42\n",
            "|   |   |   |   |   |   |   |   |   |   |   |--- truncated branch of depth 7\n",
            "|   |   |   |   |   |   |   |   |   |   |--- longitud >  -58.42\n",
            "|   |   |   |   |   |   |   |   |   |   |   |--- truncated branch of depth 3\n",
            "|   |   |   |   |   |   |   |   |   |--- longitud >  -58.40\n",
            "|   |   |   |   |   |   |   |   |   |   |--- class: medio\n",
            "|   |   |   |   |   |   |   |   |--- neighbourhood_Barrio Norte >  0.50\n",
            "|   |   |   |   |   |   |   |   |   |--- class: medio\n",
            "|   |   |   |   |   |   |   |--- property_surface_total >  76.50\n",
            "|   |   |   |   |   |   |   |   |--- property_type_PH <= 0.50\n",
            "|   |   |   |   |   |   |   |   |   |--- neighbourhood_Villa Crespo <= 0.50\n",
            "|   |   |   |   |   |   |   |   |   |   |--- latitud <= -34.59\n",
            "|   |   |   |   |   |   |   |   |   |   |   |--- class: alto\n",
            "|   |   |   |   |   |   |   |   |   |   |--- latitud >  -34.59\n",
            "|   |   |   |   |   |   |   |   |   |   |   |--- truncated branch of depth 2\n",
            "|   |   |   |   |   |   |   |   |   |--- neighbourhood_Villa Crespo >  0.50\n",
            "|   |   |   |   |   |   |   |   |   |   |--- class: medio\n",
            "|   |   |   |   |   |   |   |   |--- property_type_PH >  0.50\n",
            "|   |   |   |   |   |   |   |   |   |--- property_surface_total <= 166.50\n",
            "|   |   |   |   |   |   |   |   |   |   |--- latitud <= -34.60\n",
            "|   |   |   |   |   |   |   |   |   |   |   |--- class: alto\n",
            "|   |   |   |   |   |   |   |   |   |   |--- latitud >  -34.60\n",
            "|   |   |   |   |   |   |   |   |   |   |   |--- truncated branch of depth 12\n",
            "|   |   |   |   |   |   |   |   |   |--- property_surface_total >  166.50\n",
            "|   |   |   |   |   |   |   |   |   |   |--- property_surface_covered <= 97.00\n",
            "|   |   |   |   |   |   |   |   |   |   |   |--- class: medio\n",
            "|   |   |   |   |   |   |   |   |   |   |--- property_surface_covered >  97.00\n",
            "|   |   |   |   |   |   |   |   |   |   |   |--- truncated branch of depth 3\n",
            "|   |   |   |   |   |--- neighbourhood_Retiro >  0.50\n",
            "|   |   |   |   |   |   |--- property_type_PH <= 0.50\n",
            "|   |   |   |   |   |   |   |--- class: bajo\n",
            "|   |   |   |   |   |   |--- property_type_PH >  0.50\n",
            "|   |   |   |   |   |   |   |--- property_rooms <= 3.00\n",
            "|   |   |   |   |   |   |   |   |--- class: medio\n",
            "|   |   |   |   |   |   |   |--- property_rooms >  3.00\n",
            "|   |   |   |   |   |   |   |   |--- class: alto\n",
            "|   |   |   |   |--- property_type_Departamento >  0.50\n",
            "|   |   |   |   |   |--- longitud <= -58.38\n",
            "|   |   |   |   |   |   |--- longitud <= -58.40\n",
            "|   |   |   |   |   |   |   |--- property_surface_total <= 60.13\n",
            "|   |   |   |   |   |   |   |   |--- longitud <= -58.43\n",
            "|   |   |   |   |   |   |   |   |   |--- property_surface_covered <= 27.00\n",
            "|   |   |   |   |   |   |   |   |   |   |--- longitud <= -58.44\n",
            "|   |   |   |   |   |   |   |   |   |   |   |--- class: alto\n",
            "|   |   |   |   |   |   |   |   |   |   |--- longitud >  -58.44\n",
            "|   |   |   |   |   |   |   |   |   |   |   |--- class: medio\n",
            "|   |   |   |   |   |   |   |   |   |--- property_surface_covered >  27.00\n",
            "|   |   |   |   |   |   |   |   |   |   |--- longitud <= -58.44\n",
            "|   |   |   |   |   |   |   |   |   |   |   |--- truncated branch of depth 5\n",
            "|   |   |   |   |   |   |   |   |   |   |--- longitud >  -58.44\n",
            "|   |   |   |   |   |   |   |   |   |   |   |--- truncated branch of depth 14\n",
            "|   |   |   |   |   |   |   |   |--- longitud >  -58.43\n",
            "|   |   |   |   |   |   |   |   |   |--- longitud <= -58.42\n",
            "|   |   |   |   |   |   |   |   |   |   |--- longitud <= -58.42\n",
            "|   |   |   |   |   |   |   |   |   |   |   |--- truncated branch of depth 19\n",
            "|   |   |   |   |   |   |   |   |   |   |--- longitud >  -58.42\n",
            "|   |   |   |   |   |   |   |   |   |   |   |--- truncated branch of depth 14\n",
            "|   |   |   |   |   |   |   |   |   |--- longitud >  -58.42\n",
            "|   |   |   |   |   |   |   |   |   |   |--- longitud <= -58.42\n",
            "|   |   |   |   |   |   |   |   |   |   |   |--- truncated branch of depth 7\n",
            "|   |   |   |   |   |   |   |   |   |   |--- longitud >  -58.42\n",
            "|   |   |   |   |   |   |   |   |   |   |   |--- truncated branch of depth 18\n",
            "|   |   |   |   |   |   |   |--- property_surface_total >  60.13\n",
            "|   |   |   |   |   |   |   |   |--- property_surface_covered <= 49.50\n",
            "|   |   |   |   |   |   |   |   |   |--- longitud <= -58.41\n",
            "|   |   |   |   |   |   |   |   |   |   |--- latitud <= -34.59\n",
            "|   |   |   |   |   |   |   |   |   |   |   |--- truncated branch of depth 6\n",
            "|   |   |   |   |   |   |   |   |   |   |--- latitud >  -34.59\n",
            "|   |   |   |   |   |   |   |   |   |   |   |--- truncated branch of depth 5\n",
            "|   |   |   |   |   |   |   |   |   |--- longitud >  -58.41\n",
            "|   |   |   |   |   |   |   |   |   |   |--- latitud <= -34.59\n",
            "|   |   |   |   |   |   |   |   |   |   |   |--- truncated branch of depth 2\n",
            "|   |   |   |   |   |   |   |   |   |   |--- latitud >  -34.59\n",
            "|   |   |   |   |   |   |   |   |   |   |   |--- truncated branch of depth 3\n",
            "|   |   |   |   |   |   |   |   |--- property_surface_covered >  49.50\n",
            "|   |   |   |   |   |   |   |   |   |--- longitud <= -58.41\n",
            "|   |   |   |   |   |   |   |   |   |   |--- longitud <= -58.42\n",
            "|   |   |   |   |   |   |   |   |   |   |   |--- truncated branch of depth 13\n",
            "|   |   |   |   |   |   |   |   |   |   |--- longitud >  -58.42\n",
            "|   |   |   |   |   |   |   |   |   |   |   |--- truncated branch of depth 18\n",
            "|   |   |   |   |   |   |   |   |   |--- longitud >  -58.41\n",
            "|   |   |   |   |   |   |   |   |   |   |--- property_surface_covered <= 55.50\n",
            "|   |   |   |   |   |   |   |   |   |   |   |--- truncated branch of depth 4\n",
            "|   |   |   |   |   |   |   |   |   |   |--- property_surface_covered >  55.50\n",
            "|   |   |   |   |   |   |   |   |   |   |   |--- truncated branch of depth 17\n",
            "|   |   |   |   |   |   |--- longitud >  -58.40\n",
            "|   |   |   |   |   |   |   |--- latitud <= -34.60\n",
            "|   |   |   |   |   |   |   |   |--- longitud <= -58.38\n",
            "|   |   |   |   |   |   |   |   |   |--- neighbourhood_Retiro <= 0.50\n",
            "|   |   |   |   |   |   |   |   |   |   |--- property_rooms <= 3.50\n",
            "|   |   |   |   |   |   |   |   |   |   |   |--- truncated branch of depth 15\n",
            "|   |   |   |   |   |   |   |   |   |   |--- property_rooms >  3.50\n",
            "|   |   |   |   |   |   |   |   |   |   |   |--- truncated branch of depth 13\n",
            "|   |   |   |   |   |   |   |   |   |--- neighbourhood_Retiro >  0.50\n",
            "|   |   |   |   |   |   |   |   |   |   |--- latitud <= -34.60\n",
            "|   |   |   |   |   |   |   |   |   |   |   |--- truncated branch of depth 3\n",
            "|   |   |   |   |   |   |   |   |   |   |--- latitud >  -34.60\n",
            "|   |   |   |   |   |   |   |   |   |   |   |--- truncated branch of depth 11\n",
            "|   |   |   |   |   |   |   |   |--- longitud >  -58.38\n",
            "|   |   |   |   |   |   |   |   |   |--- property_surface_total <= 59.50\n",
            "|   |   |   |   |   |   |   |   |   |   |--- property_rooms <= 2.50\n",
            "|   |   |   |   |   |   |   |   |   |   |   |--- truncated branch of depth 4\n",
            "|   |   |   |   |   |   |   |   |   |   |--- property_rooms >  2.50\n",
            "|   |   |   |   |   |   |   |   |   |   |   |--- class: bajo\n",
            "|   |   |   |   |   |   |   |   |   |--- property_surface_total >  59.50\n",
            "|   |   |   |   |   |   |   |   |   |   |--- property_surface_covered <= 71.50\n",
            "|   |   |   |   |   |   |   |   |   |   |   |--- class: medio\n",
            "|   |   |   |   |   |   |   |   |   |   |--- property_surface_covered >  71.50\n",
            "|   |   |   |   |   |   |   |   |   |   |   |--- truncated branch of depth 2\n",
            "|   |   |   |   |   |   |   |--- latitud >  -34.60\n",
            "|   |   |   |   |   |   |   |   |--- property_surface_total <= 152.26\n",
            "|   |   |   |   |   |   |   |   |   |--- longitud <= -58.40\n",
            "|   |   |   |   |   |   |   |   |   |   |--- property_surface_total <= 57.50\n",
            "|   |   |   |   |   |   |   |   |   |   |   |--- truncated branch of depth 4\n",
            "|   |   |   |   |   |   |   |   |   |   |--- property_surface_total >  57.50\n",
            "|   |   |   |   |   |   |   |   |   |   |   |--- truncated branch of depth 3\n",
            "|   |   |   |   |   |   |   |   |   |--- longitud >  -58.40\n",
            "|   |   |   |   |   |   |   |   |   |   |--- longitud <= -58.40\n",
            "|   |   |   |   |   |   |   |   |   |   |   |--- truncated branch of depth 8\n",
            "|   |   |   |   |   |   |   |   |   |   |--- longitud >  -58.40\n",
            "|   |   |   |   |   |   |   |   |   |   |   |--- truncated branch of depth 19\n",
            "|   |   |   |   |   |   |   |   |--- property_surface_total >  152.26\n",
            "|   |   |   |   |   |   |   |   |   |--- longitud <= -58.39\n",
            "|   |   |   |   |   |   |   |   |   |   |--- longitud <= -58.39\n",
            "|   |   |   |   |   |   |   |   |   |   |   |--- truncated branch of depth 6\n",
            "|   |   |   |   |   |   |   |   |   |   |--- longitud >  -58.39\n",
            "|   |   |   |   |   |   |   |   |   |   |   |--- truncated branch of depth 4\n",
            "|   |   |   |   |   |   |   |   |   |--- longitud >  -58.39\n",
            "|   |   |   |   |   |   |   |   |   |   |--- longitud <= -58.38\n",
            "|   |   |   |   |   |   |   |   |   |   |   |--- truncated branch of depth 8\n",
            "|   |   |   |   |   |   |   |   |   |   |--- longitud >  -58.38\n",
            "|   |   |   |   |   |   |   |   |   |   |   |--- truncated branch of depth 5\n",
            "|   |   |   |   |   |--- longitud >  -58.38\n",
            "|   |   |   |   |   |   |--- property_surface_covered <= 28.50\n",
            "|   |   |   |   |   |   |   |--- property_surface_total <= 25.50\n",
            "|   |   |   |   |   |   |   |   |--- class: medio\n",
            "|   |   |   |   |   |   |   |--- property_surface_total >  25.50\n",
            "|   |   |   |   |   |   |   |   |--- property_surface_total <= 31.00\n",
            "|   |   |   |   |   |   |   |   |   |--- longitud <= -58.38\n",
            "|   |   |   |   |   |   |   |   |   |   |--- class: bajo\n",
            "|   |   |   |   |   |   |   |   |   |--- longitud >  -58.38\n",
            "|   |   |   |   |   |   |   |   |   |   |--- property_surface_covered <= 26.50\n",
            "|   |   |   |   |   |   |   |   |   |   |   |--- class: alto\n",
            "|   |   |   |   |   |   |   |   |   |   |--- property_surface_covered >  26.50\n",
            "|   |   |   |   |   |   |   |   |   |   |   |--- class: alto\n",
            "|   |   |   |   |   |   |   |   |--- property_surface_total >  31.00\n",
            "|   |   |   |   |   |   |   |   |   |--- property_surface_total <= 44.48\n",
            "|   |   |   |   |   |   |   |   |   |   |--- class: medio\n",
            "|   |   |   |   |   |   |   |   |   |--- property_surface_total >  44.48\n",
            "|   |   |   |   |   |   |   |   |   |   |--- class: bajo\n",
            "|   |   |   |   |   |   |--- property_surface_covered >  28.50\n",
            "|   |   |   |   |   |   |   |--- property_surface_total <= 46.50\n",
            "|   |   |   |   |   |   |   |   |--- latitud <= -34.60\n",
            "|   |   |   |   |   |   |   |   |   |--- class: bajo\n",
            "|   |   |   |   |   |   |   |   |--- latitud >  -34.60\n",
            "|   |   |   |   |   |   |   |   |   |--- latitud <= -34.60\n",
            "|   |   |   |   |   |   |   |   |   |   |--- class: medio\n",
            "|   |   |   |   |   |   |   |   |   |--- latitud >  -34.60\n",
            "|   |   |   |   |   |   |   |   |   |   |--- latitud <= -34.60\n",
            "|   |   |   |   |   |   |   |   |   |   |   |--- class: bajo\n",
            "|   |   |   |   |   |   |   |   |   |   |--- latitud >  -34.60\n",
            "|   |   |   |   |   |   |   |   |   |   |   |--- truncated branch of depth 9\n",
            "|   |   |   |   |   |   |   |--- property_surface_total >  46.50\n",
            "|   |   |   |   |   |   |   |   |--- property_surface_covered <= 47.50\n",
            "|   |   |   |   |   |   |   |   |   |--- neighbourhood_Palermo <= 0.50\n",
            "|   |   |   |   |   |   |   |   |   |   |--- latitud <= -34.60\n",
            "|   |   |   |   |   |   |   |   |   |   |   |--- class: bajo\n",
            "|   |   |   |   |   |   |   |   |   |   |--- latitud >  -34.60\n",
            "|   |   |   |   |   |   |   |   |   |   |   |--- truncated branch of depth 2\n",
            "|   |   |   |   |   |   |   |   |   |--- neighbourhood_Palermo >  0.50\n",
            "|   |   |   |   |   |   |   |   |   |   |--- class: alto\n",
            "|   |   |   |   |   |   |   |   |--- property_surface_covered >  47.50\n",
            "|   |   |   |   |   |   |   |   |   |--- property_bedrooms <= 3.50\n",
            "|   |   |   |   |   |   |   |   |   |   |--- property_surface_total <= 103.50\n",
            "|   |   |   |   |   |   |   |   |   |   |   |--- truncated branch of depth 12\n",
            "|   |   |   |   |   |   |   |   |   |   |--- property_surface_total >  103.50\n",
            "|   |   |   |   |   |   |   |   |   |   |   |--- truncated branch of depth 4\n",
            "|   |   |   |   |   |   |   |   |   |--- property_bedrooms >  3.50\n",
            "|   |   |   |   |   |   |   |   |   |   |--- class: medio\n",
            "|   |   |--- latitud >  -34.59\n",
            "|   |   |   |--- property_surface_covered <= 97.21\n",
            "|   |   |   |   |--- longitud <= -58.44\n",
            "|   |   |   |   |   |--- latitud <= -34.57\n",
            "|   |   |   |   |   |   |--- longitud <= -58.45\n",
            "|   |   |   |   |   |   |   |--- latitud <= -34.58\n",
            "|   |   |   |   |   |   |   |   |--- latitud <= -34.59\n",
            "|   |   |   |   |   |   |   |   |   |--- property_rooms <= 2.50\n",
            "|   |   |   |   |   |   |   |   |   |   |--- longitud <= -58.45\n",
            "|   |   |   |   |   |   |   |   |   |   |   |--- truncated branch of depth 3\n",
            "|   |   |   |   |   |   |   |   |   |   |--- longitud >  -58.45\n",
            "|   |   |   |   |   |   |   |   |   |   |   |--- class: alto\n",
            "|   |   |   |   |   |   |   |   |   |--- property_rooms >  2.50\n",
            "|   |   |   |   |   |   |   |   |   |   |--- property_surface_total <= 81.00\n",
            "|   |   |   |   |   |   |   |   |   |   |   |--- class: medio\n",
            "|   |   |   |   |   |   |   |   |   |   |--- property_surface_total >  81.00\n",
            "|   |   |   |   |   |   |   |   |   |   |   |--- truncated branch of depth 2\n",
            "|   |   |   |   |   |   |   |   |--- latitud >  -34.59\n",
            "|   |   |   |   |   |   |   |   |   |--- property_type_PH <= 0.50\n",
            "|   |   |   |   |   |   |   |   |   |   |--- latitud <= -34.58\n",
            "|   |   |   |   |   |   |   |   |   |   |   |--- truncated branch of depth 15\n",
            "|   |   |   |   |   |   |   |   |   |   |--- latitud >  -34.58\n",
            "|   |   |   |   |   |   |   |   |   |   |   |--- truncated branch of depth 13\n",
            "|   |   |   |   |   |   |   |   |   |--- property_type_PH >  0.50\n",
            "|   |   |   |   |   |   |   |   |   |   |--- longitud <= -58.47\n",
            "|   |   |   |   |   |   |   |   |   |   |   |--- class: medio\n",
            "|   |   |   |   |   |   |   |   |   |   |--- longitud >  -58.47\n",
            "|   |   |   |   |   |   |   |   |   |   |   |--- truncated branch of depth 11\n",
            "|   |   |   |   |   |   |   |--- latitud >  -34.58\n",
            "|   |   |   |   |   |   |   |   |--- property_type_PH <= 0.50\n",
            "|   |   |   |   |   |   |   |   |   |--- property_surface_total <= 127.50\n",
            "|   |   |   |   |   |   |   |   |   |   |--- property_bedrooms <= 1.50\n",
            "|   |   |   |   |   |   |   |   |   |   |   |--- truncated branch of depth 20\n",
            "|   |   |   |   |   |   |   |   |   |   |--- property_bedrooms >  1.50\n",
            "|   |   |   |   |   |   |   |   |   |   |   |--- truncated branch of depth 16\n",
            "|   |   |   |   |   |   |   |   |   |--- property_surface_total >  127.50\n",
            "|   |   |   |   |   |   |   |   |   |   |--- longitud <= -58.46\n",
            "|   |   |   |   |   |   |   |   |   |   |   |--- class: medio\n",
            "|   |   |   |   |   |   |   |   |   |   |--- longitud >  -58.46\n",
            "|   |   |   |   |   |   |   |   |   |   |   |--- class: bajo\n",
            "|   |   |   |   |   |   |   |   |--- property_type_PH >  0.50\n",
            "|   |   |   |   |   |   |   |   |   |--- property_surface_total <= 107.00\n",
            "|   |   |   |   |   |   |   |   |   |   |--- latitud <= -34.58\n",
            "|   |   |   |   |   |   |   |   |   |   |   |--- class: medio\n",
            "|   |   |   |   |   |   |   |   |   |   |--- latitud >  -34.58\n",
            "|   |   |   |   |   |   |   |   |   |   |   |--- truncated branch of depth 3\n",
            "|   |   |   |   |   |   |   |   |   |--- property_surface_total >  107.00\n",
            "|   |   |   |   |   |   |   |   |   |   |--- longitud <= -58.46\n",
            "|   |   |   |   |   |   |   |   |   |   |   |--- truncated branch of depth 4\n",
            "|   |   |   |   |   |   |   |   |   |   |--- longitud >  -58.46\n",
            "|   |   |   |   |   |   |   |   |   |   |   |--- class: alto\n",
            "|   |   |   |   |   |   |--- longitud >  -58.45\n",
            "|   |   |   |   |   |   |   |--- longitud <= -58.45\n",
            "|   |   |   |   |   |   |   |   |--- property_surface_total <= 59.20\n",
            "|   |   |   |   |   |   |   |   |   |--- longitud <= -58.45\n",
            "|   |   |   |   |   |   |   |   |   |   |--- latitud <= -34.57\n",
            "|   |   |   |   |   |   |   |   |   |   |   |--- truncated branch of depth 8\n",
            "|   |   |   |   |   |   |   |   |   |   |--- latitud >  -34.57\n",
            "|   |   |   |   |   |   |   |   |   |   |   |--- truncated branch of depth 8\n",
            "|   |   |   |   |   |   |   |   |   |--- longitud >  -58.45\n",
            "|   |   |   |   |   |   |   |   |   |   |--- longitud <= -58.45\n",
            "|   |   |   |   |   |   |   |   |   |   |   |--- class: alto\n",
            "|   |   |   |   |   |   |   |   |   |   |--- longitud >  -58.45\n",
            "|   |   |   |   |   |   |   |   |   |   |   |--- truncated branch of depth 22\n",
            "|   |   |   |   |   |   |   |   |--- property_surface_total >  59.20\n",
            "|   |   |   |   |   |   |   |   |   |--- latitud <= -34.58\n",
            "|   |   |   |   |   |   |   |   |   |   |--- neighbourhood_Chacarita <= 0.50\n",
            "|   |   |   |   |   |   |   |   |   |   |   |--- truncated branch of depth 8\n",
            "|   |   |   |   |   |   |   |   |   |   |--- neighbourhood_Chacarita >  0.50\n",
            "|   |   |   |   |   |   |   |   |   |   |   |--- truncated branch of depth 11\n",
            "|   |   |   |   |   |   |   |   |   |--- latitud >  -34.58\n",
            "|   |   |   |   |   |   |   |   |   |   |--- property_surface_total <= 71.50\n",
            "|   |   |   |   |   |   |   |   |   |   |   |--- truncated branch of depth 10\n",
            "|   |   |   |   |   |   |   |   |   |   |--- property_surface_total >  71.50\n",
            "|   |   |   |   |   |   |   |   |   |   |   |--- truncated branch of depth 12\n",
            "|   |   |   |   |   |   |   |--- longitud >  -58.45\n",
            "|   |   |   |   |   |   |   |   |--- latitud <= -34.59\n",
            "|   |   |   |   |   |   |   |   |   |--- longitud <= -58.44\n",
            "|   |   |   |   |   |   |   |   |   |   |--- property_surface_total <= 37.50\n",
            "|   |   |   |   |   |   |   |   |   |   |   |--- truncated branch of depth 2\n",
            "|   |   |   |   |   |   |   |   |   |   |--- property_surface_total >  37.50\n",
            "|   |   |   |   |   |   |   |   |   |   |   |--- truncated branch of depth 4\n",
            "|   |   |   |   |   |   |   |   |   |--- longitud >  -58.44\n",
            "|   |   |   |   |   |   |   |   |   |   |--- class: medio\n",
            "|   |   |   |   |   |   |   |   |--- latitud >  -34.59\n",
            "|   |   |   |   |   |   |   |   |   |--- property_surface_covered <= 44.50\n",
            "|   |   |   |   |   |   |   |   |   |   |--- latitud <= -34.58\n",
            "|   |   |   |   |   |   |   |   |   |   |   |--- truncated branch of depth 8\n",
            "|   |   |   |   |   |   |   |   |   |   |--- latitud >  -34.58\n",
            "|   |   |   |   |   |   |   |   |   |   |   |--- truncated branch of depth 16\n",
            "|   |   |   |   |   |   |   |   |   |--- property_surface_covered >  44.50\n",
            "|   |   |   |   |   |   |   |   |   |   |--- latitud <= -34.58\n",
            "|   |   |   |   |   |   |   |   |   |   |   |--- truncated branch of depth 13\n",
            "|   |   |   |   |   |   |   |   |   |   |--- latitud >  -34.58\n",
            "|   |   |   |   |   |   |   |   |   |   |   |--- truncated branch of depth 19\n",
            "|   |   |   |   |   |--- latitud >  -34.57\n",
            "|   |   |   |   |   |   |--- latitud <= -34.55\n",
            "|   |   |   |   |   |   |   |--- longitud <= -58.46\n",
            "|   |   |   |   |   |   |   |   |--- property_surface_total <= 40.50\n",
            "|   |   |   |   |   |   |   |   |   |--- latitud <= -34.56\n",
            "|   |   |   |   |   |   |   |   |   |   |--- latitud <= -34.56\n",
            "|   |   |   |   |   |   |   |   |   |   |   |--- class: medio\n",
            "|   |   |   |   |   |   |   |   |   |   |--- latitud >  -34.56\n",
            "|   |   |   |   |   |   |   |   |   |   |   |--- truncated branch of depth 16\n",
            "|   |   |   |   |   |   |   |   |   |--- latitud >  -34.56\n",
            "|   |   |   |   |   |   |   |   |   |   |--- longitud <= -58.47\n",
            "|   |   |   |   |   |   |   |   |   |   |   |--- truncated branch of depth 6\n",
            "|   |   |   |   |   |   |   |   |   |   |--- longitud >  -58.47\n",
            "|   |   |   |   |   |   |   |   |   |   |   |--- truncated branch of depth 13\n",
            "|   |   |   |   |   |   |   |   |--- property_surface_total >  40.50\n",
            "|   |   |   |   |   |   |   |   |   |--- property_surface_covered <= 30.50\n",
            "|   |   |   |   |   |   |   |   |   |   |--- latitud <= -34.55\n",
            "|   |   |   |   |   |   |   |   |   |   |   |--- class: bajo\n",
            "|   |   |   |   |   |   |   |   |   |   |--- latitud >  -34.55\n",
            "|   |   |   |   |   |   |   |   |   |   |   |--- class: alto\n",
            "|   |   |   |   |   |   |   |   |   |--- property_surface_covered >  30.50\n",
            "|   |   |   |   |   |   |   |   |   |   |--- property_surface_total <= 110.50\n",
            "|   |   |   |   |   |   |   |   |   |   |   |--- truncated branch of depth 30\n",
            "|   |   |   |   |   |   |   |   |   |   |--- property_surface_total >  110.50\n",
            "|   |   |   |   |   |   |   |   |   |   |   |--- truncated branch of depth 10\n",
            "|   |   |   |   |   |   |   |--- longitud >  -58.46\n",
            "|   |   |   |   |   |   |   |   |--- property_bedrooms <= 1.50\n",
            "|   |   |   |   |   |   |   |   |   |--- longitud <= -58.45\n",
            "|   |   |   |   |   |   |   |   |   |   |--- property_surface_total <= 57.50\n",
            "|   |   |   |   |   |   |   |   |   |   |   |--- truncated branch of depth 19\n",
            "|   |   |   |   |   |   |   |   |   |   |--- property_surface_total >  57.50\n",
            "|   |   |   |   |   |   |   |   |   |   |   |--- truncated branch of depth 9\n",
            "|   |   |   |   |   |   |   |   |   |--- longitud >  -58.45\n",
            "|   |   |   |   |   |   |   |   |   |   |--- property_surface_covered <= 42.50\n",
            "|   |   |   |   |   |   |   |   |   |   |   |--- truncated branch of depth 15\n",
            "|   |   |   |   |   |   |   |   |   |   |--- property_surface_covered >  42.50\n",
            "|   |   |   |   |   |   |   |   |   |   |   |--- truncated branch of depth 13\n",
            "|   |   |   |   |   |   |   |   |--- property_bedrooms >  1.50\n",
            "|   |   |   |   |   |   |   |   |   |--- property_surface_covered <= 63.64\n",
            "|   |   |   |   |   |   |   |   |   |   |--- latitud <= -34.57\n",
            "|   |   |   |   |   |   |   |   |   |   |   |--- class: alto\n",
            "|   |   |   |   |   |   |   |   |   |   |--- latitud >  -34.57\n",
            "|   |   |   |   |   |   |   |   |   |   |   |--- truncated branch of depth 16\n",
            "|   |   |   |   |   |   |   |   |   |--- property_surface_covered >  63.64\n",
            "|   |   |   |   |   |   |   |   |   |   |--- latitud <= -34.56\n",
            "|   |   |   |   |   |   |   |   |   |   |   |--- truncated branch of depth 18\n",
            "|   |   |   |   |   |   |   |   |   |   |--- latitud >  -34.56\n",
            "|   |   |   |   |   |   |   |   |   |   |   |--- truncated branch of depth 14\n",
            "|   |   |   |   |   |   |--- latitud >  -34.55\n",
            "|   |   |   |   |   |   |   |--- longitud <= -58.46\n",
            "|   |   |   |   |   |   |   |   |--- property_surface_covered <= 59.00\n",
            "|   |   |   |   |   |   |   |   |   |--- property_surface_total <= 51.50\n",
            "|   |   |   |   |   |   |   |   |   |   |--- property_rooms <= 1.50\n",
            "|   |   |   |   |   |   |   |   |   |   |   |--- truncated branch of depth 4\n",
            "|   |   |   |   |   |   |   |   |   |   |--- property_rooms >  1.50\n",
            "|   |   |   |   |   |   |   |   |   |   |   |--- truncated branch of depth 6\n",
            "|   |   |   |   |   |   |   |   |   |--- property_surface_total >  51.50\n",
            "|   |   |   |   |   |   |   |   |   |   |--- longitud <= -58.46\n",
            "|   |   |   |   |   |   |   |   |   |   |   |--- truncated branch of depth 12\n",
            "|   |   |   |   |   |   |   |   |   |   |--- longitud >  -58.46\n",
            "|   |   |   |   |   |   |   |   |   |   |   |--- truncated branch of depth 3\n",
            "|   |   |   |   |   |   |   |   |--- property_surface_covered >  59.00\n",
            "|   |   |   |   |   |   |   |   |   |--- property_surface_total <= 94.50\n",
            "|   |   |   |   |   |   |   |   |   |   |--- latitud <= -34.55\n",
            "|   |   |   |   |   |   |   |   |   |   |   |--- truncated branch of depth 4\n",
            "|   |   |   |   |   |   |   |   |   |   |--- latitud >  -34.55\n",
            "|   |   |   |   |   |   |   |   |   |   |   |--- truncated branch of depth 7\n",
            "|   |   |   |   |   |   |   |   |   |--- property_surface_total >  94.50\n",
            "|   |   |   |   |   |   |   |   |   |   |--- property_surface_covered <= 94.40\n",
            "|   |   |   |   |   |   |   |   |   |   |   |--- truncated branch of depth 6\n",
            "|   |   |   |   |   |   |   |   |   |   |--- property_surface_covered >  94.40\n",
            "|   |   |   |   |   |   |   |   |   |   |   |--- truncated branch of depth 2\n",
            "|   |   |   |   |   |   |   |--- longitud >  -58.46\n",
            "|   |   |   |   |   |   |   |   |--- property_surface_total <= 114.50\n",
            "|   |   |   |   |   |   |   |   |   |--- longitud <= -58.46\n",
            "|   |   |   |   |   |   |   |   |   |   |--- property_surface_total <= 39.00\n",
            "|   |   |   |   |   |   |   |   |   |   |   |--- truncated branch of depth 6\n",
            "|   |   |   |   |   |   |   |   |   |   |--- property_surface_total >  39.00\n",
            "|   |   |   |   |   |   |   |   |   |   |   |--- truncated branch of depth 14\n",
            "|   |   |   |   |   |   |   |   |   |--- longitud >  -58.46\n",
            "|   |   |   |   |   |   |   |   |   |   |--- property_surface_covered <= 40.00\n",
            "|   |   |   |   |   |   |   |   |   |   |   |--- class: alto\n",
            "|   |   |   |   |   |   |   |   |   |   |--- property_surface_covered >  40.00\n",
            "|   |   |   |   |   |   |   |   |   |   |   |--- class: medio\n",
            "|   |   |   |   |   |   |   |   |--- property_surface_total >  114.50\n",
            "|   |   |   |   |   |   |   |   |   |--- property_type_PH <= 0.50\n",
            "|   |   |   |   |   |   |   |   |   |   |--- class: medio\n",
            "|   |   |   |   |   |   |   |   |   |--- property_type_PH >  0.50\n",
            "|   |   |   |   |   |   |   |   |   |   |--- class: alto\n",
            "|   |   |   |   |--- longitud >  -58.44\n",
            "|   |   |   |   |   |--- latitud <= -34.58\n",
            "|   |   |   |   |   |   |--- longitud <= -58.40\n",
            "|   |   |   |   |   |   |   |--- longitud <= -58.44\n",
            "|   |   |   |   |   |   |   |   |--- longitud <= -58.44\n",
            "|   |   |   |   |   |   |   |   |   |--- property_surface_covered <= 30.50\n",
            "|   |   |   |   |   |   |   |   |   |   |--- class: bajo\n",
            "|   |   |   |   |   |   |   |   |   |--- property_surface_covered >  30.50\n",
            "|   |   |   |   |   |   |   |   |   |   |--- property_rooms <= 1.50\n",
            "|   |   |   |   |   |   |   |   |   |   |   |--- truncated branch of depth 3\n",
            "|   |   |   |   |   |   |   |   |   |   |--- property_rooms >  1.50\n",
            "|   |   |   |   |   |   |   |   |   |   |   |--- truncated branch of depth 4\n",
            "|   |   |   |   |   |   |   |   |--- longitud >  -58.44\n",
            "|   |   |   |   |   |   |   |   |   |--- latitud <= -34.59\n",
            "|   |   |   |   |   |   |   |   |   |   |--- property_surface_covered <= 29.00\n",
            "|   |   |   |   |   |   |   |   |   |   |   |--- class: bajo\n",
            "|   |   |   |   |   |   |   |   |   |   |--- property_surface_covered >  29.00\n",
            "|   |   |   |   |   |   |   |   |   |   |   |--- class: medio\n",
            "|   |   |   |   |   |   |   |   |   |--- latitud >  -34.59\n",
            "|   |   |   |   |   |   |   |   |   |   |--- class: bajo\n",
            "|   |   |   |   |   |   |   |--- longitud >  -58.44\n",
            "|   |   |   |   |   |   |   |   |--- property_type_Departamento <= 0.50\n",
            "|   |   |   |   |   |   |   |   |   |--- latitud <= -34.59\n",
            "|   |   |   |   |   |   |   |   |   |   |--- neighbourhood_Villa Crespo <= 0.50\n",
            "|   |   |   |   |   |   |   |   |   |   |   |--- truncated branch of depth 2\n",
            "|   |   |   |   |   |   |   |   |   |   |--- neighbourhood_Villa Crespo >  0.50\n",
            "|   |   |   |   |   |   |   |   |   |   |   |--- class: medio\n",
            "|   |   |   |   |   |   |   |   |   |--- latitud >  -34.59\n",
            "|   |   |   |   |   |   |   |   |   |   |--- property_surface_total <= 63.36\n",
            "|   |   |   |   |   |   |   |   |   |   |   |--- truncated branch of depth 5\n",
            "|   |   |   |   |   |   |   |   |   |   |--- property_surface_total >  63.36\n",
            "|   |   |   |   |   |   |   |   |   |   |   |--- truncated branch of depth 9\n",
            "|   |   |   |   |   |   |   |   |--- property_type_Departamento >  0.50\n",
            "|   |   |   |   |   |   |   |   |   |--- property_rooms <= 3.50\n",
            "|   |   |   |   |   |   |   |   |   |   |--- property_surface_total <= 60.13\n",
            "|   |   |   |   |   |   |   |   |   |   |   |--- truncated branch of depth 25\n",
            "|   |   |   |   |   |   |   |   |   |   |--- property_surface_total >  60.13\n",
            "|   |   |   |   |   |   |   |   |   |   |   |--- truncated branch of depth 22\n",
            "|   |   |   |   |   |   |   |   |   |--- property_rooms >  3.50\n",
            "|   |   |   |   |   |   |   |   |   |   |--- property_surface_total <= 151.00\n",
            "|   |   |   |   |   |   |   |   |   |   |   |--- truncated branch of depth 21\n",
            "|   |   |   |   |   |   |   |   |   |   |--- property_surface_total >  151.00\n",
            "|   |   |   |   |   |   |   |   |   |   |   |--- truncated branch of depth 3\n",
            "|   |   |   |   |   |   |--- longitud >  -58.40\n",
            "|   |   |   |   |   |   |   |--- property_surface_total <= 102.50\n",
            "|   |   |   |   |   |   |   |   |--- property_rooms <= 1.50\n",
            "|   |   |   |   |   |   |   |   |   |--- property_surface_total <= 52.50\n",
            "|   |   |   |   |   |   |   |   |   |   |--- property_surface_covered <= 31.50\n",
            "|   |   |   |   |   |   |   |   |   |   |   |--- truncated branch of depth 14\n",
            "|   |   |   |   |   |   |   |   |   |   |--- property_surface_covered >  31.50\n",
            "|   |   |   |   |   |   |   |   |   |   |   |--- truncated branch of depth 8\n",
            "|   |   |   |   |   |   |   |   |   |--- property_surface_total >  52.50\n",
            "|   |   |   |   |   |   |   |   |   |   |--- longitud <= -58.39\n",
            "|   |   |   |   |   |   |   |   |   |   |   |--- truncated branch of depth 6\n",
            "|   |   |   |   |   |   |   |   |   |   |--- longitud >  -58.39\n",
            "|   |   |   |   |   |   |   |   |   |   |   |--- truncated branch of depth 2\n",
            "|   |   |   |   |   |   |   |   |--- property_rooms >  1.50\n",
            "|   |   |   |   |   |   |   |   |   |--- latitud <= -34.59\n",
            "|   |   |   |   |   |   |   |   |   |   |--- property_surface_covered <= 60.50\n",
            "|   |   |   |   |   |   |   |   |   |   |   |--- truncated branch of depth 14\n",
            "|   |   |   |   |   |   |   |   |   |   |--- property_surface_covered >  60.50\n",
            "|   |   |   |   |   |   |   |   |   |   |   |--- truncated branch of depth 19\n",
            "|   |   |   |   |   |   |   |   |   |--- latitud >  -34.59\n",
            "|   |   |   |   |   |   |   |   |   |   |--- longitud <= -58.39\n",
            "|   |   |   |   |   |   |   |   |   |   |   |--- truncated branch of depth 5\n",
            "|   |   |   |   |   |   |   |   |   |   |--- longitud >  -58.39\n",
            "|   |   |   |   |   |   |   |   |   |   |   |--- truncated branch of depth 4\n",
            "|   |   |   |   |   |   |   |--- property_surface_total >  102.50\n",
            "|   |   |   |   |   |   |   |   |--- property_surface_total <= 164.00\n",
            "|   |   |   |   |   |   |   |   |   |--- property_surface_total <= 117.09\n",
            "|   |   |   |   |   |   |   |   |   |   |--- longitud <= -58.39\n",
            "|   |   |   |   |   |   |   |   |   |   |   |--- truncated branch of depth 3\n",
            "|   |   |   |   |   |   |   |   |   |   |--- longitud >  -58.39\n",
            "|   |   |   |   |   |   |   |   |   |   |   |--- truncated branch of depth 9\n",
            "|   |   |   |   |   |   |   |   |   |--- property_surface_total >  117.09\n",
            "|   |   |   |   |   |   |   |   |   |   |--- latitud <= -34.59\n",
            "|   |   |   |   |   |   |   |   |   |   |   |--- class: bajo\n",
            "|   |   |   |   |   |   |   |   |   |   |--- latitud >  -34.59\n",
            "|   |   |   |   |   |   |   |   |   |   |   |--- truncated branch of depth 2\n",
            "|   |   |   |   |   |   |   |   |--- property_surface_total >  164.00\n",
            "|   |   |   |   |   |   |   |   |   |--- class: bajo\n",
            "|   |   |   |   |   |--- latitud >  -34.58\n",
            "|   |   |   |   |   |   |--- longitud <= -58.42\n",
            "|   |   |   |   |   |   |   |--- latitud <= -34.56\n",
            "|   |   |   |   |   |   |   |   |--- property_rooms <= 3.50\n",
            "|   |   |   |   |   |   |   |   |   |--- property_surface_covered <= 64.79\n",
            "|   |   |   |   |   |   |   |   |   |   |--- property_surface_total <= 72.17\n",
            "|   |   |   |   |   |   |   |   |   |   |   |--- truncated branch of depth 25\n",
            "|   |   |   |   |   |   |   |   |   |   |--- property_surface_total >  72.17\n",
            "|   |   |   |   |   |   |   |   |   |   |   |--- truncated branch of depth 12\n",
            "|   |   |   |   |   |   |   |   |   |--- property_surface_covered >  64.79\n",
            "|   |   |   |   |   |   |   |   |   |   |--- property_surface_total <= 95.50\n",
            "|   |   |   |   |   |   |   |   |   |   |   |--- truncated branch of depth 18\n",
            "|   |   |   |   |   |   |   |   |   |   |--- property_surface_total >  95.50\n",
            "|   |   |   |   |   |   |   |   |   |   |   |--- truncated branch of depth 17\n",
            "|   |   |   |   |   |   |   |   |--- property_rooms >  3.50\n",
            "|   |   |   |   |   |   |   |   |   |--- latitud <= -34.58\n",
            "|   |   |   |   |   |   |   |   |   |   |--- property_surface_total <= 130.50\n",
            "|   |   |   |   |   |   |   |   |   |   |   |--- truncated branch of depth 3\n",
            "|   |   |   |   |   |   |   |   |   |   |--- property_surface_total >  130.50\n",
            "|   |   |   |   |   |   |   |   |   |   |   |--- class: medio\n",
            "|   |   |   |   |   |   |   |   |   |--- latitud >  -34.58\n",
            "|   |   |   |   |   |   |   |   |   |   |--- latitud <= -34.57\n",
            "|   |   |   |   |   |   |   |   |   |   |   |--- truncated branch of depth 16\n",
            "|   |   |   |   |   |   |   |   |   |   |--- latitud >  -34.57\n",
            "|   |   |   |   |   |   |   |   |   |   |   |--- truncated branch of depth 12\n",
            "|   |   |   |   |   |   |   |--- latitud >  -34.56\n",
            "|   |   |   |   |   |   |   |   |--- property_surface_covered <= 26.50\n",
            "|   |   |   |   |   |   |   |   |   |--- property_surface_total <= 40.48\n",
            "|   |   |   |   |   |   |   |   |   |   |--- class: medio\n",
            "|   |   |   |   |   |   |   |   |   |--- property_surface_total >  40.48\n",
            "|   |   |   |   |   |   |   |   |   |   |--- class: bajo\n",
            "|   |   |   |   |   |   |   |   |--- property_surface_covered >  26.50\n",
            "|   |   |   |   |   |   |   |   |   |--- property_surface_total <= 114.72\n",
            "|   |   |   |   |   |   |   |   |   |   |--- longitud <= -58.43\n",
            "|   |   |   |   |   |   |   |   |   |   |   |--- truncated branch of depth 9\n",
            "|   |   |   |   |   |   |   |   |   |   |--- longitud >  -58.43\n",
            "|   |   |   |   |   |   |   |   |   |   |   |--- class: bajo\n",
            "|   |   |   |   |   |   |   |   |   |--- property_surface_total >  114.72\n",
            "|   |   |   |   |   |   |   |   |   |   |--- class: medio\n",
            "|   |   |   |   |   |   |--- longitud >  -58.42\n",
            "|   |   |   |   |   |   |   |--- latitud <= -34.58\n",
            "|   |   |   |   |   |   |   |   |--- longitud <= -58.41\n",
            "|   |   |   |   |   |   |   |   |   |--- latitud <= -34.58\n",
            "|   |   |   |   |   |   |   |   |   |   |--- property_surface_total <= 72.50\n",
            "|   |   |   |   |   |   |   |   |   |   |   |--- truncated branch of depth 8\n",
            "|   |   |   |   |   |   |   |   |   |   |--- property_surface_total >  72.50\n",
            "|   |   |   |   |   |   |   |   |   |   |   |--- truncated branch of depth 7\n",
            "|   |   |   |   |   |   |   |   |   |--- latitud >  -34.58\n",
            "|   |   |   |   |   |   |   |   |   |   |--- class: medio\n",
            "|   |   |   |   |   |   |   |   |--- longitud >  -58.41\n",
            "|   |   |   |   |   |   |   |   |   |--- longitud <= -58.40\n",
            "|   |   |   |   |   |   |   |   |   |   |--- property_surface_total <= 58.50\n",
            "|   |   |   |   |   |   |   |   |   |   |   |--- truncated branch of depth 10\n",
            "|   |   |   |   |   |   |   |   |   |   |--- property_surface_total >  58.50\n",
            "|   |   |   |   |   |   |   |   |   |   |   |--- truncated branch of depth 7\n",
            "|   |   |   |   |   |   |   |   |   |--- longitud >  -58.40\n",
            "|   |   |   |   |   |   |   |   |   |   |--- class: medio\n",
            "|   |   |   |   |   |   |   |--- latitud >  -34.58\n",
            "|   |   |   |   |   |   |   |   |--- property_surface_covered <= 44.50\n",
            "|   |   |   |   |   |   |   |   |   |--- property_surface_total <= 55.48\n",
            "|   |   |   |   |   |   |   |   |   |   |--- property_surface_total <= 32.50\n",
            "|   |   |   |   |   |   |   |   |   |   |   |--- truncated branch of depth 8\n",
            "|   |   |   |   |   |   |   |   |   |   |--- property_surface_total >  32.50\n",
            "|   |   |   |   |   |   |   |   |   |   |   |--- truncated branch of depth 11\n",
            "|   |   |   |   |   |   |   |   |   |--- property_surface_total >  55.48\n",
            "|   |   |   |   |   |   |   |   |   |   |--- property_surface_total <= 64.15\n",
            "|   |   |   |   |   |   |   |   |   |   |   |--- truncated branch of depth 2\n",
            "|   |   |   |   |   |   |   |   |   |   |--- property_surface_total >  64.15\n",
            "|   |   |   |   |   |   |   |   |   |   |   |--- truncated branch of depth 5\n",
            "|   |   |   |   |   |   |   |   |--- property_surface_covered >  44.50\n",
            "|   |   |   |   |   |   |   |   |   |--- longitud <= -58.40\n",
            "|   |   |   |   |   |   |   |   |   |   |--- property_bedrooms <= 2.50\n",
            "|   |   |   |   |   |   |   |   |   |   |   |--- truncated branch of depth 20\n",
            "|   |   |   |   |   |   |   |   |   |   |--- property_bedrooms >  2.50\n",
            "|   |   |   |   |   |   |   |   |   |   |   |--- truncated branch of depth 9\n",
            "|   |   |   |   |   |   |   |   |   |--- longitud >  -58.40\n",
            "|   |   |   |   |   |   |   |   |   |   |--- class: medio\n",
            "|   |   |   |--- property_surface_covered >  97.21\n",
            "|   |   |   |   |--- latitud <= -34.58\n",
            "|   |   |   |   |   |--- longitud <= -58.39\n",
            "|   |   |   |   |   |   |--- property_surface_covered <= 97.71\n",
            "|   |   |   |   |   |   |   |--- longitud <= -58.40\n",
            "|   |   |   |   |   |   |   |   |--- class: alto\n",
            "|   |   |   |   |   |   |   |--- longitud >  -58.40\n",
            "|   |   |   |   |   |   |   |   |--- class: medio\n",
            "|   |   |   |   |   |   |--- property_surface_covered >  97.71\n",
            "|   |   |   |   |   |   |   |--- property_bedrooms <= 2.50\n",
            "|   |   |   |   |   |   |   |   |--- latitud <= -34.59\n",
            "|   |   |   |   |   |   |   |   |   |--- longitud <= -58.42\n",
            "|   |   |   |   |   |   |   |   |   |   |--- longitud <= -58.44\n",
            "|   |   |   |   |   |   |   |   |   |   |   |--- truncated branch of depth 3\n",
            "|   |   |   |   |   |   |   |   |   |   |--- longitud >  -58.44\n",
            "|   |   |   |   |   |   |   |   |   |   |   |--- truncated branch of depth 7\n",
            "|   |   |   |   |   |   |   |   |   |--- longitud >  -58.42\n",
            "|   |   |   |   |   |   |   |   |   |   |--- latitud <= -34.59\n",
            "|   |   |   |   |   |   |   |   |   |   |   |--- truncated branch of depth 4\n",
            "|   |   |   |   |   |   |   |   |   |   |--- latitud >  -34.59\n",
            "|   |   |   |   |   |   |   |   |   |   |   |--- truncated branch of depth 9\n",
            "|   |   |   |   |   |   |   |   |--- latitud >  -34.59\n",
            "|   |   |   |   |   |   |   |   |   |--- neighbourhood_Barrio Norte <= 0.50\n",
            "|   |   |   |   |   |   |   |   |   |   |--- longitud <= -58.44\n",
            "|   |   |   |   |   |   |   |   |   |   |   |--- truncated branch of depth 2\n",
            "|   |   |   |   |   |   |   |   |   |   |--- longitud >  -58.44\n",
            "|   |   |   |   |   |   |   |   |   |   |   |--- truncated branch of depth 7\n",
            "|   |   |   |   |   |   |   |   |   |--- neighbourhood_Barrio Norte >  0.50\n",
            "|   |   |   |   |   |   |   |   |   |   |--- class: medio\n",
            "|   |   |   |   |   |   |   |--- property_bedrooms >  2.50\n",
            "|   |   |   |   |   |   |   |   |--- longitud <= -58.41\n",
            "|   |   |   |   |   |   |   |   |   |--- neighbourhood_Colegiales <= 0.50\n",
            "|   |   |   |   |   |   |   |   |   |   |--- property_surface_total <= 101.50\n",
            "|   |   |   |   |   |   |   |   |   |   |   |--- truncated branch of depth 3\n",
            "|   |   |   |   |   |   |   |   |   |   |--- property_surface_total >  101.50\n",
            "|   |   |   |   |   |   |   |   |   |   |   |--- truncated branch of depth 15\n",
            "|   |   |   |   |   |   |   |   |   |--- neighbourhood_Colegiales >  0.50\n",
            "|   |   |   |   |   |   |   |   |   |   |--- class: alto\n",
            "|   |   |   |   |   |   |   |   |--- longitud >  -58.41\n",
            "|   |   |   |   |   |   |   |   |   |--- longitud <= -58.40\n",
            "|   |   |   |   |   |   |   |   |   |   |--- property_surface_total <= 108.00\n",
            "|   |   |   |   |   |   |   |   |   |   |   |--- truncated branch of depth 2\n",
            "|   |   |   |   |   |   |   |   |   |   |--- property_surface_total >  108.00\n",
            "|   |   |   |   |   |   |   |   |   |   |   |--- truncated branch of depth 8\n",
            "|   |   |   |   |   |   |   |   |   |--- longitud >  -58.40\n",
            "|   |   |   |   |   |   |   |   |   |   |--- latitud <= -34.59\n",
            "|   |   |   |   |   |   |   |   |   |   |   |--- truncated branch of depth 13\n",
            "|   |   |   |   |   |   |   |   |   |   |--- latitud >  -34.59\n",
            "|   |   |   |   |   |   |   |   |   |   |   |--- truncated branch of depth 8\n",
            "|   |   |   |   |   |--- longitud >  -58.39\n",
            "|   |   |   |   |   |   |--- property_bedrooms <= 2.50\n",
            "|   |   |   |   |   |   |   |--- longitud <= -58.38\n",
            "|   |   |   |   |   |   |   |   |--- latitud <= -34.59\n",
            "|   |   |   |   |   |   |   |   |   |--- property_rooms <= 4.50\n",
            "|   |   |   |   |   |   |   |   |   |   |--- latitud <= -34.59\n",
            "|   |   |   |   |   |   |   |   |   |   |   |--- class: medio\n",
            "|   |   |   |   |   |   |   |   |   |   |--- latitud >  -34.59\n",
            "|   |   |   |   |   |   |   |   |   |   |   |--- truncated branch of depth 8\n",
            "|   |   |   |   |   |   |   |   |   |--- property_rooms >  4.50\n",
            "|   |   |   |   |   |   |   |   |   |   |--- latitud <= -34.59\n",
            "|   |   |   |   |   |   |   |   |   |   |   |--- truncated branch of depth 2\n",
            "|   |   |   |   |   |   |   |   |   |   |--- latitud >  -34.59\n",
            "|   |   |   |   |   |   |   |   |   |   |   |--- class: medio\n",
            "|   |   |   |   |   |   |   |   |--- latitud >  -34.59\n",
            "|   |   |   |   |   |   |   |   |   |--- longitud <= -58.39\n",
            "|   |   |   |   |   |   |   |   |   |   |--- latitud <= -34.59\n",
            "|   |   |   |   |   |   |   |   |   |   |   |--- truncated branch of depth 3\n",
            "|   |   |   |   |   |   |   |   |   |   |--- latitud >  -34.59\n",
            "|   |   |   |   |   |   |   |   |   |   |   |--- class: bajo\n",
            "|   |   |   |   |   |   |   |   |   |--- longitud >  -58.39\n",
            "|   |   |   |   |   |   |   |   |   |   |--- latitud <= -34.59\n",
            "|   |   |   |   |   |   |   |   |   |   |   |--- truncated branch of depth 5\n",
            "|   |   |   |   |   |   |   |   |   |   |--- latitud >  -34.59\n",
            "|   |   |   |   |   |   |   |   |   |   |   |--- truncated branch of depth 2\n",
            "|   |   |   |   |   |   |   |--- longitud >  -58.38\n",
            "|   |   |   |   |   |   |   |   |--- class: medio\n",
            "|   |   |   |   |   |   |--- property_bedrooms >  2.50\n",
            "|   |   |   |   |   |   |   |--- latitud <= -34.59\n",
            "|   |   |   |   |   |   |   |   |--- property_surface_total <= 168.00\n",
            "|   |   |   |   |   |   |   |   |   |--- longitud <= -58.39\n",
            "|   |   |   |   |   |   |   |   |   |   |--- class: alto\n",
            "|   |   |   |   |   |   |   |   |   |--- longitud >  -58.39\n",
            "|   |   |   |   |   |   |   |   |   |   |--- longitud <= -58.38\n",
            "|   |   |   |   |   |   |   |   |   |   |   |--- truncated branch of depth 7\n",
            "|   |   |   |   |   |   |   |   |   |   |--- longitud >  -58.38\n",
            "|   |   |   |   |   |   |   |   |   |   |   |--- truncated branch of depth 3\n",
            "|   |   |   |   |   |   |   |   |--- property_surface_total >  168.00\n",
            "|   |   |   |   |   |   |   |   |   |--- property_surface_total <= 171.50\n",
            "|   |   |   |   |   |   |   |   |   |   |--- class: alto\n",
            "|   |   |   |   |   |   |   |   |   |--- property_surface_total >  171.50\n",
            "|   |   |   |   |   |   |   |   |   |   |--- property_surface_covered <= 152.50\n",
            "|   |   |   |   |   |   |   |   |   |   |   |--- class: medio\n",
            "|   |   |   |   |   |   |   |   |   |   |--- property_surface_covered >  152.50\n",
            "|   |   |   |   |   |   |   |   |   |   |   |--- truncated branch of depth 7\n",
            "|   |   |   |   |   |   |   |--- latitud >  -34.59\n",
            "|   |   |   |   |   |   |   |   |--- property_surface_total <= 168.16\n",
            "|   |   |   |   |   |   |   |   |   |--- property_surface_covered <= 142.50\n",
            "|   |   |   |   |   |   |   |   |   |   |--- latitud <= -34.59\n",
            "|   |   |   |   |   |   |   |   |   |   |   |--- truncated branch of depth 4\n",
            "|   |   |   |   |   |   |   |   |   |   |--- latitud >  -34.59\n",
            "|   |   |   |   |   |   |   |   |   |   |   |--- truncated branch of depth 7\n",
            "|   |   |   |   |   |   |   |   |   |--- property_surface_covered >  142.50\n",
            "|   |   |   |   |   |   |   |   |   |   |--- latitud <= -34.59\n",
            "|   |   |   |   |   |   |   |   |   |   |   |--- truncated branch of depth 2\n",
            "|   |   |   |   |   |   |   |   |   |   |--- latitud >  -34.59\n",
            "|   |   |   |   |   |   |   |   |   |   |   |--- truncated branch of depth 4\n",
            "|   |   |   |   |   |   |   |   |--- property_surface_total >  168.16\n",
            "|   |   |   |   |   |   |   |   |   |--- latitud <= -34.59\n",
            "|   |   |   |   |   |   |   |   |   |   |--- class: alto\n",
            "|   |   |   |   |   |   |   |   |   |--- latitud >  -34.59\n",
            "|   |   |   |   |   |   |   |   |   |   |--- class: medio\n",
            "|   |   |   |   |--- latitud >  -34.58\n",
            "|   |   |   |   |   |--- longitud <= -58.45\n",
            "|   |   |   |   |   |   |--- latitud <= -34.57\n",
            "|   |   |   |   |   |   |   |--- property_type_Departamento <= 0.50\n",
            "|   |   |   |   |   |   |   |   |--- longitud <= -58.45\n",
            "|   |   |   |   |   |   |   |   |   |--- latitud <= -34.58\n",
            "|   |   |   |   |   |   |   |   |   |   |--- property_surface_total <= 191.00\n",
            "|   |   |   |   |   |   |   |   |   |   |   |--- truncated branch of depth 7\n",
            "|   |   |   |   |   |   |   |   |   |   |--- property_surface_total >  191.00\n",
            "|   |   |   |   |   |   |   |   |   |   |   |--- class: bajo\n",
            "|   |   |   |   |   |   |   |   |   |--- latitud >  -34.58\n",
            "|   |   |   |   |   |   |   |   |   |   |--- property_rooms <= 2.50\n",
            "|   |   |   |   |   |   |   |   |   |   |   |--- class: bajo\n",
            "|   |   |   |   |   |   |   |   |   |   |--- property_rooms >  2.50\n",
            "|   |   |   |   |   |   |   |   |   |   |   |--- class: alto\n",
            "|   |   |   |   |   |   |   |   |--- longitud >  -58.45\n",
            "|   |   |   |   |   |   |   |   |   |--- class: bajo\n",
            "|   |   |   |   |   |   |   |--- property_type_Departamento >  0.50\n",
            "|   |   |   |   |   |   |   |   |--- longitud <= -58.46\n",
            "|   |   |   |   |   |   |   |   |   |--- latitud <= -34.57\n",
            "|   |   |   |   |   |   |   |   |   |   |--- latitud <= -34.58\n",
            "|   |   |   |   |   |   |   |   |   |   |   |--- class: bajo\n",
            "|   |   |   |   |   |   |   |   |   |   |--- latitud >  -34.58\n",
            "|   |   |   |   |   |   |   |   |   |   |   |--- truncated branch of depth 4\n",
            "|   |   |   |   |   |   |   |   |   |--- latitud >  -34.57\n",
            "|   |   |   |   |   |   |   |   |   |   |--- latitud <= -34.57\n",
            "|   |   |   |   |   |   |   |   |   |   |   |--- truncated branch of depth 2\n",
            "|   |   |   |   |   |   |   |   |   |   |--- latitud >  -34.57\n",
            "|   |   |   |   |   |   |   |   |   |   |   |--- truncated branch of depth 5\n",
            "|   |   |   |   |   |   |   |   |--- longitud >  -58.46\n",
            "|   |   |   |   |   |   |   |   |   |--- latitud <= -34.57\n",
            "|   |   |   |   |   |   |   |   |   |   |--- latitud <= -34.58\n",
            "|   |   |   |   |   |   |   |   |   |   |   |--- truncated branch of depth 5\n",
            "|   |   |   |   |   |   |   |   |   |   |--- latitud >  -34.58\n",
            "|   |   |   |   |   |   |   |   |   |   |   |--- truncated branch of depth 5\n",
            "|   |   |   |   |   |   |   |   |   |--- latitud >  -34.57\n",
            "|   |   |   |   |   |   |   |   |   |   |--- longitud <= -58.46\n",
            "|   |   |   |   |   |   |   |   |   |   |   |--- truncated branch of depth 4\n",
            "|   |   |   |   |   |   |   |   |   |   |--- longitud >  -58.46\n",
            "|   |   |   |   |   |   |   |   |   |   |   |--- truncated branch of depth 6\n",
            "|   |   |   |   |   |   |--- latitud >  -34.57\n",
            "|   |   |   |   |   |   |   |--- latitud <= -34.55\n",
            "|   |   |   |   |   |   |   |   |--- latitud <= -34.57\n",
            "|   |   |   |   |   |   |   |   |   |--- property_surface_total <= 119.50\n",
            "|   |   |   |   |   |   |   |   |   |   |--- property_surface_total <= 113.50\n",
            "|   |   |   |   |   |   |   |   |   |   |   |--- class: alto\n",
            "|   |   |   |   |   |   |   |   |   |   |--- property_surface_total >  113.50\n",
            "|   |   |   |   |   |   |   |   |   |   |   |--- truncated branch of depth 2\n",
            "|   |   |   |   |   |   |   |   |   |--- property_surface_total >  119.50\n",
            "|   |   |   |   |   |   |   |   |   |   |--- longitud <= -58.46\n",
            "|   |   |   |   |   |   |   |   |   |   |   |--- class: alto\n",
            "|   |   |   |   |   |   |   |   |   |   |--- longitud >  -58.46\n",
            "|   |   |   |   |   |   |   |   |   |   |   |--- truncated branch of depth 3\n",
            "|   |   |   |   |   |   |   |   |--- latitud >  -34.57\n",
            "|   |   |   |   |   |   |   |   |   |--- latitud <= -34.56\n",
            "|   |   |   |   |   |   |   |   |   |   |--- property_surface_covered <= 145.50\n",
            "|   |   |   |   |   |   |   |   |   |   |   |--- truncated branch of depth 9\n",
            "|   |   |   |   |   |   |   |   |   |   |--- property_surface_covered >  145.50\n",
            "|   |   |   |   |   |   |   |   |   |   |   |--- truncated branch of depth 7\n",
            "|   |   |   |   |   |   |   |   |   |--- latitud >  -34.56\n",
            "|   |   |   |   |   |   |   |   |   |   |--- latitud <= -34.56\n",
            "|   |   |   |   |   |   |   |   |   |   |   |--- truncated branch of depth 10\n",
            "|   |   |   |   |   |   |   |   |   |   |--- latitud >  -34.56\n",
            "|   |   |   |   |   |   |   |   |   |   |   |--- truncated branch of depth 15\n",
            "|   |   |   |   |   |   |   |--- latitud >  -34.55\n",
            "|   |   |   |   |   |   |   |   |--- longitud <= -58.46\n",
            "|   |   |   |   |   |   |   |   |   |--- longitud <= -58.47\n",
            "|   |   |   |   |   |   |   |   |   |   |--- longitud <= -58.47\n",
            "|   |   |   |   |   |   |   |   |   |   |   |--- class: medio\n",
            "|   |   |   |   |   |   |   |   |   |   |--- longitud >  -58.47\n",
            "|   |   |   |   |   |   |   |   |   |   |   |--- truncated branch of depth 3\n",
            "|   |   |   |   |   |   |   |   |   |--- longitud >  -58.47\n",
            "|   |   |   |   |   |   |   |   |   |   |--- property_surface_covered <= 125.00\n",
            "|   |   |   |   |   |   |   |   |   |   |   |--- truncated branch of depth 4\n",
            "|   |   |   |   |   |   |   |   |   |   |--- property_surface_covered >  125.00\n",
            "|   |   |   |   |   |   |   |   |   |   |   |--- truncated branch of depth 2\n",
            "|   |   |   |   |   |   |   |   |--- longitud >  -58.46\n",
            "|   |   |   |   |   |   |   |   |   |--- latitud <= -34.54\n",
            "|   |   |   |   |   |   |   |   |   |   |--- property_surface_total <= 139.00\n",
            "|   |   |   |   |   |   |   |   |   |   |   |--- truncated branch of depth 8\n",
            "|   |   |   |   |   |   |   |   |   |   |--- property_surface_total >  139.00\n",
            "|   |   |   |   |   |   |   |   |   |   |   |--- truncated branch of depth 4\n",
            "|   |   |   |   |   |   |   |   |   |--- latitud >  -34.54\n",
            "|   |   |   |   |   |   |   |   |   |   |--- class: medio\n",
            "|   |   |   |   |   |--- longitud >  -58.45\n",
            "|   |   |   |   |   |   |--- longitud <= -58.41\n",
            "|   |   |   |   |   |   |   |--- latitud <= -34.56\n",
            "|   |   |   |   |   |   |   |   |--- property_surface_covered <= 153.50\n",
            "|   |   |   |   |   |   |   |   |   |--- property_surface_total <= 183.00\n",
            "|   |   |   |   |   |   |   |   |   |   |--- latitud <= -34.57\n",
            "|   |   |   |   |   |   |   |   |   |   |   |--- truncated branch of depth 16\n",
            "|   |   |   |   |   |   |   |   |   |   |--- latitud >  -34.57\n",
            "|   |   |   |   |   |   |   |   |   |   |   |--- truncated branch of depth 14\n",
            "|   |   |   |   |   |   |   |   |   |--- property_surface_total >  183.00\n",
            "|   |   |   |   |   |   |   |   |   |   |--- property_surface_covered <= 116.00\n",
            "|   |   |   |   |   |   |   |   |   |   |   |--- truncated branch of depth 3\n",
            "|   |   |   |   |   |   |   |   |   |   |--- property_surface_covered >  116.00\n",
            "|   |   |   |   |   |   |   |   |   |   |   |--- class: medio\n",
            "|   |   |   |   |   |   |   |   |--- property_surface_covered >  153.50\n",
            "|   |   |   |   |   |   |   |   |   |--- property_surface_covered <= 192.50\n",
            "|   |   |   |   |   |   |   |   |   |   |--- latitud <= -34.56\n",
            "|   |   |   |   |   |   |   |   |   |   |   |--- truncated branch of depth 14\n",
            "|   |   |   |   |   |   |   |   |   |   |--- latitud >  -34.56\n",
            "|   |   |   |   |   |   |   |   |   |   |   |--- truncated branch of depth 4\n",
            "|   |   |   |   |   |   |   |   |   |--- property_surface_covered >  192.50\n",
            "|   |   |   |   |   |   |   |   |   |   |--- class: medio\n",
            "|   |   |   |   |   |   |   |--- latitud >  -34.56\n",
            "|   |   |   |   |   |   |   |   |--- property_surface_total <= 186.50\n",
            "|   |   |   |   |   |   |   |   |   |--- property_type_Departamento <= 0.50\n",
            "|   |   |   |   |   |   |   |   |   |   |--- longitud <= -58.44\n",
            "|   |   |   |   |   |   |   |   |   |   |   |--- class: alto\n",
            "|   |   |   |   |   |   |   |   |   |   |--- longitud >  -58.44\n",
            "|   |   |   |   |   |   |   |   |   |   |   |--- class: medio\n",
            "|   |   |   |   |   |   |   |   |   |--- property_type_Departamento >  0.50\n",
            "|   |   |   |   |   |   |   |   |   |   |--- property_surface_covered <= 98.50\n",
            "|   |   |   |   |   |   |   |   |   |   |   |--- truncated branch of depth 2\n",
            "|   |   |   |   |   |   |   |   |   |   |--- property_surface_covered >  98.50\n",
            "|   |   |   |   |   |   |   |   |   |   |   |--- truncated branch of depth 8\n",
            "|   |   |   |   |   |   |   |   |--- property_surface_total >  186.50\n",
            "|   |   |   |   |   |   |   |   |   |--- class: bajo\n",
            "|   |   |   |   |   |   |--- longitud >  -58.41\n",
            "|   |   |   |   |   |   |   |--- latitud <= -34.58\n",
            "|   |   |   |   |   |   |   |   |--- latitud <= -34.58\n",
            "|   |   |   |   |   |   |   |   |   |--- latitud <= -34.58\n",
            "|   |   |   |   |   |   |   |   |   |   |--- class: alto\n",
            "|   |   |   |   |   |   |   |   |   |--- latitud >  -34.58\n",
            "|   |   |   |   |   |   |   |   |   |   |--- property_surface_covered <= 130.00\n",
            "|   |   |   |   |   |   |   |   |   |   |   |--- class: alto\n",
            "|   |   |   |   |   |   |   |   |   |   |--- property_surface_covered >  130.00\n",
            "|   |   |   |   |   |   |   |   |   |   |   |--- class: bajo\n",
            "|   |   |   |   |   |   |   |   |--- latitud >  -34.58\n",
            "|   |   |   |   |   |   |   |   |   |--- neighbourhood_Recoleta <= 0.50\n",
            "|   |   |   |   |   |   |   |   |   |   |--- class: medio\n",
            "|   |   |   |   |   |   |   |   |   |--- neighbourhood_Recoleta >  0.50\n",
            "|   |   |   |   |   |   |   |   |   |   |--- class: alto\n",
            "|   |   |   |   |   |   |   |--- latitud >  -34.58\n",
            "|   |   |   |   |   |   |   |   |--- neighbourhood_Balvanera <= 0.50\n",
            "|   |   |   |   |   |   |   |   |   |--- longitud <= -58.39\n",
            "|   |   |   |   |   |   |   |   |   |   |--- property_surface_covered <= 134.00\n",
            "|   |   |   |   |   |   |   |   |   |   |   |--- truncated branch of depth 10\n",
            "|   |   |   |   |   |   |   |   |   |   |--- property_surface_covered >  134.00\n",
            "|   |   |   |   |   |   |   |   |   |   |   |--- truncated branch of depth 3\n",
            "|   |   |   |   |   |   |   |   |   |--- longitud >  -58.39\n",
            "|   |   |   |   |   |   |   |   |   |   |--- class: medio\n",
            "|   |   |   |   |   |   |   |   |--- neighbourhood_Balvanera >  0.50\n",
            "|   |   |   |   |   |   |   |   |   |--- class: bajo\n",
            "\n"
          ]
        }
      ]
    },
    {
      "cell_type": "markdown",
      "source": [
        "Vemos la lista de importancias de los features"
      ],
      "metadata": {
        "id": "-iXOsAACuq7A"
      }
    },
    {
      "cell_type": "code",
      "source": [
        "sorted(list(zip(df_x.columns.to_list(), arbol_defecto.feature_importances_)), key=lambda x: -x[1])"
      ],
      "metadata": {
        "colab": {
          "base_uri": "https://localhost:8080/"
        },
        "id": "FcJ5LNiOUDVc",
        "outputId": "2bf2d4b1-255e-43bb-bd66-fbdb50cb9033"
      },
      "execution_count": null,
      "outputs": [
        {
          "output_type": "execute_result",
          "data": {
            "text/plain": [
              "[('latitud', 0.2993662960258112),\n",
              " ('longitud', 0.24095720253965286),\n",
              " ('property_surface_total', 0.16712468978518927),\n",
              " ('property_surface_covered', 0.15614639468619848),\n",
              " ('property_rooms', 0.026817806125932066),\n",
              " ('neighbourhood_Puerto Madero', 0.02586072785294256),\n",
              " ('property_bedrooms', 0.016833893328107228),\n",
              " ('neighbourhood_Caballito', 0.010338079769653305),\n",
              " ('property_type_Departamento', 0.010119273898532066),\n",
              " ('property_type_PH', 0.00688986740706054),\n",
              " ('neighbourhood_Palermo', 0.002662162588116319),\n",
              " ('neighbourhood_Belgrano', 0.002374454135009147),\n",
              " ('neighbourhood_Villa Crespo', 0.0021275271872416646),\n",
              " ('neighbourhood_Barrio Norte', 0.0020781182407375344),\n",
              " ('neighbourhood_Boca', 0.0019321792916512292),\n",
              " ('neighbourhood_Recoleta', 0.0019033504720698897),\n",
              " ('neighbourhood_Balvanera', 0.0017377184374626935),\n",
              " ('neighbourhood_Almagro', 0.0016823302770508134),\n",
              " ('neighbourhood_Villa Urquiza', 0.0016400300669359121),\n",
              " ('neighbourhood_Villa Devoto', 0.0016290939332476498),\n",
              " ('neighbourhood_Villa del Parque', 0.0012225279930677651),\n",
              " ('neighbourhood_Floresta', 0.0009842777785744664),\n",
              " ('neighbourhood_Flores', 0.0009813633301228402),\n",
              " ('neighbourhood_Retiro', 0.0009210257744186421),\n",
              " ('neighbourhood_Colegiales', 0.0008780214753328171),\n",
              " ('neighbourhood_San Telmo', 0.0008117477335169828),\n",
              " ('neighbourhood_Monserrat', 0.0007559002477021258),\n",
              " ('neighbourhood_San Cristobal', 0.0007235035831413221),\n",
              " ('neighbourhood_Nuñez', 0.0007171617622265179),\n",
              " ('neighbourhood_Boedo', 0.0007018257042108463),\n",
              " ('neighbourhood_Paternal', 0.000684010053070406),\n",
              " ('neighbourhood_Coghlan', 0.0006754089159697995),\n",
              " ('neighbourhood_Parque Patricios', 0.0006100446631622612),\n",
              " ('neighbourhood_Congreso', 0.000551300365405396),\n",
              " ('neighbourhood_Monte Castro', 0.0005487899560712453),\n",
              " ('neighbourhood_Villa Pueyrredón', 0.0005463195849560683),\n",
              " ('neighbourhood_Villa General Mitre', 0.000540900941033777),\n",
              " ('neighbourhood_Saavedra', 0.0005020473239399448),\n",
              " ('neighbourhood_Parque Chacabuco', 0.0004915989575880636),\n",
              " ('neighbourhood_Chacarita', 0.0004878840693502745),\n",
              " ('neighbourhood_Villa Luro', 0.0004617282838631542),\n",
              " ('neighbourhood_Constitución', 0.0004288981527493881),\n",
              " ('neighbourhood_Once', 0.00041801531873128707),\n",
              " ('neighbourhood_San Nicolás', 0.0004179289783700324),\n",
              " ('neighbourhood_Parque Centenario', 0.0004042068575787805),\n",
              " ('neighbourhood_Versalles', 0.0003892706873247226),\n",
              " ('neighbourhood_Barracas', 0.0003885010613316777),\n",
              " ('neighbourhood_Villa Santa Rita', 0.00032703328131599227),\n",
              " ('neighbourhood_Villa Real', 0.0002968134957552891),\n",
              " ('neighbourhood_Mataderos', 0.0002692032217147418),\n",
              " ('neighbourhood_Parque Chas', 0.0002681362132858479),\n",
              " ('neighbourhood_Parque Avellaneda', 0.00021111510211653574),\n",
              " ('neighbourhood_Villa Ortuzar', 0.00018589739666090724),\n",
              " ('neighbourhood_Tribunales', 0.00018567824918511557),\n",
              " ('neighbourhood_Velez Sarsfield', 0.00017466806097240405),\n",
              " ('neighbourhood_Agronomía', 0.00016081831446659333),\n",
              " ('neighbourhood_Centro / Microcentro', 0.00014112899543546227),\n",
              " ('neighbourhood_Liniers', 0.00012738391173211722),\n",
              " ('neighbourhood_Pompeya', 7.015302715304264e-05),\n",
              " ('neighbourhood_Las Cañitas', 4.660309432784361e-05),\n",
              " ('neighbourhood_Villa Lugano', 4.49960910751594e-05),\n",
              " ('neighbourhood_Villa Riachuelo', 2.4965943389916217e-05),\n",
              " ('neighbourhood_Catalinas', 0.0),\n",
              " ('neighbourhood_Villa Soldati', 0.0)]"
            ]
          },
          "metadata": {},
          "execution_count": 20
        }
      ]
    },
    {
      "cell_type": "markdown",
      "metadata": {
        "id": "GThnhZ0CsUpy"
      },
      "source": [
        "### Entrenamiento con RandomSearch"
      ]
    },
    {
      "cell_type": "markdown",
      "source": [
        "*min_samples_split*: número mínimo de muestras que se requieren en un nodo antes de que se pueda dividir en nodos hijos adicionales\n",
        "\n",
        "*min_samples_leaf*: número mínimo de muestras que se requieren en un nodo hoja\n",
        "\n",
        "*max_depth*: establece un límite en la profundidad del árbol\n",
        "\n",
        "*ccp_alpha*: parámetro de poda\n",
        "\n",
        "*criterion*: criterio mediante el cual se establecen los nodos (ganancia de información vs impureza de gini)"
      ],
      "metadata": {
        "id": "2aQF8FuEss6Y"
      }
    },
    {
      "cell_type": "markdown",
      "source": [
        "Busco los mejores hiperparametros con cross validation con 5 folds y 30 iteraciones mediante random search. Opto por optimizar la métrica de f1 score."
      ],
      "metadata": {
        "id": "cZGjxYxvLW7V"
      }
    },
    {
      "cell_type": "code",
      "execution_count": null,
      "metadata": {
        "colab": {
          "base_uri": "https://localhost:8080/",
          "height": 118
        },
        "id": "nlkb-nxxGQjb",
        "outputId": "23d32b81-1706-4583-8de9-e9f494b6bdc7"
      },
      "outputs": [
        {
          "output_type": "execute_result",
          "data": {
            "text/plain": [
              "RandomizedSearchCV(cv=StratifiedKFold(n_splits=5, random_state=None, shuffle=False),\n",
              "                   estimator=DecisionTreeClassifier(), n_iter=30,\n",
              "                   param_distributions={'ccp_alpha': array([0.001     , 0.00102041, 0.00104082, 0.00106122, 0.00108163,\n",
              "       0.00110204, 0.00112245, 0.00114286, 0.00116327, 0.00118367,\n",
              "       0.00120408, 0.00122449, 0.0012449 , 0.00126531, 0.00128571,\n",
              "       0.00130612, 0.00132653, 0....\n",
              "       0.00191837, 0.00193878, 0.00195918, 0.00197959, 0.002     ]),\n",
              "                                        'criterion': ['gini', 'entropy'],\n",
              "                                        'max_depth': [1, 2, 3, 4, 5, 6, 7, 8, 9,\n",
              "                                                      10, 11, 12, 13, 14, 15],\n",
              "                                        'min_samples_leaf': [1, 2, 3, 4, 5, 6,\n",
              "                                                             7, 8, 9, 10, 11,\n",
              "                                                             12, 13, 14, 15, 16,\n",
              "                                                             17, 18, 19, 20, 21,\n",
              "                                                             22, 23, 24, 25, 26,\n",
              "                                                             27, 28, 29],\n",
              "                                        'min_samples_split': [2, 3, 4, 5, 6, 7,\n",
              "                                                              8, 9, 10, 11, 12,\n",
              "                                                              13, 14, 15, 16,\n",
              "                                                              17, 18, 19, 20,\n",
              "                                                              21, 22, 23, 24,\n",
              "                                                              25, 26, 27, 28,\n",
              "                                                              29]},\n",
              "                   random_state=137,\n",
              "                   scoring=make_scorer(f1_score, average=micro))"
            ],
            "text/html": [
              "<style>#sk-container-id-2 {color: black;background-color: white;}#sk-container-id-2 pre{padding: 0;}#sk-container-id-2 div.sk-toggleable {background-color: white;}#sk-container-id-2 label.sk-toggleable__label {cursor: pointer;display: block;width: 100%;margin-bottom: 0;padding: 0.3em;box-sizing: border-box;text-align: center;}#sk-container-id-2 label.sk-toggleable__label-arrow:before {content: \"▸\";float: left;margin-right: 0.25em;color: #696969;}#sk-container-id-2 label.sk-toggleable__label-arrow:hover:before {color: black;}#sk-container-id-2 div.sk-estimator:hover label.sk-toggleable__label-arrow:before {color: black;}#sk-container-id-2 div.sk-toggleable__content {max-height: 0;max-width: 0;overflow: hidden;text-align: left;background-color: #f0f8ff;}#sk-container-id-2 div.sk-toggleable__content pre {margin: 0.2em;color: black;border-radius: 0.25em;background-color: #f0f8ff;}#sk-container-id-2 input.sk-toggleable__control:checked~div.sk-toggleable__content {max-height: 200px;max-width: 100%;overflow: auto;}#sk-container-id-2 input.sk-toggleable__control:checked~label.sk-toggleable__label-arrow:before {content: \"▾\";}#sk-container-id-2 div.sk-estimator input.sk-toggleable__control:checked~label.sk-toggleable__label {background-color: #d4ebff;}#sk-container-id-2 div.sk-label input.sk-toggleable__control:checked~label.sk-toggleable__label {background-color: #d4ebff;}#sk-container-id-2 input.sk-hidden--visually {border: 0;clip: rect(1px 1px 1px 1px);clip: rect(1px, 1px, 1px, 1px);height: 1px;margin: -1px;overflow: hidden;padding: 0;position: absolute;width: 1px;}#sk-container-id-2 div.sk-estimator {font-family: monospace;background-color: #f0f8ff;border: 1px dotted black;border-radius: 0.25em;box-sizing: border-box;margin-bottom: 0.5em;}#sk-container-id-2 div.sk-estimator:hover {background-color: #d4ebff;}#sk-container-id-2 div.sk-parallel-item::after {content: \"\";width: 100%;border-bottom: 1px solid gray;flex-grow: 1;}#sk-container-id-2 div.sk-label:hover label.sk-toggleable__label {background-color: #d4ebff;}#sk-container-id-2 div.sk-serial::before {content: \"\";position: absolute;border-left: 1px solid gray;box-sizing: border-box;top: 0;bottom: 0;left: 50%;z-index: 0;}#sk-container-id-2 div.sk-serial {display: flex;flex-direction: column;align-items: center;background-color: white;padding-right: 0.2em;padding-left: 0.2em;position: relative;}#sk-container-id-2 div.sk-item {position: relative;z-index: 1;}#sk-container-id-2 div.sk-parallel {display: flex;align-items: stretch;justify-content: center;background-color: white;position: relative;}#sk-container-id-2 div.sk-item::before, #sk-container-id-2 div.sk-parallel-item::before {content: \"\";position: absolute;border-left: 1px solid gray;box-sizing: border-box;top: 0;bottom: 0;left: 50%;z-index: -1;}#sk-container-id-2 div.sk-parallel-item {display: flex;flex-direction: column;z-index: 1;position: relative;background-color: white;}#sk-container-id-2 div.sk-parallel-item:first-child::after {align-self: flex-end;width: 50%;}#sk-container-id-2 div.sk-parallel-item:last-child::after {align-self: flex-start;width: 50%;}#sk-container-id-2 div.sk-parallel-item:only-child::after {width: 0;}#sk-container-id-2 div.sk-dashed-wrapped {border: 1px dashed gray;margin: 0 0.4em 0.5em 0.4em;box-sizing: border-box;padding-bottom: 0.4em;background-color: white;}#sk-container-id-2 div.sk-label label {font-family: monospace;font-weight: bold;display: inline-block;line-height: 1.2em;}#sk-container-id-2 div.sk-label-container {text-align: center;}#sk-container-id-2 div.sk-container {/* jupyter's `normalize.less` sets `[hidden] { display: none; }` but bootstrap.min.css set `[hidden] { display: none !important; }` so we also need the `!important` here to be able to override the default hidden behavior on the sphinx rendered scikit-learn.org. See: https://github.com/scikit-learn/scikit-learn/issues/21755 */display: inline-block !important;position: relative;}#sk-container-id-2 div.sk-text-repr-fallback {display: none;}</style><div id=\"sk-container-id-2\" class=\"sk-top-container\"><div class=\"sk-text-repr-fallback\"><pre>RandomizedSearchCV(cv=StratifiedKFold(n_splits=5, random_state=None, shuffle=False),\n",
              "                   estimator=DecisionTreeClassifier(), n_iter=30,\n",
              "                   param_distributions={&#x27;ccp_alpha&#x27;: array([0.001     , 0.00102041, 0.00104082, 0.00106122, 0.00108163,\n",
              "       0.00110204, 0.00112245, 0.00114286, 0.00116327, 0.00118367,\n",
              "       0.00120408, 0.00122449, 0.0012449 , 0.00126531, 0.00128571,\n",
              "       0.00130612, 0.00132653, 0....\n",
              "       0.00191837, 0.00193878, 0.00195918, 0.00197959, 0.002     ]),\n",
              "                                        &#x27;criterion&#x27;: [&#x27;gini&#x27;, &#x27;entropy&#x27;],\n",
              "                                        &#x27;max_depth&#x27;: [1, 2, 3, 4, 5, 6, 7, 8, 9,\n",
              "                                                      10, 11, 12, 13, 14, 15],\n",
              "                                        &#x27;min_samples_leaf&#x27;: [1, 2, 3, 4, 5, 6,\n",
              "                                                             7, 8, 9, 10, 11,\n",
              "                                                             12, 13, 14, 15, 16,\n",
              "                                                             17, 18, 19, 20, 21,\n",
              "                                                             22, 23, 24, 25, 26,\n",
              "                                                             27, 28, 29],\n",
              "                                        &#x27;min_samples_split&#x27;: [2, 3, 4, 5, 6, 7,\n",
              "                                                              8, 9, 10, 11, 12,\n",
              "                                                              13, 14, 15, 16,\n",
              "                                                              17, 18, 19, 20,\n",
              "                                                              21, 22, 23, 24,\n",
              "                                                              25, 26, 27, 28,\n",
              "                                                              29]},\n",
              "                   random_state=137,\n",
              "                   scoring=make_scorer(f1_score, average=micro))</pre><b>In a Jupyter environment, please rerun this cell to show the HTML representation or trust the notebook. <br />On GitHub, the HTML representation is unable to render, please try loading this page with nbviewer.org.</b></div><div class=\"sk-container\" hidden><div class=\"sk-item sk-dashed-wrapped\"><div class=\"sk-label-container\"><div class=\"sk-label sk-toggleable\"><input class=\"sk-toggleable__control sk-hidden--visually\" id=\"sk-estimator-id-2\" type=\"checkbox\" ><label for=\"sk-estimator-id-2\" class=\"sk-toggleable__label sk-toggleable__label-arrow\">RandomizedSearchCV</label><div class=\"sk-toggleable__content\"><pre>RandomizedSearchCV(cv=StratifiedKFold(n_splits=5, random_state=None, shuffle=False),\n",
              "                   estimator=DecisionTreeClassifier(), n_iter=30,\n",
              "                   param_distributions={&#x27;ccp_alpha&#x27;: array([0.001     , 0.00102041, 0.00104082, 0.00106122, 0.00108163,\n",
              "       0.00110204, 0.00112245, 0.00114286, 0.00116327, 0.00118367,\n",
              "       0.00120408, 0.00122449, 0.0012449 , 0.00126531, 0.00128571,\n",
              "       0.00130612, 0.00132653, 0....\n",
              "       0.00191837, 0.00193878, 0.00195918, 0.00197959, 0.002     ]),\n",
              "                                        &#x27;criterion&#x27;: [&#x27;gini&#x27;, &#x27;entropy&#x27;],\n",
              "                                        &#x27;max_depth&#x27;: [1, 2, 3, 4, 5, 6, 7, 8, 9,\n",
              "                                                      10, 11, 12, 13, 14, 15],\n",
              "                                        &#x27;min_samples_leaf&#x27;: [1, 2, 3, 4, 5, 6,\n",
              "                                                             7, 8, 9, 10, 11,\n",
              "                                                             12, 13, 14, 15, 16,\n",
              "                                                             17, 18, 19, 20, 21,\n",
              "                                                             22, 23, 24, 25, 26,\n",
              "                                                             27, 28, 29],\n",
              "                                        &#x27;min_samples_split&#x27;: [2, 3, 4, 5, 6, 7,\n",
              "                                                              8, 9, 10, 11, 12,\n",
              "                                                              13, 14, 15, 16,\n",
              "                                                              17, 18, 19, 20,\n",
              "                                                              21, 22, 23, 24,\n",
              "                                                              25, 26, 27, 28,\n",
              "                                                              29]},\n",
              "                   random_state=137,\n",
              "                   scoring=make_scorer(f1_score, average=micro))</pre></div></div></div><div class=\"sk-parallel\"><div class=\"sk-parallel-item\"><div class=\"sk-item\"><div class=\"sk-label-container\"><div class=\"sk-label sk-toggleable\"><input class=\"sk-toggleable__control sk-hidden--visually\" id=\"sk-estimator-id-3\" type=\"checkbox\" ><label for=\"sk-estimator-id-3\" class=\"sk-toggleable__label sk-toggleable__label-arrow\">estimator: DecisionTreeClassifier</label><div class=\"sk-toggleable__content\"><pre>DecisionTreeClassifier()</pre></div></div></div><div class=\"sk-serial\"><div class=\"sk-item\"><div class=\"sk-estimator sk-toggleable\"><input class=\"sk-toggleable__control sk-hidden--visually\" id=\"sk-estimator-id-4\" type=\"checkbox\" ><label for=\"sk-estimator-id-4\" class=\"sk-toggleable__label sk-toggleable__label-arrow\">DecisionTreeClassifier</label><div class=\"sk-toggleable__content\"><pre>DecisionTreeClassifier()</pre></div></div></div></div></div></div></div></div></div></div>"
            ]
          },
          "metadata": {},
          "execution_count": 22
        }
      ],
      "source": [
        "#Cantidad de combinaciones\n",
        "n = 30\n",
        "folds = 5\n",
        "\n",
        "#Cantidad de splits para el Cross Validation\n",
        "params_grid = {'criterion':['gini','entropy'],\n",
        "                'min_samples_leaf':list(range(1,30)),\n",
        "                'min_samples_split': list(range(2,30)),\n",
        "                'ccp_alpha':np.linspace(0.001, 0.002),\n",
        "                'max_depth':list(range(1,16))}\n",
        "\n",
        "#Kfold estratificado\n",
        "kfoldcv = StratifiedKFold(n_splits=folds)\n",
        "\n",
        "# Clasificador\n",
        "arbol_base = DecisionTreeClassifier()\n",
        "\n",
        "#Metrica que quiero optimizar F1 Score\n",
        "scorer_fn = make_scorer(f1_score, average='micro')\n",
        "\n",
        "#Random Search Cross Validation\n",
        "randomcv = RandomizedSearchCV(estimator=arbol_base,\n",
        "                              param_distributions = params_grid,\n",
        "                              scoring=scorer_fn,\n",
        "                              cv=kfoldcv,\n",
        "                              n_iter=n,\n",
        "                              random_state=semilla)\n",
        "\n",
        "#Busco los hiperparamtros que optimizan F1 Score\n",
        "randomcv.fit(X_train, y_train)"
      ]
    },
    {
      "cell_type": "markdown",
      "source": [
        "Los hiperparámetros que optimizan el f1 score son:"
      ],
      "metadata": {
        "id": "Y0aKFHhXuOSj"
      }
    },
    {
      "cell_type": "code",
      "source": [
        "print(\"Mejores hiperparámetros: \", str(randomcv.best_params_))\n",
        "print(\"Mejor puntaje: \", str(randomcv.best_score_))"
      ],
      "metadata": {
        "colab": {
          "base_uri": "https://localhost:8080/"
        },
        "id": "pMefA6HSuAlO",
        "outputId": "efd96b8d-9f29-4fa8-fffb-26e85c392679"
      },
      "execution_count": null,
      "outputs": [
        {
          "output_type": "stream",
          "name": "stdout",
          "text": [
            "Mejores hiperparámetros:  {'min_samples_split': 7, 'min_samples_leaf': 2, 'max_depth': 15, 'criterion': 'entropy', 'ccp_alpha': 0.0013061224489795918}\n",
            "Mejor puntaje:  0.5951595518977937\n"
          ]
        }
      ]
    },
    {
      "cell_type": "markdown",
      "metadata": {
        "id": "LNrh9_ZNOFnF"
      },
      "source": [
        "Entreno el árbol con los mejores hiperparametros encontrados."
      ]
    },
    {
      "cell_type": "code",
      "execution_count": null,
      "metadata": {
        "id": "YCnfxDdbQ65d",
        "colab": {
          "base_uri": "https://localhost:8080/",
          "height": 92
        },
        "outputId": "046e3c4d-dd30-40bd-8ff9-60680987eb3e"
      },
      "outputs": [
        {
          "output_type": "execute_result",
          "data": {
            "text/plain": [
              "DecisionTreeClassifier(ccp_alpha=0.0013061224489795918, criterion='entropy',\n",
              "                       max_depth=15, min_samples_leaf=2, min_samples_split=7)"
            ],
            "text/html": [
              "<style>#sk-container-id-3 {color: black;background-color: white;}#sk-container-id-3 pre{padding: 0;}#sk-container-id-3 div.sk-toggleable {background-color: white;}#sk-container-id-3 label.sk-toggleable__label {cursor: pointer;display: block;width: 100%;margin-bottom: 0;padding: 0.3em;box-sizing: border-box;text-align: center;}#sk-container-id-3 label.sk-toggleable__label-arrow:before {content: \"▸\";float: left;margin-right: 0.25em;color: #696969;}#sk-container-id-3 label.sk-toggleable__label-arrow:hover:before {color: black;}#sk-container-id-3 div.sk-estimator:hover label.sk-toggleable__label-arrow:before {color: black;}#sk-container-id-3 div.sk-toggleable__content {max-height: 0;max-width: 0;overflow: hidden;text-align: left;background-color: #f0f8ff;}#sk-container-id-3 div.sk-toggleable__content pre {margin: 0.2em;color: black;border-radius: 0.25em;background-color: #f0f8ff;}#sk-container-id-3 input.sk-toggleable__control:checked~div.sk-toggleable__content {max-height: 200px;max-width: 100%;overflow: auto;}#sk-container-id-3 input.sk-toggleable__control:checked~label.sk-toggleable__label-arrow:before {content: \"▾\";}#sk-container-id-3 div.sk-estimator input.sk-toggleable__control:checked~label.sk-toggleable__label {background-color: #d4ebff;}#sk-container-id-3 div.sk-label input.sk-toggleable__control:checked~label.sk-toggleable__label {background-color: #d4ebff;}#sk-container-id-3 input.sk-hidden--visually {border: 0;clip: rect(1px 1px 1px 1px);clip: rect(1px, 1px, 1px, 1px);height: 1px;margin: -1px;overflow: hidden;padding: 0;position: absolute;width: 1px;}#sk-container-id-3 div.sk-estimator {font-family: monospace;background-color: #f0f8ff;border: 1px dotted black;border-radius: 0.25em;box-sizing: border-box;margin-bottom: 0.5em;}#sk-container-id-3 div.sk-estimator:hover {background-color: #d4ebff;}#sk-container-id-3 div.sk-parallel-item::after {content: \"\";width: 100%;border-bottom: 1px solid gray;flex-grow: 1;}#sk-container-id-3 div.sk-label:hover label.sk-toggleable__label {background-color: #d4ebff;}#sk-container-id-3 div.sk-serial::before {content: \"\";position: absolute;border-left: 1px solid gray;box-sizing: border-box;top: 0;bottom: 0;left: 50%;z-index: 0;}#sk-container-id-3 div.sk-serial {display: flex;flex-direction: column;align-items: center;background-color: white;padding-right: 0.2em;padding-left: 0.2em;position: relative;}#sk-container-id-3 div.sk-item {position: relative;z-index: 1;}#sk-container-id-3 div.sk-parallel {display: flex;align-items: stretch;justify-content: center;background-color: white;position: relative;}#sk-container-id-3 div.sk-item::before, #sk-container-id-3 div.sk-parallel-item::before {content: \"\";position: absolute;border-left: 1px solid gray;box-sizing: border-box;top: 0;bottom: 0;left: 50%;z-index: -1;}#sk-container-id-3 div.sk-parallel-item {display: flex;flex-direction: column;z-index: 1;position: relative;background-color: white;}#sk-container-id-3 div.sk-parallel-item:first-child::after {align-self: flex-end;width: 50%;}#sk-container-id-3 div.sk-parallel-item:last-child::after {align-self: flex-start;width: 50%;}#sk-container-id-3 div.sk-parallel-item:only-child::after {width: 0;}#sk-container-id-3 div.sk-dashed-wrapped {border: 1px dashed gray;margin: 0 0.4em 0.5em 0.4em;box-sizing: border-box;padding-bottom: 0.4em;background-color: white;}#sk-container-id-3 div.sk-label label {font-family: monospace;font-weight: bold;display: inline-block;line-height: 1.2em;}#sk-container-id-3 div.sk-label-container {text-align: center;}#sk-container-id-3 div.sk-container {/* jupyter's `normalize.less` sets `[hidden] { display: none; }` but bootstrap.min.css set `[hidden] { display: none !important; }` so we also need the `!important` here to be able to override the default hidden behavior on the sphinx rendered scikit-learn.org. See: https://github.com/scikit-learn/scikit-learn/issues/21755 */display: inline-block !important;position: relative;}#sk-container-id-3 div.sk-text-repr-fallback {display: none;}</style><div id=\"sk-container-id-3\" class=\"sk-top-container\"><div class=\"sk-text-repr-fallback\"><pre>DecisionTreeClassifier(ccp_alpha=0.0013061224489795918, criterion=&#x27;entropy&#x27;,\n",
              "                       max_depth=15, min_samples_leaf=2, min_samples_split=7)</pre><b>In a Jupyter environment, please rerun this cell to show the HTML representation or trust the notebook. <br />On GitHub, the HTML representation is unable to render, please try loading this page with nbviewer.org.</b></div><div class=\"sk-container\" hidden><div class=\"sk-item\"><div class=\"sk-estimator sk-toggleable\"><input class=\"sk-toggleable__control sk-hidden--visually\" id=\"sk-estimator-id-5\" type=\"checkbox\" checked><label for=\"sk-estimator-id-5\" class=\"sk-toggleable__label sk-toggleable__label-arrow\">DecisionTreeClassifier</label><div class=\"sk-toggleable__content\"><pre>DecisionTreeClassifier(ccp_alpha=0.0013061224489795918, criterion=&#x27;entropy&#x27;,\n",
              "                       max_depth=15, min_samples_leaf=2, min_samples_split=7)</pre></div></div></div></div></div>"
            ]
          },
          "metadata": {},
          "execution_count": 24
        }
      ],
      "source": [
        "# Creo y entreno los mejores arboles de cada search\n",
        "arbol_optimizado_rs = DecisionTreeClassifier().set_params(**randomcv.best_params_)\n",
        "\n",
        "arbol_optimizado_rs.fit(X_train, y_train)"
      ]
    },
    {
      "cell_type": "markdown",
      "source": [
        "Vemos los scores de cross validation."
      ],
      "metadata": {
        "id": "edKY4KD0Lk4-"
      }
    },
    {
      "cell_type": "code",
      "execution_count": null,
      "metadata": {
        "colab": {
          "base_uri": "https://localhost:8080/"
        },
        "id": "82JHdaiaRmjk",
        "outputId": "f7e971c0-363e-4005-a2e6-4fc2476172d9"
      },
      "outputs": [
        {
          "output_type": "stream",
          "name": "stdout",
          "text": [
            "Scores de random search por cada fold:  [0.59861153 0.59040012 0.59589399 0.59178798 0.59910414]\n"
          ]
        }
      ],
      "source": [
        "# Genero los scores de cross validation\n",
        "scoresrs = cross_val_score(arbol_optimizado_rs, X_train, y_train, cv=kfoldcv)\n",
        "\n",
        "print(\"Scores de random search por cada fold: \", scoresrs)"
      ]
    },
    {
      "cell_type": "markdown",
      "metadata": {
        "id": "KyG1rY68RZjO"
      },
      "source": [
        "Reglas del arbol generado con random search."
      ]
    },
    {
      "cell_type": "code",
      "execution_count": null,
      "metadata": {
        "colab": {
          "base_uri": "https://localhost:8080/"
        },
        "id": "FAZ_I_umQgdA",
        "outputId": "b64d2c0c-8508-4910-cec9-5414c10564b1"
      },
      "outputs": [
        {
          "output_type": "stream",
          "name": "stdout",
          "text": [
            "|--- latitud <= -34.60\n",
            "|   |--- neighbourhood_Puerto Madero <= 0.50\n",
            "|   |   |--- longitud <= -34.59\n",
            "|   |   |   |--- neighbourhood_Caballito <= 0.50\n",
            "|   |   |   |   |--- property_type_Departamento <= 0.50\n",
            "|   |   |   |   |   |--- property_surface_total <= 100.50\n",
            "|   |   |   |   |   |   |--- latitud <= -34.62\n",
            "|   |   |   |   |   |   |   |--- class: medio\n",
            "|   |   |   |   |   |   |--- latitud >  -34.62\n",
            "|   |   |   |   |   |   |   |--- class: medio\n",
            "|   |   |   |   |   |--- property_surface_total >  100.50\n",
            "|   |   |   |   |   |   |--- latitud <= -34.64\n",
            "|   |   |   |   |   |   |   |--- class: bajo\n",
            "|   |   |   |   |   |   |--- latitud >  -34.64\n",
            "|   |   |   |   |   |   |   |--- class: medio\n",
            "|   |   |   |   |--- property_type_Departamento >  0.50\n",
            "|   |   |   |   |   |--- latitud <= -34.60\n",
            "|   |   |   |   |   |   |--- longitud <= -58.42\n",
            "|   |   |   |   |   |   |   |--- latitud <= -34.62\n",
            "|   |   |   |   |   |   |   |   |--- latitud <= -34.66\n",
            "|   |   |   |   |   |   |   |   |   |--- class: bajo\n",
            "|   |   |   |   |   |   |   |   |--- latitud >  -34.66\n",
            "|   |   |   |   |   |   |   |   |   |--- class: bajo\n",
            "|   |   |   |   |   |   |   |--- latitud >  -34.62\n",
            "|   |   |   |   |   |   |   |   |--- class: medio\n",
            "|   |   |   |   |   |   |--- longitud >  -58.42\n",
            "|   |   |   |   |   |   |   |--- longitud <= -58.38\n",
            "|   |   |   |   |   |   |   |   |--- property_surface_total <= 55.05\n",
            "|   |   |   |   |   |   |   |   |   |--- class: bajo\n",
            "|   |   |   |   |   |   |   |   |--- property_surface_total >  55.05\n",
            "|   |   |   |   |   |   |   |   |   |--- class: bajo\n",
            "|   |   |   |   |   |   |   |--- longitud >  -58.38\n",
            "|   |   |   |   |   |   |   |   |--- neighbourhood_Boca <= 0.50\n",
            "|   |   |   |   |   |   |   |   |   |--- class: medio\n",
            "|   |   |   |   |   |   |   |   |--- neighbourhood_Boca >  0.50\n",
            "|   |   |   |   |   |   |   |   |   |--- class: bajo\n",
            "|   |   |   |   |   |--- latitud >  -34.60\n",
            "|   |   |   |   |   |   |--- property_surface_total <= 60.13\n",
            "|   |   |   |   |   |   |   |--- class: medio\n",
            "|   |   |   |   |   |   |--- property_surface_total >  60.13\n",
            "|   |   |   |   |   |   |   |--- property_surface_covered <= 40.50\n",
            "|   |   |   |   |   |   |   |   |--- class: bajo\n",
            "|   |   |   |   |   |   |   |--- property_surface_covered >  40.50\n",
            "|   |   |   |   |   |   |   |   |--- longitud <= -58.41\n",
            "|   |   |   |   |   |   |   |   |   |--- class: medio\n",
            "|   |   |   |   |   |   |   |   |--- longitud >  -58.41\n",
            "|   |   |   |   |   |   |   |   |   |--- class: bajo\n",
            "|   |   |   |--- neighbourhood_Caballito >  0.50\n",
            "|   |   |   |   |--- latitud <= -34.62\n",
            "|   |   |   |   |   |--- class: medio\n",
            "|   |   |   |   |--- latitud >  -34.62\n",
            "|   |   |   |   |   |--- class: medio\n",
            "|   |   |--- longitud >  -34.59\n",
            "|   |   |   |--- class: medio\n",
            "|   |--- neighbourhood_Puerto Madero >  0.50\n",
            "|   |   |--- class: alto\n",
            "|--- latitud >  -34.60\n",
            "|   |--- longitud <= -58.47\n",
            "|   |   |--- property_type_Departamento <= 0.50\n",
            "|   |   |   |--- property_surface_total <= 113.50\n",
            "|   |   |   |   |--- class: alto\n",
            "|   |   |   |--- property_surface_total >  113.50\n",
            "|   |   |   |   |--- class: medio\n",
            "|   |   |--- property_type_Departamento >  0.50\n",
            "|   |   |   |--- property_surface_total <= 47.50\n",
            "|   |   |   |   |--- class: medio\n",
            "|   |   |   |--- property_surface_total >  47.50\n",
            "|   |   |   |   |--- property_surface_covered <= 40.50\n",
            "|   |   |   |   |   |--- class: bajo\n",
            "|   |   |   |   |--- property_surface_covered >  40.50\n",
            "|   |   |   |   |   |--- neighbourhood_Villa Urquiza <= 0.50\n",
            "|   |   |   |   |   |   |--- class: medio\n",
            "|   |   |   |   |   |--- neighbourhood_Villa Urquiza >  0.50\n",
            "|   |   |   |   |   |   |--- class: medio\n",
            "|   |--- longitud >  -58.47\n",
            "|   |   |--- latitud <= -34.59\n",
            "|   |   |   |--- longitud <= -58.44\n",
            "|   |   |   |   |--- class: medio\n",
            "|   |   |   |--- longitud >  -58.44\n",
            "|   |   |   |   |--- class: medio\n",
            "|   |   |--- latitud >  -34.59\n",
            "|   |   |   |--- property_surface_covered <= 97.21\n",
            "|   |   |   |   |--- longitud <= -58.44\n",
            "|   |   |   |   |   |--- latitud <= -34.57\n",
            "|   |   |   |   |   |   |--- longitud <= -58.45\n",
            "|   |   |   |   |   |   |   |--- class: medio\n",
            "|   |   |   |   |   |   |--- longitud >  -58.45\n",
            "|   |   |   |   |   |   |   |--- latitud <= -34.59\n",
            "|   |   |   |   |   |   |   |   |--- class: bajo\n",
            "|   |   |   |   |   |   |   |--- latitud >  -34.59\n",
            "|   |   |   |   |   |   |   |   |--- class: medio\n",
            "|   |   |   |   |   |--- latitud >  -34.57\n",
            "|   |   |   |   |   |   |--- property_surface_total <= 55.05\n",
            "|   |   |   |   |   |   |   |--- class: medio\n",
            "|   |   |   |   |   |   |--- property_surface_total >  55.05\n",
            "|   |   |   |   |   |   |   |--- property_surface_covered <= 45.50\n",
            "|   |   |   |   |   |   |   |   |--- class: bajo\n",
            "|   |   |   |   |   |   |   |--- property_surface_covered >  45.50\n",
            "|   |   |   |   |   |   |   |   |--- class: medio\n",
            "|   |   |   |   |--- longitud >  -58.44\n",
            "|   |   |   |   |   |--- latitud <= -34.58\n",
            "|   |   |   |   |   |   |--- longitud <= -58.40\n",
            "|   |   |   |   |   |   |   |--- property_surface_total <= 42.50\n",
            "|   |   |   |   |   |   |   |   |--- class: medio\n",
            "|   |   |   |   |   |   |   |--- property_surface_total >  42.50\n",
            "|   |   |   |   |   |   |   |   |--- property_surface_covered <= 37.50\n",
            "|   |   |   |   |   |   |   |   |   |--- class: bajo\n",
            "|   |   |   |   |   |   |   |   |--- property_surface_covered >  37.50\n",
            "|   |   |   |   |   |   |   |   |   |--- class: medio\n",
            "|   |   |   |   |   |   |--- longitud >  -58.40\n",
            "|   |   |   |   |   |   |   |--- class: alto\n",
            "|   |   |   |   |   |--- latitud >  -34.58\n",
            "|   |   |   |   |   |   |--- class: alto\n",
            "|   |   |   |--- property_surface_covered >  97.21\n",
            "|   |   |   |   |--- latitud <= -34.58\n",
            "|   |   |   |   |   |--- class: medio\n",
            "|   |   |   |   |--- latitud >  -34.58\n",
            "|   |   |   |   |   |--- longitud <= -58.45\n",
            "|   |   |   |   |   |   |--- class: alto\n",
            "|   |   |   |   |   |--- longitud >  -58.45\n",
            "|   |   |   |   |   |   |--- class: alto\n",
            "\n"
          ]
        }
      ],
      "source": [
        "reglasrs = export_text(arbol_optimizado_rs, feature_names=list(features))\n",
        "print(reglasrs)"
      ]
    },
    {
      "cell_type": "markdown",
      "source": [
        "Hago las predicciones para el conjunto de test"
      ],
      "metadata": {
        "id": "VqHKr7JICl58"
      }
    },
    {
      "cell_type": "code",
      "execution_count": null,
      "metadata": {
        "id": "heYJisn7HvYa"
      },
      "outputs": [],
      "source": [
        "y_pred_rs = arbol_optimizado_rs.predict(X_test)"
      ]
    },
    {
      "cell_type": "markdown",
      "metadata": {
        "id": "sT2W9wZOIQDO"
      },
      "source": [
        "Veamos la matriz de confusión para el conjunto de test. (0 es alto, 1 es bajo y 2 es medio)\n",
        "En estos resultados podemos ver que el modelo entrenado falla mucho para la clase `medio`, generando muchos falsos positivos y negativos con las clases `bajo` y `alto`."
      ]
    },
    {
      "cell_type": "code",
      "execution_count": null,
      "metadata": {
        "colab": {
          "base_uri": "https://localhost:8080/",
          "height": 466
        },
        "id": "1y_xaoZxIPcb",
        "outputId": "b5c6df81-3d56-47b9-abca-3975c70058cc"
      },
      "outputs": [
        {
          "output_type": "execute_result",
          "data": {
            "text/plain": [
              "Text(50.722222222222214, 0.5, 'True')"
            ]
          },
          "metadata": {},
          "execution_count": 29
        },
        {
          "output_type": "display_data",
          "data": {
            "text/plain": [
              "<Figure size 640x480 with 2 Axes>"
            ],
            "image/png": "[encoded data removed]"
          },
          "metadata": {}
        }
      ],
      "source": [
        "#Creo la matriz de confusión\n",
        "labels = [\"bajo\", \"medio\", \"alto\"]\n",
        "tabla = confusion_matrix(y_pred_rs, y_test, labels=labels)\n",
        "\n",
        "#Grafico la matriz de confusión\n",
        "sns.heatmap(tabla, cmap='GnBu', annot=True, fmt='g', xticklabels=labels, yticklabels=labels)\n",
        "plt.xlabel('Predicted')\n",
        "plt.ylabel('True')"
      ]
    },
    {
      "cell_type": "markdown",
      "source": [
        "Ahora veamos las métricas del árbol."
      ],
      "metadata": {
        "id": "XKmIhIqlLwqR"
      }
    },
    {
      "cell_type": "code",
      "execution_count": null,
      "metadata": {
        "colab": {
          "base_uri": "https://localhost:8080/"
        },
        "id": "U3s3tNaYTxZx",
        "outputId": "52e2b59e-3905-45d7-aca7-bcf29b8a3028"
      },
      "outputs": [
        {
          "output_type": "stream",
          "name": "stdout",
          "text": [
            "Accuracy: 0.5888922066288445\n",
            "Recall: 0.5888922066288445\n",
            "Precision: 0.5986556018249419\n",
            "f1 score: 0.5716590712534604\n"
          ]
        }
      ],
      "source": [
        "accuracy=accuracy_score(y_test, y_pred_rs)\n",
        "recall=recall_score(y_test, y_pred_rs, average='weighted')\n",
        "f1=f1_score(y_test, y_pred_rs, average='weighted')\n",
        "precision=precision_score(y_test, y_pred_rs, average='weighted')\n",
        "\n",
        "print(\"Accuracy: \"+str(accuracy))\n",
        "print(\"Recall: \"+str(recall))\n",
        "print(\"Precision: \"+str(precision))\n",
        "print(\"f1 score: \"+str(f1))"
      ]
    },
    {
      "cell_type": "code",
      "source": [
        "print(classification_report(y_test, y_pred_rs))"
      ],
      "metadata": {
        "colab": {
          "base_uri": "https://localhost:8080/"
        },
        "id": "EqyCVr0Itx1l",
        "outputId": "88448987-1faa-46cd-a963-9e2832daff51"
      },
      "execution_count": null,
      "outputs": [
        {
          "output_type": "stream",
          "name": "stdout",
          "text": [
            "              precision    recall  f1-score   support\n",
            "\n",
            "        alto       0.62      0.34      0.44      4180\n",
            "        bajo       0.64      0.45      0.52      4189\n",
            "       medio       0.57      0.78      0.66      8376\n",
            "\n",
            "    accuracy                           0.59     16745\n",
            "   macro avg       0.61      0.52      0.54     16745\n",
            "weighted avg       0.60      0.59      0.57     16745\n",
            "\n"
          ]
        }
      ]
    },
    {
      "cell_type": "markdown",
      "source": [
        "Viendo la lista de importancia de features, resulta ser que ni la cantidad de habitaciones ni la cantidad de dormitorios son considerados para tomar las decisiones respecto a las clases, mientras que la latitud es la feature más importante de nuestro dataset."
      ],
      "metadata": {
        "id": "YDOMWNCXEFQi"
      }
    },
    {
      "cell_type": "code",
      "execution_count": null,
      "metadata": {
        "colab": {
          "base_uri": "https://localhost:8080/"
        },
        "id": "qP_3aj6DT7Yd",
        "outputId": "6a8d244b-dc50-4efd-858a-bedacd6314bd"
      },
      "outputs": [
        {
          "output_type": "execute_result",
          "data": {
            "text/plain": [
              "[('latitud', 0.48818707253072663),\n",
              " ('longitud', 0.17503610458610278),\n",
              " ('neighbourhood_Puerto Madero', 0.13345620937299477),\n",
              " ('neighbourhood_Caballito', 0.06314515326879594),\n",
              " ('property_surface_total', 0.05200096756150177),\n",
              " ('property_surface_covered', 0.04758552556796928),\n",
              " ('property_type_Departamento', 0.029510050194469523),\n",
              " ('neighbourhood_Boca', 0.006503386998672001),\n",
              " ('neighbourhood_Villa Urquiza', 0.004575529918767242),\n",
              " ('property_rooms', 0.0),\n",
              " ('property_bedrooms', 0.0),\n",
              " ('property_type_PH', 0.0),\n",
              " ('neighbourhood_Agronomía', 0.0),\n",
              " ('neighbourhood_Almagro', 0.0),\n",
              " ('neighbourhood_Balvanera', 0.0),\n",
              " ('neighbourhood_Barracas', 0.0),\n",
              " ('neighbourhood_Barrio Norte', 0.0),\n",
              " ('neighbourhood_Belgrano', 0.0),\n",
              " ('neighbourhood_Boedo', 0.0),\n",
              " ('neighbourhood_Catalinas', 0.0),\n",
              " ('neighbourhood_Centro / Microcentro', 0.0),\n",
              " ('neighbourhood_Chacarita', 0.0),\n",
              " ('neighbourhood_Coghlan', 0.0),\n",
              " ('neighbourhood_Colegiales', 0.0),\n",
              " ('neighbourhood_Congreso', 0.0),\n",
              " ('neighbourhood_Constitución', 0.0),\n",
              " ('neighbourhood_Flores', 0.0),\n",
              " ('neighbourhood_Floresta', 0.0),\n",
              " ('neighbourhood_Las Cañitas', 0.0),\n",
              " ('neighbourhood_Liniers', 0.0),\n",
              " ('neighbourhood_Mataderos', 0.0),\n",
              " ('neighbourhood_Monserrat', 0.0),\n",
              " ('neighbourhood_Monte Castro', 0.0),\n",
              " ('neighbourhood_Nuñez', 0.0),\n",
              " ('neighbourhood_Once', 0.0),\n",
              " ('neighbourhood_Palermo', 0.0),\n",
              " ('neighbourhood_Parque Avellaneda', 0.0),\n",
              " ('neighbourhood_Parque Centenario', 0.0),\n",
              " ('neighbourhood_Parque Chacabuco', 0.0),\n",
              " ('neighbourhood_Parque Chas', 0.0),\n",
              " ('neighbourhood_Parque Patricios', 0.0),\n",
              " ('neighbourhood_Paternal', 0.0),\n",
              " ('neighbourhood_Pompeya', 0.0),\n",
              " ('neighbourhood_Recoleta', 0.0),\n",
              " ('neighbourhood_Retiro', 0.0),\n",
              " ('neighbourhood_Saavedra', 0.0),\n",
              " ('neighbourhood_San Cristobal', 0.0),\n",
              " ('neighbourhood_San Nicolás', 0.0),\n",
              " ('neighbourhood_San Telmo', 0.0),\n",
              " ('neighbourhood_Tribunales', 0.0),\n",
              " ('neighbourhood_Velez Sarsfield', 0.0),\n",
              " ('neighbourhood_Versalles', 0.0),\n",
              " ('neighbourhood_Villa Crespo', 0.0),\n",
              " ('neighbourhood_Villa Devoto', 0.0),\n",
              " ('neighbourhood_Villa General Mitre', 0.0),\n",
              " ('neighbourhood_Villa Lugano', 0.0),\n",
              " ('neighbourhood_Villa Luro', 0.0),\n",
              " ('neighbourhood_Villa Ortuzar', 0.0),\n",
              " ('neighbourhood_Villa Pueyrredón', 0.0),\n",
              " ('neighbourhood_Villa Real', 0.0),\n",
              " ('neighbourhood_Villa Riachuelo', 0.0),\n",
              " ('neighbourhood_Villa Santa Rita', 0.0),\n",
              " ('neighbourhood_Villa Soldati', 0.0),\n",
              " ('neighbourhood_Villa del Parque', 0.0)]"
            ]
          },
          "metadata": {},
          "execution_count": 32
        }
      ],
      "source": [
        "sorted(list(zip(df_x.columns.to_list(), arbol_optimizado_rs.feature_importances_)), key=lambda x: -x[1])"
      ]
    },
    {
      "cell_type": "markdown",
      "source": [
        "## Entrenamiento escalando superficies"
      ],
      "metadata": {
        "id": "cVlT9nVkm6Tb"
      }
    },
    {
      "cell_type": "markdown",
      "source": [
        "Para el proximo entrenamiento (y a modo de ver si se producen mejores resultados) se procede a escalar las variables que refieren a la superficie."
      ],
      "metadata": {
        "id": "64652D0btSV_"
      }
    },
    {
      "cell_type": "markdown",
      "source": [
        "### Escalado de datos"
      ],
      "metadata": {
        "id": "nP8tWejlpDIw"
      }
    },
    {
      "cell_type": "markdown",
      "source": [
        "Voy a trabajar sobre una copia del dataframe anterior."
      ],
      "metadata": {
        "id": "ELmnmt11pFFi"
      }
    },
    {
      "cell_type": "code",
      "source": [
        "df_escalado = df.copy()"
      ],
      "metadata": {
        "id": "96nAbPSlHFxk"
      },
      "execution_count": null,
      "outputs": []
    },
    {
      "cell_type": "markdown",
      "source": [
        "Escalo mediante escalado estándar las superficies."
      ],
      "metadata": {
        "id": "YQxT6yNupIEb"
      }
    },
    {
      "cell_type": "code",
      "source": [
        "std_scaler = StandardScaler()\n",
        "\n",
        "std_scaler.fit(pd.DataFrame(df_escalado['property_surface_total']).to_numpy())\n",
        "\n",
        "df_escalado['property_surface_total'] = std_scaler.transform(pd.DataFrame(df_escalado['property_surface_total']).to_numpy())"
      ],
      "metadata": {
        "id": "KaYEZhzRSi5X"
      },
      "execution_count": null,
      "outputs": []
    },
    {
      "cell_type": "code",
      "source": [
        "std_scaler = StandardScaler()\n",
        "\n",
        "std_scaler.fit(pd.DataFrame(df_escalado['property_surface_covered']).to_numpy())\n",
        "\n",
        "df_escalado['property_surface_covered'] = std_scaler.transform(pd.DataFrame(df_escalado['property_surface_covered']).to_numpy())"
      ],
      "metadata": {
        "id": "bifzFB6-TiM4"
      },
      "execution_count": null,
      "outputs": []
    },
    {
      "cell_type": "markdown",
      "source": [
        "Genero los dataframes de x (features) e y (targets)."
      ],
      "metadata": {
        "id": "SQo1UzCGpNKq"
      }
    },
    {
      "cell_type": "code",
      "source": [
        "df_escalado_x = df_escalado[features]\n",
        "df_escalado_y = df_escalado[target]"
      ],
      "metadata": {
        "id": "o5mtlnftTl51"
      },
      "execution_count": null,
      "outputs": []
    },
    {
      "cell_type": "markdown",
      "source": [
        "Genero los conjuntos de train y test."
      ],
      "metadata": {
        "id": "gbMnok2VpRir"
      }
    },
    {
      "cell_type": "code",
      "source": [
        "X_train, X_test, y_train, y_test = train_test_split(df_escalado_x, df_escalado_y, test_size=0.20, stratify=df_escalado[target].values, random_state=semilla)"
      ],
      "metadata": {
        "id": "o0YRBVxbTtMf"
      },
      "execution_count": null,
      "outputs": []
    },
    {
      "cell_type": "markdown",
      "source": [
        "### Entrenamiento"
      ],
      "metadata": {
        "id": "ukAk3rnFWxXX"
      }
    },
    {
      "cell_type": "markdown",
      "source": [
        "Pruebo nuevamente random search optimizando f1 score."
      ],
      "metadata": {
        "id": "Lg9CZO40C8LM"
      }
    },
    {
      "cell_type": "code",
      "source": [
        "#Cantidad de combinaciones\n",
        "n = 30\n",
        "folds = 5\n",
        "\n",
        "#Cantidad de splits para el Cross Validation\n",
        "params_grid = {'criterion':['gini','entropy'],\n",
        "                'min_samples_leaf':list(range(1,10)),\n",
        "                'min_samples_split': list(range(2,20)),\n",
        "                'ccp_alpha':np.linspace(0.001,0.003),\n",
        "                'max_depth':list(range(1,20))}\n",
        "\n",
        "#Kfold estratificado\n",
        "kfoldcv = StratifiedKFold(n_splits=folds)\n",
        "\n",
        "# Clasificador\n",
        "arbol_base = DecisionTreeClassifier()\n",
        "\n",
        "#Metrica que quiero optimizar F1 Score\n",
        "scorer_fn = make_scorer(f1_score, average='micro')\n",
        "\n",
        "#Random Search Cross Validation\n",
        "randomcv = RandomizedSearchCV(estimator=arbol_base,\n",
        "                              param_distributions = params_grid,\n",
        "                              scoring=scorer_fn,\n",
        "                              cv=kfoldcv,\n",
        "                              n_iter=n,\n",
        "                              random_state=semilla)\n",
        "\n",
        "#Busco los hiperparamtros que optimizan F1 Score\n",
        "randomcv.fit(X_train, y_train)"
      ],
      "metadata": {
        "colab": {
          "base_uri": "https://localhost:8080/",
          "height": 118
        },
        "id": "wjgc9hyLT9JH",
        "outputId": "47040263-37a4-4d94-8dc4-625b9a3b815e"
      },
      "execution_count": null,
      "outputs": [
        {
          "output_type": "execute_result",
          "data": {
            "text/plain": [
              "RandomizedSearchCV(cv=StratifiedKFold(n_splits=5, random_state=None, shuffle=False),\n",
              "                   estimator=DecisionTreeClassifier(), n_iter=30,\n",
              "                   param_distributions={'ccp_alpha': array([0.001     , 0.00104082, 0.00108163, 0.00112245, 0.00116327,\n",
              "       0.00120408, 0.0012449 , 0.00128571, 0.00132653, 0.00136735,\n",
              "       0.00140816, 0.00144898, 0.0014898 , 0.00153061, 0.00157143,\n",
              "       0.00161224, 0.00165306, 0.0...\n",
              "       0.00263265, 0.00267347, 0.00271429, 0.0027551 , 0.00279592,\n",
              "       0.00283673, 0.00287755, 0.00291837, 0.00295918, 0.003     ]),\n",
              "                                        'criterion': ['gini', 'entropy'],\n",
              "                                        'max_depth': [1, 2, 3, 4, 5, 6, 7, 8, 9,\n",
              "                                                      10, 11, 12, 13, 14, 15,\n",
              "                                                      16, 17, 18, 19],\n",
              "                                        'min_samples_leaf': [1, 2, 3, 4, 5, 6,\n",
              "                                                             7, 8, 9],\n",
              "                                        'min_samples_split': [2, 3, 4, 5, 6, 7,\n",
              "                                                              8, 9, 10, 11, 12,\n",
              "                                                              13, 14, 15, 16,\n",
              "                                                              17, 18, 19]},\n",
              "                   random_state=137,\n",
              "                   scoring=make_scorer(f1_score, average=micro))"
            ],
            "text/html": [
              "<style>#sk-container-id-4 {color: black;background-color: white;}#sk-container-id-4 pre{padding: 0;}#sk-container-id-4 div.sk-toggleable {background-color: white;}#sk-container-id-4 label.sk-toggleable__label {cursor: pointer;display: block;width: 100%;margin-bottom: 0;padding: 0.3em;box-sizing: border-box;text-align: center;}#sk-container-id-4 label.sk-toggleable__label-arrow:before {content: \"▸\";float: left;margin-right: 0.25em;color: #696969;}#sk-container-id-4 label.sk-toggleable__label-arrow:hover:before {color: black;}#sk-container-id-4 div.sk-estimator:hover label.sk-toggleable__label-arrow:before {color: black;}#sk-container-id-4 div.sk-toggleable__content {max-height: 0;max-width: 0;overflow: hidden;text-align: left;background-color: #f0f8ff;}#sk-container-id-4 div.sk-toggleable__content pre {margin: 0.2em;color: black;border-radius: 0.25em;background-color: #f0f8ff;}#sk-container-id-4 input.sk-toggleable__control:checked~div.sk-toggleable__content {max-height: 200px;max-width: 100%;overflow: auto;}#sk-container-id-4 input.sk-toggleable__control:checked~label.sk-toggleable__label-arrow:before {content: \"▾\";}#sk-container-id-4 div.sk-estimator input.sk-toggleable__control:checked~label.sk-toggleable__label {background-color: #d4ebff;}#sk-container-id-4 div.sk-label input.sk-toggleable__control:checked~label.sk-toggleable__label {background-color: #d4ebff;}#sk-container-id-4 input.sk-hidden--visually {border: 0;clip: rect(1px 1px 1px 1px);clip: rect(1px, 1px, 1px, 1px);height: 1px;margin: -1px;overflow: hidden;padding: 0;position: absolute;width: 1px;}#sk-container-id-4 div.sk-estimator {font-family: monospace;background-color: #f0f8ff;border: 1px dotted black;border-radius: 0.25em;box-sizing: border-box;margin-bottom: 0.5em;}#sk-container-id-4 div.sk-estimator:hover {background-color: #d4ebff;}#sk-container-id-4 div.sk-parallel-item::after {content: \"\";width: 100%;border-bottom: 1px solid gray;flex-grow: 1;}#sk-container-id-4 div.sk-label:hover label.sk-toggleable__label {background-color: #d4ebff;}#sk-container-id-4 div.sk-serial::before {content: \"\";position: absolute;border-left: 1px solid gray;box-sizing: border-box;top: 0;bottom: 0;left: 50%;z-index: 0;}#sk-container-id-4 div.sk-serial {display: flex;flex-direction: column;align-items: center;background-color: white;padding-right: 0.2em;padding-left: 0.2em;position: relative;}#sk-container-id-4 div.sk-item {position: relative;z-index: 1;}#sk-container-id-4 div.sk-parallel {display: flex;align-items: stretch;justify-content: center;background-color: white;position: relative;}#sk-container-id-4 div.sk-item::before, #sk-container-id-4 div.sk-parallel-item::before {content: \"\";position: absolute;border-left: 1px solid gray;box-sizing: border-box;top: 0;bottom: 0;left: 50%;z-index: -1;}#sk-container-id-4 div.sk-parallel-item {display: flex;flex-direction: column;z-index: 1;position: relative;background-color: white;}#sk-container-id-4 div.sk-parallel-item:first-child::after {align-self: flex-end;width: 50%;}#sk-container-id-4 div.sk-parallel-item:last-child::after {align-self: flex-start;width: 50%;}#sk-container-id-4 div.sk-parallel-item:only-child::after {width: 0;}#sk-container-id-4 div.sk-dashed-wrapped {border: 1px dashed gray;margin: 0 0.4em 0.5em 0.4em;box-sizing: border-box;padding-bottom: 0.4em;background-color: white;}#sk-container-id-4 div.sk-label label {font-family: monospace;font-weight: bold;display: inline-block;line-height: 1.2em;}#sk-container-id-4 div.sk-label-container {text-align: center;}#sk-container-id-4 div.sk-container {/* jupyter's `normalize.less` sets `[hidden] { display: none; }` but bootstrap.min.css set `[hidden] { display: none !important; }` so we also need the `!important` here to be able to override the default hidden behavior on the sphinx rendered scikit-learn.org. See: https://github.com/scikit-learn/scikit-learn/issues/21755 */display: inline-block !important;position: relative;}#sk-container-id-4 div.sk-text-repr-fallback {display: none;}</style><div id=\"sk-container-id-4\" class=\"sk-top-container\"><div class=\"sk-text-repr-fallback\"><pre>RandomizedSearchCV(cv=StratifiedKFold(n_splits=5, random_state=None, shuffle=False),\n",
              "                   estimator=DecisionTreeClassifier(), n_iter=30,\n",
              "                   param_distributions={&#x27;ccp_alpha&#x27;: array([0.001     , 0.00104082, 0.00108163, 0.00112245, 0.00116327,\n",
              "       0.00120408, 0.0012449 , 0.00128571, 0.00132653, 0.00136735,\n",
              "       0.00140816, 0.00144898, 0.0014898 , 0.00153061, 0.00157143,\n",
              "       0.00161224, 0.00165306, 0.0...\n",
              "       0.00263265, 0.00267347, 0.00271429, 0.0027551 , 0.00279592,\n",
              "       0.00283673, 0.00287755, 0.00291837, 0.00295918, 0.003     ]),\n",
              "                                        &#x27;criterion&#x27;: [&#x27;gini&#x27;, &#x27;entropy&#x27;],\n",
              "                                        &#x27;max_depth&#x27;: [1, 2, 3, 4, 5, 6, 7, 8, 9,\n",
              "                                                      10, 11, 12, 13, 14, 15,\n",
              "                                                      16, 17, 18, 19],\n",
              "                                        &#x27;min_samples_leaf&#x27;: [1, 2, 3, 4, 5, 6,\n",
              "                                                             7, 8, 9],\n",
              "                                        &#x27;min_samples_split&#x27;: [2, 3, 4, 5, 6, 7,\n",
              "                                                              8, 9, 10, 11, 12,\n",
              "                                                              13, 14, 15, 16,\n",
              "                                                              17, 18, 19]},\n",
              "                   random_state=137,\n",
              "                   scoring=make_scorer(f1_score, average=micro))</pre><b>In a Jupyter environment, please rerun this cell to show the HTML representation or trust the notebook. <br />On GitHub, the HTML representation is unable to render, please try loading this page with nbviewer.org.</b></div><div class=\"sk-container\" hidden><div class=\"sk-item sk-dashed-wrapped\"><div class=\"sk-label-container\"><div class=\"sk-label sk-toggleable\"><input class=\"sk-toggleable__control sk-hidden--visually\" id=\"sk-estimator-id-6\" type=\"checkbox\" ><label for=\"sk-estimator-id-6\" class=\"sk-toggleable__label sk-toggleable__label-arrow\">RandomizedSearchCV</label><div class=\"sk-toggleable__content\"><pre>RandomizedSearchCV(cv=StratifiedKFold(n_splits=5, random_state=None, shuffle=False),\n",
              "                   estimator=DecisionTreeClassifier(), n_iter=30,\n",
              "                   param_distributions={&#x27;ccp_alpha&#x27;: array([0.001     , 0.00104082, 0.00108163, 0.00112245, 0.00116327,\n",
              "       0.00120408, 0.0012449 , 0.00128571, 0.00132653, 0.00136735,\n",
              "       0.00140816, 0.00144898, 0.0014898 , 0.00153061, 0.00157143,\n",
              "       0.00161224, 0.00165306, 0.0...\n",
              "       0.00263265, 0.00267347, 0.00271429, 0.0027551 , 0.00279592,\n",
              "       0.00283673, 0.00287755, 0.00291837, 0.00295918, 0.003     ]),\n",
              "                                        &#x27;criterion&#x27;: [&#x27;gini&#x27;, &#x27;entropy&#x27;],\n",
              "                                        &#x27;max_depth&#x27;: [1, 2, 3, 4, 5, 6, 7, 8, 9,\n",
              "                                                      10, 11, 12, 13, 14, 15,\n",
              "                                                      16, 17, 18, 19],\n",
              "                                        &#x27;min_samples_leaf&#x27;: [1, 2, 3, 4, 5, 6,\n",
              "                                                             7, 8, 9],\n",
              "                                        &#x27;min_samples_split&#x27;: [2, 3, 4, 5, 6, 7,\n",
              "                                                              8, 9, 10, 11, 12,\n",
              "                                                              13, 14, 15, 16,\n",
              "                                                              17, 18, 19]},\n",
              "                   random_state=137,\n",
              "                   scoring=make_scorer(f1_score, average=micro))</pre></div></div></div><div class=\"sk-parallel\"><div class=\"sk-parallel-item\"><div class=\"sk-item\"><div class=\"sk-label-container\"><div class=\"sk-label sk-toggleable\"><input class=\"sk-toggleable__control sk-hidden--visually\" id=\"sk-estimator-id-7\" type=\"checkbox\" ><label for=\"sk-estimator-id-7\" class=\"sk-toggleable__label sk-toggleable__label-arrow\">estimator: DecisionTreeClassifier</label><div class=\"sk-toggleable__content\"><pre>DecisionTreeClassifier()</pre></div></div></div><div class=\"sk-serial\"><div class=\"sk-item\"><div class=\"sk-estimator sk-toggleable\"><input class=\"sk-toggleable__control sk-hidden--visually\" id=\"sk-estimator-id-8\" type=\"checkbox\" ><label for=\"sk-estimator-id-8\" class=\"sk-toggleable__label sk-toggleable__label-arrow\">DecisionTreeClassifier</label><div class=\"sk-toggleable__content\"><pre>DecisionTreeClassifier()</pre></div></div></div></div></div></div></div></div></div></div>"
            ]
          },
          "metadata": {},
          "execution_count": 43
        }
      ]
    },
    {
      "cell_type": "markdown",
      "source": [
        "Muestro los mejores hiperparametros y el mejor score."
      ],
      "metadata": {
        "id": "j0pAvIKpWta7"
      }
    },
    {
      "cell_type": "code",
      "source": [
        "print(\"Mejores hiperparámetros: \", str(randomcv.best_params_))\n",
        "print(\"Mejor puntaje: \", str(randomcv.best_score_))"
      ],
      "metadata": {
        "colab": {
          "base_uri": "https://localhost:8080/"
        },
        "id": "5L1-3y6ySx5H",
        "outputId": "ef215982-0c40-4bc5-a17d-80bcfff82e5d"
      },
      "execution_count": null,
      "outputs": [
        {
          "output_type": "stream",
          "name": "stdout",
          "text": [
            "Mejores hiperparámetros:  {'min_samples_split': 14, 'min_samples_leaf': 7, 'max_depth': 11, 'criterion': 'entropy', 'ccp_alpha': 0.0010408163265306122}\n",
            "Mejor puntaje:  0.5983248296277374\n"
          ]
        }
      ]
    },
    {
      "cell_type": "markdown",
      "source": [
        "Entreno el árbol con los mejores hiperparametros."
      ],
      "metadata": {
        "id": "juXAF7lCWpwR"
      }
    },
    {
      "cell_type": "code",
      "source": [
        "arbol_escalado = DecisionTreeClassifier().set_params(**randomcv.best_params_)\n",
        "\n",
        "arbol_escalado.fit(X_train, y_train)"
      ],
      "metadata": {
        "colab": {
          "base_uri": "https://localhost:8080/",
          "height": 92
        },
        "id": "xpnuQmXMUOsR",
        "outputId": "db0f348b-f8f2-406e-9ce4-89d20134d560"
      },
      "execution_count": null,
      "outputs": [
        {
          "output_type": "execute_result",
          "data": {
            "text/plain": [
              "DecisionTreeClassifier(ccp_alpha=0.0010408163265306122, criterion='entropy',\n",
              "                       max_depth=11, min_samples_leaf=7, min_samples_split=14)"
            ],
            "text/html": [
              "<style>#sk-container-id-5 {color: black;background-color: white;}#sk-container-id-5 pre{padding: 0;}#sk-container-id-5 div.sk-toggleable {background-color: white;}#sk-container-id-5 label.sk-toggleable__label {cursor: pointer;display: block;width: 100%;margin-bottom: 0;padding: 0.3em;box-sizing: border-box;text-align: center;}#sk-container-id-5 label.sk-toggleable__label-arrow:before {content: \"▸\";float: left;margin-right: 0.25em;color: #696969;}#sk-container-id-5 label.sk-toggleable__label-arrow:hover:before {color: black;}#sk-container-id-5 div.sk-estimator:hover label.sk-toggleable__label-arrow:before {color: black;}#sk-container-id-5 div.sk-toggleable__content {max-height: 0;max-width: 0;overflow: hidden;text-align: left;background-color: #f0f8ff;}#sk-container-id-5 div.sk-toggleable__content pre {margin: 0.2em;color: black;border-radius: 0.25em;background-color: #f0f8ff;}#sk-container-id-5 input.sk-toggleable__control:checked~div.sk-toggleable__content {max-height: 200px;max-width: 100%;overflow: auto;}#sk-container-id-5 input.sk-toggleable__control:checked~label.sk-toggleable__label-arrow:before {content: \"▾\";}#sk-container-id-5 div.sk-estimator input.sk-toggleable__control:checked~label.sk-toggleable__label {background-color: #d4ebff;}#sk-container-id-5 div.sk-label input.sk-toggleable__control:checked~label.sk-toggleable__label {background-color: #d4ebff;}#sk-container-id-5 input.sk-hidden--visually {border: 0;clip: rect(1px 1px 1px 1px);clip: rect(1px, 1px, 1px, 1px);height: 1px;margin: -1px;overflow: hidden;padding: 0;position: absolute;width: 1px;}#sk-container-id-5 div.sk-estimator {font-family: monospace;background-color: #f0f8ff;border: 1px dotted black;border-radius: 0.25em;box-sizing: border-box;margin-bottom: 0.5em;}#sk-container-id-5 div.sk-estimator:hover {background-color: #d4ebff;}#sk-container-id-5 div.sk-parallel-item::after {content: \"\";width: 100%;border-bottom: 1px solid gray;flex-grow: 1;}#sk-container-id-5 div.sk-label:hover label.sk-toggleable__label {background-color: #d4ebff;}#sk-container-id-5 div.sk-serial::before {content: \"\";position: absolute;border-left: 1px solid gray;box-sizing: border-box;top: 0;bottom: 0;left: 50%;z-index: 0;}#sk-container-id-5 div.sk-serial {display: flex;flex-direction: column;align-items: center;background-color: white;padding-right: 0.2em;padding-left: 0.2em;position: relative;}#sk-container-id-5 div.sk-item {position: relative;z-index: 1;}#sk-container-id-5 div.sk-parallel {display: flex;align-items: stretch;justify-content: center;background-color: white;position: relative;}#sk-container-id-5 div.sk-item::before, #sk-container-id-5 div.sk-parallel-item::before {content: \"\";position: absolute;border-left: 1px solid gray;box-sizing: border-box;top: 0;bottom: 0;left: 50%;z-index: -1;}#sk-container-id-5 div.sk-parallel-item {display: flex;flex-direction: column;z-index: 1;position: relative;background-color: white;}#sk-container-id-5 div.sk-parallel-item:first-child::after {align-self: flex-end;width: 50%;}#sk-container-id-5 div.sk-parallel-item:last-child::after {align-self: flex-start;width: 50%;}#sk-container-id-5 div.sk-parallel-item:only-child::after {width: 0;}#sk-container-id-5 div.sk-dashed-wrapped {border: 1px dashed gray;margin: 0 0.4em 0.5em 0.4em;box-sizing: border-box;padding-bottom: 0.4em;background-color: white;}#sk-container-id-5 div.sk-label label {font-family: monospace;font-weight: bold;display: inline-block;line-height: 1.2em;}#sk-container-id-5 div.sk-label-container {text-align: center;}#sk-container-id-5 div.sk-container {/* jupyter's `normalize.less` sets `[hidden] { display: none; }` but bootstrap.min.css set `[hidden] { display: none !important; }` so we also need the `!important` here to be able to override the default hidden behavior on the sphinx rendered scikit-learn.org. See: https://github.com/scikit-learn/scikit-learn/issues/21755 */display: inline-block !important;position: relative;}#sk-container-id-5 div.sk-text-repr-fallback {display: none;}</style><div id=\"sk-container-id-5\" class=\"sk-top-container\"><div class=\"sk-text-repr-fallback\"><pre>DecisionTreeClassifier(ccp_alpha=0.0010408163265306122, criterion=&#x27;entropy&#x27;,\n",
              "                       max_depth=11, min_samples_leaf=7, min_samples_split=14)</pre><b>In a Jupyter environment, please rerun this cell to show the HTML representation or trust the notebook. <br />On GitHub, the HTML representation is unable to render, please try loading this page with nbviewer.org.</b></div><div class=\"sk-container\" hidden><div class=\"sk-item\"><div class=\"sk-estimator sk-toggleable\"><input class=\"sk-toggleable__control sk-hidden--visually\" id=\"sk-estimator-id-9\" type=\"checkbox\" checked><label for=\"sk-estimator-id-9\" class=\"sk-toggleable__label sk-toggleable__label-arrow\">DecisionTreeClassifier</label><div class=\"sk-toggleable__content\"><pre>DecisionTreeClassifier(ccp_alpha=0.0010408163265306122, criterion=&#x27;entropy&#x27;,\n",
              "                       max_depth=11, min_samples_leaf=7, min_samples_split=14)</pre></div></div></div></div></div>"
            ]
          },
          "metadata": {},
          "execution_count": 45
        }
      ]
    },
    {
      "cell_type": "markdown",
      "source": [
        "Predigo los datos de test."
      ],
      "metadata": {
        "id": "jJAiIxtUWmXz"
      }
    },
    {
      "cell_type": "code",
      "source": [
        "y_pred_escalado = arbol_escalado.predict(X_test)"
      ],
      "metadata": {
        "id": "RwM_CBmbVx7v"
      },
      "execution_count": null,
      "outputs": []
    },
    {
      "cell_type": "markdown",
      "source": [
        "Visualizo la matriz de confusiones"
      ],
      "metadata": {
        "id": "oZCUy8hVWkbR"
      }
    },
    {
      "cell_type": "code",
      "source": [
        "#Creo la matriz de confusión\n",
        "labels = [\"bajo\", \"medio\", \"alto\"]\n",
        "tabla = confusion_matrix(y_pred_escalado, y_test, labels=labels)\n",
        "\n",
        "#Grafico la matriz de confusión\n",
        "sns.heatmap(tabla, cmap='GnBu', annot=True, fmt='g', xticklabels=labels, yticklabels=labels)\n",
        "plt.xlabel('Predicted')\n",
        "plt.ylabel('True')"
      ],
      "metadata": {
        "colab": {
          "base_uri": "https://localhost:8080/",
          "height": 466
        },
        "id": "SbTatujnV6ne",
        "outputId": "4a7eff06-b92d-4f8f-d409-1b9acf103b5d"
      },
      "execution_count": null,
      "outputs": [
        {
          "output_type": "execute_result",
          "data": {
            "text/plain": [
              "Text(50.722222222222214, 0.5, 'True')"
            ]
          },
          "metadata": {},
          "execution_count": 47
        },
        {
          "output_type": "display_data",
          "data": {
            "text/plain": [
              "<Figure size 640x480 with 2 Axes>"
            ],
            "image/png": "[encoded data removed]"
          },
          "metadata": {}
        }
      ]
    },
    {
      "cell_type": "markdown",
      "source": [
        "Performance en training"
      ],
      "metadata": {
        "id": "6zN2DAQh1kMM"
      }
    },
    {
      "cell_type": "code",
      "source": [
        "scores = cross_val_score(arbol_escalado, X_train, y_train, cv=kfoldcv)\n",
        "\n",
        "print(\"Scores de random search por cada fold: \", scores)"
      ],
      "metadata": {
        "colab": {
          "base_uri": "https://localhost:8080/"
        },
        "id": "HQBGzUw41lyI",
        "outputId": "d61f0bba-b17c-45e2-d6dc-bb09e0c002f5"
      },
      "execution_count": null,
      "outputs": [
        {
          "output_type": "stream",
          "name": "stdout",
          "text": [
            "Scores de random search por cada fold:  [0.59883547 0.59570021 0.59671519 0.59626726 0.60410601]\n"
          ]
        }
      ]
    },
    {
      "cell_type": "markdown",
      "source": [
        "Viendo ahora la performance sobre el conjunto de test"
      ],
      "metadata": {
        "id": "mT9rDknp1JwU"
      }
    },
    {
      "cell_type": "code",
      "source": [
        "accuracy=accuracy_score(y_test, y_pred_escalado)\n",
        "recall=recall_score(y_test, y_pred_escalado, average='weighted')\n",
        "f1=f1_score(y_test, y_pred_escalado, average='weighted')\n",
        "precision=precision_score(y_test, y_pred_escalado, average='weighted')\n",
        "\n",
        "print(\"Accuracy: \"+str(accuracy))\n",
        "print(\"Recall: \"+str(recall))\n",
        "print(\"Precision: \"+str(precision))\n",
        "print(\"f1 score: \"+str(f1))"
      ],
      "metadata": {
        "colab": {
          "base_uri": "https://localhost:8080/"
        },
        "id": "Im7eZUDeWEbQ",
        "outputId": "dd765f06-f3c0-4eb2-e5dc-fcb85d82beef"
      },
      "execution_count": null,
      "outputs": [
        {
          "output_type": "stream",
          "name": "stdout",
          "text": [
            "Accuracy: 0.5891908032248432\n",
            "Recall: 0.5891908032248432\n",
            "Precision: 0.5966666382859791\n",
            "f1 score: 0.5748902658724793\n"
          ]
        }
      ]
    },
    {
      "cell_type": "markdown",
      "source": [
        "## Entrenamiento escalando latitud y longitud"
      ],
      "metadata": {
        "id": "rfqWpvjwXrft"
      }
    },
    {
      "cell_type": "markdown",
      "source": [
        "Para el proximo entrenamiento (y a modo de ver si se producen mejores resultados) se procede a escalar las variables que refieren a la superficie."
      ],
      "metadata": {
        "id": "vcLh-b_4Xrf-"
      }
    },
    {
      "cell_type": "markdown",
      "source": [
        "### Escalado de datos"
      ],
      "metadata": {
        "id": "mDHL3tnqXrf_"
      }
    },
    {
      "cell_type": "markdown",
      "source": [
        "Voy a trabajar sobre una copia del dataframe anterior."
      ],
      "metadata": {
        "id": "ebM7i51dXrf_"
      }
    },
    {
      "cell_type": "code",
      "source": [
        "df_escalado = df.copy()"
      ],
      "metadata": {
        "id": "IP4KdstdXrgA"
      },
      "execution_count": null,
      "outputs": []
    },
    {
      "cell_type": "markdown",
      "source": [
        "Escalo mediante escalado estándar las superficies."
      ],
      "metadata": {
        "id": "7XagWHKxXrgA"
      }
    },
    {
      "cell_type": "code",
      "source": [
        "std_scaler = StandardScaler()\n",
        "\n",
        "std_scaler.fit(pd.DataFrame(df_escalado['property_surface_total']).to_numpy())\n",
        "\n",
        "df_escalado['latitud'] = std_scaler.transform(pd.DataFrame(df_escalado['latitud']).to_numpy())"
      ],
      "metadata": {
        "id": "yiroNsa5XrgA"
      },
      "execution_count": null,
      "outputs": []
    },
    {
      "cell_type": "code",
      "source": [
        "std_scaler = StandardScaler()\n",
        "\n",
        "std_scaler.fit(pd.DataFrame(df_escalado['longitud']).to_numpy())\n",
        "\n",
        "df_escalado['longitud'] = std_scaler.transform(pd.DataFrame(df_escalado['longitud']).to_numpy())"
      ],
      "metadata": {
        "id": "amTHdFR1XrgB"
      },
      "execution_count": null,
      "outputs": []
    },
    {
      "cell_type": "markdown",
      "source": [
        "Genero los dataframes de x (features) e y (targets)."
      ],
      "metadata": {
        "id": "AgYOfedbXrgB"
      }
    },
    {
      "cell_type": "code",
      "source": [
        "df_escalado_x = df_escalado[features]\n",
        "df_escalado_y = df_escalado[target]"
      ],
      "metadata": {
        "id": "vcTmU6ftXrgB"
      },
      "execution_count": null,
      "outputs": []
    },
    {
      "cell_type": "markdown",
      "source": [
        "Genero los conjuntos de train y test."
      ],
      "metadata": {
        "id": "26wvjiuZXrgB"
      }
    },
    {
      "cell_type": "code",
      "source": [
        "X_train, X_test, y_train, y_test = train_test_split(df_escalado_x, df_escalado_y, test_size=0.20, stratify=df_escalado[target].values, random_state=semilla)"
      ],
      "metadata": {
        "id": "s0lxjwjIXrgC"
      },
      "execution_count": null,
      "outputs": []
    },
    {
      "cell_type": "markdown",
      "source": [
        "### Entrenamiento"
      ],
      "metadata": {
        "id": "l0Gyq0quXrgC"
      }
    },
    {
      "cell_type": "markdown",
      "source": [
        "Pruebo nuevamente random search optimizando f1 score."
      ],
      "metadata": {
        "id": "WWU0rBQvXrgC"
      }
    },
    {
      "cell_type": "code",
      "source": [
        "#Cantidad de combinaciones\n",
        "n = 30\n",
        "folds = 5\n",
        "\n",
        "#Cantidad de splits para el Cross Validation\n",
        "params_grid = {'criterion':['gini','entropy'],\n",
        "                'min_samples_leaf':list(range(1,10)),\n",
        "                'min_samples_split': list(range(2,20)),\n",
        "                'ccp_alpha':np.linspace(0.001,0.003),\n",
        "                'max_depth':list(range(1,20))}\n",
        "\n",
        "#Kfold estratificado\n",
        "kfoldcv = StratifiedKFold(n_splits=folds)\n",
        "\n",
        "# Clasificador\n",
        "arbol_base = DecisionTreeClassifier()\n",
        "\n",
        "#Metrica que quiero optimizar F1 Score\n",
        "scorer_fn = make_scorer(f1_score, average='micro')\n",
        "\n",
        "#Random Search Cross Validation\n",
        "randomcv = RandomizedSearchCV(estimator=arbol_base,\n",
        "                              param_distributions = params_grid,\n",
        "                              scoring=scorer_fn,\n",
        "                              cv=kfoldcv,\n",
        "                              n_iter=n,\n",
        "                              random_state=semilla)\n",
        "\n",
        "#Busco los hiperparamtros que optimizan F1 Score\n",
        "randomcv.fit(X_train, y_train)"
      ],
      "metadata": {
        "colab": {
          "base_uri": "https://localhost:8080/"
        },
        "outputId": "c3ffc3a9-189d-444b-bd78-d950b790f5e1",
        "id": "WgpI5XPxXrgC"
      },
      "execution_count": null,
      "outputs": [
        {
          "output_type": "execute_result",
          "data": {
            "text/plain": [
              "RandomizedSearchCV(cv=StratifiedKFold(n_splits=5, random_state=None, shuffle=False),\n",
              "                   estimator=DecisionTreeClassifier(), n_iter=30,\n",
              "                   param_distributions={'ccp_alpha': array([0.001     , 0.00104082, 0.00108163, 0.00112245, 0.00116327,\n",
              "       0.00120408, 0.0012449 , 0.00128571, 0.00132653, 0.00136735,\n",
              "       0.00140816, 0.00144898, 0.0014898 , 0.00153061, 0.00157143,\n",
              "       0.00161224, 0.00165306, 0.0...\n",
              "       0.00263265, 0.00267347, 0.00271429, 0.0027551 , 0.00279592,\n",
              "       0.00283673, 0.00287755, 0.00291837, 0.00295918, 0.003     ]),\n",
              "                                        'criterion': ['gini', 'entropy'],\n",
              "                                        'max_depth': [1, 2, 3, 4, 5, 6, 7, 8, 9,\n",
              "                                                      10, 11, 12, 13, 14, 15,\n",
              "                                                      16, 17, 18, 19],\n",
              "                                        'min_samples_leaf': [1, 2, 3, 4, 5, 6,\n",
              "                                                             7, 8, 9],\n",
              "                                        'min_samples_split': [2, 3, 4, 5, 6, 7,\n",
              "                                                              8, 9, 10, 11, 12,\n",
              "                                                              13, 14, 15, 16,\n",
              "                                                              17, 18, 19]},\n",
              "                   random_state=137,\n",
              "                   scoring=make_scorer(f1_score, average=micro))"
            ],
            "text/html": [
              "<style>#sk-container-id-6 {color: black;background-color: white;}#sk-container-id-6 pre{padding: 0;}#sk-container-id-6 div.sk-toggleable {background-color: white;}#sk-container-id-6 label.sk-toggleable__label {cursor: pointer;display: block;width: 100%;margin-bottom: 0;padding: 0.3em;box-sizing: border-box;text-align: center;}#sk-container-id-6 label.sk-toggleable__label-arrow:before {content: \"▸\";float: left;margin-right: 0.25em;color: #696969;}#sk-container-id-6 label.sk-toggleable__label-arrow:hover:before {color: black;}#sk-container-id-6 div.sk-estimator:hover label.sk-toggleable__label-arrow:before {color: black;}#sk-container-id-6 div.sk-toggleable__content {max-height: 0;max-width: 0;overflow: hidden;text-align: left;background-color: #f0f8ff;}#sk-container-id-6 div.sk-toggleable__content pre {margin: 0.2em;color: black;border-radius: 0.25em;background-color: #f0f8ff;}#sk-container-id-6 input.sk-toggleable__control:checked~div.sk-toggleable__content {max-height: 200px;max-width: 100%;overflow: auto;}#sk-container-id-6 input.sk-toggleable__control:checked~label.sk-toggleable__label-arrow:before {content: \"▾\";}#sk-container-id-6 div.sk-estimator input.sk-toggleable__control:checked~label.sk-toggleable__label {background-color: #d4ebff;}#sk-container-id-6 div.sk-label input.sk-toggleable__control:checked~label.sk-toggleable__label {background-color: #d4ebff;}#sk-container-id-6 input.sk-hidden--visually {border: 0;clip: rect(1px 1px 1px 1px);clip: rect(1px, 1px, 1px, 1px);height: 1px;margin: -1px;overflow: hidden;padding: 0;position: absolute;width: 1px;}#sk-container-id-6 div.sk-estimator {font-family: monospace;background-color: #f0f8ff;border: 1px dotted black;border-radius: 0.25em;box-sizing: border-box;margin-bottom: 0.5em;}#sk-container-id-6 div.sk-estimator:hover {background-color: #d4ebff;}#sk-container-id-6 div.sk-parallel-item::after {content: \"\";width: 100%;border-bottom: 1px solid gray;flex-grow: 1;}#sk-container-id-6 div.sk-label:hover label.sk-toggleable__label {background-color: #d4ebff;}#sk-container-id-6 div.sk-serial::before {content: \"\";position: absolute;border-left: 1px solid gray;box-sizing: border-box;top: 0;bottom: 0;left: 50%;z-index: 0;}#sk-container-id-6 div.sk-serial {display: flex;flex-direction: column;align-items: center;background-color: white;padding-right: 0.2em;padding-left: 0.2em;position: relative;}#sk-container-id-6 div.sk-item {position: relative;z-index: 1;}#sk-container-id-6 div.sk-parallel {display: flex;align-items: stretch;justify-content: center;background-color: white;position: relative;}#sk-container-id-6 div.sk-item::before, #sk-container-id-6 div.sk-parallel-item::before {content: \"\";position: absolute;border-left: 1px solid gray;box-sizing: border-box;top: 0;bottom: 0;left: 50%;z-index: -1;}#sk-container-id-6 div.sk-parallel-item {display: flex;flex-direction: column;z-index: 1;position: relative;background-color: white;}#sk-container-id-6 div.sk-parallel-item:first-child::after {align-self: flex-end;width: 50%;}#sk-container-id-6 div.sk-parallel-item:last-child::after {align-self: flex-start;width: 50%;}#sk-container-id-6 div.sk-parallel-item:only-child::after {width: 0;}#sk-container-id-6 div.sk-dashed-wrapped {border: 1px dashed gray;margin: 0 0.4em 0.5em 0.4em;box-sizing: border-box;padding-bottom: 0.4em;background-color: white;}#sk-container-id-6 div.sk-label label {font-family: monospace;font-weight: bold;display: inline-block;line-height: 1.2em;}#sk-container-id-6 div.sk-label-container {text-align: center;}#sk-container-id-6 div.sk-container {/* jupyter's `normalize.less` sets `[hidden] { display: none; }` but bootstrap.min.css set `[hidden] { display: none !important; }` so we also need the `!important` here to be able to override the default hidden behavior on the sphinx rendered scikit-learn.org. See: https://github.com/scikit-learn/scikit-learn/issues/21755 */display: inline-block !important;position: relative;}#sk-container-id-6 div.sk-text-repr-fallback {display: none;}</style><div id=\"sk-container-id-6\" class=\"sk-top-container\"><div class=\"sk-text-repr-fallback\"><pre>RandomizedSearchCV(cv=StratifiedKFold(n_splits=5, random_state=None, shuffle=False),\n",
              "                   estimator=DecisionTreeClassifier(), n_iter=30,\n",
              "                   param_distributions={&#x27;ccp_alpha&#x27;: array([0.001     , 0.00104082, 0.00108163, 0.00112245, 0.00116327,\n",
              "       0.00120408, 0.0012449 , 0.00128571, 0.00132653, 0.00136735,\n",
              "       0.00140816, 0.00144898, 0.0014898 , 0.00153061, 0.00157143,\n",
              "       0.00161224, 0.00165306, 0.0...\n",
              "       0.00263265, 0.00267347, 0.00271429, 0.0027551 , 0.00279592,\n",
              "       0.00283673, 0.00287755, 0.00291837, 0.00295918, 0.003     ]),\n",
              "                                        &#x27;criterion&#x27;: [&#x27;gini&#x27;, &#x27;entropy&#x27;],\n",
              "                                        &#x27;max_depth&#x27;: [1, 2, 3, 4, 5, 6, 7, 8, 9,\n",
              "                                                      10, 11, 12, 13, 14, 15,\n",
              "                                                      16, 17, 18, 19],\n",
              "                                        &#x27;min_samples_leaf&#x27;: [1, 2, 3, 4, 5, 6,\n",
              "                                                             7, 8, 9],\n",
              "                                        &#x27;min_samples_split&#x27;: [2, 3, 4, 5, 6, 7,\n",
              "                                                              8, 9, 10, 11, 12,\n",
              "                                                              13, 14, 15, 16,\n",
              "                                                              17, 18, 19]},\n",
              "                   random_state=137,\n",
              "                   scoring=make_scorer(f1_score, average=micro))</pre><b>In a Jupyter environment, please rerun this cell to show the HTML representation or trust the notebook. <br />On GitHub, the HTML representation is unable to render, please try loading this page with nbviewer.org.</b></div><div class=\"sk-container\" hidden><div class=\"sk-item sk-dashed-wrapped\"><div class=\"sk-label-container\"><div class=\"sk-label sk-toggleable\"><input class=\"sk-toggleable__control sk-hidden--visually\" id=\"sk-estimator-id-10\" type=\"checkbox\" ><label for=\"sk-estimator-id-10\" class=\"sk-toggleable__label sk-toggleable__label-arrow\">RandomizedSearchCV</label><div class=\"sk-toggleable__content\"><pre>RandomizedSearchCV(cv=StratifiedKFold(n_splits=5, random_state=None, shuffle=False),\n",
              "                   estimator=DecisionTreeClassifier(), n_iter=30,\n",
              "                   param_distributions={&#x27;ccp_alpha&#x27;: array([0.001     , 0.00104082, 0.00108163, 0.00112245, 0.00116327,\n",
              "       0.00120408, 0.0012449 , 0.00128571, 0.00132653, 0.00136735,\n",
              "       0.00140816, 0.00144898, 0.0014898 , 0.00153061, 0.00157143,\n",
              "       0.00161224, 0.00165306, 0.0...\n",
              "       0.00263265, 0.00267347, 0.00271429, 0.0027551 , 0.00279592,\n",
              "       0.00283673, 0.00287755, 0.00291837, 0.00295918, 0.003     ]),\n",
              "                                        &#x27;criterion&#x27;: [&#x27;gini&#x27;, &#x27;entropy&#x27;],\n",
              "                                        &#x27;max_depth&#x27;: [1, 2, 3, 4, 5, 6, 7, 8, 9,\n",
              "                                                      10, 11, 12, 13, 14, 15,\n",
              "                                                      16, 17, 18, 19],\n",
              "                                        &#x27;min_samples_leaf&#x27;: [1, 2, 3, 4, 5, 6,\n",
              "                                                             7, 8, 9],\n",
              "                                        &#x27;min_samples_split&#x27;: [2, 3, 4, 5, 6, 7,\n",
              "                                                              8, 9, 10, 11, 12,\n",
              "                                                              13, 14, 15, 16,\n",
              "                                                              17, 18, 19]},\n",
              "                   random_state=137,\n",
              "                   scoring=make_scorer(f1_score, average=micro))</pre></div></div></div><div class=\"sk-parallel\"><div class=\"sk-parallel-item\"><div class=\"sk-item\"><div class=\"sk-label-container\"><div class=\"sk-label sk-toggleable\"><input class=\"sk-toggleable__control sk-hidden--visually\" id=\"sk-estimator-id-11\" type=\"checkbox\" ><label for=\"sk-estimator-id-11\" class=\"sk-toggleable__label sk-toggleable__label-arrow\">estimator: DecisionTreeClassifier</label><div class=\"sk-toggleable__content\"><pre>DecisionTreeClassifier()</pre></div></div></div><div class=\"sk-serial\"><div class=\"sk-item\"><div class=\"sk-estimator sk-toggleable\"><input class=\"sk-toggleable__control sk-hidden--visually\" id=\"sk-estimator-id-12\" type=\"checkbox\" ><label for=\"sk-estimator-id-12\" class=\"sk-toggleable__label sk-toggleable__label-arrow\">DecisionTreeClassifier</label><div class=\"sk-toggleable__content\"><pre>DecisionTreeClassifier()</pre></div></div></div></div></div></div></div></div></div></div>"
            ]
          },
          "metadata": {},
          "execution_count": 55
        }
      ]
    },
    {
      "cell_type": "markdown",
      "source": [
        "Muestro los mejores hiperparametros y el mejor score."
      ],
      "metadata": {
        "id": "FflVSy2AXrgD"
      }
    },
    {
      "cell_type": "code",
      "source": [
        "print(\"Mejores hiperparámetros: \", str(randomcv.best_params_))\n",
        "print(\"Mejor puntaje: \", str(randomcv.best_score_))"
      ],
      "metadata": {
        "colab": {
          "base_uri": "https://localhost:8080/"
        },
        "outputId": "302d6b28-b971-4e79-f349-067e5b20c207",
        "id": "mCj4NuN5XrgD"
      },
      "execution_count": null,
      "outputs": [
        {
          "output_type": "stream",
          "name": "stdout",
          "text": [
            "Mejores hiperparámetros:  {'min_samples_split': 14, 'min_samples_leaf': 7, 'max_depth': 11, 'criterion': 'entropy', 'ccp_alpha': 0.0010408163265306122}\n",
            "Mejor puntaje:  0.5977724170084812\n"
          ]
        }
      ]
    },
    {
      "cell_type": "markdown",
      "source": [
        "Entreno el árbol con los mejores hiperparametros."
      ],
      "metadata": {
        "id": "5qNjTqTBXrgE"
      }
    },
    {
      "cell_type": "code",
      "source": [
        "arbol_escalado = DecisionTreeClassifier().set_params(**randomcv.best_params_)\n",
        "\n",
        "arbol_escalado.fit(X_train, y_train)"
      ],
      "metadata": {
        "colab": {
          "base_uri": "https://localhost:8080/"
        },
        "outputId": "9e3a90f0-fc79-4705-b662-7f628c7ead3d",
        "id": "exFsKXW1XrgE"
      },
      "execution_count": null,
      "outputs": [
        {
          "output_type": "execute_result",
          "data": {
            "text/plain": [
              "DecisionTreeClassifier(ccp_alpha=0.0010408163265306122, criterion='entropy',\n",
              "                       max_depth=11, min_samples_leaf=7, min_samples_split=14)"
            ],
            "text/html": [
              "<style>#sk-container-id-7 {color: black;background-color: white;}#sk-container-id-7 pre{padding: 0;}#sk-container-id-7 div.sk-toggleable {background-color: white;}#sk-container-id-7 label.sk-toggleable__label {cursor: pointer;display: block;width: 100%;margin-bottom: 0;padding: 0.3em;box-sizing: border-box;text-align: center;}#sk-container-id-7 label.sk-toggleable__label-arrow:before {content: \"▸\";float: left;margin-right: 0.25em;color: #696969;}#sk-container-id-7 label.sk-toggleable__label-arrow:hover:before {color: black;}#sk-container-id-7 div.sk-estimator:hover label.sk-toggleable__label-arrow:before {color: black;}#sk-container-id-7 div.sk-toggleable__content {max-height: 0;max-width: 0;overflow: hidden;text-align: left;background-color: #f0f8ff;}#sk-container-id-7 div.sk-toggleable__content pre {margin: 0.2em;color: black;border-radius: 0.25em;background-color: #f0f8ff;}#sk-container-id-7 input.sk-toggleable__control:checked~div.sk-toggleable__content {max-height: 200px;max-width: 100%;overflow: auto;}#sk-container-id-7 input.sk-toggleable__control:checked~label.sk-toggleable__label-arrow:before {content: \"▾\";}#sk-container-id-7 div.sk-estimator input.sk-toggleable__control:checked~label.sk-toggleable__label {background-color: #d4ebff;}#sk-container-id-7 div.sk-label input.sk-toggleable__control:checked~label.sk-toggleable__label {background-color: #d4ebff;}#sk-container-id-7 input.sk-hidden--visually {border: 0;clip: rect(1px 1px 1px 1px);clip: rect(1px, 1px, 1px, 1px);height: 1px;margin: -1px;overflow: hidden;padding: 0;position: absolute;width: 1px;}#sk-container-id-7 div.sk-estimator {font-family: monospace;background-color: #f0f8ff;border: 1px dotted black;border-radius: 0.25em;box-sizing: border-box;margin-bottom: 0.5em;}#sk-container-id-7 div.sk-estimator:hover {background-color: #d4ebff;}#sk-container-id-7 div.sk-parallel-item::after {content: \"\";width: 100%;border-bottom: 1px solid gray;flex-grow: 1;}#sk-container-id-7 div.sk-label:hover label.sk-toggleable__label {background-color: #d4ebff;}#sk-container-id-7 div.sk-serial::before {content: \"\";position: absolute;border-left: 1px solid gray;box-sizing: border-box;top: 0;bottom: 0;left: 50%;z-index: 0;}#sk-container-id-7 div.sk-serial {display: flex;flex-direction: column;align-items: center;background-color: white;padding-right: 0.2em;padding-left: 0.2em;position: relative;}#sk-container-id-7 div.sk-item {position: relative;z-index: 1;}#sk-container-id-7 div.sk-parallel {display: flex;align-items: stretch;justify-content: center;background-color: white;position: relative;}#sk-container-id-7 div.sk-item::before, #sk-container-id-7 div.sk-parallel-item::before {content: \"\";position: absolute;border-left: 1px solid gray;box-sizing: border-box;top: 0;bottom: 0;left: 50%;z-index: -1;}#sk-container-id-7 div.sk-parallel-item {display: flex;flex-direction: column;z-index: 1;position: relative;background-color: white;}#sk-container-id-7 div.sk-parallel-item:first-child::after {align-self: flex-end;width: 50%;}#sk-container-id-7 div.sk-parallel-item:last-child::after {align-self: flex-start;width: 50%;}#sk-container-id-7 div.sk-parallel-item:only-child::after {width: 0;}#sk-container-id-7 div.sk-dashed-wrapped {border: 1px dashed gray;margin: 0 0.4em 0.5em 0.4em;box-sizing: border-box;padding-bottom: 0.4em;background-color: white;}#sk-container-id-7 div.sk-label label {font-family: monospace;font-weight: bold;display: inline-block;line-height: 1.2em;}#sk-container-id-7 div.sk-label-container {text-align: center;}#sk-container-id-7 div.sk-container {/* jupyter's `normalize.less` sets `[hidden] { display: none; }` but bootstrap.min.css set `[hidden] { display: none !important; }` so we also need the `!important` here to be able to override the default hidden behavior on the sphinx rendered scikit-learn.org. See: https://github.com/scikit-learn/scikit-learn/issues/21755 */display: inline-block !important;position: relative;}#sk-container-id-7 div.sk-text-repr-fallback {display: none;}</style><div id=\"sk-container-id-7\" class=\"sk-top-container\"><div class=\"sk-text-repr-fallback\"><pre>DecisionTreeClassifier(ccp_alpha=0.0010408163265306122, criterion=&#x27;entropy&#x27;,\n",
              "                       max_depth=11, min_samples_leaf=7, min_samples_split=14)</pre><b>In a Jupyter environment, please rerun this cell to show the HTML representation or trust the notebook. <br />On GitHub, the HTML representation is unable to render, please try loading this page with nbviewer.org.</b></div><div class=\"sk-container\" hidden><div class=\"sk-item\"><div class=\"sk-estimator sk-toggleable\"><input class=\"sk-toggleable__control sk-hidden--visually\" id=\"sk-estimator-id-13\" type=\"checkbox\" checked><label for=\"sk-estimator-id-13\" class=\"sk-toggleable__label sk-toggleable__label-arrow\">DecisionTreeClassifier</label><div class=\"sk-toggleable__content\"><pre>DecisionTreeClassifier(ccp_alpha=0.0010408163265306122, criterion=&#x27;entropy&#x27;,\n",
              "                       max_depth=11, min_samples_leaf=7, min_samples_split=14)</pre></div></div></div></div></div>"
            ]
          },
          "metadata": {},
          "execution_count": 57
        }
      ]
    },
    {
      "cell_type": "markdown",
      "source": [
        "Predigo los datos de test."
      ],
      "metadata": {
        "id": "FwPOZ7GEXrgF"
      }
    },
    {
      "cell_type": "code",
      "source": [
        "y_pred_escalado = arbol_escalado.predict(X_test)"
      ],
      "metadata": {
        "id": "b5zTSjchXrgF"
      },
      "execution_count": null,
      "outputs": []
    },
    {
      "cell_type": "markdown",
      "source": [
        "Visualizo la matriz de confusiones"
      ],
      "metadata": {
        "id": "OnNUreGxXrgF"
      }
    },
    {
      "cell_type": "code",
      "source": [
        "#Creo la matriz de confusión\n",
        "labels = [\"bajo\", \"medio\", \"alto\"]\n",
        "tabla = confusion_matrix(y_test, y_pred_escalado, labels=labels)\n",
        "\n",
        "#Grafico la matriz de confusión\n",
        "sns.heatmap(tabla, cmap='GnBu', annot=True, fmt='g', xticklabels=labels, yticklabels=labels)\n",
        "plt.xlabel('Predicted')\n",
        "plt.ylabel('True')"
      ],
      "metadata": {
        "colab": {
          "base_uri": "https://localhost:8080/"
        },
        "outputId": "6d2c7b96-087c-4d30-e72e-2f4becffe9f9",
        "id": "-SI20YLtXrgF"
      },
      "execution_count": null,
      "outputs": [
        {
          "output_type": "execute_result",
          "data": {
            "text/plain": [
              "Text(50.722222222222214, 0.5, 'True')"
            ]
          },
          "metadata": {},
          "execution_count": 59
        },
        {
          "output_type": "display_data",
          "data": {
            "text/plain": [
              "<Figure size 640x480 with 2 Axes>"
            ],
            "image/png": "[encoded data removed]"
          },
          "metadata": {}
        }
      ]
    },
    {
      "cell_type": "markdown",
      "source": [
        "Performance en training"
      ],
      "metadata": {
        "id": "9bJlR5ACXrgG"
      }
    },
    {
      "cell_type": "code",
      "source": [
        "scores = cross_val_score(arbol_escalado, X_train, y_train, cv=kfoldcv)\n",
        "\n",
        "print(\"Scores de random search por cada fold: \", scores)"
      ],
      "metadata": {
        "colab": {
          "base_uri": "https://localhost:8080/"
        },
        "outputId": "91909b10-fa6f-4450-9c5f-c90ea7cff8c7",
        "id": "G5ry6K5-XrgG"
      },
      "execution_count": null,
      "outputs": [
        {
          "output_type": "stream",
          "name": "stdout",
          "text": [
            "Scores de random search por cada fold:  [0.59898477 0.59338609 0.59671519 0.59589399 0.60388205]\n"
          ]
        }
      ]
    },
    {
      "cell_type": "markdown",
      "source": [
        "Viendo ahora la performance sobre el conjunto de test"
      ],
      "metadata": {
        "id": "u3GkzPo0XrgG"
      }
    },
    {
      "cell_type": "code",
      "source": [
        "accuracy=accuracy_score(y_test, y_pred_escalado)\n",
        "recall=recall_score(y_test, y_pred_escalado, average='weighted')\n",
        "f1=f1_score(y_test, y_pred_escalado, average='weighted')\n",
        "precision=precision_score(y_test, y_pred_escalado, average='weighted')\n",
        "\n",
        "print(\"Accuracy: \"+str(accuracy))\n",
        "print(\"Recall: \"+str(recall))\n",
        "print(\"Precision: \"+str(precision))\n",
        "print(\"f1 score: \"+str(f1))"
      ],
      "metadata": {
        "colab": {
          "base_uri": "https://localhost:8080/"
        },
        "outputId": "4b2728c8-3e30-416d-a844-d45d397498db",
        "id": "mkQT9hwOXrgG"
      },
      "execution_count": null,
      "outputs": [
        {
          "output_type": "stream",
          "name": "stdout",
          "text": [
            "Accuracy: 0.5905046282472379\n",
            "Recall: 0.5905046282472379\n",
            "Precision: 0.597679714258561\n",
            "f1 score: 0.5765698835589803\n"
          ]
        }
      ]
    },
    {
      "cell_type": "markdown",
      "source": [
        "## Entrenamiento considerando algunos parámetros fijos"
      ],
      "metadata": {
        "id": "0BRPy0LrpkTV"
      }
    },
    {
      "cell_type": "markdown",
      "source": [
        "Voy a tomar nuevamente los conjuntos sin escalar, ya que parece que el escalado sobre las variables no tiene tanto impacto sobre la performance del árbol."
      ],
      "metadata": {
        "id": "yqwkXJLx6uy5"
      }
    },
    {
      "cell_type": "code",
      "source": [
        "X_train, X_test, y_train, y_test = train_test_split(df_x, df_y, test_size=0.20, stratify=df[target].values, random_state=semilla)"
      ],
      "metadata": {
        "id": "WTtSDw6a6ugW"
      },
      "execution_count": null,
      "outputs": []
    },
    {
      "cell_type": "markdown",
      "source": [
        "Ya que los parámetros por defecto resultaron en un árbol de decisión con una performance aceptable y mejor que el resto, pruebo optimizar algunos hiperpárametros y dejando fuera otros. Fijo el criterio a `entropy`, ya que es el criterio que tienen en comun todos los randomsearch hasta ahora y el parámetro de poda en `0.0013`, ya que resulto ser uno de los mejores y constantes en los modelos."
      ],
      "metadata": {
        "id": "JYfXd3Lhpozd"
      }
    },
    {
      "cell_type": "code",
      "source": [
        "#Cantidad de combinaciones\n",
        "n = 30\n",
        "folds = 5\n",
        "\n",
        "#Cantidad de splits para el Cross Validation\n",
        "params_grid = {'criterion': ['entropy'],\n",
        "                'min_samples_leaf': list(range(1,10)),\n",
        "                'min_samples_split': list(range(2,20)),\n",
        "                'ccp_alpha': [0.0013],\n",
        "                'max_depth': list(range(1,20))}\n",
        "\n",
        "#Kfold estratificado\n",
        "kfoldcv = StratifiedKFold(n_splits=folds)\n",
        "\n",
        "# Clasificador\n",
        "arbol_base = DecisionTreeClassifier()\n",
        "\n",
        "#Metrica que quiero optimizar F1 Score\n",
        "scorer_fn = make_scorer(f1_score, average='micro')\n",
        "\n",
        "#Random Search Cross Validation\n",
        "randomcv = RandomizedSearchCV(estimator=arbol_base,\n",
        "                              param_distributions = params_grid,\n",
        "                              scoring=scorer_fn,\n",
        "                              cv=kfoldcv,\n",
        "                              n_iter=n,\n",
        "                              random_state=semilla)\n",
        "\n",
        "#Busco los hiperparamtros que optimizan F1 Score\n",
        "randomcv.fit(X_train, y_train)"
      ],
      "metadata": {
        "colab": {
          "base_uri": "https://localhost:8080/"
        },
        "id": "xp__Tdqf6Ws-",
        "outputId": "4f386464-93ee-41bb-eab9-670e2751cd2b"
      },
      "execution_count": null,
      "outputs": [
        {
          "output_type": "execute_result",
          "data": {
            "text/plain": [
              "RandomizedSearchCV(cv=StratifiedKFold(n_splits=5, random_state=None, shuffle=False),\n",
              "                   estimator=DecisionTreeClassifier(), n_iter=30,\n",
              "                   param_distributions={'ccp_alpha': [0.0013],\n",
              "                                        'criterion': ['entropy'],\n",
              "                                        'max_depth': [1, 2, 3, 4, 5, 6, 7, 8, 9,\n",
              "                                                      10, 11, 12, 13, 14, 15,\n",
              "                                                      16, 17, 18, 19],\n",
              "                                        'min_samples_leaf': [1, 2, 3, 4, 5, 6,\n",
              "                                                             7, 8, 9],\n",
              "                                        'min_samples_split': [2, 3, 4, 5, 6, 7,\n",
              "                                                              8, 9, 10, 11, 12,\n",
              "                                                              13, 14, 15, 16,\n",
              "                                                              17, 18, 19]},\n",
              "                   random_state=137,\n",
              "                   scoring=make_scorer(f1_score, average=micro))"
            ],
            "text/html": [
              "<style>#sk-container-id-8 {color: black;background-color: white;}#sk-container-id-8 pre{padding: 0;}#sk-container-id-8 div.sk-toggleable {background-color: white;}#sk-container-id-8 label.sk-toggleable__label {cursor: pointer;display: block;width: 100%;margin-bottom: 0;padding: 0.3em;box-sizing: border-box;text-align: center;}#sk-container-id-8 label.sk-toggleable__label-arrow:before {content: \"▸\";float: left;margin-right: 0.25em;color: #696969;}#sk-container-id-8 label.sk-toggleable__label-arrow:hover:before {color: black;}#sk-container-id-8 div.sk-estimator:hover label.sk-toggleable__label-arrow:before {color: black;}#sk-container-id-8 div.sk-toggleable__content {max-height: 0;max-width: 0;overflow: hidden;text-align: left;background-color: #f0f8ff;}#sk-container-id-8 div.sk-toggleable__content pre {margin: 0.2em;color: black;border-radius: 0.25em;background-color: #f0f8ff;}#sk-container-id-8 input.sk-toggleable__control:checked~div.sk-toggleable__content {max-height: 200px;max-width: 100%;overflow: auto;}#sk-container-id-8 input.sk-toggleable__control:checked~label.sk-toggleable__label-arrow:before {content: \"▾\";}#sk-container-id-8 div.sk-estimator input.sk-toggleable__control:checked~label.sk-toggleable__label {background-color: #d4ebff;}#sk-container-id-8 div.sk-label input.sk-toggleable__control:checked~label.sk-toggleable__label {background-color: #d4ebff;}#sk-container-id-8 input.sk-hidden--visually {border: 0;clip: rect(1px 1px 1px 1px);clip: rect(1px, 1px, 1px, 1px);height: 1px;margin: -1px;overflow: hidden;padding: 0;position: absolute;width: 1px;}#sk-container-id-8 div.sk-estimator {font-family: monospace;background-color: #f0f8ff;border: 1px dotted black;border-radius: 0.25em;box-sizing: border-box;margin-bottom: 0.5em;}#sk-container-id-8 div.sk-estimator:hover {background-color: #d4ebff;}#sk-container-id-8 div.sk-parallel-item::after {content: \"\";width: 100%;border-bottom: 1px solid gray;flex-grow: 1;}#sk-container-id-8 div.sk-label:hover label.sk-toggleable__label {background-color: #d4ebff;}#sk-container-id-8 div.sk-serial::before {content: \"\";position: absolute;border-left: 1px solid gray;box-sizing: border-box;top: 0;bottom: 0;left: 50%;z-index: 0;}#sk-container-id-8 div.sk-serial {display: flex;flex-direction: column;align-items: center;background-color: white;padding-right: 0.2em;padding-left: 0.2em;position: relative;}#sk-container-id-8 div.sk-item {position: relative;z-index: 1;}#sk-container-id-8 div.sk-parallel {display: flex;align-items: stretch;justify-content: center;background-color: white;position: relative;}#sk-container-id-8 div.sk-item::before, #sk-container-id-8 div.sk-parallel-item::before {content: \"\";position: absolute;border-left: 1px solid gray;box-sizing: border-box;top: 0;bottom: 0;left: 50%;z-index: -1;}#sk-container-id-8 div.sk-parallel-item {display: flex;flex-direction: column;z-index: 1;position: relative;background-color: white;}#sk-container-id-8 div.sk-parallel-item:first-child::after {align-self: flex-end;width: 50%;}#sk-container-id-8 div.sk-parallel-item:last-child::after {align-self: flex-start;width: 50%;}#sk-container-id-8 div.sk-parallel-item:only-child::after {width: 0;}#sk-container-id-8 div.sk-dashed-wrapped {border: 1px dashed gray;margin: 0 0.4em 0.5em 0.4em;box-sizing: border-box;padding-bottom: 0.4em;background-color: white;}#sk-container-id-8 div.sk-label label {font-family: monospace;font-weight: bold;display: inline-block;line-height: 1.2em;}#sk-container-id-8 div.sk-label-container {text-align: center;}#sk-container-id-8 div.sk-container {/* jupyter's `normalize.less` sets `[hidden] { display: none; }` but bootstrap.min.css set `[hidden] { display: none !important; }` so we also need the `!important` here to be able to override the default hidden behavior on the sphinx rendered scikit-learn.org. See: https://github.com/scikit-learn/scikit-learn/issues/21755 */display: inline-block !important;position: relative;}#sk-container-id-8 div.sk-text-repr-fallback {display: none;}</style><div id=\"sk-container-id-8\" class=\"sk-top-container\"><div class=\"sk-text-repr-fallback\"><pre>RandomizedSearchCV(cv=StratifiedKFold(n_splits=5, random_state=None, shuffle=False),\n",
              "                   estimator=DecisionTreeClassifier(), n_iter=30,\n",
              "                   param_distributions={&#x27;ccp_alpha&#x27;: [0.0013],\n",
              "                                        &#x27;criterion&#x27;: [&#x27;entropy&#x27;],\n",
              "                                        &#x27;max_depth&#x27;: [1, 2, 3, 4, 5, 6, 7, 8, 9,\n",
              "                                                      10, 11, 12, 13, 14, 15,\n",
              "                                                      16, 17, 18, 19],\n",
              "                                        &#x27;min_samples_leaf&#x27;: [1, 2, 3, 4, 5, 6,\n",
              "                                                             7, 8, 9],\n",
              "                                        &#x27;min_samples_split&#x27;: [2, 3, 4, 5, 6, 7,\n",
              "                                                              8, 9, 10, 11, 12,\n",
              "                                                              13, 14, 15, 16,\n",
              "                                                              17, 18, 19]},\n",
              "                   random_state=137,\n",
              "                   scoring=make_scorer(f1_score, average=micro))</pre><b>In a Jupyter environment, please rerun this cell to show the HTML representation or trust the notebook. <br />On GitHub, the HTML representation is unable to render, please try loading this page with nbviewer.org.</b></div><div class=\"sk-container\" hidden><div class=\"sk-item sk-dashed-wrapped\"><div class=\"sk-label-container\"><div class=\"sk-label sk-toggleable\"><input class=\"sk-toggleable__control sk-hidden--visually\" id=\"sk-estimator-id-14\" type=\"checkbox\" ><label for=\"sk-estimator-id-14\" class=\"sk-toggleable__label sk-toggleable__label-arrow\">RandomizedSearchCV</label><div class=\"sk-toggleable__content\"><pre>RandomizedSearchCV(cv=StratifiedKFold(n_splits=5, random_state=None, shuffle=False),\n",
              "                   estimator=DecisionTreeClassifier(), n_iter=30,\n",
              "                   param_distributions={&#x27;ccp_alpha&#x27;: [0.0013],\n",
              "                                        &#x27;criterion&#x27;: [&#x27;entropy&#x27;],\n",
              "                                        &#x27;max_depth&#x27;: [1, 2, 3, 4, 5, 6, 7, 8, 9,\n",
              "                                                      10, 11, 12, 13, 14, 15,\n",
              "                                                      16, 17, 18, 19],\n",
              "                                        &#x27;min_samples_leaf&#x27;: [1, 2, 3, 4, 5, 6,\n",
              "                                                             7, 8, 9],\n",
              "                                        &#x27;min_samples_split&#x27;: [2, 3, 4, 5, 6, 7,\n",
              "                                                              8, 9, 10, 11, 12,\n",
              "                                                              13, 14, 15, 16,\n",
              "                                                              17, 18, 19]},\n",
              "                   random_state=137,\n",
              "                   scoring=make_scorer(f1_score, average=micro))</pre></div></div></div><div class=\"sk-parallel\"><div class=\"sk-parallel-item\"><div class=\"sk-item\"><div class=\"sk-label-container\"><div class=\"sk-label sk-toggleable\"><input class=\"sk-toggleable__control sk-hidden--visually\" id=\"sk-estimator-id-15\" type=\"checkbox\" ><label for=\"sk-estimator-id-15\" class=\"sk-toggleable__label sk-toggleable__label-arrow\">estimator: DecisionTreeClassifier</label><div class=\"sk-toggleable__content\"><pre>DecisionTreeClassifier()</pre></div></div></div><div class=\"sk-serial\"><div class=\"sk-item\"><div class=\"sk-estimator sk-toggleable\"><input class=\"sk-toggleable__control sk-hidden--visually\" id=\"sk-estimator-id-16\" type=\"checkbox\" ><label for=\"sk-estimator-id-16\" class=\"sk-toggleable__label sk-toggleable__label-arrow\">DecisionTreeClassifier</label><div class=\"sk-toggleable__content\"><pre>DecisionTreeClassifier()</pre></div></div></div></div></div></div></div></div></div></div>"
            ]
          },
          "metadata": {},
          "execution_count": 63
        }
      ]
    },
    {
      "cell_type": "markdown",
      "source": [
        "Muestro los hiperparametros encontrados y el mejor puntaje."
      ],
      "metadata": {
        "id": "lRcAzbtRV5xp"
      }
    },
    {
      "cell_type": "code",
      "source": [
        "print(\"Mejores hiperparámetros: \", str(randomcv.best_params_))\n",
        "print(\"Mejor puntaje: \", str(randomcv.best_score_))"
      ],
      "metadata": {
        "colab": {
          "base_uri": "https://localhost:8080/"
        },
        "id": "uKUAOr1yS18d",
        "outputId": "f7111805-74fb-4932-95f0-09bba9d949cb"
      },
      "execution_count": null,
      "outputs": [
        {
          "output_type": "stream",
          "name": "stdout",
          "text": [
            "Mejores hiperparámetros:  {'min_samples_split': 12, 'min_samples_leaf': 2, 'max_depth': 18, 'criterion': 'entropy', 'ccp_alpha': 0.0013}\n",
            "Mejor puntaje:  0.5963241655596078\n"
          ]
        }
      ]
    },
    {
      "cell_type": "markdown",
      "source": [
        "Genero el nuevo arbol."
      ],
      "metadata": {
        "id": "V_FhPlk-V4SO"
      }
    },
    {
      "cell_type": "code",
      "source": [
        "arbol_nuevo = DecisionTreeClassifier().set_params(**randomcv.best_params_)\n",
        "\n",
        "arbol_nuevo.fit(X_train, y_train)"
      ],
      "metadata": {
        "colab": {
          "base_uri": "https://localhost:8080/"
        },
        "id": "8L8Kv2Ko6nd0",
        "outputId": "bb4276fc-302d-40e8-a498-0adb8c2b5619"
      },
      "execution_count": null,
      "outputs": [
        {
          "output_type": "execute_result",
          "data": {
            "text/plain": [
              "DecisionTreeClassifier(ccp_alpha=0.0013, criterion='entropy', max_depth=18,\n",
              "                       min_samples_leaf=2, min_samples_split=12)"
            ],
            "text/html": [
              "<style>#sk-container-id-9 {color: black;background-color: white;}#sk-container-id-9 pre{padding: 0;}#sk-container-id-9 div.sk-toggleable {background-color: white;}#sk-container-id-9 label.sk-toggleable__label {cursor: pointer;display: block;width: 100%;margin-bottom: 0;padding: 0.3em;box-sizing: border-box;text-align: center;}#sk-container-id-9 label.sk-toggleable__label-arrow:before {content: \"▸\";float: left;margin-right: 0.25em;color: #696969;}#sk-container-id-9 label.sk-toggleable__label-arrow:hover:before {color: black;}#sk-container-id-9 div.sk-estimator:hover label.sk-toggleable__label-arrow:before {color: black;}#sk-container-id-9 div.sk-toggleable__content {max-height: 0;max-width: 0;overflow: hidden;text-align: left;background-color: #f0f8ff;}#sk-container-id-9 div.sk-toggleable__content pre {margin: 0.2em;color: black;border-radius: 0.25em;background-color: #f0f8ff;}#sk-container-id-9 input.sk-toggleable__control:checked~div.sk-toggleable__content {max-height: 200px;max-width: 100%;overflow: auto;}#sk-container-id-9 input.sk-toggleable__control:checked~label.sk-toggleable__label-arrow:before {content: \"▾\";}#sk-container-id-9 div.sk-estimator input.sk-toggleable__control:checked~label.sk-toggleable__label {background-color: #d4ebff;}#sk-container-id-9 div.sk-label input.sk-toggleable__control:checked~label.sk-toggleable__label {background-color: #d4ebff;}#sk-container-id-9 input.sk-hidden--visually {border: 0;clip: rect(1px 1px 1px 1px);clip: rect(1px, 1px, 1px, 1px);height: 1px;margin: -1px;overflow: hidden;padding: 0;position: absolute;width: 1px;}#sk-container-id-9 div.sk-estimator {font-family: monospace;background-color: #f0f8ff;border: 1px dotted black;border-radius: 0.25em;box-sizing: border-box;margin-bottom: 0.5em;}#sk-container-id-9 div.sk-estimator:hover {background-color: #d4ebff;}#sk-container-id-9 div.sk-parallel-item::after {content: \"\";width: 100%;border-bottom: 1px solid gray;flex-grow: 1;}#sk-container-id-9 div.sk-label:hover label.sk-toggleable__label {background-color: #d4ebff;}#sk-container-id-9 div.sk-serial::before {content: \"\";position: absolute;border-left: 1px solid gray;box-sizing: border-box;top: 0;bottom: 0;left: 50%;z-index: 0;}#sk-container-id-9 div.sk-serial {display: flex;flex-direction: column;align-items: center;background-color: white;padding-right: 0.2em;padding-left: 0.2em;position: relative;}#sk-container-id-9 div.sk-item {position: relative;z-index: 1;}#sk-container-id-9 div.sk-parallel {display: flex;align-items: stretch;justify-content: center;background-color: white;position: relative;}#sk-container-id-9 div.sk-item::before, #sk-container-id-9 div.sk-parallel-item::before {content: \"\";position: absolute;border-left: 1px solid gray;box-sizing: border-box;top: 0;bottom: 0;left: 50%;z-index: -1;}#sk-container-id-9 div.sk-parallel-item {display: flex;flex-direction: column;z-index: 1;position: relative;background-color: white;}#sk-container-id-9 div.sk-parallel-item:first-child::after {align-self: flex-end;width: 50%;}#sk-container-id-9 div.sk-parallel-item:last-child::after {align-self: flex-start;width: 50%;}#sk-container-id-9 div.sk-parallel-item:only-child::after {width: 0;}#sk-container-id-9 div.sk-dashed-wrapped {border: 1px dashed gray;margin: 0 0.4em 0.5em 0.4em;box-sizing: border-box;padding-bottom: 0.4em;background-color: white;}#sk-container-id-9 div.sk-label label {font-family: monospace;font-weight: bold;display: inline-block;line-height: 1.2em;}#sk-container-id-9 div.sk-label-container {text-align: center;}#sk-container-id-9 div.sk-container {/* jupyter's `normalize.less` sets `[hidden] { display: none; }` but bootstrap.min.css set `[hidden] { display: none !important; }` so we also need the `!important` here to be able to override the default hidden behavior on the sphinx rendered scikit-learn.org. See: https://github.com/scikit-learn/scikit-learn/issues/21755 */display: inline-block !important;position: relative;}#sk-container-id-9 div.sk-text-repr-fallback {display: none;}</style><div id=\"sk-container-id-9\" class=\"sk-top-container\"><div class=\"sk-text-repr-fallback\"><pre>DecisionTreeClassifier(ccp_alpha=0.0013, criterion=&#x27;entropy&#x27;, max_depth=18,\n",
              "                       min_samples_leaf=2, min_samples_split=12)</pre><b>In a Jupyter environment, please rerun this cell to show the HTML representation or trust the notebook. <br />On GitHub, the HTML representation is unable to render, please try loading this page with nbviewer.org.</b></div><div class=\"sk-container\" hidden><div class=\"sk-item\"><div class=\"sk-estimator sk-toggleable\"><input class=\"sk-toggleable__control sk-hidden--visually\" id=\"sk-estimator-id-17\" type=\"checkbox\" checked><label for=\"sk-estimator-id-17\" class=\"sk-toggleable__label sk-toggleable__label-arrow\">DecisionTreeClassifier</label><div class=\"sk-toggleable__content\"><pre>DecisionTreeClassifier(ccp_alpha=0.0013, criterion=&#x27;entropy&#x27;, max_depth=18,\n",
              "                       min_samples_leaf=2, min_samples_split=12)</pre></div></div></div></div></div>"
            ]
          },
          "metadata": {},
          "execution_count": 65
        }
      ]
    },
    {
      "cell_type": "markdown",
      "source": [
        "Predigo de nuevo los valores de testing."
      ],
      "metadata": {
        "id": "gwOZdboi6rpF"
      }
    },
    {
      "cell_type": "code",
      "source": [
        "y_pred_nuevo = arbol_nuevo.predict(X_test)"
      ],
      "metadata": {
        "id": "mB0rp3XS6r6V"
      },
      "execution_count": null,
      "outputs": []
    },
    {
      "cell_type": "markdown",
      "source": [
        "Visualizamos la matriz de confusiones."
      ],
      "metadata": {
        "id": "3tKwYnkPWeza"
      }
    },
    {
      "cell_type": "code",
      "source": [
        "#Creo la matriz de confusión\n",
        "labels = [\"bajo\", \"medio\", \"alto\"]\n",
        "tabla = confusion_matrix(y_pred_nuevo, y_test, labels=labels)\n",
        "\n",
        "#Grafico la matriz de confusión\n",
        "sns.heatmap(tabla, cmap='GnBu', annot=True, fmt='g', xticklabels=labels, yticklabels=labels)\n",
        "plt.xlabel('Predicted')\n",
        "plt.ylabel('True')"
      ],
      "metadata": {
        "colab": {
          "base_uri": "https://localhost:8080/"
        },
        "id": "PkFO17GaP4RB",
        "outputId": "3834d8db-61d1-407c-dcab-c4a8da705caa"
      },
      "execution_count": null,
      "outputs": [
        {
          "output_type": "execute_result",
          "data": {
            "text/plain": [
              "Text(50.722222222222214, 0.5, 'True')"
            ]
          },
          "metadata": {},
          "execution_count": 67
        },
        {
          "output_type": "display_data",
          "data": {
            "text/plain": [
              "<Figure size 640x480 with 2 Axes>"
            ],
            "image/png": "[encoded data removed]"
          },
          "metadata": {}
        }
      ]
    },
    {
      "cell_type": "markdown",
      "source": [
        "Veo las métricas del árbol."
      ],
      "metadata": {
        "id": "lugpYEpmWa-n"
      }
    },
    {
      "cell_type": "code",
      "source": [
        "scores = cross_val_score(arbol_escalado, X_train, y_train, cv=kfoldcv)\n",
        "\n",
        "print(\"Scores de random search por cada fold: \", scores)"
      ],
      "metadata": {
        "colab": {
          "base_uri": "https://localhost:8080/"
        },
        "id": "YrPL_9E-QbB_",
        "outputId": "220b1150-7cf2-4cda-e1b2-2130a5303595"
      },
      "execution_count": null,
      "outputs": [
        {
          "output_type": "stream",
          "name": "stdout",
          "text": [
            "Scores de random search por cada fold:  [0.59883547 0.59570021 0.59671519 0.59626726 0.60410601]\n"
          ]
        }
      ]
    },
    {
      "cell_type": "code",
      "source": [
        "accuracy=accuracy_score(y_test, y_pred_nuevo)\n",
        "recall=recall_score(y_test, y_pred_nuevo, average='weighted')\n",
        "f1=f1_score(y_test, y_pred_nuevo, average='weighted')\n",
        "precision=precision_score(y_test, y_pred_nuevo, average='weighted')\n",
        "\n",
        "print(\"Accuracy: \"+str(accuracy))\n",
        "print(\"Recall: \"+str(recall))\n",
        "print(\"Precision: \"+str(precision))\n",
        "print(\"f1 score: \"+str(f1))"
      ],
      "metadata": {
        "colab": {
          "base_uri": "https://localhost:8080/"
        },
        "id": "sSR38k7uQeuF",
        "outputId": "b6e89882-cef3-44d8-ad26-1129f85e6313"
      },
      "execution_count": null,
      "outputs": [
        {
          "output_type": "stream",
          "name": "stdout",
          "text": [
            "Accuracy: 0.5888922066288445\n",
            "Recall: 0.5888922066288445\n",
            "Precision: 0.5986556018249419\n",
            "f1 score: 0.5716590712534604\n"
          ]
        }
      ]
    },
    {
      "cell_type": "markdown",
      "source": [
        "Veo las reglas del árbol."
      ],
      "metadata": {
        "id": "SzqHRmHyWW2k"
      }
    },
    {
      "cell_type": "code",
      "source": [
        "reglas = export_text(arbol_nuevo, feature_names=list(features))\n",
        "print(reglas)"
      ],
      "metadata": {
        "colab": {
          "base_uri": "https://localhost:8080/"
        },
        "id": "nEj7izrjQtb9",
        "outputId": "3aa1790c-f360-40c1-b412-5c4586719666"
      },
      "execution_count": null,
      "outputs": [
        {
          "output_type": "stream",
          "name": "stdout",
          "text": [
            "|--- latitud <= -34.60\n",
            "|   |--- neighbourhood_Puerto Madero <= 0.50\n",
            "|   |   |--- longitud <= -34.59\n",
            "|   |   |   |--- neighbourhood_Caballito <= 0.50\n",
            "|   |   |   |   |--- property_type_Departamento <= 0.50\n",
            "|   |   |   |   |   |--- property_surface_total <= 100.50\n",
            "|   |   |   |   |   |   |--- latitud <= -34.62\n",
            "|   |   |   |   |   |   |   |--- class: medio\n",
            "|   |   |   |   |   |   |--- latitud >  -34.62\n",
            "|   |   |   |   |   |   |   |--- class: medio\n",
            "|   |   |   |   |   |--- property_surface_total >  100.50\n",
            "|   |   |   |   |   |   |--- latitud <= -34.64\n",
            "|   |   |   |   |   |   |   |--- class: bajo\n",
            "|   |   |   |   |   |   |--- latitud >  -34.64\n",
            "|   |   |   |   |   |   |   |--- class: medio\n",
            "|   |   |   |   |--- property_type_Departamento >  0.50\n",
            "|   |   |   |   |   |--- latitud <= -34.60\n",
            "|   |   |   |   |   |   |--- longitud <= -58.42\n",
            "|   |   |   |   |   |   |   |--- latitud <= -34.62\n",
            "|   |   |   |   |   |   |   |   |--- latitud <= -34.66\n",
            "|   |   |   |   |   |   |   |   |   |--- class: bajo\n",
            "|   |   |   |   |   |   |   |   |--- latitud >  -34.66\n",
            "|   |   |   |   |   |   |   |   |   |--- class: bajo\n",
            "|   |   |   |   |   |   |   |--- latitud >  -34.62\n",
            "|   |   |   |   |   |   |   |   |--- class: medio\n",
            "|   |   |   |   |   |   |--- longitud >  -58.42\n",
            "|   |   |   |   |   |   |   |--- longitud <= -58.38\n",
            "|   |   |   |   |   |   |   |   |--- property_surface_total <= 55.05\n",
            "|   |   |   |   |   |   |   |   |   |--- class: bajo\n",
            "|   |   |   |   |   |   |   |   |--- property_surface_total >  55.05\n",
            "|   |   |   |   |   |   |   |   |   |--- class: bajo\n",
            "|   |   |   |   |   |   |   |--- longitud >  -58.38\n",
            "|   |   |   |   |   |   |   |   |--- neighbourhood_Boca <= 0.50\n",
            "|   |   |   |   |   |   |   |   |   |--- class: medio\n",
            "|   |   |   |   |   |   |   |   |--- neighbourhood_Boca >  0.50\n",
            "|   |   |   |   |   |   |   |   |   |--- class: bajo\n",
            "|   |   |   |   |   |--- latitud >  -34.60\n",
            "|   |   |   |   |   |   |--- property_surface_total <= 60.13\n",
            "|   |   |   |   |   |   |   |--- class: medio\n",
            "|   |   |   |   |   |   |--- property_surface_total >  60.13\n",
            "|   |   |   |   |   |   |   |--- property_surface_covered <= 40.50\n",
            "|   |   |   |   |   |   |   |   |--- class: bajo\n",
            "|   |   |   |   |   |   |   |--- property_surface_covered >  40.50\n",
            "|   |   |   |   |   |   |   |   |--- longitud <= -58.41\n",
            "|   |   |   |   |   |   |   |   |   |--- class: medio\n",
            "|   |   |   |   |   |   |   |   |--- longitud >  -58.41\n",
            "|   |   |   |   |   |   |   |   |   |--- class: bajo\n",
            "|   |   |   |--- neighbourhood_Caballito >  0.50\n",
            "|   |   |   |   |--- latitud <= -34.62\n",
            "|   |   |   |   |   |--- class: medio\n",
            "|   |   |   |   |--- latitud >  -34.62\n",
            "|   |   |   |   |   |--- class: medio\n",
            "|   |   |--- longitud >  -34.59\n",
            "|   |   |   |--- class: medio\n",
            "|   |--- neighbourhood_Puerto Madero >  0.50\n",
            "|   |   |--- class: alto\n",
            "|--- latitud >  -34.60\n",
            "|   |--- longitud <= -58.47\n",
            "|   |   |--- property_type_Departamento <= 0.50\n",
            "|   |   |   |--- property_surface_total <= 113.50\n",
            "|   |   |   |   |--- class: alto\n",
            "|   |   |   |--- property_surface_total >  113.50\n",
            "|   |   |   |   |--- class: medio\n",
            "|   |   |--- property_type_Departamento >  0.50\n",
            "|   |   |   |--- property_surface_total <= 47.50\n",
            "|   |   |   |   |--- class: medio\n",
            "|   |   |   |--- property_surface_total >  47.50\n",
            "|   |   |   |   |--- property_surface_covered <= 40.50\n",
            "|   |   |   |   |   |--- class: bajo\n",
            "|   |   |   |   |--- property_surface_covered >  40.50\n",
            "|   |   |   |   |   |--- neighbourhood_Villa Urquiza <= 0.50\n",
            "|   |   |   |   |   |   |--- class: medio\n",
            "|   |   |   |   |   |--- neighbourhood_Villa Urquiza >  0.50\n",
            "|   |   |   |   |   |   |--- class: medio\n",
            "|   |--- longitud >  -58.47\n",
            "|   |   |--- latitud <= -34.59\n",
            "|   |   |   |--- longitud <= -58.44\n",
            "|   |   |   |   |--- class: medio\n",
            "|   |   |   |--- longitud >  -58.44\n",
            "|   |   |   |   |--- class: medio\n",
            "|   |   |--- latitud >  -34.59\n",
            "|   |   |   |--- property_surface_covered <= 97.21\n",
            "|   |   |   |   |--- longitud <= -58.44\n",
            "|   |   |   |   |   |--- latitud <= -34.57\n",
            "|   |   |   |   |   |   |--- longitud <= -58.45\n",
            "|   |   |   |   |   |   |   |--- class: medio\n",
            "|   |   |   |   |   |   |--- longitud >  -58.45\n",
            "|   |   |   |   |   |   |   |--- latitud <= -34.59\n",
            "|   |   |   |   |   |   |   |   |--- class: bajo\n",
            "|   |   |   |   |   |   |   |--- latitud >  -34.59\n",
            "|   |   |   |   |   |   |   |   |--- class: medio\n",
            "|   |   |   |   |   |--- latitud >  -34.57\n",
            "|   |   |   |   |   |   |--- property_surface_total <= 55.05\n",
            "|   |   |   |   |   |   |   |--- class: medio\n",
            "|   |   |   |   |   |   |--- property_surface_total >  55.05\n",
            "|   |   |   |   |   |   |   |--- property_surface_covered <= 45.50\n",
            "|   |   |   |   |   |   |   |   |--- class: bajo\n",
            "|   |   |   |   |   |   |   |--- property_surface_covered >  45.50\n",
            "|   |   |   |   |   |   |   |   |--- class: medio\n",
            "|   |   |   |   |--- longitud >  -58.44\n",
            "|   |   |   |   |   |--- latitud <= -34.58\n",
            "|   |   |   |   |   |   |--- longitud <= -58.40\n",
            "|   |   |   |   |   |   |   |--- property_surface_total <= 42.50\n",
            "|   |   |   |   |   |   |   |   |--- class: medio\n",
            "|   |   |   |   |   |   |   |--- property_surface_total >  42.50\n",
            "|   |   |   |   |   |   |   |   |--- property_surface_covered <= 37.50\n",
            "|   |   |   |   |   |   |   |   |   |--- class: bajo\n",
            "|   |   |   |   |   |   |   |   |--- property_surface_covered >  37.50\n",
            "|   |   |   |   |   |   |   |   |   |--- class: medio\n",
            "|   |   |   |   |   |   |--- longitud >  -58.40\n",
            "|   |   |   |   |   |   |   |--- class: alto\n",
            "|   |   |   |   |   |--- latitud >  -34.58\n",
            "|   |   |   |   |   |   |--- class: alto\n",
            "|   |   |   |--- property_surface_covered >  97.21\n",
            "|   |   |   |   |--- latitud <= -34.58\n",
            "|   |   |   |   |   |--- class: medio\n",
            "|   |   |   |   |--- latitud >  -34.58\n",
            "|   |   |   |   |   |--- longitud <= -58.45\n",
            "|   |   |   |   |   |   |--- class: alto\n",
            "|   |   |   |   |   |--- longitud >  -58.45\n",
            "|   |   |   |   |   |   |--- class: alto\n",
            "\n"
          ]
        }
      ]
    },
    {
      "cell_type": "markdown",
      "source": [
        "Veo las importancias de los features"
      ],
      "metadata": {
        "id": "r4OLveXsWSt6"
      }
    },
    {
      "cell_type": "code",
      "source": [
        "sorted(list(zip(df_x.columns.to_list(), arbol_nuevo.feature_importances_)), key=lambda x: -x[1])"
      ],
      "metadata": {
        "colab": {
          "base_uri": "https://localhost:8080/"
        },
        "id": "fy2r_nNIRAr8",
        "outputId": "6f2abfe9-25c1-45a7-e0ad-44e10feccee5"
      },
      "execution_count": null,
      "outputs": [
        {
          "output_type": "execute_result",
          "data": {
            "text/plain": [
              "[('latitud', 0.48818707253072663),\n",
              " ('longitud', 0.17503610458610278),\n",
              " ('neighbourhood_Puerto Madero', 0.13345620937299477),\n",
              " ('neighbourhood_Caballito', 0.06314515326879594),\n",
              " ('property_surface_total', 0.05200096756150177),\n",
              " ('property_surface_covered', 0.04758552556796928),\n",
              " ('property_type_Departamento', 0.029510050194469523),\n",
              " ('neighbourhood_Boca', 0.006503386998672001),\n",
              " ('neighbourhood_Villa Urquiza', 0.004575529918767242),\n",
              " ('property_rooms', 0.0),\n",
              " ('property_bedrooms', 0.0),\n",
              " ('property_type_PH', 0.0),\n",
              " ('neighbourhood_Agronomía', 0.0),\n",
              " ('neighbourhood_Almagro', 0.0),\n",
              " ('neighbourhood_Balvanera', 0.0),\n",
              " ('neighbourhood_Barracas', 0.0),\n",
              " ('neighbourhood_Barrio Norte', 0.0),\n",
              " ('neighbourhood_Belgrano', 0.0),\n",
              " ('neighbourhood_Boedo', 0.0),\n",
              " ('neighbourhood_Catalinas', 0.0),\n",
              " ('neighbourhood_Centro / Microcentro', 0.0),\n",
              " ('neighbourhood_Chacarita', 0.0),\n",
              " ('neighbourhood_Coghlan', 0.0),\n",
              " ('neighbourhood_Colegiales', 0.0),\n",
              " ('neighbourhood_Congreso', 0.0),\n",
              " ('neighbourhood_Constitución', 0.0),\n",
              " ('neighbourhood_Flores', 0.0),\n",
              " ('neighbourhood_Floresta', 0.0),\n",
              " ('neighbourhood_Las Cañitas', 0.0),\n",
              " ('neighbourhood_Liniers', 0.0),\n",
              " ('neighbourhood_Mataderos', 0.0),\n",
              " ('neighbourhood_Monserrat', 0.0),\n",
              " ('neighbourhood_Monte Castro', 0.0),\n",
              " ('neighbourhood_Nuñez', 0.0),\n",
              " ('neighbourhood_Once', 0.0),\n",
              " ('neighbourhood_Palermo', 0.0),\n",
              " ('neighbourhood_Parque Avellaneda', 0.0),\n",
              " ('neighbourhood_Parque Centenario', 0.0),\n",
              " ('neighbourhood_Parque Chacabuco', 0.0),\n",
              " ('neighbourhood_Parque Chas', 0.0),\n",
              " ('neighbourhood_Parque Patricios', 0.0),\n",
              " ('neighbourhood_Paternal', 0.0),\n",
              " ('neighbourhood_Pompeya', 0.0),\n",
              " ('neighbourhood_Recoleta', 0.0),\n",
              " ('neighbourhood_Retiro', 0.0),\n",
              " ('neighbourhood_Saavedra', 0.0),\n",
              " ('neighbourhood_San Cristobal', 0.0),\n",
              " ('neighbourhood_San Nicolás', 0.0),\n",
              " ('neighbourhood_San Telmo', 0.0),\n",
              " ('neighbourhood_Tribunales', 0.0),\n",
              " ('neighbourhood_Velez Sarsfield', 0.0),\n",
              " ('neighbourhood_Versalles', 0.0),\n",
              " ('neighbourhood_Villa Crespo', 0.0),\n",
              " ('neighbourhood_Villa Devoto', 0.0),\n",
              " ('neighbourhood_Villa General Mitre', 0.0),\n",
              " ('neighbourhood_Villa Lugano', 0.0),\n",
              " ('neighbourhood_Villa Luro', 0.0),\n",
              " ('neighbourhood_Villa Ortuzar', 0.0),\n",
              " ('neighbourhood_Villa Pueyrredón', 0.0),\n",
              " ('neighbourhood_Villa Real', 0.0),\n",
              " ('neighbourhood_Villa Riachuelo', 0.0),\n",
              " ('neighbourhood_Villa Santa Rita', 0.0),\n",
              " ('neighbourhood_Villa Soldati', 0.0),\n",
              " ('neighbourhood_Villa del Parque', 0.0)]"
            ]
          },
          "metadata": {},
          "execution_count": 71
        }
      ]
    },
    {
      "cell_type": "markdown",
      "source": [
        "## Entrenamiento con 100 iteraciones"
      ],
      "metadata": {
        "id": "ChKmVsmfX39w"
      }
    },
    {
      "cell_type": "markdown",
      "source": [
        "Por último, realizo todo lo anterior pero cambiando a 100 iteraciones."
      ],
      "metadata": {
        "id": "mIJgPFTHX58D"
      }
    },
    {
      "cell_type": "code",
      "source": [
        "#Cantidad de combinaciones\n",
        "n = 100\n",
        "folds = 5\n",
        "\n",
        "#Cantidad de splits para el Cross Validation\n",
        "params_grid = {'criterion': ['entropy', 'gini'],\n",
        "                'min_samples_leaf': list(range(1,10)),\n",
        "                'min_samples_split': list(range(2,20)),\n",
        "                'ccp_alpha': np.linspace(0.001, 0.003),\n",
        "                'max_depth': list(range(1,20))}\n",
        "\n",
        "#Kfold estratificado\n",
        "kfoldcv = StratifiedKFold(n_splits=folds)\n",
        "\n",
        "# Clasificador\n",
        "arbol_base = DecisionTreeClassifier()\n",
        "\n",
        "#Metrica que quiero optimizar F1 Score\n",
        "scorer_fn = make_scorer(f1_score, average='micro')\n",
        "\n",
        "#Random Search Cross Validation\n",
        "randomcv = RandomizedSearchCV(estimator=arbol_base,\n",
        "                              param_distributions = params_grid,\n",
        "                              scoring=scorer_fn,\n",
        "                              cv=kfoldcv,\n",
        "                              n_iter=n,\n",
        "                              random_state=semilla)\n",
        "\n",
        "#Busco los hiperparamtros que optimizan F1 Score\n",
        "randomcv.fit(X_train, y_train)"
      ],
      "metadata": {
        "colab": {
          "base_uri": "https://localhost:8080/"
        },
        "id": "zALBQoPuX9Tr",
        "outputId": "bd929d10-3c13-4e59-858c-0aca20d5601f"
      },
      "execution_count": null,
      "outputs": [
        {
          "output_type": "execute_result",
          "data": {
            "text/plain": [
              "RandomizedSearchCV(cv=StratifiedKFold(n_splits=5, random_state=None, shuffle=False),\n",
              "                   estimator=DecisionTreeClassifier(), n_iter=100,\n",
              "                   param_distributions={'ccp_alpha': array([0.001     , 0.00104082, 0.00108163, 0.00112245, 0.00116327,\n",
              "       0.00120408, 0.0012449 , 0.00128571, 0.00132653, 0.00136735,\n",
              "       0.00140816, 0.00144898, 0.0014898 , 0.00153061, 0.00157143,\n",
              "       0.00161224, 0.00165306, 0....\n",
              "       0.00263265, 0.00267347, 0.00271429, 0.0027551 , 0.00279592,\n",
              "       0.00283673, 0.00287755, 0.00291837, 0.00295918, 0.003     ]),\n",
              "                                        'criterion': ['entropy', 'gini'],\n",
              "                                        'max_depth': [1, 2, 3, 4, 5, 6, 7, 8, 9,\n",
              "                                                      10, 11, 12, 13, 14, 15,\n",
              "                                                      16, 17, 18, 19],\n",
              "                                        'min_samples_leaf': [1, 2, 3, 4, 5, 6,\n",
              "                                                             7, 8, 9],\n",
              "                                        'min_samples_split': [2, 3, 4, 5, 6, 7,\n",
              "                                                              8, 9, 10, 11, 12,\n",
              "                                                              13, 14, 15, 16,\n",
              "                                                              17, 18, 19]},\n",
              "                   random_state=137,\n",
              "                   scoring=make_scorer(f1_score, average=micro))"
            ],
            "text/html": [
              "<style>#sk-container-id-10 {color: black;background-color: white;}#sk-container-id-10 pre{padding: 0;}#sk-container-id-10 div.sk-toggleable {background-color: white;}#sk-container-id-10 label.sk-toggleable__label {cursor: pointer;display: block;width: 100%;margin-bottom: 0;padding: 0.3em;box-sizing: border-box;text-align: center;}#sk-container-id-10 label.sk-toggleable__label-arrow:before {content: \"▸\";float: left;margin-right: 0.25em;color: #696969;}#sk-container-id-10 label.sk-toggleable__label-arrow:hover:before {color: black;}#sk-container-id-10 div.sk-estimator:hover label.sk-toggleable__label-arrow:before {color: black;}#sk-container-id-10 div.sk-toggleable__content {max-height: 0;max-width: 0;overflow: hidden;text-align: left;background-color: #f0f8ff;}#sk-container-id-10 div.sk-toggleable__content pre {margin: 0.2em;color: black;border-radius: 0.25em;background-color: #f0f8ff;}#sk-container-id-10 input.sk-toggleable__control:checked~div.sk-toggleable__content {max-height: 200px;max-width: 100%;overflow: auto;}#sk-container-id-10 input.sk-toggleable__control:checked~label.sk-toggleable__label-arrow:before {content: \"▾\";}#sk-container-id-10 div.sk-estimator input.sk-toggleable__control:checked~label.sk-toggleable__label {background-color: #d4ebff;}#sk-container-id-10 div.sk-label input.sk-toggleable__control:checked~label.sk-toggleable__label {background-color: #d4ebff;}#sk-container-id-10 input.sk-hidden--visually {border: 0;clip: rect(1px 1px 1px 1px);clip: rect(1px, 1px, 1px, 1px);height: 1px;margin: -1px;overflow: hidden;padding: 0;position: absolute;width: 1px;}#sk-container-id-10 div.sk-estimator {font-family: monospace;background-color: #f0f8ff;border: 1px dotted black;border-radius: 0.25em;box-sizing: border-box;margin-bottom: 0.5em;}#sk-container-id-10 div.sk-estimator:hover {background-color: #d4ebff;}#sk-container-id-10 div.sk-parallel-item::after {content: \"\";width: 100%;border-bottom: 1px solid gray;flex-grow: 1;}#sk-container-id-10 div.sk-label:hover label.sk-toggleable__label {background-color: #d4ebff;}#sk-container-id-10 div.sk-serial::before {content: \"\";position: absolute;border-left: 1px solid gray;box-sizing: border-box;top: 0;bottom: 0;left: 50%;z-index: 0;}#sk-container-id-10 div.sk-serial {display: flex;flex-direction: column;align-items: center;background-color: white;padding-right: 0.2em;padding-left: 0.2em;position: relative;}#sk-container-id-10 div.sk-item {position: relative;z-index: 1;}#sk-container-id-10 div.sk-parallel {display: flex;align-items: stretch;justify-content: center;background-color: white;position: relative;}#sk-container-id-10 div.sk-item::before, #sk-container-id-10 div.sk-parallel-item::before {content: \"\";position: absolute;border-left: 1px solid gray;box-sizing: border-box;top: 0;bottom: 0;left: 50%;z-index: -1;}#sk-container-id-10 div.sk-parallel-item {display: flex;flex-direction: column;z-index: 1;position: relative;background-color: white;}#sk-container-id-10 div.sk-parallel-item:first-child::after {align-self: flex-end;width: 50%;}#sk-container-id-10 div.sk-parallel-item:last-child::after {align-self: flex-start;width: 50%;}#sk-container-id-10 div.sk-parallel-item:only-child::after {width: 0;}#sk-container-id-10 div.sk-dashed-wrapped {border: 1px dashed gray;margin: 0 0.4em 0.5em 0.4em;box-sizing: border-box;padding-bottom: 0.4em;background-color: white;}#sk-container-id-10 div.sk-label label {font-family: monospace;font-weight: bold;display: inline-block;line-height: 1.2em;}#sk-container-id-10 div.sk-label-container {text-align: center;}#sk-container-id-10 div.sk-container {/* jupyter's `normalize.less` sets `[hidden] { display: none; }` but bootstrap.min.css set `[hidden] { display: none !important; }` so we also need the `!important` here to be able to override the default hidden behavior on the sphinx rendered scikit-learn.org. See: https://github.com/scikit-learn/scikit-learn/issues/21755 */display: inline-block !important;position: relative;}#sk-container-id-10 div.sk-text-repr-fallback {display: none;}</style><div id=\"sk-container-id-10\" class=\"sk-top-container\"><div class=\"sk-text-repr-fallback\"><pre>RandomizedSearchCV(cv=StratifiedKFold(n_splits=5, random_state=None, shuffle=False),\n",
              "                   estimator=DecisionTreeClassifier(), n_iter=100,\n",
              "                   param_distributions={&#x27;ccp_alpha&#x27;: array([0.001     , 0.00104082, 0.00108163, 0.00112245, 0.00116327,\n",
              "       0.00120408, 0.0012449 , 0.00128571, 0.00132653, 0.00136735,\n",
              "       0.00140816, 0.00144898, 0.0014898 , 0.00153061, 0.00157143,\n",
              "       0.00161224, 0.00165306, 0....\n",
              "       0.00263265, 0.00267347, 0.00271429, 0.0027551 , 0.00279592,\n",
              "       0.00283673, 0.00287755, 0.00291837, 0.00295918, 0.003     ]),\n",
              "                                        &#x27;criterion&#x27;: [&#x27;entropy&#x27;, &#x27;gini&#x27;],\n",
              "                                        &#x27;max_depth&#x27;: [1, 2, 3, 4, 5, 6, 7, 8, 9,\n",
              "                                                      10, 11, 12, 13, 14, 15,\n",
              "                                                      16, 17, 18, 19],\n",
              "                                        &#x27;min_samples_leaf&#x27;: [1, 2, 3, 4, 5, 6,\n",
              "                                                             7, 8, 9],\n",
              "                                        &#x27;min_samples_split&#x27;: [2, 3, 4, 5, 6, 7,\n",
              "                                                              8, 9, 10, 11, 12,\n",
              "                                                              13, 14, 15, 16,\n",
              "                                                              17, 18, 19]},\n",
              "                   random_state=137,\n",
              "                   scoring=make_scorer(f1_score, average=micro))</pre><b>In a Jupyter environment, please rerun this cell to show the HTML representation or trust the notebook. <br />On GitHub, the HTML representation is unable to render, please try loading this page with nbviewer.org.</b></div><div class=\"sk-container\" hidden><div class=\"sk-item sk-dashed-wrapped\"><div class=\"sk-label-container\"><div class=\"sk-label sk-toggleable\"><input class=\"sk-toggleable__control sk-hidden--visually\" id=\"sk-estimator-id-18\" type=\"checkbox\" ><label for=\"sk-estimator-id-18\" class=\"sk-toggleable__label sk-toggleable__label-arrow\">RandomizedSearchCV</label><div class=\"sk-toggleable__content\"><pre>RandomizedSearchCV(cv=StratifiedKFold(n_splits=5, random_state=None, shuffle=False),\n",
              "                   estimator=DecisionTreeClassifier(), n_iter=100,\n",
              "                   param_distributions={&#x27;ccp_alpha&#x27;: array([0.001     , 0.00104082, 0.00108163, 0.00112245, 0.00116327,\n",
              "       0.00120408, 0.0012449 , 0.00128571, 0.00132653, 0.00136735,\n",
              "       0.00140816, 0.00144898, 0.0014898 , 0.00153061, 0.00157143,\n",
              "       0.00161224, 0.00165306, 0....\n",
              "       0.00263265, 0.00267347, 0.00271429, 0.0027551 , 0.00279592,\n",
              "       0.00283673, 0.00287755, 0.00291837, 0.00295918, 0.003     ]),\n",
              "                                        &#x27;criterion&#x27;: [&#x27;entropy&#x27;, &#x27;gini&#x27;],\n",
              "                                        &#x27;max_depth&#x27;: [1, 2, 3, 4, 5, 6, 7, 8, 9,\n",
              "                                                      10, 11, 12, 13, 14, 15,\n",
              "                                                      16, 17, 18, 19],\n",
              "                                        &#x27;min_samples_leaf&#x27;: [1, 2, 3, 4, 5, 6,\n",
              "                                                             7, 8, 9],\n",
              "                                        &#x27;min_samples_split&#x27;: [2, 3, 4, 5, 6, 7,\n",
              "                                                              8, 9, 10, 11, 12,\n",
              "                                                              13, 14, 15, 16,\n",
              "                                                              17, 18, 19]},\n",
              "                   random_state=137,\n",
              "                   scoring=make_scorer(f1_score, average=micro))</pre></div></div></div><div class=\"sk-parallel\"><div class=\"sk-parallel-item\"><div class=\"sk-item\"><div class=\"sk-label-container\"><div class=\"sk-label sk-toggleable\"><input class=\"sk-toggleable__control sk-hidden--visually\" id=\"sk-estimator-id-19\" type=\"checkbox\" ><label for=\"sk-estimator-id-19\" class=\"sk-toggleable__label sk-toggleable__label-arrow\">estimator: DecisionTreeClassifier</label><div class=\"sk-toggleable__content\"><pre>DecisionTreeClassifier()</pre></div></div></div><div class=\"sk-serial\"><div class=\"sk-item\"><div class=\"sk-estimator sk-toggleable\"><input class=\"sk-toggleable__control sk-hidden--visually\" id=\"sk-estimator-id-20\" type=\"checkbox\" ><label for=\"sk-estimator-id-20\" class=\"sk-toggleable__label sk-toggleable__label-arrow\">DecisionTreeClassifier</label><div class=\"sk-toggleable__content\"><pre>DecisionTreeClassifier()</pre></div></div></div></div></div></div></div></div></div></div>"
            ]
          },
          "metadata": {},
          "execution_count": 72
        }
      ]
    },
    {
      "cell_type": "markdown",
      "source": [
        "Veamos los mejores hiperparametros y el mejor puntaje en cross validation."
      ],
      "metadata": {
        "id": "4zR9S3exYhyo"
      }
    },
    {
      "cell_type": "code",
      "source": [
        "print(\"Mejores hiperparámetros: \", str(randomcv.best_params_))\n",
        "print(\"Mejor puntaje: \", str(randomcv.best_score_))"
      ],
      "metadata": {
        "colab": {
          "base_uri": "https://localhost:8080/"
        },
        "id": "ptnaz-LTYEv_",
        "outputId": "897d08bf-1c5a-4f6a-d5d2-a56a014fa697"
      },
      "execution_count": null,
      "outputs": [
        {
          "output_type": "stream",
          "name": "stdout",
          "text": [
            "Mejores hiperparámetros:  {'min_samples_split': 15, 'min_samples_leaf': 7, 'max_depth': 17, 'criterion': 'entropy', 'ccp_alpha': 0.0010408163265306122}\n",
            "Mejor puntaje:  0.5983248296277374\n"
          ]
        }
      ]
    },
    {
      "cell_type": "markdown",
      "source": [
        "Entreno el arbol con los mejores hiperparametros y predigo los valores del conjunto de test."
      ],
      "metadata": {
        "id": "K5CNGoxYYlU5"
      }
    },
    {
      "cell_type": "code",
      "source": [
        "arbol_100iter = DecisionTreeClassifier().set_params(**randomcv.best_params_)\n",
        "\n",
        "arbol_100iter.fit(X_train, y_train)\n",
        "\n",
        "y_pred_100iter = arbol_100iter.predict(X_test)"
      ],
      "metadata": {
        "id": "RkKQBm2uYLXJ"
      },
      "execution_count": null,
      "outputs": []
    },
    {
      "cell_type": "markdown",
      "source": [
        "Vemos la matriz de confusiones."
      ],
      "metadata": {
        "id": "PBGKPqClYqZN"
      }
    },
    {
      "cell_type": "code",
      "source": [
        "#Creo la matriz de confusión\n",
        "labels = [\"bajo\", \"medio\", \"alto\"]\n",
        "tabla = confusion_matrix(y_pred_100iter, y_test, labels=labels)\n",
        "\n",
        "#Grafico la matriz de confusión\n",
        "sns.heatmap(tabla, cmap='GnBu', annot=True, fmt='g', xticklabels=labels, yticklabels=labels)\n",
        "plt.xlabel('Predicted')\n",
        "plt.ylabel('True')"
      ],
      "metadata": {
        "colab": {
          "base_uri": "https://localhost:8080/"
        },
        "id": "h9CPA_GXYRWM",
        "outputId": "ea25d396-edd6-46a0-ac2b-b0fd3389aaa4"
      },
      "execution_count": null,
      "outputs": [
        {
          "output_type": "execute_result",
          "data": {
            "text/plain": [
              "Text(50.722222222222214, 0.5, 'True')"
            ]
          },
          "metadata": {},
          "execution_count": 75
        },
        {
          "output_type": "display_data",
          "data": {
            "text/plain": [
              "<Figure size 640x480 with 2 Axes>"
            ],
            "image/png": "[encoded data removed]"
          },
          "metadata": {}
        }
      ]
    },
    {
      "cell_type": "markdown",
      "source": [
        "Ahora muestro los scores en training."
      ],
      "metadata": {
        "id": "O5wDx827Ys96"
      }
    },
    {
      "cell_type": "code",
      "source": [
        "scores = cross_val_score(arbol_100iter, X_train, y_train, cv=kfoldcv)\n",
        "\n",
        "print(\"Scores de random search por cada fold: \", scores)"
      ],
      "metadata": {
        "colab": {
          "base_uri": "https://localhost:8080/"
        },
        "id": "VERp61yyYWzc",
        "outputId": "a11da7e2-d1b4-4045-8621-6d73975072a8"
      },
      "execution_count": null,
      "outputs": [
        {
          "output_type": "stream",
          "name": "stdout",
          "text": [
            "Scores de random search por cada fold:  [0.59883547 0.59570021 0.59671519 0.59626726 0.60410601]\n"
          ]
        }
      ]
    },
    {
      "cell_type": "markdown",
      "source": [
        "Muestro los scores en testing."
      ],
      "metadata": {
        "id": "HpZ7ouQNYw-z"
      }
    },
    {
      "cell_type": "code",
      "source": [
        "accuracy=accuracy_score(y_test, y_pred_100iter)\n",
        "recall=recall_score(y_test, y_pred_100iter, average='weighted')\n",
        "f1=f1_score(y_test, y_pred_100iter, average='weighted')\n",
        "precision=precision_score(y_test, y_pred_100iter, average='weighted')\n",
        "\n",
        "print(\"Accuracy: \"+str(accuracy))\n",
        "print(\"Recall: \"+str(recall))\n",
        "print(\"Precision: \"+str(precision))\n",
        "print(\"f1 score: \"+str(f1))"
      ],
      "metadata": {
        "colab": {
          "base_uri": "https://localhost:8080/"
        },
        "id": "uF7exLFBYZeU",
        "outputId": "c37ffb1b-f8aa-4f41-dd98-e201e3ae1392"
      },
      "execution_count": null,
      "outputs": [
        {
          "output_type": "stream",
          "name": "stdout",
          "text": [
            "Accuracy: 0.5891908032248432\n",
            "Recall: 0.5891908032248432\n",
            "Precision: 0.5966666382859791\n",
            "f1 score: 0.5748902658724793\n"
          ]
        }
      ]
    },
    {
      "cell_type": "markdown",
      "source": [
        "Muestro las reglas del árbol."
      ],
      "metadata": {
        "id": "mQlS78BwY0pM"
      }
    },
    {
      "cell_type": "code",
      "source": [
        "reglas = export_text(arbol_100iter, feature_names=list(features))\n",
        "print(reglas)"
      ],
      "metadata": {
        "colab": {
          "base_uri": "https://localhost:8080/"
        },
        "id": "Y6_VptkOYenf",
        "outputId": "e81c4002-37a2-45df-9fb7-8476e274678f"
      },
      "execution_count": null,
      "outputs": [
        {
          "output_type": "stream",
          "name": "stdout",
          "text": [
            "|--- latitud <= -34.60\n",
            "|   |--- neighbourhood_Puerto Madero <= 0.50\n",
            "|   |   |--- longitud <= -34.59\n",
            "|   |   |   |--- neighbourhood_Caballito <= 0.50\n",
            "|   |   |   |   |--- property_type_Departamento <= 0.50\n",
            "|   |   |   |   |   |--- property_surface_total <= 100.50\n",
            "|   |   |   |   |   |   |--- latitud <= -34.62\n",
            "|   |   |   |   |   |   |   |--- class: medio\n",
            "|   |   |   |   |   |   |--- latitud >  -34.62\n",
            "|   |   |   |   |   |   |   |--- class: medio\n",
            "|   |   |   |   |   |--- property_surface_total >  100.50\n",
            "|   |   |   |   |   |   |--- latitud <= -34.64\n",
            "|   |   |   |   |   |   |   |--- class: bajo\n",
            "|   |   |   |   |   |   |--- latitud >  -34.64\n",
            "|   |   |   |   |   |   |   |--- class: medio\n",
            "|   |   |   |   |--- property_type_Departamento >  0.50\n",
            "|   |   |   |   |   |--- latitud <= -34.60\n",
            "|   |   |   |   |   |   |--- longitud <= -58.42\n",
            "|   |   |   |   |   |   |   |--- latitud <= -34.62\n",
            "|   |   |   |   |   |   |   |   |--- latitud <= -34.66\n",
            "|   |   |   |   |   |   |   |   |   |--- class: bajo\n",
            "|   |   |   |   |   |   |   |   |--- latitud >  -34.66\n",
            "|   |   |   |   |   |   |   |   |   |--- class: bajo\n",
            "|   |   |   |   |   |   |   |--- latitud >  -34.62\n",
            "|   |   |   |   |   |   |   |   |--- property_surface_total <= 64.29\n",
            "|   |   |   |   |   |   |   |   |   |--- class: medio\n",
            "|   |   |   |   |   |   |   |   |--- property_surface_total >  64.29\n",
            "|   |   |   |   |   |   |   |   |   |--- class: medio\n",
            "|   |   |   |   |   |   |--- longitud >  -58.42\n",
            "|   |   |   |   |   |   |   |--- longitud <= -58.38\n",
            "|   |   |   |   |   |   |   |   |--- property_surface_total <= 55.05\n",
            "|   |   |   |   |   |   |   |   |   |--- class: bajo\n",
            "|   |   |   |   |   |   |   |   |--- property_surface_total >  55.05\n",
            "|   |   |   |   |   |   |   |   |   |--- class: bajo\n",
            "|   |   |   |   |   |   |   |--- longitud >  -58.38\n",
            "|   |   |   |   |   |   |   |   |--- neighbourhood_Boca <= 0.50\n",
            "|   |   |   |   |   |   |   |   |   |--- class: medio\n",
            "|   |   |   |   |   |   |   |   |--- neighbourhood_Boca >  0.50\n",
            "|   |   |   |   |   |   |   |   |   |--- class: bajo\n",
            "|   |   |   |   |   |--- latitud >  -34.60\n",
            "|   |   |   |   |   |   |--- property_surface_total <= 60.13\n",
            "|   |   |   |   |   |   |   |--- class: medio\n",
            "|   |   |   |   |   |   |--- property_surface_total >  60.13\n",
            "|   |   |   |   |   |   |   |--- property_surface_covered <= 40.50\n",
            "|   |   |   |   |   |   |   |   |--- class: bajo\n",
            "|   |   |   |   |   |   |   |--- property_surface_covered >  40.50\n",
            "|   |   |   |   |   |   |   |   |--- longitud <= -58.41\n",
            "|   |   |   |   |   |   |   |   |   |--- class: medio\n",
            "|   |   |   |   |   |   |   |   |--- longitud >  -58.41\n",
            "|   |   |   |   |   |   |   |   |   |--- class: bajo\n",
            "|   |   |   |--- neighbourhood_Caballito >  0.50\n",
            "|   |   |   |   |--- latitud <= -34.62\n",
            "|   |   |   |   |   |--- class: medio\n",
            "|   |   |   |   |--- latitud >  -34.62\n",
            "|   |   |   |   |   |--- property_type_Departamento <= 0.50\n",
            "|   |   |   |   |   |   |--- class: medio\n",
            "|   |   |   |   |   |--- property_type_Departamento >  0.50\n",
            "|   |   |   |   |   |   |--- class: medio\n",
            "|   |   |--- longitud >  -34.59\n",
            "|   |   |   |--- class: medio\n",
            "|   |--- neighbourhood_Puerto Madero >  0.50\n",
            "|   |   |--- class: alto\n",
            "|--- latitud >  -34.60\n",
            "|   |--- longitud <= -58.47\n",
            "|   |   |--- property_type_Departamento <= 0.50\n",
            "|   |   |   |--- property_surface_total <= 113.50\n",
            "|   |   |   |   |--- class: alto\n",
            "|   |   |   |--- property_surface_total >  113.50\n",
            "|   |   |   |   |--- class: medio\n",
            "|   |   |--- property_type_Departamento >  0.50\n",
            "|   |   |   |--- property_surface_total <= 47.50\n",
            "|   |   |   |   |--- class: medio\n",
            "|   |   |   |--- property_surface_total >  47.50\n",
            "|   |   |   |   |--- property_surface_covered <= 40.50\n",
            "|   |   |   |   |   |--- class: bajo\n",
            "|   |   |   |   |--- property_surface_covered >  40.50\n",
            "|   |   |   |   |   |--- neighbourhood_Villa Urquiza <= 0.50\n",
            "|   |   |   |   |   |   |--- class: medio\n",
            "|   |   |   |   |   |--- neighbourhood_Villa Urquiza >  0.50\n",
            "|   |   |   |   |   |   |--- class: medio\n",
            "|   |--- longitud >  -58.47\n",
            "|   |   |--- latitud <= -34.59\n",
            "|   |   |   |--- longitud <= -58.44\n",
            "|   |   |   |   |--- class: medio\n",
            "|   |   |   |--- longitud >  -58.44\n",
            "|   |   |   |   |--- class: medio\n",
            "|   |   |--- latitud >  -34.59\n",
            "|   |   |   |--- property_surface_covered <= 97.21\n",
            "|   |   |   |   |--- longitud <= -58.44\n",
            "|   |   |   |   |   |--- latitud <= -34.57\n",
            "|   |   |   |   |   |   |--- longitud <= -58.45\n",
            "|   |   |   |   |   |   |   |--- class: medio\n",
            "|   |   |   |   |   |   |--- longitud >  -58.45\n",
            "|   |   |   |   |   |   |   |--- latitud <= -34.59\n",
            "|   |   |   |   |   |   |   |   |--- class: bajo\n",
            "|   |   |   |   |   |   |   |--- latitud >  -34.59\n",
            "|   |   |   |   |   |   |   |   |--- class: medio\n",
            "|   |   |   |   |   |--- latitud >  -34.57\n",
            "|   |   |   |   |   |   |--- property_surface_total <= 55.05\n",
            "|   |   |   |   |   |   |   |--- class: medio\n",
            "|   |   |   |   |   |   |--- property_surface_total >  55.05\n",
            "|   |   |   |   |   |   |   |--- property_surface_covered <= 45.50\n",
            "|   |   |   |   |   |   |   |   |--- class: bajo\n",
            "|   |   |   |   |   |   |   |--- property_surface_covered >  45.50\n",
            "|   |   |   |   |   |   |   |   |--- latitud <= -34.56\n",
            "|   |   |   |   |   |   |   |   |   |--- class: medio\n",
            "|   |   |   |   |   |   |   |   |--- latitud >  -34.56\n",
            "|   |   |   |   |   |   |   |   |   |--- class: alto\n",
            "|   |   |   |   |--- longitud >  -58.44\n",
            "|   |   |   |   |   |--- latitud <= -34.58\n",
            "|   |   |   |   |   |   |--- longitud <= -58.40\n",
            "|   |   |   |   |   |   |   |--- property_surface_total <= 42.50\n",
            "|   |   |   |   |   |   |   |   |--- class: medio\n",
            "|   |   |   |   |   |   |   |--- property_surface_total >  42.50\n",
            "|   |   |   |   |   |   |   |   |--- property_surface_covered <= 37.50\n",
            "|   |   |   |   |   |   |   |   |   |--- class: bajo\n",
            "|   |   |   |   |   |   |   |   |--- property_surface_covered >  37.50\n",
            "|   |   |   |   |   |   |   |   |   |--- class: medio\n",
            "|   |   |   |   |   |   |--- longitud >  -58.40\n",
            "|   |   |   |   |   |   |   |--- class: alto\n",
            "|   |   |   |   |   |--- latitud >  -34.58\n",
            "|   |   |   |   |   |   |--- longitud <= -58.42\n",
            "|   |   |   |   |   |   |   |--- class: alto\n",
            "|   |   |   |   |   |   |--- longitud >  -58.42\n",
            "|   |   |   |   |   |   |   |--- class: alto\n",
            "|   |   |   |--- property_surface_covered >  97.21\n",
            "|   |   |   |   |--- latitud <= -34.58\n",
            "|   |   |   |   |   |--- class: medio\n",
            "|   |   |   |   |--- latitud >  -34.58\n",
            "|   |   |   |   |   |--- longitud <= -58.45\n",
            "|   |   |   |   |   |   |--- class: alto\n",
            "|   |   |   |   |   |--- longitud >  -58.45\n",
            "|   |   |   |   |   |   |--- class: alto\n",
            "\n"
          ]
        }
      ]
    },
    {
      "cell_type": "markdown",
      "source": [
        "Muestro las importancias de los features."
      ],
      "metadata": {
        "id": "aNk7yLV6Y23b"
      }
    },
    {
      "cell_type": "code",
      "source": [
        "sorted(list(zip(df_x.columns.to_list(), arbol_100iter.feature_importances_)), key=lambda x: -x[1])"
      ],
      "metadata": {
        "colab": {
          "base_uri": "https://localhost:8080/"
        },
        "id": "tzyB804-Ygce",
        "outputId": "adb9eba2-aa41-4a8f-a072-4a8565954431"
      },
      "execution_count": null,
      "outputs": [
        {
          "output_type": "execute_result",
          "data": {
            "text/plain": [
              "[('latitud', 0.4849951159419233),\n",
              " ('longitud', 0.176192741786207),\n",
              " ('neighbourhood_Puerto Madero', 0.13143995905921815),\n",
              " ('neighbourhood_Caballito', 0.06219115917822615),\n",
              " ('property_surface_total', 0.0546466872821378),\n",
              " ('property_surface_covered', 0.04686660562180559),\n",
              " ('property_type_Departamento', 0.03275619398365095),\n",
              " ('neighbourhood_Boca', 0.006405134125026868),\n",
              " ('neighbourhood_Villa Urquiza', 0.004506403021804173),\n",
              " ('property_rooms', 0.0),\n",
              " ('property_bedrooms', 0.0),\n",
              " ('property_type_PH', 0.0),\n",
              " ('neighbourhood_Agronomía', 0.0),\n",
              " ('neighbourhood_Almagro', 0.0),\n",
              " ('neighbourhood_Balvanera', 0.0),\n",
              " ('neighbourhood_Barracas', 0.0),\n",
              " ('neighbourhood_Barrio Norte', 0.0),\n",
              " ('neighbourhood_Belgrano', 0.0),\n",
              " ('neighbourhood_Boedo', 0.0),\n",
              " ('neighbourhood_Catalinas', 0.0),\n",
              " ('neighbourhood_Centro / Microcentro', 0.0),\n",
              " ('neighbourhood_Chacarita', 0.0),\n",
              " ('neighbourhood_Coghlan', 0.0),\n",
              " ('neighbourhood_Colegiales', 0.0),\n",
              " ('neighbourhood_Congreso', 0.0),\n",
              " ('neighbourhood_Constitución', 0.0),\n",
              " ('neighbourhood_Flores', 0.0),\n",
              " ('neighbourhood_Floresta', 0.0),\n",
              " ('neighbourhood_Las Cañitas', 0.0),\n",
              " ('neighbourhood_Liniers', 0.0),\n",
              " ('neighbourhood_Mataderos', 0.0),\n",
              " ('neighbourhood_Monserrat', 0.0),\n",
              " ('neighbourhood_Monte Castro', 0.0),\n",
              " ('neighbourhood_Nuñez', 0.0),\n",
              " ('neighbourhood_Once', 0.0),\n",
              " ('neighbourhood_Palermo', 0.0),\n",
              " ('neighbourhood_Parque Avellaneda', 0.0),\n",
              " ('neighbourhood_Parque Centenario', 0.0),\n",
              " ('neighbourhood_Parque Chacabuco', 0.0),\n",
              " ('neighbourhood_Parque Chas', 0.0),\n",
              " ('neighbourhood_Parque Patricios', 0.0),\n",
              " ('neighbourhood_Paternal', 0.0),\n",
              " ('neighbourhood_Pompeya', 0.0),\n",
              " ('neighbourhood_Recoleta', 0.0),\n",
              " ('neighbourhood_Retiro', 0.0),\n",
              " ('neighbourhood_Saavedra', 0.0),\n",
              " ('neighbourhood_San Cristobal', 0.0),\n",
              " ('neighbourhood_San Nicolás', 0.0),\n",
              " ('neighbourhood_San Telmo', 0.0),\n",
              " ('neighbourhood_Tribunales', 0.0),\n",
              " ('neighbourhood_Velez Sarsfield', 0.0),\n",
              " ('neighbourhood_Versalles', 0.0),\n",
              " ('neighbourhood_Villa Crespo', 0.0),\n",
              " ('neighbourhood_Villa Devoto', 0.0),\n",
              " ('neighbourhood_Villa General Mitre', 0.0),\n",
              " ('neighbourhood_Villa Lugano', 0.0),\n",
              " ('neighbourhood_Villa Luro', 0.0),\n",
              " ('neighbourhood_Villa Ortuzar', 0.0),\n",
              " ('neighbourhood_Villa Pueyrredón', 0.0),\n",
              " ('neighbourhood_Villa Real', 0.0),\n",
              " ('neighbourhood_Villa Riachuelo', 0.0),\n",
              " ('neighbourhood_Villa Santa Rita', 0.0),\n",
              " ('neighbourhood_Villa Soldati', 0.0),\n",
              " ('neighbourhood_Villa del Parque', 0.0)]"
            ]
          },
          "metadata": {},
          "execution_count": 79
        }
      ]
    },
    {
      "cell_type": "markdown",
      "source": [
        "## Visualización del árbol con mejor performance"
      ],
      "metadata": {
        "id": "5veVpYHEqJsK"
      }
    },
    {
      "cell_type": "markdown",
      "source": [
        "Ya que la forma de visualizar las reglas del árbol con mejor performance resulta algo engorrosa, lo visualizo mediante otras librerias que nos den una mejor imágen del mismo. Opto por visualizar 5 niveles del árbol generado en la sección de escalado de superficies, ya que el árbol con los parámetros por defecto podría estar haciendo overfitting al conjunto de datos de entrenamiento."
      ],
      "metadata": {
        "id": "tdaCYlXtqOB4"
      }
    },
    {
      "cell_type": "code",
      "source": [
        "dot_data = StringIO()\n",
        "export_graphviz(arbol_escalado, out_file=dot_data,\n",
        "                filled=True, rounded=True,\n",
        "                special_characters=True,\n",
        "                feature_names=features,\n",
        "                class_names=['bajo','medio','alto'],\n",
        "                max_depth=3)\n",
        "\n",
        "graph = pydotplus.graph_from_dot_data(dot_data.getvalue())\n",
        "Image(graph.create_png())"
      ],
      "metadata": {
        "colab": {
          "base_uri": "https://localhost:8080/"
        },
        "id": "txGm0Ga7qXGn",
        "outputId": "76e6b38b-5702-438f-bea6-7c7b686aeb25"
      },
      "execution_count": null,
      "outputs": [
        {
          "output_type": "execute_result",
          "data": {
            "image/png": "[encoded data removed]",
            "text/plain": [
              "<IPython.core.display.Image object>"
            ]
          },
          "metadata": {},
          "execution_count": 80
        }
      ]
    },
    {
      "cell_type": "markdown",
      "source": [
        "## Guardado del modelo"
      ],
      "metadata": {
        "id": "yYYjVF16XEQ_"
      }
    },
    {
      "cell_type": "markdown",
      "source": [
        "Exporto el modelo obtenido con joblib."
      ],
      "metadata": {
        "id": "io8TqMVhXJLt"
      }
    },
    {
      "cell_type": "code",
      "source": [
        "import joblib\n",
        "\n",
        "joblib.dump(arbol_escalado, \"arbol_decision.joblib\")"
      ],
      "metadata": {
        "colab": {
          "base_uri": "https://localhost:8080/"
        },
        "id": "91bDTJr4XL2g",
        "outputId": "9f9786dc-b62f-437f-da69-dfdaed613b04"
      },
      "execution_count": null,
      "outputs": [
        {
          "output_type": "execute_result",
          "data": {
            "text/plain": [
              "['arbol_decision.model']"
            ]
          },
          "metadata": {},
          "execution_count": 81
        }
      ]
    },
    {
      "cell_type": "markdown",
      "source": [
        "## Conclusiones"
      ],
      "metadata": {
        "id": "KtNcJS5XaMUI"
      }
    },
    {
      "cell_type": "markdown",
      "source": [
        "De todo el desarrollo y entrenamiento de los árboles se puede concluir que la latitud y la longitud son las features más importantes para predecir el tipo de precio de un aviso de una propiedad, sin embargo los árboles de decisión por si mismos resultaron ser un modelo que no tiene muy buenas métricas para nuestro dataset, siendo el accuracy más elevado del 70%, y un f1 score de 0,70 en testing cuando se utilizan los parámetros por defecto del árbol de decisión. Este es un resultado poco convincente y por ello optamos por no considerar este árbol, e ir por los que hallamos mediante Random Search con superficies escaladas de manera estándar, siendo la mejor accuracy del 59%, con un f1 score de 0,576 (aproximadamente).\n",
        "\n",
        "Al aumentar las iteraciones a 100 no se mejoraron tanto los parámetros en comparación con la primera optimización hecha con random search.\n",
        "\n",
        "También notamos que hay 3 features que tienen importancia nula sobre las decisiones, siendo estas `property_rooms`, `property_bedrooms` y `property_type_PH`, así como muchas de las variables aso"
      ],
      "metadata": {
        "id": "TChyzk9KY6vR"
      }
    }
  ],
  "metadata": {
    "colab": {
      "provenance": [],
      "collapsed_sections": [
        "eX_ljnrBV3VV",
        "0L22UOJrLNt5",
        "rfqWpvjwXrft",
        "mDHL3tnqXrf_",
        "l0Gyq0quXrgC"
      ],
      "toc_visible": true
    },
    "kernelspec": {
      "display_name": "Python 3",
      "name": "python3"
    },
    "language_info": {
      "name": "python"
    }
  },
  "nbformat": 4,
  "nbformat_minor": 0
}